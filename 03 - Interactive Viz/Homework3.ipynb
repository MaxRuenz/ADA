{
 "cells": [
  {
   "cell_type": "markdown",
   "metadata": {},
   "source": [
    "# Homework 3"
   ]
  },
  {
   "cell_type": "markdown",
   "metadata": {},
   "source": [
    "Before starting notebook, activate viz: *jupyter nbextension enable vega --py*"
   ]
  },
  {
   "cell_type": "code",
   "execution_count": 78,
   "metadata": {
    "collapsed": true
   },
   "outputs": [],
   "source": [
    "import pandas as pd\n",
    "import numpy as np\n",
    "import folium\n",
    "import branca.colormap as cm\n",
    "import json\n",
    "import os\n",
    "import csv\n",
    "%matplotlib inline"
   ]
  },
  {
   "cell_type": "markdown",
   "metadata": {},
   "source": [
    "## Initial variables and helper functions"
   ]
  },
  {
   "cell_type": "code",
   "execution_count": 79,
   "metadata": {
    "collapsed": true
   },
   "outputs": [],
   "source": [
    "topo_path_json_eu = os.path.join('topojson', 'europe.topojson.json')\n",
    "topo_path_json_ch = os.path.join('topojson', 'ch-cantons.topojson.json')\n",
    "\n",
    "path_unemployment_eu_month = os.path.join('FetchedData', 'Unemployment_rate_EU.tsv')\n",
    "\n",
    "color_undef = \"#bdbdbd\"\n",
    "\n",
    "# picked with colorbrewer, orange since unemployment rate is bad\n",
    "color_classes = ['#fef0d9','#fdcc8a','#fc8d59','#e34a33','#b30000']"
   ]
  },
  {
   "cell_type": "markdown",
   "metadata": {},
   "source": [
    "## Our definition of unemployment rate"
   ]
  },
  {
   "cell_type": "markdown",
   "metadata": {},
   "source": [
    "We define unemployment rate as the quaterly seasonal adjusted rate of people who declared their unemployment, while having no job.\n",
    "We do not differentiate between male and female or ages."
   ]
  },
  {
   "cell_type": "markdown",
   "metadata": {},
   "source": [
    "## Unemployment rate in Europe at a country level"
   ]
  },
  {
   "cell_type": "markdown",
   "metadata": {},
   "source": [
    "The chosen dataset from the EU contains information for people of the ages 15 - 74.  \n",
    "We picked the dataset which differentiates between education, because it contains Switzerland. The basic datasets did not contain Switzerland.  \n",
    "In order to calculate the total unemployment rate we took the mean of the unemployment rate of the educational classes."
   ]
  },
  {
   "cell_type": "code",
   "execution_count": 80,
   "metadata": {
    "collapsed": true,
    "scrolled": false
   },
   "outputs": [],
   "source": [
    "map_europe = folium.Map([57,18], zoom_start=3)"
   ]
  },
  {
   "cell_type": "markdown",
   "metadata": {},
   "source": [
    "### Preprocess downloaded data"
   ]
  },
  {
   "cell_type": "code",
   "execution_count": 81,
   "metadata": {},
   "outputs": [
    {
     "data": {
      "text/html": [
       "<div>\n",
       "<style>\n",
       "    .dataframe thead tr:only-child th {\n",
       "        text-align: right;\n",
       "    }\n",
       "\n",
       "    .dataframe thead th {\n",
       "        text-align: left;\n",
       "    }\n",
       "\n",
       "    .dataframe tbody tr th {\n",
       "        vertical-align: top;\n",
       "    }\n",
       "</style>\n",
       "<table border=\"1\" class=\"dataframe\">\n",
       "  <thead>\n",
       "    <tr style=\"text-align: right;\">\n",
       "      <th></th>\n",
       "      <th>sex,isced11,age,s_adj,unit,geo\\time</th>\n",
       "      <th>2017Q2</th>\n",
       "      <th>2017Q1</th>\n",
       "      <th>2016Q4</th>\n",
       "      <th>2016Q3</th>\n",
       "      <th>2016Q2</th>\n",
       "      <th>2016Q1</th>\n",
       "      <th>2015Q4</th>\n",
       "      <th>2015Q3</th>\n",
       "      <th>2015Q2</th>\n",
       "      <th>...</th>\n",
       "      <th>2000Q2</th>\n",
       "      <th>2000Q1</th>\n",
       "      <th>1999Q4</th>\n",
       "      <th>1999Q3</th>\n",
       "      <th>1999Q2</th>\n",
       "      <th>1999Q1</th>\n",
       "      <th>1998Q4</th>\n",
       "      <th>1998Q3</th>\n",
       "      <th>1998Q2</th>\n",
       "      <th>1998Q1</th>\n",
       "    </tr>\n",
       "  </thead>\n",
       "  <tbody>\n",
       "    <tr>\n",
       "      <th>0</th>\n",
       "      <td>F,ED0-2,Y15-74,NSA,PC_ACT,AT</td>\n",
       "      <td>11.2</td>\n",
       "      <td>12.3</td>\n",
       "      <td>11.4</td>\n",
       "      <td>11.3</td>\n",
       "      <td>10.6</td>\n",
       "      <td>10.3</td>\n",
       "      <td>9.8</td>\n",
       "      <td>9.3</td>\n",
       "      <td>9.6</td>\n",
       "      <td>...</td>\n",
       "      <td>5.7</td>\n",
       "      <td>7.3</td>\n",
       "      <td>5.5</td>\n",
       "      <td>5.0</td>\n",
       "      <td>4.7</td>\n",
       "      <td>6.7</td>\n",
       "      <td>:</td>\n",
       "      <td>:</td>\n",
       "      <td>:</td>\n",
       "      <td>8.6</td>\n",
       "    </tr>\n",
       "    <tr>\n",
       "      <th>1</th>\n",
       "      <td>F,ED0-2,Y15-74,NSA,PC_ACT,BE</td>\n",
       "      <td>14.3</td>\n",
       "      <td>17.5 b</td>\n",
       "      <td>13.0</td>\n",
       "      <td>17.4</td>\n",
       "      <td>16.7</td>\n",
       "      <td>17.3</td>\n",
       "      <td>16.4</td>\n",
       "      <td>14.7</td>\n",
       "      <td>15.8</td>\n",
       "      <td>...</td>\n",
       "      <td>14.1</td>\n",
       "      <td>15.8</td>\n",
       "      <td>16.3</td>\n",
       "      <td>16.9</td>\n",
       "      <td>17.3</td>\n",
       "      <td>18.8 b</td>\n",
       "      <td>:</td>\n",
       "      <td>:</td>\n",
       "      <td>19.3</td>\n",
       "      <td>:</td>\n",
       "    </tr>\n",
       "    <tr>\n",
       "      <th>2</th>\n",
       "      <td>F,ED0-2,Y15-74,NSA,PC_ACT,BG</td>\n",
       "      <td>19.1</td>\n",
       "      <td>26.0</td>\n",
       "      <td>22.1</td>\n",
       "      <td>20.9</td>\n",
       "      <td>24.2</td>\n",
       "      <td>26.8</td>\n",
       "      <td>24.8</td>\n",
       "      <td>24.5</td>\n",
       "      <td>26.0</td>\n",
       "      <td>...</td>\n",
       "      <td>27.2</td>\n",
       "      <td>34.9</td>\n",
       "      <td>:</td>\n",
       "      <td>:</td>\n",
       "      <td>:</td>\n",
       "      <td>:</td>\n",
       "      <td>:</td>\n",
       "      <td>:</td>\n",
       "      <td>:</td>\n",
       "      <td>:</td>\n",
       "    </tr>\n",
       "    <tr>\n",
       "      <th>3</th>\n",
       "      <td>F,ED0-2,Y15-74,NSA,PC_ACT,CH</td>\n",
       "      <td>8.5</td>\n",
       "      <td>9.4</td>\n",
       "      <td>9.2</td>\n",
       "      <td>9.1</td>\n",
       "      <td>9.4</td>\n",
       "      <td>9.3</td>\n",
       "      <td>7.5</td>\n",
       "      <td>11.3</td>\n",
       "      <td>9.0</td>\n",
       "      <td>...</td>\n",
       "      <td>:</td>\n",
       "      <td>:</td>\n",
       "      <td>:</td>\n",
       "      <td>:</td>\n",
       "      <td>:</td>\n",
       "      <td>:</td>\n",
       "      <td>:</td>\n",
       "      <td>:</td>\n",
       "      <td>:</td>\n",
       "      <td>:</td>\n",
       "    </tr>\n",
       "    <tr>\n",
       "      <th>4</th>\n",
       "      <td>F,ED0-2,Y15-74,NSA,PC_ACT,CY</td>\n",
       "      <td>11.5</td>\n",
       "      <td>14.2</td>\n",
       "      <td>13.0</td>\n",
       "      <td>10.9</td>\n",
       "      <td>12.3</td>\n",
       "      <td>13.9</td>\n",
       "      <td>8.5</td>\n",
       "      <td>13.4</td>\n",
       "      <td>16.1</td>\n",
       "      <td>...</td>\n",
       "      <td>8.6</td>\n",
       "      <td>:</td>\n",
       "      <td>:</td>\n",
       "      <td>:</td>\n",
       "      <td>:</td>\n",
       "      <td>:</td>\n",
       "      <td>:</td>\n",
       "      <td>:</td>\n",
       "      <td>:</td>\n",
       "      <td>:</td>\n",
       "    </tr>\n",
       "  </tbody>\n",
       "</table>\n",
       "<p>5 rows × 79 columns</p>\n",
       "</div>"
      ],
      "text/plain": [
       "  sex,isced11,age,s_adj,unit,geo\\time 2017Q2  2017Q1  2016Q4  2016Q3  2016Q2   \\\n",
       "0        F,ED0-2,Y15-74,NSA,PC_ACT,AT   11.2    12.3    11.4    11.3    10.6    \n",
       "1        F,ED0-2,Y15-74,NSA,PC_ACT,BE   14.3   17.5 b   13.0    17.4    16.7    \n",
       "2        F,ED0-2,Y15-74,NSA,PC_ACT,BG   19.1    26.0    22.1    20.9    24.2    \n",
       "3        F,ED0-2,Y15-74,NSA,PC_ACT,CH    8.5     9.4     9.2     9.1     9.4    \n",
       "4        F,ED0-2,Y15-74,NSA,PC_ACT,CY   11.5    14.2    13.0    10.9    12.3    \n",
       "\n",
       "  2016Q1  2015Q4  2015Q3  2015Q2    ...   2000Q2  2000Q1  1999Q4  1999Q3   \\\n",
       "0   10.3     9.8     9.3     9.6    ...      5.7     7.3     5.5     5.0    \n",
       "1   17.3    16.4    14.7    15.8    ...     14.1    15.8    16.3    16.9    \n",
       "2   26.8    24.8    24.5    26.0    ...     27.2    34.9       :       :    \n",
       "3    9.3     7.5    11.3     9.0    ...        :       :       :       :    \n",
       "4   13.9     8.5    13.4    16.1    ...      8.6       :       :       :    \n",
       "\n",
       "  1999Q2  1999Q1  1998Q4  1998Q3  1998Q2  1998Q1   \n",
       "0    4.7     6.7       :       :       :     8.6   \n",
       "1   17.3   18.8 b      :       :    19.3       :   \n",
       "2      :       :       :       :       :       :   \n",
       "3      :       :       :       :       :       :   \n",
       "4      :       :       :       :       :       :   \n",
       "\n",
       "[5 rows x 79 columns]"
      ]
     },
     "execution_count": 81,
     "metadata": {},
     "output_type": "execute_result"
    }
   ],
   "source": [
    "df_unemployment_eu_month = pd.read_csv(path_unemployment_eu_month, sep='\\t')\n",
    "df_unemployment_eu_month.head()"
   ]
  },
  {
   "cell_type": "code",
   "execution_count": 82,
   "metadata": {},
   "outputs": [
    {
     "data": {
      "text/html": [
       "<div>\n",
       "<style>\n",
       "    .dataframe thead tr:only-child th {\n",
       "        text-align: right;\n",
       "    }\n",
       "\n",
       "    .dataframe thead th {\n",
       "        text-align: left;\n",
       "    }\n",
       "\n",
       "    .dataframe tbody tr th {\n",
       "        vertical-align: top;\n",
       "    }\n",
       "</style>\n",
       "<table border=\"1\" class=\"dataframe\">\n",
       "  <thead>\n",
       "    <tr style=\"text-align: right;\">\n",
       "      <th></th>\n",
       "      <th>sex,isced11,age,s_adj,unit,geo\\time</th>\n",
       "      <th>2017Q2</th>\n",
       "    </tr>\n",
       "  </thead>\n",
       "  <tbody>\n",
       "    <tr>\n",
       "      <th>0</th>\n",
       "      <td>F,ED0-2,Y15-74,NSA,PC_ACT,AT</td>\n",
       "      <td>11.2</td>\n",
       "    </tr>\n",
       "    <tr>\n",
       "      <th>1</th>\n",
       "      <td>F,ED0-2,Y15-74,NSA,PC_ACT,BE</td>\n",
       "      <td>14.3</td>\n",
       "    </tr>\n",
       "    <tr>\n",
       "      <th>2</th>\n",
       "      <td>F,ED0-2,Y15-74,NSA,PC_ACT,BG</td>\n",
       "      <td>19.1</td>\n",
       "    </tr>\n",
       "    <tr>\n",
       "      <th>3</th>\n",
       "      <td>F,ED0-2,Y15-74,NSA,PC_ACT,CH</td>\n",
       "      <td>8.5</td>\n",
       "    </tr>\n",
       "    <tr>\n",
       "      <th>4</th>\n",
       "      <td>F,ED0-2,Y15-74,NSA,PC_ACT,CY</td>\n",
       "      <td>11.5</td>\n",
       "    </tr>\n",
       "  </tbody>\n",
       "</table>\n",
       "</div>"
      ],
      "text/plain": [
       "  sex,isced11,age,s_adj,unit,geo\\time 2017Q2 \n",
       "0        F,ED0-2,Y15-74,NSA,PC_ACT,AT   11.2 \n",
       "1        F,ED0-2,Y15-74,NSA,PC_ACT,BE   14.3 \n",
       "2        F,ED0-2,Y15-74,NSA,PC_ACT,BG   19.1 \n",
       "3        F,ED0-2,Y15-74,NSA,PC_ACT,CH    8.5 \n",
       "4        F,ED0-2,Y15-74,NSA,PC_ACT,CY   11.5 "
      ]
     },
     "execution_count": 82,
     "metadata": {},
     "output_type": "execute_result"
    }
   ],
   "source": [
    "# Filter colums: Only use latest month\n",
    "cols_drop = [i for i in range(2,len(df_unemployment_eu_month.columns))]\n",
    "df_unemployment_eu_month_clean = df_unemployment_eu_month.drop(df_unemployment_eu_month.columns[cols_drop], axis=1)\n",
    "df_unemployment_eu_month_clean.head()"
   ]
  },
  {
   "cell_type": "code",
   "execution_count": 83,
   "metadata": {},
   "outputs": [
    {
     "name": "stderr",
     "output_type": "stream",
     "text": [
      "/Users/besmaelketroussi/anaconda/lib/python3.6/site-packages/ipykernel_launcher.py:10: UserWarning: This pattern has match groups. To actually get the groups, use str.extract.\n",
      "  # Remove the CWD from sys.path while we load stuff.\n"
     ]
    },
    {
     "data": {
      "text/html": [
       "<div>\n",
       "<style>\n",
       "    .dataframe thead tr:only-child th {\n",
       "        text-align: right;\n",
       "    }\n",
       "\n",
       "    .dataframe thead th {\n",
       "        text-align: left;\n",
       "    }\n",
       "\n",
       "    .dataframe tbody tr th {\n",
       "        vertical-align: top;\n",
       "    }\n",
       "</style>\n",
       "<table border=\"1\" class=\"dataframe\">\n",
       "  <thead>\n",
       "    <tr style=\"text-align: right;\">\n",
       "      <th></th>\n",
       "      <th>sex,isced11,age,s_adj,unit,geo\\time</th>\n",
       "      <th>2017Q2</th>\n",
       "    </tr>\n",
       "  </thead>\n",
       "  <tbody>\n",
       "    <tr>\n",
       "      <th>4368</th>\n",
       "      <td>T,ED0-2,Y15-74,SA,PC_ACT,AT</td>\n",
       "      <td>13.1</td>\n",
       "    </tr>\n",
       "    <tr>\n",
       "      <th>4369</th>\n",
       "      <td>T,ED0-2,Y15-74,SA,PC_ACT,BE</td>\n",
       "      <td>15.2</td>\n",
       "    </tr>\n",
       "    <tr>\n",
       "      <th>4370</th>\n",
       "      <td>T,ED0-2,Y15-74,SA,PC_ACT,BG</td>\n",
       "      <td>18.5</td>\n",
       "    </tr>\n",
       "    <tr>\n",
       "      <th>4371</th>\n",
       "      <td>T,ED0-2,Y15-74,SA,PC_ACT,CH</td>\n",
       "      <td>8.4</td>\n",
       "    </tr>\n",
       "    <tr>\n",
       "      <th>4372</th>\n",
       "      <td>T,ED0-2,Y15-74,SA,PC_ACT,CY</td>\n",
       "      <td>14.8</td>\n",
       "    </tr>\n",
       "  </tbody>\n",
       "</table>\n",
       "</div>"
      ],
      "text/plain": [
       "     sex,isced11,age,s_adj,unit,geo\\time 2017Q2 \n",
       "4368         T,ED0-2,Y15-74,SA,PC_ACT,AT   13.1 \n",
       "4369         T,ED0-2,Y15-74,SA,PC_ACT,BE   15.2 \n",
       "4370         T,ED0-2,Y15-74,SA,PC_ACT,BG   18.5 \n",
       "4371         T,ED0-2,Y15-74,SA,PC_ACT,CH    8.4 \n",
       "4372         T,ED0-2,Y15-74,SA,PC_ACT,CY   14.8 "
      ]
     },
     "execution_count": 83,
     "metadata": {},
     "output_type": "execute_result"
    }
   ],
   "source": [
    "# Filter rows\n",
    "\"\"\"\n",
    "T := male and female\n",
    "* := keep all educational classes\n",
    "Y15-74 := maximum age range\n",
    "SA := seasonal adjusted\n",
    "PC_ACT = percentage of popolation\n",
    "\"\"\"\n",
    "unempl_filter = r\"^T,(.*),Y15-74,SA,PC_ACT,(.*)\"\n",
    "df_unemployment_eu_month_clean = df_unemployment_eu_month_clean[df_unemployment_eu_month_clean.iloc[:,0].str.contains(unempl_filter)]\n",
    "df_unemployment_eu_month_clean.head()"
   ]
  },
  {
   "cell_type": "code",
   "execution_count": 84,
   "metadata": {},
   "outputs": [
    {
     "data": {
      "text/html": [
       "<div>\n",
       "<style>\n",
       "    .dataframe thead tr:only-child th {\n",
       "        text-align: right;\n",
       "    }\n",
       "\n",
       "    .dataframe thead th {\n",
       "        text-align: left;\n",
       "    }\n",
       "\n",
       "    .dataframe tbody tr th {\n",
       "        vertical-align: top;\n",
       "    }\n",
       "</style>\n",
       "<table border=\"1\" class=\"dataframe\">\n",
       "  <thead>\n",
       "    <tr style=\"text-align: right;\">\n",
       "      <th></th>\n",
       "      <th>sex,isced11,age,s_adj,unit,geo\\time</th>\n",
       "      <th>2017Q2</th>\n",
       "      <th>country</th>\n",
       "    </tr>\n",
       "  </thead>\n",
       "  <tbody>\n",
       "    <tr>\n",
       "      <th>4368</th>\n",
       "      <td>T,ED0-2,Y15-74,SA,PC_ACT,AT</td>\n",
       "      <td>13.1</td>\n",
       "      <td>AT</td>\n",
       "    </tr>\n",
       "    <tr>\n",
       "      <th>4369</th>\n",
       "      <td>T,ED0-2,Y15-74,SA,PC_ACT,BE</td>\n",
       "      <td>15.2</td>\n",
       "      <td>BE</td>\n",
       "    </tr>\n",
       "    <tr>\n",
       "      <th>4370</th>\n",
       "      <td>T,ED0-2,Y15-74,SA,PC_ACT,BG</td>\n",
       "      <td>18.5</td>\n",
       "      <td>BG</td>\n",
       "    </tr>\n",
       "    <tr>\n",
       "      <th>4371</th>\n",
       "      <td>T,ED0-2,Y15-74,SA,PC_ACT,CH</td>\n",
       "      <td>8.4</td>\n",
       "      <td>CH</td>\n",
       "    </tr>\n",
       "    <tr>\n",
       "      <th>4372</th>\n",
       "      <td>T,ED0-2,Y15-74,SA,PC_ACT,CY</td>\n",
       "      <td>14.8</td>\n",
       "      <td>CY</td>\n",
       "    </tr>\n",
       "  </tbody>\n",
       "</table>\n",
       "</div>"
      ],
      "text/plain": [
       "     sex,isced11,age,s_adj,unit,geo\\time 2017Q2  country\n",
       "4368         T,ED0-2,Y15-74,SA,PC_ACT,AT   13.1       AT\n",
       "4369         T,ED0-2,Y15-74,SA,PC_ACT,BE   15.2       BE\n",
       "4370         T,ED0-2,Y15-74,SA,PC_ACT,BG   18.5       BG\n",
       "4371         T,ED0-2,Y15-74,SA,PC_ACT,CH    8.4       CH\n",
       "4372         T,ED0-2,Y15-74,SA,PC_ACT,CY   14.8       CY"
      ]
     },
     "execution_count": 84,
     "metadata": {},
     "output_type": "execute_result"
    }
   ],
   "source": [
    "# Filter country id\n",
    "df_unemployment_eu_month_clean[\"country\"] = df_unemployment_eu_month_clean.iloc[:,0].replace({ unempl_filter : r'\\2'}, regex=True)\n",
    "df_unemployment_eu_month_clean.head()"
   ]
  },
  {
   "cell_type": "code",
   "execution_count": 85,
   "metadata": {},
   "outputs": [
    {
     "data": {
      "text/html": [
       "<div>\n",
       "<style>\n",
       "    .dataframe thead tr:only-child th {\n",
       "        text-align: right;\n",
       "    }\n",
       "\n",
       "    .dataframe thead th {\n",
       "        text-align: left;\n",
       "    }\n",
       "\n",
       "    .dataframe tbody tr th {\n",
       "        vertical-align: top;\n",
       "    }\n",
       "</style>\n",
       "<table border=\"1\" class=\"dataframe\">\n",
       "  <thead>\n",
       "    <tr style=\"text-align: right;\">\n",
       "      <th></th>\n",
       "      <th>sex,isced11,age,s_adj,unit,geo\\time</th>\n",
       "      <th>2017Q2</th>\n",
       "      <th>country</th>\n",
       "    </tr>\n",
       "  </thead>\n",
       "  <tbody>\n",
       "    <tr>\n",
       "      <th>4368</th>\n",
       "      <td>ED0-2</td>\n",
       "      <td>13.1</td>\n",
       "      <td>AT</td>\n",
       "    </tr>\n",
       "    <tr>\n",
       "      <th>4369</th>\n",
       "      <td>ED0-2</td>\n",
       "      <td>15.2</td>\n",
       "      <td>BE</td>\n",
       "    </tr>\n",
       "    <tr>\n",
       "      <th>4370</th>\n",
       "      <td>ED0-2</td>\n",
       "      <td>18.5</td>\n",
       "      <td>BG</td>\n",
       "    </tr>\n",
       "    <tr>\n",
       "      <th>4371</th>\n",
       "      <td>ED0-2</td>\n",
       "      <td>8.4</td>\n",
       "      <td>CH</td>\n",
       "    </tr>\n",
       "    <tr>\n",
       "      <th>4372</th>\n",
       "      <td>ED0-2</td>\n",
       "      <td>14.8</td>\n",
       "      <td>CY</td>\n",
       "    </tr>\n",
       "  </tbody>\n",
       "</table>\n",
       "</div>"
      ],
      "text/plain": [
       "     sex,isced11,age,s_adj,unit,geo\\time 2017Q2  country\n",
       "4368                               ED0-2   13.1       AT\n",
       "4369                               ED0-2   15.2       BE\n",
       "4370                               ED0-2   18.5       BG\n",
       "4371                               ED0-2    8.4       CH\n",
       "4372                               ED0-2   14.8       CY"
      ]
     },
     "execution_count": 85,
     "metadata": {},
     "output_type": "execute_result"
    }
   ],
   "source": [
    "# Reformat filter to only contain education category\n",
    "df_unemployment_eu_month_clean.iloc[:,0] = df_unemployment_eu_month_clean.iloc[:,0].replace({ unempl_filter : r'\\1'}, regex=True)\n",
    "df_unemployment_eu_month_clean.head()"
   ]
  },
  {
   "cell_type": "code",
   "execution_count": 86,
   "metadata": {},
   "outputs": [
    {
     "data": {
      "text/html": [
       "<div>\n",
       "<style>\n",
       "    .dataframe thead tr:only-child th {\n",
       "        text-align: right;\n",
       "    }\n",
       "\n",
       "    .dataframe thead th {\n",
       "        text-align: left;\n",
       "    }\n",
       "\n",
       "    .dataframe tbody tr th {\n",
       "        vertical-align: top;\n",
       "    }\n",
       "</style>\n",
       "<table border=\"1\" class=\"dataframe\">\n",
       "  <thead>\n",
       "    <tr style=\"text-align: right;\">\n",
       "      <th></th>\n",
       "      <th>sex,isced11,age,s_adj,unit,geo\\time</th>\n",
       "      <th>2017Q2</th>\n",
       "      <th>country</th>\n",
       "    </tr>\n",
       "  </thead>\n",
       "  <tbody>\n",
       "    <tr>\n",
       "      <th>4368</th>\n",
       "      <td>ED0-2</td>\n",
       "      <td>13.1</td>\n",
       "      <td>AT</td>\n",
       "    </tr>\n",
       "    <tr>\n",
       "      <th>4369</th>\n",
       "      <td>ED0-2</td>\n",
       "      <td>15.2</td>\n",
       "      <td>BE</td>\n",
       "    </tr>\n",
       "    <tr>\n",
       "      <th>4370</th>\n",
       "      <td>ED0-2</td>\n",
       "      <td>18.5</td>\n",
       "      <td>BG</td>\n",
       "    </tr>\n",
       "    <tr>\n",
       "      <th>4371</th>\n",
       "      <td>ED0-2</td>\n",
       "      <td>8.4</td>\n",
       "      <td>CH</td>\n",
       "    </tr>\n",
       "    <tr>\n",
       "      <th>4372</th>\n",
       "      <td>ED0-2</td>\n",
       "      <td>14.8</td>\n",
       "      <td>CY</td>\n",
       "    </tr>\n",
       "  </tbody>\n",
       "</table>\n",
       "</div>"
      ],
      "text/plain": [
       "     sex,isced11,age,s_adj,unit,geo\\time 2017Q2  country\n",
       "4368                               ED0-2   13.1       AT\n",
       "4369                               ED0-2   15.2       BE\n",
       "4370                               ED0-2   18.5       BG\n",
       "4371                               ED0-2    8.4       CH\n",
       "4372                               ED0-2   14.8       CY"
      ]
     },
     "execution_count": 86,
     "metadata": {},
     "output_type": "execute_result"
    }
   ],
   "source": [
    "# Replace unkown values, denoted by \":\", remove \"u\" warning for low accuracy\n",
    "df_unemployment_eu_month_clean.iloc[:,1] = df_unemployment_eu_month_clean.iloc[:,1].apply(\n",
    "    lambda x : x.replace(\"u\", \"\"))\n",
    "df_unemployment_eu_month_clean.iloc[:,1] = df_unemployment_eu_month_clean.iloc[:,1].apply(\n",
    "    lambda x : np.NAN if \":\" in x else x)\n",
    "df_unemployment_eu_month_clean.head()"
   ]
  },
  {
   "cell_type": "code",
   "execution_count": 87,
   "metadata": {
    "scrolled": false
   },
   "outputs": [
    {
     "data": {
      "text/html": [
       "<div>\n",
       "<style>\n",
       "    .dataframe thead tr:only-child th {\n",
       "        text-align: right;\n",
       "    }\n",
       "\n",
       "    .dataframe thead th {\n",
       "        text-align: left;\n",
       "    }\n",
       "\n",
       "    .dataframe tbody tr th {\n",
       "        vertical-align: top;\n",
       "    }\n",
       "</style>\n",
       "<table border=\"1\" class=\"dataframe\">\n",
       "  <thead>\n",
       "    <tr style=\"text-align: right;\">\n",
       "      <th></th>\n",
       "      <th>sex,isced11,age,s_adj,unit,geo\\time</th>\n",
       "      <th>2017Q2</th>\n",
       "      <th>country</th>\n",
       "    </tr>\n",
       "  </thead>\n",
       "  <tbody>\n",
       "    <tr>\n",
       "      <th>4368</th>\n",
       "      <td>ED0-2</td>\n",
       "      <td>13.1</td>\n",
       "      <td>AT</td>\n",
       "    </tr>\n",
       "    <tr>\n",
       "      <th>4369</th>\n",
       "      <td>ED0-2</td>\n",
       "      <td>15.2</td>\n",
       "      <td>BE</td>\n",
       "    </tr>\n",
       "    <tr>\n",
       "      <th>4370</th>\n",
       "      <td>ED0-2</td>\n",
       "      <td>18.5</td>\n",
       "      <td>BG</td>\n",
       "    </tr>\n",
       "    <tr>\n",
       "      <th>4371</th>\n",
       "      <td>ED0-2</td>\n",
       "      <td>8.4</td>\n",
       "      <td>CH</td>\n",
       "    </tr>\n",
       "    <tr>\n",
       "      <th>4372</th>\n",
       "      <td>ED0-2</td>\n",
       "      <td>14.8</td>\n",
       "      <td>CY</td>\n",
       "    </tr>\n",
       "  </tbody>\n",
       "</table>\n",
       "</div>"
      ],
      "text/plain": [
       "     sex,isced11,age,s_adj,unit,geo\\time  2017Q2  country\n",
       "4368                               ED0-2     13.1      AT\n",
       "4369                               ED0-2     15.2      BE\n",
       "4370                               ED0-2     18.5      BG\n",
       "4371                               ED0-2      8.4      CH\n",
       "4372                               ED0-2     14.8      CY"
      ]
     },
     "execution_count": 87,
     "metadata": {},
     "output_type": "execute_result"
    }
   ],
   "source": [
    "# convert unemployment to float\n",
    "df_unemployment_eu_month_clean.iloc[:,1] = pd.to_numeric(df_unemployment_eu_month_clean.iloc[:,1], errors='coerce')\n",
    "df_unemployment_eu_month_clean.head()"
   ]
  },
  {
   "cell_type": "code",
   "execution_count": 88,
   "metadata": {
    "scrolled": false
   },
   "outputs": [
    {
     "data": {
      "text/plain": [
       "sex,isced11,age,s_adj,unit,geo\\time    False\n",
       "2017Q2                                  True\n",
       "country                                False\n",
       "dtype: bool"
      ]
     },
     "execution_count": 88,
     "metadata": {},
     "output_type": "execute_result"
    }
   ],
   "source": [
    "pd.isnull(df_unemployment_eu_month_clean).any()"
   ]
  },
  {
   "cell_type": "code",
   "execution_count": 89,
   "metadata": {},
   "outputs": [
    {
     "data": {
      "text/html": [
       "<div>\n",
       "<style>\n",
       "    .dataframe thead tr:only-child th {\n",
       "        text-align: right;\n",
       "    }\n",
       "\n",
       "    .dataframe thead th {\n",
       "        text-align: left;\n",
       "    }\n",
       "\n",
       "    .dataframe tbody tr th {\n",
       "        vertical-align: top;\n",
       "    }\n",
       "</style>\n",
       "<table border=\"1\" class=\"dataframe\">\n",
       "  <thead>\n",
       "    <tr style=\"text-align: right;\">\n",
       "      <th></th>\n",
       "      <th>sex,isced11,age,s_adj,unit,geo\\time</th>\n",
       "      <th>2017Q2</th>\n",
       "      <th>country</th>\n",
       "    </tr>\n",
       "  </thead>\n",
       "  <tbody>\n",
       "    <tr>\n",
       "      <th>5812</th>\n",
       "      <td>ED5-8</td>\n",
       "      <td>NaN</td>\n",
       "      <td>MT</td>\n",
       "    </tr>\n",
       "  </tbody>\n",
       "</table>\n",
       "</div>"
      ],
      "text/plain": [
       "     sex,isced11,age,s_adj,unit,geo\\time  2017Q2  country\n",
       "5812                               ED5-8      NaN      MT"
      ]
     },
     "execution_count": 89,
     "metadata": {},
     "output_type": "execute_result"
    }
   ],
   "source": [
    "df_unemployment_eu_month_clean[pd.isnull(df_unemployment_eu_month_clean.iloc[:,1])]"
   ]
  },
  {
   "cell_type": "markdown",
   "metadata": {},
   "source": [
    "Use default behavior of pandas and calculate mean with only two education categories"
   ]
  },
  {
   "cell_type": "code",
   "execution_count": 90,
   "metadata": {},
   "outputs": [
    {
     "data": {
      "text/html": [
       "<div>\n",
       "<style>\n",
       "    .dataframe thead tr:only-child th {\n",
       "        text-align: right;\n",
       "    }\n",
       "\n",
       "    .dataframe thead th {\n",
       "        text-align: left;\n",
       "    }\n",
       "\n",
       "    .dataframe tbody tr th {\n",
       "        vertical-align: top;\n",
       "    }\n",
       "</style>\n",
       "<table border=\"1\" class=\"dataframe\">\n",
       "  <thead>\n",
       "    <tr style=\"text-align: right;\">\n",
       "      <th></th>\n",
       "      <th>2017Q2</th>\n",
       "    </tr>\n",
       "    <tr>\n",
       "      <th>country</th>\n",
       "      <th></th>\n",
       "    </tr>\n",
       "  </thead>\n",
       "  <tbody>\n",
       "    <tr>\n",
       "      <th>AT</th>\n",
       "      <td>7.033333</td>\n",
       "    </tr>\n",
       "    <tr>\n",
       "      <th>BE</th>\n",
       "      <td>8.900000</td>\n",
       "    </tr>\n",
       "    <tr>\n",
       "      <th>BG</th>\n",
       "      <td>8.900000</td>\n",
       "    </tr>\n",
       "    <tr>\n",
       "      <th>CH</th>\n",
       "      <td>5.533333</td>\n",
       "    </tr>\n",
       "    <tr>\n",
       "      <th>CY</th>\n",
       "      <td>11.900000</td>\n",
       "    </tr>\n",
       "  </tbody>\n",
       "</table>\n",
       "</div>"
      ],
      "text/plain": [
       "           2017Q2 \n",
       "country           \n",
       "AT        7.033333\n",
       "BE        8.900000\n",
       "BG        8.900000\n",
       "CH        5.533333\n",
       "CY       11.900000"
      ]
     },
     "execution_count": 90,
     "metadata": {},
     "output_type": "execute_result"
    }
   ],
   "source": [
    "df_unemployment_eu_month_clean = df_unemployment_eu_month_clean.groupby(\"country\").mean()\n",
    "df_unemployment_eu_month_clean.head()"
   ]
  },
  {
   "cell_type": "code",
   "execution_count": 142,
   "metadata": {},
   "outputs": [
    {
     "data": {
      "text/plain": [
       "country\n",
       "IS    2.766667\n",
       "RO    4.733333\n",
       "MT    4.900000\n",
       "DE    4.933333\n",
       "UK    5.000000\n",
       "NO    5.200000\n",
       "CH    5.533333\n",
       "NL    5.566667\n",
       "LU    5.700000\n",
       "HU    5.800000\n",
       "Name: 2017Q2 , dtype: float64"
      ]
     },
     "execution_count": 142,
     "metadata": {},
     "output_type": "execute_result"
    }
   ],
   "source": [
    "df_unemployment_eu_month_clean.iloc[:,0].sort_values().head(10)"
   ]
  },
  {
   "cell_type": "markdown",
   "metadata": {},
   "source": [
    "### Create vizualisation"
   ]
  },
  {
   "cell_type": "code",
   "execution_count": 92,
   "metadata": {},
   "outputs": [
    {
     "data": {
      "text/plain": [
       "array([[<matplotlib.axes._subplots.AxesSubplot object at 0x123a64c18>]], dtype=object)"
      ]
     },
     "execution_count": 92,
     "metadata": {},
     "output_type": "execute_result"
    },
    {
     "data": {
      "image/png": "[encoded data removed]",
      "text/plain": [
       "<matplotlib.figure.Figure at 0x127731358>"
      ]
     },
     "metadata": {},
     "output_type": "display_data"
    }
   ],
   "source": [
    "df_unemployment_eu_month_clean.hist()"
   ]
  },
  {
   "cell_type": "code",
   "execution_count": 93,
   "metadata": {},
   "outputs": [
    {
     "data": {
      "text/plain": [
       "array([[<matplotlib.axes._subplots.AxesSubplot object at 0x121753d30>]], dtype=object)"
      ]
     },
     "execution_count": 93,
     "metadata": {},
     "output_type": "execute_result"
    },
    {
     "data": {
      "image/png": "[encoded data removed]",
      "text/plain": [
       "<matplotlib.figure.Figure at 0x124843b38>"
      ]
     },
     "metadata": {},
     "output_type": "display_data"
    }
   ],
   "source": [
    "df_unemployment_eu_month_clean.hist(bins=15)"
   ]
  },
  {
   "cell_type": "code",
   "execution_count": 94,
   "metadata": {
    "scrolled": true
   },
   "outputs": [
    {
     "data": {
      "text/plain": [
       "array([[<matplotlib.axes._subplots.AxesSubplot object at 0x128659898>]], dtype=object)"
      ]
     },
     "execution_count": 94,
     "metadata": {},
     "output_type": "execute_result"
    },
    {
     "data": {
      "image/png": "[encoded data removed]",
      "text/plain": [
       "<matplotlib.figure.Figure at 0x128667ac8>"
      ]
     },
     "metadata": {},
     "output_type": "display_data"
    }
   ],
   "source": [
    "df_unemployment_eu_month_clean.hist(bins=5)"
   ]
  },
  {
   "cell_type": "markdown",
   "metadata": {},
   "source": [
    "We decided to take 5 bins, since not to much information gets lost and more than seven colors can only hardly be distincted"
   ]
  },
  {
   "cell_type": "code",
   "execution_count": 95,
   "metadata": {
    "collapsed": true
   },
   "outputs": [],
   "source": [
    "def eu_map_country_id(country_id_geo_json):\n",
    "    \"\"\"Handles Mapping between country ids\"\"\"\n",
    "    if country_id_geo_json == \"FR\":\n",
    "        return \"FX\"\n",
    "    elif country_id_geo_json == \"GB\":\n",
    "        return \"UK\"\n",
    "    elif country_id_geo_json == \"GR\":\n",
    "        return \"EL\"\n",
    "    else:\n",
    "        return country_id_geo_json"
   ]
  },
  {
   "cell_type": "code",
   "execution_count": 96,
   "metadata": {
    "collapsed": true
   },
   "outputs": [],
   "source": [
    "def eu_get_unemployment_rate(country_id, df):\n",
    "    \"\"\"Fetches the unemployment rate for a given country from the data frame\"\"\"\n",
    "    try:\n",
    "        row = df.loc[eu_map_country_id(country_id)].values\n",
    "        return row[0]\n",
    "    except KeyError:\n",
    "        #print (\"Country with id {} not found in dataset\".format(country_id))\n",
    "        return -1"
   ]
  },
  {
   "cell_type": "code",
   "execution_count": 143,
   "metadata": {
    "collapsed": true
   },
   "outputs": [],
   "source": [
    "# calculate bin for unemployment\n",
    "def get_class(unempl_rate, df,map_):\n",
    "    if(map_=='ch'):\n",
    "        i=1\n",
    "    else:\n",
    "        i=0\n",
    "    count, division = np.histogram(df.iloc[:,i], bins=5)\n",
    "    \"\"\"Calculates the class based on the real value\"\"\"\n",
    "    if unempl_rate < division[1]:\n",
    "        return 0\n",
    "    elif unempl_rate < division[2]:\n",
    "        return 1\n",
    "    elif unempl_rate < division[3]:\n",
    "        return 2\n",
    "    elif unempl_rate < division[4]:\n",
    "        return 3\n",
    "    else:\n",
    "        return 4"
   ]
  },
  {
   "cell_type": "code",
   "execution_count": 144,
   "metadata": {
    "collapsed": true
   },
   "outputs": [],
   "source": [
    "def class_color(class_id):\n",
    "    \"\"\"Fetches the color code based on the class\"\"\"\n",
    "    return color_classes[class_id]"
   ]
  },
  {
   "cell_type": "code",
   "execution_count": 146,
   "metadata": {},
   "outputs": [],
   "source": [
    "def unemployment_colors(id_,df, map_):\n",
    "    \"\"\"Returns the color based on the unemployment rate for the given country\"\"\"\n",
    "    if(map_ == 'eu'):\n",
    "        unempl_rate = eu_get_unemployment_rate(id_,df)\n",
    "    elif(map_=='ch'):\n",
    "        unempl_rate = ch_get_unemployment_rate(id_,df)\n",
    "                               \n",
    "    if unempl_rate == -1:\n",
    "        return color_undef\n",
    "    else:\n",
    "        id_ = get_class(unempl_rate,df,map_)\n",
    "        return class_color(id_)"
   ]
  },
  {
   "cell_type": "code",
   "execution_count": 147,
   "metadata": {
    "scrolled": false
   },
   "outputs": [],
   "source": [
    "with open(topo_path_json_eu) as f:\n",
    "    \n",
    "    j = json.load(f)\n",
    "    \n",
    "    # Create an own topojson object in order to display popups \n",
    "    topojson = [{'type': j['type'],\n",
    "                 'objects': {'europe': {\n",
    "                     'type': \"GeometryCollection\",\n",
    "                     'geometries': [f]}},\n",
    "                 'arcs' : j['arcs'],\n",
    "                 'transform' : j['transform']} \n",
    "                for f in j['objects']['europe']['geometries']]\n",
    "    \n",
    "    # Add each topojson\n",
    "    for tj in map(lambda tj: folium.TopoJson(tj,\n",
    "                                             \"objects.europe\", style_function=lambda country: {\n",
    "                                                'fillColor': unemployment_colors(country['id'],df_unemployment_eu_month_clean,'eu'),\n",
    "                                                'fillOpacity': 1,\n",
    "                                                'weight': 1,\n",
    "                                                'color' : 'black',\n",
    "                                                'dashArray' : '0, 0'}),\n",
    "                  topojson):\n",
    "        \n",
    "        # fetch details for popup\n",
    "        unemployment_rate = eu_get_unemployment_rate(tj.data['objects']['europe']['geometries'][0]['id'],df_unemployment_eu_month_clean)\n",
    "        country = tj.data['objects']['europe']['geometries'][0]['properties']['NAME']\n",
    "    \n",
    "        # beautify popup\n",
    "        if unemployment_rate == -1:\n",
    "            html = \"\"\"\n",
    "                <h3> \"\"\"+country+\"\"\" </h3> </br>\n",
    "                <p> Unemployment rate: unavailable </p> \"\"\"\n",
    "        else :\n",
    "            html = \"\"\"\n",
    "                <h3> \"\"\"+country+\"\"\" </h3> </br>\n",
    "                <p> Unemployment rate: \"\"\"+\"{0:.2f}%\".format(unemployment_rate)+\"\"\" </p> \"\"\"\n",
    "            \n",
    "        # add popup and topojson\n",
    "        tj.add_child(folium.Popup(html))\n",
    "        tj.add_to(map_europe)"
   ]
  },
  {
   "cell_type": "code",
   "execution_count": 150,
   "metadata": {},
   "outputs": [],
   "source": [
    "# Add legend\n",
    "count, division = np.histogram(df_unemployment_eu_month_clean.iloc[:,0], bins=5)\n",
    "min_ = min(df_unemployment_eu_month_clean.values)[0]\n",
    "max_= max(df_unemployment_eu_month_clean.values)[0]\n",
    "\n",
    "colormap = cm.StepColormap(\n",
    "            color_classes,\n",
    "            index=division,\n",
    "            vmin=min_,\n",
    "            vmax=max_,\n",
    "            caption=\"Unemployment rate [%]\",\n",
    "            )\n",
    "map_europe = map_europe.add_child(colormap)"
   ]
  },
  {
   "cell_type": "code",
   "execution_count": 151,
   "metadata": {
    "scrolled": false
   },
   "outputs": [],
   "source": [
    "# Moves slowly due to many topojsons, but has popups :)\n",
    "map_europe.save('EU_unemployment_rate.html')"
   ]
  },
  {
   "cell_type": "markdown",
   "metadata": {},
   "source": [
    "Access the map [here](EU_unemployment_rate.html). Click on the countries in order to display the exact unemployment rate of the country."
   ]
  },
  {
   "cell_type": "markdown",
   "metadata": {},
   "source": [
    "### Comparison Switzerland to the rest of Europe"
   ]
  },
  {
   "cell_type": "markdown",
   "metadata": {},
   "source": [
    "Switzerland's unemployment rate puts Switzerland in the first class, which has the lowest unemployment rate in Europe.  \n",
    "This means that Switzerland's unemployment rate is between 3% and 7%\n",
    "Exactly Switzerland is the country with the 7th lowest unemployment rate of 5.53% ."
   ]
  },
  {
   "cell_type": "markdown",
   "metadata": {},
   "source": [
    "## Unemployment rate in Switzerland at a canton level"
   ]
  },
  {
   "cell_type": "markdown",
   "metadata": {},
   "source": [
    "15+"
   ]
  },
  {
   "cell_type": "code",
   "execution_count": 152,
   "metadata": {
    "collapsed": true
   },
   "outputs": [],
   "source": [
    "map_switzerland = folium.Map([47,9], zoom_start=7)\n"
   ]
  },
  {
   "cell_type": "code",
   "execution_count": 153,
   "metadata": {},
   "outputs": [
    {
     "data": {
      "text/html": [
       "<div>\n",
       "<style>\n",
       "    .dataframe thead tr:only-child th {\n",
       "        text-align: right;\n",
       "    }\n",
       "\n",
       "    .dataframe thead th {\n",
       "        text-align: left;\n",
       "    }\n",
       "\n",
       "    .dataframe tbody tr th {\n",
       "        vertical-align: top;\n",
       "    }\n",
       "</style>\n",
       "<table border=\"1\" class=\"dataframe\">\n",
       "  <thead>\n",
       "    <tr style=\"text-align: right;\">\n",
       "      <th></th>\n",
       "      <th>Canton</th>\n",
       "      <th>Mois</th>\n",
       "      <th>Janvier 2017</th>\n",
       "      <th>Février 2017</th>\n",
       "      <th>Mars 2017</th>\n",
       "      <th>Avril 2017</th>\n",
       "      <th>Mai 2017</th>\n",
       "      <th>Juin 2017</th>\n",
       "      <th>Juillet 2017</th>\n",
       "      <th>Août 2017</th>\n",
       "      <th>Septembre 2017</th>\n",
       "      <th>Octobre 2017</th>\n",
       "      <th>Total</th>\n",
       "    </tr>\n",
       "  </thead>\n",
       "  <tbody>\n",
       "    <tr>\n",
       "      <th>0</th>\n",
       "      <td>NaN</td>\n",
       "      <td>Mesures</td>\n",
       "      <td>Taux de chômage</td>\n",
       "      <td>Taux de chômage</td>\n",
       "      <td>Taux de chômage</td>\n",
       "      <td>Taux de chômage</td>\n",
       "      <td>Taux de chômage</td>\n",
       "      <td>Taux de chômage</td>\n",
       "      <td>Taux de chômage</td>\n",
       "      <td>Taux de chômage</td>\n",
       "      <td>Taux de chômage</td>\n",
       "      <td>Taux de chômage</td>\n",
       "      <td>Taux de chômage</td>\n",
       "    </tr>\n",
       "    <tr>\n",
       "      <th>1</th>\n",
       "      <td>Zurich</td>\n",
       "      <td>NaN</td>\n",
       "      <td>3.9</td>\n",
       "      <td>3.9</td>\n",
       "      <td>3.8</td>\n",
       "      <td>3.6</td>\n",
       "      <td>3.5</td>\n",
       "      <td>3.4</td>\n",
       "      <td>3.4</td>\n",
       "      <td>3.4</td>\n",
       "      <td>3.3</td>\n",
       "      <td>0</td>\n",
       "      <td>3.2</td>\n",
       "    </tr>\n",
       "    <tr>\n",
       "      <th>2</th>\n",
       "      <td>Berne</td>\n",
       "      <td>NaN</td>\n",
       "      <td>3</td>\n",
       "      <td>3</td>\n",
       "      <td>2.9</td>\n",
       "      <td>2.7</td>\n",
       "      <td>2.6</td>\n",
       "      <td>2.4</td>\n",
       "      <td>2.4</td>\n",
       "      <td>2.5</td>\n",
       "      <td>2.4</td>\n",
       "      <td>0</td>\n",
       "      <td>2.4</td>\n",
       "    </tr>\n",
       "    <tr>\n",
       "      <th>3</th>\n",
       "      <td>Lucerne</td>\n",
       "      <td>NaN</td>\n",
       "      <td>2.2</td>\n",
       "      <td>2.2</td>\n",
       "      <td>2</td>\n",
       "      <td>1.9</td>\n",
       "      <td>1.8</td>\n",
       "      <td>1.7</td>\n",
       "      <td>1.7</td>\n",
       "      <td>1.8</td>\n",
       "      <td>1.7</td>\n",
       "      <td>0</td>\n",
       "      <td>1.7</td>\n",
       "    </tr>\n",
       "    <tr>\n",
       "      <th>4</th>\n",
       "      <td>Uri</td>\n",
       "      <td>NaN</td>\n",
       "      <td>1.5</td>\n",
       "      <td>1.4</td>\n",
       "      <td>1.3</td>\n",
       "      <td>1.2</td>\n",
       "      <td>1</td>\n",
       "      <td>0.8</td>\n",
       "      <td>0.7</td>\n",
       "      <td>0.6</td>\n",
       "      <td>0.6</td>\n",
       "      <td>0</td>\n",
       "      <td>0.9</td>\n",
       "    </tr>\n",
       "  </tbody>\n",
       "</table>\n",
       "</div>"
      ],
      "text/plain": [
       "    Canton     Mois     Janvier 2017     Février 2017        Mars 2017  \\\n",
       "0      NaN  Mesures  Taux de chômage  Taux de chômage  Taux de chômage   \n",
       "1   Zurich      NaN              3.9              3.9              3.8   \n",
       "2    Berne      NaN                3                3              2.9   \n",
       "3  Lucerne      NaN              2.2              2.2                2   \n",
       "4      Uri      NaN              1.5              1.4              1.3   \n",
       "\n",
       "        Avril 2017         Mai 2017        Juin 2017     Juillet 2017  \\\n",
       "0  Taux de chômage  Taux de chômage  Taux de chômage  Taux de chômage   \n",
       "1              3.6              3.5              3.4              3.4   \n",
       "2              2.7              2.6              2.4              2.4   \n",
       "3              1.9              1.8              1.7              1.7   \n",
       "4              1.2                1              0.8              0.7   \n",
       "\n",
       "         Août 2017   Septembre 2017     Octobre 2017            Total  \n",
       "0  Taux de chômage  Taux de chômage  Taux de chômage  Taux de chômage  \n",
       "1              3.4              3.3                0              3.2  \n",
       "2              2.5              2.4                0              2.4  \n",
       "3              1.8              1.7                0              1.7  \n",
       "4              0.6              0.6                0              0.9  "
      ]
     },
     "execution_count": 153,
     "metadata": {},
     "output_type": "execute_result"
    }
   ],
   "source": [
    "unemployment_swiss = os.path.join('FetchedData', 'Unemployment_rate_Switzerland.xlsx')\n",
    "df_unemployment_swiss = pd.read_excel(unemployment_swiss)\n",
    "df_unemployment_swiss.head()\n"
   ]
  },
  {
   "cell_type": "code",
   "execution_count": 154,
   "metadata": {},
   "outputs": [
    {
     "data": {
      "text/html": [
       "<div>\n",
       "<style>\n",
       "    .dataframe thead tr:only-child th {\n",
       "        text-align: right;\n",
       "    }\n",
       "\n",
       "    .dataframe thead th {\n",
       "        text-align: left;\n",
       "    }\n",
       "\n",
       "    .dataframe tbody tr th {\n",
       "        vertical-align: top;\n",
       "    }\n",
       "</style>\n",
       "<table border=\"1\" class=\"dataframe\">\n",
       "  <thead>\n",
       "    <tr style=\"text-align: right;\">\n",
       "      <th></th>\n",
       "      <th>Canton</th>\n",
       "      <th>Avril 2017</th>\n",
       "      <th>Mai 2017</th>\n",
       "      <th>Juin 2017</th>\n",
       "    </tr>\n",
       "  </thead>\n",
       "  <tbody>\n",
       "    <tr>\n",
       "      <th>0</th>\n",
       "      <td>NaN</td>\n",
       "      <td>Taux de chômage</td>\n",
       "      <td>Taux de chômage</td>\n",
       "      <td>Taux de chômage</td>\n",
       "    </tr>\n",
       "    <tr>\n",
       "      <th>1</th>\n",
       "      <td>Zurich</td>\n",
       "      <td>3.6</td>\n",
       "      <td>3.5</td>\n",
       "      <td>3.4</td>\n",
       "    </tr>\n",
       "    <tr>\n",
       "      <th>2</th>\n",
       "      <td>Berne</td>\n",
       "      <td>2.7</td>\n",
       "      <td>2.6</td>\n",
       "      <td>2.4</td>\n",
       "    </tr>\n",
       "    <tr>\n",
       "      <th>3</th>\n",
       "      <td>Lucerne</td>\n",
       "      <td>1.9</td>\n",
       "      <td>1.8</td>\n",
       "      <td>1.7</td>\n",
       "    </tr>\n",
       "    <tr>\n",
       "      <th>4</th>\n",
       "      <td>Uri</td>\n",
       "      <td>1.2</td>\n",
       "      <td>1</td>\n",
       "      <td>0.8</td>\n",
       "    </tr>\n",
       "  </tbody>\n",
       "</table>\n",
       "</div>"
      ],
      "text/plain": [
       "    Canton       Avril 2017         Mai 2017        Juin 2017\n",
       "0      NaN  Taux de chômage  Taux de chômage  Taux de chômage\n",
       "1   Zurich              3.6              3.5              3.4\n",
       "2    Berne              2.7              2.6              2.4\n",
       "3  Lucerne              1.9              1.8              1.7\n",
       "4      Uri              1.2                1              0.8"
      ]
     },
     "execution_count": 154,
     "metadata": {},
     "output_type": "execute_result"
    }
   ],
   "source": [
    "#Take only the 3 month interested ( 2 quarter)\n",
    "df_unemployment_swiss = df_unemployment_swiss[['Canton','Avril 2017','Mai 2017','Juin 2017']]\n",
    "df_unemployment_swiss.head()\n"
   ]
  },
  {
   "cell_type": "code",
   "execution_count": 155,
   "metadata": {
    "collapsed": true
   },
   "outputs": [],
   "source": [
    "#Drop the first line that is useless and last one\n",
    "df_unemployment_swiss = df_unemployment_swiss.drop(0)\n",
    "df_unemployment_swiss = df_unemployment_swiss.drop(27)\n"
   ]
  },
  {
   "cell_type": "code",
   "execution_count": 156,
   "metadata": {
    "collapsed": true
   },
   "outputs": [],
   "source": [
    "#Put the rate into numerics\n",
    "df_unemployment_swiss['Avril 2017'] = pd.to_numeric(df_unemployment_swiss['Avril 2017'])\n",
    "df_unemployment_swiss['Mai 2017'] = pd.to_numeric(df_unemployment_swiss['Mai 2017'])\n",
    "df_unemployment_swiss['Juin 2017'] = pd.to_numeric(df_unemployment_swiss['Juin 2017'])\n"
   ]
  },
  {
   "cell_type": "code",
   "execution_count": 157,
   "metadata": {},
   "outputs": [
    {
     "data": {
      "text/html": [
       "<div>\n",
       "<style>\n",
       "    .dataframe thead tr:only-child th {\n",
       "        text-align: right;\n",
       "    }\n",
       "\n",
       "    .dataframe thead th {\n",
       "        text-align: left;\n",
       "    }\n",
       "\n",
       "    .dataframe tbody tr th {\n",
       "        vertical-align: top;\n",
       "    }\n",
       "</style>\n",
       "<table border=\"1\" class=\"dataframe\">\n",
       "  <thead>\n",
       "    <tr style=\"text-align: right;\">\n",
       "      <th></th>\n",
       "      <th>Canton</th>\n",
       "      <th>2017Q2</th>\n",
       "    </tr>\n",
       "  </thead>\n",
       "  <tbody>\n",
       "    <tr>\n",
       "      <th>1</th>\n",
       "      <td>Zurich</td>\n",
       "      <td>3.500000</td>\n",
       "    </tr>\n",
       "    <tr>\n",
       "      <th>2</th>\n",
       "      <td>Berne</td>\n",
       "      <td>2.566667</td>\n",
       "    </tr>\n",
       "    <tr>\n",
       "      <th>3</th>\n",
       "      <td>Lucerne</td>\n",
       "      <td>1.800000</td>\n",
       "    </tr>\n",
       "    <tr>\n",
       "      <th>4</th>\n",
       "      <td>Uri</td>\n",
       "      <td>1.000000</td>\n",
       "    </tr>\n",
       "    <tr>\n",
       "      <th>5</th>\n",
       "      <td>Schwyz</td>\n",
       "      <td>1.700000</td>\n",
       "    </tr>\n",
       "    <tr>\n",
       "      <th>6</th>\n",
       "      <td>Obwald</td>\n",
       "      <td>0.866667</td>\n",
       "    </tr>\n",
       "    <tr>\n",
       "      <th>7</th>\n",
       "      <td>Nidwald</td>\n",
       "      <td>1.066667</td>\n",
       "    </tr>\n",
       "    <tr>\n",
       "      <th>8</th>\n",
       "      <td>Glaris</td>\n",
       "      <td>2.133333</td>\n",
       "    </tr>\n",
       "    <tr>\n",
       "      <th>9</th>\n",
       "      <td>Zoug</td>\n",
       "      <td>2.400000</td>\n",
       "    </tr>\n",
       "    <tr>\n",
       "      <th>10</th>\n",
       "      <td>Fribourg</td>\n",
       "      <td>2.500000</td>\n",
       "    </tr>\n",
       "    <tr>\n",
       "      <th>11</th>\n",
       "      <td>Soleure</td>\n",
       "      <td>2.766667</td>\n",
       "    </tr>\n",
       "    <tr>\n",
       "      <th>12</th>\n",
       "      <td>Bâle-Ville</td>\n",
       "      <td>3.733333</td>\n",
       "    </tr>\n",
       "    <tr>\n",
       "      <th>13</th>\n",
       "      <td>Bâle-Campagne</td>\n",
       "      <td>2.866667</td>\n",
       "    </tr>\n",
       "    <tr>\n",
       "      <th>14</th>\n",
       "      <td>Schaffhouse</td>\n",
       "      <td>3.266667</td>\n",
       "    </tr>\n",
       "    <tr>\n",
       "      <th>15</th>\n",
       "      <td>Appenzell Rhodes-Extérieures</td>\n",
       "      <td>1.733333</td>\n",
       "    </tr>\n",
       "    <tr>\n",
       "      <th>16</th>\n",
       "      <td>Appenzell Rhodes-Intérieures</td>\n",
       "      <td>0.900000</td>\n",
       "    </tr>\n",
       "    <tr>\n",
       "      <th>17</th>\n",
       "      <td>St-Gall</td>\n",
       "      <td>2.300000</td>\n",
       "    </tr>\n",
       "    <tr>\n",
       "      <th>18</th>\n",
       "      <td>Grisons</td>\n",
       "      <td>1.666667</td>\n",
       "    </tr>\n",
       "    <tr>\n",
       "      <th>19</th>\n",
       "      <td>Argovie</td>\n",
       "      <td>3.100000</td>\n",
       "    </tr>\n",
       "    <tr>\n",
       "      <th>20</th>\n",
       "      <td>Thurgovie</td>\n",
       "      <td>2.200000</td>\n",
       "    </tr>\n",
       "    <tr>\n",
       "      <th>21</th>\n",
       "      <td>Tessin</td>\n",
       "      <td>3.133333</td>\n",
       "    </tr>\n",
       "    <tr>\n",
       "      <th>22</th>\n",
       "      <td>Vaud</td>\n",
       "      <td>4.400000</td>\n",
       "    </tr>\n",
       "    <tr>\n",
       "      <th>23</th>\n",
       "      <td>Valais</td>\n",
       "      <td>3.300000</td>\n",
       "    </tr>\n",
       "    <tr>\n",
       "      <th>24</th>\n",
       "      <td>Neuchâtel</td>\n",
       "      <td>5.566667</td>\n",
       "    </tr>\n",
       "    <tr>\n",
       "      <th>25</th>\n",
       "      <td>Genève</td>\n",
       "      <td>5.200000</td>\n",
       "    </tr>\n",
       "    <tr>\n",
       "      <th>26</th>\n",
       "      <td>Jura</td>\n",
       "      <td>4.466667</td>\n",
       "    </tr>\n",
       "  </tbody>\n",
       "</table>\n",
       "</div>"
      ],
      "text/plain": [
       "                          Canton    2017Q2\n",
       "1                         Zurich  3.500000\n",
       "2                          Berne  2.566667\n",
       "3                        Lucerne  1.800000\n",
       "4                            Uri  1.000000\n",
       "5                         Schwyz  1.700000\n",
       "6                         Obwald  0.866667\n",
       "7                        Nidwald  1.066667\n",
       "8                         Glaris  2.133333\n",
       "9                           Zoug  2.400000\n",
       "10                      Fribourg  2.500000\n",
       "11                       Soleure  2.766667\n",
       "12                    Bâle-Ville  3.733333\n",
       "13                 Bâle-Campagne  2.866667\n",
       "14                   Schaffhouse  3.266667\n",
       "15  Appenzell Rhodes-Extérieures  1.733333\n",
       "16  Appenzell Rhodes-Intérieures  0.900000\n",
       "17                       St-Gall  2.300000\n",
       "18                       Grisons  1.666667\n",
       "19                       Argovie  3.100000\n",
       "20                     Thurgovie  2.200000\n",
       "21                        Tessin  3.133333\n",
       "22                          Vaud  4.400000\n",
       "23                        Valais  3.300000\n",
       "24                     Neuchâtel  5.566667\n",
       "25                        Genève  5.200000\n",
       "26                          Jura  4.466667"
      ]
     },
     "execution_count": 157,
     "metadata": {},
     "output_type": "execute_result"
    }
   ],
   "source": [
    "#do the mean of 3 month to get the second quartile data and create new DF with only this value\n",
    "df_unemployment_swiss['2017Q2'] = df_unemployment_swiss['Avril 2017'] + df_unemployment_swiss['Mai 2017'] + df_unemployment_swiss['Juin 2017']\n",
    "df_unemployment_swiss['2017Q2'] = df_unemployment_swiss['2017Q2'].apply(lambda x : x/3)\n",
    "df_unemployment_swiss_cleaned = df_unemployment_swiss[['Canton','2017Q2']]\n",
    "df_unemployment_swiss_cleaned\n"
   ]
  },
  {
   "cell_type": "code",
   "execution_count": 158,
   "metadata": {},
   "outputs": [
    {
     "data": {
      "text/plain": [
       "array([[<matplotlib.axes._subplots.AxesSubplot object at 0x122756e10>]], dtype=object)"
      ]
     },
     "execution_count": 158,
     "metadata": {},
     "output_type": "execute_result"
    },
    {
     "data": {
      "image/png": "[encoded data removed]",
      "text/plain": [
       "<matplotlib.figure.Figure at 0x12274ae80>"
      ]
     },
     "metadata": {},
     "output_type": "display_data"
    }
   ],
   "source": [
    "df_unemployment_swiss_cleaned.hist()"
   ]
  },
  {
   "cell_type": "code",
   "execution_count": 159,
   "metadata": {},
   "outputs": [
    {
     "data": {
      "text/plain": [
       "array([[<matplotlib.axes._subplots.AxesSubplot object at 0x1215d05f8>]], dtype=object)"
      ]
     },
     "execution_count": 159,
     "metadata": {},
     "output_type": "execute_result"
    },
    {
     "data": {
      "image/png": "[encoded data removed]",
      "text/plain": [
       "<matplotlib.figure.Figure at 0x1215c8550>"
      ]
     },
     "metadata": {},
     "output_type": "display_data"
    }
   ],
   "source": [
    "#6 make kind of more sens\n",
    "df_unemployment_swiss_cleaned.hist(bins=6)"
   ]
  },
  {
   "cell_type": "code",
   "execution_count": 200,
   "metadata": {},
   "outputs": [],
   "source": [
    "def ch_map_canton_id(canton_id_geo_json):\n",
    "    if(canton_id_geo_json==\"Zug\"):\n",
    "        return \"Zoug\"\n",
    "    if(canton_id_geo_json[0]=='Z'):\n",
    "        return \"Zurich\"\n",
    "    if(canton_id_geo_json[:4]==\"Bern\"):\n",
    "        return \"Berne\"\n",
    "    if(canton_id_geo_json==\"Luzern\"):\n",
    "        return \"Lucerne\"\n",
    "    if(canton_id_geo_json[0]==\"O\"):\n",
    "        return \"Obwald\"\n",
    "    if(canton_id_geo_json[:2]==\"Ni\"):\n",
    "        return \"Nidwald\"\n",
    "    if(canton_id_geo_json[:2]=='Gl'):\n",
    "        return 'Glaris'\n",
    "    if(canton_id_geo_json[:3]==\"Sol\"):\n",
    "        return 'Soleure'\n",
    "    if(canton_id_geo_json[:7]==\"Basel-S\"):\n",
    "        return 'Bâle-Ville'\n",
    "    if(canton_id_geo_json[:7]==\"Basel-L\"):\n",
    "        return 'Bâle-Campagne'\n",
    "    if(canton_id_geo_json[:3]==\"Sch\"):\n",
    "        return 'Schaffhouse'\n",
    "    if(canton_id_geo_json[:11]=='Appenzell A'):\n",
    "        return 'Appenzell Rhodes-Extérieures'\n",
    "    if(canton_id_geo_json[:11]=='Appenzell I'):\n",
    "        return 'Appenzell Rhodes-Intérieures'\n",
    "    if(canton_id_geo_json[:2]=='St'):\n",
    "        return 'St-Gall'\n",
    "    if(canton_id_geo_json[:3]==\"Gra\"):\n",
    "        return 'Grisons'\n",
    "    if(canton_id_geo_json[:2]==\"Aa\"):\n",
    "        return 'Argovie'\n",
    "    if(canton_id_geo_json[:2]=='Th'):\n",
    "        return 'Thurgovie'\n",
    "    if(canton_id_geo_json[:2]==\"Ti\"):\n",
    "        return 'Tessin'\n",
    "    if(canton_id_geo_json[:6]=='Valais'):\n",
    "        return canton_id_geo_json[:6]\n",
    "    if(canton_id_geo_json[:3]=='Neu'):\n",
    "        return \"Neuchâtel\"\n",
    "    if(canton_id_geo_json[:2]==\"Ge\"):\n",
    "        return \"Genève\"\n",
    "    return canton_id_geo_json\n"
   ]
  },
  {
   "cell_type": "code",
   "execution_count": 214,
   "metadata": {},
   "outputs": [],
   "source": [
    "def ch_get_unemployment_rate(id_,df):\n",
    "    \"\"\"Fetches the unemployment rate for a given country from the data frame\"\"\"\n",
    "    try:\n",
    "        row = df.loc[df['Canton'] == ch_map_canton_id(id_)].values   \n",
    "        if(row.shape[0]==0):\n",
    "            return -1\n",
    "        return row[0][1]\n",
    "    except KeyError:\n",
    "        print (\"Canton with id {} not found in dataset\".format(id_))\n",
    "        return -1\n"
   ]
  },
  {
   "cell_type": "code",
   "execution_count": 215,
   "metadata": {},
   "outputs": [],
   "source": [
    "\n",
    "with open(topo_path_json_ch) as f:\n",
    "    \n",
    "    j = json.load(f)\n",
    "    \n",
    "    # Create an own topojson object in order to display popups \n",
    "    topojson = [{'type': j['type'],\n",
    "                 'objects': {'cantons': {\n",
    "                     'type': \"GeometryCollection\",\n",
    "                     'geometries': [f]}},\n",
    "                 'arcs' : j['arcs'],\n",
    "                 'transform' : j['transform']} \n",
    "                for f in j['objects']['cantons']['geometries']]\n",
    "    \n",
    "    # Add each topojson\n",
    "    for tj in map(lambda tj: folium.TopoJson(tj,\n",
    "                                             \"objects.cantons\", style_function=lambda cantons: {\n",
    "                                                'fillColor': unemployment_colors(cantons['properties']['name'],df_unemployment_swiss_cleaned,'ch'),\n",
    "                                                'fillOpacity': 1,\n",
    "                                                'weight': 1,\n",
    "                                                'color' : 'black',\n",
    "                                                'dashArray' : '0, 0'}),\n",
    "                  topojson):\n",
    "        \n",
    "        # fetch details for popup\n",
    "        unemployment_rate = ch_get_unemployment_rate(tj.data['objects']['cantons']['geometries'][0]['properties']['name'],df_unemployment_swiss_cleaned)\n",
    "        canton = tj.data['objects']['cantons']['geometries'][0]['properties']['name']\n",
    "    \n",
    "        # beautify popup\n",
    "        if unemployment_rate == -1:\n",
    "            html = \"\"\"\n",
    "                <h3> \"\"\"+canton+\"\"\" </h3> </br>\n",
    "                <p> Unemployment rate: unavailable </p> \"\"\"\n",
    "        else :\n",
    "            html = \"\"\"\n",
    "                <h3> \"\"\"+canton+\"\"\" </h3> </br>\n",
    "                <p> Unemployment rate: \"\"\"+\"{0:.2f}%\".format(unemployment_rate)+\"\"\" </p> \"\"\"\n",
    "            \n",
    "        # add popup and topojson\n",
    "        tj.add_child(folium.Popup(html))\n",
    "        tj.add_to(map_switzerland)"
   ]
  },
  {
   "cell_type": "code",
   "execution_count": 216,
   "metadata": {
    "collapsed": true
   },
   "outputs": [],
   "source": [
    "# Add legend\n",
    "min_ = min(df_unemployment_swiss['2017Q2'])\n",
    "max_= max(df_unemployment_swiss_cleaned['2017Q2'])\n",
    "count, division = np.histogram(df_unemployment_swiss_cleaned.iloc[:,1], bins=5)\n",
    "\n",
    "colormap = cm.StepColormap(\n",
    "            color_classes,\n",
    "            index=division,\n",
    "            vmin=min_,\n",
    "            vmax=max_,\n",
    "            caption=\"Unemployment rate [%]\",\n",
    "            )\n",
    "map_switzerland = map_switzerland.add_child(colormap)"
   ]
  },
  {
   "cell_type": "code",
   "execution_count": 217,
   "metadata": {},
   "outputs": [],
   "source": [
    "map_switzerland.save('swiss_unemployment_rate.html')"
   ]
  },
  {
   "cell_type": "markdown",
   "metadata": {},
   "source": [
    "Access the map [here](swiss_unemployment_rate.html)"
   ]
  },
  {
   "cell_type": "markdown",
   "metadata": {},
   "source": [
    "# Swiss and Foreigners"
   ]
  },
  {
   "cell_type": "code",
   "execution_count": 218,
   "metadata": {
    "collapsed": true
   },
   "outputs": [],
   "source": [
    "#read data\n",
    "path = os.path.join('FetchedData', 'Unemployment_rate_swiss_and_foreigners.xlsx')\n",
    "df_unemployment_swiss_foreigners = pd.read_excel(path)\n",
    "\n",
    "#set index to Canton and Nationality\n",
    "df_unemployment_swiss_foreigners_clean = df_unemployment_swiss_foreigners.set_index(['Canton','Nationalité']).drop(['Mois'], axis = 1)\n",
    "\n",
    "#Keep the moths that correspond to the second quaterly to match our definition\n",
    "df_unemployment_swiss_foreigners_clean = df_unemployment_swiss_foreigners_clean.iloc[:,6:12]\n",
    "\n",
    "#Keep the percentage only\n",
    "df_unemployment_swiss_foreigners_clean = df_unemployment_swiss_foreigners_clean.drop(['Avril 2017.1','Mai 2017.1','Juin 2017.1'],axis=1) \n",
    "df_unemployment_swiss_foreigners_clean = df_unemployment_swiss_foreigners_clean.iloc[1:]"
   ]
  },
  {
   "cell_type": "code",
   "execution_count": 219,
   "metadata": {},
   "outputs": [
    {
     "data": {
      "text/html": [
       "<div>\n",
       "<style>\n",
       "    .dataframe thead tr:only-child th {\n",
       "        text-align: right;\n",
       "    }\n",
       "\n",
       "    .dataframe thead th {\n",
       "        text-align: left;\n",
       "    }\n",
       "\n",
       "    .dataframe tbody tr th {\n",
       "        vertical-align: top;\n",
       "    }\n",
       "</style>\n",
       "<table border=\"1\" class=\"dataframe\">\n",
       "  <thead>\n",
       "    <tr style=\"text-align: right;\">\n",
       "      <th></th>\n",
       "      <th></th>\n",
       "      <th>Avril 2017</th>\n",
       "      <th>Mai 2017</th>\n",
       "      <th>Juin 2017</th>\n",
       "    </tr>\n",
       "    <tr>\n",
       "      <th>Canton</th>\n",
       "      <th>Nationalité</th>\n",
       "      <th></th>\n",
       "      <th></th>\n",
       "      <th></th>\n",
       "    </tr>\n",
       "  </thead>\n",
       "  <tbody>\n",
       "    <tr>\n",
       "      <th rowspan=\"2\" valign=\"top\">Zurich</th>\n",
       "      <th>Etrangers</th>\n",
       "      <td>6</td>\n",
       "      <td>5.7</td>\n",
       "      <td>5.6</td>\n",
       "    </tr>\n",
       "    <tr>\n",
       "      <th>Suisses</th>\n",
       "      <td>2.7</td>\n",
       "      <td>2.6</td>\n",
       "      <td>2.6</td>\n",
       "    </tr>\n",
       "    <tr>\n",
       "      <th rowspan=\"2\" valign=\"top\">Berne</th>\n",
       "      <th>Etrangers</th>\n",
       "      <td>6.8</td>\n",
       "      <td>6.2</td>\n",
       "      <td>5.7</td>\n",
       "    </tr>\n",
       "    <tr>\n",
       "      <th>Suisses</th>\n",
       "      <td>2</td>\n",
       "      <td>1.9</td>\n",
       "      <td>1.8</td>\n",
       "    </tr>\n",
       "    <tr>\n",
       "      <th rowspan=\"2\" valign=\"top\">Lucerne</th>\n",
       "      <th>Etrangers</th>\n",
       "      <td>4.6</td>\n",
       "      <td>4.3</td>\n",
       "      <td>4.1</td>\n",
       "    </tr>\n",
       "    <tr>\n",
       "      <th>Suisses</th>\n",
       "      <td>1.3</td>\n",
       "      <td>1.3</td>\n",
       "      <td>1.2</td>\n",
       "    </tr>\n",
       "  </tbody>\n",
       "</table>\n",
       "</div>"
      ],
      "text/plain": [
       "                    Avril 2017 Mai 2017 Juin 2017\n",
       "Canton  Nationalité                              \n",
       "Zurich  Etrangers            6      5.7       5.6\n",
       "        Suisses            2.7      2.6       2.6\n",
       "Berne   Etrangers          6.8      6.2       5.7\n",
       "        Suisses              2      1.9       1.8\n",
       "Lucerne Etrangers          4.6      4.3       4.1\n",
       "        Suisses            1.3      1.3       1.2"
      ]
     },
     "execution_count": 219,
     "metadata": {},
     "output_type": "execute_result"
    }
   ],
   "source": [
    "df_unemployment_swiss_foreigners_clean.head(6)"
   ]
  },
  {
   "cell_type": "code",
   "execution_count": 220,
   "metadata": {},
   "outputs": [],
   "source": [
    "#Compute the mean to get the rates of the second quaterly\n",
    "df_unemployment_swiss_foreigners_clean['2017Q2'] = (pd.to_numeric(df_unemployment_swiss_foreigners_clean['Avril 2017'])+pd.to_numeric(df_unemployment_swiss_foreigners_clean['Mai 2017'])+pd.to_numeric(df_unemployment_swiss_foreigners_clean['Juin 2017']))/3\n",
    "\n",
    "df_unemployment_swiss_foreigners_clean = df_unemployment_swiss_foreigners_clean.iloc[:,3:]\n",
    "df_unemployment_swiss_foreigners_clean = df_unemployment_swiss_foreigners_clean.drop(df_unemployment_swiss_foreigners_clean.index[len(df_unemployment_swiss_foreigners_clean)-1])"
   ]
  },
  {
   "cell_type": "code",
   "execution_count": 221,
   "metadata": {},
   "outputs": [
    {
     "data": {
      "text/html": [
       "<div>\n",
       "<style>\n",
       "    .dataframe thead tr:only-child th {\n",
       "        text-align: right;\n",
       "    }\n",
       "\n",
       "    .dataframe thead th {\n",
       "        text-align: left;\n",
       "    }\n",
       "\n",
       "    .dataframe tbody tr th {\n",
       "        vertical-align: top;\n",
       "    }\n",
       "</style>\n",
       "<table border=\"1\" class=\"dataframe\">\n",
       "  <thead>\n",
       "    <tr style=\"text-align: right;\">\n",
       "      <th></th>\n",
       "      <th></th>\n",
       "      <th>2017Q2</th>\n",
       "    </tr>\n",
       "    <tr>\n",
       "      <th>Canton</th>\n",
       "      <th>Nationalité</th>\n",
       "      <th></th>\n",
       "    </tr>\n",
       "  </thead>\n",
       "  <tbody>\n",
       "    <tr>\n",
       "      <th rowspan=\"2\" valign=\"top\">Zurich</th>\n",
       "      <th>Etrangers</th>\n",
       "      <td>5.766667</td>\n",
       "    </tr>\n",
       "    <tr>\n",
       "      <th>Suisses</th>\n",
       "      <td>2.633333</td>\n",
       "    </tr>\n",
       "    <tr>\n",
       "      <th rowspan=\"2\" valign=\"top\">Berne</th>\n",
       "      <th>Etrangers</th>\n",
       "      <td>6.233333</td>\n",
       "    </tr>\n",
       "    <tr>\n",
       "      <th>Suisses</th>\n",
       "      <td>1.900000</td>\n",
       "    </tr>\n",
       "    <tr>\n",
       "      <th rowspan=\"2\" valign=\"top\">Lucerne</th>\n",
       "      <th>Etrangers</th>\n",
       "      <td>4.333333</td>\n",
       "    </tr>\n",
       "    <tr>\n",
       "      <th>Suisses</th>\n",
       "      <td>1.266667</td>\n",
       "    </tr>\n",
       "  </tbody>\n",
       "</table>\n",
       "</div>"
      ],
      "text/plain": [
       "                       2017Q2\n",
       "Canton  Nationalité          \n",
       "Zurich  Etrangers    5.766667\n",
       "        Suisses      2.633333\n",
       "Berne   Etrangers    6.233333\n",
       "        Suisses      1.900000\n",
       "Lucerne Etrangers    4.333333\n",
       "        Suisses      1.266667"
      ]
     },
     "execution_count": 221,
     "metadata": {},
     "output_type": "execute_result"
    }
   ],
   "source": [
    "df_unemployment_swiss_foreigners_clean.head(6)"
   ]
  },
  {
   "cell_type": "code",
   "execution_count": 222,
   "metadata": {},
   "outputs": [
    {
     "data": {
      "text/plain": [
       "array([[<matplotlib.axes._subplots.AxesSubplot object at 0x123a7ff60>]], dtype=object)"
      ]
     },
     "execution_count": 222,
     "metadata": {},
     "output_type": "execute_result"
    },
    {
     "data": {
      "image/png": "[encoded data removed]",
      "text/plain": [
       "<matplotlib.figure.Figure at 0x12247fd30>"
      ]
     },
     "metadata": {},
     "output_type": "display_data"
    }
   ],
   "source": [
    "df_unemployment_swiss_foreigners_clean.hist(bins=5)"
   ]
  },
  {
   "cell_type": "code",
   "execution_count": 223,
   "metadata": {
    "collapsed": true
   },
   "outputs": [],
   "source": [
    "#Compute the difference between swiss and foreigners in each canton\n",
    "df = df_unemployment_swiss_foreigners_clean.copy().reset_index()\n",
    "for i in range(0,len(df)-1,2):\n",
    "    df.loc[i,'difference'] = df.loc[i,'2017Q2']-df.loc[i+1,'2017Q2']\n",
    "    df = df.drop(i+1,axis=0)\n",
    "df = df.drop(['2017Q2','Nationalité'],axis=1)    \n",
    "df = df.reset_index().drop('index',axis=1)"
   ]
  },
  {
   "cell_type": "code",
   "execution_count": 224,
   "metadata": {},
   "outputs": [
    {
     "data": {
      "text/html": [
       "<div>\n",
       "<style>\n",
       "    .dataframe thead tr:only-child th {\n",
       "        text-align: right;\n",
       "    }\n",
       "\n",
       "    .dataframe thead th {\n",
       "        text-align: left;\n",
       "    }\n",
       "\n",
       "    .dataframe tbody tr th {\n",
       "        vertical-align: top;\n",
       "    }\n",
       "</style>\n",
       "<table border=\"1\" class=\"dataframe\">\n",
       "  <thead>\n",
       "    <tr style=\"text-align: right;\">\n",
       "      <th></th>\n",
       "      <th>Canton</th>\n",
       "      <th>difference</th>\n",
       "    </tr>\n",
       "  </thead>\n",
       "  <tbody>\n",
       "    <tr>\n",
       "      <th>0</th>\n",
       "      <td>Zurich</td>\n",
       "      <td>3.133333</td>\n",
       "    </tr>\n",
       "    <tr>\n",
       "      <th>1</th>\n",
       "      <td>Berne</td>\n",
       "      <td>4.333333</td>\n",
       "    </tr>\n",
       "    <tr>\n",
       "      <th>2</th>\n",
       "      <td>Lucerne</td>\n",
       "      <td>3.066667</td>\n",
       "    </tr>\n",
       "    <tr>\n",
       "      <th>3</th>\n",
       "      <td>Uri</td>\n",
       "      <td>3.566667</td>\n",
       "    </tr>\n",
       "    <tr>\n",
       "      <th>4</th>\n",
       "      <td>Schwyz</td>\n",
       "      <td>2.533333</td>\n",
       "    </tr>\n",
       "    <tr>\n",
       "      <th>5</th>\n",
       "      <td>Obwald</td>\n",
       "      <td>2.066667</td>\n",
       "    </tr>\n",
       "    <tr>\n",
       "      <th>6</th>\n",
       "      <td>Nidwald</td>\n",
       "      <td>2.733333</td>\n",
       "    </tr>\n",
       "    <tr>\n",
       "      <th>7</th>\n",
       "      <td>Glaris</td>\n",
       "      <td>2.766667</td>\n",
       "    </tr>\n",
       "    <tr>\n",
       "      <th>8</th>\n",
       "      <td>Zoug</td>\n",
       "      <td>2.400000</td>\n",
       "    </tr>\n",
       "    <tr>\n",
       "      <th>9</th>\n",
       "      <td>Fribourg</td>\n",
       "      <td>3.000000</td>\n",
       "    </tr>\n",
       "    <tr>\n",
       "      <th>10</th>\n",
       "      <td>Soleure</td>\n",
       "      <td>3.733333</td>\n",
       "    </tr>\n",
       "    <tr>\n",
       "      <th>11</th>\n",
       "      <td>Bâle-Ville</td>\n",
       "      <td>2.266667</td>\n",
       "    </tr>\n",
       "    <tr>\n",
       "      <th>12</th>\n",
       "      <td>Bâle-Campagne</td>\n",
       "      <td>2.933333</td>\n",
       "    </tr>\n",
       "    <tr>\n",
       "      <th>13</th>\n",
       "      <td>Schaffhouse</td>\n",
       "      <td>3.433333</td>\n",
       "    </tr>\n",
       "    <tr>\n",
       "      <th>14</th>\n",
       "      <td>Appenzell Rhodes-Extérieures</td>\n",
       "      <td>2.433333</td>\n",
       "    </tr>\n",
       "    <tr>\n",
       "      <th>15</th>\n",
       "      <td>Appenzell Rhodes-Intérieures</td>\n",
       "      <td>2.000000</td>\n",
       "    </tr>\n",
       "    <tr>\n",
       "      <th>16</th>\n",
       "      <td>St-Gall</td>\n",
       "      <td>3.100000</td>\n",
       "    </tr>\n",
       "    <tr>\n",
       "      <th>17</th>\n",
       "      <td>Grisons</td>\n",
       "      <td>3.733333</td>\n",
       "    </tr>\n",
       "    <tr>\n",
       "      <th>18</th>\n",
       "      <td>Argovie</td>\n",
       "      <td>4.000000</td>\n",
       "    </tr>\n",
       "    <tr>\n",
       "      <th>19</th>\n",
       "      <td>Thurgovie</td>\n",
       "      <td>2.766667</td>\n",
       "    </tr>\n",
       "    <tr>\n",
       "      <th>20</th>\n",
       "      <td>Tessin</td>\n",
       "      <td>2.233333</td>\n",
       "    </tr>\n",
       "    <tr>\n",
       "      <th>21</th>\n",
       "      <td>Vaud</td>\n",
       "      <td>2.800000</td>\n",
       "    </tr>\n",
       "    <tr>\n",
       "      <th>22</th>\n",
       "      <td>Valais</td>\n",
       "      <td>4.166667</td>\n",
       "    </tr>\n",
       "    <tr>\n",
       "      <th>23</th>\n",
       "      <td>Neuchâtel</td>\n",
       "      <td>3.933333</td>\n",
       "    </tr>\n",
       "    <tr>\n",
       "      <th>24</th>\n",
       "      <td>Genève</td>\n",
       "      <td>1.266667</td>\n",
       "    </tr>\n",
       "    <tr>\n",
       "      <th>25</th>\n",
       "      <td>Jura</td>\n",
       "      <td>6.100000</td>\n",
       "    </tr>\n",
       "  </tbody>\n",
       "</table>\n",
       "</div>"
      ],
      "text/plain": [
       "                          Canton  difference\n",
       "0                         Zurich    3.133333\n",
       "1                          Berne    4.333333\n",
       "2                        Lucerne    3.066667\n",
       "3                            Uri    3.566667\n",
       "4                         Schwyz    2.533333\n",
       "5                         Obwald    2.066667\n",
       "6                        Nidwald    2.733333\n",
       "7                         Glaris    2.766667\n",
       "8                           Zoug    2.400000\n",
       "9                       Fribourg    3.000000\n",
       "10                       Soleure    3.733333\n",
       "11                    Bâle-Ville    2.266667\n",
       "12                 Bâle-Campagne    2.933333\n",
       "13                   Schaffhouse    3.433333\n",
       "14  Appenzell Rhodes-Extérieures    2.433333\n",
       "15  Appenzell Rhodes-Intérieures    2.000000\n",
       "16                       St-Gall    3.100000\n",
       "17                       Grisons    3.733333\n",
       "18                       Argovie    4.000000\n",
       "19                     Thurgovie    2.766667\n",
       "20                        Tessin    2.233333\n",
       "21                          Vaud    2.800000\n",
       "22                        Valais    4.166667\n",
       "23                     Neuchâtel    3.933333\n",
       "24                        Genève    1.266667\n",
       "25                          Jura    6.100000"
      ]
     },
     "execution_count": 224,
     "metadata": {},
     "output_type": "execute_result"
    }
   ],
   "source": [
    "df"
   ]
  },
  {
   "cell_type": "code",
   "execution_count": 225,
   "metadata": {
    "collapsed": true,
    "scrolled": true
   },
   "outputs": [],
   "source": [
    "map_switzerland = folium.Map([47,9], tiles='cartodbpositron',zoom_start=7)"
   ]
  },
  {
   "cell_type": "code",
   "execution_count": 226,
   "metadata": {},
   "outputs": [],
   "source": [
    "with open(topo_path_json_ch) as f:\n",
    "    \n",
    "    j = json.load(f)\n",
    "    \n",
    "    # Create an own topojson object in order to display popups \n",
    "    topojson = [{'type': j['type'],\n",
    "                 'objects': {'cantons': {\n",
    "                     'type': \"GeometryCollection\",\n",
    "                     'geometries': [f]}},\n",
    "                 'arcs' : j['arcs'],\n",
    "                 'transform' : j['transform']} \n",
    "                for f in j['objects']['cantons']['geometries']]\n",
    "    \n",
    "    # Add each topojson\n",
    "    for tj in map(lambda tj: folium.TopoJson(tj,\n",
    "                                             \"objects.cantons\", style_function=lambda cantons: {\n",
    "                                                'fillColor': unemployment_colors(cantons['properties']['name'],df,'ch'),\n",
    "                                                'fillOpacity': 1,\n",
    "                                                'weight': 1,\n",
    "                                                'color' : 'black',\n",
    "                                                'dashArray' : '0, 0'}),\n",
    "                  topojson):\n",
    "        \n",
    "        # fetch details for popup\n",
    "        difference_rate = ch_get_unemployment_rate(tj.data['objects']['cantons']['geometries'][0]['properties']['name'],df)\n",
    "        canton = tj.data['objects']['cantons']['geometries'][0]['properties']['name']\n",
    "    \n",
    "        # beautify popup\n",
    "        if unemployment_rate == -1:\n",
    "            html = \"\"\"\n",
    "                <h3> \"\"\"+canton+\"\"\" </h3> </br>\n",
    "                <p> Difference rate: unavailable </p> \"\"\"\n",
    "        else :\n",
    "            html = \"\"\"\n",
    "                <h3> \"\"\"+canton+\"\"\" </h3> </br>\n",
    "                <p> Difference rate: \"\"\"+\"{0:.2f}%\".format(difference_rate)+\"\"\" </p> \"\"\"\n",
    "            \n",
    "        # add popup and topojson\n",
    "        tj.add_child(folium.Popup(html))\n",
    "        tj.add_to(map_switzerland)"
   ]
  },
  {
   "cell_type": "code",
   "execution_count": 229,
   "metadata": {
    "collapsed": true
   },
   "outputs": [],
   "source": [
    "# Add legend\n",
    "min_ = min(df['difference'])\n",
    "max_= max(df['difference'])\n",
    "count, division = np.histogram(df.iloc[:,1], bins=5)\n",
    "colormap = cm.StepColormap(\n",
    "            color_classes,\n",
    "            index=division,\n",
    "            vmin=min_,\n",
    "            vmax=max_,\n",
    "            caption=\"Difference rate [%]\",\n",
    "            )\n",
    "map_switzerland = map_switzerland.add_child(colormap)"
   ]
  },
  {
   "cell_type": "code",
   "execution_count": 230,
   "metadata": {
    "collapsed": true
   },
   "outputs": [],
   "source": [
    "map_switzerland.save('swiss_foreigners_unemployment_rate.html')"
   ]
  },
  {
   "cell_type": "markdown",
   "metadata": {},
   "source": [
    "Access the map [here](swiss_foreigners_unemployment_rate.html)"
   ]
  },
  {
   "cell_type": "code",
   "execution_count": null,
   "metadata": {
    "collapsed": true
   },
   "outputs": [],
   "source": []
  },
  {
   "cell_type": "code",
   "execution_count": null,
   "metadata": {
    "collapsed": true
   },
   "outputs": [],
   "source": []
  }
 ],
 "metadata": {
  "anaconda-cloud": {},
  "kernelspec": {
   "display_name": "Python 3",
   "language": "python",
   "name": "python3"
  },
  "language_info": {
   "codemirror_mode": {
    "name": "ipython",
    "version": 3
   },
   "file_extension": ".py",
   "mimetype": "text/x-python",
   "name": "python",
   "nbconvert_exporter": "python",
   "pygments_lexer": "ipython3",
   "version": "3.6.1"
  }
 },
 "nbformat": 4,
 "nbformat_minor": 1
}
