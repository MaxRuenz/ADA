{
 "cells": [
  {
   "cell_type": "markdown",
   "metadata": {},
   "source": [
    "# Homework 3"
   ]
  },
  {
   "cell_type": "markdown",
   "metadata": {},
   "source": [
    "Before starting notebook, activate viz: *jupyter nbextension enable vega --py*"
   ]
  },
  {
   "cell_type": "code",
   "execution_count": 27,
   "metadata": {
    "collapsed": true
   },
   "outputs": [],
   "source": [
    "import pandas as pd\n",
    "import numpy as np\n",
    "import folium\n",
    "import branca.colormap as cm\n",
    "import json\n",
    "import os\n",
    "import csv\n",
    "%matplotlib inline"
   ]
  },
  {
   "cell_type": "markdown",
   "metadata": {},
   "source": [
    "## Initial variables and helper functions"
   ]
  },
  {
   "cell_type": "code",
   "execution_count": 28,
   "metadata": {
    "collapsed": true
   },
   "outputs": [],
   "source": [
    "topo_path_json_eu = os.path.join('topojson', 'europe.topojson.json')\n",
    "topo_path_json_ch = os.path.join('topojson', 'ch-cantons.topojson.json')\n",
    "\n",
    "path_unemployment_eu_month = os.path.join('FetchedData', 'Unemployment_rate_EU.tsv')\n",
    "\n",
    "color_undef = \"#bdbdbd\"\n",
    "\n",
    "# picked with colorbrewer, orange since unemployment rate is bad\n",
    "color_classes = ['#fef0d9','#fdcc8a','#fc8d59','#e34a33','#b30000']"
   ]
  },
  {
   "cell_type": "markdown",
   "metadata": {},
   "source": [
    "## Our definition of unemployment rate"
   ]
  },
  {
   "cell_type": "markdown",
   "metadata": {},
   "source": [
    "We define unemployment rate as the quaterly seasonal adjusted rate of people who declared their unemployment, while having no job.\n",
    "We do not differentiate between male and female or ages."
   ]
  },
  {
   "cell_type": "markdown",
   "metadata": {},
   "source": [
    "## Unemployment rate in Europe at a country level"
   ]
  },
  {
   "cell_type": "markdown",
   "metadata": {},
   "source": [
    "The chosen dataset from the EU contains information for people of the ages 15 - 74.  \n",
    "We picked the dataset which differentiates between education, because it contains Switzerland. The basic datasets did not contain Switzerland.  \n",
    "In order to calculate the total unemployment rate we took the mean of the unemployment rate of the educational classes."
   ]
  },
  {
   "cell_type": "code",
   "execution_count": 29,
   "metadata": {
    "collapsed": true,
    "scrolled": false
   },
   "outputs": [],
   "source": [
    "map_europe = folium.Map([57,18], zoom_start=3)"
   ]
  },
  {
   "cell_type": "markdown",
   "metadata": {},
   "source": [
    "### Preprocess downloaded data"
   ]
  },
  {
   "cell_type": "code",
   "execution_count": 30,
   "metadata": {},
   "outputs": [
    {
     "data": {
      "text/html": [
       "<div>\n",
       "<style>\n",
       "    .dataframe thead tr:only-child th {\n",
       "        text-align: right;\n",
       "    }\n",
       "\n",
       "    .dataframe thead th {\n",
       "        text-align: left;\n",
       "    }\n",
       "\n",
       "    .dataframe tbody tr th {\n",
       "        vertical-align: top;\n",
       "    }\n",
       "</style>\n",
       "<table border=\"1\" class=\"dataframe\">\n",
       "  <thead>\n",
       "    <tr style=\"text-align: right;\">\n",
       "      <th></th>\n",
       "      <th>sex,isced11,age,s_adj,unit,geo\\time</th>\n",
       "      <th>2017Q2</th>\n",
       "      <th>2017Q1</th>\n",
       "      <th>2016Q4</th>\n",
       "      <th>2016Q3</th>\n",
       "      <th>2016Q2</th>\n",
       "      <th>2016Q1</th>\n",
       "      <th>2015Q4</th>\n",
       "      <th>2015Q3</th>\n",
       "      <th>2015Q2</th>\n",
       "      <th>...</th>\n",
       "      <th>2000Q2</th>\n",
       "      <th>2000Q1</th>\n",
       "      <th>1999Q4</th>\n",
       "      <th>1999Q3</th>\n",
       "      <th>1999Q2</th>\n",
       "      <th>1999Q1</th>\n",
       "      <th>1998Q4</th>\n",
       "      <th>1998Q3</th>\n",
       "      <th>1998Q2</th>\n",
       "      <th>1998Q1</th>\n",
       "    </tr>\n",
       "  </thead>\n",
       "  <tbody>\n",
       "    <tr>\n",
       "      <th>0</th>\n",
       "      <td>F,ED0-2,Y15-74,NSA,PC_ACT,AT</td>\n",
       "      <td>11.2</td>\n",
       "      <td>12.3</td>\n",
       "      <td>11.4</td>\n",
       "      <td>11.3</td>\n",
       "      <td>10.6</td>\n",
       "      <td>10.3</td>\n",
       "      <td>9.8</td>\n",
       "      <td>9.3</td>\n",
       "      <td>9.6</td>\n",
       "      <td>...</td>\n",
       "      <td>5.7</td>\n",
       "      <td>7.3</td>\n",
       "      <td>5.5</td>\n",
       "      <td>5.0</td>\n",
       "      <td>4.7</td>\n",
       "      <td>6.7</td>\n",
       "      <td>:</td>\n",
       "      <td>:</td>\n",
       "      <td>:</td>\n",
       "      <td>8.6</td>\n",
       "    </tr>\n",
       "    <tr>\n",
       "      <th>1</th>\n",
       "      <td>F,ED0-2,Y15-74,NSA,PC_ACT,BE</td>\n",
       "      <td>14.3</td>\n",
       "      <td>17.5 b</td>\n",
       "      <td>13.0</td>\n",
       "      <td>17.4</td>\n",
       "      <td>16.7</td>\n",
       "      <td>17.3</td>\n",
       "      <td>16.4</td>\n",
       "      <td>14.7</td>\n",
       "      <td>15.8</td>\n",
       "      <td>...</td>\n",
       "      <td>14.1</td>\n",
       "      <td>15.8</td>\n",
       "      <td>16.3</td>\n",
       "      <td>16.9</td>\n",
       "      <td>17.3</td>\n",
       "      <td>18.8 b</td>\n",
       "      <td>:</td>\n",
       "      <td>:</td>\n",
       "      <td>19.3</td>\n",
       "      <td>:</td>\n",
       "    </tr>\n",
       "    <tr>\n",
       "      <th>2</th>\n",
       "      <td>F,ED0-2,Y15-74,NSA,PC_ACT,BG</td>\n",
       "      <td>19.1</td>\n",
       "      <td>26.0</td>\n",
       "      <td>22.1</td>\n",
       "      <td>20.9</td>\n",
       "      <td>24.2</td>\n",
       "      <td>26.8</td>\n",
       "      <td>24.8</td>\n",
       "      <td>24.5</td>\n",
       "      <td>26.0</td>\n",
       "      <td>...</td>\n",
       "      <td>27.2</td>\n",
       "      <td>34.9</td>\n",
       "      <td>:</td>\n",
       "      <td>:</td>\n",
       "      <td>:</td>\n",
       "      <td>:</td>\n",
       "      <td>:</td>\n",
       "      <td>:</td>\n",
       "      <td>:</td>\n",
       "      <td>:</td>\n",
       "    </tr>\n",
       "    <tr>\n",
       "      <th>3</th>\n",
       "      <td>F,ED0-2,Y15-74,NSA,PC_ACT,CH</td>\n",
       "      <td>8.5</td>\n",
       "      <td>9.4</td>\n",
       "      <td>9.2</td>\n",
       "      <td>9.1</td>\n",
       "      <td>9.4</td>\n",
       "      <td>9.3</td>\n",
       "      <td>7.5</td>\n",
       "      <td>11.3</td>\n",
       "      <td>9.0</td>\n",
       "      <td>...</td>\n",
       "      <td>:</td>\n",
       "      <td>:</td>\n",
       "      <td>:</td>\n",
       "      <td>:</td>\n",
       "      <td>:</td>\n",
       "      <td>:</td>\n",
       "      <td>:</td>\n",
       "      <td>:</td>\n",
       "      <td>:</td>\n",
       "      <td>:</td>\n",
       "    </tr>\n",
       "    <tr>\n",
       "      <th>4</th>\n",
       "      <td>F,ED0-2,Y15-74,NSA,PC_ACT,CY</td>\n",
       "      <td>11.5</td>\n",
       "      <td>14.2</td>\n",
       "      <td>13.0</td>\n",
       "      <td>10.9</td>\n",
       "      <td>12.3</td>\n",
       "      <td>13.9</td>\n",
       "      <td>8.5</td>\n",
       "      <td>13.4</td>\n",
       "      <td>16.1</td>\n",
       "      <td>...</td>\n",
       "      <td>8.6</td>\n",
       "      <td>:</td>\n",
       "      <td>:</td>\n",
       "      <td>:</td>\n",
       "      <td>:</td>\n",
       "      <td>:</td>\n",
       "      <td>:</td>\n",
       "      <td>:</td>\n",
       "      <td>:</td>\n",
       "      <td>:</td>\n",
       "    </tr>\n",
       "  </tbody>\n",
       "</table>\n",
       "<p>5 rows × 79 columns</p>\n",
       "</div>"
      ],
      "text/plain": [
       "  sex,isced11,age,s_adj,unit,geo\\time 2017Q2  2017Q1  2016Q4  2016Q3  2016Q2   \\\n",
       "0        F,ED0-2,Y15-74,NSA,PC_ACT,AT   11.2    12.3    11.4    11.3    10.6    \n",
       "1        F,ED0-2,Y15-74,NSA,PC_ACT,BE   14.3   17.5 b   13.0    17.4    16.7    \n",
       "2        F,ED0-2,Y15-74,NSA,PC_ACT,BG   19.1    26.0    22.1    20.9    24.2    \n",
       "3        F,ED0-2,Y15-74,NSA,PC_ACT,CH    8.5     9.4     9.2     9.1     9.4    \n",
       "4        F,ED0-2,Y15-74,NSA,PC_ACT,CY   11.5    14.2    13.0    10.9    12.3    \n",
       "\n",
       "  2016Q1  2015Q4  2015Q3  2015Q2    ...   2000Q2  2000Q1  1999Q4  1999Q3   \\\n",
       "0   10.3     9.8     9.3     9.6    ...      5.7     7.3     5.5     5.0    \n",
       "1   17.3    16.4    14.7    15.8    ...     14.1    15.8    16.3    16.9    \n",
       "2   26.8    24.8    24.5    26.0    ...     27.2    34.9       :       :    \n",
       "3    9.3     7.5    11.3     9.0    ...        :       :       :       :    \n",
       "4   13.9     8.5    13.4    16.1    ...      8.6       :       :       :    \n",
       "\n",
       "  1999Q2  1999Q1  1998Q4  1998Q3  1998Q2  1998Q1   \n",
       "0    4.7     6.7       :       :       :     8.6   \n",
       "1   17.3   18.8 b      :       :    19.3       :   \n",
       "2      :       :       :       :       :       :   \n",
       "3      :       :       :       :       :       :   \n",
       "4      :       :       :       :       :       :   \n",
       "\n",
       "[5 rows x 79 columns]"
      ]
     },
     "execution_count": 30,
     "metadata": {},
     "output_type": "execute_result"
    }
   ],
   "source": [
    "df_unemployment_eu_month = pd.read_csv(path_unemployment_eu_month, sep='\\t')\n",
    "df_unemployment_eu_month.head()"
   ]
  },
  {
   "cell_type": "code",
   "execution_count": 31,
   "metadata": {},
   "outputs": [
    {
     "data": {
      "text/html": [
       "<div>\n",
       "<style>\n",
       "    .dataframe thead tr:only-child th {\n",
       "        text-align: right;\n",
       "    }\n",
       "\n",
       "    .dataframe thead th {\n",
       "        text-align: left;\n",
       "    }\n",
       "\n",
       "    .dataframe tbody tr th {\n",
       "        vertical-align: top;\n",
       "    }\n",
       "</style>\n",
       "<table border=\"1\" class=\"dataframe\">\n",
       "  <thead>\n",
       "    <tr style=\"text-align: right;\">\n",
       "      <th></th>\n",
       "      <th>sex,isced11,age,s_adj,unit,geo\\time</th>\n",
       "      <th>2017Q2</th>\n",
       "    </tr>\n",
       "  </thead>\n",
       "  <tbody>\n",
       "    <tr>\n",
       "      <th>0</th>\n",
       "      <td>F,ED0-2,Y15-74,NSA,PC_ACT,AT</td>\n",
       "      <td>11.2</td>\n",
       "    </tr>\n",
       "    <tr>\n",
       "      <th>1</th>\n",
       "      <td>F,ED0-2,Y15-74,NSA,PC_ACT,BE</td>\n",
       "      <td>14.3</td>\n",
       "    </tr>\n",
       "    <tr>\n",
       "      <th>2</th>\n",
       "      <td>F,ED0-2,Y15-74,NSA,PC_ACT,BG</td>\n",
       "      <td>19.1</td>\n",
       "    </tr>\n",
       "    <tr>\n",
       "      <th>3</th>\n",
       "      <td>F,ED0-2,Y15-74,NSA,PC_ACT,CH</td>\n",
       "      <td>8.5</td>\n",
       "    </tr>\n",
       "    <tr>\n",
       "      <th>4</th>\n",
       "      <td>F,ED0-2,Y15-74,NSA,PC_ACT,CY</td>\n",
       "      <td>11.5</td>\n",
       "    </tr>\n",
       "  </tbody>\n",
       "</table>\n",
       "</div>"
      ],
      "text/plain": [
       "  sex,isced11,age,s_adj,unit,geo\\time 2017Q2 \n",
       "0        F,ED0-2,Y15-74,NSA,PC_ACT,AT   11.2 \n",
       "1        F,ED0-2,Y15-74,NSA,PC_ACT,BE   14.3 \n",
       "2        F,ED0-2,Y15-74,NSA,PC_ACT,BG   19.1 \n",
       "3        F,ED0-2,Y15-74,NSA,PC_ACT,CH    8.5 \n",
       "4        F,ED0-2,Y15-74,NSA,PC_ACT,CY   11.5 "
      ]
     },
     "execution_count": 31,
     "metadata": {},
     "output_type": "execute_result"
    }
   ],
   "source": [
    "# Filter colums: Only use latest month\n",
    "cols_drop = [i for i in range(2,len(df_unemployment_eu_month.columns))]\n",
    "df_unemployment_eu_month_clean = df_unemployment_eu_month.drop(df_unemployment_eu_month.columns[cols_drop], axis=1)\n",
    "df_unemployment_eu_month_clean.head()"
   ]
  },
  {
   "cell_type": "code",
   "execution_count": 32,
   "metadata": {},
   "outputs": [
    {
     "name": "stderr",
     "output_type": "stream",
     "text": [
      "/Users/besmaelketroussi/anaconda/lib/python3.6/site-packages/ipykernel_launcher.py:10: UserWarning: This pattern has match groups. To actually get the groups, use str.extract.\n",
      "  # Remove the CWD from sys.path while we load stuff.\n"
     ]
    },
    {
     "data": {
      "text/html": [
       "<div>\n",
       "<style>\n",
       "    .dataframe thead tr:only-child th {\n",
       "        text-align: right;\n",
       "    }\n",
       "\n",
       "    .dataframe thead th {\n",
       "        text-align: left;\n",
       "    }\n",
       "\n",
       "    .dataframe tbody tr th {\n",
       "        vertical-align: top;\n",
       "    }\n",
       "</style>\n",
       "<table border=\"1\" class=\"dataframe\">\n",
       "  <thead>\n",
       "    <tr style=\"text-align: right;\">\n",
       "      <th></th>\n",
       "      <th>sex,isced11,age,s_adj,unit,geo\\time</th>\n",
       "      <th>2017Q2</th>\n",
       "    </tr>\n",
       "  </thead>\n",
       "  <tbody>\n",
       "    <tr>\n",
       "      <th>4368</th>\n",
       "      <td>T,ED0-2,Y15-74,SA,PC_ACT,AT</td>\n",
       "      <td>13.1</td>\n",
       "    </tr>\n",
       "    <tr>\n",
       "      <th>4369</th>\n",
       "      <td>T,ED0-2,Y15-74,SA,PC_ACT,BE</td>\n",
       "      <td>15.2</td>\n",
       "    </tr>\n",
       "    <tr>\n",
       "      <th>4370</th>\n",
       "      <td>T,ED0-2,Y15-74,SA,PC_ACT,BG</td>\n",
       "      <td>18.5</td>\n",
       "    </tr>\n",
       "    <tr>\n",
       "      <th>4371</th>\n",
       "      <td>T,ED0-2,Y15-74,SA,PC_ACT,CH</td>\n",
       "      <td>8.4</td>\n",
       "    </tr>\n",
       "    <tr>\n",
       "      <th>4372</th>\n",
       "      <td>T,ED0-2,Y15-74,SA,PC_ACT,CY</td>\n",
       "      <td>14.8</td>\n",
       "    </tr>\n",
       "  </tbody>\n",
       "</table>\n",
       "</div>"
      ],
      "text/plain": [
       "     sex,isced11,age,s_adj,unit,geo\\time 2017Q2 \n",
       "4368         T,ED0-2,Y15-74,SA,PC_ACT,AT   13.1 \n",
       "4369         T,ED0-2,Y15-74,SA,PC_ACT,BE   15.2 \n",
       "4370         T,ED0-2,Y15-74,SA,PC_ACT,BG   18.5 \n",
       "4371         T,ED0-2,Y15-74,SA,PC_ACT,CH    8.4 \n",
       "4372         T,ED0-2,Y15-74,SA,PC_ACT,CY   14.8 "
      ]
     },
     "execution_count": 32,
     "metadata": {},
     "output_type": "execute_result"
    }
   ],
   "source": [
    "# Filter rows\n",
    "\"\"\"\n",
    "T := male and female\n",
    "* := keep all educational classes\n",
    "Y15-74 := maximum age range\n",
    "SA := seasonal adjusted\n",
    "PC_ACT = percentage of popolation\n",
    "\"\"\"\n",
    "unempl_filter = r\"^T,(.*),Y15-74,SA,PC_ACT,(.*)\"\n",
    "df_unemployment_eu_month_clean = df_unemployment_eu_month_clean[df_unemployment_eu_month_clean.iloc[:,0].str.contains(unempl_filter)]\n",
    "df_unemployment_eu_month_clean.head()"
   ]
  },
  {
   "cell_type": "code",
   "execution_count": 33,
   "metadata": {},
   "outputs": [
    {
     "data": {
      "text/html": [
       "<div>\n",
       "<style>\n",
       "    .dataframe thead tr:only-child th {\n",
       "        text-align: right;\n",
       "    }\n",
       "\n",
       "    .dataframe thead th {\n",
       "        text-align: left;\n",
       "    }\n",
       "\n",
       "    .dataframe tbody tr th {\n",
       "        vertical-align: top;\n",
       "    }\n",
       "</style>\n",
       "<table border=\"1\" class=\"dataframe\">\n",
       "  <thead>\n",
       "    <tr style=\"text-align: right;\">\n",
       "      <th></th>\n",
       "      <th>sex,isced11,age,s_adj,unit,geo\\time</th>\n",
       "      <th>2017Q2</th>\n",
       "      <th>country</th>\n",
       "    </tr>\n",
       "  </thead>\n",
       "  <tbody>\n",
       "    <tr>\n",
       "      <th>4368</th>\n",
       "      <td>T,ED0-2,Y15-74,SA,PC_ACT,AT</td>\n",
       "      <td>13.1</td>\n",
       "      <td>AT</td>\n",
       "    </tr>\n",
       "    <tr>\n",
       "      <th>4369</th>\n",
       "      <td>T,ED0-2,Y15-74,SA,PC_ACT,BE</td>\n",
       "      <td>15.2</td>\n",
       "      <td>BE</td>\n",
       "    </tr>\n",
       "    <tr>\n",
       "      <th>4370</th>\n",
       "      <td>T,ED0-2,Y15-74,SA,PC_ACT,BG</td>\n",
       "      <td>18.5</td>\n",
       "      <td>BG</td>\n",
       "    </tr>\n",
       "    <tr>\n",
       "      <th>4371</th>\n",
       "      <td>T,ED0-2,Y15-74,SA,PC_ACT,CH</td>\n",
       "      <td>8.4</td>\n",
       "      <td>CH</td>\n",
       "    </tr>\n",
       "    <tr>\n",
       "      <th>4372</th>\n",
       "      <td>T,ED0-2,Y15-74,SA,PC_ACT,CY</td>\n",
       "      <td>14.8</td>\n",
       "      <td>CY</td>\n",
       "    </tr>\n",
       "  </tbody>\n",
       "</table>\n",
       "</div>"
      ],
      "text/plain": [
       "     sex,isced11,age,s_adj,unit,geo\\time 2017Q2  country\n",
       "4368         T,ED0-2,Y15-74,SA,PC_ACT,AT   13.1       AT\n",
       "4369         T,ED0-2,Y15-74,SA,PC_ACT,BE   15.2       BE\n",
       "4370         T,ED0-2,Y15-74,SA,PC_ACT,BG   18.5       BG\n",
       "4371         T,ED0-2,Y15-74,SA,PC_ACT,CH    8.4       CH\n",
       "4372         T,ED0-2,Y15-74,SA,PC_ACT,CY   14.8       CY"
      ]
     },
     "execution_count": 33,
     "metadata": {},
     "output_type": "execute_result"
    }
   ],
   "source": [
    "# Filter country id\n",
    "df_unemployment_eu_month_clean[\"country\"] = df_unemployment_eu_month_clean.iloc[:,0].replace({ unempl_filter : r'\\2'}, regex=True)\n",
    "df_unemployment_eu_month_clean.head()"
   ]
  },
  {
   "cell_type": "code",
   "execution_count": 34,
   "metadata": {},
   "outputs": [
    {
     "data": {
      "text/html": [
       "<div>\n",
       "<style>\n",
       "    .dataframe thead tr:only-child th {\n",
       "        text-align: right;\n",
       "    }\n",
       "\n",
       "    .dataframe thead th {\n",
       "        text-align: left;\n",
       "    }\n",
       "\n",
       "    .dataframe tbody tr th {\n",
       "        vertical-align: top;\n",
       "    }\n",
       "</style>\n",
       "<table border=\"1\" class=\"dataframe\">\n",
       "  <thead>\n",
       "    <tr style=\"text-align: right;\">\n",
       "      <th></th>\n",
       "      <th>sex,isced11,age,s_adj,unit,geo\\time</th>\n",
       "      <th>2017Q2</th>\n",
       "      <th>country</th>\n",
       "    </tr>\n",
       "  </thead>\n",
       "  <tbody>\n",
       "    <tr>\n",
       "      <th>4368</th>\n",
       "      <td>ED0-2</td>\n",
       "      <td>13.1</td>\n",
       "      <td>AT</td>\n",
       "    </tr>\n",
       "    <tr>\n",
       "      <th>4369</th>\n",
       "      <td>ED0-2</td>\n",
       "      <td>15.2</td>\n",
       "      <td>BE</td>\n",
       "    </tr>\n",
       "    <tr>\n",
       "      <th>4370</th>\n",
       "      <td>ED0-2</td>\n",
       "      <td>18.5</td>\n",
       "      <td>BG</td>\n",
       "    </tr>\n",
       "    <tr>\n",
       "      <th>4371</th>\n",
       "      <td>ED0-2</td>\n",
       "      <td>8.4</td>\n",
       "      <td>CH</td>\n",
       "    </tr>\n",
       "    <tr>\n",
       "      <th>4372</th>\n",
       "      <td>ED0-2</td>\n",
       "      <td>14.8</td>\n",
       "      <td>CY</td>\n",
       "    </tr>\n",
       "  </tbody>\n",
       "</table>\n",
       "</div>"
      ],
      "text/plain": [
       "     sex,isced11,age,s_adj,unit,geo\\time 2017Q2  country\n",
       "4368                               ED0-2   13.1       AT\n",
       "4369                               ED0-2   15.2       BE\n",
       "4370                               ED0-2   18.5       BG\n",
       "4371                               ED0-2    8.4       CH\n",
       "4372                               ED0-2   14.8       CY"
      ]
     },
     "execution_count": 34,
     "metadata": {},
     "output_type": "execute_result"
    }
   ],
   "source": [
    "# Reformat filter to only contain education category\n",
    "df_unemployment_eu_month_clean.iloc[:,0] = df_unemployment_eu_month_clean.iloc[:,0].replace({ unempl_filter : r'\\1'}, regex=True)\n",
    "df_unemployment_eu_month_clean.head()"
   ]
  },
  {
   "cell_type": "code",
   "execution_count": 35,
   "metadata": {},
   "outputs": [
    {
     "data": {
      "text/html": [
       "<div>\n",
       "<style>\n",
       "    .dataframe thead tr:only-child th {\n",
       "        text-align: right;\n",
       "    }\n",
       "\n",
       "    .dataframe thead th {\n",
       "        text-align: left;\n",
       "    }\n",
       "\n",
       "    .dataframe tbody tr th {\n",
       "        vertical-align: top;\n",
       "    }\n",
       "</style>\n",
       "<table border=\"1\" class=\"dataframe\">\n",
       "  <thead>\n",
       "    <tr style=\"text-align: right;\">\n",
       "      <th></th>\n",
       "      <th>sex,isced11,age,s_adj,unit,geo\\time</th>\n",
       "      <th>2017Q2</th>\n",
       "      <th>country</th>\n",
       "    </tr>\n",
       "  </thead>\n",
       "  <tbody>\n",
       "    <tr>\n",
       "      <th>4368</th>\n",
       "      <td>ED0-2</td>\n",
       "      <td>13.1</td>\n",
       "      <td>AT</td>\n",
       "    </tr>\n",
       "    <tr>\n",
       "      <th>4369</th>\n",
       "      <td>ED0-2</td>\n",
       "      <td>15.2</td>\n",
       "      <td>BE</td>\n",
       "    </tr>\n",
       "    <tr>\n",
       "      <th>4370</th>\n",
       "      <td>ED0-2</td>\n",
       "      <td>18.5</td>\n",
       "      <td>BG</td>\n",
       "    </tr>\n",
       "    <tr>\n",
       "      <th>4371</th>\n",
       "      <td>ED0-2</td>\n",
       "      <td>8.4</td>\n",
       "      <td>CH</td>\n",
       "    </tr>\n",
       "    <tr>\n",
       "      <th>4372</th>\n",
       "      <td>ED0-2</td>\n",
       "      <td>14.8</td>\n",
       "      <td>CY</td>\n",
       "    </tr>\n",
       "  </tbody>\n",
       "</table>\n",
       "</div>"
      ],
      "text/plain": [
       "     sex,isced11,age,s_adj,unit,geo\\time 2017Q2  country\n",
       "4368                               ED0-2   13.1       AT\n",
       "4369                               ED0-2   15.2       BE\n",
       "4370                               ED0-2   18.5       BG\n",
       "4371                               ED0-2    8.4       CH\n",
       "4372                               ED0-2   14.8       CY"
      ]
     },
     "execution_count": 35,
     "metadata": {},
     "output_type": "execute_result"
    }
   ],
   "source": [
    "# Replace unkown values, denoted by \":\", remove \"u\" warning for low accuracy\n",
    "df_unemployment_eu_month_clean.iloc[:,1] = df_unemployment_eu_month_clean.iloc[:,1].apply(\n",
    "    lambda x : x.replace(\"u\", \"\"))\n",
    "df_unemployment_eu_month_clean.iloc[:,1] = df_unemployment_eu_month_clean.iloc[:,1].apply(\n",
    "    lambda x : np.NAN if \":\" in x else x)\n",
    "df_unemployment_eu_month_clean.head()"
   ]
  },
  {
   "cell_type": "code",
   "execution_count": 36,
   "metadata": {
    "scrolled": false
   },
   "outputs": [
    {
     "data": {
      "text/html": [
       "<div>\n",
       "<style>\n",
       "    .dataframe thead tr:only-child th {\n",
       "        text-align: right;\n",
       "    }\n",
       "\n",
       "    .dataframe thead th {\n",
       "        text-align: left;\n",
       "    }\n",
       "\n",
       "    .dataframe tbody tr th {\n",
       "        vertical-align: top;\n",
       "    }\n",
       "</style>\n",
       "<table border=\"1\" class=\"dataframe\">\n",
       "  <thead>\n",
       "    <tr style=\"text-align: right;\">\n",
       "      <th></th>\n",
       "      <th>sex,isced11,age,s_adj,unit,geo\\time</th>\n",
       "      <th>2017Q2</th>\n",
       "      <th>country</th>\n",
       "    </tr>\n",
       "  </thead>\n",
       "  <tbody>\n",
       "    <tr>\n",
       "      <th>4368</th>\n",
       "      <td>ED0-2</td>\n",
       "      <td>13.1</td>\n",
       "      <td>AT</td>\n",
       "    </tr>\n",
       "    <tr>\n",
       "      <th>4369</th>\n",
       "      <td>ED0-2</td>\n",
       "      <td>15.2</td>\n",
       "      <td>BE</td>\n",
       "    </tr>\n",
       "    <tr>\n",
       "      <th>4370</th>\n",
       "      <td>ED0-2</td>\n",
       "      <td>18.5</td>\n",
       "      <td>BG</td>\n",
       "    </tr>\n",
       "    <tr>\n",
       "      <th>4371</th>\n",
       "      <td>ED0-2</td>\n",
       "      <td>8.4</td>\n",
       "      <td>CH</td>\n",
       "    </tr>\n",
       "    <tr>\n",
       "      <th>4372</th>\n",
       "      <td>ED0-2</td>\n",
       "      <td>14.8</td>\n",
       "      <td>CY</td>\n",
       "    </tr>\n",
       "  </tbody>\n",
       "</table>\n",
       "</div>"
      ],
      "text/plain": [
       "     sex,isced11,age,s_adj,unit,geo\\time  2017Q2  country\n",
       "4368                               ED0-2     13.1      AT\n",
       "4369                               ED0-2     15.2      BE\n",
       "4370                               ED0-2     18.5      BG\n",
       "4371                               ED0-2      8.4      CH\n",
       "4372                               ED0-2     14.8      CY"
      ]
     },
     "execution_count": 36,
     "metadata": {},
     "output_type": "execute_result"
    }
   ],
   "source": [
    "# convert unemployment to float\n",
    "df_unemployment_eu_month_clean.iloc[:,1] = pd.to_numeric(df_unemployment_eu_month_clean.iloc[:,1], errors='coerce')\n",
    "df_unemployment_eu_month_clean.head()"
   ]
  },
  {
   "cell_type": "code",
   "execution_count": 37,
   "metadata": {
    "scrolled": false
   },
   "outputs": [
    {
     "data": {
      "text/plain": [
       "sex,isced11,age,s_adj,unit,geo\\time    False\n",
       "2017Q2                                  True\n",
       "country                                False\n",
       "dtype: bool"
      ]
     },
     "execution_count": 37,
     "metadata": {},
     "output_type": "execute_result"
    }
   ],
   "source": [
    "pd.isnull(df_unemployment_eu_month_clean).any()"
   ]
  },
  {
   "cell_type": "code",
   "execution_count": 38,
   "metadata": {},
   "outputs": [
    {
     "data": {
      "text/html": [
       "<div>\n",
       "<style>\n",
       "    .dataframe thead tr:only-child th {\n",
       "        text-align: right;\n",
       "    }\n",
       "\n",
       "    .dataframe thead th {\n",
       "        text-align: left;\n",
       "    }\n",
       "\n",
       "    .dataframe tbody tr th {\n",
       "        vertical-align: top;\n",
       "    }\n",
       "</style>\n",
       "<table border=\"1\" class=\"dataframe\">\n",
       "  <thead>\n",
       "    <tr style=\"text-align: right;\">\n",
       "      <th></th>\n",
       "      <th>sex,isced11,age,s_adj,unit,geo\\time</th>\n",
       "      <th>2017Q2</th>\n",
       "      <th>country</th>\n",
       "    </tr>\n",
       "  </thead>\n",
       "  <tbody>\n",
       "    <tr>\n",
       "      <th>5812</th>\n",
       "      <td>ED5-8</td>\n",
       "      <td>NaN</td>\n",
       "      <td>MT</td>\n",
       "    </tr>\n",
       "  </tbody>\n",
       "</table>\n",
       "</div>"
      ],
      "text/plain": [
       "     sex,isced11,age,s_adj,unit,geo\\time  2017Q2  country\n",
       "5812                               ED5-8      NaN      MT"
      ]
     },
     "execution_count": 38,
     "metadata": {},
     "output_type": "execute_result"
    }
   ],
   "source": [
    "df_unemployment_eu_month_clean[pd.isnull(df_unemployment_eu_month_clean.iloc[:,1])]"
   ]
  },
  {
   "cell_type": "markdown",
   "metadata": {},
   "source": [
    "Use default behavior of pandas and calculate mean with only two education categories"
   ]
  },
  {
   "cell_type": "code",
   "execution_count": 39,
   "metadata": {},
   "outputs": [
    {
     "data": {
      "text/html": [
       "<div>\n",
       "<style>\n",
       "    .dataframe thead tr:only-child th {\n",
       "        text-align: right;\n",
       "    }\n",
       "\n",
       "    .dataframe thead th {\n",
       "        text-align: left;\n",
       "    }\n",
       "\n",
       "    .dataframe tbody tr th {\n",
       "        vertical-align: top;\n",
       "    }\n",
       "</style>\n",
       "<table border=\"1\" class=\"dataframe\">\n",
       "  <thead>\n",
       "    <tr style=\"text-align: right;\">\n",
       "      <th></th>\n",
       "      <th>2017Q2</th>\n",
       "    </tr>\n",
       "    <tr>\n",
       "      <th>country</th>\n",
       "      <th></th>\n",
       "    </tr>\n",
       "  </thead>\n",
       "  <tbody>\n",
       "    <tr>\n",
       "      <th>AT</th>\n",
       "      <td>7.033333</td>\n",
       "    </tr>\n",
       "    <tr>\n",
       "      <th>BE</th>\n",
       "      <td>8.900000</td>\n",
       "    </tr>\n",
       "    <tr>\n",
       "      <th>BG</th>\n",
       "      <td>8.900000</td>\n",
       "    </tr>\n",
       "    <tr>\n",
       "      <th>CH</th>\n",
       "      <td>5.533333</td>\n",
       "    </tr>\n",
       "    <tr>\n",
       "      <th>CY</th>\n",
       "      <td>11.900000</td>\n",
       "    </tr>\n",
       "  </tbody>\n",
       "</table>\n",
       "</div>"
      ],
      "text/plain": [
       "           2017Q2 \n",
       "country           \n",
       "AT        7.033333\n",
       "BE        8.900000\n",
       "BG        8.900000\n",
       "CH        5.533333\n",
       "CY       11.900000"
      ]
     },
     "execution_count": 39,
     "metadata": {},
     "output_type": "execute_result"
    }
   ],
   "source": [
    "df_unemployment_eu_month_clean = df_unemployment_eu_month_clean.groupby(\"country\").mean()\n",
    "df_unemployment_eu_month_clean.head()"
   ]
  },
  {
   "cell_type": "code",
   "execution_count": 40,
   "metadata": {},
   "outputs": [
    {
     "data": {
      "text/plain": [
       "country\n",
       "IS    2.766667\n",
       "RO    4.733333\n",
       "MT    4.900000\n",
       "DE    4.933333\n",
       "UK    5.000000\n",
       "NO    5.200000\n",
       "CH    5.533333\n",
       "NL    5.566667\n",
       "LU    5.700000\n",
       "HU    5.800000\n",
       "Name: 2017Q2 , dtype: float64"
      ]
     },
     "execution_count": 40,
     "metadata": {},
     "output_type": "execute_result"
    }
   ],
   "source": [
    "df_unemployment_eu_month_clean.iloc[:,0].sort_values().head(10)"
   ]
  },
  {
   "cell_type": "markdown",
   "metadata": {},
   "source": [
    "### Create vizualisation"
   ]
  },
  {
   "cell_type": "code",
   "execution_count": 41,
   "metadata": {},
   "outputs": [
    {
     "data": {
      "text/plain": [
       "array([[<matplotlib.axes._subplots.AxesSubplot object at 0x10d2d9208>]], dtype=object)"
      ]
     },
     "execution_count": 41,
     "metadata": {},
     "output_type": "execute_result"
    },
    {
     "data": {
      "image/png": "[encoded data removed]",
      "text/plain": [
       "<matplotlib.figure.Figure at 0x10d206d30>"
      ]
     },
     "metadata": {},
     "output_type": "display_data"
    }
   ],
   "source": [
    "df_unemployment_eu_month_clean.hist()"
   ]
  },
  {
   "cell_type": "code",
   "execution_count": 42,
   "metadata": {},
   "outputs": [
    {
     "data": {
      "text/plain": [
       "array([[<matplotlib.axes._subplots.AxesSubplot object at 0x10dc0fa20>]], dtype=object)"
      ]
     },
     "execution_count": 42,
     "metadata": {},
     "output_type": "execute_result"
    },
    {
     "data": {
      "image/png": "[encoded data removed]",
      "text/plain": [
       "<matplotlib.figure.Figure at 0x10d46bc50>"
      ]
     },
     "metadata": {},
     "output_type": "display_data"
    }
   ],
   "source": [
    "df_unemployment_eu_month_clean.hist(bins=15)"
   ]
  },
  {
   "cell_type": "code",
   "execution_count": 43,
   "metadata": {
    "scrolled": true
   },
   "outputs": [
    {
     "data": {
      "text/plain": [
       "array([[<matplotlib.axes._subplots.AxesSubplot object at 0x10deeef60>]], dtype=object)"
      ]
     },
     "execution_count": 43,
     "metadata": {},
     "output_type": "execute_result"
    },
    {
     "data": {
      "image/png": "[encoded data removed]",
      "text/plain": [
       "<matplotlib.figure.Figure at 0x10dec1710>"
      ]
     },
     "metadata": {},
     "output_type": "display_data"
    }
   ],
   "source": [
    "df_unemployment_eu_month_clean.hist(bins=5)"
   ]
  },
  {
   "cell_type": "markdown",
   "metadata": {},
   "source": [
    "We decided to take 5 bins, since not to much information gets lost and more than seven colors can only hardly be distincted"
   ]
  },
  {
   "cell_type": "code",
   "execution_count": 44,
   "metadata": {
    "collapsed": true
   },
   "outputs": [],
   "source": [
    "def eu_map_country_id(country_id_geo_json):\n",
    "    \"\"\"Handles Mapping between country ids\"\"\"\n",
    "    if country_id_geo_json == \"FR\":\n",
    "        return \"FX\"\n",
    "    elif country_id_geo_json == \"GB\":\n",
    "        return \"UK\"\n",
    "    elif country_id_geo_json == \"GR\":\n",
    "        return \"EL\"\n",
    "    else:\n",
    "        return country_id_geo_json"
   ]
  },
  {
   "cell_type": "code",
   "execution_count": 45,
   "metadata": {
    "collapsed": true
   },
   "outputs": [],
   "source": [
    "def eu_get_umepmloyment_rate(country_id):\n",
    "    \"\"\"Fetches the unemployment rate for a given country from the data frame\"\"\"\n",
    "    try:\n",
    "        row = df_unemployment_eu_month_clean.loc[eu_map_country_id(country_id)].values\n",
    "        return row[0]\n",
    "    except KeyError:\n",
    "        #print (\"Country with id {} not found in dataset\".format(country_id))\n",
    "        return -1"
   ]
  },
  {
   "cell_type": "code",
   "execution_count": 46,
   "metadata": {
    "collapsed": true
   },
   "outputs": [],
   "source": [
    "# calculate bin for unemployment\n",
    "count, division = np.histogram(df_unemployment_eu_month_clean.iloc[:,0], bins=5)\n",
    "def eu_get_class(unempl_rate):\n",
    "    \"\"\"Calculates the class based on the real value\"\"\"\n",
    "    if unempl_rate < division[1]:\n",
    "        return 0\n",
    "    elif unempl_rate < division[2]:\n",
    "        return 1\n",
    "    elif unempl_rate < division[3]:\n",
    "        return 2\n",
    "    elif unempl_rate < division[4]:\n",
    "        return 3\n",
    "    else:\n",
    "        return 4"
   ]
  },
  {
   "cell_type": "code",
   "execution_count": 47,
   "metadata": {
    "collapsed": true
   },
   "outputs": [],
   "source": [
    "def eu_class_color(class_id):\n",
    "    \"\"\"Fetches the color code based on the class\"\"\"\n",
    "    return color_classes[class_id]"
   ]
  },
  {
   "cell_type": "code",
   "execution_count": 48,
   "metadata": {
    "collapsed": true
   },
   "outputs": [],
   "source": [
    "def eu_unemployment_colors(country_id):\n",
    "    \"\"\"Returns the color based on the unemployment rate for the given country\"\"\"\n",
    "    unempl_rate = eu_get_umepmloyment_rate(country_id)\n",
    "    if unempl_rate == -1:\n",
    "        return color_undef\n",
    "    else:\n",
    "        class_id = eu_get_class(unempl_rate)\n",
    "        return eu_class_color(class_id)"
   ]
  },
  {
   "cell_type": "code",
   "execution_count": 49,
   "metadata": {
    "collapsed": true,
    "scrolled": false
   },
   "outputs": [],
   "source": [
    "with open(topo_path_json_eu) as f:\n",
    "    \n",
    "    j = json.load(f)\n",
    "    \n",
    "    # Create an own topojson object in order to display popups \n",
    "    topojson = [{'type': j['type'],\n",
    "                 'objects': {'europe': {\n",
    "                     'type': \"GeometryCollection\",\n",
    "                     'geometries': [f]}},\n",
    "                 'arcs' : j['arcs'],\n",
    "                 'transform' : j['transform']} \n",
    "                for f in j['objects']['europe']['geometries']]\n",
    "    \n",
    "    # Add each topojson\n",
    "    for tj in map(lambda tj: folium.TopoJson(tj,\n",
    "                                             \"objects.europe\", style_function=lambda country: {\n",
    "                                                'fillColor': eu_unemployment_colors(country['id']),\n",
    "                                                'fillOpacity': 1,\n",
    "                                                'weight': 1,\n",
    "                                                'color' : 'black',\n",
    "                                                'dashArray' : '0, 0'}),\n",
    "                  topojson):\n",
    "        \n",
    "        # fetch details for popup\n",
    "        unemployment_rate = eu_get_umepmloyment_rate(tj.data['objects']['europe']['geometries'][0]['id'])\n",
    "        country = tj.data['objects']['europe']['geometries'][0]['properties']['NAME']\n",
    "    \n",
    "        # beautify popup\n",
    "        if unemployment_rate == -1:\n",
    "            html = \"\"\"\n",
    "                <h3> \"\"\"+country+\"\"\" </h3> </br>\n",
    "                <p> Unemployment rate: unavailable </p> \"\"\"\n",
    "        else :\n",
    "            html = \"\"\"\n",
    "                <h3> \"\"\"+country+\"\"\" </h3> </br>\n",
    "                <p> Unemployment rate: \"\"\"+\"{0:.2f}%\".format(unemployment_rate)+\"\"\" </p> \"\"\"\n",
    "            \n",
    "        # add popup and topojson\n",
    "        tj.add_child(folium.Popup(html))\n",
    "        tj.add_to(map_europe)"
   ]
  },
  {
   "cell_type": "code",
   "execution_count": 50,
   "metadata": {
    "collapsed": true
   },
   "outputs": [],
   "source": [
    "# Add legend\n",
    "min_ = min(df_unemployment_eu_month_clean.values)[0]\n",
    "max_= max(df_unemployment_eu_month_clean.values)[0]\n",
    "\n",
    "colormap = cm.StepColormap(\n",
    "            color_classes,\n",
    "            index=division,\n",
    "            vmin=min_,\n",
    "            vmax=max_,\n",
    "            caption=\"Unemployment rate [%]\",\n",
    "            )\n",
    "map_europe = map_europe.add_child(colormap)"
   ]
  },
  {
   "cell_type": "code",
   "execution_count": 51,
   "metadata": {
    "collapsed": true,
    "scrolled": false
   },
   "outputs": [],
   "source": [
    "# Moves slowly due to many topojsons, but has popups :)\n",
    "map_europe.save('EU_unemployment_rate.html')"
   ]
  },
  {
   "cell_type": "markdown",
   "metadata": {},
   "source": [
    "Access the map [here](EU_unemployment_rate.html). Click on the countries in order to display the exact unemployment rate of the country."
   ]
  },
  {
   "cell_type": "markdown",
   "metadata": {},
   "source": [
    "### Comparison Switzerland to the rest of Europe"
   ]
  },
  {
   "cell_type": "markdown",
   "metadata": {},
   "source": [
    "Switzerland's unemployment rate puts Switzerland in the first class, which has the lowest unemployment rate in Europe.  \n",
    "This means that Switzerland's unemployment rate is between 3% and 7%\n",
    "Exactly Switzerland is the country with the 7th lowest unemployment rate of 5.53% ."
   ]
  },
  {
   "cell_type": "markdown",
   "metadata": {},
   "source": [
    "## Unemployment rate in Switzerland at a canton level"
   ]
  },
  {
   "cell_type": "markdown",
   "metadata": {},
   "source": [
    "15+"
   ]
  },
  {
   "cell_type": "code",
   "execution_count": 52,
   "metadata": {},
   "outputs": [
    {
     "ename": "NameError",
     "evalue": "name 'state_data' is not defined",
     "output_type": "error",
     "traceback": [
      "\u001b[0;31m---------------------------------------------------------------------------\u001b[0m",
      "\u001b[0;31mNameError\u001b[0m                                 Traceback (most recent call last)",
      "\u001b[0;32m<ipython-input-52-7b34e7d77edf>\u001b[0m in \u001b[0;36m<module>\u001b[0;34m()\u001b[0m\n\u001b[1;32m      9\u001b[0m     \u001b[0mgeo_data\u001b[0m\u001b[0;34m=\u001b[0m\u001b[0;34m\"\"\u001b[0m\u001b[0;34m,\u001b[0m\u001b[0;34m\u001b[0m\u001b[0m\n\u001b[1;32m     10\u001b[0m     \u001b[0mname\u001b[0m\u001b[0;34m=\u001b[0m\u001b[0;34m'choropleth'\u001b[0m\u001b[0;34m,\u001b[0m\u001b[0;34m\u001b[0m\u001b[0m\n\u001b[0;32m---> 11\u001b[0;31m     \u001b[0mdata\u001b[0m\u001b[0;34m=\u001b[0m\u001b[0mstate_data\u001b[0m\u001b[0;34m,\u001b[0m\u001b[0;34m\u001b[0m\u001b[0m\n\u001b[0m\u001b[1;32m     12\u001b[0m     \u001b[0mcolumns\u001b[0m\u001b[0;34m=\u001b[0m\u001b[0;34m[\u001b[0m\u001b[0;34m'State'\u001b[0m\u001b[0;34m,\u001b[0m \u001b[0;34m'Unemployment'\u001b[0m\u001b[0;34m]\u001b[0m\u001b[0;34m,\u001b[0m\u001b[0;34m\u001b[0m\u001b[0m\n\u001b[1;32m     13\u001b[0m     \u001b[0mkey_on\u001b[0m\u001b[0;34m=\u001b[0m\u001b[0;34m'feature.id'\u001b[0m\u001b[0;34m,\u001b[0m\u001b[0;34m\u001b[0m\u001b[0m\n",
      "\u001b[0;31mNameError\u001b[0m: name 'state_data' is not defined"
     ]
    }
   ],
   "source": [
    "#state_geo = os.path.join('data', 'us-states.json')\n",
    "\n",
    "#state_unemployment = os.path.join('data', 'US_Unemployment_Oct2012.csv')\n",
    "#state_data = pd.read_csv(state_unemployment)\n",
    "\n",
    "m = folium.Map(location=[48, -102], zoom_start=3)\n",
    "\n",
    "m.choropleth(\n",
    "    geo_data=\"\",\n",
    "    name='choropleth',\n",
    "    data=state_data,\n",
    "    columns=['State', 'Unemployment'],\n",
    "    key_on='feature.id',\n",
    "    fill_color='YlGn',\n",
    "    fill_opacity=0.7,\n",
    "    line_opacity=0.2,\n",
    "    legend_name='Unemployment Rate (%)'\n",
    ")\n",
    "\n",
    "m"
   ]
  },
  {
   "cell_type": "code",
   "execution_count": null,
   "metadata": {
    "collapsed": true
   },
   "outputs": [],
   "source": []
  },
  {
   "cell_type": "code",
   "execution_count": 131,
   "metadata": {},
   "outputs": [],
   "source": [
    "#read data\n",
    "path = os.path.join('FetchedData', 'Unemployment_rate_swiss_and_foreigners.xlsx')\n",
    "df_unemployment_swiss_foreigners = pd.read_excel(path)\n",
    "\n",
    "#set index to Canton and Nationality\n",
    "df_unemployment_swiss_foreigners_clean = df_unemployment_swiss_foreigners.set_index(['Canton','Nationalité']).drop(['Mois'], axis = 1)\n",
    "\n",
    "#Keep the second quaterly to match our definition\n",
    "df_unemployment_swiss_foreigners_clean = df_unemployment_swiss_foreigners_clean.iloc[:,6:12]\n",
    "\n",
    "#Keep the percentage only\n",
    "df_unemployment_swiss_foreigners_clean = df_unemployment_swiss_foreigners_clean.drop(['Avril 2017.1','Mai 2017.1','Juin 2017.1'],axis=1) \n",
    "df_unemployment_swiss_foreigners_clean = df_unemployment_swiss_foreigners_clean.iloc[1:]"
   ]
  },
  {
   "cell_type": "code",
   "execution_count": 132,
   "metadata": {},
   "outputs": [
    {
     "data": {
      "text/html": [
       "<div>\n",
       "<style>\n",
       "    .dataframe thead tr:only-child th {\n",
       "        text-align: right;\n",
       "    }\n",
       "\n",
       "    .dataframe thead th {\n",
       "        text-align: left;\n",
       "    }\n",
       "\n",
       "    .dataframe tbody tr th {\n",
       "        vertical-align: top;\n",
       "    }\n",
       "</style>\n",
       "<table border=\"1\" class=\"dataframe\">\n",
       "  <thead>\n",
       "    <tr style=\"text-align: right;\">\n",
       "      <th></th>\n",
       "      <th></th>\n",
       "      <th>Avril 2017</th>\n",
       "      <th>Mai 2017</th>\n",
       "      <th>Juin 2017</th>\n",
       "    </tr>\n",
       "    <tr>\n",
       "      <th>Canton</th>\n",
       "      <th>Nationalité</th>\n",
       "      <th></th>\n",
       "      <th></th>\n",
       "      <th></th>\n",
       "    </tr>\n",
       "  </thead>\n",
       "  <tbody>\n",
       "    <tr>\n",
       "      <th rowspan=\"2\" valign=\"top\">Zurich</th>\n",
       "      <th>Etrangers</th>\n",
       "      <td>6</td>\n",
       "      <td>5.7</td>\n",
       "      <td>5.6</td>\n",
       "    </tr>\n",
       "    <tr>\n",
       "      <th>Suisses</th>\n",
       "      <td>2.7</td>\n",
       "      <td>2.6</td>\n",
       "      <td>2.6</td>\n",
       "    </tr>\n",
       "    <tr>\n",
       "      <th rowspan=\"2\" valign=\"top\">Berne</th>\n",
       "      <th>Etrangers</th>\n",
       "      <td>6.8</td>\n",
       "      <td>6.2</td>\n",
       "      <td>5.7</td>\n",
       "    </tr>\n",
       "    <tr>\n",
       "      <th>Suisses</th>\n",
       "      <td>2</td>\n",
       "      <td>1.9</td>\n",
       "      <td>1.8</td>\n",
       "    </tr>\n",
       "    <tr>\n",
       "      <th rowspan=\"2\" valign=\"top\">Lucerne</th>\n",
       "      <th>Etrangers</th>\n",
       "      <td>4.6</td>\n",
       "      <td>4.3</td>\n",
       "      <td>4.1</td>\n",
       "    </tr>\n",
       "    <tr>\n",
       "      <th>Suisses</th>\n",
       "      <td>1.3</td>\n",
       "      <td>1.3</td>\n",
       "      <td>1.2</td>\n",
       "    </tr>\n",
       "    <tr>\n",
       "      <th rowspan=\"2\" valign=\"top\">Uri</th>\n",
       "      <th>Etrangers</th>\n",
       "      <td>5.3</td>\n",
       "      <td>4.1</td>\n",
       "      <td>3</td>\n",
       "    </tr>\n",
       "    <tr>\n",
       "      <th>Suisses</th>\n",
       "      <td>0.6</td>\n",
       "      <td>0.6</td>\n",
       "      <td>0.5</td>\n",
       "    </tr>\n",
       "    <tr>\n",
       "      <th rowspan=\"2\" valign=\"top\">Schwyz</th>\n",
       "      <th>Etrangers</th>\n",
       "      <td>4</td>\n",
       "      <td>3.6</td>\n",
       "      <td>3.5</td>\n",
       "    </tr>\n",
       "    <tr>\n",
       "      <th>Suisses</th>\n",
       "      <td>1.2</td>\n",
       "      <td>1.2</td>\n",
       "      <td>1.1</td>\n",
       "    </tr>\n",
       "    <tr>\n",
       "      <th rowspan=\"2\" valign=\"top\">Obwald</th>\n",
       "      <th>Etrangers</th>\n",
       "      <td>3</td>\n",
       "      <td>2.4</td>\n",
       "      <td>2.4</td>\n",
       "    </tr>\n",
       "    <tr>\n",
       "      <th>Suisses</th>\n",
       "      <td>0.6</td>\n",
       "      <td>0.5</td>\n",
       "      <td>0.5</td>\n",
       "    </tr>\n",
       "    <tr>\n",
       "      <th rowspan=\"2\" valign=\"top\">Nidwald</th>\n",
       "      <th>Etrangers</th>\n",
       "      <td>3.6</td>\n",
       "      <td>3.5</td>\n",
       "      <td>3.2</td>\n",
       "    </tr>\n",
       "    <tr>\n",
       "      <th>Suisses</th>\n",
       "      <td>0.7</td>\n",
       "      <td>0.7</td>\n",
       "      <td>0.7</td>\n",
       "    </tr>\n",
       "    <tr>\n",
       "      <th rowspan=\"2\" valign=\"top\">Glaris</th>\n",
       "      <th>Etrangers</th>\n",
       "      <td>4.6</td>\n",
       "      <td>4.3</td>\n",
       "      <td>3.9</td>\n",
       "    </tr>\n",
       "    <tr>\n",
       "      <th>Suisses</th>\n",
       "      <td>1.6</td>\n",
       "      <td>1.5</td>\n",
       "      <td>1.4</td>\n",
       "    </tr>\n",
       "    <tr>\n",
       "      <th rowspan=\"2\" valign=\"top\">Zoug</th>\n",
       "      <th>Etrangers</th>\n",
       "      <td>4.3</td>\n",
       "      <td>4.2</td>\n",
       "      <td>4</td>\n",
       "    </tr>\n",
       "    <tr>\n",
       "      <th>Suisses</th>\n",
       "      <td>1.8</td>\n",
       "      <td>1.8</td>\n",
       "      <td>1.7</td>\n",
       "    </tr>\n",
       "    <tr>\n",
       "      <th rowspan=\"2\" valign=\"top\">Fribourg</th>\n",
       "      <th>Etrangers</th>\n",
       "      <td>5.3</td>\n",
       "      <td>4.7</td>\n",
       "      <td>4.4</td>\n",
       "    </tr>\n",
       "    <tr>\n",
       "      <th>Suisses</th>\n",
       "      <td>1.9</td>\n",
       "      <td>1.7</td>\n",
       "      <td>1.8</td>\n",
       "    </tr>\n",
       "    <tr>\n",
       "      <th rowspan=\"2\" valign=\"top\">Soleure</th>\n",
       "      <th>Etrangers</th>\n",
       "      <td>6</td>\n",
       "      <td>5.8</td>\n",
       "      <td>5.4</td>\n",
       "    </tr>\n",
       "    <tr>\n",
       "      <th>Suisses</th>\n",
       "      <td>2.1</td>\n",
       "      <td>2</td>\n",
       "      <td>1.9</td>\n",
       "    </tr>\n",
       "    <tr>\n",
       "      <th rowspan=\"2\" valign=\"top\">Bâle-Ville</th>\n",
       "      <th>Etrangers</th>\n",
       "      <td>5.3</td>\n",
       "      <td>5</td>\n",
       "      <td>5</td>\n",
       "    </tr>\n",
       "    <tr>\n",
       "      <th>Suisses</th>\n",
       "      <td>3</td>\n",
       "      <td>2.8</td>\n",
       "      <td>2.7</td>\n",
       "    </tr>\n",
       "    <tr>\n",
       "      <th rowspan=\"2\" valign=\"top\">Bâle-Campagne</th>\n",
       "      <th>Etrangers</th>\n",
       "      <td>5.3</td>\n",
       "      <td>5.1</td>\n",
       "      <td>5</td>\n",
       "    </tr>\n",
       "    <tr>\n",
       "      <th>Suisses</th>\n",
       "      <td>2.2</td>\n",
       "      <td>2.2</td>\n",
       "      <td>2.2</td>\n",
       "    </tr>\n",
       "    <tr>\n",
       "      <th rowspan=\"2\" valign=\"top\">Schaffhouse</th>\n",
       "      <th>Etrangers</th>\n",
       "      <td>5.9</td>\n",
       "      <td>5.9</td>\n",
       "      <td>5.5</td>\n",
       "    </tr>\n",
       "    <tr>\n",
       "      <th>Suisses</th>\n",
       "      <td>2.3</td>\n",
       "      <td>2.4</td>\n",
       "      <td>2.3</td>\n",
       "    </tr>\n",
       "    <tr>\n",
       "      <th rowspan=\"2\" valign=\"top\">Appenzell Rhodes-Extérieures</th>\n",
       "      <th>Etrangers</th>\n",
       "      <td>3.9</td>\n",
       "      <td>3.7</td>\n",
       "      <td>3.6</td>\n",
       "    </tr>\n",
       "    <tr>\n",
       "      <th>Suisses</th>\n",
       "      <td>1.3</td>\n",
       "      <td>1.3</td>\n",
       "      <td>1.3</td>\n",
       "    </tr>\n",
       "    <tr>\n",
       "      <th rowspan=\"2\" valign=\"top\">Appenzell Rhodes-Intérieures</th>\n",
       "      <th>Etrangers</th>\n",
       "      <td>2.8</td>\n",
       "      <td>2.5</td>\n",
       "      <td>2.5</td>\n",
       "    </tr>\n",
       "    <tr>\n",
       "      <th>Suisses</th>\n",
       "      <td>0.7</td>\n",
       "      <td>0.5</td>\n",
       "      <td>0.6</td>\n",
       "    </tr>\n",
       "    <tr>\n",
       "      <th rowspan=\"2\" valign=\"top\">St-Gall</th>\n",
       "      <th>Etrangers</th>\n",
       "      <td>4.9</td>\n",
       "      <td>4.6</td>\n",
       "      <td>4.4</td>\n",
       "    </tr>\n",
       "    <tr>\n",
       "      <th>Suisses</th>\n",
       "      <td>1.6</td>\n",
       "      <td>1.5</td>\n",
       "      <td>1.5</td>\n",
       "    </tr>\n",
       "    <tr>\n",
       "      <th rowspan=\"2\" valign=\"top\">Grisons</th>\n",
       "      <th>Etrangers</th>\n",
       "      <td>6.1</td>\n",
       "      <td>5.2</td>\n",
       "      <td>2.6</td>\n",
       "    </tr>\n",
       "    <tr>\n",
       "      <th>Suisses</th>\n",
       "      <td>1</td>\n",
       "      <td>0.9</td>\n",
       "      <td>0.8</td>\n",
       "    </tr>\n",
       "    <tr>\n",
       "      <th rowspan=\"2\" valign=\"top\">Argovie</th>\n",
       "      <th>Etrangers</th>\n",
       "      <td>6.4</td>\n",
       "      <td>6.1</td>\n",
       "      <td>5.9</td>\n",
       "    </tr>\n",
       "    <tr>\n",
       "      <th>Suisses</th>\n",
       "      <td>2.2</td>\n",
       "      <td>2.1</td>\n",
       "      <td>2.1</td>\n",
       "    </tr>\n",
       "    <tr>\n",
       "      <th rowspan=\"2\" valign=\"top\">Thurgovie</th>\n",
       "      <th>Etrangers</th>\n",
       "      <td>4.5</td>\n",
       "      <td>4.2</td>\n",
       "      <td>4</td>\n",
       "    </tr>\n",
       "    <tr>\n",
       "      <th>Suisses</th>\n",
       "      <td>1.5</td>\n",
       "      <td>1.5</td>\n",
       "      <td>1.4</td>\n",
       "    </tr>\n",
       "    <tr>\n",
       "      <th rowspan=\"2\" valign=\"top\">Tessin</th>\n",
       "      <th>Etrangers</th>\n",
       "      <td>5</td>\n",
       "      <td>4.7</td>\n",
       "      <td>4.5</td>\n",
       "    </tr>\n",
       "    <tr>\n",
       "      <th>Suisses</th>\n",
       "      <td>2.6</td>\n",
       "      <td>2.5</td>\n",
       "      <td>2.4</td>\n",
       "    </tr>\n",
       "    <tr>\n",
       "      <th rowspan=\"2\" valign=\"top\">Vaud</th>\n",
       "      <th>Etrangers</th>\n",
       "      <td>6.6</td>\n",
       "      <td>6.3</td>\n",
       "      <td>5.8</td>\n",
       "    </tr>\n",
       "    <tr>\n",
       "      <th>Suisses</th>\n",
       "      <td>3.5</td>\n",
       "      <td>3.4</td>\n",
       "      <td>3.4</td>\n",
       "    </tr>\n",
       "    <tr>\n",
       "      <th rowspan=\"2\" valign=\"top\">Valais</th>\n",
       "      <th>Etrangers</th>\n",
       "      <td>7.7</td>\n",
       "      <td>6.3</td>\n",
       "      <td>5.2</td>\n",
       "    </tr>\n",
       "    <tr>\n",
       "      <th>Suisses</th>\n",
       "      <td>2.3</td>\n",
       "      <td>2.3</td>\n",
       "      <td>2.1</td>\n",
       "    </tr>\n",
       "    <tr>\n",
       "      <th rowspan=\"2\" valign=\"top\">Neuchâtel</th>\n",
       "      <th>Etrangers</th>\n",
       "      <td>9</td>\n",
       "      <td>8.4</td>\n",
       "      <td>7.6</td>\n",
       "    </tr>\n",
       "    <tr>\n",
       "      <th>Suisses</th>\n",
       "      <td>4.6</td>\n",
       "      <td>4.4</td>\n",
       "      <td>4.2</td>\n",
       "    </tr>\n",
       "    <tr>\n",
       "      <th rowspan=\"2\" valign=\"top\">Genève</th>\n",
       "      <th>Etrangers</th>\n",
       "      <td>6</td>\n",
       "      <td>5.9</td>\n",
       "      <td>5.8</td>\n",
       "    </tr>\n",
       "    <tr>\n",
       "      <th>Suisses</th>\n",
       "      <td>4.7</td>\n",
       "      <td>4.6</td>\n",
       "      <td>4.6</td>\n",
       "    </tr>\n",
       "    <tr>\n",
       "      <th rowspan=\"2\" valign=\"top\">Jura</th>\n",
       "      <th>Etrangers</th>\n",
       "      <td>10</td>\n",
       "      <td>9.5</td>\n",
       "      <td>9.4</td>\n",
       "    </tr>\n",
       "    <tr>\n",
       "      <th>Suisses</th>\n",
       "      <td>3.7</td>\n",
       "      <td>3.5</td>\n",
       "      <td>3.4</td>\n",
       "    </tr>\n",
       "    <tr>\n",
       "      <th>Total</th>\n",
       "      <th>NaN</th>\n",
       "      <td>3.3</td>\n",
       "      <td>3.1</td>\n",
       "      <td>3</td>\n",
       "    </tr>\n",
       "  </tbody>\n",
       "</table>\n",
       "</div>"
      ],
      "text/plain": [
       "                                         Avril 2017 Mai 2017 Juin 2017\n",
       "Canton                       Nationalité                              \n",
       "Zurich                       Etrangers            6      5.7       5.6\n",
       "                             Suisses            2.7      2.6       2.6\n",
       "Berne                        Etrangers          6.8      6.2       5.7\n",
       "                             Suisses              2      1.9       1.8\n",
       "Lucerne                      Etrangers          4.6      4.3       4.1\n",
       "                             Suisses            1.3      1.3       1.2\n",
       "Uri                          Etrangers          5.3      4.1         3\n",
       "                             Suisses            0.6      0.6       0.5\n",
       "Schwyz                       Etrangers            4      3.6       3.5\n",
       "                             Suisses            1.2      1.2       1.1\n",
       "Obwald                       Etrangers            3      2.4       2.4\n",
       "                             Suisses            0.6      0.5       0.5\n",
       "Nidwald                      Etrangers          3.6      3.5       3.2\n",
       "                             Suisses            0.7      0.7       0.7\n",
       "Glaris                       Etrangers          4.6      4.3       3.9\n",
       "                             Suisses            1.6      1.5       1.4\n",
       "Zoug                         Etrangers          4.3      4.2         4\n",
       "                             Suisses            1.8      1.8       1.7\n",
       "Fribourg                     Etrangers          5.3      4.7       4.4\n",
       "                             Suisses            1.9      1.7       1.8\n",
       "Soleure                      Etrangers            6      5.8       5.4\n",
       "                             Suisses            2.1        2       1.9\n",
       "Bâle-Ville                   Etrangers          5.3        5         5\n",
       "                             Suisses              3      2.8       2.7\n",
       "Bâle-Campagne                Etrangers          5.3      5.1         5\n",
       "                             Suisses            2.2      2.2       2.2\n",
       "Schaffhouse                  Etrangers          5.9      5.9       5.5\n",
       "                             Suisses            2.3      2.4       2.3\n",
       "Appenzell Rhodes-Extérieures Etrangers          3.9      3.7       3.6\n",
       "                             Suisses            1.3      1.3       1.3\n",
       "Appenzell Rhodes-Intérieures Etrangers          2.8      2.5       2.5\n",
       "                             Suisses            0.7      0.5       0.6\n",
       "St-Gall                      Etrangers          4.9      4.6       4.4\n",
       "                             Suisses            1.6      1.5       1.5\n",
       "Grisons                      Etrangers          6.1      5.2       2.6\n",
       "                             Suisses              1      0.9       0.8\n",
       "Argovie                      Etrangers          6.4      6.1       5.9\n",
       "                             Suisses            2.2      2.1       2.1\n",
       "Thurgovie                    Etrangers          4.5      4.2         4\n",
       "                             Suisses            1.5      1.5       1.4\n",
       "Tessin                       Etrangers            5      4.7       4.5\n",
       "                             Suisses            2.6      2.5       2.4\n",
       "Vaud                         Etrangers          6.6      6.3       5.8\n",
       "                             Suisses            3.5      3.4       3.4\n",
       "Valais                       Etrangers          7.7      6.3       5.2\n",
       "                             Suisses            2.3      2.3       2.1\n",
       "Neuchâtel                    Etrangers            9      8.4       7.6\n",
       "                             Suisses            4.6      4.4       4.2\n",
       "Genève                       Etrangers            6      5.9       5.8\n",
       "                             Suisses            4.7      4.6       4.6\n",
       "Jura                         Etrangers           10      9.5       9.4\n",
       "                             Suisses            3.7      3.5       3.4\n",
       "Total                        NaN                3.3      3.1         3"
      ]
     },
     "execution_count": 132,
     "metadata": {},
     "output_type": "execute_result"
    }
   ],
   "source": [
    "df_unemployment_swiss_foreigners_clean"
   ]
  },
  {
   "cell_type": "code",
   "execution_count": null,
   "metadata": {
    "collapsed": true
   },
   "outputs": [],
   "source": []
  }
 ],
 "metadata": {
  "anaconda-cloud": {},
  "kernelspec": {
   "display_name": "Python 3",
   "language": "python",
   "name": "python3"
  },
  "language_info": {
   "codemirror_mode": {
    "name": "ipython",
    "version": 3
   },
   "file_extension": ".py",
   "mimetype": "text/x-python",
   "name": "python",
   "nbconvert_exporter": "python",
   "pygments_lexer": "ipython3",
   "version": "3.6.1"
  }
 },
 "nbformat": 4,
 "nbformat_minor": 1
}
