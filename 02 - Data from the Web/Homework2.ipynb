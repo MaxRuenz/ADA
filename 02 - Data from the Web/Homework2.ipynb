{
 "cells": [
  {
   "cell_type": "markdown",
   "metadata": {},
   "source": [
    "# Background"
   ]
  },
  {
   "cell_type": "markdown",
   "metadata": {},
   "source": [
    "In this homework we will extract interesting information from www.topuniversities.com and www.timeshighereducation.com, two platforms that maintain a global ranking of worldwide universities. This ranking is not offered as a downloadable dataset, so you will have to find a way to scrape the information we need! You are not allowed to download manually the entire ranking -- rather you have to understand how the server loads it in your browser. For this task, Postman with the Interceptor extension can help you greatly. We recommend that you watch this brief tutorial to understand quickly how to use it."
   ]
  },
  {
   "cell_type": "code",
   "execution_count": 75,
   "metadata": {
    "collapsed": true
   },
   "outputs": [],
   "source": [
    "import requests\n",
    "import pandas as pd\n",
    "import numpy as np\n",
    "from bs4 import BeautifulSoup\n",
    "import re\n",
    "import types\n",
    "import matplotlib.pyplot as plt\n",
    "%matplotlib inline"
   ]
  },
  {
   "cell_type": "code",
   "execution_count": 76,
   "metadata": {
    "collapsed": true
   },
   "outputs": [],
   "source": [
    "# number of universities to fetch\n",
    "n = 200\n",
    "tu_link = \"https://www.topuniversities.com\""
   ]
  },
  {
   "cell_type": "markdown",
   "metadata": {},
   "source": [
    "# 1. Obtain the 200 top-ranking universities in www.topuniversities.com"
   ]
  },
  {
   "cell_type": "markdown",
   "metadata": {},
   "source": [
    "When loading the page https://www.topuniversities.com/university-rankings/world-university-rankings/2018, one can notice, that several additional requests are sent to the server. <br>\n",
    "One of these files is a json file, which contains the complete ranking:\n",
    "https://www.topuniversities.com/sites/default/files/qs-rankings-data/357051.txt?_=1508954434901. <br>"
   ]
  },
  {
   "cell_type": "code",
   "execution_count": 77,
   "metadata": {
    "collapsed": true
   },
   "outputs": [],
   "source": [
    "req_tu_ranking = requests.get(tu_link+'/sites/default/files/qs-rankings-data/357051.txt?_=1508168782318')\n",
    "tu_ranking = req_tu_ranking.json()[\"data\"]\n",
    "#tu_ranking json take too much place so not printed"
   ]
  },
  {
   "cell_type": "code",
   "execution_count": 78,
   "metadata": {
    "collapsed": false
   },
   "outputs": [
    {
     "data": {
      "text/plain": [
       "959"
      ]
     },
     "execution_count": 78,
     "metadata": {},
     "output_type": "execute_result"
    }
   ],
   "source": [
    "len(tu_ranking)"
   ]
  },
  {
   "cell_type": "code",
   "execution_count": 79,
   "metadata": {
    "collapsed": false
   },
   "outputs": [
    {
     "name": "stdout",
     "output_type": "stream",
     "text": [
      "{'region': 'North America', 'country': 'United States', 'rank_display': '=21', 'core_id': '403', 'score': '87', 'url': '/universities/university-michigan', 'title': 'University of Michigan', 'guide': '<a href=\"/where-to-study/north-america/united-states/guide\" class=\"guide-link\" target=\"_blank\">United States</a>', 'cc': 'US', 'stars': '5', 'nid': '294857', 'logo': '<img src=\"https://www.topuniversities.com/sites/default/files/university-of-michigan_403_small_0.jpg\" alt=\"University of Michigan Logo\">'}\n",
      "{'region': 'North America', 'country': 'United States', 'rank_display': '=21', 'core_id': '168', 'score': '87', 'url': '/universities/duke-university', 'title': 'Duke University', 'guide': '<a href=\"/where-to-study/north-america/united-states/guide\" class=\"guide-link\" target=\"_blank\">United States</a>', 'cc': 'US', 'stars': '5', 'nid': '294490', 'logo': '<img src=\"https://www.topuniversities.com/sites/default/files/duke-university_168_small_0.jpg\" alt=\"Duke University Logo\">'}\n"
     ]
    }
   ],
   "source": [
    "# check entries and equal ranks\n",
    "print (tu_ranking[20])\n",
    "print (tu_ranking[21])"
   ]
  },
  {
   "cell_type": "markdown",
   "metadata": {},
   "source": [
    "Filter necessary information"
   ]
  },
  {
   "cell_type": "code",
   "execution_count": 80,
   "metadata": {
    "collapsed": true
   },
   "outputs": [],
   "source": [
    "tu_ranking_200 = tu_ranking[:n]"
   ]
  },
  {
   "cell_type": "code",
   "execution_count": null,
   "metadata": {
    "collapsed": true
   },
   "outputs": [],
   "source": [
    "tu_relevant_values = [\"title\", \"country\", \"region\", \"rank_display\"]\n",
    "\n",
    "tu_ranking_filtered = []\n",
    "for i in range(n):\n",
    "    tmp_dict = {}\n",
    "    for s in tu_relevant_values:\n",
    "        tmp_dict[s] = tu_ranking_200[i][s]\n",
    "    tu_ranking_filtered.append(tmp_dict)"
   ]
  },
  {
   "cell_type": "markdown",
   "metadata": {},
   "source": [
    "The json file does unforunately not contain the needed information like number of students. Therefore, the detailed pages must be searched. The link of the pages is contained in the fetched ranking (e.g. https://www.topuniversities.com/universities/ecole-polytechnique-f%C3%A9d%C3%A9rale-de-lausanne-epfl). <br>\n",
    "During the analysis of the webpage, no dynamic queries to fetch the detailed information was found. Therefore, the HTML page needs to be searched for those values. <br>\n",
    "One can notice that all required numbers are stored in a div with the class _view-academic-data-profile_. This div then contains several divs for the details in the format div class=\"variable\"> div class=\"number\"></div </div\n",
    "</code></pre>. <br>\n",
    "We are using this structure to fetch the data from each details page."
   ]
  },
  {
   "cell_type": "code",
   "execution_count": null,
   "metadata": {
    "collapsed": false
   },
   "outputs": [],
   "source": [
    "def tuDetailsGetNumber(div):\n",
    "    return div.find('div', class_=\"number\").text.strip()\n",
    "\n",
    "for i in range(n):\n",
    "    req_tu_details = requests.get(tu_link+tu_ranking_200[i][\"url\"])    \n",
    "    soup = BeautifulSoup(req_tu_details.text, 'html.parser')\n",
    "    tu_detail_classes = soup.find_all('div', class_='view-academic-data-profile')\n",
    "\n",
    "    try:\n",
    "        tu_total_fac_div = tu_detail_classes[0].select(\".total.faculty\")[0]\n",
    "        tu_ranking_filtered[i][\"total_faculties\"] = tuDetailsGetNumber(tu_total_fac_div)\n",
    "    except IndexError:\n",
    "        print(\"Could not fetch total faculty field from uni {}\".format(i+1))\n",
    "    \n",
    "    try:\n",
    "        tu_inter_fac_div = tu_detail_classes[0].select(\".inter.faculty\")[0]\n",
    "        tu_ranking_filtered[i][\"inter_faculties\"] = tuDetailsGetNumber(tu_inter_fac_div)\n",
    "    except IndexError:\n",
    "        print(\"Could not fetch inter faculty field from uni {}\".format(i+1))\n",
    "        \n",
    "    try:\n",
    "        tu_total_stu_div = tu_detail_classes[0].select(\".total.student\")[0]\n",
    "        tu_ranking_filtered[i][\"total_students\"] = tuDetailsGetNumber(tu_total_stu_div)\n",
    "    except IndexError:\n",
    "        print(\"Could not fetch total students field from uni {}\".format(i+1))\n",
    "    \n",
    "    try:\n",
    "        tu_inter_stu_div =  tu_detail_classes[0].select(\".total.inter\")[0]\n",
    "        tu_ranking_filtered[i][\"inter_students\"] = tuDetailsGetNumber(tu_inter_stu_div)    \n",
    "    except IndexError:\n",
    "        print(\"Could not fetch inter students field from uni {}\".format(i+1))"
   ]
  },
  {
   "cell_type": "code",
   "execution_count": null,
   "metadata": {
    "collapsed": false
   },
   "outputs": [],
   "source": [
    "tu_df = pd.DataFrame.from_dict(tu_ranking_filtered)\n",
    "tu_df.head()"
   ]
  },
  {
   "cell_type": "markdown",
   "metadata": {},
   "source": [
    "## Statistics on second ranking"
   ]
  },
  {
   "cell_type": "markdown",
   "metadata": {},
   "source": [
    "First we transform all the column object into float"
   ]
  },
  {
   "cell_type": "code",
   "execution_count": null,
   "metadata": {
    "collapsed": true
   },
   "outputs": [],
   "source": [
    "def ToNumeric(x):\n",
    "    if(type(x) is not float):\n",
    "        x = x.replace(',','')\n",
    "    if type(x) is str:\n",
    "        if \"%\" in x:\n",
    "            x = float(x.strip('%'))\n",
    "            x /= 100 \n",
    "    return x"
   ]
  },
  {
   "cell_type": "code",
   "execution_count": null,
   "metadata": {
    "collapsed": false
   },
   "outputs": [],
   "source": [
    "tu_df.inter_faculties = tu_df.inter_faculties.apply(lambda x: ToNumeric(x))\n",
    "tu_df.inter_faculties = tu_df.inter_faculties.apply(pd.to_numeric)\n",
    "\n",
    "tu_df.inter_students = tu_df.inter_students.apply(lambda x: ToNumeric(x))\n",
    "tu_df.inter_students = tu_df.inter_students.apply(pd.to_numeric)\n",
    "\n",
    "tu_df.total_faculties = tu_df.total_faculties.apply(lambda x: ToNumeric(x))\n",
    "tu_df.total_faculties = tu_df.total_faculties.apply(pd.to_numeric)\n",
    "\n",
    "tu_df.total_students = tu_df.total_students.apply(lambda x: ToNumeric(x))\n",
    "tu_df.total_students = tu_df.total_students.apply(pd.to_numeric)\n",
    "\n",
    "\n",
    "tu_df.head()"
   ]
  },
  {
   "cell_type": "markdown",
   "metadata": {},
   "source": [
    "We use the total number of students and faculties found to calculate the ratio and then add it as a new column, same is done for the internation student and total students"
   ]
  },
  {
   "cell_type": "code",
   "execution_count": null,
   "metadata": {
    "collapsed": true
   },
   "outputs": [],
   "source": [
    "#Create a DF for Ration, then you get the ID of the uni with best Ratio\n",
    "tot_stud = pd.DataFrame(tu_df.total_students)\n",
    "tot_fac = pd.DataFrame(tu_df.total_faculties)\n",
    "ratio = (tot_stud.total_students/tot_fac.total_faculties)\n",
    "df_ratio_tot = pd.DataFrame(ratio,columns=[\"ratio_students_fac\"])\n",
    "\n",
    "\n",
    "inter_stud = pd.DataFrame(tu_df.inter_students)\n",
    "total_stud = pd.DataFrame(tu_df.total_students)\n",
    "inter_ratio = (inter_stud.inter_students/total_stud.total_students)\n",
    "df_ratio_inter = pd.DataFrame(inter_ratio,columns=[\"ratio_inter\"])\n",
    "\n",
    "tu_df = tu_df.join(df_ratio_tot)\n",
    "tu_df = tu_df.join(df_ratio_inter)"
   ]
  },
  {
   "cell_type": "markdown",
   "metadata": {},
   "source": [
    "- Which are the best universities in term of: (a) ratio between faculty members and students, (b) ratio of international students?"
   ]
  },
  {
   "cell_type": "code",
   "execution_count": null,
   "metadata": {
    "collapsed": true
   },
   "outputs": [],
   "source": [
    "def plotBarChart(x, y, title, yText):\n",
    "\n",
    "    top = 5\n",
    "\n",
    "    fig, ax = plt.subplots()\n",
    "    rec = ax.bar(np.arange(top), y, 0.8)\n",
    "\n",
    "    # add some text for labels, title and axes ticks\n",
    "    ax.set_ylabel(yText)\n",
    "    ax.set_title(title)\n",
    "    ax.set_xticks(np.arange(top))\n",
    "    ax.set_xticklabels(x, rotation='vertical')\n",
    "\n",
    "    plt.show()"
   ]
  },
  {
   "cell_type": "code",
   "execution_count": null,
   "metadata": {
    "collapsed": true
   },
   "outputs": [],
   "source": [
    "def plotBarChartGroup(df, groupCol, valueCol, title, ylabel):\n",
    "    \n",
    "    # TODO bugfix: Some entries are missing\n",
    "    \n",
    "    top = 3\n",
    "    categories = df[groupCol].unique()\n",
    "\n",
    "    fig, ax = plt.subplots()\n",
    "    fig.set_size_inches(10,10)\n",
    "    for i in range(top):    \n",
    "        topx = df.sort_values([groupCol,valueCol],ascending=False).groupby(groupCol)[valueCol].nth(i)\n",
    "        nthcat = 0\n",
    "        fixed_topx = [0]*len(categories)\n",
    "        for j in range(len(categories)):\n",
    "            try:\n",
    "                if topx.index.get_loc(categories[j]) > -1:\n",
    "                    fixed_topx[j] = topx[topx.index.get_loc(categories[j])]\n",
    "            except KeyError:\n",
    "                \"\"\n",
    "                # take default value    \n",
    "        ax.bar(np.arange(len(categories))+0.25*i, fixed_topx, 0.25)\n",
    "\n",
    "\n",
    "    # add some text for labels, title and axes ticks\n",
    "    ax.set_ylabel(ylabel)\n",
    "    ax.set_title(title)\n",
    "    ax.set_xticks(np.arange(len(categories)) + 0.25 / 3)\n",
    "    ax.set_xticklabels(df[groupCol].unique(), rotation=\"vertical\")\n",
    "\n",
    "    plt.show()"
   ]
  },
  {
   "cell_type": "code",
   "execution_count": null,
   "metadata": {
    "collapsed": false
   },
   "outputs": [],
   "source": [
    "#Merge the ratio to sort ther and get best university by ratio\n",
    "tu_df.sort_values(by=\"ratio_students_fac\",ascending=False).head()"
   ]
  },
  {
   "cell_type": "code",
   "execution_count": null,
   "metadata": {
    "collapsed": false,
    "scrolled": true
   },
   "outputs": [],
   "source": [
    "plotBarChart(tu_df.sort_values(by=\"ratio_students_fac\",ascending=False).head()[\"title\"],\\\n",
    "             tu_df.sort_values(by=\"ratio_students_fac\",ascending=False).head()[\"ratio_students_fac\"],\\\n",
    "             'Top Student faculty ratio', 'Ratio student to faculty mebers')"
   ]
  },
  {
   "cell_type": "markdown",
   "metadata": {},
   "source": [
    "The `Vienna University of Technology` has the highest student to faculty members ratio. Most of the top 5 universities are in Europe."
   ]
  },
  {
   "cell_type": "code",
   "execution_count": null,
   "metadata": {
    "collapsed": false,
    "scrolled": true
   },
   "outputs": [],
   "source": [
    "tu_df.sort_values(by=\"ratio_inter\",ascending=False).head()"
   ]
  },
  {
   "cell_type": "code",
   "execution_count": null,
   "metadata": {
    "collapsed": false,
    "scrolled": true
   },
   "outputs": [],
   "source": [
    "plotBarChart(tu_df.sort_values(by=\"ratio_inter\",ascending=False).head()[\"title\"],\\\n",
    "             tu_df.sort_values(by=\"ratio_inter\",ascending=False).head()[\"ratio_inter\"],\\\n",
    "             'Top universities with international students', 'Ratio of international students')"
   ]
  },
  {
   "cell_type": "markdown",
   "metadata": {},
   "source": [
    "The `London School of Economics and Political Science` has the highest international student ratio. Most of the top 5 universities are in Europe."
   ]
  },
  {
   "cell_type": "markdown",
   "metadata": {},
   "source": [
    "- Answer the previous question aggregating the data by (c) country and (d) region."
   ]
  },
  {
   "cell_type": "code",
   "execution_count": null,
   "metadata": {
    "collapsed": false
   },
   "outputs": [],
   "source": [
    "tu_df.sort_values([\"country\",\"ratio_students_fac\"],ascending=False).groupby(\"country\").head(1)"
   ]
  },
  {
   "cell_type": "code",
   "execution_count": null,
   "metadata": {
    "collapsed": false,
    "scrolled": true
   },
   "outputs": [],
   "source": [
    "plotBarChartGroup(tu_df, \"country\", \"ratio_students_fac\", 'Top Student faculty ratio', 'Ratio student to faculty mebers')"
   ]
  },
  {
   "cell_type": "markdown",
   "metadata": {},
   "source": [
    "The US, Germany, Austria and Italy have the universities with the highest student to faculty ratio."
   ]
  },
  {
   "cell_type": "code",
   "execution_count": null,
   "metadata": {
    "collapsed": false
   },
   "outputs": [],
   "source": [
    "tu_df.sort_values([\"region\",\"ratio_students_fac\"],ascending=False).groupby(\"region\").head(2)"
   ]
  },
  {
   "cell_type": "code",
   "execution_count": null,
   "metadata": {
    "collapsed": false,
    "scrolled": true
   },
   "outputs": [],
   "source": [
    "plotBarChartGroup(tu_df, \"region\", \"ratio_students_fac\", 'Top Student faculty ratio', 'Ratio student to faculty mebers [%]')"
   ]
  },
  {
   "cell_type": "markdown",
   "metadata": {},
   "source": [
    "The North America and Europe have the universities with the highest student to faculty ratio."
   ]
  },
  {
   "cell_type": "code",
   "execution_count": null,
   "metadata": {
    "collapsed": false
   },
   "outputs": [],
   "source": [
    "tu_df.sort_values([\"country\",\"ratio_inter\"],ascending=False).groupby(\"country\").head(1)"
   ]
  },
  {
   "cell_type": "code",
   "execution_count": null,
   "metadata": {
    "collapsed": false,
    "scrolled": true
   },
   "outputs": [],
   "source": [
    "plotBarChartGroup(tu_df, \"country\", \"ratio_inter\", 'Top universities with international students', 'Ratio of international students')"
   ]
  },
  {
   "cell_type": "markdown",
   "metadata": {},
   "source": [
    "The US, UK, Switzerland and Netherlands have the universities with the highest international student ratio."
   ]
  },
  {
   "cell_type": "code",
   "execution_count": null,
   "metadata": {
    "collapsed": false
   },
   "outputs": [],
   "source": [
    "tu_df.sort_values([\"region\",\"ratio_inter\"],ascending=False).groupby(\"region\").head(2)"
   ]
  },
  {
   "cell_type": "code",
   "execution_count": null,
   "metadata": {
    "collapsed": false,
    "scrolled": true
   },
   "outputs": [],
   "source": [
    "plotBarChartGroup(tu_df, \"region\", \"ratio_inter\", 'Top universities with international students', 'Ratio of international students')"
   ]
  },
  {
   "cell_type": "markdown",
   "metadata": {},
   "source": [
    "Europe has the universities with the highest international student ratio."
   ]
  },
  {
   "cell_type": "markdown",
   "metadata": {
    "collapsed": true
   },
   "source": [
    "# Obtain the 200 top-ranking universities in www.timeshighereducation.com (ranking 2018)"
   ]
  },
  {
   "cell_type": "markdown",
   "metadata": {},
   "source": [
    "When loading the page http://timeshighereducation.com/world-university-rankings/2018/world-ranking, one can notice, that several additional requests are sent to the server. <br>\n",
    "One of these files is a json file, which contains the complete ranking:\n",
    "https://www.timeshighereducation.com/sites/default/files/the_data_rankings/world_university_rankings_2018_limit0_369a9045a203e176392b9fb8f8c1cb2a.json. <br>\n",
    "Luckily this ranking already contains all neccessary information."
   ]
  },
  {
   "cell_type": "code",
   "execution_count": null,
   "metadata": {
    "collapsed": true
   },
   "outputs": [],
   "source": [
    "th_link = \"https://www.timeshighereducation.com\" "
   ]
  },
  {
   "cell_type": "code",
   "execution_count": null,
   "metadata": {
    "collapsed": true
   },
   "outputs": [],
   "source": [
    "req_th_ranking = requests.get(th_link+'/sites/default/files/the_data_rankings/world_university_rankings_2018_limit0_369a9045a203e176392b9fb8f8c1cb2a.json')\n",
    "th_ranking = req_th_ranking.json()[\"data\"]\n",
    "#th_ranking"
   ]
  },
  {
   "cell_type": "code",
   "execution_count": null,
   "metadata": {
    "collapsed": false
   },
   "outputs": [],
   "source": [
    "len(th_ranking)"
   ]
  },
  {
   "cell_type": "code",
   "execution_count": null,
   "metadata": {
    "collapsed": false
   },
   "outputs": [],
   "source": [
    "# check format and equal ranks\n",
    "print (th_ranking[2])\n",
    "print (th_ranking[3])\n",
    "\n",
    "# equal scores"
   ]
  },
  {
   "cell_type": "code",
   "execution_count": null,
   "metadata": {
    "collapsed": true
   },
   "outputs": [],
   "source": [
    "th_ranking_200 = th_ranking[:n]"
   ]
  },
  {
   "cell_type": "code",
   "execution_count": null,
   "metadata": {
    "collapsed": true
   },
   "outputs": [],
   "source": [
    "th_relevant_values = [\"name\", \"aliases\", \"location\", \"rank\", \"stats_number_students\", \"stats_student_staff_ratio\", \"stats_pc_intl_students\"]\n",
    "\n",
    "th_ranking_filtered = []\n",
    "for i in range(n):\n",
    "    tmp_dict = {}\n",
    "    for s in th_relevant_values:\n",
    "        tmp_dict[s] = th_ranking_200[i][s]\n",
    "    th_ranking_filtered.append(tmp_dict)"
   ]
  },
  {
   "cell_type": "code",
   "execution_count": null,
   "metadata": {
    "collapsed": false,
    "scrolled": false
   },
   "outputs": [],
   "source": [
    "th_df = pd.DataFrame.from_dict(th_ranking_filtered)\n",
    "th_df.head()"
   ]
  },
  {
   "cell_type": "markdown",
   "metadata": {},
   "source": [
    "## Statistics on second ranking"
   ]
  },
  {
   "cell_type": "code",
   "execution_count": null,
   "metadata": {
    "collapsed": true
   },
   "outputs": [],
   "source": [
    "# transform to numerical values\n",
    "th_df.stats_number_students = th_df.stats_number_students.apply(lambda x: ToNumeric(x))\n",
    "tu_df.stats_number_students = th_df.stats_number_students.apply(pd.to_numeric)\n",
    "\n",
    "th_df.stats_pc_intl_students = th_df.stats_pc_intl_students.apply(lambda x: ToNumeric(x))\n",
    "th_df.stats_pc_intl_students = th_df.stats_pc_intl_students.apply(pd.to_numeric)\n",
    "\n",
    "th_df.stats_student_staff_ratio = th_df.stats_student_staff_ratio.apply(lambda x: ToNumeric(x))\n",
    "th_df.stats_student_staff_ratio = th_df.stats_student_staff_ratio.apply(pd.to_numeric)"
   ]
  },
  {
   "cell_type": "markdown",
   "metadata": {},
   "source": [
    "Which are the best universities in term of: (a) ratio between faculty members and students, (b) ratio of international students?"
   ]
  },
  {
   "cell_type": "code",
   "execution_count": null,
   "metadata": {
    "collapsed": false
   },
   "outputs": [],
   "source": [
    "th_df.sort_values(by=\"stats_student_staff_ratio\",ascending=False).head()"
   ]
  },
  {
   "cell_type": "code",
   "execution_count": null,
   "metadata": {
    "collapsed": false,
    "scrolled": true
   },
   "outputs": [],
   "source": [
    "plotBarChart(th_df.sort_values(by=\"stats_student_staff_ratio\",ascending=False).head()[\"name\"],\\\n",
    "             th_df.sort_values(by=\"stats_student_staff_ratio\",ascending=False).head()[\"stats_student_staff_ratio\"],\\\n",
    "             'Top Student faculty ratio', 'Ratio student to faculty mebers')"
   ]
  },
  {
   "cell_type": "markdown",
   "metadata": {},
   "source": [
    "The `University of Bonn` has the highest student to faculty members ratio. All top 5 universities are in Germany."
   ]
  },
  {
   "cell_type": "code",
   "execution_count": null,
   "metadata": {
    "collapsed": false
   },
   "outputs": [],
   "source": [
    "th_df.sort_values(by=\"stats_pc_intl_students\",ascending=False).head()"
   ]
  },
  {
   "cell_type": "code",
   "execution_count": null,
   "metadata": {
    "collapsed": false,
    "scrolled": true
   },
   "outputs": [],
   "source": [
    "plotBarChart(th_df.sort_values(by=\"stats_pc_intl_students\",ascending=False).head()[\"name\"],\\\n",
    "             th_df.sort_values(by=\"stats_pc_intl_students\",ascending=False).head()[\"stats_pc_intl_students\"],\\\n",
    "             'Top universities in international students', 'Ratio international students [%]')"
   ]
  },
  {
   "cell_type": "markdown",
   "metadata": {},
   "source": [
    "The `London School of Economics and Political Science` has the highest international student ratio. All of the top 5 universities are in Europe."
   ]
  },
  {
   "cell_type": "markdown",
   "metadata": {},
   "source": [
    "Answer the previous question aggregating the data by (c) country and (d) region."
   ]
  },
  {
   "cell_type": "code",
   "execution_count": null,
   "metadata": {
    "collapsed": false
   },
   "outputs": [],
   "source": [
    "th_df.sort_values([\"location\",\"stats_student_staff_ratio\"],ascending=False).groupby(\"location\").head(1)"
   ]
  },
  {
   "cell_type": "code",
   "execution_count": null,
   "metadata": {
    "collapsed": false,
    "scrolled": true
   },
   "outputs": [],
   "source": [
    "plotBarChartGroup(th_df, \"location\", \"stats_student_staff_ratio\", 'Top Student faculty ratio', 'Ratio student to faculty mebers')"
   ]
  },
  {
   "cell_type": "markdown",
   "metadata": {},
   "source": [
    "Germany has by far the highest student to faculty members ratio."
   ]
  },
  {
   "cell_type": "code",
   "execution_count": null,
   "metadata": {
    "collapsed": false,
    "scrolled": false
   },
   "outputs": [],
   "source": [
    "th_df.sort_values([\"location\",\"stats_pc_intl_students\"],ascending=False).groupby(\"location\").head(1)"
   ]
  },
  {
   "cell_type": "code",
   "execution_count": null,
   "metadata": {
    "collapsed": false,
    "scrolled": false
   },
   "outputs": [],
   "source": [
    "plotBarChartGroup(th_df, \"location\", \"stats_pc_intl_students\", 'Top universities in international students', 'Ratio international students [%]')"
   ]
  },
  {
   "cell_type": "markdown",
   "metadata": {},
   "source": [
    "The UK, Switzerland, Netherlands and Luxembourg have the higest international student ratio."
   ]
  },
  {
   "cell_type": "markdown",
   "metadata": {},
   "source": [
    "Unfortunately the second ranking does not contain the region column. We can obtain it from the first ranking"
   ]
  },
  {
   "cell_type": "code",
   "execution_count": null,
   "metadata": {
    "collapsed": true
   },
   "outputs": [],
   "source": [
    "region_map = {}\n",
    "for country in th_df[\"location\"].values:\n",
    "    if country in tu_df[\"country\"].values:\n",
    "        region_map[country] = tu_df[tu_df.country == country][\"region\"].iloc[0]\n",
    "    else:        \n",
    "        if country == 'Russian Federation':\n",
    "            region_map[country] = tu_df[tu_df.country == \"Russia\"][\"region\"].iloc[0]\n",
    "        elif country == 'Luxembourg':\n",
    "            region_map[country] = \"Europe\"\n",
    "        else:\n",
    "            print (country)\n",
    "        \n",
    "th_df['region'] = th_df.apply(lambda x: region_map[x['location']], axis=1)"
   ]
  },
  {
   "cell_type": "code",
   "execution_count": null,
   "metadata": {
    "collapsed": false
   },
   "outputs": [],
   "source": [
    "th_df.sort_values([\"region\",\"stats_student_staff_ratio\"],ascending=False).groupby(\"region\").head(2)"
   ]
  },
  {
   "cell_type": "code",
   "execution_count": null,
   "metadata": {
    "collapsed": false,
    "scrolled": true
   },
   "outputs": [],
   "source": [
    "plotBarChartGroup(th_df, \"region\", \"stats_student_staff_ratio\", 'Top Student faculty ratio', 'Ratio student to faculty mebers')\n"
   ]
  },
  {
   "cell_type": "markdown",
   "metadata": {},
   "source": [
    "Europe has by far the highest students to staff ratio"
   ]
  },
  {
   "cell_type": "code",
   "execution_count": null,
   "metadata": {
    "collapsed": false
   },
   "outputs": [],
   "source": [
    "th_df.sort_values([\"region\",\"stats_pc_intl_students\"],ascending=False).groupby(\"region\").head(2)"
   ]
  },
  {
   "cell_type": "code",
   "execution_count": null,
   "metadata": {
    "collapsed": false,
    "scrolled": true
   },
   "outputs": [],
   "source": [
    "plotBarChartGroup(th_df, \"region\", \"stats_pc_intl_students\", 'Top universities in international students', 'Ratio international students [%]')\n"
   ]
  },
  {
   "cell_type": "markdown",
   "metadata": {},
   "source": [
    "Europe has by far the most international students."
   ]
  },
  {
   "cell_type": "markdown",
   "metadata": {},
   "source": [
    "# Merge Rankings"
   ]
  },
  {
   "cell_type": "markdown",
   "metadata": {},
   "source": [
    "The idea is to modify the name of each university to make them as equal as possible:\n",
    " - Lower all letters\n",
    " - Translating important words (university, school, technical..)\n",
    " - Get rid of special characters\n",
    " - Get rid of prepositions\n",
    " - Get rid of parenthesis and their content. Example: (UCB)\n"
   ]
  },
  {
   "cell_type": "code",
   "execution_count": null,
   "metadata": {
    "collapsed": true
   },
   "outputs": [],
   "source": [
    "df_top_tomerge = tu_df.copy()\n",
    "df_times_tomerge = th_df.copy()"
   ]
  },
  {
   "cell_type": "code",
   "execution_count": null,
   "metadata": {
    "collapsed": true
   },
   "outputs": [],
   "source": [
    "def modify_tomerge(string):\n",
    "    \n",
    "    #lower case\n",
    "    string = string.str.lower()\n",
    "    \n",
    "    # University\n",
    "    string = string.str.replace('universite','university')\n",
    "    string = string.str.replace('universitat','university')\n",
    "    string = string.str.replace('universitaet','university')\n",
    "    string = string.str.replace('universidad','university')\n",
    "    string = string.str.replace('universiteit','university')\n",
    "    string = string.str.replace('universidade','university')\n",
    "    string = string.str.replace('universitari','university')\n",
    "\n",
    "\n",
    "    # school\n",
    "    string = string.replace('scuola','school')\n",
    "    \n",
    "    #technical\n",
    "    string = string.replace('technische','technical')\n",
    "    \n",
    "    #studies\n",
    "    string = string.replace('studi','studies')\n",
    "    string = string.replace('estudios','studies')\n",
    "\n",
    "\n",
    "    #some translations\n",
    "    string = string.replace('freie','free')\n",
    "    string = string.replace('tecnológico','technological')\n",
    "\n",
    "\n",
    "\n",
    "    #special characters\n",
    "    string = string.str.replace('é','e')\n",
    "    string = string.str.replace('-','')\n",
    "    string = string.str.replace('ä','ae')\n",
    "    string = string.str.replace('ã','a')\n",
    "    string = string.str.replace('ó','o')\n",
    "    string = string.str.replace('ö','o')\n",
    "    string = string.str.replace('&','')\n",
    "    string = string.str.replace('/','')\n",
    "\n",
    "\n",
    "    #prepositions\n",
    "    string = string.str.replace('of','')\n",
    "    string = string.str.replace('the','')\n",
    "    string = string.str.replace('at','')\n",
    "    string = string.str.replace('de','')\n",
    "    string = string.str.replace('y','')\n",
    "    string = string.str.replace('di ','')\n",
    "    string = string.str.replace(',','')\n",
    "\n",
    "\n",
    "    #parenthesis and their content\n",
    "    string = string.str.replace(r\"\\(.*\\)\",\"\")\n",
    "    \n",
    "    #space\n",
    "    string = string.str.replace(' ','')\n",
    "    \n",
    "\n",
    "    return string\n",
    "   "
   ]
  },
  {
   "cell_type": "code",
   "execution_count": null,
   "metadata": {
    "collapsed": false
   },
   "outputs": [],
   "source": [
    "df_top_tomerge = df_top_tomerge.rename(columns={'title': 'name', 'rank_display':'rank_top'})\n",
    "df_times_tomerge = df_times_tomerge.rename(columns={'rank': 'rank_times'})\n",
    "\n",
    "df_times_tomerge['name'] = modify_tomerge(df_times_tomerge['name'])\n",
    "df_top_tomerge['name'] = modify_tomerge(df_top_tomerge['name'])\n",
    "\n",
    "df = df_top_tomerge.merge(df_times_tomerge, how='inner')\n",
    "\n",
    "df.head()"
   ]
  },
  {
   "cell_type": "code",
   "execution_count": null,
   "metadata": {
    "collapsed": true
   },
   "outputs": [],
   "source": [
    "def RankToNumeric(x):\n",
    "    if(type(x) is not float and type(x) is not int):\n",
    "        x = x.replace('=','')\n",
    "    return x"
   ]
  },
  {
   "cell_type": "markdown",
   "metadata": {},
   "source": [
    "We put all the ranking in Integer (mostly to have the equality in int as they were simbolized as \"=ranking\")"
   ]
  },
  {
   "cell_type": "code",
   "execution_count": null,
   "metadata": {
    "collapsed": true
   },
   "outputs": [],
   "source": [
    "df.rank_times = df.rank_times.apply(lambda x: RankToNumeric(x))\n",
    "df.rank_times = df.rank_times.apply(pd.to_numeric)\n",
    "df.rank_top = df.rank_top.apply(lambda x: RankToNumeric(x))\n",
    "df.rank_top = df.rank_top.apply(pd.to_numeric)"
   ]
  },
  {
   "cell_type": "markdown",
   "metadata": {},
   "source": [
    "# Exploratory Data Analysis"
   ]
  },
  {
   "cell_type": "code",
   "execution_count": null,
   "metadata": {
    "collapsed": false,
    "scrolled": true
   },
   "outputs": [],
   "source": [
    "df"
   ]
  },
  {
   "cell_type": "code",
   "execution_count": null,
   "metadata": {
    "collapsed": true
   },
   "outputs": [],
   "source": [
    "#There is one value NaN that we drop\n",
    "df = df.dropna(axis=0)"
   ]
  },
  {
   "cell_type": "code",
   "execution_count": null,
   "metadata": {
    "collapsed": false,
    "scrolled": true
   },
   "outputs": [],
   "source": [
    "# set column country, location and region to categorial\n",
    "df[\"country\"] = df[\"country\"].astype('category')\n",
    "df[\"location\"] = df[\"location\"].astype('category')\n",
    "df[\"region\"] = df[\"region\"].astype('category')"
   ]
  },
  {
   "cell_type": "markdown",
   "metadata": {},
   "source": [
    "Here we can use the describe function to have some statistics like mean, standart deviation, quartiles and some other informations about all features"
   ]
  },
  {
   "cell_type": "code",
   "execution_count": null,
   "metadata": {
    "collapsed": false,
    "scrolled": true
   },
   "outputs": [],
   "source": [
    "df.describe()"
   ]
  },
  {
   "cell_type": "code",
   "execution_count": null,
   "metadata": {
    "collapsed": false,
    "scrolled": true
   },
   "outputs": [],
   "source": [
    "df_corr = df.corr()\n",
    "df_corr"
   ]
  },
  {
   "cell_type": "code",
   "execution_count": null,
   "metadata": {
    "collapsed": false
   },
   "outputs": [],
   "source": [
    "df_corr[[\"rank_top\",\"rank_times\"]]"
   ]
  },
  {
   "cell_type": "markdown",
   "metadata": {},
   "source": [
    "The ranking of topuniversities.com is mostely good for a high number of international faculties.\n",
    "The ranking of timeshighereducation.com is mostely good for a combination of high number of international faculties and students."
   ]
  },
  {
   "cell_type": "code",
   "execution_count": null,
   "metadata": {
    "collapsed": false,
    "scrolled": true
   },
   "outputs": [],
   "source": [
    "for i in range(df.columns.shape[0]):\n",
    "    for j in range(df.columns.shape[0]):\n",
    "        if i<j and df.dtypes[i] == \"float\" and df.dtypes[j] == \"float\":\n",
    "            if np.abs(df_corr.loc[df.columns[i],df.columns[j]]) > 0.5:\n",
    "                print (\"Columns {} and {} have a high corr coeff of {}\".format(df.columns[i], df.columns[j], df_corr.loc[df.columns[i],df.columns[j]]))"
   ]
  },
  {
   "cell_type": "markdown",
   "metadata": {},
   "source": [
    "It stands out, that only the ratio of international students between the both ranking does correlate strongly.\n",
    "Therefore, let's have a look at the differences"
   ]
  },
  {
   "cell_type": "code",
   "execution_count": null,
   "metadata": {
    "collapsed": false
   },
   "outputs": [],
   "source": [
    "fig, axes = plt.subplots(nrows=1, ncols=2, figsize= (16,8))\n",
    "df.boxplot(column=\"rank_top\",\n",
    "                 by= \"country\",\n",
    "                 rot=90,\n",
    "                 ax=axes[0])\n",
    "df.boxplot(column=\"rank_times\",\n",
    "                 by= \"country\",\n",
    "                 rot=90,\n",
    "                 ax=axes[1])"
   ]
  },
  {
   "cell_type": "code",
   "execution_count": null,
   "metadata": {
    "collapsed": false
   },
   "outputs": [],
   "source": [
    "fig, axes = plt.subplots(nrows=1, ncols=2, figsize= (16,8))\n",
    "df.boxplot(column=\"rank_top\",\n",
    "                 by= \"region\",\n",
    "                 rot=90,\n",
    "                 ax=axes[0])\n",
    "df.boxplot(column=\"rank_times\",\n",
    "                 by= \"region\",\n",
    "                 rot=90,\n",
    "                 ax=axes[1])"
   ]
  },
  {
   "cell_type": "markdown",
   "metadata": {},
   "source": [
    "The European universities get a similiar rating on both sites.\n",
    "Topuniversities favors Asia over North America, timeshighereducation the other way around"
   ]
  },
  {
   "cell_type": "code",
   "execution_count": null,
   "metadata": {
    "collapsed": false
   },
   "outputs": [],
   "source": [
    "# Find not matching student numbers\n",
    "tu_stud = pd.DataFrame(tu_df.total_students)\n",
    "th_stud = pd.DataFrame(th_df.stats_number_students).astype(\"float\")\n",
    "ratio = (tu_stud.total_students/th_stud.stats_number_students)\n",
    "stud_deviation = pd.DataFrame(ratio,columns=[\"students_deviation\"])\n",
    "df_stud_deviation = df.join(stud_deviation)\n",
    "df_stud_deviation.sort_values([\"students_deviation\"], ascending=False).head()"
   ]
  },
  {
   "cell_type": "code",
   "execution_count": null,
   "metadata": {
    "collapsed": false,
    "scrolled": true
   },
   "outputs": [],
   "source": [
    "df_stud_deviation.sort_values([\"students_deviation\"], ascending=True).head()"
   ]
  },
  {
   "cell_type": "markdown",
   "metadata": {},
   "source": [
    "There are several universities for whose the number of students differs by factor ~ 10."
   ]
  },
  {
   "cell_type": "code",
   "execution_count": null,
   "metadata": {
    "collapsed": false,
    "scrolled": true
   },
   "outputs": [],
   "source": [
    "# Find not matching ranking positions\n",
    "tu_ranks = pd.DataFrame(df.rank_top)\n",
    "th_ranks = pd.DataFrame(df.rank_times)\n",
    "ratio = np.abs(tu_ranks.rank_top-th_ranks.rank_times)\n",
    "rank_deviation = pd.DataFrame(ratio,columns=[\"rank_deviation\"])\n",
    "df_rank_deviation = df.join(rank_deviation)\n",
    "df_rank_deviation.sort_values([\"rank_deviation\"], ascending=False).head()"
   ]
  },
  {
   "cell_type": "code",
   "execution_count": null,
   "metadata": {
    "collapsed": false,
    "scrolled": false
   },
   "outputs": [],
   "source": [
    "df_rank_deviation.sort_values([\"rank_deviation\"], ascending=True).head()"
   ]
  },
  {
   "cell_type": "markdown",
   "metadata": {},
   "source": [
    "There are several universities for whose the rank differs ~ 100 spots in both rankings."
   ]
  },
  {
   "cell_type": "code",
   "execution_count": null,
   "metadata": {
    "collapsed": false
   },
   "outputs": [],
   "source": [
    "# Find not matching faculies\n",
    "tu_facs = pd.DataFrame(tu_df.total_faculties)\n",
    "th_students_facs = pd.DataFrame(th_df.stats_student_staff_ratio)\n",
    "ratio = (tu_facs.total_faculties/(th_stud.stats_number_students/th_students_facs.stats_student_staff_ratio))\n",
    "fac_deviation = pd.DataFrame(ratio,columns=[\"fac_deviation\"])\n",
    "df_fac_deviation = df.join(fac_deviation)\n",
    "df_fac_deviation.sort_values([\"fac_deviation\"], ascending=False).head()"
   ]
  },
  {
   "cell_type": "code",
   "execution_count": null,
   "metadata": {
    "collapsed": false,
    "scrolled": true
   },
   "outputs": [],
   "source": [
    "df_fac_deviation.sort_values([\"fac_deviation\"], ascending=True).head()\n"
   ]
  },
  {
   "cell_type": "markdown",
   "metadata": {},
   "source": [
    "There are several universities for whose the number of faculties differs by factor ~ 10."
   ]
  },
  {
   "cell_type": "code",
   "execution_count": null,
   "metadata": {
    "collapsed": false
   },
   "outputs": [],
   "source": [
    "# Find not matching international ratio\n",
    "tu_ratio1 = pd.DataFrame(tu_df.ratio_inter)\n",
    "th_ratio2 = pd.DataFrame(th_df.stats_pc_intl_students)\n",
    "ratio = (tu_ratio1.ratio_inter/th_ratio2.stats_pc_intl_students)\n",
    "inter_deviation = pd.DataFrame(ratio,columns=[\"inter_deviation\"])\n",
    "df_inter_deviation = df.join(inter_deviation)\n",
    "df_inter_deviation.sort_values([\"inter_deviation\"], ascending=False).head()\n"
   ]
  },
  {
   "cell_type": "code",
   "execution_count": null,
   "metadata": {
    "collapsed": false,
    "scrolled": true
   },
   "outputs": [],
   "source": [
    "df_inter_deviation.sort_values([\"inter_deviation\"], ascending=True).head()\n"
   ]
  },
  {
   "cell_type": "markdown",
   "metadata": {},
   "source": [
    "There are several universities for whose the international student ratio differs by factor ~ 5."
   ]
  },
  {
   "cell_type": "code",
   "execution_count": null,
   "metadata": {
    "collapsed": false
   },
   "outputs": [],
   "source": [
    "# Find not matching fac ratio\n",
    "tu_ratio1 = pd.DataFrame(tu_df.ratio_students_fac)\n",
    "th_ratio2 = pd.DataFrame(th_df.stats_student_staff_ratio)\n",
    "ratio = (tu_ratio1.ratio_students_fac/th_ratio2.stats_student_staff_ratio)\n",
    "fac_r_deviation = pd.DataFrame(ratio,columns=[\"fac_r_deviation\"])\n",
    "df_fac_r_deviation = df.join(fac_r_deviation)\n",
    "df_fac_r_deviation.sort_values([\"fac_r_deviation\"], ascending=False).head()\n"
   ]
  },
  {
   "cell_type": "code",
   "execution_count": null,
   "metadata": {
    "collapsed": false,
    "scrolled": true
   },
   "outputs": [],
   "source": [
    "df_fac_r_deviation.sort_values([\"fac_r_deviation\"], ascending=True).head()\n"
   ]
  },
  {
   "cell_type": "markdown",
   "metadata": {},
   "source": [
    "There are several universities for whose the students per faculy differs by factor ~ 10."
   ]
  },
  {
   "cell_type": "markdown",
   "metadata": {},
   "source": [
    "All in all there are large differences between the both rankings. <br>\n",
    "Are those differences the reason for the rank deviation?"
   ]
  },
  {
   "cell_type": "code",
   "execution_count": null,
   "metadata": {
    "collapsed": false
   },
   "outputs": [],
   "source": [
    "df_deviation = df.join(rank_deviation)\n",
    "df_deviation = df_deviation.join(stud_deviation)\n",
    "df_deviation = df_deviation.join(fac_deviation)\n",
    "df_deviation = df_deviation.join(inter_deviation)\n",
    "df_deviation = df_deviation.join(fac_r_deviation)\n",
    "df_deviation[[\"rank_deviation\",\"students_deviation\",\"fac_deviation\", \"inter_deviation\", \"fac_r_deviation\"]].corr()"
   ]
  },
  {
   "cell_type": "markdown",
   "metadata": {},
   "source": [
    "Rank deviation only partially influenced by deviating columns between rankings"
   ]
  },
  {
   "cell_type": "markdown",
   "metadata": {},
   "source": [
    "# Find combined ranking"
   ]
  },
  {
   "cell_type": "markdown",
   "metadata": {},
   "source": [
    "The idea for combinating the ratings is the following :\n",
    "- First, if 2 ranking are the same for bot website, we use this ranking\n",
    "- Else we get the most correlated features for each ranking ( inter faculties for rank_top , and total_faculties for rank_times) and the feature that is most correlated for both ( ratio_inter)\n",
    "- Then we normalize this features between 0 and 1, to use them as multiplicative factor\n",
    "- Inverse normalization is applied to both ranking (highest rankin gives 1, lowest gives 0)\n",
    "- We then sum the normalized feature, multiplied by the absolute value of the correlation with the ranking, and add 4 times both ranking ( the ranking are more important than the 3 other features, so to let it dominates we use 4, as the sum of the 3 other is maximum 3)\n",
    "- The resulting sum is ordered in descending order, and we get the index of each of these ranking from the original dataframe to assign these as ranking (meaning the first sum of the list will be ranked 1, second 2, etc)\n",
    "- We then merge the total_ranking Dataframe with our datafram to get the final Dataframe"
   ]
  },
  {
   "cell_type": "code",
   "execution_count": null,
   "metadata": {
    "collapsed": true
   },
   "outputs": [],
   "source": [
    "def applyRanking(row):\n",
    "    \n",
    "    return row.rank_times\n",
    "    "
   ]
  },
  {
   "cell_type": "code",
   "execution_count": null,
   "metadata": {
    "collapsed": false,
    "scrolled": true
   },
   "outputs": [],
   "source": [
    "#corr interfac and rank top = -0.486923\n",
    "maxR = df.inter_faculties.max()\n",
    "minR = df.inter_faculties.min()\n",
    "\n",
    "column = (df.inter_faculties-minR)/(maxR-minR)\n",
    "\n",
    "#corr rank times total fac -0.348804\n",
    "maxS = df.total_faculties.max()\n",
    "minS = df.total_faculties.min()\n",
    "\n",
    "column2 = (df.total_faculties-minS)/(maxS-minS)\n",
    "\n",
    "#correlation is about -0.2 for both\n",
    "maxB = df.ratio_inter.max()\n",
    "minB = df.ratio_inter.min()\n",
    "\n",
    "column3 = (df.ratio_inter-minB)/(maxB-minB)\n",
    "\n",
    "\n",
    "#INVERSE NORMALIZE THE RANKING, meaning the highest ranking are 1 and lowest are close to 0 \n",
    "\n",
    "maxRtop= df.rank_top.max()\n",
    "minRtop= df.rank_top.min()\n",
    "\n",
    "columnTop = (1-(df.rank_top-minRtop)/(maxRtop-minRtop))\n",
    "\n",
    "maxRtimes = df.rank_times.max()\n",
    "minRtimes = df.rank_times.min()\n",
    "\n",
    "columnTimes = (1-(df.rank_times-minRtimes)/(maxRtimes-minRtimes))\n",
    "\n",
    "\n",
    "test = (column*0.477066+0.350235*column2+0.2*column3+4*columnTimes+4*columnTop).sort_values(ascending=False)\n",
    "#total_rank = df.loc[test.index].apply(applyRanking, axis=1)\n",
    "total_ranking = pd.DataFrame(df.loc[test.index].reset_index().apply(applyRanking, axis=1).values, index=df.index , columns=['total_rank'])\n",
    "\n",
    "final_df = df.join(total_ranking)\n",
    "final_df.sort_values([\"total_rank\"])"
   ]
  },
  {
   "cell_type": "code",
   "execution_count": null,
   "metadata": {
    "collapsed": true
   },
   "outputs": [],
   "source": []
  }
 ],
 "metadata": {
  "anaconda-cloud": {},
  "kernelspec": {
   "display_name": "Python [Root]",
   "language": "python",
   "name": "Python [Root]"
  },
  "language_info": {
   "codemirror_mode": {
    "name": "ipython",
    "version": 3
   },
   "file_extension": ".py",
   "mimetype": "text/x-python",
   "name": "python",
   "nbconvert_exporter": "python",
   "pygments_lexer": "ipython3",
   "version": "3.5.2"
  }
 },
 "nbformat": 4,
 "nbformat_minor": 1
}
