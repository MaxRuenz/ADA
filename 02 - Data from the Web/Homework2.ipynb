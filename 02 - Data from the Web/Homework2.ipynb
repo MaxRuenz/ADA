{
 "cells": [
  {
   "cell_type": "markdown",
   "metadata": {},
   "source": [
    "# Background"
   ]
  },
  {
   "cell_type": "markdown",
   "metadata": {},
   "source": [
    "In this homework we will extract interesting information from www.topuniversities.com and www.timeshighereducation.com, two platforms that maintain a global ranking of worldwide universities. This ranking is not offered as a downloadable dataset, so you will have to find a way to scrape the information we need! You are not allowed to download manually the entire ranking -- rather you have to understand how the server loads it in your browser. For this task, Postman with the Interceptor extension can help you greatly. We recommend that you watch this brief tutorial to understand quickly how to use it."
   ]
  },
  {
   "cell_type": "code",
   "execution_count": 598,
   "metadata": {
    "collapsed": true
   },
   "outputs": [],
   "source": [
    "import requests\n",
    "import pandas as pd\n",
    "from bs4 import BeautifulSoup\n",
    "import re"
   ]
  },
  {
   "cell_type": "markdown",
   "metadata": {},
   "source": [
    "# 1. Obtain the 200 top-ranking universities in www.topuniversities.com"
   ]
  },
  {
   "cell_type": "code",
   "execution_count": 599,
   "metadata": {
    "collapsed": true
   },
   "outputs": [],
   "source": [
    "URL = 'https://www.topuniversities.com/sites/default/files/qs-rankings-data/357051.txt?_=1508168782318'\n",
    "req = requests.get(URL)"
   ]
  },
  {
   "cell_type": "code",
   "execution_count": null,
   "metadata": {
    "scrolled": true
   },
   "outputs": [
    {
     "data": {
      "text/html": [
       "<div>\n",
       "<style>\n",
       "    .dataframe thead tr:only-child th {\n",
       "        text-align: right;\n",
       "    }\n",
       "\n",
       "    .dataframe thead th {\n",
       "        text-align: left;\n",
       "    }\n",
       "\n",
       "    .dataframe tbody tr th {\n",
       "        vertical-align: top;\n",
       "    }\n",
       "</style>\n",
       "<table border=\"1\" class=\"dataframe\">\n",
       "  <thead>\n",
       "    <tr style=\"text-align: right;\">\n",
       "      <th></th>\n",
       "      <th>rank_display</th>\n",
       "      <th>title</th>\n",
       "      <th>country</th>\n",
       "      <th>region</th>\n",
       "      <th>score</th>\n",
       "      <th>stars</th>\n",
       "    </tr>\n",
       "  </thead>\n",
       "  <tbody>\n",
       "    <tr>\n",
       "      <th>0</th>\n",
       "      <td>1</td>\n",
       "      <td>Massachusetts Institute of Technology (MIT)</td>\n",
       "      <td>United States</td>\n",
       "      <td>North America</td>\n",
       "      <td>100</td>\n",
       "      <td>6</td>\n",
       "    </tr>\n",
       "    <tr>\n",
       "      <th>1</th>\n",
       "      <td>2</td>\n",
       "      <td>Stanford University</td>\n",
       "      <td>United States</td>\n",
       "      <td>North America</td>\n",
       "      <td>98.7</td>\n",
       "      <td>5</td>\n",
       "    </tr>\n",
       "    <tr>\n",
       "      <th>2</th>\n",
       "      <td>3</td>\n",
       "      <td>Harvard University</td>\n",
       "      <td>United States</td>\n",
       "      <td>North America</td>\n",
       "      <td>98.4</td>\n",
       "      <td>5</td>\n",
       "    </tr>\n",
       "    <tr>\n",
       "      <th>3</th>\n",
       "      <td>4</td>\n",
       "      <td>California Institute of Technology (Caltech)</td>\n",
       "      <td>United States</td>\n",
       "      <td>North America</td>\n",
       "      <td>97.7</td>\n",
       "      <td>5</td>\n",
       "    </tr>\n",
       "    <tr>\n",
       "      <th>4</th>\n",
       "      <td>5</td>\n",
       "      <td>University of Cambridge</td>\n",
       "      <td>United Kingdom</td>\n",
       "      <td>Europe</td>\n",
       "      <td>95.6</td>\n",
       "      <td>5</td>\n",
       "    </tr>\n",
       "  </tbody>\n",
       "</table>\n",
       "</div>"
      ],
      "text/plain": [
       "  rank_display                                         title         country  \\\n",
       "0            1   Massachusetts Institute of Technology (MIT)   United States   \n",
       "1            2                           Stanford University   United States   \n",
       "2            3                            Harvard University   United States   \n",
       "3            4  California Institute of Technology (Caltech)   United States   \n",
       "4            5                       University of Cambridge  United Kingdom   \n",
       "\n",
       "          region score stars  \n",
       "0  North America   100     6  \n",
       "1  North America  98.7     5  \n",
       "2  North America  98.4     5  \n",
       "3  North America  97.7     5  \n",
       "4         Europe  95.6     5  "
      ]
     },
     "execution_count": 600,
     "metadata": {},
     "output_type": "execute_result"
    }
   ],
   "source": [
    "import json\n",
    "from pandas.io.json import json_normalize\n",
    "\n",
    "data = json.loads(req.text)\n",
    "data = json_normalize(data['data'])[:200]\n",
    "\n",
    "df_top = pd.DataFrame(data)\n",
    "\n",
    "df_top = df_top[['rank_display','title','country','region','score','stars']]\n",
    "df_top.head()"
   ]
  },
  {
   "cell_type": "code",
   "execution_count": null,
   "metadata": {},
   "outputs": [
    {
     "name": "stdout",
     "output_type": "stream",
     "text": [
      "Missing data for New York University (NYU) in row 51\n"
     ]
    }
   ],
   "source": [
    "df_top['total_faculties'] = 'NaN'\n",
    "df_top['inter_faculties'] = 'NaN'\n",
    "df_top['total_students'] = 'NaN'\n",
    "df_top['inter_students'] = 'NaN'\n",
    "\n",
    "for i in range(200):\n",
    "    r =  requests.get('https://www.topuniversities.com'+data.loc[i].url)\n",
    "    soup = BeautifulSoup(r.text,'html.parser')\n",
    "    numbers = soup.find_all('div','number')\n",
    "    \n",
    "    #Handling missing data\n",
    "    if(len(numbers)!=8):\n",
    "        print('Missing data for '+df_top['title'].loc[i]+' in row '+str(i))\n",
    "        \n",
    "    else:\n",
    "        df_top['total_faculties'].loc[i] = float(numbers[0].text.replace(',', ''))\n",
    "        df_top['inter_faculties'].loc[i]=float(numbers[1].text.replace(',', ''))\n",
    "        df_top['total_students'].loc[i]= float(numbers[2].text.replace(',', ''))\n",
    "        df_top['inter_students'].loc[i] = float(numbers[3].text.replace(',', ''))\n",
    "\n",
    "\n",
    "\n"
   ]
  },
  {
   "cell_type": "code",
   "execution_count": null,
   "metadata": {
    "scrolled": false
   },
   "outputs": [],
   "source": [
    "#Handling missing data\n",
    "df_top['total_faculties'].loc[189] = 423\n",
    "df_top['inter_faculties'].loc[189]='Nan'\n",
    "df_top['total_students'].loc[189]= 4071\n",
    "df_top['inter_students'].loc[189] = 47\n",
    "\n",
    "df_top.head()"
   ]
  },
  {
   "cell_type": "markdown",
   "metadata": {},
   "source": [
    "# Which are the best universities in term of: (a) ratio between faculty members and students, (b) ratio of international students?"
   ]
  },
  {
   "cell_type": "code",
   "execution_count": null,
   "metadata": {
    "collapsed": true
   },
   "outputs": [],
   "source": [
    "df_top_stat = df_top.copy()\n",
    "df_top_stat= df_top_stat.drop(df_top_stat.index[51])\n",
    "\n",
    "df_top_stat['ratio_faculty_student'] = df_top_stat.total_faculties / df_top_stat.total_students\n",
    "df_top_stat['ratio_international_student'] = df_top_stat.inter_students / df_top_stat.total_students\n"
   ]
  },
  {
   "cell_type": "markdown",
   "metadata": {},
   "source": [
    "Faculty members and students"
   ]
  },
  {
   "cell_type": "code",
   "execution_count": null,
   "metadata": {},
   "outputs": [],
   "source": [
    "df_top_stat.sort_values('ratio_faculty_student', ascending=False).head()"
   ]
  },
  {
   "cell_type": "markdown",
   "metadata": {},
   "source": [
    "International students"
   ]
  },
  {
   "cell_type": "code",
   "execution_count": null,
   "metadata": {},
   "outputs": [],
   "source": [
    "df_top_stat.sort_values('ratio_international_student', ascending=False).head()"
   ]
  },
  {
   "cell_type": "markdown",
   "metadata": {},
   "source": [
    "# Answer the previous question aggregating the data by (c) country and (d) region."
   ]
  },
  {
   "cell_type": "code",
   "execution_count": null,
   "metadata": {},
   "outputs": [],
   "source": [
    "df_top_stat_agg = df_top_stat.copy()"
   ]
  },
  {
   "cell_type": "markdown",
   "metadata": {},
   "source": [
    "Aggregate by country"
   ]
  },
  {
   "cell_type": "code",
   "execution_count": null,
   "metadata": {
    "collapsed": true
   },
   "outputs": [],
   "source": [
    "df_top_stat_country = df_top_stat_agg[['country','total_faculties','inter_faculties','total_students',\\\n",
    "                                       'inter_students','ratio_faculty_student','ratio_international_student']]\n",
    "\n",
    "df_top_stat_country = df_top_stat_country.groupby(by=['country']).agg(sum)"
   ]
  },
  {
   "cell_type": "code",
   "execution_count": null,
   "metadata": {},
   "outputs": [],
   "source": [
    "df_top_stat_country.sort_values('ratio_faculty_student', ascending=False).head()"
   ]
  },
  {
   "cell_type": "code",
   "execution_count": null,
   "metadata": {},
   "outputs": [],
   "source": [
    "df_top_stat_country.sort_values('ratio_international_student', ascending=False).head()"
   ]
  },
  {
   "cell_type": "markdown",
   "metadata": {},
   "source": [
    "Aggregate by region"
   ]
  },
  {
   "cell_type": "code",
   "execution_count": null,
   "metadata": {
    "collapsed": true
   },
   "outputs": [],
   "source": [
    "df_top_stat_region = df_top_stat_agg[['region','total_faculties','inter_faculties','total_students','inter_students',\\\n",
    "                                      'ratio_faculty_student','ratio_international_student']]\n",
    "\n",
    "df_top_stat_region = df_top_stat_region.groupby(by=['region']).agg(sum)"
   ]
  },
  {
   "cell_type": "code",
   "execution_count": null,
   "metadata": {},
   "outputs": [],
   "source": [
    "df_top_stat_region.sort_values('ratio_faculty_student', ascending=False).head()"
   ]
  },
  {
   "cell_type": "code",
   "execution_count": null,
   "metadata": {},
   "outputs": [],
   "source": [
    "df_top_stat_region.sort_values('ratio_international_student', ascending=False).head()"
   ]
  },
  {
   "cell_type": "markdown",
   "metadata": {
    "collapsed": true
   },
   "source": [
    "# Obtain the 200 top-ranking universities in www.timeshighereducation.com (ranking 2018)"
   ]
  },
  {
   "cell_type": "code",
   "execution_count": null,
   "metadata": {
    "collapsed": true
   },
   "outputs": [],
   "source": [
    "URL = 'https://www.timeshighereducation.com//sites/default/files/the_data_rankings/world_university_rankings_2018_limit0_369a9045a203e176392b9fb8f8c1cb2a.json'\n",
    "\n",
    "req = requests.get(URL)"
   ]
  },
  {
   "cell_type": "code",
   "execution_count": null,
   "metadata": {},
   "outputs": [],
   "source": [
    "import json\n",
    "from pandas.io.json import json_normalize\n",
    "\n",
    "data = json.loads(req.text)\n",
    "data = json_normalize(data['data'])[:201]\n",
    "df_times = pd.DataFrame(data)\n",
    "\n",
    "df_times = df_times[['name', 'aliases', 'location', 'rank', 'stats_number_students', 'stats_pc_intl_students','stats_student_staff_ratio']]\n",
    "df_times.head()"
   ]
  },
  {
   "cell_type": "code",
   "execution_count": null,
   "metadata": {},
   "outputs": [],
   "source": [
    "df_times['nb_students'] = df_times['stats_number_students'].str.replace(',','').astype(int)\n",
    "df_times['ratio_inter_students'] = df_times['stats_pc_intl_students'].str.replace('%','').astype(float)/100\n",
    "df_times['staff_student_ratio'] = 1/df_times['stats_student_staff_ratio'].astype(float)"
   ]
  },
  {
   "cell_type": "code",
   "execution_count": null,
   "metadata": {},
   "outputs": [],
   "source": [
    "df_times"
   ]
  },
  {
   "cell_type": "markdown",
   "metadata": {
    "collapsed": true
   },
   "source": [
    "number of faculty members"
   ]
  },
  {
   "cell_type": "code",
   "execution_count": null,
   "metadata": {},
   "outputs": [],
   "source": [
    "import numpy as np\n",
    "df_times['nb_faculty_members'] =np.round((df_times['nb_students'] * df_times['staff_student_ratio'])).astype(int)\n",
    "df_times['nb_inter_students'] =np.round((df_times['nb_students'] * df_times['ratio_inter_students'])).astype(int)\n",
    "\n",
    "df_times = df_times[['rank','name','location','nb_faculty_members','nb_students','nb_inter_students','staff_student_ratio','ratio_inter_students']]\n",
    "df_times.head()"
   ]
  },
  {
   "cell_type": "markdown",
   "metadata": {
    "collapsed": true
   },
   "source": [
    "# Which are the best universities in term of: (a) ratio between faculty members and students, (b) ratio of international students?\n"
   ]
  },
  {
   "cell_type": "markdown",
   "metadata": {
    "collapsed": true
   },
   "source": [
    "Faculty members and students"
   ]
  },
  {
   "cell_type": "code",
   "execution_count": null,
   "metadata": {},
   "outputs": [],
   "source": [
    "df_times.sort_values('staff_student_ratio', ascending=False).head()"
   ]
  },
  {
   "cell_type": "markdown",
   "metadata": {
    "collapsed": true
   },
   "source": [
    "International students"
   ]
  },
  {
   "cell_type": "code",
   "execution_count": null,
   "metadata": {},
   "outputs": [],
   "source": [
    "df_times.sort_values('ratio_inter_students', ascending=False).head()"
   ]
  },
  {
   "cell_type": "markdown",
   "metadata": {},
   "source": [
    "# Answer the previous question aggregating the data by (c) country and (d) region."
   ]
  },
  {
   "cell_type": "code",
   "execution_count": null,
   "metadata": {},
   "outputs": [],
   "source": [
    "df_times_agg= df_times.copy()"
   ]
  },
  {
   "cell_type": "code",
   "execution_count": null,
   "metadata": {},
   "outputs": [],
   "source": [
    "df_times_country = df_times_agg[['location','nb_faculty_members','nb_students','nb_inter_students',\\\n",
    "                                 'staff_student_ratio','ratio_inter_students']].groupby(by=['location']).agg(sum)"
   ]
  },
  {
   "cell_type": "code",
   "execution_count": null,
   "metadata": {},
   "outputs": [],
   "source": [
    "df_times_country.sort_values('staff_student_ratio', ascending=False)"
   ]
  },
  {
   "cell_type": "code",
   "execution_count": null,
   "metadata": {},
   "outputs": [],
   "source": [
    "df_times_country.sort_values('ratio_inter_students', ascending=False)"
   ]
  },
  {
   "cell_type": "markdown",
   "metadata": {},
   "source": [
    "# Merge"
   ]
  },
  {
   "cell_type": "markdown",
   "metadata": {},
   "source": [
    "The idea is to modify the name of each university to make them as equal as possible:\n",
    " - Lower all letters\n",
    " - Translating important words (university, school, technical..)\n",
    " - Get rid of special characters\n",
    " - Get rid of prepositions\n",
    " - Get rid of parenthesis and their content. Example: (UCB)\n"
   ]
  },
  {
   "cell_type": "code",
   "execution_count": null,
   "metadata": {
    "scrolled": false
   },
   "outputs": [],
   "source": [
    "df_top_tomerge = df_top.copy()\n",
    "df_times_tomerge = df_times.copy()"
   ]
  },
  {
   "cell_type": "code",
   "execution_count": null,
   "metadata": {},
   "outputs": [],
   "source": [
    "def modify_tomerge(string):\n",
    "    \n",
    "    #lower case\n",
    "    string = string.str.lower()\n",
    "    \n",
    "    # University\n",
    "    string = string.str.replace('universite','university')\n",
    "    string = string.str.replace('universitat','university')\n",
    "    string = string.str.replace('universitaet','university')\n",
    "    string = string.str.replace('universidad','university')\n",
    "    string = string.str.replace('universiteit','university')\n",
    "    string = string.str.replace('universidade','university')\n",
    "    string = string.str.replace('universitari','university')\n",
    "\n",
    "\n",
    "    # school\n",
    "    string = string.replace('scuola','school')\n",
    "    \n",
    "    #technical\n",
    "    string = string.replace('technische','technical')\n",
    "    \n",
    "    #studies\n",
    "    string = string.replace('studi','studies')\n",
    "    string = string.replace('estudios','studies')\n",
    "\n",
    "\n",
    "    #some translations\n",
    "    string = string.replace('freie','free')\n",
    "    string = string.replace('tecnológico','technological')\n",
    "\n",
    "\n",
    "\n",
    "    #special characters\n",
    "    string = string.str.replace('é','e')\n",
    "    string = string.str.replace('-','')\n",
    "    string = string.str.replace('ä','a')\n",
    "    string = string.str.replace('ã','a')\n",
    "    string = string.str.replace('ó','o')\n",
    "    string = string.str.replace('ö','o')\n",
    "    string = string.str.replace('&','')\n",
    "    string = string.str.replace('/','')\n",
    "\n",
    "\n",
    "    #prepositions\n",
    "    string = string.str.replace('of','')\n",
    "    string = string.str.replace('the','')\n",
    "    string = string.str.replace('at','')\n",
    "    string = string.str.replace('de','')\n",
    "    string = string.str.replace('y','')\n",
    "    string = string.str.replace('di','')\n",
    "    string = string.str.replace(',','')\n",
    "\n",
    "\n",
    "    #parenthesis and their content\n",
    "    string = string.str.replace(r\"\\(.*\\)\",\"\")\n",
    "    \n",
    "    #space\n",
    "    string = string.str.replace(' ','')\n",
    "    \n",
    "\n",
    "    return string\n",
    "   \n"
   ]
  },
  {
   "cell_type": "code",
   "execution_count": null,
   "metadata": {},
   "outputs": [],
   "source": [
    "df_top_tomerge = df_top_tomerge.rename(columns={'title': 'name', 'rank_display':'rank_top'})\n",
    "df_times_tomerge = df_times_tomerge.rename(columns={'rank': 'rank_times'})\n",
    "\n",
    "df_times_tomerge['name'] = modify_tomerge(df_times_tomerge['name'])\n",
    "df_top_tomerge['name'] = modify_tomerge(df_top_tomerge['name'])\n",
    "\n",
    "df = df_top_tomerge.merge(df_times_tomerge, how='inner')\n",
    "\n",
    "df"
   ]
  },
  {
   "cell_type": "code",
   "execution_count": null,
   "metadata": {},
   "outputs": [],
   "source": []
  },
  {
   "cell_type": "code",
   "execution_count": null,
   "metadata": {},
   "outputs": [],
   "source": []
  },
  {
   "cell_type": "code",
   "execution_count": null,
   "metadata": {
    "collapsed": true
   },
   "outputs": [],
   "source": []
  }
 ],
 "metadata": {
  "anaconda-cloud": {},
  "kernelspec": {
   "display_name": "Python 3",
   "language": "python",
   "name": "python3"
  },
  "language_info": {
   "codemirror_mode": {
    "name": "ipython",
    "version": 3
   },
   "file_extension": ".py",
   "mimetype": "text/x-python",
   "name": "python",
   "nbconvert_exporter": "python",
   "pygments_lexer": "ipython3",
   "version": "3.6.1"
  }
 },
 "nbformat": 4,
 "nbformat_minor": 1
}
