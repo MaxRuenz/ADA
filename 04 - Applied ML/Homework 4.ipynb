{
 "cells": [
  {
   "cell_type": "markdown",
   "metadata": {},
   "source": [
    "## Deadline\n",
    "\n",
    "Wednesday, November 22, 2017, 11:59PM\n",
    "\n",
    "## Important notes\n",
    "\n",
    "- When you push your Notebook to GitHub, all the cells must already have been evaluated.\n",
    "- Don't forget to add a textual description of your thought process and of any assumptions you've made.\n",
    "- Please write all your comments in English, and use meaningful variable names in your code.\n",
    "\n",
    "## Question 1: Propensity score matching\n",
    "\n",
    "In this exercise, you will apply [propensity score matching](http://www.stewartschultz.com/statistics/books/Design%20of%20observational%20studies.pdf), which we discussed in lecture 5 (\"Observational studies\"), in order to draw conclusions from an observational study.\n",
    "\n",
    "We will work with a by-now classic dataset from Robert LaLonde's study \"[Evaluating the Econometric Evaluations of Training Programs](http://people.hbs.edu/nashraf/LaLonde_1986.pdf)\" (1986).\n",
    "The study investigated the effect of a job training program (\"National Supported Work Demonstration\") on the real earnings of an individual, a couple of years after completion of the program.\n",
    "Your task is to determine the effectiveness of the \"treatment\" represented by the job training program.\n",
    "\n",
    "#### Dataset description\n",
    "\n",
    "- `treat`: 1 if the subject participated in the job training program, 0 otherwise\n",
    "- `age`: the subject's age\n",
    "- `educ`: years of education\n",
    "- `race`: categorical variable with three possible values: Black, Hispanic, or White\n",
    "- `married`: 1 if the subject was married at the time of the training program, 0 otherwise\n",
    "- `nodegree`: 1 if the subject has earned no school degree, 0 otherwise\n",
    "- `re74`: real earnings in 1974 (pre-treatment)\n",
    "- `re75`: real earnings in 1975 (pre-treatment)\n",
    "- `re78`: real earnings in 1978 (outcome)\n",
    "\n",
    "If you want to brush up your knowledge on propensity scores and observational studies, we highly recommend Rosenbaum's excellent book on the [\"Design of Observational Studies\"](http://www.stewartschultz.com/statistics/books/Design%20of%20observational%20studies.pdf). Even just reading the first chapter (18 pages) will help you a lot.\n",
    "\n",
    "#### 1. A naive analysis\n",
    "\n",
    "Compare the distribution of the outcome variable (`re78`) between the two groups, using plots and numbers.\n",
    "To summarize and compare the distributions, you may use the techniques we discussed in lectures 4 (\"Read the stats carefully\") and 6 (\"Data visualization\").\n",
    "\n",
    "What might a naive \"researcher\" conclude from this superficial analysis?\n",
    "\n",
    "#### 2. A closer look at the data\n",
    "\n",
    "You're not naive, of course (and even if you are, you've learned certain things in ADA), so you aren't content with a superficial analysis such as the above.\n",
    "You're aware of the dangers of observational studies, so you take a closer look at the data before jumping to conclusions.\n",
    "\n",
    "For each feature in the dataset, compare its distribution in the treated group with its distribution in the control group, using plots and numbers.\n",
    "As above, you may use the techniques we discussed in class for summarizing and comparing the distributions.\n",
    "\n",
    "What do you observe?\n",
    "Describe what your observations mean for the conclusions drawn by the naive \"researcher\" from his superficial analysis.\n",
    "\n",
    "#### 3. A propensity score model\n",
    "\n",
    "Use logistic regression to estimate propensity scores for all points in the dataset.\n",
    "You may use `sklearn` to fit the logistic regression model and apply it to each data point to obtain propensity scores:\n",
    "\n",
    "```python\n",
    "from sklearn import linear_model\n",
    "logistic = linear_model.LogisticRegression()\n",
    "```\n",
    "\n",
    "Recall that the propensity score of a data point represents its probability of receiving the treatment, based on its pre-treatment features (in this case, age, education, pre-treatment income, etc.).\n",
    "To brush up on propensity scores, you may read chapter 3.3 of the above-cited book by Rosenbaum or [this article](https://drive.google.com/file/d/0B4jctQY-uqhzTlpBaTBJRTJFVFE/view).\n",
    "\n",
    "Note: you do not need a train/test split here. Train and apply the model on the entire dataset. If you're wondering why this is the right thing to do in this situation, recall that the propensity score model is not used in order to make predictions about unseen data. Its sole purpose is to balance the dataset across treatment groups.\n",
    "(See p. 74 of Rosenbaum's book for an explanation why slight overfitting is even good for propensity scores.\n",
    "If you want even more information, read [this article](https://drive.google.com/file/d/0B4jctQY-uqhzTlpBaTBJRTJFVFE/view).)\n",
    "\n",
    "#### 4. Balancing the dataset via matching\n",
    "\n",
    "Use the propensity scores to match each data point from the treated group with exactly one data point from the control group, while ensuring that each data point from the control group is matched with at most one data point from the treated group.\n",
    "(Hint: you may explore the `networkx` package in Python for predefined matching functions.)\n",
    "\n",
    "Your matching should maximize the similarity between matched subjects, as captured by their propensity scores.\n",
    "In other words, the sum (over all matched pairs) of absolute propensity-score differences between the two matched subjects should be minimized.\n",
    "\n",
    "After matching, you have as many treated as you have control subjects.\n",
    "Compare the outcomes (`re78`) between the two groups (treated and control).\n",
    "\n",
    "Also, compare again the feature-value distributions between the two groups, as you've done in part 2 above, but now only for the matched subjects.\n",
    "What do you observe?\n",
    "Are you closer to being able to draw valid conclusions now than you were before?\n",
    "\n",
    "\n",
    "#### 5. Balancing the groups further\n",
    "\n",
    "Based on your comparison of feature-value distributions from part 4, are you fully satisfied with your matching?\n",
    "Would you say your dataset is sufficiently balanced?\n",
    "If not, in what ways could the \"balanced\" dataset you have obtained still not allow you to draw valid conclusions?\n",
    "\n",
    "Improve your matching by explicitly making sure that you match only subjects that have the same value for the problematic feature.\n",
    "Argue with numbers and plots that the two groups (treated and control) are now better balanced than after part 4.\n",
    "\n",
    "\n",
    "#### 6. A less naive analysis\n",
    "\n",
    "Compare the outcomes (`re78`) between treated and control subjects, as you've done in part 1, but now only for the matched dataset you've obtained from part 5.\n",
    "What do you conclude about the effectiveness of the job training program?\n",
    "\n",
    "\n",
    "___\n",
    "\n",
    "## Question 2: Applied ML\n",
    "\n",
    "We are going to build a classifier of news to directly assign them to 20 news categories. Note that the pipeline that you will build in this exercise could be of great help during your project if you plan to work with text!\n",
    "\n",
    "1. Load the 20newsgroup dataset. It is, again, a classic dataset that can directly be loaded using sklearn ([link](http://scikit-learn.org/stable/datasets/twenty_newsgroups.html)).  \n",
    "[TF-IDF](https://en.wikipedia.org/wiki/Tf%E2%80%93idf), short for term frequency–inverse document frequency, is of great help when if comes to compute textual features. Indeed, it gives more importance to terms that are more specific to the considered articles (TF) but reduces the importance of terms that are very frequent in the entire corpus (IDF). Compute TF-IDF features for every article using [TfidfVectorizer](http://scikit-learn.org/stable/modules/generated/sklearn.feature_extraction.text.TfidfVectorizer.html). Then, split your dataset into a training, a testing and a validation set (10% for validation and 10% for testing). Each observation should be paired with its corresponding label (the article category).\n",
    "\n",
    "\n",
    "2. Train a random forest on your training set. Try to fine-tune the parameters of your predictor on your validation set using a simple grid search on the number of estimator \"n_estimators\" and the max depth of the trees \"max_depth\". Then, display a confusion matrix of your classification pipeline. Lastly, once you assessed your model, inspect the `feature_importances_` attribute of your random forest and discuss the obtained results.\n",
    "\n",
    "\n"
   ]
  },
  {
   "cell_type": "code",
   "execution_count": 3,
   "metadata": {},
   "outputs": [],
   "source": [
    "import pandas as pd\n",
    "import numpy as np\n",
    "import json\n",
    "import os\n",
    "import csv\n",
    "import matplotlib.pyplot as plt\n",
    "from sklearn import linear_model\n",
    "import networkx as nx\n",
    "from networkx.algorithms import bipartite\n",
    "import seaborn as sns\n",
    "\n",
    "# Ex 2\n",
    "from sklearn.datasets import fetch_20newsgroups\n",
    "from sklearn.pipeline import Pipeline\n",
    "from sklearn.model_selection import train_test_split\n",
    "from sklearn.model_selection import GridSearchCV\n",
    "from sklearn.feature_extraction.text import TfidfVectorizer\n",
    "from sklearn.ensemble import RandomForestClassifier\n",
    "from sklearn.metrics import confusion_matrix\n",
    "\n",
    "%matplotlib inline"
   ]
  },
  {
   "cell_type": "code",
   "execution_count": 2,
   "metadata": {
    "collapsed": true
   },
   "outputs": [],
   "source": [
    "\n",
    "data = 'lalonde.csv'"
   ]
  },
  {
   "cell_type": "code",
   "execution_count": 93,
   "metadata": {
    "collapsed": false
   },
   "outputs": [
    {
     "data": {
      "text/html": [
       "<div>\n",
       "<table border=\"1\" class=\"dataframe\">\n",
       "  <thead>\n",
       "    <tr style=\"text-align: right;\">\n",
       "      <th></th>\n",
       "      <th>id</th>\n",
       "      <th>treat</th>\n",
       "      <th>age</th>\n",
       "      <th>educ</th>\n",
       "      <th>black</th>\n",
       "      <th>hispan</th>\n",
       "      <th>married</th>\n",
       "      <th>nodegree</th>\n",
       "      <th>re74</th>\n",
       "      <th>re75</th>\n",
       "      <th>re78</th>\n",
       "    </tr>\n",
       "  </thead>\n",
       "  <tbody>\n",
       "    <tr>\n",
       "      <th>0</th>\n",
       "      <td>NSW1</td>\n",
       "      <td>1</td>\n",
       "      <td>37</td>\n",
       "      <td>11</td>\n",
       "      <td>1</td>\n",
       "      <td>0</td>\n",
       "      <td>1</td>\n",
       "      <td>1</td>\n",
       "      <td>0.0</td>\n",
       "      <td>0.0</td>\n",
       "      <td>9930.0460</td>\n",
       "    </tr>\n",
       "    <tr>\n",
       "      <th>1</th>\n",
       "      <td>NSW2</td>\n",
       "      <td>1</td>\n",
       "      <td>22</td>\n",
       "      <td>9</td>\n",
       "      <td>0</td>\n",
       "      <td>1</td>\n",
       "      <td>0</td>\n",
       "      <td>1</td>\n",
       "      <td>0.0</td>\n",
       "      <td>0.0</td>\n",
       "      <td>3595.8940</td>\n",
       "    </tr>\n",
       "    <tr>\n",
       "      <th>2</th>\n",
       "      <td>NSW3</td>\n",
       "      <td>1</td>\n",
       "      <td>30</td>\n",
       "      <td>12</td>\n",
       "      <td>1</td>\n",
       "      <td>0</td>\n",
       "      <td>0</td>\n",
       "      <td>0</td>\n",
       "      <td>0.0</td>\n",
       "      <td>0.0</td>\n",
       "      <td>24909.4500</td>\n",
       "    </tr>\n",
       "    <tr>\n",
       "      <th>3</th>\n",
       "      <td>NSW4</td>\n",
       "      <td>1</td>\n",
       "      <td>27</td>\n",
       "      <td>11</td>\n",
       "      <td>1</td>\n",
       "      <td>0</td>\n",
       "      <td>0</td>\n",
       "      <td>1</td>\n",
       "      <td>0.0</td>\n",
       "      <td>0.0</td>\n",
       "      <td>7506.1460</td>\n",
       "    </tr>\n",
       "    <tr>\n",
       "      <th>4</th>\n",
       "      <td>NSW5</td>\n",
       "      <td>1</td>\n",
       "      <td>33</td>\n",
       "      <td>8</td>\n",
       "      <td>1</td>\n",
       "      <td>0</td>\n",
       "      <td>0</td>\n",
       "      <td>1</td>\n",
       "      <td>0.0</td>\n",
       "      <td>0.0</td>\n",
       "      <td>289.7899</td>\n",
       "    </tr>\n",
       "  </tbody>\n",
       "</table>\n",
       "</div>"
      ],
      "text/plain": [
       "     id  treat  age  educ  black  hispan  married  nodegree  re74  re75  \\\n",
       "0  NSW1      1   37    11      1       0        1         1   0.0   0.0   \n",
       "1  NSW2      1   22     9      0       1        0         1   0.0   0.0   \n",
       "2  NSW3      1   30    12      1       0        0         0   0.0   0.0   \n",
       "3  NSW4      1   27    11      1       0        0         1   0.0   0.0   \n",
       "4  NSW5      1   33     8      1       0        0         1   0.0   0.0   \n",
       "\n",
       "         re78  \n",
       "0   9930.0460  \n",
       "1   3595.8940  \n",
       "2  24909.4500  \n",
       "3   7506.1460  \n",
       "4    289.7899  "
      ]
     },
     "execution_count": 93,
     "metadata": {},
     "output_type": "execute_result"
    }
   ],
   "source": [
    "df = pd.read_csv(data)\n",
    "df.head()"
   ]
  },
  {
   "cell_type": "code",
   "execution_count": 4,
   "metadata": {
    "collapsed": false
   },
   "outputs": [
    {
     "data": {
      "text/html": [
       "<div>\n",
       "<table border=\"1\" class=\"dataframe\">\n",
       "  <thead>\n",
       "    <tr style=\"text-align: right;\">\n",
       "      <th></th>\n",
       "      <th>treat</th>\n",
       "      <th>age</th>\n",
       "      <th>educ</th>\n",
       "      <th>black</th>\n",
       "      <th>hispan</th>\n",
       "      <th>married</th>\n",
       "      <th>nodegree</th>\n",
       "      <th>re74</th>\n",
       "      <th>re75</th>\n",
       "      <th>re78</th>\n",
       "    </tr>\n",
       "  </thead>\n",
       "  <tbody>\n",
       "    <tr>\n",
       "      <th>count</th>\n",
       "      <td>614.000000</td>\n",
       "      <td>614.000000</td>\n",
       "      <td>614.000000</td>\n",
       "      <td>614.000000</td>\n",
       "      <td>614.000000</td>\n",
       "      <td>614.000000</td>\n",
       "      <td>614.000000</td>\n",
       "      <td>614.000000</td>\n",
       "      <td>614.000000</td>\n",
       "      <td>614.000000</td>\n",
       "    </tr>\n",
       "    <tr>\n",
       "      <th>mean</th>\n",
       "      <td>0.301303</td>\n",
       "      <td>27.363192</td>\n",
       "      <td>10.268730</td>\n",
       "      <td>0.395765</td>\n",
       "      <td>0.117264</td>\n",
       "      <td>0.415309</td>\n",
       "      <td>0.630293</td>\n",
       "      <td>4557.546569</td>\n",
       "      <td>2184.938207</td>\n",
       "      <td>6792.834483</td>\n",
       "    </tr>\n",
       "    <tr>\n",
       "      <th>std</th>\n",
       "      <td>0.459198</td>\n",
       "      <td>9.881187</td>\n",
       "      <td>2.628325</td>\n",
       "      <td>0.489413</td>\n",
       "      <td>0.321997</td>\n",
       "      <td>0.493177</td>\n",
       "      <td>0.483119</td>\n",
       "      <td>6477.964479</td>\n",
       "      <td>3295.679043</td>\n",
       "      <td>7470.730792</td>\n",
       "    </tr>\n",
       "    <tr>\n",
       "      <th>min</th>\n",
       "      <td>0.000000</td>\n",
       "      <td>16.000000</td>\n",
       "      <td>0.000000</td>\n",
       "      <td>0.000000</td>\n",
       "      <td>0.000000</td>\n",
       "      <td>0.000000</td>\n",
       "      <td>0.000000</td>\n",
       "      <td>0.000000</td>\n",
       "      <td>0.000000</td>\n",
       "      <td>0.000000</td>\n",
       "    </tr>\n",
       "    <tr>\n",
       "      <th>25%</th>\n",
       "      <td>0.000000</td>\n",
       "      <td>20.000000</td>\n",
       "      <td>9.000000</td>\n",
       "      <td>0.000000</td>\n",
       "      <td>0.000000</td>\n",
       "      <td>0.000000</td>\n",
       "      <td>0.000000</td>\n",
       "      <td>0.000000</td>\n",
       "      <td>0.000000</td>\n",
       "      <td>238.283425</td>\n",
       "    </tr>\n",
       "    <tr>\n",
       "      <th>50%</th>\n",
       "      <td>0.000000</td>\n",
       "      <td>25.000000</td>\n",
       "      <td>11.000000</td>\n",
       "      <td>0.000000</td>\n",
       "      <td>0.000000</td>\n",
       "      <td>0.000000</td>\n",
       "      <td>1.000000</td>\n",
       "      <td>1042.330000</td>\n",
       "      <td>601.548400</td>\n",
       "      <td>4759.018500</td>\n",
       "    </tr>\n",
       "    <tr>\n",
       "      <th>75%</th>\n",
       "      <td>1.000000</td>\n",
       "      <td>32.000000</td>\n",
       "      <td>12.000000</td>\n",
       "      <td>1.000000</td>\n",
       "      <td>0.000000</td>\n",
       "      <td>1.000000</td>\n",
       "      <td>1.000000</td>\n",
       "      <td>7888.498250</td>\n",
       "      <td>3248.987500</td>\n",
       "      <td>10893.592500</td>\n",
       "    </tr>\n",
       "    <tr>\n",
       "      <th>max</th>\n",
       "      <td>1.000000</td>\n",
       "      <td>55.000000</td>\n",
       "      <td>18.000000</td>\n",
       "      <td>1.000000</td>\n",
       "      <td>1.000000</td>\n",
       "      <td>1.000000</td>\n",
       "      <td>1.000000</td>\n",
       "      <td>35040.070000</td>\n",
       "      <td>25142.240000</td>\n",
       "      <td>60307.930000</td>\n",
       "    </tr>\n",
       "  </tbody>\n",
       "</table>\n",
       "</div>"
      ],
      "text/plain": [
       "            treat         age        educ       black      hispan     married  \\\n",
       "count  614.000000  614.000000  614.000000  614.000000  614.000000  614.000000   \n",
       "mean     0.301303   27.363192   10.268730    0.395765    0.117264    0.415309   \n",
       "std      0.459198    9.881187    2.628325    0.489413    0.321997    0.493177   \n",
       "min      0.000000   16.000000    0.000000    0.000000    0.000000    0.000000   \n",
       "25%      0.000000   20.000000    9.000000    0.000000    0.000000    0.000000   \n",
       "50%      0.000000   25.000000   11.000000    0.000000    0.000000    0.000000   \n",
       "75%      1.000000   32.000000   12.000000    1.000000    0.000000    1.000000   \n",
       "max      1.000000   55.000000   18.000000    1.000000    1.000000    1.000000   \n",
       "\n",
       "         nodegree          re74          re75          re78  \n",
       "count  614.000000    614.000000    614.000000    614.000000  \n",
       "mean     0.630293   4557.546569   2184.938207   6792.834483  \n",
       "std      0.483119   6477.964479   3295.679043   7470.730792  \n",
       "min      0.000000      0.000000      0.000000      0.000000  \n",
       "25%      0.000000      0.000000      0.000000    238.283425  \n",
       "50%      1.000000   1042.330000    601.548400   4759.018500  \n",
       "75%      1.000000   7888.498250   3248.987500  10893.592500  \n",
       "max      1.000000  35040.070000  25142.240000  60307.930000  "
      ]
     },
     "execution_count": 4,
     "metadata": {},
     "output_type": "execute_result"
    }
   ],
   "source": [
    "df.describe()"
   ]
  },
  {
   "cell_type": "markdown",
   "metadata": {},
   "source": [
    "## 1.1 Distibution of re78 in function of Treat group"
   ]
  },
  {
   "cell_type": "code",
   "execution_count": 5,
   "metadata": {
    "collapsed": false
   },
   "outputs": [
    {
     "data": {
      "text/plain": [
       "<matplotlib.axes._subplots.AxesSubplot at 0x24c94d4e0f0>"
      ]
     },
     "execution_count": 5,
     "metadata": {},
     "output_type": "execute_result"
    },
    {
     "data": {
      "image/png": "[encoded data removed]",
      "text/plain": [
       "<matplotlib.figure.Figure at 0x24c94d36eb8>"
      ]
     },
     "metadata": {},
     "output_type": "display_data"
    }
   ],
   "source": [
    "df.groupby('treat').size().plot(kind='bar',rot=0,title='Number of People in the Study by Treat')"
   ]
  },
  {
   "cell_type": "markdown",
   "metadata": {
    "collapsed": true
   },
   "source": [
    "By plotting the mean, we see that there is a very large Standard deviation"
   ]
  },
  {
   "cell_type": "code",
   "execution_count": 6,
   "metadata": {
    "collapsed": false
   },
   "outputs": [
    {
     "data": {
      "text/plain": [
       "<matplotlib.axes._subplots.AxesSubplot at 0x24c95183898>"
      ]
     },
     "execution_count": 6,
     "metadata": {},
     "output_type": "execute_result"
    },
    {
     "data": {
      "image/png": "[encoded data removed]",
      "text/plain": [
       "<matplotlib.figure.Figure at 0x24c94ed3400>"
      ]
     },
     "metadata": {},
     "output_type": "display_data"
    }
   ],
   "source": [
    "fig, ax = plt.subplots()\n",
    "errors = df.groupby('treat').re78.std()\n",
    "df.groupby('treat').re78.mean().plot.bar(yerr=errors, ax=ax,title='Mean of real outcome 1978 in function of Treat')"
   ]
  },
  {
   "cell_type": "markdown",
   "metadata": {},
   "source": [
    "Indeed there are some outliers with high value and mean and std are not robust to outliers.\n",
    "But this outliers are only in people that participate to the study"
   ]
  },
  {
   "cell_type": "code",
   "execution_count": 7,
   "metadata": {
    "collapsed": false,
    "scrolled": true
   },
   "outputs": [
    {
     "data": {
      "text/plain": [
       "<matplotlib.axes._subplots.AxesSubplot at 0x24c956ae320>"
      ]
     },
     "execution_count": 7,
     "metadata": {},
     "output_type": "execute_result"
    },
    {
     "data": {
      "image/png": "[encoded data removed]",
      "text/plain": [
       "<matplotlib.figure.Figure at 0x24c956b6470>"
      ]
     },
     "metadata": {},
     "output_type": "display_data"
    }
   ],
   "source": [
    "df[['treat','re78']].boxplot(by='treat')"
   ]
  },
  {
   "cell_type": "markdown",
   "metadata": {},
   "source": [
    "We plot with median and quantile that are resistant to outliers"
   ]
  },
  {
   "cell_type": "code",
   "execution_count": 8,
   "metadata": {
    "collapsed": false
   },
   "outputs": [
    {
     "data": {
      "text/plain": [
       "<matplotlib.axes._subplots.AxesSubplot at 0x24c95159ac8>"
      ]
     },
     "execution_count": 8,
     "metadata": {},
     "output_type": "execute_result"
    },
    {
     "data": {
      "image/png": "[encoded data removed]",
      "text/plain": [
       "<matplotlib.figure.Figure at 0x24c956e4f98>"
      ]
     },
     "metadata": {},
     "output_type": "display_data"
    }
   ],
   "source": [
    "fig, ax = plt.subplots()\n",
    "errors = df.groupby('treat').re78.quantile()\n",
    "df.groupby('treat').re78.median().plot.bar(yerr=errors, ax=ax)"
   ]
  },
  {
   "cell_type": "code",
   "execution_count": 9,
   "metadata": {
    "collapsed": true
   },
   "outputs": [],
   "source": [
    "#df.groupby[['treat','re78']].corr()"
   ]
  },
  {
   "cell_type": "code",
   "execution_count": 10,
   "metadata": {
    "collapsed": false
   },
   "outputs": [
    {
     "data": {
      "text/plain": [
       "array([[<matplotlib.axes._subplots.AxesSubplot object at 0x0000024C957616A0>]], dtype=object)"
      ]
     },
     "execution_count": 10,
     "metadata": {},
     "output_type": "execute_result"
    },
    {
     "data": {
      "image/png": "[encoded data removed]",
      "text/plain": [
       "<matplotlib.figure.Figure at 0x24c9576e5f8>"
      ]
     },
     "metadata": {},
     "output_type": "display_data"
    }
   ],
   "source": [
    "df[df['treat']==1].hist(bins=[0,10000,20000,30000,40000,50000,60000],column=['re78'])"
   ]
  },
  {
   "cell_type": "code",
   "execution_count": 11,
   "metadata": {
    "collapsed": false
   },
   "outputs": [
    {
     "data": {
      "text/plain": [
       "array([[<matplotlib.axes._subplots.AxesSubplot object at 0x0000024C9582A4E0>]], dtype=object)"
      ]
     },
     "execution_count": 11,
     "metadata": {},
     "output_type": "execute_result"
    },
    {
     "data": {
      "image/png": "[encoded data removed]",
      "text/plain": [
       "<matplotlib.figure.Figure at 0x24c9583f9b0>"
      ]
     },
     "metadata": {},
     "output_type": "display_data"
    }
   ],
   "source": [
    "df[df['treat']==0].hist(bins=[0,10000,20000,30000,40000,50000,60000],column=['re78'])"
   ]
  },
  {
   "cell_type": "code",
   "execution_count": null,
   "metadata": {
    "collapsed": true
   },
   "outputs": [],
   "source": []
  },
  {
   "cell_type": "code",
   "execution_count": null,
   "metadata": {
    "collapsed": true
   },
   "outputs": [],
   "source": []
  },
  {
   "cell_type": "markdown",
   "metadata": {},
   "source": [
    "If we look at the distribution we can see that some really people that took the course indeed have a higher outcome, which is not present for the people that did not took the course.\n",
    "We can then infer that it helps some people to take the course but not all\n",
    "\n",
    "TODO but we wish to see this in percentage as the repartition between both category is not the same"
   ]
  },
  {
   "cell_type": "markdown",
   "metadata": {},
   "source": [
    "## 1.2 A closer look at the data\n"
   ]
  },
  {
   "cell_type": "code",
   "execution_count": 12,
   "metadata": {
    "collapsed": false
   },
   "outputs": [
    {
     "data": {
      "text/html": [
       "<div>\n",
       "<table border=\"1\" class=\"dataframe\">\n",
       "  <thead>\n",
       "    <tr style=\"text-align: right;\">\n",
       "      <th></th>\n",
       "      <th>treat</th>\n",
       "      <th>age</th>\n",
       "      <th>educ</th>\n",
       "      <th>black</th>\n",
       "      <th>hispan</th>\n",
       "      <th>married</th>\n",
       "      <th>nodegree</th>\n",
       "      <th>re74</th>\n",
       "      <th>re75</th>\n",
       "      <th>re78</th>\n",
       "    </tr>\n",
       "  </thead>\n",
       "  <tbody>\n",
       "    <tr>\n",
       "      <th>count</th>\n",
       "      <td>614.000000</td>\n",
       "      <td>614.000000</td>\n",
       "      <td>614.000000</td>\n",
       "      <td>614.000000</td>\n",
       "      <td>614.000000</td>\n",
       "      <td>614.000000</td>\n",
       "      <td>614.000000</td>\n",
       "      <td>614.000000</td>\n",
       "      <td>614.000000</td>\n",
       "      <td>614.000000</td>\n",
       "    </tr>\n",
       "    <tr>\n",
       "      <th>mean</th>\n",
       "      <td>0.301303</td>\n",
       "      <td>27.363192</td>\n",
       "      <td>10.268730</td>\n",
       "      <td>0.395765</td>\n",
       "      <td>0.117264</td>\n",
       "      <td>0.415309</td>\n",
       "      <td>0.630293</td>\n",
       "      <td>4557.546569</td>\n",
       "      <td>2184.938207</td>\n",
       "      <td>6792.834483</td>\n",
       "    </tr>\n",
       "    <tr>\n",
       "      <th>std</th>\n",
       "      <td>0.459198</td>\n",
       "      <td>9.881187</td>\n",
       "      <td>2.628325</td>\n",
       "      <td>0.489413</td>\n",
       "      <td>0.321997</td>\n",
       "      <td>0.493177</td>\n",
       "      <td>0.483119</td>\n",
       "      <td>6477.964479</td>\n",
       "      <td>3295.679043</td>\n",
       "      <td>7470.730792</td>\n",
       "    </tr>\n",
       "    <tr>\n",
       "      <th>min</th>\n",
       "      <td>0.000000</td>\n",
       "      <td>16.000000</td>\n",
       "      <td>0.000000</td>\n",
       "      <td>0.000000</td>\n",
       "      <td>0.000000</td>\n",
       "      <td>0.000000</td>\n",
       "      <td>0.000000</td>\n",
       "      <td>0.000000</td>\n",
       "      <td>0.000000</td>\n",
       "      <td>0.000000</td>\n",
       "    </tr>\n",
       "    <tr>\n",
       "      <th>25%</th>\n",
       "      <td>0.000000</td>\n",
       "      <td>20.000000</td>\n",
       "      <td>9.000000</td>\n",
       "      <td>0.000000</td>\n",
       "      <td>0.000000</td>\n",
       "      <td>0.000000</td>\n",
       "      <td>0.000000</td>\n",
       "      <td>0.000000</td>\n",
       "      <td>0.000000</td>\n",
       "      <td>238.283425</td>\n",
       "    </tr>\n",
       "    <tr>\n",
       "      <th>50%</th>\n",
       "      <td>0.000000</td>\n",
       "      <td>25.000000</td>\n",
       "      <td>11.000000</td>\n",
       "      <td>0.000000</td>\n",
       "      <td>0.000000</td>\n",
       "      <td>0.000000</td>\n",
       "      <td>1.000000</td>\n",
       "      <td>1042.330000</td>\n",
       "      <td>601.548400</td>\n",
       "      <td>4759.018500</td>\n",
       "    </tr>\n",
       "    <tr>\n",
       "      <th>75%</th>\n",
       "      <td>1.000000</td>\n",
       "      <td>32.000000</td>\n",
       "      <td>12.000000</td>\n",
       "      <td>1.000000</td>\n",
       "      <td>0.000000</td>\n",
       "      <td>1.000000</td>\n",
       "      <td>1.000000</td>\n",
       "      <td>7888.498250</td>\n",
       "      <td>3248.987500</td>\n",
       "      <td>10893.592500</td>\n",
       "    </tr>\n",
       "    <tr>\n",
       "      <th>max</th>\n",
       "      <td>1.000000</td>\n",
       "      <td>55.000000</td>\n",
       "      <td>18.000000</td>\n",
       "      <td>1.000000</td>\n",
       "      <td>1.000000</td>\n",
       "      <td>1.000000</td>\n",
       "      <td>1.000000</td>\n",
       "      <td>35040.070000</td>\n",
       "      <td>25142.240000</td>\n",
       "      <td>60307.930000</td>\n",
       "    </tr>\n",
       "  </tbody>\n",
       "</table>\n",
       "</div>"
      ],
      "text/plain": [
       "            treat         age        educ       black      hispan     married  \\\n",
       "count  614.000000  614.000000  614.000000  614.000000  614.000000  614.000000   \n",
       "mean     0.301303   27.363192   10.268730    0.395765    0.117264    0.415309   \n",
       "std      0.459198    9.881187    2.628325    0.489413    0.321997    0.493177   \n",
       "min      0.000000   16.000000    0.000000    0.000000    0.000000    0.000000   \n",
       "25%      0.000000   20.000000    9.000000    0.000000    0.000000    0.000000   \n",
       "50%      0.000000   25.000000   11.000000    0.000000    0.000000    0.000000   \n",
       "75%      1.000000   32.000000   12.000000    1.000000    0.000000    1.000000   \n",
       "max      1.000000   55.000000   18.000000    1.000000    1.000000    1.000000   \n",
       "\n",
       "         nodegree          re74          re75          re78  \n",
       "count  614.000000    614.000000    614.000000    614.000000  \n",
       "mean     0.630293   4557.546569   2184.938207   6792.834483  \n",
       "std      0.483119   6477.964479   3295.679043   7470.730792  \n",
       "min      0.000000      0.000000      0.000000      0.000000  \n",
       "25%      0.000000      0.000000      0.000000    238.283425  \n",
       "50%      1.000000   1042.330000    601.548400   4759.018500  \n",
       "75%      1.000000   7888.498250   3248.987500  10893.592500  \n",
       "max      1.000000  35040.070000  25142.240000  60307.930000  "
      ]
     },
     "execution_count": 12,
     "metadata": {},
     "output_type": "execute_result"
    }
   ],
   "source": [
    "df.describe()"
   ]
  },
  {
   "cell_type": "code",
   "execution_count": 13,
   "metadata": {
    "collapsed": false
   },
   "outputs": [
    {
     "name": "stdout",
     "output_type": "stream",
     "text": [
      "\n"
     ]
    },
    {
     "data": {
      "image/png": "[encoded data removed]",
      "text/plain": [
       "<matplotlib.figure.Figure at 0x24c9585fb00>"
      ]
     },
     "metadata": {},
     "output_type": "display_data"
    }
   ],
   "source": [
    "cg = sns.clustermap(df.corr(), linewidth=.5, figsize=(9,9),cmap='mako')\n",
    "plt.setp(cg)"
   ]
  },
  {
   "cell_type": "code",
   "execution_count": 14,
   "metadata": {
    "collapsed": true
   },
   "outputs": [],
   "source": [
    "t1= df[df['treat']==0]\n",
    "t2 = df[df['treat']==1]\n",
    "t1.columns = ['id','treat','ageControl','educControl','blackControl','hispanControl','marriedControl','noDegreeControl','re74Control','re75Control','re78Control']\n",
    "t2.columns = ['id','treat','ageTreated','educTreated','blackTreated','hispTreated','marriedTreated','noDegreeTreated','re74Treated','re75Treated','re78Treated']"
   ]
  },
  {
   "cell_type": "markdown",
   "metadata": {},
   "source": [
    "We separated the control and treated group so that we can plot both and compare the distribution of each attribiutes"
   ]
  },
  {
   "cell_type": "code",
   "execution_count": 15,
   "metadata": {
    "collapsed": false
   },
   "outputs": [
    {
     "data": {
      "text/plain": [
       "<matplotlib.axes._subplots.AxesSubplot at 0x24c95c1ea58>"
      ]
     },
     "execution_count": 15,
     "metadata": {},
     "output_type": "execute_result"
    },
    {
     "data": {
      "image/png": "[encoded data removed]",
      "text/plain": [
       "<matplotlib.figure.Figure at 0x24c957b0f28>"
      ]
     },
     "metadata": {},
     "output_type": "display_data"
    }
   ],
   "source": [
    "t1.ageControl.plot(kind='hist',legend=True)\n",
    "t2.ageTreated.plot(kind='hist',legend=True)"
   ]
  },
  {
   "cell_type": "markdown",
   "metadata": {},
   "source": [
    "So in term of age, the distribion is quite the same except that in the treated group there are really small number of people older than 40 years old and there is no people older than 50, while in the Control group there are some old people ( 50 and older ) and are more equally distributed"
   ]
  },
  {
   "cell_type": "code",
   "execution_count": 16,
   "metadata": {
    "collapsed": false
   },
   "outputs": [
    {
     "data": {
      "text/plain": [
       "<matplotlib.axes._subplots.AxesSubplot at 0x24c95c1e668>"
      ]
     },
     "execution_count": 16,
     "metadata": {},
     "output_type": "execute_result"
    },
    {
     "data": {
      "image/png": "[encoded data removed]",
      "text/plain": [
       "<matplotlib.figure.Figure at 0x24c95c6ba20>"
      ]
     },
     "metadata": {},
     "output_type": "display_data"
    }
   ],
   "source": [
    "t1.educControl.plot(kind='hist',legend=True)\n",
    "t2.educTreated.plot(kind='hist',legend=True)"
   ]
  },
  {
   "cell_type": "markdown",
   "metadata": {},
   "source": [
    "Here the distribution is almost the same again but in the treated group we do not have the sides ( no high years of education ( more than 15) , and no low education year ( no one under 4 years).\n",
    "In the control group we have people that have no year of education.\n",
    "So here the problem is that in the treated group you have no people with low year of education, that might influence a lot on the effect of the treatment"
   ]
  },
  {
   "cell_type": "code",
   "execution_count": 38,
   "metadata": {
    "collapsed": false
   },
   "outputs": [
    {
     "data": {
      "image/png": "[encoded data removed]",
      "text/plain": [
       "<matplotlib.figure.Figure at 0x24c9a123588>"
      ]
     },
     "metadata": {},
     "output_type": "display_data"
    },
    {
     "data": {
      "text/plain": [
       "<matplotlib.axes._subplots.AxesSubplot at 0x24c9a1aefd0>"
      ]
     },
     "execution_count": 38,
     "metadata": {},
     "output_type": "execute_result"
    },
    {
     "data": {
      "image/png": "[encoded data removed]",
      "text/plain": [
       "<matplotlib.figure.Figure at 0x24c9a214208>"
      ]
     },
     "metadata": {},
     "output_type": "display_data"
    }
   ],
   "source": [
    "t1.blackControl.plot(kind='hist',legend=True)\n",
    "plt.show()\n",
    "t2.blackTreated.plot(kind='hist',legend=True)"
   ]
  },
  {
   "cell_type": "markdown",
   "metadata": {},
   "source": [
    "We can see that in the treated group a lot of subject are black (150 over 180), while in the control group lot are not (300 over 450)"
   ]
  },
  {
   "cell_type": "code",
   "execution_count": 39,
   "metadata": {
    "collapsed": false
   },
   "outputs": [
    {
     "data": {
      "text/plain": [
       "<matplotlib.axes._subplots.AxesSubplot at 0x24c9a1ebe80>"
      ]
     },
     "execution_count": 39,
     "metadata": {},
     "output_type": "execute_result"
    },
    {
     "data": {
      "image/png": "[encoded data removed]",
      "text/plain": [
       "<matplotlib.figure.Figure at 0x24c9a2316d8>"
      ]
     },
     "metadata": {},
     "output_type": "display_data"
    }
   ],
   "source": [
    "t1.hispanControl.plot(kind='hist',legend=True)\n",
    "\n",
    "t2.hispTreated.plot(kind='hist',legend=True)"
   ]
  },
  {
   "cell_type": "markdown",
   "metadata": {},
   "source": [
    "Here there is a little less hispan treated, but the dispartity is not that high, it's just that there is a small amount of hispan in the treated group"
   ]
  },
  {
   "cell_type": "code",
   "execution_count": 40,
   "metadata": {
    "collapsed": false
   },
   "outputs": [
    {
     "data": {
      "text/plain": [
       "<matplotlib.axes._subplots.AxesSubplot at 0x24c9a23f898>"
      ]
     },
     "execution_count": 40,
     "metadata": {},
     "output_type": "execute_result"
    },
    {
     "data": {
      "image/png": "[encoded data removed]",
      "text/plain": [
       "<matplotlib.figure.Figure at 0x24c9a30df28>"
      ]
     },
     "metadata": {},
     "output_type": "display_data"
    }
   ],
   "source": [
    "t1.marriedControl.plot(kind='hist',legend=True)\n",
    "t2.marriedTreated.plot(kind='hist',legend=True)"
   ]
  },
  {
   "cell_type": "markdown",
   "metadata": {},
   "source": [
    "The number of people married in the control Group is really low"
   ]
  },
  {
   "cell_type": "code",
   "execution_count": 41,
   "metadata": {
    "collapsed": false
   },
   "outputs": [
    {
     "data": {
      "text/plain": [
       "<matplotlib.axes._subplots.AxesSubplot at 0x24c9a189978>"
      ]
     },
     "execution_count": 41,
     "metadata": {},
     "output_type": "execute_result"
    },
    {
     "data": {
      "image/png": "[encoded data removed]",
      "text/plain": [
       "<matplotlib.figure.Figure at 0x24c9b3378d0>"
      ]
     },
     "metadata": {},
     "output_type": "display_data"
    }
   ],
   "source": [
    "t1.noDegreeControl.plot(kind='hist',legend=True)\n",
    "t2.noDegreeTreated.plot(kind='hist',legend=True)"
   ]
  },
  {
   "cell_type": "markdown",
   "metadata": {},
   "source": [
    "The distribution seems to be more or less the same for the two datasets (in proportion)"
   ]
  },
  {
   "cell_type": "code",
   "execution_count": 44,
   "metadata": {
    "collapsed": false
   },
   "outputs": [
    {
     "data": {
      "text/plain": [
       "<matplotlib.axes._subplots.AxesSubplot at 0x24c9b3d5ac8>"
      ]
     },
     "execution_count": 44,
     "metadata": {},
     "output_type": "execute_result"
    },
    {
     "data": {
      "image/png": "[encoded data removed]",
      "text/plain": [
       "<matplotlib.figure.Figure at 0x24c9a142eb8>"
      ]
     },
     "metadata": {},
     "output_type": "display_data"
    }
   ],
   "source": [
    "t1.re74Control.plot(kind='hist',legend=True)\n",
    "t2.re74Treated.plot(kind='hist',legend=True)"
   ]
  },
  {
   "cell_type": "code",
   "execution_count": 45,
   "metadata": {
    "collapsed": false
   },
   "outputs": [
    {
     "data": {
      "text/plain": [
       "<matplotlib.axes._subplots.AxesSubplot at 0x24c9a12a1d0>"
      ]
     },
     "execution_count": 45,
     "metadata": {},
     "output_type": "execute_result"
    },
    {
     "data": {
      "image/png": "[encoded data removed]",
      "text/plain": [
       "<matplotlib.figure.Figure at 0x24c9b4ffa90>"
      ]
     },
     "metadata": {},
     "output_type": "display_data"
    }
   ],
   "source": [
    "t1.re75Control.plot(kind='hist',legend=True)\n",
    "t2.re75Treated.plot(kind='hist',legend=True)"
   ]
  },
  {
   "cell_type": "markdown",
   "metadata": {},
   "source": [
    "#TODO need explain more properly what we see"
   ]
  },
  {
   "cell_type": "markdown",
   "metadata": {},
   "source": [
    "## 1.3 A propensity score model\n"
   ]
  },
  {
   "cell_type": "code",
   "execution_count": 46,
   "metadata": {
    "collapsed": true
   },
   "outputs": [],
   "source": [
    "feature_cols=['age','educ','black','hispan','married','nodegree','re74','re75','re78']"
   ]
  },
  {
   "cell_type": "code",
   "execution_count": 47,
   "metadata": {
    "collapsed": false
   },
   "outputs": [
    {
     "data": {
      "text/plain": [
       "LogisticRegression(C=1.0, class_weight=None, dual=False, fit_intercept=True,\n",
       "          intercept_scaling=1, max_iter=100, multi_class='ovr', n_jobs=1,\n",
       "          penalty='l2', random_state=None, solver='liblinear', tol=0.0001,\n",
       "          verbose=0, warm_start=False)"
      ]
     },
     "execution_count": 47,
     "metadata": {},
     "output_type": "execute_result"
    }
   ],
   "source": [
    "logistic = linear_model.LogisticRegression()\n",
    "X = pd.get_dummies(df[feature_cols])\n",
    "y = df.treat\n",
    "logistic.fit(X,y)"
   ]
  },
  {
   "cell_type": "code",
   "execution_count": 48,
   "metadata": {
    "collapsed": true
   },
   "outputs": [],
   "source": [
    "def getScore(x):\n",
    "    return logistic.predict_proba(x[feature_cols].reshape(1,-1))[0][1]"
   ]
  },
  {
   "cell_type": "code",
   "execution_count": 49,
   "metadata": {
    "collapsed": false
   },
   "outputs": [
    {
     "data": {
      "text/html": [
       "<div>\n",
       "<table border=\"1\" class=\"dataframe\">\n",
       "  <thead>\n",
       "    <tr style=\"text-align: right;\">\n",
       "      <th></th>\n",
       "      <th>id</th>\n",
       "      <th>treat</th>\n",
       "      <th>age</th>\n",
       "      <th>educ</th>\n",
       "      <th>black</th>\n",
       "      <th>hispan</th>\n",
       "      <th>married</th>\n",
       "      <th>nodegree</th>\n",
       "      <th>re74</th>\n",
       "      <th>re75</th>\n",
       "      <th>re78</th>\n",
       "      <th>propensityScore</th>\n",
       "    </tr>\n",
       "  </thead>\n",
       "  <tbody>\n",
       "    <tr>\n",
       "      <th>0</th>\n",
       "      <td>NSW1</td>\n",
       "      <td>1</td>\n",
       "      <td>37</td>\n",
       "      <td>11</td>\n",
       "      <td>1</td>\n",
       "      <td>0</td>\n",
       "      <td>1</td>\n",
       "      <td>1</td>\n",
       "      <td>0.0</td>\n",
       "      <td>0.0</td>\n",
       "      <td>9930.0460</td>\n",
       "      <td>0.458074</td>\n",
       "    </tr>\n",
       "    <tr>\n",
       "      <th>1</th>\n",
       "      <td>NSW2</td>\n",
       "      <td>1</td>\n",
       "      <td>22</td>\n",
       "      <td>9</td>\n",
       "      <td>0</td>\n",
       "      <td>1</td>\n",
       "      <td>0</td>\n",
       "      <td>1</td>\n",
       "      <td>0.0</td>\n",
       "      <td>0.0</td>\n",
       "      <td>3595.8940</td>\n",
       "      <td>0.151980</td>\n",
       "    </tr>\n",
       "    <tr>\n",
       "      <th>2</th>\n",
       "      <td>NSW3</td>\n",
       "      <td>1</td>\n",
       "      <td>30</td>\n",
       "      <td>12</td>\n",
       "      <td>1</td>\n",
       "      <td>0</td>\n",
       "      <td>0</td>\n",
       "      <td>0</td>\n",
       "      <td>0.0</td>\n",
       "      <td>0.0</td>\n",
       "      <td>24909.4500</td>\n",
       "      <td>0.750966</td>\n",
       "    </tr>\n",
       "    <tr>\n",
       "      <th>3</th>\n",
       "      <td>NSW4</td>\n",
       "      <td>1</td>\n",
       "      <td>27</td>\n",
       "      <td>11</td>\n",
       "      <td>1</td>\n",
       "      <td>0</td>\n",
       "      <td>0</td>\n",
       "      <td>1</td>\n",
       "      <td>0.0</td>\n",
       "      <td>0.0</td>\n",
       "      <td>7506.1460</td>\n",
       "      <td>0.674020</td>\n",
       "    </tr>\n",
       "    <tr>\n",
       "      <th>4</th>\n",
       "      <td>NSW5</td>\n",
       "      <td>1</td>\n",
       "      <td>33</td>\n",
       "      <td>8</td>\n",
       "      <td>1</td>\n",
       "      <td>0</td>\n",
       "      <td>0</td>\n",
       "      <td>1</td>\n",
       "      <td>0.0</td>\n",
       "      <td>0.0</td>\n",
       "      <td>289.7899</td>\n",
       "      <td>0.670590</td>\n",
       "    </tr>\n",
       "  </tbody>\n",
       "</table>\n",
       "</div>"
      ],
      "text/plain": [
       "     id  treat  age  educ  black  hispan  married  nodegree  re74  re75  \\\n",
       "0  NSW1      1   37    11      1       0        1         1   0.0   0.0   \n",
       "1  NSW2      1   22     9      0       1        0         1   0.0   0.0   \n",
       "2  NSW3      1   30    12      1       0        0         0   0.0   0.0   \n",
       "3  NSW4      1   27    11      1       0        0         1   0.0   0.0   \n",
       "4  NSW5      1   33     8      1       0        0         1   0.0   0.0   \n",
       "\n",
       "         re78  propensityScore  \n",
       "0   9930.0460         0.458074  \n",
       "1   3595.8940         0.151980  \n",
       "2  24909.4500         0.750966  \n",
       "3   7506.1460         0.674020  \n",
       "4    289.7899         0.670590  "
      ]
     },
     "execution_count": 49,
     "metadata": {},
     "output_type": "execute_result"
    }
   ],
   "source": [
    "df['propensityScore'] = df.apply(lambda row : getScore(row),axis=1)\n",
    "df.head()"
   ]
  },
  {
   "cell_type": "markdown",
   "metadata": {
    "collapsed": true
   },
   "source": [
    "## 1.4 Balancing the dataset via matching"
   ]
  },
  {
   "cell_type": "code",
   "execution_count": 50,
   "metadata": {
    "collapsed": true
   },
   "outputs": [],
   "source": [
    "B = nx.Graph()\n",
    "B.add_nodes_from(df[df['treat']==0].propensityScore, bipartite=0) # Add the node attribute \"bipartite\"\n",
    "B.add_nodes_from(df[df['treat']==1].propensityScore, bipartite=1)\n"
   ]
  },
  {
   "cell_type": "code",
   "execution_count": 51,
   "metadata": {
    "collapsed": true
   },
   "outputs": [],
   "source": [
    "# create treated and control groups\n",
    "control = list(df.loc[np.where(df[\"treat\"] ==0)[0],'id'])\n",
    "treated  = list(df.loc[np.where(df[\"treat\"] ==1)[0],'id'])"
   ]
  },
  {
   "cell_type": "code",
   "execution_count": 52,
   "metadata": {
    "collapsed": true
   },
   "outputs": [],
   "source": [
    "##create a bipartite graph with treated and control groups as nodes\n",
    "##add weighted edges: the weight is minus the absolute propensity-score differences \n",
    " #between the two nodes\n",
    "\n",
    "B = nx.Graph()\n",
    "B.add_nodes_from(control, bipartite = 0)\n",
    "B.add_nodes_from(treated, bipartite = 1)\n",
    "\n",
    "for i in range(len(treated)):\n",
    "    u = treated[i]\n",
    "    for j in range(len(control)):\n",
    "        v = control[j]\n",
    "        w = abs(list(df.loc[np.where(df['id'] == u)[0],'propensityScore'])[0] - list(df.loc[np.where(df['id'] == v)[0],'propensityScore'])[0])\n",
    "        B.add_edge(u,v,weight = -w)\n",
    "\n"
   ]
  },
  {
   "cell_type": "code",
   "execution_count": 53,
   "metadata": {
    "collapsed": false
   },
   "outputs": [
    {
     "data": {
      "text/plain": [
       "{'NSW1': 'PSID358',\n",
       " 'NSW10': 'PSID394',\n",
       " 'NSW100': 'PSID270',\n",
       " 'NSW101': 'PSID308',\n",
       " 'NSW102': 'PSID389',\n",
       " 'NSW103': 'PSID27',\n",
       " 'NSW104': 'PSID274',\n",
       " 'NSW105': 'PSID102',\n",
       " 'NSW106': 'PSID134',\n",
       " 'NSW107': 'PSID228',\n",
       " 'NSW108': 'PSID151',\n",
       " 'NSW109': 'PSID145',\n",
       " 'NSW11': 'PSID381',\n",
       " 'NSW110': 'PSID97',\n",
       " 'NSW111': 'PSID264',\n",
       " 'NSW112': 'PSID72',\n",
       " 'NSW113': 'PSID219',\n",
       " 'NSW114': 'PSID249',\n",
       " 'NSW115': 'PSID5',\n",
       " 'NSW116': 'PSID267',\n",
       " 'NSW117': 'PSID118',\n",
       " 'NSW118': 'PSID191',\n",
       " 'NSW119': 'PSID330',\n",
       " 'NSW12': 'PSID187',\n",
       " 'NSW120': 'PSID48',\n",
       " 'NSW121': 'PSID265',\n",
       " 'NSW122': 'PSID372',\n",
       " 'NSW123': 'PSID356',\n",
       " 'NSW124': 'PSID117',\n",
       " 'NSW125': 'PSID241',\n",
       " 'NSW126': 'PSID142',\n",
       " 'NSW127': 'PSID326',\n",
       " 'NSW128': 'PSID252',\n",
       " 'NSW129': 'PSID167',\n",
       " 'NSW13': 'PSID366',\n",
       " 'NSW130': 'PSID416',\n",
       " 'NSW131': 'PSID411',\n",
       " 'NSW132': 'PSID333',\n",
       " 'NSW133': 'PSID185',\n",
       " 'NSW134': 'PSID331',\n",
       " 'NSW135': 'PSID205',\n",
       " 'NSW136': 'PSID184',\n",
       " 'NSW137': 'PSID88',\n",
       " 'NSW138': 'PSID386',\n",
       " 'NSW139': 'PSID238',\n",
       " 'NSW14': 'PSID217',\n",
       " 'NSW140': 'PSID182',\n",
       " 'NSW141': 'PSID409',\n",
       " 'NSW142': 'PSID368',\n",
       " 'NSW143': 'PSID377',\n",
       " 'NSW144': 'PSID209',\n",
       " 'NSW145': 'PSID240',\n",
       " 'NSW146': 'PSID429',\n",
       " 'NSW147': 'PSID376',\n",
       " 'NSW148': 'PSID351',\n",
       " 'NSW149': 'PSID156',\n",
       " 'NSW15': 'PSID179',\n",
       " 'NSW150': 'PSID131',\n",
       " 'NSW151': 'PSID345',\n",
       " 'NSW152': 'PSID98',\n",
       " 'NSW153': 'PSID158',\n",
       " 'NSW154': 'PSID353',\n",
       " 'NSW155': 'PSID177',\n",
       " 'NSW156': 'PSID24',\n",
       " 'NSW157': 'PSID211',\n",
       " 'NSW158': 'PSID15',\n",
       " 'NSW159': 'PSID192',\n",
       " 'NSW16': 'PSID89',\n",
       " 'NSW160': 'PSID8',\n",
       " 'NSW161': 'PSID281',\n",
       " 'NSW162': 'PSID423',\n",
       " 'NSW163': 'PSID414',\n",
       " 'NSW164': 'PSID124',\n",
       " 'NSW165': 'PSID213',\n",
       " 'NSW166': 'PSID221',\n",
       " 'NSW167': 'PSID263',\n",
       " 'NSW168': 'PSID428',\n",
       " 'NSW169': 'PSID397',\n",
       " 'NSW17': 'PSID206',\n",
       " 'NSW170': 'PSID365',\n",
       " 'NSW171': 'PSID388',\n",
       " 'NSW172': 'PSID402',\n",
       " 'NSW173': 'PSID13',\n",
       " 'NSW174': 'PSID234',\n",
       " 'NSW175': 'PSID300',\n",
       " 'NSW176': 'PSID261',\n",
       " 'NSW177': 'PSID50',\n",
       " 'NSW178': 'PSID266',\n",
       " 'NSW179': 'PSID79',\n",
       " 'NSW18': 'PSID173',\n",
       " 'NSW180': 'PSID258',\n",
       " 'NSW181': 'PSID153',\n",
       " 'NSW182': 'PSID200',\n",
       " 'NSW183': 'PSID188',\n",
       " 'NSW184': 'PSID94',\n",
       " 'NSW185': 'PSID99',\n",
       " 'NSW19': 'PSID285',\n",
       " 'NSW2': 'PSID178',\n",
       " 'NSW20': 'PSID385',\n",
       " 'NSW21': 'PSID412',\n",
       " 'NSW22': 'PSID122',\n",
       " 'NSW23': 'PSID16',\n",
       " 'NSW24': 'PSID399',\n",
       " 'NSW25': 'PSID256',\n",
       " 'NSW26': 'PSID422',\n",
       " 'NSW27': 'PSID139',\n",
       " 'NSW28': 'PSID371',\n",
       " 'NSW29': 'PSID218',\n",
       " 'NSW3': 'PSID398',\n",
       " 'NSW30': 'PSID352',\n",
       " 'NSW31': 'PSID426',\n",
       " 'NSW32': 'PSID370',\n",
       " 'NSW33': 'PSID59',\n",
       " 'NSW34': 'PSID373',\n",
       " 'NSW35': 'PSID170',\n",
       " 'NSW36': 'PSID420',\n",
       " 'NSW37': 'PSID140',\n",
       " 'NSW38': 'PSID69',\n",
       " 'NSW39': 'PSID6',\n",
       " 'NSW4': 'PSID289',\n",
       " 'NSW40': 'PSID387',\n",
       " 'NSW41': 'PSID383',\n",
       " 'NSW42': 'PSID183',\n",
       " 'NSW43': 'PSID291',\n",
       " 'NSW44': 'PSID242',\n",
       " 'NSW45': 'PSID180',\n",
       " 'NSW46': 'PSID375',\n",
       " 'NSW47': 'PSID357',\n",
       " 'NSW48': 'PSID193',\n",
       " 'NSW49': 'PSID278',\n",
       " 'NSW5': 'PSID277',\n",
       " 'NSW50': 'PSID346',\n",
       " 'NSW51': 'PSID66',\n",
       " 'NSW52': 'PSID369',\n",
       " 'NSW53': 'PSID374',\n",
       " 'NSW54': 'PSID189',\n",
       " 'NSW55': 'PSID96',\n",
       " 'NSW56': 'PSID419',\n",
       " 'NSW57': 'PSID337',\n",
       " 'NSW58': 'PSID171',\n",
       " 'NSW59': 'PSID41',\n",
       " 'NSW6': 'PSID384',\n",
       " 'NSW60': 'PSID229',\n",
       " 'NSW61': 'PSID406',\n",
       " 'NSW62': 'PSID280',\n",
       " 'NSW63': 'PSID237',\n",
       " 'NSW64': 'PSID208',\n",
       " 'NSW65': 'PSID401',\n",
       " 'NSW66': 'PSID105',\n",
       " 'NSW67': 'PSID269',\n",
       " 'NSW68': 'PSID322',\n",
       " 'NSW69': 'PSID260',\n",
       " 'NSW7': 'PSID251',\n",
       " 'NSW70': 'PSID293',\n",
       " 'NSW71': 'PSID17',\n",
       " 'NSW72': 'PSID164',\n",
       " 'NSW73': 'PSID157',\n",
       " 'NSW74': 'PSID367',\n",
       " 'NSW75': 'PSID226',\n",
       " 'NSW76': 'PSID417',\n",
       " 'NSW77': 'PSID268',\n",
       " 'NSW78': 'PSID342',\n",
       " 'NSW79': 'PSID196',\n",
       " 'NSW8': 'PSID227',\n",
       " 'NSW80': 'PSID110',\n",
       " 'NSW81': 'PSID127',\n",
       " 'NSW82': 'PSID341',\n",
       " 'NSW83': 'PSID336',\n",
       " 'NSW84': 'PSID408',\n",
       " 'NSW85': 'PSID392',\n",
       " 'NSW86': 'PSID354',\n",
       " 'NSW87': 'PSID290',\n",
       " 'NSW88': 'PSID247',\n",
       " 'NSW89': 'PSID282',\n",
       " 'NSW9': 'PSID225',\n",
       " 'NSW90': 'PSID355',\n",
       " 'NSW91': 'PSID46',\n",
       " 'NSW92': 'PSID253',\n",
       " 'NSW93': 'PSID335',\n",
       " 'NSW94': 'PSID231',\n",
       " 'NSW95': 'PSID380',\n",
       " 'NSW96': 'PSID407',\n",
       " 'NSW97': 'PSID425',\n",
       " 'NSW98': 'PSID159',\n",
       " 'NSW99': 'PSID400',\n",
       " 'PSID102': 'NSW105',\n",
       " 'PSID105': 'NSW66',\n",
       " 'PSID110': 'NSW80',\n",
       " 'PSID117': 'NSW124',\n",
       " 'PSID118': 'NSW117',\n",
       " 'PSID122': 'NSW22',\n",
       " 'PSID124': 'NSW164',\n",
       " 'PSID127': 'NSW81',\n",
       " 'PSID13': 'NSW173',\n",
       " 'PSID131': 'NSW150',\n",
       " 'PSID134': 'NSW106',\n",
       " 'PSID139': 'NSW27',\n",
       " 'PSID140': 'NSW37',\n",
       " 'PSID142': 'NSW126',\n",
       " 'PSID145': 'NSW109',\n",
       " 'PSID15': 'NSW158',\n",
       " 'PSID151': 'NSW108',\n",
       " 'PSID153': 'NSW181',\n",
       " 'PSID156': 'NSW149',\n",
       " 'PSID157': 'NSW73',\n",
       " 'PSID158': 'NSW153',\n",
       " 'PSID159': 'NSW98',\n",
       " 'PSID16': 'NSW23',\n",
       " 'PSID164': 'NSW72',\n",
       " 'PSID167': 'NSW129',\n",
       " 'PSID17': 'NSW71',\n",
       " 'PSID170': 'NSW35',\n",
       " 'PSID171': 'NSW58',\n",
       " 'PSID173': 'NSW18',\n",
       " 'PSID177': 'NSW155',\n",
       " 'PSID178': 'NSW2',\n",
       " 'PSID179': 'NSW15',\n",
       " 'PSID180': 'NSW45',\n",
       " 'PSID182': 'NSW140',\n",
       " 'PSID183': 'NSW42',\n",
       " 'PSID184': 'NSW136',\n",
       " 'PSID185': 'NSW133',\n",
       " 'PSID187': 'NSW12',\n",
       " 'PSID188': 'NSW183',\n",
       " 'PSID189': 'NSW54',\n",
       " 'PSID191': 'NSW118',\n",
       " 'PSID192': 'NSW159',\n",
       " 'PSID193': 'NSW48',\n",
       " 'PSID196': 'NSW79',\n",
       " 'PSID200': 'NSW182',\n",
       " 'PSID205': 'NSW135',\n",
       " 'PSID206': 'NSW17',\n",
       " 'PSID208': 'NSW64',\n",
       " 'PSID209': 'NSW144',\n",
       " 'PSID211': 'NSW157',\n",
       " 'PSID213': 'NSW165',\n",
       " 'PSID217': 'NSW14',\n",
       " 'PSID218': 'NSW29',\n",
       " 'PSID219': 'NSW113',\n",
       " 'PSID221': 'NSW166',\n",
       " 'PSID225': 'NSW9',\n",
       " 'PSID226': 'NSW75',\n",
       " 'PSID227': 'NSW8',\n",
       " 'PSID228': 'NSW107',\n",
       " 'PSID229': 'NSW60',\n",
       " 'PSID231': 'NSW94',\n",
       " 'PSID234': 'NSW174',\n",
       " 'PSID237': 'NSW63',\n",
       " 'PSID238': 'NSW139',\n",
       " 'PSID24': 'NSW156',\n",
       " 'PSID240': 'NSW145',\n",
       " 'PSID241': 'NSW125',\n",
       " 'PSID242': 'NSW44',\n",
       " 'PSID247': 'NSW88',\n",
       " 'PSID249': 'NSW114',\n",
       " 'PSID251': 'NSW7',\n",
       " 'PSID252': 'NSW128',\n",
       " 'PSID253': 'NSW92',\n",
       " 'PSID256': 'NSW25',\n",
       " 'PSID258': 'NSW180',\n",
       " 'PSID260': 'NSW69',\n",
       " 'PSID261': 'NSW176',\n",
       " 'PSID263': 'NSW167',\n",
       " 'PSID264': 'NSW111',\n",
       " 'PSID265': 'NSW121',\n",
       " 'PSID266': 'NSW178',\n",
       " 'PSID267': 'NSW116',\n",
       " 'PSID268': 'NSW77',\n",
       " 'PSID269': 'NSW67',\n",
       " 'PSID27': 'NSW103',\n",
       " 'PSID270': 'NSW100',\n",
       " 'PSID274': 'NSW104',\n",
       " 'PSID277': 'NSW5',\n",
       " 'PSID278': 'NSW49',\n",
       " 'PSID280': 'NSW62',\n",
       " 'PSID281': 'NSW161',\n",
       " 'PSID282': 'NSW89',\n",
       " 'PSID285': 'NSW19',\n",
       " 'PSID289': 'NSW4',\n",
       " 'PSID290': 'NSW87',\n",
       " 'PSID291': 'NSW43',\n",
       " 'PSID293': 'NSW70',\n",
       " 'PSID300': 'NSW175',\n",
       " 'PSID308': 'NSW101',\n",
       " 'PSID322': 'NSW68',\n",
       " 'PSID326': 'NSW127',\n",
       " 'PSID330': 'NSW119',\n",
       " 'PSID331': 'NSW134',\n",
       " 'PSID333': 'NSW132',\n",
       " 'PSID335': 'NSW93',\n",
       " 'PSID336': 'NSW83',\n",
       " 'PSID337': 'NSW57',\n",
       " 'PSID341': 'NSW82',\n",
       " 'PSID342': 'NSW78',\n",
       " 'PSID345': 'NSW151',\n",
       " 'PSID346': 'NSW50',\n",
       " 'PSID351': 'NSW148',\n",
       " 'PSID352': 'NSW30',\n",
       " 'PSID353': 'NSW154',\n",
       " 'PSID354': 'NSW86',\n",
       " 'PSID355': 'NSW90',\n",
       " 'PSID356': 'NSW123',\n",
       " 'PSID357': 'NSW47',\n",
       " 'PSID358': 'NSW1',\n",
       " 'PSID365': 'NSW170',\n",
       " 'PSID366': 'NSW13',\n",
       " 'PSID367': 'NSW74',\n",
       " 'PSID368': 'NSW142',\n",
       " 'PSID369': 'NSW52',\n",
       " 'PSID370': 'NSW32',\n",
       " 'PSID371': 'NSW28',\n",
       " 'PSID372': 'NSW122',\n",
       " 'PSID373': 'NSW34',\n",
       " 'PSID374': 'NSW53',\n",
       " 'PSID375': 'NSW46',\n",
       " 'PSID376': 'NSW147',\n",
       " 'PSID377': 'NSW143',\n",
       " 'PSID380': 'NSW95',\n",
       " 'PSID381': 'NSW11',\n",
       " 'PSID383': 'NSW41',\n",
       " 'PSID384': 'NSW6',\n",
       " 'PSID385': 'NSW20',\n",
       " 'PSID386': 'NSW138',\n",
       " 'PSID387': 'NSW40',\n",
       " 'PSID388': 'NSW171',\n",
       " 'PSID389': 'NSW102',\n",
       " 'PSID392': 'NSW85',\n",
       " 'PSID394': 'NSW10',\n",
       " 'PSID397': 'NSW169',\n",
       " 'PSID398': 'NSW3',\n",
       " 'PSID399': 'NSW24',\n",
       " 'PSID400': 'NSW99',\n",
       " 'PSID401': 'NSW65',\n",
       " 'PSID402': 'NSW172',\n",
       " 'PSID406': 'NSW61',\n",
       " 'PSID407': 'NSW96',\n",
       " 'PSID408': 'NSW84',\n",
       " 'PSID409': 'NSW141',\n",
       " 'PSID41': 'NSW59',\n",
       " 'PSID411': 'NSW131',\n",
       " 'PSID412': 'NSW21',\n",
       " 'PSID414': 'NSW163',\n",
       " 'PSID416': 'NSW130',\n",
       " 'PSID417': 'NSW76',\n",
       " 'PSID419': 'NSW56',\n",
       " 'PSID420': 'NSW36',\n",
       " 'PSID422': 'NSW26',\n",
       " 'PSID423': 'NSW162',\n",
       " 'PSID425': 'NSW97',\n",
       " 'PSID426': 'NSW31',\n",
       " 'PSID428': 'NSW168',\n",
       " 'PSID429': 'NSW146',\n",
       " 'PSID46': 'NSW91',\n",
       " 'PSID48': 'NSW120',\n",
       " 'PSID5': 'NSW115',\n",
       " 'PSID50': 'NSW177',\n",
       " 'PSID59': 'NSW33',\n",
       " 'PSID6': 'NSW39',\n",
       " 'PSID66': 'NSW51',\n",
       " 'PSID69': 'NSW38',\n",
       " 'PSID72': 'NSW112',\n",
       " 'PSID79': 'NSW179',\n",
       " 'PSID8': 'NSW160',\n",
       " 'PSID88': 'NSW137',\n",
       " 'PSID89': 'NSW16',\n",
       " 'PSID94': 'NSW184',\n",
       " 'PSID96': 'NSW55',\n",
       " 'PSID97': 'NSW110',\n",
       " 'PSID98': 'NSW152',\n",
       " 'PSID99': 'NSW185'}"
      ]
     },
     "execution_count": 53,
     "metadata": {},
     "output_type": "execute_result"
    }
   ],
   "source": [
    "#find the matching\n",
    "matching = nx.max_weight_matching(B,True)\n",
    "matching"
   ]
  },
  {
   "cell_type": "code",
   "execution_count": null,
   "metadata": {
    "collapsed": false
   },
   "outputs": [],
   "source": []
  },
  {
   "cell_type": "code",
   "execution_count": null,
   "metadata": {
    "collapsed": false
   },
   "outputs": [],
   "source": []
  },
  {
   "cell_type": "markdown",
   "metadata": {},
   "source": [
    "# 2.1 20newsgroup TF-IDF Features"
   ]
  },
  {
   "cell_type": "code",
   "execution_count": 4,
   "metadata": {
    "collapsed": true,
    "scrolled": true
   },
   "outputs": [],
   "source": [
    "data_news = fetch_20newsgroups(subset='all')"
   ]
  },
  {
   "cell_type": "markdown",
   "metadata": {},
   "source": [
    "We will use the provided Pipeline functionalty of scikit learn to apply the Machine Learning.  \n",
    "In this pipeline the input data will first be put into the TfidfVectorizer in order to reduce the importance of very frequent words.  \n",
    "After that, a random forest will be trained on the dataset.  "
   ]
  },
  {
   "cell_type": "code",
   "execution_count": 5,
   "metadata": {
    "collapsed": false
   },
   "outputs": [
    {
     "name": "stdout",
     "output_type": "stream",
     "text": [
      "train n: 16961, test n: 1885\n"
     ]
    }
   ],
   "source": [
    "# Split into train and test (90:10) since we are using cross validation\n",
    "data_news_train_x, data_news_test_x, data_news_train_y, data_news_test_y = train_test_split(\\\n",
    "                                        data_news.data, data_news.target, test_size=0.1, random_state=42)\n",
    "print(\"train n: {}, test n: {}\".format(len(data_news_train_x), len(data_news_test_x)))"
   ]
  },
  {
   "cell_type": "markdown",
   "metadata": {},
   "source": [
    "We are splitting the dataset into a training (90%) and a testing set (10%).  \n",
    "Since we are using cross validation in the scikit grid search an extra validataion set is not required.  \n",
    "Cross validation splits the data into k different sets, trains k classifiers on k-1 parts and validates the sets on the not used set for training. Therefore the whole dataset can be used for training and validataion at once, which improves accuracy, since more data is available."
   ]
  },
  {
   "cell_type": "code",
   "execution_count": 9,
   "metadata": {},
   "outputs": [],
   "source": [
    "# Set up pipeline\n",
    "pipeline = Pipeline([\n",
    "    ('tfidf', TfidfVectorizer()),\n",
    "    ('rfc', RandomForestClassifier()),\n",
    "])\n",
    "\n",
    "parameters = {\n",
    "    'rfc__n_estimators' : (100,150,200),    \n",
    "    'rfc__max_depth' : (100,200,300,None)\n",
    "}\n",
    "\n",
    "grid_search = GridSearchCV(pipeline, parameters, n_jobs=-1, verbose=1) "
   ]
  },
  {
   "cell_type": "markdown",
   "metadata": {},
   "source": [
    "Previous runs with lower values for both parameters have already shown, that parameters lower that 100 perform worse.  \n",
    "Therefore we excluded them for further grid searches.  \n",
    "Grid searches for higher parameters took too long and were aborted."
   ]
  },
  {
   "cell_type": "code",
   "execution_count": 12,
   "metadata": {
    "collapsed": false
   },
   "outputs": [
    {
     "name": "stdout",
     "output_type": "stream",
     "text": [
      "Fitting 3 folds for each of 12 candidates, totalling 36 fits\n"
     ]
    },
    {
     "name": "stderr",
     "output_type": "stream",
     "text": [
      "[Parallel(n_jobs=-1)]: Done  36 out of  36 | elapsed: 54.8min finished\n"
     ]
    },
    {
     "name": "stdout",
     "output_type": "stream",
     "text": [
      "Best score: 0.845\n",
      "Best parameters:\n",
      "\trfc__n_estimators: 200\n",
      "\trfc__max_depth: None\n"
     ]
    }
   ],
   "source": [
    "# Run training with grid search\n",
    "# Perform grid search with corss-validation\n",
    "grid_search.fit(data_news_train_x, data_news_train_y)\n",
    "\n",
    "print(\"Best score: {:0.3f}\".format(grid_search.best_score_))\n",
    "print(\"Best parameters:\")\n",
    "best_parameters = grid_search.best_estimator_.get_params()\n",
    "for param in parameters.keys():\n",
    "    print(\"\\t{}: {}\".format(param, best_parameters[param]))\n",
    "    \n",
    "clf = grid_search.best_estimator_"
   ]
  },
  {
   "cell_type": "code",
   "execution_count": 31,
   "metadata": {
    "scrolled": false
   },
   "outputs": [
    {
     "data": {
      "text/html": [
       "<div>\n",
       "<style>\n",
       "    .dataframe thead tr:only-child th {\n",
       "        text-align: right;\n",
       "    }\n",
       "\n",
       "    .dataframe thead th {\n",
       "        text-align: left;\n",
       "    }\n",
       "\n",
       "    .dataframe tbody tr th {\n",
       "        vertical-align: top;\n",
       "    }\n",
       "</style>\n",
       "<table border=\"1\" class=\"dataframe\">\n",
       "  <thead>\n",
       "    <tr style=\"text-align: right;\">\n",
       "      <th></th>\n",
       "      <th>alt.atheism</th>\n",
       "      <th>comp.graphics</th>\n",
       "      <th>comp.os.ms-windows.misc</th>\n",
       "      <th>comp.sys.ibm.pc.hardware</th>\n",
       "      <th>comp.sys.mac.hardware</th>\n",
       "      <th>comp.windows.x</th>\n",
       "      <th>misc.forsale</th>\n",
       "      <th>rec.autos</th>\n",
       "      <th>rec.motorcycles</th>\n",
       "      <th>rec.sport.baseball</th>\n",
       "      <th>rec.sport.hockey</th>\n",
       "      <th>sci.crypt</th>\n",
       "      <th>sci.electronics</th>\n",
       "      <th>sci.med</th>\n",
       "      <th>sci.space</th>\n",
       "      <th>soc.religion.christian</th>\n",
       "      <th>talk.politics.guns</th>\n",
       "      <th>talk.politics.mideast</th>\n",
       "      <th>talk.politics.misc</th>\n",
       "      <th>talk.religion.misc</th>\n",
       "    </tr>\n",
       "  </thead>\n",
       "  <tbody>\n",
       "    <tr>\n",
       "      <th>0</th>\n",
       "      <td>58</td>\n",
       "      <td>0</td>\n",
       "      <td>0</td>\n",
       "      <td>0</td>\n",
       "      <td>0</td>\n",
       "      <td>0</td>\n",
       "      <td>0</td>\n",
       "      <td>0</td>\n",
       "      <td>0</td>\n",
       "      <td>0</td>\n",
       "      <td>0</td>\n",
       "      <td>0</td>\n",
       "      <td>1</td>\n",
       "      <td>0</td>\n",
       "      <td>1</td>\n",
       "      <td>0</td>\n",
       "      <td>0</td>\n",
       "      <td>1</td>\n",
       "      <td>0</td>\n",
       "      <td>7</td>\n",
       "    </tr>\n",
       "    <tr>\n",
       "      <th>1</th>\n",
       "      <td>0</td>\n",
       "      <td>83</td>\n",
       "      <td>3</td>\n",
       "      <td>3</td>\n",
       "      <td>2</td>\n",
       "      <td>4</td>\n",
       "      <td>2</td>\n",
       "      <td>1</td>\n",
       "      <td>0</td>\n",
       "      <td>0</td>\n",
       "      <td>0</td>\n",
       "      <td>0</td>\n",
       "      <td>1</td>\n",
       "      <td>1</td>\n",
       "      <td>1</td>\n",
       "      <td>0</td>\n",
       "      <td>0</td>\n",
       "      <td>0</td>\n",
       "      <td>0</td>\n",
       "      <td>0</td>\n",
       "    </tr>\n",
       "    <tr>\n",
       "      <th>2</th>\n",
       "      <td>0</td>\n",
       "      <td>8</td>\n",
       "      <td>94</td>\n",
       "      <td>6</td>\n",
       "      <td>1</td>\n",
       "      <td>6</td>\n",
       "      <td>3</td>\n",
       "      <td>1</td>\n",
       "      <td>0</td>\n",
       "      <td>0</td>\n",
       "      <td>0</td>\n",
       "      <td>2</td>\n",
       "      <td>3</td>\n",
       "      <td>0</td>\n",
       "      <td>0</td>\n",
       "      <td>0</td>\n",
       "      <td>1</td>\n",
       "      <td>0</td>\n",
       "      <td>0</td>\n",
       "      <td>0</td>\n",
       "    </tr>\n",
       "    <tr>\n",
       "      <th>3</th>\n",
       "      <td>0</td>\n",
       "      <td>2</td>\n",
       "      <td>9</td>\n",
       "      <td>65</td>\n",
       "      <td>5</td>\n",
       "      <td>1</td>\n",
       "      <td>2</td>\n",
       "      <td>0</td>\n",
       "      <td>0</td>\n",
       "      <td>0</td>\n",
       "      <td>0</td>\n",
       "      <td>0</td>\n",
       "      <td>7</td>\n",
       "      <td>0</td>\n",
       "      <td>0</td>\n",
       "      <td>0</td>\n",
       "      <td>0</td>\n",
       "      <td>0</td>\n",
       "      <td>0</td>\n",
       "      <td>0</td>\n",
       "    </tr>\n",
       "    <tr>\n",
       "      <th>4</th>\n",
       "      <td>0</td>\n",
       "      <td>2</td>\n",
       "      <td>1</td>\n",
       "      <td>2</td>\n",
       "      <td>90</td>\n",
       "      <td>1</td>\n",
       "      <td>4</td>\n",
       "      <td>0</td>\n",
       "      <td>1</td>\n",
       "      <td>0</td>\n",
       "      <td>0</td>\n",
       "      <td>0</td>\n",
       "      <td>3</td>\n",
       "      <td>0</td>\n",
       "      <td>0</td>\n",
       "      <td>0</td>\n",
       "      <td>0</td>\n",
       "      <td>1</td>\n",
       "      <td>0</td>\n",
       "      <td>0</td>\n",
       "    </tr>\n",
       "    <tr>\n",
       "      <th>5</th>\n",
       "      <td>0</td>\n",
       "      <td>2</td>\n",
       "      <td>3</td>\n",
       "      <td>1</td>\n",
       "      <td>0</td>\n",
       "      <td>85</td>\n",
       "      <td>0</td>\n",
       "      <td>0</td>\n",
       "      <td>0</td>\n",
       "      <td>0</td>\n",
       "      <td>0</td>\n",
       "      <td>1</td>\n",
       "      <td>3</td>\n",
       "      <td>2</td>\n",
       "      <td>0</td>\n",
       "      <td>1</td>\n",
       "      <td>0</td>\n",
       "      <td>0</td>\n",
       "      <td>0</td>\n",
       "      <td>0</td>\n",
       "    </tr>\n",
       "    <tr>\n",
       "      <th>6</th>\n",
       "      <td>0</td>\n",
       "      <td>1</td>\n",
       "      <td>1</td>\n",
       "      <td>8</td>\n",
       "      <td>4</td>\n",
       "      <td>2</td>\n",
       "      <td>83</td>\n",
       "      <td>4</td>\n",
       "      <td>3</td>\n",
       "      <td>1</td>\n",
       "      <td>0</td>\n",
       "      <td>1</td>\n",
       "      <td>3</td>\n",
       "      <td>3</td>\n",
       "      <td>0</td>\n",
       "      <td>1</td>\n",
       "      <td>0</td>\n",
       "      <td>0</td>\n",
       "      <td>0</td>\n",
       "      <td>1</td>\n",
       "    </tr>\n",
       "    <tr>\n",
       "      <th>7</th>\n",
       "      <td>0</td>\n",
       "      <td>0</td>\n",
       "      <td>0</td>\n",
       "      <td>0</td>\n",
       "      <td>0</td>\n",
       "      <td>0</td>\n",
       "      <td>0</td>\n",
       "      <td>93</td>\n",
       "      <td>2</td>\n",
       "      <td>0</td>\n",
       "      <td>0</td>\n",
       "      <td>0</td>\n",
       "      <td>4</td>\n",
       "      <td>2</td>\n",
       "      <td>0</td>\n",
       "      <td>0</td>\n",
       "      <td>0</td>\n",
       "      <td>0</td>\n",
       "      <td>1</td>\n",
       "      <td>2</td>\n",
       "    </tr>\n",
       "    <tr>\n",
       "      <th>8</th>\n",
       "      <td>0</td>\n",
       "      <td>0</td>\n",
       "      <td>0</td>\n",
       "      <td>0</td>\n",
       "      <td>0</td>\n",
       "      <td>0</td>\n",
       "      <td>1</td>\n",
       "      <td>1</td>\n",
       "      <td>80</td>\n",
       "      <td>0</td>\n",
       "      <td>0</td>\n",
       "      <td>0</td>\n",
       "      <td>0</td>\n",
       "      <td>0</td>\n",
       "      <td>0</td>\n",
       "      <td>0</td>\n",
       "      <td>0</td>\n",
       "      <td>0</td>\n",
       "      <td>0</td>\n",
       "      <td>1</td>\n",
       "    </tr>\n",
       "    <tr>\n",
       "      <th>9</th>\n",
       "      <td>0</td>\n",
       "      <td>0</td>\n",
       "      <td>0</td>\n",
       "      <td>0</td>\n",
       "      <td>0</td>\n",
       "      <td>0</td>\n",
       "      <td>1</td>\n",
       "      <td>0</td>\n",
       "      <td>0</td>\n",
       "      <td>100</td>\n",
       "      <td>1</td>\n",
       "      <td>1</td>\n",
       "      <td>2</td>\n",
       "      <td>0</td>\n",
       "      <td>1</td>\n",
       "      <td>0</td>\n",
       "      <td>0</td>\n",
       "      <td>1</td>\n",
       "      <td>2</td>\n",
       "      <td>1</td>\n",
       "    </tr>\n",
       "    <tr>\n",
       "      <th>10</th>\n",
       "      <td>0</td>\n",
       "      <td>0</td>\n",
       "      <td>0</td>\n",
       "      <td>0</td>\n",
       "      <td>0</td>\n",
       "      <td>1</td>\n",
       "      <td>0</td>\n",
       "      <td>0</td>\n",
       "      <td>0</td>\n",
       "      <td>3</td>\n",
       "      <td>93</td>\n",
       "      <td>0</td>\n",
       "      <td>0</td>\n",
       "      <td>0</td>\n",
       "      <td>0</td>\n",
       "      <td>0</td>\n",
       "      <td>0</td>\n",
       "      <td>0</td>\n",
       "      <td>0</td>\n",
       "      <td>0</td>\n",
       "    </tr>\n",
       "    <tr>\n",
       "      <th>11</th>\n",
       "      <td>0</td>\n",
       "      <td>0</td>\n",
       "      <td>0</td>\n",
       "      <td>0</td>\n",
       "      <td>0</td>\n",
       "      <td>0</td>\n",
       "      <td>1</td>\n",
       "      <td>0</td>\n",
       "      <td>0</td>\n",
       "      <td>0</td>\n",
       "      <td>0</td>\n",
       "      <td>99</td>\n",
       "      <td>1</td>\n",
       "      <td>0</td>\n",
       "      <td>0</td>\n",
       "      <td>0</td>\n",
       "      <td>1</td>\n",
       "      <td>1</td>\n",
       "      <td>1</td>\n",
       "      <td>0</td>\n",
       "    </tr>\n",
       "    <tr>\n",
       "      <th>12</th>\n",
       "      <td>0</td>\n",
       "      <td>0</td>\n",
       "      <td>0</td>\n",
       "      <td>1</td>\n",
       "      <td>0</td>\n",
       "      <td>0</td>\n",
       "      <td>1</td>\n",
       "      <td>0</td>\n",
       "      <td>0</td>\n",
       "      <td>0</td>\n",
       "      <td>0</td>\n",
       "      <td>0</td>\n",
       "      <td>78</td>\n",
       "      <td>1</td>\n",
       "      <td>0</td>\n",
       "      <td>0</td>\n",
       "      <td>0</td>\n",
       "      <td>0</td>\n",
       "      <td>0</td>\n",
       "      <td>1</td>\n",
       "    </tr>\n",
       "    <tr>\n",
       "      <th>13</th>\n",
       "      <td>1</td>\n",
       "      <td>1</td>\n",
       "      <td>0</td>\n",
       "      <td>0</td>\n",
       "      <td>1</td>\n",
       "      <td>0</td>\n",
       "      <td>0</td>\n",
       "      <td>2</td>\n",
       "      <td>0</td>\n",
       "      <td>0</td>\n",
       "      <td>1</td>\n",
       "      <td>1</td>\n",
       "      <td>2</td>\n",
       "      <td>87</td>\n",
       "      <td>2</td>\n",
       "      <td>1</td>\n",
       "      <td>1</td>\n",
       "      <td>2</td>\n",
       "      <td>1</td>\n",
       "      <td>2</td>\n",
       "    </tr>\n",
       "    <tr>\n",
       "      <th>14</th>\n",
       "      <td>2</td>\n",
       "      <td>2</td>\n",
       "      <td>0</td>\n",
       "      <td>0</td>\n",
       "      <td>1</td>\n",
       "      <td>0</td>\n",
       "      <td>0</td>\n",
       "      <td>0</td>\n",
       "      <td>0</td>\n",
       "      <td>0</td>\n",
       "      <td>0</td>\n",
       "      <td>0</td>\n",
       "      <td>1</td>\n",
       "      <td>0</td>\n",
       "      <td>69</td>\n",
       "      <td>0</td>\n",
       "      <td>0</td>\n",
       "      <td>0</td>\n",
       "      <td>2</td>\n",
       "      <td>0</td>\n",
       "    </tr>\n",
       "    <tr>\n",
       "      <th>15</th>\n",
       "      <td>4</td>\n",
       "      <td>1</td>\n",
       "      <td>0</td>\n",
       "      <td>0</td>\n",
       "      <td>0</td>\n",
       "      <td>0</td>\n",
       "      <td>0</td>\n",
       "      <td>0</td>\n",
       "      <td>0</td>\n",
       "      <td>0</td>\n",
       "      <td>0</td>\n",
       "      <td>0</td>\n",
       "      <td>0</td>\n",
       "      <td>1</td>\n",
       "      <td>0</td>\n",
       "      <td>96</td>\n",
       "      <td>1</td>\n",
       "      <td>0</td>\n",
       "      <td>2</td>\n",
       "      <td>21</td>\n",
       "    </tr>\n",
       "    <tr>\n",
       "      <th>16</th>\n",
       "      <td>1</td>\n",
       "      <td>0</td>\n",
       "      <td>0</td>\n",
       "      <td>0</td>\n",
       "      <td>0</td>\n",
       "      <td>0</td>\n",
       "      <td>0</td>\n",
       "      <td>1</td>\n",
       "      <td>0</td>\n",
       "      <td>0</td>\n",
       "      <td>0</td>\n",
       "      <td>0</td>\n",
       "      <td>0</td>\n",
       "      <td>2</td>\n",
       "      <td>0</td>\n",
       "      <td>0</td>\n",
       "      <td>89</td>\n",
       "      <td>0</td>\n",
       "      <td>7</td>\n",
       "      <td>4</td>\n",
       "    </tr>\n",
       "    <tr>\n",
       "      <th>17</th>\n",
       "      <td>2</td>\n",
       "      <td>0</td>\n",
       "      <td>0</td>\n",
       "      <td>0</td>\n",
       "      <td>0</td>\n",
       "      <td>0</td>\n",
       "      <td>0</td>\n",
       "      <td>0</td>\n",
       "      <td>0</td>\n",
       "      <td>0</td>\n",
       "      <td>0</td>\n",
       "      <td>0</td>\n",
       "      <td>0</td>\n",
       "      <td>0</td>\n",
       "      <td>0</td>\n",
       "      <td>0</td>\n",
       "      <td>0</td>\n",
       "      <td>84</td>\n",
       "      <td>1</td>\n",
       "      <td>1</td>\n",
       "    </tr>\n",
       "    <tr>\n",
       "      <th>18</th>\n",
       "      <td>2</td>\n",
       "      <td>0</td>\n",
       "      <td>0</td>\n",
       "      <td>0</td>\n",
       "      <td>0</td>\n",
       "      <td>0</td>\n",
       "      <td>0</td>\n",
       "      <td>0</td>\n",
       "      <td>0</td>\n",
       "      <td>0</td>\n",
       "      <td>0</td>\n",
       "      <td>0</td>\n",
       "      <td>0</td>\n",
       "      <td>0</td>\n",
       "      <td>0</td>\n",
       "      <td>0</td>\n",
       "      <td>0</td>\n",
       "      <td>0</td>\n",
       "      <td>62</td>\n",
       "      <td>0</td>\n",
       "    </tr>\n",
       "    <tr>\n",
       "      <th>19</th>\n",
       "      <td>3</td>\n",
       "      <td>0</td>\n",
       "      <td>0</td>\n",
       "      <td>0</td>\n",
       "      <td>0</td>\n",
       "      <td>0</td>\n",
       "      <td>0</td>\n",
       "      <td>0</td>\n",
       "      <td>0</td>\n",
       "      <td>0</td>\n",
       "      <td>0</td>\n",
       "      <td>0</td>\n",
       "      <td>0</td>\n",
       "      <td>0</td>\n",
       "      <td>0</td>\n",
       "      <td>0</td>\n",
       "      <td>0</td>\n",
       "      <td>0</td>\n",
       "      <td>0</td>\n",
       "      <td>34</td>\n",
       "    </tr>\n",
       "  </tbody>\n",
       "</table>\n",
       "</div>"
      ],
      "text/plain": [
       "    alt.atheism  comp.graphics  comp.os.ms-windows.misc  \\\n",
       "0            58              0                        0   \n",
       "1             0             83                        3   \n",
       "2             0              8                       94   \n",
       "3             0              2                        9   \n",
       "4             0              2                        1   \n",
       "5             0              2                        3   \n",
       "6             0              1                        1   \n",
       "7             0              0                        0   \n",
       "8             0              0                        0   \n",
       "9             0              0                        0   \n",
       "10            0              0                        0   \n",
       "11            0              0                        0   \n",
       "12            0              0                        0   \n",
       "13            1              1                        0   \n",
       "14            2              2                        0   \n",
       "15            4              1                        0   \n",
       "16            1              0                        0   \n",
       "17            2              0                        0   \n",
       "18            2              0                        0   \n",
       "19            3              0                        0   \n",
       "\n",
       "    comp.sys.ibm.pc.hardware  comp.sys.mac.hardware  comp.windows.x  \\\n",
       "0                          0                      0               0   \n",
       "1                          3                      2               4   \n",
       "2                          6                      1               6   \n",
       "3                         65                      5               1   \n",
       "4                          2                     90               1   \n",
       "5                          1                      0              85   \n",
       "6                          8                      4               2   \n",
       "7                          0                      0               0   \n",
       "8                          0                      0               0   \n",
       "9                          0                      0               0   \n",
       "10                         0                      0               1   \n",
       "11                         0                      0               0   \n",
       "12                         1                      0               0   \n",
       "13                         0                      1               0   \n",
       "14                         0                      1               0   \n",
       "15                         0                      0               0   \n",
       "16                         0                      0               0   \n",
       "17                         0                      0               0   \n",
       "18                         0                      0               0   \n",
       "19                         0                      0               0   \n",
       "\n",
       "    misc.forsale  rec.autos  rec.motorcycles  rec.sport.baseball  \\\n",
       "0              0          0                0                   0   \n",
       "1              2          1                0                   0   \n",
       "2              3          1                0                   0   \n",
       "3              2          0                0                   0   \n",
       "4              4          0                1                   0   \n",
       "5              0          0                0                   0   \n",
       "6             83          4                3                   1   \n",
       "7              0         93                2                   0   \n",
       "8              1          1               80                   0   \n",
       "9              1          0                0                 100   \n",
       "10             0          0                0                   3   \n",
       "11             1          0                0                   0   \n",
       "12             1          0                0                   0   \n",
       "13             0          2                0                   0   \n",
       "14             0          0                0                   0   \n",
       "15             0          0                0                   0   \n",
       "16             0          1                0                   0   \n",
       "17             0          0                0                   0   \n",
       "18             0          0                0                   0   \n",
       "19             0          0                0                   0   \n",
       "\n",
       "    rec.sport.hockey  sci.crypt  sci.electronics  sci.med  sci.space  \\\n",
       "0                  0          0                1        0          1   \n",
       "1                  0          0                1        1          1   \n",
       "2                  0          2                3        0          0   \n",
       "3                  0          0                7        0          0   \n",
       "4                  0          0                3        0          0   \n",
       "5                  0          1                3        2          0   \n",
       "6                  0          1                3        3          0   \n",
       "7                  0          0                4        2          0   \n",
       "8                  0          0                0        0          0   \n",
       "9                  1          1                2        0          1   \n",
       "10                93          0                0        0          0   \n",
       "11                 0         99                1        0          0   \n",
       "12                 0          0               78        1          0   \n",
       "13                 1          1                2       87          2   \n",
       "14                 0          0                1        0         69   \n",
       "15                 0          0                0        1          0   \n",
       "16                 0          0                0        2          0   \n",
       "17                 0          0                0        0          0   \n",
       "18                 0          0                0        0          0   \n",
       "19                 0          0                0        0          0   \n",
       "\n",
       "    soc.religion.christian  talk.politics.guns  talk.politics.mideast  \\\n",
       "0                        0                   0                      1   \n",
       "1                        0                   0                      0   \n",
       "2                        0                   1                      0   \n",
       "3                        0                   0                      0   \n",
       "4                        0                   0                      1   \n",
       "5                        1                   0                      0   \n",
       "6                        1                   0                      0   \n",
       "7                        0                   0                      0   \n",
       "8                        0                   0                      0   \n",
       "9                        0                   0                      1   \n",
       "10                       0                   0                      0   \n",
       "11                       0                   1                      1   \n",
       "12                       0                   0                      0   \n",
       "13                       1                   1                      2   \n",
       "14                       0                   0                      0   \n",
       "15                      96                   1                      0   \n",
       "16                       0                  89                      0   \n",
       "17                       0                   0                     84   \n",
       "18                       0                   0                      0   \n",
       "19                       0                   0                      0   \n",
       "\n",
       "    talk.politics.misc  talk.religion.misc  \n",
       "0                    0                   7  \n",
       "1                    0                   0  \n",
       "2                    0                   0  \n",
       "3                    0                   0  \n",
       "4                    0                   0  \n",
       "5                    0                   0  \n",
       "6                    0                   1  \n",
       "7                    1                   2  \n",
       "8                    0                   1  \n",
       "9                    2                   1  \n",
       "10                   0                   0  \n",
       "11                   1                   0  \n",
       "12                   0                   1  \n",
       "13                   1                   2  \n",
       "14                   2                   0  \n",
       "15                   2                  21  \n",
       "16                   7                   4  \n",
       "17                   1                   1  \n",
       "18                  62                   0  \n",
       "19                   0                  34  "
      ]
     },
     "execution_count": 31,
     "metadata": {},
     "output_type": "execute_result"
    }
   ],
   "source": [
    "# Test with test set\n",
    "data_news_test_y_pred = clf.predict(data_news_test_x)\n",
    "conf_mat = confusion_matrix(data_news_test_y_pred, data_news_test_y)\n",
    "\n",
    "# create data frame with category names\n",
    "df_matrix = pd.DataFrame(conf_mat, columns=data_news.target_names)\n",
    "df_matrix"
   ]
  },
  {
   "cell_type": "markdown",
   "metadata": {},
   "source": [
    "The diagonal of the confusion matrix contains the highest values. This shows that the most articles were classified in the correct categories.  \n",
    "The classification for the category `soc.religion.christian` was the imprecisest, many articles were classified as `talk.religion.misc`.  \n",
    "Other outliers belong to similar categories, too: `alt.atheism` as `talk.religion.misc` or `comp.os.ms-windows.misc` as `comp.sys.ibm.pc.hardware`.  \n",
    "Therefore the model seems to fit well."
   ]
  },
  {
   "cell_type": "code",
   "execution_count": 36,
   "metadata": {
    "collapsed": false
   },
   "outputs": [
    {
     "data": {
      "text/html": [
       "<div>\n",
       "<style>\n",
       "    .dataframe thead tr:only-child th {\n",
       "        text-align: right;\n",
       "    }\n",
       "\n",
       "    .dataframe thead th {\n",
       "        text-align: left;\n",
       "    }\n",
       "\n",
       "    .dataframe tbody tr th {\n",
       "        vertical-align: top;\n",
       "    }\n",
       "</style>\n",
       "<table border=\"1\" class=\"dataframe\">\n",
       "  <thead>\n",
       "    <tr style=\"text-align: right;\">\n",
       "      <th></th>\n",
       "      <th>word</th>\n",
       "      <th>importance</th>\n",
       "    </tr>\n",
       "  </thead>\n",
       "  <tbody>\n",
       "    <tr>\n",
       "      <th>131596</th>\n",
       "      <td>sale</td>\n",
       "      <td>0.004196</td>\n",
       "    </tr>\n",
       "    <tr>\n",
       "      <th>156515</th>\n",
       "      <td>windows</td>\n",
       "      <td>0.004043</td>\n",
       "    </tr>\n",
       "    <tr>\n",
       "      <th>61901</th>\n",
       "      <td>dod</td>\n",
       "      <td>0.003728</td>\n",
       "    </tr>\n",
       "    <tr>\n",
       "      <th>43199</th>\n",
       "      <td>bike</td>\n",
       "      <td>0.003387</td>\n",
       "    </tr>\n",
       "    <tr>\n",
       "      <th>48921</th>\n",
       "      <td>car</td>\n",
       "      <td>0.003351</td>\n",
       "    </tr>\n",
       "    <tr>\n",
       "      <th>112983</th>\n",
       "      <td>of</td>\n",
       "      <td>0.002847</td>\n",
       "    </tr>\n",
       "    <tr>\n",
       "      <th>144004</th>\n",
       "      <td>the</td>\n",
       "      <td>0.002763</td>\n",
       "    </tr>\n",
       "    <tr>\n",
       "      <th>52148</th>\n",
       "      <td>clipper</td>\n",
       "      <td>0.002748</td>\n",
       "    </tr>\n",
       "    <tr>\n",
       "      <th>125883</th>\n",
       "      <td>re</td>\n",
       "      <td>0.002535</td>\n",
       "    </tr>\n",
       "    <tr>\n",
       "      <th>84613</th>\n",
       "      <td>in</td>\n",
       "      <td>0.002532</td>\n",
       "    </tr>\n",
       "  </tbody>\n",
       "</table>\n",
       "</div>"
      ],
      "text/plain": [
       "           word  importance\n",
       "131596     sale    0.004196\n",
       "156515  windows    0.004043\n",
       "61901       dod    0.003728\n",
       "43199      bike    0.003387\n",
       "48921       car    0.003351\n",
       "112983       of    0.002847\n",
       "144004      the    0.002763\n",
       "52148   clipper    0.002748\n",
       "125883       re    0.002535\n",
       "84613        in    0.002532"
      ]
     },
     "execution_count": 36,
     "metadata": {},
     "output_type": "execute_result"
    }
   ],
   "source": [
    "# get feature importance\n",
    "feature_importance = clf.steps[1][1].feature_importances_\n",
    "\n",
    "# get created dictionary from Vectorizer and map id to word\n",
    "vocabulary = clf.steps[0][1].vocabulary_\n",
    "voc_array = [None] * len(vocabulary.keys())\n",
    "for key,val in vocabulary.items():\n",
    "    voc_array[val] = key\n",
    "voc_importance = np.asarray([voc_array, feature_importance]).T\n",
    "\n",
    "# create dataframe with aquired information\n",
    "df_voc = pd.DataFrame(voc_importance, columns=[\"word\", \"importance\"])\n",
    "df_voc['importance'] = pd.to_numeric(df_voc['importance'])\n",
    "df_voc_top = df_voc.sort_values(by=['importance'], ascending=False).head(10)\n",
    "df_voc_top"
   ]
  },
  {
   "cell_type": "markdown",
   "metadata": {},
   "source": [
    "The feature importance in general is very low. This is caused by the total amount of features.  \n",
    "Words like `windows`, `bike` or `car` are one of the most important features and can give an indication for the category.  \n",
    "However, also words like `of`, `the` or `in` are in the top features which cannot help to classify the document."
   ]
  },
  {
   "cell_type": "code",
   "execution_count": null,
   "metadata": {},
   "outputs": [],
   "source": []
  }
 ],
 "metadata": {
  "anaconda-cloud": {},
  "kernelspec": {
   "display_name": "Python [default]",
   "language": "python",
   "name": "Python [Root]"
  },
  "language_info": {
   "codemirror_mode": {
    "name": "ipython",
    "version": 3
   },
   "file_extension": ".py",
   "mimetype": "text/x-python",
   "name": "python",
   "nbconvert_exporter": "python",
   "pygments_lexer": "ipython3",
   "version": "3.6.2"
  }
 },
 "nbformat": 4,
 "nbformat_minor": 1
}
