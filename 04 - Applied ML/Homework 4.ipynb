{
 "cells": [
  {
   "cell_type": "markdown",
   "metadata": {},
   "source": [
    "## Deadline\n",
    "\n",
    "Wednesday, November 22, 2017, 11:59PM\n",
    "\n",
    "## Important notes\n",
    "\n",
    "- When you push your Notebook to GitHub, all the cells must already have been evaluated.\n",
    "- Don't forget to add a textual description of your thought process and of any assumptions you've made.\n",
    "- Please write all your comments in English, and use meaningful variable names in your code.\n",
    "\n",
    "## Question 1: Propensity score matching\n",
    "\n",
    "In this exercise, you will apply [propensity score matching](http://www.stewartschultz.com/statistics/books/Design%20of%20observational%20studies.pdf), which we discussed in lecture 5 (\"Observational studies\"), in order to draw conclusions from an observational study.\n",
    "\n",
    "We will work with a by-now classic dataset from Robert LaLonde's study \"[Evaluating the Econometric Evaluations of Training Programs](http://people.hbs.edu/nashraf/LaLonde_1986.pdf)\" (1986).\n",
    "The study investigated the effect of a job training program (\"National Supported Work Demonstration\") on the real earnings of an individual, a couple of years after completion of the program.\n",
    "Your task is to determine the effectiveness of the \"treatment\" represented by the job training program.\n",
    "\n",
    "#### Dataset description\n",
    "\n",
    "- `treat`: 1 if the subject participated in the job training program, 0 otherwise\n",
    "- `age`: the subject's age\n",
    "- `educ`: years of education\n",
    "- `race`: categorical variable with three possible values: Black, Hispanic, or White\n",
    "- `married`: 1 if the subject was married at the time of the training program, 0 otherwise\n",
    "- `nodegree`: 1 if the subject has earned no school degree, 0 otherwise\n",
    "- `re74`: real earnings in 1974 (pre-treatment)\n",
    "- `re75`: real earnings in 1975 (pre-treatment)\n",
    "- `re78`: real earnings in 1978 (outcome)\n",
    "\n",
    "If you want to brush up your knowledge on propensity scores and observational studies, we highly recommend Rosenbaum's excellent book on the [\"Design of Observational Studies\"](http://www.stewartschultz.com/statistics/books/Design%20of%20observational%20studies.pdf). Even just reading the first chapter (18 pages) will help you a lot.\n",
    "\n",
    "#### 1. A naive analysis\n",
    "\n",
    "Compare the distribution of the outcome variable (`re78`) between the two groups, using plots and numbers.\n",
    "To summarize and compare the distributions, you may use the techniques we discussed in lectures 4 (\"Read the stats carefully\") and 6 (\"Data visualization\").\n",
    "\n",
    "What might a naive \"researcher\" conclude from this superficial analysis?\n",
    "\n",
    "#### 2. A closer look at the data\n",
    "\n",
    "You're not naive, of course (and even if you are, you've learned certain things in ADA), so you aren't content with a superficial analysis such as the above.\n",
    "You're aware of the dangers of observational studies, so you take a closer look at the data before jumping to conclusions.\n",
    "\n",
    "For each feature in the dataset, compare its distribution in the treated group with its distribution in the control group, using plots and numbers.\n",
    "As above, you may use the techniques we discussed in class for summarizing and comparing the distributions.\n",
    "\n",
    "What do you observe?\n",
    "Describe what your observations mean for the conclusions drawn by the naive \"researcher\" from his superficial analysis.\n",
    "\n",
    "#### 3. A propensity score model\n",
    "\n",
    "Use logistic regression to estimate propensity scores for all points in the dataset.\n",
    "You may use `sklearn` to fit the logistic regression model and apply it to each data point to obtain propensity scores:\n",
    "\n",
    "```python\n",
    "from sklearn import linear_model\n",
    "logistic = linear_model.LogisticRegression()\n",
    "```\n",
    "\n",
    "Recall that the propensity score of a data point represents its probability of receiving the treatment, based on its pre-treatment features (in this case, age, education, pre-treatment income, etc.).\n",
    "To brush up on propensity scores, you may read chapter 3.3 of the above-cited book by Rosenbaum or [this article](https://drive.google.com/file/d/0B4jctQY-uqhzTlpBaTBJRTJFVFE/view).\n",
    "\n",
    "Note: you do not need a train/test split here. Train and apply the model on the entire dataset. If you're wondering why this is the right thing to do in this situation, recall that the propensity score model is not used in order to make predictions about unseen data. Its sole purpose is to balance the dataset across treatment groups.\n",
    "(See p. 74 of Rosenbaum's book for an explanation why slight overfitting is even good for propensity scores.\n",
    "If you want even more information, read [this article](https://drive.google.com/file/d/0B4jctQY-uqhzTlpBaTBJRTJFVFE/view).)\n",
    "\n",
    "#### 4. Balancing the dataset via matching\n",
    "\n",
    "Use the propensity scores to match each data point from the treated group with exactly one data point from the control group, while ensuring that each data point from the control group is matched with at most one data point from the treated group.\n",
    "(Hint: you may explore the `networkx` package in Python for predefined matching functions.)\n",
    "\n",
    "Your matching should maximize the similarity between matched subjects, as captured by their propensity scores.\n",
    "In other words, the sum (over all matched pairs) of absolute propensity-score differences between the two matched subjects should be minimized.\n",
    "\n",
    "After matching, you have as many treated as you have control subjects.\n",
    "Compare the outcomes (`re78`) between the two groups (treated and control).\n",
    "\n",
    "Also, compare again the feature-value distributions between the two groups, as you've done in part 2 above, but now only for the matched subjects.\n",
    "What do you observe?\n",
    "Are you closer to being able to draw valid conclusions now than you were before?\n",
    "\n",
    "\n",
    "#### 5. Balancing the groups further\n",
    "\n",
    "Based on your comparison of feature-value distributions from part 4, are you fully satisfied with your matching?\n",
    "Would you say your dataset is sufficiently balanced?\n",
    "If not, in what ways could the \"balanced\" dataset you have obtained still not allow you to draw valid conclusions?\n",
    "\n",
    "Improve your matching by explicitly making sure that you match only subjects that have the same value for the problematic feature.\n",
    "Argue with numbers and plots that the two groups (treated and control) are now better balanced than after part 4.\n",
    "\n",
    "\n",
    "#### 6. A less naive analysis\n",
    "\n",
    "Compare the outcomes (`re78`) between treated and control subjects, as you've done in part 1, but now only for the matched dataset you've obtained from part 5.\n",
    "What do you conclude about the effectiveness of the job training program?\n",
    "\n",
    "\n",
    "___\n",
    "\n",
    "## Question 2: Applied ML\n",
    "\n",
    "We are going to build a classifier of news to directly assign them to 20 news categories. Note that the pipeline that you will build in this exercise could be of great help during your project if you plan to work with text!\n",
    "\n",
    "1. Load the 20newsgroup dataset. It is, again, a classic dataset that can directly be loaded using sklearn ([link](http://scikit-learn.org/stable/datasets/twenty_newsgroups.html)).  \n",
    "[TF-IDF](https://en.wikipedia.org/wiki/Tf%E2%80%93idf), short for term frequency–inverse document frequency, is of great help when if comes to compute textual features. Indeed, it gives more importance to terms that are more specific to the considered articles (TF) but reduces the importance of terms that are very frequent in the entire corpus (IDF). Compute TF-IDF features for every article using [TfidfVectorizer](http://scikit-learn.org/stable/modules/generated/sklearn.feature_extraction.text.TfidfVectorizer.html). Then, split your dataset into a training, a testing and a validation set (10% for validation and 10% for testing). Each observation should be paired with its corresponding label (the article category).\n",
    "\n",
    "\n",
    "2. Train a random forest on your training set. Try to fine-tune the parameters of your predictor on your validation set using a simple grid search on the number of estimator \"n_estimators\" and the max depth of the trees \"max_depth\". Then, display a confusion matrix of your classification pipeline. Lastly, once you assessed your model, inspect the `feature_importances_` attribute of your random forest and discuss the obtained results.\n",
    "\n",
    "\n"
   ]
  },
  {
   "cell_type": "code",
   "execution_count": 1,
   "metadata": {
    "collapsed": true
   },
   "outputs": [],
   "source": [
    "import pandas as pd\n",
    "import numpy as np\n",
    "import json\n",
    "import os\n",
    "import csv\n",
    "import matplotlib.pyplot as plt\n",
    "from sklearn import linear_model\n",
    "import networkx as nx\n",
    "from networkx.algorithms import bipartite\n",
    "import seaborn as sns\n",
    "\n",
    "# Ex 2\n",
    "from sklearn.datasets import fetch_20newsgroups\n",
    "from sklearn.pipeline import Pipeline\n",
    "from sklearn.model_selection import train_test_split\n",
    "from sklearn.model_selection import GridSearchCV\n",
    "from sklearn.feature_extraction.text import TfidfVectorizer\n",
    "from sklearn.ensemble import RandomForestClassifier\n",
    "from sklearn.metrics import confusion_matrix\n",
    "\n",
    "%matplotlib inline"
   ]
  },
  {
   "cell_type": "code",
   "execution_count": 2,
   "metadata": {
    "collapsed": true
   },
   "outputs": [],
   "source": [
    "\n",
    "data = 'lalonde.csv'"
   ]
  },
  {
   "cell_type": "code",
   "execution_count": 3,
   "metadata": {},
   "outputs": [
    {
     "data": {
      "text/html": [
       "<div>\n",
       "<style>\n",
       "    .dataframe thead tr:only-child th {\n",
       "        text-align: right;\n",
       "    }\n",
       "\n",
       "    .dataframe thead th {\n",
       "        text-align: left;\n",
       "    }\n",
       "\n",
       "    .dataframe tbody tr th {\n",
       "        vertical-align: top;\n",
       "    }\n",
       "</style>\n",
       "<table border=\"1\" class=\"dataframe\">\n",
       "  <thead>\n",
       "    <tr style=\"text-align: right;\">\n",
       "      <th></th>\n",
       "      <th>id</th>\n",
       "      <th>treat</th>\n",
       "      <th>age</th>\n",
       "      <th>educ</th>\n",
       "      <th>black</th>\n",
       "      <th>hispan</th>\n",
       "      <th>married</th>\n",
       "      <th>nodegree</th>\n",
       "      <th>re74</th>\n",
       "      <th>re75</th>\n",
       "      <th>re78</th>\n",
       "    </tr>\n",
       "  </thead>\n",
       "  <tbody>\n",
       "    <tr>\n",
       "      <th>0</th>\n",
       "      <td>NSW1</td>\n",
       "      <td>1</td>\n",
       "      <td>37</td>\n",
       "      <td>11</td>\n",
       "      <td>1</td>\n",
       "      <td>0</td>\n",
       "      <td>1</td>\n",
       "      <td>1</td>\n",
       "      <td>0.0</td>\n",
       "      <td>0.0</td>\n",
       "      <td>9930.0460</td>\n",
       "    </tr>\n",
       "    <tr>\n",
       "      <th>1</th>\n",
       "      <td>NSW2</td>\n",
       "      <td>1</td>\n",
       "      <td>22</td>\n",
       "      <td>9</td>\n",
       "      <td>0</td>\n",
       "      <td>1</td>\n",
       "      <td>0</td>\n",
       "      <td>1</td>\n",
       "      <td>0.0</td>\n",
       "      <td>0.0</td>\n",
       "      <td>3595.8940</td>\n",
       "    </tr>\n",
       "    <tr>\n",
       "      <th>2</th>\n",
       "      <td>NSW3</td>\n",
       "      <td>1</td>\n",
       "      <td>30</td>\n",
       "      <td>12</td>\n",
       "      <td>1</td>\n",
       "      <td>0</td>\n",
       "      <td>0</td>\n",
       "      <td>0</td>\n",
       "      <td>0.0</td>\n",
       "      <td>0.0</td>\n",
       "      <td>24909.4500</td>\n",
       "    </tr>\n",
       "    <tr>\n",
       "      <th>3</th>\n",
       "      <td>NSW4</td>\n",
       "      <td>1</td>\n",
       "      <td>27</td>\n",
       "      <td>11</td>\n",
       "      <td>1</td>\n",
       "      <td>0</td>\n",
       "      <td>0</td>\n",
       "      <td>1</td>\n",
       "      <td>0.0</td>\n",
       "      <td>0.0</td>\n",
       "      <td>7506.1460</td>\n",
       "    </tr>\n",
       "    <tr>\n",
       "      <th>4</th>\n",
       "      <td>NSW5</td>\n",
       "      <td>1</td>\n",
       "      <td>33</td>\n",
       "      <td>8</td>\n",
       "      <td>1</td>\n",
       "      <td>0</td>\n",
       "      <td>0</td>\n",
       "      <td>1</td>\n",
       "      <td>0.0</td>\n",
       "      <td>0.0</td>\n",
       "      <td>289.7899</td>\n",
       "    </tr>\n",
       "  </tbody>\n",
       "</table>\n",
       "</div>"
      ],
      "text/plain": [
       "     id  treat  age  educ  black  hispan  married  nodegree  re74  re75  \\\n",
       "0  NSW1      1   37    11      1       0        1         1   0.0   0.0   \n",
       "1  NSW2      1   22     9      0       1        0         1   0.0   0.0   \n",
       "2  NSW3      1   30    12      1       0        0         0   0.0   0.0   \n",
       "3  NSW4      1   27    11      1       0        0         1   0.0   0.0   \n",
       "4  NSW5      1   33     8      1       0        0         1   0.0   0.0   \n",
       "\n",
       "         re78  \n",
       "0   9930.0460  \n",
       "1   3595.8940  \n",
       "2  24909.4500  \n",
       "3   7506.1460  \n",
       "4    289.7899  "
      ]
     },
     "execution_count": 3,
     "metadata": {},
     "output_type": "execute_result"
    }
   ],
   "source": [
    "df = pd.read_csv(data)\n",
    "df.head()"
   ]
  },
  {
   "cell_type": "code",
   "execution_count": 4,
   "metadata": {},
   "outputs": [
    {
     "data": {
      "text/html": [
       "<div>\n",
       "<style>\n",
       "    .dataframe thead tr:only-child th {\n",
       "        text-align: right;\n",
       "    }\n",
       "\n",
       "    .dataframe thead th {\n",
       "        text-align: left;\n",
       "    }\n",
       "\n",
       "    .dataframe tbody tr th {\n",
       "        vertical-align: top;\n",
       "    }\n",
       "</style>\n",
       "<table border=\"1\" class=\"dataframe\">\n",
       "  <thead>\n",
       "    <tr style=\"text-align: right;\">\n",
       "      <th></th>\n",
       "      <th>treat</th>\n",
       "      <th>age</th>\n",
       "      <th>educ</th>\n",
       "      <th>black</th>\n",
       "      <th>hispan</th>\n",
       "      <th>married</th>\n",
       "      <th>nodegree</th>\n",
       "      <th>re74</th>\n",
       "      <th>re75</th>\n",
       "      <th>re78</th>\n",
       "    </tr>\n",
       "  </thead>\n",
       "  <tbody>\n",
       "    <tr>\n",
       "      <th>count</th>\n",
       "      <td>614.000000</td>\n",
       "      <td>614.000000</td>\n",
       "      <td>614.000000</td>\n",
       "      <td>614.000000</td>\n",
       "      <td>614.000000</td>\n",
       "      <td>614.000000</td>\n",
       "      <td>614.000000</td>\n",
       "      <td>614.000000</td>\n",
       "      <td>614.000000</td>\n",
       "      <td>614.000000</td>\n",
       "    </tr>\n",
       "    <tr>\n",
       "      <th>mean</th>\n",
       "      <td>0.301303</td>\n",
       "      <td>27.363192</td>\n",
       "      <td>10.268730</td>\n",
       "      <td>0.395765</td>\n",
       "      <td>0.117264</td>\n",
       "      <td>0.415309</td>\n",
       "      <td>0.630293</td>\n",
       "      <td>4557.546569</td>\n",
       "      <td>2184.938207</td>\n",
       "      <td>6792.834483</td>\n",
       "    </tr>\n",
       "    <tr>\n",
       "      <th>std</th>\n",
       "      <td>0.459198</td>\n",
       "      <td>9.881187</td>\n",
       "      <td>2.628325</td>\n",
       "      <td>0.489413</td>\n",
       "      <td>0.321997</td>\n",
       "      <td>0.493177</td>\n",
       "      <td>0.483119</td>\n",
       "      <td>6477.964479</td>\n",
       "      <td>3295.679043</td>\n",
       "      <td>7470.730792</td>\n",
       "    </tr>\n",
       "    <tr>\n",
       "      <th>min</th>\n",
       "      <td>0.000000</td>\n",
       "      <td>16.000000</td>\n",
       "      <td>0.000000</td>\n",
       "      <td>0.000000</td>\n",
       "      <td>0.000000</td>\n",
       "      <td>0.000000</td>\n",
       "      <td>0.000000</td>\n",
       "      <td>0.000000</td>\n",
       "      <td>0.000000</td>\n",
       "      <td>0.000000</td>\n",
       "    </tr>\n",
       "    <tr>\n",
       "      <th>25%</th>\n",
       "      <td>0.000000</td>\n",
       "      <td>20.000000</td>\n",
       "      <td>9.000000</td>\n",
       "      <td>0.000000</td>\n",
       "      <td>0.000000</td>\n",
       "      <td>0.000000</td>\n",
       "      <td>0.000000</td>\n",
       "      <td>0.000000</td>\n",
       "      <td>0.000000</td>\n",
       "      <td>238.283425</td>\n",
       "    </tr>\n",
       "    <tr>\n",
       "      <th>50%</th>\n",
       "      <td>0.000000</td>\n",
       "      <td>25.000000</td>\n",
       "      <td>11.000000</td>\n",
       "      <td>0.000000</td>\n",
       "      <td>0.000000</td>\n",
       "      <td>0.000000</td>\n",
       "      <td>1.000000</td>\n",
       "      <td>1042.330000</td>\n",
       "      <td>601.548400</td>\n",
       "      <td>4759.018500</td>\n",
       "    </tr>\n",
       "    <tr>\n",
       "      <th>75%</th>\n",
       "      <td>1.000000</td>\n",
       "      <td>32.000000</td>\n",
       "      <td>12.000000</td>\n",
       "      <td>1.000000</td>\n",
       "      <td>0.000000</td>\n",
       "      <td>1.000000</td>\n",
       "      <td>1.000000</td>\n",
       "      <td>7888.498250</td>\n",
       "      <td>3248.987500</td>\n",
       "      <td>10893.592500</td>\n",
       "    </tr>\n",
       "    <tr>\n",
       "      <th>max</th>\n",
       "      <td>1.000000</td>\n",
       "      <td>55.000000</td>\n",
       "      <td>18.000000</td>\n",
       "      <td>1.000000</td>\n",
       "      <td>1.000000</td>\n",
       "      <td>1.000000</td>\n",
       "      <td>1.000000</td>\n",
       "      <td>35040.070000</td>\n",
       "      <td>25142.240000</td>\n",
       "      <td>60307.930000</td>\n",
       "    </tr>\n",
       "  </tbody>\n",
       "</table>\n",
       "</div>"
      ],
      "text/plain": [
       "            treat         age        educ       black      hispan     married  \\\n",
       "count  614.000000  614.000000  614.000000  614.000000  614.000000  614.000000   \n",
       "mean     0.301303   27.363192   10.268730    0.395765    0.117264    0.415309   \n",
       "std      0.459198    9.881187    2.628325    0.489413    0.321997    0.493177   \n",
       "min      0.000000   16.000000    0.000000    0.000000    0.000000    0.000000   \n",
       "25%      0.000000   20.000000    9.000000    0.000000    0.000000    0.000000   \n",
       "50%      0.000000   25.000000   11.000000    0.000000    0.000000    0.000000   \n",
       "75%      1.000000   32.000000   12.000000    1.000000    0.000000    1.000000   \n",
       "max      1.000000   55.000000   18.000000    1.000000    1.000000    1.000000   \n",
       "\n",
       "         nodegree          re74          re75          re78  \n",
       "count  614.000000    614.000000    614.000000    614.000000  \n",
       "mean     0.630293   4557.546569   2184.938207   6792.834483  \n",
       "std      0.483119   6477.964479   3295.679043   7470.730792  \n",
       "min      0.000000      0.000000      0.000000      0.000000  \n",
       "25%      0.000000      0.000000      0.000000    238.283425  \n",
       "50%      1.000000   1042.330000    601.548400   4759.018500  \n",
       "75%      1.000000   7888.498250   3248.987500  10893.592500  \n",
       "max      1.000000  35040.070000  25142.240000  60307.930000  "
      ]
     },
     "execution_count": 4,
     "metadata": {},
     "output_type": "execute_result"
    }
   ],
   "source": [
    "df.describe()"
   ]
  },
  {
   "cell_type": "markdown",
   "metadata": {},
   "source": [
    "## 1.1 Distibution of re78 in function of Treat group"
   ]
  },
  {
   "cell_type": "code",
   "execution_count": 5,
   "metadata": {},
   "outputs": [
    {
     "data": {
      "text/plain": [
       "<matplotlib.axes._subplots.AxesSubplot at 0x11ab52588>"
      ]
     },
     "execution_count": 5,
     "metadata": {},
     "output_type": "execute_result"
    },
    {
     "data": {
      "image/png": "[encoded data removed]",
      "text/plain": [
       "<matplotlib.figure.Figure at 0x11ab52860>"
      ]
     },
     "metadata": {},
     "output_type": "display_data"
    }
   ],
   "source": [
    "df.groupby('treat').size().plot(kind='bar',rot=0,title='Number of People in the Study by Treat')"
   ]
  },
  {
   "cell_type": "markdown",
   "metadata": {
    "collapsed": true
   },
   "source": [
    "By plotting the mean, we see that there is a very large Standard deviation"
   ]
  },
  {
   "cell_type": "code",
   "execution_count": 6,
   "metadata": {},
   "outputs": [
    {
     "data": {
      "text/plain": [
       "<matplotlib.axes._subplots.AxesSubplot at 0x11ab52c50>"
      ]
     },
     "execution_count": 6,
     "metadata": {},
     "output_type": "execute_result"
    },
    {
     "data": {
      "image/png": "[encoded data removed]",
      "text/plain": [
       "<matplotlib.figure.Figure at 0x11df251d0>"
      ]
     },
     "metadata": {},
     "output_type": "display_data"
    }
   ],
   "source": [
    "fig, ax = plt.subplots()\n",
    "errors = df.groupby('treat').re78.std()\n",
    "df.groupby('treat').re78.mean().plot.bar(yerr=errors, ax=ax,title='Mean of real outcome 1978 in function of Treat')"
   ]
  },
  {
   "cell_type": "markdown",
   "metadata": {},
   "source": [
    "Indeed there are some outliers with high value and mean and std are not robust to outliers.\n",
    "But this outliers are only in people that participate to the study"
   ]
  },
  {
   "cell_type": "code",
   "execution_count": 7,
   "metadata": {
    "scrolled": true
   },
   "outputs": [
    {
     "data": {
      "text/plain": [
       "<matplotlib.axes._subplots.AxesSubplot at 0x11e08cdd8>"
      ]
     },
     "execution_count": 7,
     "metadata": {},
     "output_type": "execute_result"
    },
    {
     "data": {
      "image/png": "[encoded data removed]",
      "text/plain": [
       "<matplotlib.figure.Figure at 0x11ab9b898>"
      ]
     },
     "metadata": {},
     "output_type": "display_data"
    }
   ],
   "source": [
    "df[['treat','re78']].boxplot(by='treat')"
   ]
  },
  {
   "cell_type": "markdown",
   "metadata": {},
   "source": [
    "We plot with median and quantile that are resistant to outliers"
   ]
  },
  {
   "cell_type": "code",
   "execution_count": 8,
   "metadata": {},
   "outputs": [
    {
     "data": {
      "text/plain": [
       "<matplotlib.axes._subplots.AxesSubplot at 0x11abb5e48>"
      ]
     },
     "execution_count": 8,
     "metadata": {},
     "output_type": "execute_result"
    },
    {
     "data": {
      "image/png": "[encoded data removed]",
      "text/plain": [
       "<matplotlib.figure.Figure at 0x11e23f6d8>"
      ]
     },
     "metadata": {},
     "output_type": "display_data"
    }
   ],
   "source": [
    "fig, ax = plt.subplots()\n",
    "errors = df.groupby('treat').re78.quantile()\n",
    "df.groupby('treat').re78.median().plot.bar(yerr=errors, ax=ax)"
   ]
  },
  {
   "cell_type": "code",
   "execution_count": 9,
   "metadata": {
    "collapsed": true
   },
   "outputs": [],
   "source": [
    "#df.groupby[['treat','re78']].corr()"
   ]
  },
  {
   "cell_type": "code",
   "execution_count": 10,
   "metadata": {},
   "outputs": [
    {
     "data": {
      "text/plain": [
       "array([[<matplotlib.axes._subplots.AxesSubplot object at 0x11abbc470>]], dtype=object)"
      ]
     },
     "execution_count": 10,
     "metadata": {},
     "output_type": "execute_result"
    },
    {
     "data": {
      "image/png": "[encoded data removed]",
      "text/plain": [
       "<matplotlib.figure.Figure at 0x11e382780>"
      ]
     },
     "metadata": {},
     "output_type": "display_data"
    }
   ],
   "source": [
    "df[df['treat']==1].hist(bins=[0,10000,20000,30000,40000,50000,60000],column=['re78'])"
   ]
  },
  {
   "cell_type": "code",
   "execution_count": 11,
   "metadata": {},
   "outputs": [
    {
     "data": {
      "text/plain": [
       "array([[<matplotlib.axes._subplots.AxesSubplot object at 0x11df09908>]], dtype=object)"
      ]
     },
     "execution_count": 11,
     "metadata": {},
     "output_type": "execute_result"
    },
    {
     "data": {
      "image/png": "[encoded data removed]",
      "text/plain": [
       "<matplotlib.figure.Figure at 0x11e3c40f0>"
      ]
     },
     "metadata": {},
     "output_type": "display_data"
    }
   ],
   "source": [
    "df[df['treat']==0].hist(bins=[0,10000,20000,30000,40000,50000,60000],column=['re78'])"
   ]
  },
  {
   "cell_type": "code",
   "execution_count": null,
   "metadata": {
    "collapsed": true
   },
   "outputs": [],
   "source": []
  },
  {
   "cell_type": "markdown",
   "metadata": {},
   "source": [
    "If we look at the distribution we can see that some really people that took the course indeed have a higher outcome, which is not present for the people that did not took the course.\n",
    "We can then infer that it helps some people to take the course but not all"
   ]
  },
  {
   "cell_type": "markdown",
   "metadata": {},
   "source": [
    "## 1.2 A closer look at the data\n"
   ]
  },
  {
   "cell_type": "code",
   "execution_count": 12,
   "metadata": {},
   "outputs": [
    {
     "data": {
      "text/html": [
       "<div>\n",
       "<style>\n",
       "    .dataframe thead tr:only-child th {\n",
       "        text-align: right;\n",
       "    }\n",
       "\n",
       "    .dataframe thead th {\n",
       "        text-align: left;\n",
       "    }\n",
       "\n",
       "    .dataframe tbody tr th {\n",
       "        vertical-align: top;\n",
       "    }\n",
       "</style>\n",
       "<table border=\"1\" class=\"dataframe\">\n",
       "  <thead>\n",
       "    <tr style=\"text-align: right;\">\n",
       "      <th></th>\n",
       "      <th>treat</th>\n",
       "      <th>age</th>\n",
       "      <th>educ</th>\n",
       "      <th>black</th>\n",
       "      <th>hispan</th>\n",
       "      <th>married</th>\n",
       "      <th>nodegree</th>\n",
       "      <th>re74</th>\n",
       "      <th>re75</th>\n",
       "      <th>re78</th>\n",
       "    </tr>\n",
       "  </thead>\n",
       "  <tbody>\n",
       "    <tr>\n",
       "      <th>count</th>\n",
       "      <td>614.000000</td>\n",
       "      <td>614.000000</td>\n",
       "      <td>614.000000</td>\n",
       "      <td>614.000000</td>\n",
       "      <td>614.000000</td>\n",
       "      <td>614.000000</td>\n",
       "      <td>614.000000</td>\n",
       "      <td>614.000000</td>\n",
       "      <td>614.000000</td>\n",
       "      <td>614.000000</td>\n",
       "    </tr>\n",
       "    <tr>\n",
       "      <th>mean</th>\n",
       "      <td>0.301303</td>\n",
       "      <td>27.363192</td>\n",
       "      <td>10.268730</td>\n",
       "      <td>0.395765</td>\n",
       "      <td>0.117264</td>\n",
       "      <td>0.415309</td>\n",
       "      <td>0.630293</td>\n",
       "      <td>4557.546569</td>\n",
       "      <td>2184.938207</td>\n",
       "      <td>6792.834483</td>\n",
       "    </tr>\n",
       "    <tr>\n",
       "      <th>std</th>\n",
       "      <td>0.459198</td>\n",
       "      <td>9.881187</td>\n",
       "      <td>2.628325</td>\n",
       "      <td>0.489413</td>\n",
       "      <td>0.321997</td>\n",
       "      <td>0.493177</td>\n",
       "      <td>0.483119</td>\n",
       "      <td>6477.964479</td>\n",
       "      <td>3295.679043</td>\n",
       "      <td>7470.730792</td>\n",
       "    </tr>\n",
       "    <tr>\n",
       "      <th>min</th>\n",
       "      <td>0.000000</td>\n",
       "      <td>16.000000</td>\n",
       "      <td>0.000000</td>\n",
       "      <td>0.000000</td>\n",
       "      <td>0.000000</td>\n",
       "      <td>0.000000</td>\n",
       "      <td>0.000000</td>\n",
       "      <td>0.000000</td>\n",
       "      <td>0.000000</td>\n",
       "      <td>0.000000</td>\n",
       "    </tr>\n",
       "    <tr>\n",
       "      <th>25%</th>\n",
       "      <td>0.000000</td>\n",
       "      <td>20.000000</td>\n",
       "      <td>9.000000</td>\n",
       "      <td>0.000000</td>\n",
       "      <td>0.000000</td>\n",
       "      <td>0.000000</td>\n",
       "      <td>0.000000</td>\n",
       "      <td>0.000000</td>\n",
       "      <td>0.000000</td>\n",
       "      <td>238.283425</td>\n",
       "    </tr>\n",
       "    <tr>\n",
       "      <th>50%</th>\n",
       "      <td>0.000000</td>\n",
       "      <td>25.000000</td>\n",
       "      <td>11.000000</td>\n",
       "      <td>0.000000</td>\n",
       "      <td>0.000000</td>\n",
       "      <td>0.000000</td>\n",
       "      <td>1.000000</td>\n",
       "      <td>1042.330000</td>\n",
       "      <td>601.548400</td>\n",
       "      <td>4759.018500</td>\n",
       "    </tr>\n",
       "    <tr>\n",
       "      <th>75%</th>\n",
       "      <td>1.000000</td>\n",
       "      <td>32.000000</td>\n",
       "      <td>12.000000</td>\n",
       "      <td>1.000000</td>\n",
       "      <td>0.000000</td>\n",
       "      <td>1.000000</td>\n",
       "      <td>1.000000</td>\n",
       "      <td>7888.498250</td>\n",
       "      <td>3248.987500</td>\n",
       "      <td>10893.592500</td>\n",
       "    </tr>\n",
       "    <tr>\n",
       "      <th>max</th>\n",
       "      <td>1.000000</td>\n",
       "      <td>55.000000</td>\n",
       "      <td>18.000000</td>\n",
       "      <td>1.000000</td>\n",
       "      <td>1.000000</td>\n",
       "      <td>1.000000</td>\n",
       "      <td>1.000000</td>\n",
       "      <td>35040.070000</td>\n",
       "      <td>25142.240000</td>\n",
       "      <td>60307.930000</td>\n",
       "    </tr>\n",
       "  </tbody>\n",
       "</table>\n",
       "</div>"
      ],
      "text/plain": [
       "            treat         age        educ       black      hispan     married  \\\n",
       "count  614.000000  614.000000  614.000000  614.000000  614.000000  614.000000   \n",
       "mean     0.301303   27.363192   10.268730    0.395765    0.117264    0.415309   \n",
       "std      0.459198    9.881187    2.628325    0.489413    0.321997    0.493177   \n",
       "min      0.000000   16.000000    0.000000    0.000000    0.000000    0.000000   \n",
       "25%      0.000000   20.000000    9.000000    0.000000    0.000000    0.000000   \n",
       "50%      0.000000   25.000000   11.000000    0.000000    0.000000    0.000000   \n",
       "75%      1.000000   32.000000   12.000000    1.000000    0.000000    1.000000   \n",
       "max      1.000000   55.000000   18.000000    1.000000    1.000000    1.000000   \n",
       "\n",
       "         nodegree          re74          re75          re78  \n",
       "count  614.000000    614.000000    614.000000    614.000000  \n",
       "mean     0.630293   4557.546569   2184.938207   6792.834483  \n",
       "std      0.483119   6477.964479   3295.679043   7470.730792  \n",
       "min      0.000000      0.000000      0.000000      0.000000  \n",
       "25%      0.000000      0.000000      0.000000    238.283425  \n",
       "50%      1.000000   1042.330000    601.548400   4759.018500  \n",
       "75%      1.000000   7888.498250   3248.987500  10893.592500  \n",
       "max      1.000000  35040.070000  25142.240000  60307.930000  "
      ]
     },
     "execution_count": 12,
     "metadata": {},
     "output_type": "execute_result"
    }
   ],
   "source": [
    "df.describe()"
   ]
  },
  {
   "cell_type": "code",
   "execution_count": 13,
   "metadata": {},
   "outputs": [
    {
     "name": "stdout",
     "output_type": "stream",
     "text": [
      "\n"
     ]
    },
    {
     "data": {
      "image/png": "[encoded data removed]",
      "text/plain": [
       "<matplotlib.figure.Figure at 0x11e5859b0>"
      ]
     },
     "metadata": {},
     "output_type": "display_data"
    }
   ],
   "source": [
    "cg = sns.clustermap(df.corr(), linewidth=.5, figsize=(9,9),cmap='mako')\n",
    "plt.setp(cg)"
   ]
  },
  {
   "cell_type": "code",
   "execution_count": 14,
   "metadata": {
    "collapsed": true
   },
   "outputs": [],
   "source": [
    "t1= df[df['treat']==0]\n",
    "t2 = df[df['treat']==1]\n",
    "t1.columns = ['id','treat','ageControl','educControl','blackControl','hispanControl','marriedControl','noDegreeControl','re74Control','re75Control','re78Control']\n",
    "t2.columns = ['id','treat','ageTreated','educTreated','blackTreated','hispTreated','marriedTreated','noDegreeTreated','re74Treated','re75Treated','re78Treated']"
   ]
  },
  {
   "cell_type": "markdown",
   "metadata": {},
   "source": [
    "We separated the control and treated group so that we can plot both and compare the distribution of each attribiutes"
   ]
  },
  {
   "cell_type": "code",
   "execution_count": 15,
   "metadata": {},
   "outputs": [
    {
     "data": {
      "text/plain": [
       "<matplotlib.axes._subplots.AxesSubplot at 0x11ea747b8>"
      ]
     },
     "execution_count": 15,
     "metadata": {},
     "output_type": "execute_result"
    },
    {
     "data": {
      "image/png": "[encoded data removed]",
      "text/plain": [
       "<matplotlib.figure.Figure at 0x11ea92358>"
      ]
     },
     "metadata": {},
     "output_type": "display_data"
    }
   ],
   "source": [
    "t1.ageControl.plot(kind='hist',legend=True)\n",
    "t2.ageTreated.plot(kind='hist',legend=True)"
   ]
  },
  {
   "cell_type": "markdown",
   "metadata": {},
   "source": [
    "So in term of age, the distribion is quite the same except that in the treated group there are really small number of people older than 40 years old and there is no people older than 50, while in the Control group there are some old people ( 50 and older ) and are more equally distributed"
   ]
  },
  {
   "cell_type": "code",
   "execution_count": 16,
   "metadata": {},
   "outputs": [
    {
     "data": {
      "text/plain": [
       "<matplotlib.axes._subplots.AxesSubplot at 0x11ea923c8>"
      ]
     },
     "execution_count": 16,
     "metadata": {},
     "output_type": "execute_result"
    },
    {
     "data": {
      "image/png": "[encoded data removed]",
      "text/plain": [
       "<matplotlib.figure.Figure at 0x11eb7ed68>"
      ]
     },
     "metadata": {},
     "output_type": "display_data"
    }
   ],
   "source": [
    "t1.educControl.plot(kind='hist',legend=True)\n",
    "t2.educTreated.plot(kind='hist',legend=True)"
   ]
  },
  {
   "cell_type": "markdown",
   "metadata": {},
   "source": [
    "Here the distribution is almost the same again but in the treated group we do not have the sides ( no high years of education ( more than 15) , and no low education year ( no one under 4 years).\n",
    "In the control group we have people that have no year of education.\n",
    "So here the problem is that in the treated group you have no people with low year of education, that might influence a lot on the effect of the treatment"
   ]
  },
  {
   "cell_type": "code",
   "execution_count": 17,
   "metadata": {},
   "outputs": [
    {
     "data": {
      "image/png": "[encoded data removed]",
      "text/plain": [
       "<matplotlib.figure.Figure at 0x11edfbbe0>"
      ]
     },
     "metadata": {},
     "output_type": "display_data"
    },
    {
     "data": {
      "text/plain": [
       "<matplotlib.axes._subplots.AxesSubplot at 0x11e8458d0>"
      ]
     },
     "execution_count": 17,
     "metadata": {},
     "output_type": "execute_result"
    },
    {
     "data": {
      "image/png": "[encoded data removed]",
      "text/plain": [
       "<matplotlib.figure.Figure at 0x11e83a0b8>"
      ]
     },
     "metadata": {},
     "output_type": "display_data"
    }
   ],
   "source": [
    "t1.blackControl.plot(kind='hist',legend=True)\n",
    "plt.show()\n",
    "t2.blackTreated.plot(kind='hist',legend=True)"
   ]
  },
  {
   "cell_type": "markdown",
   "metadata": {},
   "source": [
    "We can see that in the treated group a lot of subject are black (150 over 180), while in the control group lot are not (300 over 450)"
   ]
  },
  {
   "cell_type": "code",
   "execution_count": 18,
   "metadata": {},
   "outputs": [
    {
     "data": {
      "text/plain": [
       "<matplotlib.axes._subplots.AxesSubplot at 0x11ef4bb70>"
      ]
     },
     "execution_count": 18,
     "metadata": {},
     "output_type": "execute_result"
    },
    {
     "data": {
      "image/png": "[encoded data removed]",
      "text/plain": [
       "<matplotlib.figure.Figure at 0x11e58e4a8>"
      ]
     },
     "metadata": {},
     "output_type": "display_data"
    }
   ],
   "source": [
    "t1.hispanControl.plot(kind='hist',legend=True)\n",
    "\n",
    "t2.hispTreated.plot(kind='hist',legend=True)"
   ]
  },
  {
   "cell_type": "markdown",
   "metadata": {},
   "source": [
    "Here there is a little less hispan treated, but the dispartity is not that high, it's just that there is a small amount of hispan in the treated group"
   ]
  },
  {
   "cell_type": "code",
   "execution_count": 19,
   "metadata": {},
   "outputs": [
    {
     "data": {
      "text/plain": [
       "<matplotlib.axes._subplots.AxesSubplot at 0x11ed4d208>"
      ]
     },
     "execution_count": 19,
     "metadata": {},
     "output_type": "execute_result"
    },
    {
     "data": {
      "image/png": "[encoded data removed]",
      "text/plain": [
       "<matplotlib.figure.Figure at 0x11e58e080>"
      ]
     },
     "metadata": {},
     "output_type": "display_data"
    }
   ],
   "source": [
    "t1.marriedControl.plot(kind='hist',legend=True)\n",
    "t2.marriedTreated.plot(kind='hist',legend=True)"
   ]
  },
  {
   "cell_type": "markdown",
   "metadata": {},
   "source": [
    "The number of people married in the control Group is really low"
   ]
  },
  {
   "cell_type": "code",
   "execution_count": 20,
   "metadata": {},
   "outputs": [
    {
     "data": {
      "text/plain": [
       "<matplotlib.axes._subplots.AxesSubplot at 0x11f14bb38>"
      ]
     },
     "execution_count": 20,
     "metadata": {},
     "output_type": "execute_result"
    },
    {
     "data": {
      "image/png": "[encoded data removed]",
      "text/plain": [
       "<matplotlib.figure.Figure at 0x11eed67b8>"
      ]
     },
     "metadata": {},
     "output_type": "display_data"
    }
   ],
   "source": [
    "t1.noDegreeControl.plot(kind='hist',legend=True)\n",
    "t2.noDegreeTreated.plot(kind='hist',legend=True)"
   ]
  },
  {
   "cell_type": "markdown",
   "metadata": {},
   "source": [
    "The distribution seems to be more or less the same for the two datasets (in proportion)"
   ]
  },
  {
   "cell_type": "code",
   "execution_count": 21,
   "metadata": {},
   "outputs": [
    {
     "data": {
      "text/plain": [
       "<matplotlib.axes._subplots.AxesSubplot at 0x11f50a0b8>"
      ]
     },
     "execution_count": 21,
     "metadata": {},
     "output_type": "execute_result"
    },
    {
     "data": {
      "image/png": "[encoded data removed]",
      "text/plain": [
       "<matplotlib.figure.Figure at 0x11f49ad68>"
      ]
     },
     "metadata": {},
     "output_type": "display_data"
    }
   ],
   "source": [
    "t1.re74Control.plot(kind='hist',legend=True)\n",
    "t2.re74Treated.plot(kind='hist',legend=True)"
   ]
  },
  {
   "cell_type": "code",
   "execution_count": 22,
   "metadata": {},
   "outputs": [
    {
     "data": {
      "text/plain": [
       "<matplotlib.axes._subplots.AxesSubplot at 0x11eed6eb8>"
      ]
     },
     "execution_count": 22,
     "metadata": {},
     "output_type": "execute_result"
    },
    {
     "data": {
      "image/png": "[encoded data removed]",
      "text/plain": [
       "<matplotlib.figure.Figure at 0x11f63dbe0>"
      ]
     },
     "metadata": {},
     "output_type": "display_data"
    }
   ],
   "source": [
    "t1.re75Control.plot(kind='hist',legend=True)\n",
    "t2.re75Treated.plot(kind='hist',legend=True)"
   ]
  },
  {
   "cell_type": "markdown",
   "metadata": {},
   "source": [
    "So to conclude on the analysis between the two group we can say that some parameters have the same distribution among these groups, but also some features are not distributed the same which could cause some problem in the prediction and analysis of the data.\n",
    "Particularly, in the age features, there are no people older than 48 years in the treated group. The educatio n features is not balanced either, as there are no people with less than 5 years of education, nor with more than 15 years in the treated group compared to the control group.\n",
    "Moreover there is a very large number of people in the treated group that are labeled as black ( only 30 not ).\n",
    "The amount of married people in the treated group is also very low compared to the one in the control group.\n",
    "Also the re75 features is decreasing faster for the treated group but go further ( some outliers).\n",
    "\n",
    "### Features to study : age, education, black, married, re74, re75, re78"
   ]
  },
  {
   "cell_type": "markdown",
   "metadata": {},
   "source": [
    "## 1.3 A propensity score model\n"
   ]
  },
  {
   "cell_type": "code",
   "execution_count": 23,
   "metadata": {
    "collapsed": true
   },
   "outputs": [],
   "source": [
    "feature_cols=['age','educ','black','hispan','married','nodegree','re74','re75','re78']"
   ]
  },
  {
   "cell_type": "code",
   "execution_count": 24,
   "metadata": {},
   "outputs": [
    {
     "data": {
      "text/plain": [
       "LogisticRegression(C=1.0, class_weight=None, dual=False, fit_intercept=True,\n",
       "          intercept_scaling=1, max_iter=100, multi_class='ovr', n_jobs=1,\n",
       "          penalty='l2', random_state=None, solver='liblinear', tol=0.0001,\n",
       "          verbose=0, warm_start=False)"
      ]
     },
     "execution_count": 24,
     "metadata": {},
     "output_type": "execute_result"
    }
   ],
   "source": [
    "logistic = linear_model.LogisticRegression()\n",
    "X = pd.get_dummies(df[feature_cols])\n",
    "y = df.treat\n",
    "logistic.fit(X,y)"
   ]
  },
  {
   "cell_type": "code",
   "execution_count": 25,
   "metadata": {
    "collapsed": true
   },
   "outputs": [],
   "source": [
    "def getScore(x):\n",
    "    return logistic.predict_proba(x[feature_cols].reshape(1,-1))[0][1]"
   ]
  },
  {
   "cell_type": "code",
   "execution_count": 26,
   "metadata": {},
   "outputs": [
    {
     "name": "stderr",
     "output_type": "stream",
     "text": [
      "/Users/besmaelketroussi/anaconda/lib/python3.6/site-packages/ipykernel_launcher.py:2: FutureWarning: reshape is deprecated and will raise in a subsequent release. Please use .values.reshape(...) instead\n",
      "  \n"
     ]
    },
    {
     "data": {
      "text/html": [
       "<div>\n",
       "<style>\n",
       "    .dataframe thead tr:only-child th {\n",
       "        text-align: right;\n",
       "    }\n",
       "\n",
       "    .dataframe thead th {\n",
       "        text-align: left;\n",
       "    }\n",
       "\n",
       "    .dataframe tbody tr th {\n",
       "        vertical-align: top;\n",
       "    }\n",
       "</style>\n",
       "<table border=\"1\" class=\"dataframe\">\n",
       "  <thead>\n",
       "    <tr style=\"text-align: right;\">\n",
       "      <th></th>\n",
       "      <th>id</th>\n",
       "      <th>treat</th>\n",
       "      <th>age</th>\n",
       "      <th>educ</th>\n",
       "      <th>black</th>\n",
       "      <th>hispan</th>\n",
       "      <th>married</th>\n",
       "      <th>nodegree</th>\n",
       "      <th>re74</th>\n",
       "      <th>re75</th>\n",
       "      <th>re78</th>\n",
       "      <th>propensityScore</th>\n",
       "    </tr>\n",
       "  </thead>\n",
       "  <tbody>\n",
       "    <tr>\n",
       "      <th>0</th>\n",
       "      <td>NSW1</td>\n",
       "      <td>1</td>\n",
       "      <td>37</td>\n",
       "      <td>11</td>\n",
       "      <td>1</td>\n",
       "      <td>0</td>\n",
       "      <td>1</td>\n",
       "      <td>1</td>\n",
       "      <td>0.0</td>\n",
       "      <td>0.0</td>\n",
       "      <td>9930.0460</td>\n",
       "      <td>0.458074</td>\n",
       "    </tr>\n",
       "    <tr>\n",
       "      <th>1</th>\n",
       "      <td>NSW2</td>\n",
       "      <td>1</td>\n",
       "      <td>22</td>\n",
       "      <td>9</td>\n",
       "      <td>0</td>\n",
       "      <td>1</td>\n",
       "      <td>0</td>\n",
       "      <td>1</td>\n",
       "      <td>0.0</td>\n",
       "      <td>0.0</td>\n",
       "      <td>3595.8940</td>\n",
       "      <td>0.151980</td>\n",
       "    </tr>\n",
       "    <tr>\n",
       "      <th>2</th>\n",
       "      <td>NSW3</td>\n",
       "      <td>1</td>\n",
       "      <td>30</td>\n",
       "      <td>12</td>\n",
       "      <td>1</td>\n",
       "      <td>0</td>\n",
       "      <td>0</td>\n",
       "      <td>0</td>\n",
       "      <td>0.0</td>\n",
       "      <td>0.0</td>\n",
       "      <td>24909.4500</td>\n",
       "      <td>0.750966</td>\n",
       "    </tr>\n",
       "    <tr>\n",
       "      <th>3</th>\n",
       "      <td>NSW4</td>\n",
       "      <td>1</td>\n",
       "      <td>27</td>\n",
       "      <td>11</td>\n",
       "      <td>1</td>\n",
       "      <td>0</td>\n",
       "      <td>0</td>\n",
       "      <td>1</td>\n",
       "      <td>0.0</td>\n",
       "      <td>0.0</td>\n",
       "      <td>7506.1460</td>\n",
       "      <td>0.674020</td>\n",
       "    </tr>\n",
       "    <tr>\n",
       "      <th>4</th>\n",
       "      <td>NSW5</td>\n",
       "      <td>1</td>\n",
       "      <td>33</td>\n",
       "      <td>8</td>\n",
       "      <td>1</td>\n",
       "      <td>0</td>\n",
       "      <td>0</td>\n",
       "      <td>1</td>\n",
       "      <td>0.0</td>\n",
       "      <td>0.0</td>\n",
       "      <td>289.7899</td>\n",
       "      <td>0.670590</td>\n",
       "    </tr>\n",
       "  </tbody>\n",
       "</table>\n",
       "</div>"
      ],
      "text/plain": [
       "     id  treat  age  educ  black  hispan  married  nodegree  re74  re75  \\\n",
       "0  NSW1      1   37    11      1       0        1         1   0.0   0.0   \n",
       "1  NSW2      1   22     9      0       1        0         1   0.0   0.0   \n",
       "2  NSW3      1   30    12      1       0        0         0   0.0   0.0   \n",
       "3  NSW4      1   27    11      1       0        0         1   0.0   0.0   \n",
       "4  NSW5      1   33     8      1       0        0         1   0.0   0.0   \n",
       "\n",
       "         re78  propensityScore  \n",
       "0   9930.0460         0.458074  \n",
       "1   3595.8940         0.151980  \n",
       "2  24909.4500         0.750966  \n",
       "3   7506.1460         0.674020  \n",
       "4    289.7899         0.670590  "
      ]
     },
     "execution_count": 26,
     "metadata": {},
     "output_type": "execute_result"
    }
   ],
   "source": [
    "df['propensityScore'] = df.apply(lambda row : getScore(row),axis=1)\n",
    "df.head()"
   ]
  },
  {
   "cell_type": "markdown",
   "metadata": {
    "collapsed": true
   },
   "source": [
    "## 1.4 Balancing the dataset via matching"
   ]
  },
  {
   "cell_type": "code",
   "execution_count": 28,
   "metadata": {
    "collapsed": true
   },
   "outputs": [],
   "source": [
    "# create treated and control groups\n",
    "control = list(df.loc[np.where(df[\"treat\"] ==0)[0],'id'])\n",
    "treated  = list(df.loc[np.where(df[\"treat\"] ==1)[0],'id'])"
   ]
  },
  {
   "cell_type": "code",
   "execution_count": 195,
   "metadata": {
    "collapsed": true
   },
   "outputs": [],
   "source": [
    "##create a bipartite graph with treated and control groups as nodes\n",
    "##add weighted edges: the weight is minus the absolute propensity-score differences \n",
    " #between the two nodes\n",
    "\n",
    "B = nx.Graph()\n",
    "B.add_nodes_from(control, bipartite = 0)\n",
    "B.add_nodes_from(treated, bipartite = 1)\n",
    "\n",
    "for i in range(len(treated)):\n",
    "    u = treated[i]\n",
    "    for j in range(len(control)):\n",
    "        v = control[j]\n",
    "        w = abs(list(df.loc[np.where(df['id'] == u)[0],'propensityScore'])[0] \\\n",
    "                - list(df.loc[np.where(df['id'] == v)[0],'propensityScore'])[0])\n",
    "        B.add_edge(u,v,weight = -w)\n",
    "\n"
   ]
  },
  {
   "cell_type": "code",
   "execution_count": 30,
   "metadata": {},
   "outputs": [],
   "source": [
    "#find the matching\n",
    "matching = nx.max_weight_matching(B,True)\n",
    "#matching"
   ]
  },
  {
   "cell_type": "code",
   "execution_count": 232,
   "metadata": {},
   "outputs": [],
   "source": [
    "matching_df = pd.DataFrame.from_dict(matching, orient='index')\n",
    "matching_df = matching_df.reset_index()\n",
    "matching_df.columns=['group1','group2']\n",
    "\n",
    "g1= []\n",
    "g2= []\n",
    "\n",
    "def group(u,g1,g2):\n",
    "    if(u[0]=='N'):\n",
    "        g1.append(u)\n",
    "    else:\n",
    "        g2.append(u)\n",
    "    return   \n",
    "for i in range(0,len(matching_df),2):\n",
    "    u = matching_df.loc[i,'group1']\n",
    "    v = matching_df.loc[i,'group2']\n",
    "    group(u,g1,g2)\n",
    "    group(v,g1,g2)\n",
    "\n",
    "df_groups = pd.DataFrame()\n",
    "df_groups['group1'] = g1\n",
    "df_groups['group2'] = g2\n",
    "\n",
    "def build_df(df,df_groups, feature):\n",
    "    #add the features fo\n",
    "    for i in range(len(df_groups)):\n",
    "        df_groups.loc[i,feature+'_g1'] = list(df.loc[np.where(df[\"id\"] ==df_groups.loc[i,'group1'])[0],feature])[0]\n",
    "        df_groups.loc[i,feature+'_g2'] = list(df.loc[np.where(df[\"id\"] ==df_groups.loc[i,'group2'])[0],feature])[0]\n",
    "    return df_groups \n",
    "\n",
    "#add the outcome and the features to each individual \n",
    "df_groups = build_df(df,df_groups, 're78')\n",
    "df_groups = build_df(df,df_groups, 're74')\n",
    "df_groups = build_df(df,df_groups, 're75')\n",
    "df_groups = build_df(df,df_groups, 'age')\n",
    "df_groups = build_df(df,df_groups, 'educ')\n",
    "df_groups = build_df(df,df_groups, 'black')\n",
    "df_groups = build_df(df,df_groups, 'hispan')\n",
    "df_groups = build_df(df,df_groups, 'married')\n",
    "df_groups = build_df(df,df_groups, 'nodegree')"
   ]
  },
  {
   "cell_type": "code",
   "execution_count": 233,
   "metadata": {},
   "outputs": [
    {
     "data": {
      "text/html": [
       "<div>\n",
       "<style>\n",
       "    .dataframe thead tr:only-child th {\n",
       "        text-align: right;\n",
       "    }\n",
       "\n",
       "    .dataframe thead th {\n",
       "        text-align: left;\n",
       "    }\n",
       "\n",
       "    .dataframe tbody tr th {\n",
       "        vertical-align: top;\n",
       "    }\n",
       "</style>\n",
       "<table border=\"1\" class=\"dataframe\">\n",
       "  <thead>\n",
       "    <tr style=\"text-align: right;\">\n",
       "      <th></th>\n",
       "      <th>group1</th>\n",
       "      <th>group2</th>\n",
       "      <th>re78_g1</th>\n",
       "      <th>re78_g2</th>\n",
       "      <th>re74_g1</th>\n",
       "      <th>re74_g2</th>\n",
       "      <th>re75_g1</th>\n",
       "      <th>re75_g2</th>\n",
       "      <th>age_g1</th>\n",
       "      <th>age_g2</th>\n",
       "      <th>educ_g1</th>\n",
       "      <th>educ_g2</th>\n",
       "      <th>black_g1</th>\n",
       "      <th>black_g2</th>\n",
       "      <th>hispan_g1</th>\n",
       "      <th>hispan_g2</th>\n",
       "      <th>married_g1</th>\n",
       "      <th>married_g2</th>\n",
       "      <th>nodegree_g1</th>\n",
       "      <th>nodegree_g2</th>\n",
       "    </tr>\n",
       "  </thead>\n",
       "  <tbody>\n",
       "    <tr>\n",
       "      <th>0</th>\n",
       "      <td>NSW92</td>\n",
       "      <td>PSID392</td>\n",
       "      <td>0.0000</td>\n",
       "      <td>0.000</td>\n",
       "      <td>0.00</td>\n",
       "      <td>0.000</td>\n",
       "      <td>0.000</td>\n",
       "      <td>0.0000</td>\n",
       "      <td>17.0</td>\n",
       "      <td>17.0</td>\n",
       "      <td>10.0</td>\n",
       "      <td>10.0</td>\n",
       "      <td>1.0</td>\n",
       "      <td>1.0</td>\n",
       "      <td>0.0</td>\n",
       "      <td>0.0</td>\n",
       "      <td>0.0</td>\n",
       "      <td>0.0</td>\n",
       "      <td>1.0</td>\n",
       "      <td>1.0</td>\n",
       "    </tr>\n",
       "    <tr>\n",
       "      <th>1</th>\n",
       "      <td>NSW48</td>\n",
       "      <td>PSID231</td>\n",
       "      <td>0.0000</td>\n",
       "      <td>7933.914</td>\n",
       "      <td>0.00</td>\n",
       "      <td>587.780</td>\n",
       "      <td>0.000</td>\n",
       "      <td>841.4516</td>\n",
       "      <td>17.0</td>\n",
       "      <td>18.0</td>\n",
       "      <td>9.0</td>\n",
       "      <td>11.0</td>\n",
       "      <td>1.0</td>\n",
       "      <td>1.0</td>\n",
       "      <td>0.0</td>\n",
       "      <td>0.0</td>\n",
       "      <td>0.0</td>\n",
       "      <td>0.0</td>\n",
       "      <td>1.0</td>\n",
       "      <td>1.0</td>\n",
       "    </tr>\n",
       "    <tr>\n",
       "      <th>2</th>\n",
       "      <td>NSW83</td>\n",
       "      <td>PSID336</td>\n",
       "      <td>4941.8490</td>\n",
       "      <td>913.235</td>\n",
       "      <td>0.00</td>\n",
       "      <td>1657.540</td>\n",
       "      <td>0.000</td>\n",
       "      <td>0.0000</td>\n",
       "      <td>38.0</td>\n",
       "      <td>20.0</td>\n",
       "      <td>12.0</td>\n",
       "      <td>13.0</td>\n",
       "      <td>0.0</td>\n",
       "      <td>0.0</td>\n",
       "      <td>0.0</td>\n",
       "      <td>0.0</td>\n",
       "      <td>0.0</td>\n",
       "      <td>0.0</td>\n",
       "      <td>0.0</td>\n",
       "      <td>0.0</td>\n",
       "    </tr>\n",
       "    <tr>\n",
       "      <th>3</th>\n",
       "      <td>NSW68</td>\n",
       "      <td>PSID221</td>\n",
       "      <td>0.0000</td>\n",
       "      <td>12059.730</td>\n",
       "      <td>0.00</td>\n",
       "      <td>815.055</td>\n",
       "      <td>0.000</td>\n",
       "      <td>964.9839</td>\n",
       "      <td>23.0</td>\n",
       "      <td>19.0</td>\n",
       "      <td>7.0</td>\n",
       "      <td>12.0</td>\n",
       "      <td>0.0</td>\n",
       "      <td>0.0</td>\n",
       "      <td>0.0</td>\n",
       "      <td>0.0</td>\n",
       "      <td>0.0</td>\n",
       "      <td>0.0</td>\n",
       "      <td>1.0</td>\n",
       "      <td>0.0</td>\n",
       "    </tr>\n",
       "    <tr>\n",
       "      <th>4</th>\n",
       "      <td>NSW129</td>\n",
       "      <td>PSID167</td>\n",
       "      <td>559.4432</td>\n",
       "      <td>0.000</td>\n",
       "      <td>9385.74</td>\n",
       "      <td>3030.986</td>\n",
       "      <td>1117.439</td>\n",
       "      <td>1976.5160</td>\n",
       "      <td>23.0</td>\n",
       "      <td>22.0</td>\n",
       "      <td>12.0</td>\n",
       "      <td>11.0</td>\n",
       "      <td>0.0</td>\n",
       "      <td>0.0</td>\n",
       "      <td>1.0</td>\n",
       "      <td>0.0</td>\n",
       "      <td>0.0</td>\n",
       "      <td>1.0</td>\n",
       "      <td>0.0</td>\n",
       "      <td>1.0</td>\n",
       "    </tr>\n",
       "  </tbody>\n",
       "</table>\n",
       "</div>"
      ],
      "text/plain": [
       "   group1   group2    re78_g1    re78_g2  re74_g1   re74_g2   re75_g1  \\\n",
       "0   NSW92  PSID392     0.0000      0.000     0.00     0.000     0.000   \n",
       "1   NSW48  PSID231     0.0000   7933.914     0.00   587.780     0.000   \n",
       "2   NSW83  PSID336  4941.8490    913.235     0.00  1657.540     0.000   \n",
       "3   NSW68  PSID221     0.0000  12059.730     0.00   815.055     0.000   \n",
       "4  NSW129  PSID167   559.4432      0.000  9385.74  3030.986  1117.439   \n",
       "\n",
       "     re75_g2  age_g1  age_g2  educ_g1  educ_g2  black_g1  black_g2  hispan_g1  \\\n",
       "0     0.0000    17.0    17.0     10.0     10.0       1.0       1.0        0.0   \n",
       "1   841.4516    17.0    18.0      9.0     11.0       1.0       1.0        0.0   \n",
       "2     0.0000    38.0    20.0     12.0     13.0       0.0       0.0        0.0   \n",
       "3   964.9839    23.0    19.0      7.0     12.0       0.0       0.0        0.0   \n",
       "4  1976.5160    23.0    22.0     12.0     11.0       0.0       0.0        1.0   \n",
       "\n",
       "   hispan_g2  married_g1  married_g2  nodegree_g1  nodegree_g2  \n",
       "0        0.0         0.0         0.0          1.0          1.0  \n",
       "1        0.0         0.0         0.0          1.0          1.0  \n",
       "2        0.0         0.0         0.0          0.0          0.0  \n",
       "3        0.0         0.0         0.0          1.0          0.0  \n",
       "4        0.0         0.0         1.0          0.0          1.0  "
      ]
     },
     "execution_count": 233,
     "metadata": {},
     "output_type": "execute_result"
    }
   ],
   "source": [
    "df_groups.head()"
   ]
  },
  {
   "cell_type": "markdown",
   "metadata": {},
   "source": [
    "### Compare the outcomes (re78) between the two groups (treated and control)."
   ]
  },
  {
   "cell_type": "code",
   "execution_count": 234,
   "metadata": {},
   "outputs": [
    {
     "data": {
      "text/plain": [
       "<matplotlib.axes._subplots.AxesSubplot at 0x143ae0b70>"
      ]
     },
     "execution_count": 234,
     "metadata": {},
     "output_type": "execute_result"
    },
    {
     "data": {
      "image/png": "[encoded data removed]",
      "text/plain": [
       "<matplotlib.figure.Figure at 0x143a764a8>"
      ]
     },
     "metadata": {},
     "output_type": "display_data"
    }
   ],
   "source": [
    "f,axis = plt.subplots(1,2,figsize=(8, 4))\n",
    "df_groups.re78_g1.plot(ax=axis[0],kind='hist',title='re78 feature for group1 ')\n",
    "df_groups.re78_g2.plot(ax=axis[1],kind='hist',title='re78 feature for group2 ')"
   ]
  },
  {
   "cell_type": "markdown",
   "metadata": {},
   "source": [
    "We can easily see that the outcomes don't give us useful information except outliers to conclude."
   ]
  },
  {
   "cell_type": "markdown",
   "metadata": {},
   "source": [
    "### Compare features between the two groups (group1: treated, group2: control)"
   ]
  },
  {
   "cell_type": "code",
   "execution_count": 235,
   "metadata": {},
   "outputs": [
    {
     "name": "stdout",
     "output_type": "stream",
     "text": [
      "re74 mean for group1: 1752.9697250000002 \n",
      "re74 mean for group2: 2796.650725603448\n",
      "\n",
      "re75 mean for group1: 1135.0346702586205 \n",
      "re75 mean for group2: 1867.4144060344827\n",
      "\n",
      "age mean for group1: 25.56896551724138 \n",
      "age mean for group2: 25.310344827586206\n",
      "\n",
      "educ mean for group1: 10.413793103448276 \n",
      "educ mean for group2: 10.21551724137931\n"
     ]
    },
    {
     "data": {
      "text/plain": [
       "<matplotlib.axes._subplots.AxesSubplot at 0x14424f898>"
      ]
     },
     "execution_count": 235,
     "metadata": {},
     "output_type": "execute_result"
    },
    {
     "data": {
      "image/png": "[encoded data removed]",
      "text/plain": [
       "<matplotlib.figure.Figure at 0x143c748d0>"
      ]
     },
     "metadata": {},
     "output_type": "display_data"
    }
   ],
   "source": [
    "#print the mean for continuous features\n",
    "print('re74 mean for group1:',df_groups.re74_g1.mean(),'\\nre74 mean for group2:',df_groups.re74_g2.mean())\n",
    "print('\\nre75 mean for group1:',df_groups.re75_g1.mean(),'\\nre75 mean for group2:',df_groups.re75_g2.mean())\n",
    "print('\\nage mean for group1:',df_groups.age_g1.mean(),'\\nage mean for group2:',df_groups.age_g2.mean())\n",
    "print('\\neduc mean for group1:',df_groups.educ_g1.mean(),'\\neduc mean for group2:',df_groups.educ_g2.mean())\n",
    "\n",
    "f,axis = plt.subplots(4,4,figsize=(15, 16))\n",
    "\n",
    "df_groups.re74_g1.plot(ax=axis[0,0],kind='hist',title='re74 feature for group1')\n",
    "df_groups.re74_g2.plot(ax=axis[0,1],kind='hist',title='re74 feature for group2 ')\n",
    "\n",
    "df_groups.re75_g1.plot(ax=axis[0,2],kind='hist',title='re75 feature for group1 ')\n",
    "df_groups.re75_g2.plot(ax=axis[0,3],kind='hist',title='re75 feature for group2 ')\n",
    "\n",
    "df_groups.age_g1.plot(ax = axis[1,0],kind='hist',title='age feature for group1 ')\n",
    "df_groups.age_g2.plot(ax = axis[1,1],kind='hist',title='age feature for group2')\n",
    "\n",
    "df_groups.educ_g1.plot(ax=axis[1,2],kind='hist',title='educ feature for group1 ')\n",
    "df_groups.educ_g2.plot(ax=axis[1,3],kind='hist',title='educ feature for group2 ')\n",
    "\n",
    "df_groups.black_g1.plot(ax=axis[2,0],kind='hist',title='black feature for group1 ')\n",
    "df_groups.black_g2.plot(ax=axis[2,1],kind='hist',title='black feature for group2 ')\n",
    "\n",
    "df_groups.hispan_g1.plot(ax=axis[2,2],kind='hist',title='hispan feature for group1 ')\n",
    "df_groups.hispan_g2.plot(ax=axis[2,3],kind='hist',title='hispan feature for group2 ')\n",
    "\n",
    "df_groups.married_g1.plot(ax=axis[3,0],kind='hist',title='married feature for group1 ')\n",
    "df_groups.married_g2.plot(ax=axis[3,1],kind='hist',title='married feature for group2 ')\n",
    "\n",
    "df_groups.nodegree_g1.plot(ax=axis[3,2],kind='hist',title='nodegree feature for group1 ')\n",
    "df_groups.nodegree_g2.plot(ax=axis[3,3],kind='hist',title='nodegree feature for group2 ')\n",
    "\n",
    "\n",
    "\n",
    "\n"
   ]
  },
  {
   "cell_type": "markdown",
   "metadata": {},
   "source": [
    "It seems that all features are proportional (same amount) in the two groups except black feature. Hence, we need to redo the matching to obtain a more balanced one."
   ]
  },
  {
   "cell_type": "markdown",
   "metadata": {},
   "source": [
    "## 1.5 Balancing the groups further\n"
   ]
  },
  {
   "cell_type": "markdown",
   "metadata": {},
   "source": [
    "As seen in the previous question, the dataset is not balanced, we have to balance black feature.\n",
    "\n",
    "In order to achieve this goal, we need to lower the number of black people in the treated group. This is done simply by dropping rows that match this category.\n",
    "\n",
    "We have to ramdomize this step to have better results(see \"Design of Observational Studies\" book) by using *sample* method to select the rows to drop."
   ]
  },
  {
   "cell_type": "code",
   "execution_count": 253,
   "metadata": {},
   "outputs": [],
   "source": [
    "# drop rows to balance the dataset. The number of rows that are dropped is the difference of the number of black people\n",
    "# between the two groups\n",
    "\n",
    "new_df = df.copy()\n",
    "new_df = df.drop(df[(df.black == 1) & (df.treat == 1)].sample(len(df[(df.black == 1) & (df.treat == 1)])\\\n",
    "                                                    -len(df[(df.black == 1) & (df.treat == 0)])).index.values)\\\n",
    "                                                    .reset_index().drop('index',axis=1)\n",
    "\n"
   ]
  },
  {
   "cell_type": "markdown",
   "metadata": {},
   "source": [
    "We redo our matching (same steps as 1.4)"
   ]
  },
  {
   "cell_type": "code",
   "execution_count": 243,
   "metadata": {},
   "outputs": [],
   "source": [
    "# create treated and control groups\n",
    "control = list(new_df.loc[np.where(new_df[\"treat\"] ==0)[0],'id'])\n",
    "treated  = list(new_df.loc[np.where(new_df[\"treat\"] ==1)[0],'id'])"
   ]
  },
  {
   "cell_type": "code",
   "execution_count": 244,
   "metadata": {
    "collapsed": true
   },
   "outputs": [],
   "source": [
    "##create a bipartite graph with treated and control groups as nodes\n",
    "##add weighted edges: the weight is minus the absolute propensity-score differences \n",
    " #between the two nodes\n",
    "\n",
    "B = nx.Graph()\n",
    "B.add_nodes_from(control, bipartite = 0)\n",
    "B.add_nodes_from(treated, bipartite = 1)\n",
    "\n",
    "for i in range(len(treated)):\n",
    "    u = treated[i]\n",
    "    for j in range(len(control)):\n",
    "        v = control[j]\n",
    "        w = abs(list(new_df.loc[np.where(new_df['id'] == u)[0],'propensityScore'])[0] \\\n",
    "                - list(new_df.loc[np.where(new_df['id'] == v)[0],'propensityScore'])[0])\n",
    "        B.add_edge(u,v,weight = -w)"
   ]
  },
  {
   "cell_type": "code",
   "execution_count": 245,
   "metadata": {
    "collapsed": true
   },
   "outputs": [],
   "source": [
    "#find the matching\n",
    "matching = nx.max_weight_matching(B,True)\n",
    "#matching"
   ]
  },
  {
   "cell_type": "code",
   "execution_count": 246,
   "metadata": {},
   "outputs": [],
   "source": [
    "# build a dataframe with the matching dictionnary\n",
    "# Remember that group1 is the treated group and group2 is the control one.\n",
    "matching_df = pd.DataFrame.from_dict(matching, orient='index')\n",
    "matching_df = matching_df.reset_index()\n",
    "matching_df.columns=['group1','group2']\n",
    "\n",
    "g1= []\n",
    "g2= []\n",
    "  \n",
    "for i in range(0,len(matching_df),2):\n",
    "    u = matching_df.loc[i,'group1']\n",
    "    v = matching_df.loc[i,'group2']\n",
    "    group(u,g1,g2)\n",
    "    group(v,g1,g2)\n",
    "    \n",
    "df_groups = pd.DataFrame()\n",
    "df_groups['group1'] = g1\n",
    "df_groups['group2'] = g2\n",
    "\n",
    "#add the outcome and the features to each individual \n",
    "df_groups = build_df(new_df,df_groups, 're78')\n",
    "df_groups = build_df(new_df,df_groups, 're74')\n",
    "df_groups = build_df(new_df,df_groups, 're75')\n",
    "df_groups = build_df(new_df,df_groups, 'age')\n",
    "df_groups = build_df(new_df,df_groups, 'educ')\n",
    "df_groups = build_df(new_df,df_groups, 'black')\n",
    "df_groups = build_df(new_df,df_groups, 'hispan')\n",
    "df_groups = build_df(new_df,df_groups, 'married')\n",
    "df_groups = build_df(new_df,df_groups, 'nodegree')"
   ]
  },
  {
   "cell_type": "markdown",
   "metadata": {},
   "source": [
    "Let's visualize the features again."
   ]
  },
  {
   "cell_type": "code",
   "execution_count": 252,
   "metadata": {},
   "outputs": [
    {
     "name": "stdout",
     "output_type": "stream",
     "text": [
      "re74 mean for group1: 2104.1887887931034 \n",
      "re74 mean for group2: 2903.9712859482747\n",
      "\n",
      "re75 mean for group1: 1321.227651293104 \n",
      "re75 mean for group2: 1773.6231241379305\n",
      "\n",
      "age mean for group1: 24.870689655172413 \n",
      "age mean for group2: 25.24137931034483\n",
      "\n",
      "educ mean for group1: 10.39655172413793 \n",
      "educ mean for group2: 10.060344827586206\n"
     ]
    },
    {
     "data": {
      "text/plain": [
       "<matplotlib.axes._subplots.AxesSubplot at 0x142d987f0>"
      ]
     },
     "execution_count": 252,
     "metadata": {},
     "output_type": "execute_result"
    },
    {
     "data": {
      "image/png": "[encoded data removed]",
      "text/plain": [
       "<matplotlib.figure.Figure at 0x147309908>"
      ]
     },
     "metadata": {},
     "output_type": "display_data"
    }
   ],
   "source": [
    "#print the mean for continuous features\n",
    "print('re74 mean for group1:',df_groups.re74_g1.mean(),'\\nre74 mean for group2:',df_groups.re74_g2.mean())\n",
    "print('\\nre75 mean for group1:',df_groups.re75_g1.mean(),'\\nre75 mean for group2:',df_groups.re75_g2.mean())\n",
    "print('\\nage mean for group1:',df_groups.age_g1.mean(),'\\nage mean for group2:',df_groups.age_g2.mean())\n",
    "print('\\neduc mean for group1:',df_groups.educ_g1.mean(),'\\neduc mean for group2:',df_groups.educ_g2.mean())\n",
    "\n",
    "f,axis = plt.subplots(4,4,figsize=(15, 16))\n",
    "\n",
    "df_groups.re74_g1.plot(ax=axis[0,0],kind='hist',title='re74 feature for group1')\n",
    "df_groups.re74_g2.plot(ax=axis[0,1],kind='hist',title='re74 feature for group2 ')\n",
    "\n",
    "df_groups.re75_g1.plot(ax=axis[0,2],kind='hist',title='re75 feature for group1 ')\n",
    "df_groups.re75_g2.plot(ax=axis[0,3],kind='hist',title='re75 feature for group2 ')\n",
    "\n",
    "df_groups.age_g1.plot(ax = axis[1,0],kind='hist',title='age feature for group1 ')\n",
    "df_groups.age_g2.plot(ax = axis[1,1],kind='hist',title='age feature for group2')\n",
    "\n",
    "df_groups.educ_g1.plot(ax=axis[1,2],kind='hist',title='educ feature for group1 ')\n",
    "df_groups.educ_g2.plot(ax=axis[1,3],kind='hist',title='educ feature for group2 ')\n",
    "\n",
    "df_groups.black_g1.plot(ax=axis[2,0],kind='hist',title='black feature for group1 ')\n",
    "df_groups.black_g2.plot(ax=axis[2,1],kind='hist',title='black feature for group2 ')\n",
    "\n",
    "df_groups.hispan_g1.plot(ax=axis[2,2],kind='hist',title='hispan feature for group1 ')\n",
    "df_groups.hispan_g2.plot(ax=axis[2,3],kind='hist',title='hispan feature for group2 ')\n",
    "\n",
    "df_groups.married_g1.plot(ax=axis[3,0],kind='hist',title='married feature for group1 ')\n",
    "df_groups.married_g2.plot(ax=axis[3,1],kind='hist',title='married feature for group2 ')\n",
    "\n",
    "df_groups.nodegree_g1.plot(ax=axis[3,2],kind='hist',title='nodegree feature for group1 ')\n",
    "df_groups.nodegree_g2.plot(ax=axis[3,3],kind='hist',title='nodegree feature for group2 ')\n",
    "\n",
    "\n"
   ]
  },
  {
   "cell_type": "markdown",
   "metadata": {},
   "source": [
    "The dataset seems to be well balanced now. We observe that our selection balances the number of black people in both groups."
   ]
  },
  {
   "cell_type": "markdown",
   "metadata": {},
   "source": [
    "# 2.1 20newsgroup TF-IDF Features"
   ]
  },
  {
   "cell_type": "code",
   "execution_count": null,
   "metadata": {
    "collapsed": true,
    "scrolled": true
   },
   "outputs": [],
   "source": [
    "data_news = fetch_20newsgroups(subset='all')"
   ]
  },
  {
   "cell_type": "markdown",
   "metadata": {},
   "source": [
    "We will use the provided Pipeline functionalty of scikit learn to apply the Machine Learning.  \n",
    "In this pipeline the input data will first be put into the TfidfVectorizer in order to reduce the importance of very frequent words.  \n",
    "After that, a random forest will be trained on the dataset.  "
   ]
  },
  {
   "cell_type": "code",
   "execution_count": null,
   "metadata": {},
   "outputs": [],
   "source": [
    "# Split into train and test (90:10) since we are using cross validation\n",
    "data_news_train_x, data_news_test_x, data_news_train_y, data_news_test_y = train_test_split(\\\n",
    "                                        data_news.data, data_news.target, test_size=0.1, random_state=42)\n",
    "print(\"train n: {}, test n: {}\".format(len(data_news_train_x), len(data_news_test_x)))"
   ]
  },
  {
   "cell_type": "markdown",
   "metadata": {},
   "source": [
    "We are splitting the dataset into a training (90%) and a testing set (10%).  \n",
    "Since we are using cross validation in the scikit grid search an extra validataion set is not required.  \n",
    "Cross validation splits the data into k different sets, trains k classifiers on k-1 parts and validates the sets on the not used set for training. Therefore the whole dataset can be used for training and validataion at once, which improves accuracy, since more data is available."
   ]
  },
  {
   "cell_type": "code",
   "execution_count": null,
   "metadata": {
    "collapsed": true
   },
   "outputs": [],
   "source": [
    "# Set up pipeline\n",
    "pipeline = Pipeline([\n",
    "    ('tfidf', TfidfVectorizer()),\n",
    "    ('rfc', RandomForestClassifier()),\n",
    "])\n",
    "\n",
    "parameters = {\n",
    "    'rfc__n_estimators' : (100,150,200),    \n",
    "    'rfc__max_depth' : (100,200,300,None)\n",
    "}\n",
    "\n",
    "grid_search = GridSearchCV(pipeline, parameters, n_jobs=-1, verbose=1) "
   ]
  },
  {
   "cell_type": "markdown",
   "metadata": {},
   "source": [
    "Previous runs with lower values for both parameters have already shown, that parameters lower that 100 perform worse.  \n",
    "Therefore we excluded them for further grid searches.  \n",
    "Grid searches for higher parameters took too long and were aborted."
   ]
  },
  {
   "cell_type": "code",
   "execution_count": null,
   "metadata": {},
   "outputs": [],
   "source": [
    "# Run training with grid search\n",
    "# Perform grid search with corss-validation\n",
    "grid_search.fit(data_news_train_x, data_news_train_y)\n",
    "\n",
    "print(\"Best score: {:0.3f}\".format(grid_search.best_score_))\n",
    "print(\"Best parameters:\")\n",
    "best_parameters = grid_search.best_estimator_.get_params()\n",
    "for param in parameters.keys():\n",
    "    print(\"\\t{}: {}\".format(param, best_parameters[param]))\n",
    "    \n",
    "clf = grid_search.best_estimator_"
   ]
  },
  {
   "cell_type": "code",
   "execution_count": null,
   "metadata": {
    "scrolled": false
   },
   "outputs": [],
   "source": [
    "# Test with test set\n",
    "data_news_test_y_pred = clf.predict(data_news_test_x)\n",
    "conf_mat = confusion_matrix(data_news_test_y_pred, data_news_test_y)\n",
    "\n",
    "# create data frame with category names\n",
    "df_matrix = pd.DataFrame(conf_mat, columns=data_news.target_names)\n",
    "df_matrix"
   ]
  },
  {
   "cell_type": "markdown",
   "metadata": {},
   "source": [
    "The diagonal of the confusion matrix contains the highest values. This shows that the most articles were classified in the correct categories.  \n",
    "The classification for the category `soc.religion.christian` was the imprecisest, many articles were classified as `talk.religion.misc`.  \n",
    "Other outliers belong to similar categories, too: `alt.atheism` as `talk.religion.misc` or `comp.os.ms-windows.misc` as `comp.sys.ibm.pc.hardware`.  \n",
    "Therefore the model seems to fit well."
   ]
  },
  {
   "cell_type": "code",
   "execution_count": null,
   "metadata": {},
   "outputs": [],
   "source": [
    "# get feature importance\n",
    "feature_importance = clf.steps[1][1].feature_importances_\n",
    "\n",
    "# get created dictionary from Vectorizer and map id to word\n",
    "vocabulary = clf.steps[0][1].vocabulary_\n",
    "voc_array = [None] * len(vocabulary.keys())\n",
    "for key,val in vocabulary.items():\n",
    "    voc_array[val] = key\n",
    "voc_importance = np.asarray([voc_array, feature_importance]).T\n",
    "\n",
    "# create dataframe with aquired information\n",
    "df_voc = pd.DataFrame(voc_importance, columns=[\"word\", \"importance\"])\n",
    "df_voc['importance'] = pd.to_numeric(df_voc['importance'])\n",
    "df_voc_top = df_voc.sort_values(by=['importance'], ascending=False).head(10)\n",
    "df_voc_top"
   ]
  },
  {
   "cell_type": "markdown",
   "metadata": {},
   "source": [
    "The feature importance in general is very low. This is caused by the total amount of features.  \n",
    "Words like `windows`, `bike` or `car` are one of the most important features and can give an indication for the category.  \n",
    "However, also words like `of`, `the` or `in` are in the top features which cannot help to classify the document."
   ]
  },
  {
   "cell_type": "code",
   "execution_count": null,
   "metadata": {
    "collapsed": true
   },
   "outputs": [],
   "source": []
  }
 ],
 "metadata": {
  "anaconda-cloud": {},
  "kernelspec": {
   "display_name": "Python 3",
   "language": "python",
   "name": "python3"
  },
  "language_info": {
   "codemirror_mode": {
    "name": "ipython",
    "version": 3
   },
   "file_extension": ".py",
   "mimetype": "text/x-python",
   "name": "python",
   "nbconvert_exporter": "python",
   "pygments_lexer": "ipython3",
   "version": "3.6.1"
  }
 },
 "nbformat": 4,
 "nbformat_minor": 1
}
