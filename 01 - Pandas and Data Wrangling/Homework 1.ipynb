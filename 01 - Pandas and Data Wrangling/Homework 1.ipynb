{
 "cells": [
  {
   "cell_type": "markdown",
   "metadata": {},
   "source": [
    "# Table of Contents\n",
    " <p><div class=\"lev1\"><a href=\"#Task-1.-Compiling-Ebola-Data\"><span class=\"toc-item-num\">Task 1.&nbsp;&nbsp;</span>Compiling Ebola Data</a></div>\n",
    " <div class=\"lev1\"><a href=\"#Task-2.-RNA-Sequences\"><span class=\"toc-item-num\">Task 2.&nbsp;&nbsp;</span>RNA Sequences</a></div>\n",
    " <div class=\"lev1\"><a href=\"#Task-3.-Class-War-in-Titanic\"><span class=\"toc-item-num\">Task 3.&nbsp;&nbsp;</span>Class War in Titanic</a></div></p>"
   ]
  },
  {
   "cell_type": "code",
   "execution_count": 2,
   "metadata": {
    "collapsed": true
   },
   "outputs": [],
   "source": [
    "import pandas as pd\n",
    "DATA_FOLDER = './Data' # Use the data folder provided in Tutorial 02 - Intro to Pandas.\n"
   ]
  },
  {
   "cell_type": "markdown",
   "metadata": {},
   "source": [
    "## Task 1. Compiling Ebola Data\n",
    "\n",
    "The `DATA_FOLDER/ebola` folder contains summarized reports of Ebola cases from three countries (Guinea, Liberia and Sierra Leone) during the recent outbreak of the disease in West Africa. For each country, there are daily reports that contain various information about the outbreak in several cities in each country.\n",
    "\n",
    "Use pandas to import these data files into a single `Dataframe`.\n",
    "Using this `DataFrame`, calculate for *each country*, the *daily average* per year of *new cases* and *deaths*.\n",
    "Make sure you handle all the different expressions for *new cases* and *deaths* that are used in the reports."
   ]
  },
  {
   "cell_type": "code",
   "execution_count": null,
   "metadata": {
    "collapsed": true
   },
   "outputs": [],
   "source": []
  },
  {
   "cell_type": "markdown",
   "metadata": {},
   "source": [
    "## Task 2. RNA Sequences\n",
    "\n",
    "In the `DATA_FOLDER/microbiome` subdirectory, there are 9 spreadsheets of microbiome data that was acquired from high-throughput RNA sequencing procedures, along with a 10<sup>th</sup> file that describes the content of each. \n",
    "\n",
    "Use pandas to import the first 9 spreadsheets into a single `DataFrame`.\n",
    "Then, add the metadata information from the 10<sup>th</sup> spreadsheet as columns in the combined `DataFrame`.\n",
    "Make sure that the final `DataFrame` has a unique index and all the `NaN` values have been replaced by the tag `unknown`."
   ]
  },
  {
   "cell_type": "code",
   "execution_count": 3,
   "metadata": {
    "collapsed": true
   },
   "outputs": [],
   "source": [
    "# Write your answer here"
   ]
  },
  {
   "cell_type": "markdown",
   "metadata": {},
   "source": [
    "## Task 3. Class War in Titanic\n",
    "\n",
    "Use pandas to import the data file `Data/titanic.xls`. It contains data on all the passengers that travelled on the Titanic."
   ]
  },
  {
   "cell_type": "code",
   "execution_count": 70,
   "metadata": {
    "collapsed": false
   },
   "outputs": [
    {
     "data": {
      "text/plain": [
       "0                        St Louis, MO\n",
       "1     Montreal, PQ / Chesterville, ON\n",
       "2     Montreal, PQ / Chesterville, ON\n",
       "3     Montreal, PQ / Chesterville, ON\n",
       "4     Montreal, PQ / Chesterville, ON\n",
       "5                        New York, NY\n",
       "6                          Hudson, NY\n",
       "7                         Belfast, NI\n",
       "8                 Bayside, Queens, NY\n",
       "9                 Montevideo, Uruguay\n",
       "10                       New York, NY\n",
       "11                       New York, NY\n",
       "12                      Paris, France\n",
       "13                                NaN\n",
       "14                      Hessle, Yorks\n",
       "15                       New York, NY\n",
       "16                       Montreal, PQ\n",
       "17                       Montreal, PQ\n",
       "18                                NaN\n",
       "19                       Winnipeg, MN\n",
       "Name: home.dest, dtype: category\n",
       "Categories (369, object): [?Havana, Cuba, Aberdeen / Portland, OR, Albany, NY, Altdorf, Switzerland, ..., Worcester, MA, Yoevil, England / Cottage Grove, OR, Youngstown, OH, Zurich, Switzerland]"
      ]
     },
     "execution_count": 70,
     "metadata": {},
     "output_type": "execute_result"
    }
   ],
   "source": [
    "from IPython.core.display import HTML\n",
    "HTML(DATA_FOLDER+'/titanic.html')\n",
    "titanic_frame = pd.read_excel(DATA_FOLDER+'/titanic.xls',index_col=None)\n",
    "titanic_frame['pclass'] = titanic_frame.pclass.astype('category')\n",
    "titanic_frame['survived'] = titanic_frame.survived.astype('category')\n",
    "titanic_frame['sex'] = titanic_frame.sex.astype('category')\n",
    "titanic_frame['sibsp'] = titanic_frame.sibsp.astype('category')\n",
    "titanic_frame['parch'] = titanic_frame.parch.astype('category')\n",
    "titanic_frame['cabin'] = titanic_frame.cabin.astype('category')\n",
    "titanic_frame['embarked'] = titanic_frame.embarked.astype('category')\n",
    "titanic_frame['boat'] = titanic_frame.boat.astype('category')\n",
    "titanic_frame['body'] = titanic_frame.body.astype('category')\n",
    "\n"
   ]
  },
  {
   "cell_type": "markdown",
   "metadata": {},
   "source": [
    "For each of the following questions state clearly your assumptions and discuss your findings:\n",
    "1. Describe the *type* and the *value range* of each attribute. Indicate and transform the attributes that can be `Categorical`. \n",
    "2. Plot histograms for the *travel class*, *embarkation port*, *sex* and *age* attributes. For the latter one, use *discrete decade intervals*. \n",
    "3. Calculate the proportion of passengers by *cabin floor*. Present your results in a *pie chart*.\n",
    "4. For each *travel class*, calculate the proportion of the passengers that survived. Present your results in *pie charts*.\n",
    "5. Calculate the proportion of the passengers that survived by *travel class* and *sex*. Present your results in *a single histogram*.\n",
    "6. Create 2 equally populated *age categories* and calculate survival proportions by *age category*, *travel class* and *sex*. Present your results in a `DataFrame` with unique index."
   ]
  },
  {
   "cell_type": "markdown",
   "metadata": {
    "collapsed": true
   },
   "source": [
    "# Write your answer here\n",
    "\n",
    "There are 14 Attributes. The first one is pclass which is an int between 1 and 3 that represent the class in which the passenger was (first, second or third). It can be Categorical (only 3)\n",
    "\n",
    "The second attribute is the survived one, which is just an integer ( 1 or a 0) that represent if the passenger survived the acccident, so it can be categorical too.\n",
    "\n",
    "The name are chains of characters and can't be categorical.\n",
    "\n",
    "The sex attribute can be categorical as it is written as (male or female) and considered as an object, so we can categorize it.\n",
    "\n",
    "The age attribute is in year, so it's a double as it seems some passenger were not even 1 year old, or the data are wrong ( the second passenger is 0.9167). There are also some missing data, it won't be categorical as there are too many values.\n",
    "\n",
    "The sibsp attribute is the number of siblings/spouses aboard is an integer, and can be categorical as it has very few different values (categorical data stored with 8 bit index).\n",
    "\n",
    "The parch attribute is the number of parent/children aboard is an integer, and can also be in a category as few different values.\n",
    "\n",
    "The ticket attribute is an object that represent the ticket number and cannot be categorical as there are lot of different syntaxes.\n",
    "\n",
    "The fare is a double that represent the price payed, it has too many different values to be categorized.\n",
    "\n",
    "The cabin (string) is the level and number of cabin as there are only 186 different we can categorize it.\n",
    "\n",
    "The embarked attribute is a char (C, Q or S) so can be categorical\n",
    "\n",
    "The boat is an object (string) an can be categorize as there are 28 values.\n",
    "\n",
    "The body is a double that is the body ID number, lot of values are NaN as they survived. There are 121 values and it can be categorical\n",
    "\n",
    "The home.dest is a string that represent the home/destination of the passenger. Are they are too many values it can be categorized.\n"
   ]
  },
  {
   "cell_type": "code",
   "execution_count": 74,
   "metadata": {
    "collapsed": false
   },
   "outputs": [
    {
     "data": {
      "text/plain": [
       "[]"
      ]
     },
     "execution_count": 74,
     "metadata": {},
     "output_type": "execute_result"
    }
   ],
   "source": [
    "titanic_frame.pclass.hist(bins=500).plot()"
   ]
  },
  {
   "cell_type": "code",
   "execution_count": null,
   "metadata": {
    "collapsed": true
   },
   "outputs": [],
   "source": []
  }
 ],
 "metadata": {
  "anaconda-cloud": {},
  "kernelspec": {
   "display_name": "Python [Root]",
   "language": "python",
   "name": "Python [Root]"
  },
  "language_info": {
   "codemirror_mode": {
    "name": "ipython",
    "version": 3
   },
   "file_extension": ".py",
   "mimetype": "text/x-python",
   "name": "python",
   "nbconvert_exporter": "python",
   "pygments_lexer": "ipython3",
   "version": "3.5.2"
  }
 },
 "nbformat": 4,
 "nbformat_minor": 2
}
