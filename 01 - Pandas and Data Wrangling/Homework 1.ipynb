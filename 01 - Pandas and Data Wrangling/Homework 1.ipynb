{
 "cells": [
  {
   "cell_type": "markdown",
   "metadata": {},
   "source": [
    "# Table of Contents\n",
    " <p><div class=\"lev1\"><a href=\"#Task-1.-Compiling-Ebola-Data\"><span class=\"toc-item-num\">Task 1.&nbsp;&nbsp;</span>Compiling Ebola Data</a></div>\n",
    " <div class=\"lev1\"><a href=\"#Task-2.-RNA-Sequences\"><span class=\"toc-item-num\">Task 2.&nbsp;&nbsp;</span>RNA Sequences</a></div>\n",
    " <div class=\"lev1\"><a href=\"#Task-3.-Class-War-in-Titanic\"><span class=\"toc-item-num\">Task 3.&nbsp;&nbsp;</span>Class War in Titanic</a></div></p>"
   ]
  },
  {
   "cell_type": "code",
   "execution_count": 1,
   "metadata": {
    "collapsed": true
   },
   "outputs": [],
   "source": [
    "import pandas as pd\n",
    "import numpy as np\n",
    "import matplotlib.pyplot as plt\n",
    "%matplotlib inline\n",
    "DATA_FOLDER = './Data' # Use the data folder provided in Tutorial 02 - Intro to Pandas.\n"
   ]
  },
  {
   "cell_type": "markdown",
   "metadata": {},
   "source": [
    "## Task 1. Compiling Ebola Data\n",
    "\n",
    "The `DATA_FOLDER/ebola` folder contains summarized reports of Ebola cases from three countries (Guinea, Liberia and Sierra Leone) during the recent outbreak of the disease in West Africa. For each country, there are daily reports that contain various information about the outbreak in several cities in each country.\n",
    "\n",
    "Use pandas to import these data files into a single `Dataframe`.\n",
    "Using this `DataFrame`, calculate for *each country*, the *daily average* per year of *new cases* and *deaths*.\n",
    "Make sure you handle all the different expressions for *new cases* and *deaths* that are used in the reports."
   ]
  },
  {
   "cell_type": "markdown",
   "metadata": {},
   "source": [
    "Initialize data sources"
   ]
  },
  {
   "cell_type": "code",
   "execution_count": 2,
   "metadata": {
    "collapsed": true
   },
   "outputs": [],
   "source": [
    "EBOLA_FOLDER = DATA_FOLDER + '/ebola'\n",
    "GUINEA_EBOLA_FOLDER = EBOLA_FOLDER + '/guinea_data'\n",
    "LIBERIA_EBOLA_FOLDER = EBOLA_FOLDER + '/liberia_data'\n",
    "SL_EBOLA_FOLDER = EBOLA_FOLDER + '/sl_data'"
   ]
  },
  {
   "cell_type": "markdown",
   "metadata": {},
   "source": [
    "Find files for each countries\n",
    "\n"
   ]
  },
  {
   "cell_type": "code",
   "execution_count": 3,
   "metadata": {
    "collapsed": true
   },
   "outputs": [],
   "source": [
    "import os\n",
    "from os import listdir\n",
    "\n",
    "guineaFiles = os.listdir(GUINEA_EBOLA_FOLDER)\n",
    "liberiaFiles = os.listdir(LIBERIA_EBOLA_FOLDER)\n",
    "slFiles = os.listdir(SL_EBOLA_FOLDER)"
   ]
  },
  {
   "cell_type": "markdown",
   "metadata": {},
   "source": [
    "Create `Dataframe` for each country"
   ]
  },
  {
   "cell_type": "code",
   "execution_count": 4,
   "metadata": {
    "collapsed": true
   },
   "outputs": [],
   "source": [
    "dataGuinea = pd.read_csv(GUINEA_EBOLA_FOLDER+'/'+guineaFiles[0])\n",
    "\n",
    "for i in range(1,len(guineaFiles)):\n",
    "    dataGuinea = dataGuinea.append(pd.read_csv(GUINEA_EBOLA_FOLDER+'/'+guineaFiles[i]))"
   ]
  },
  {
   "cell_type": "code",
   "execution_count": 5,
   "metadata": {
    "collapsed": true
   },
   "outputs": [],
   "source": [
    "dataLiberia = pd.read_csv(LIBERIA_EBOLA_FOLDER+'/'+liberiaFiles[0])\n",
    "\n",
    "for i in range(1,len(liberiaFiles)):\n",
    "    dataLiberia = dataLiberia.append(pd.read_csv(LIBERIA_EBOLA_FOLDER+'/'+liberiaFiles[i]))"
   ]
  },
  {
   "cell_type": "code",
   "execution_count": 6,
   "metadata": {
    "collapsed": true
   },
   "outputs": [],
   "source": [
    "dataSl = pd.read_csv(SL_EBOLA_FOLDER+'/'+slFiles[0])\n",
    "\n",
    "for i in range(1,len(slFiles)):\n",
    "    dataSl = dataSl.append(pd.read_csv(SL_EBOLA_FOLDER+'/'+slFiles[i]))"
   ]
  },
  {
   "cell_type": "markdown",
   "metadata": {},
   "source": [
    "Assume that missing values for counters are zeroand missing features also only contain zeros."
   ]
  },
  {
   "cell_type": "code",
   "execution_count": 7,
   "metadata": {
    "collapsed": true
   },
   "outputs": [],
   "source": [
    "dataGuinea = dataGuinea.fillna(0)\n",
    "dataLiberia = dataLiberia.fillna(0)\n",
    "dataSl = dataSl.fillna(0)"
   ]
  },
  {
   "cell_type": "markdown",
   "metadata": {},
   "source": [
    "For the calculation we assume that the already calculated sums in the data are correct. In case of calculation errors it is anyhow now clear where the fault came from\n"
   ]
  },
  {
   "cell_type": "markdown",
   "metadata": {},
   "source": [
    "Take sum of each *Total new cases registered so far* from Guinea data for *new cases*.\n",
    "* It contains the sum of suspects, probables and confirmed new cases between measurements.\n",
    "*  The values are not rising. Thus the field does not represent all new cases since the beginning\n",
    "\n",
    "Take sum of each *Total deaths (confirmed + probables + suspects)* from Guinea data for *deaths*.\n",
    "* It contains the sum of suspects, probables and confirmed new cases  between measurements.\n",
    "* The values are not rising. Thus the field does not represent all deaths since the beginning\n",
    "\n",
    "Finally we only take the date and the total column, since the cities have already be summed up"
   ]
  },
  {
   "cell_type": "code",
   "execution_count": 8,
   "metadata": {
    "collapsed": true
   },
   "outputs": [],
   "source": [
    "dataGuineaCases = dataGuinea[dataGuinea.Description == 'Total new cases registered so far'][['Date','Totals']]\n",
    "dataGuineaDeaths = dataGuinea[dataGuinea.Description == 'Total deaths (confirmed + probables + suspects)'][['Date','Totals']]"
   ]
  },
  {
   "cell_type": "code",
   "execution_count": 9,
   "metadata": {},
   "outputs": [
    {
     "data": {
      "text/plain": [
       "<matplotlib.axes._subplots.AxesSubplot at 0x1e67d77ecf8>"
      ]
     },
     "execution_count": 9,
     "metadata": {},
     "output_type": "execute_result"
    },
    {
     "data": {
      "image/png": "[encoded data removed]",
      "text/plain": [
       "<matplotlib.figure.Figure at 0x1e67d75ed30>"
      ]
     },
     "metadata": {},
     "output_type": "display_data"
    }
   ],
   "source": [
    "dataGuineaCases.Date = pd.to_datetime(dataGuineaCases['Date'], format='%Y-%m-%d')\n",
    "dataGuineaCases.set_index(['Date'],inplace=True)\n",
    "dataGuineaCases.astype(float).plot()"
   ]
  },
  {
   "cell_type": "code",
   "execution_count": 10,
   "metadata": {},
   "outputs": [
    {
     "data": {
      "text/plain": [
       "<matplotlib.axes._subplots.AxesSubplot at 0x1e67db0e128>"
      ]
     },
     "execution_count": 10,
     "metadata": {},
     "output_type": "execute_result"
    },
    {
     "data": {
      "image/png": "[encoded data removed]",
      "text/plain": [
       "<matplotlib.figure.Figure at 0x1e67d9729b0>"
      ]
     },
     "metadata": {},
     "output_type": "display_data"
    }
   ],
   "source": [
    "dataGuineaDeaths.Date = pd.to_datetime(dataGuineaDeaths['Date'], format='%Y-%m-%d')\n",
    "dataGuineaDeaths.set_index(['Date'],inplace=True)\n",
    "dataGuineaDeaths.astype(float).plot()"
   ]
  },
  {
   "cell_type": "markdown",
   "metadata": {},
   "source": [
    "Apply the same rules for liberia for fields `Total death/s in confirmed, probable, suspected cases` united with `Total death/s in confirmed,` and the sum of `New Case/s (Suspected)`, `New Case/s (Probable)` and `New case/s (confirmed)`"
   ]
  },
  {
   "cell_type": "code",
   "execution_count": 11,
   "metadata": {
    "collapsed": true
   },
   "outputs": [],
   "source": [
    "dataLiberiaCases = dataLiberia[dataLiberia.Variable == 'New Case/s (Suspected)'][['Date','National']]\n",
    "dataLiberiaCases = dataLiberiaCases.append(dataLiberia[dataLiberia.Variable == 'New Case/s (Probable)'][['Date','National']])\n",
    "dataLiberiaCases = dataLiberiaCases.append(dataLiberia[dataLiberia.Variable == 'New case/s (confirmed)'][['Date','National']])\n",
    "dataLiberiaCases = dataLiberiaCases.groupby(['Date']).sum()\n",
    "\n",
    "dataLiberiaDeaths = dataLiberia[dataLiberia.Variable == 'Total death/s in confirmed, probable, suspected cases'][['Date','National']]\n",
    "dataLiberiaDeaths = dataLiberiaDeaths.append(dataLiberia[dataLiberia.Variable == 'Total death/s in confirmed,'][['Date','National']])"
   ]
  },
  {
   "cell_type": "code",
   "execution_count": 12,
   "metadata": {},
   "outputs": [
    {
     "data": {
      "text/plain": [
       "<matplotlib.axes._subplots.AxesSubplot at 0x1e67dc68550>"
      ]
     },
     "execution_count": 12,
     "metadata": {},
     "output_type": "execute_result"
    },
    {
     "data": {
      "image/png": "[encoded data removed]",
      "text/plain": [
       "<matplotlib.figure.Figure at 0x1e67d7777b8>"
      ]
     },
     "metadata": {},
     "output_type": "display_data"
    }
   ],
   "source": [
    "dataLiberiaCases.astype(float).plot()"
   ]
  },
  {
   "cell_type": "code",
   "execution_count": 13,
   "metadata": {},
   "outputs": [
    {
     "data": {
      "text/plain": [
       "<matplotlib.axes._subplots.AxesSubplot at 0x1e67dd4d908>"
      ]
     },
     "execution_count": 13,
     "metadata": {},
     "output_type": "execute_result"
    },
    {
     "data": {
      "image/png": "[encoded data removed]",
      "text/plain": [
       "<matplotlib.figure.Figure at 0x1e67dfa4a90>"
      ]
     },
     "metadata": {},
     "output_type": "display_data"
    }
   ],
   "source": [
    "dataLiberiaDeaths.set_index(['Date'],inplace=True)\n",
    "dataLiberiaDeaths.astype(float).plot()"
   ]
  },
  {
   "cell_type": "markdown",
   "metadata": {},
   "source": [
    "Apply the same rules for liberia for fields sum of `death_suspected`, `death_probable` and  `death_confirmed` and the sum of `new_suspected`, `new_probable` and `new_confirmed`"
   ]
  },
  {
   "cell_type": "code",
   "execution_count": 14,
   "metadata": {
    "collapsed": true
   },
   "outputs": [],
   "source": [
    "dataSlCases = dataSl[dataSl.variable == 'new_suspected'][['date','National']]\n",
    "dataSlCases = dataSlCases.append(dataSl[dataSl.variable == 'new_probable'][['date','National']])\n",
    "dataSlCases = dataSlCases.append(dataSl[dataSl.variable == 'new_confirmed'][['date','National']])\n",
    "dataSlCases = dataSlCases.groupby(['date']).sum()\n",
    "\n",
    "dataSlDeaths = dataSl[dataSl.variable == 'death_suspected'][['date','National']]\n",
    "dataSlDeaths = dataSlDeaths.append(dataSl[dataSl.variable == 'death_probable'][['date','National']])\n",
    "dataSlDeaths = dataSlDeaths.append(dataSl[dataSl.variable == 'death_confirmed'][['date','National']])\n",
    "dataSlDeaths = dataSlDeaths.groupby(['date']).sum()"
   ]
  },
  {
   "cell_type": "code",
   "execution_count": 15,
   "metadata": {},
   "outputs": [
    {
     "data": {
      "text/plain": [
       "<matplotlib.axes._subplots.AxesSubplot at 0x1e67dfd00f0>"
      ]
     },
     "execution_count": 15,
     "metadata": {},
     "output_type": "execute_result"
    },
    {
     "data": {
      "image/png": "[encoded data removed]",
      "text/plain": [
       "<matplotlib.figure.Figure at 0x1e67dfea5c0>"
      ]
     },
     "metadata": {},
     "output_type": "display_data"
    }
   ],
   "source": [
    "dataSlCases.astype(float).plot()"
   ]
  },
  {
   "cell_type": "code",
   "execution_count": 16,
   "metadata": {},
   "outputs": [
    {
     "data": {
      "text/plain": [
       "<matplotlib.axes._subplots.AxesSubplot at 0x1e67e1197f0>"
      ]
     },
     "execution_count": 16,
     "metadata": {},
     "output_type": "execute_result"
    },
    {
     "data": {
      "image/png": "[encoded data removed]",
      "text/plain": [
       "<matplotlib.figure.Figure at 0x1e67e036240>"
      ]
     },
     "metadata": {},
     "output_type": "display_data"
    }
   ],
   "source": [
    "dataSlDeaths.astype(float).plot()"
   ]
  },
  {
   "cell_type": "markdown",
   "metadata": {},
   "source": [
    "Create single `Dataframe`"
   ]
  },
  {
   "cell_type": "code",
   "execution_count": 17,
   "metadata": {
    "collapsed": true
   },
   "outputs": [],
   "source": [
    "dataGuineaCases['GuineaCases'] = dataGuineaCases.Totals\n",
    "dataGuineaCases = dataGuineaCases.drop('Totals', axis=1)\n",
    "\n",
    "dataGuineaDeaths['GuineaDeaths'] = dataGuineaDeaths.Totals\n",
    "dataGuineaDeaths = dataGuineaDeaths.drop('Totals', axis=1)\n",
    "\n",
    "dataGuinea = dataGuineaCases.join(dataGuineaDeaths, how='outer')"
   ]
  },
  {
   "cell_type": "code",
   "execution_count": 18,
   "metadata": {
    "collapsed": true
   },
   "outputs": [],
   "source": [
    "dataLiberiaCases['LiberiaCases'] = dataLiberiaCases.National\n",
    "dataLiberiaCases = dataLiberiaCases.drop('National', axis=1)\n",
    "\n",
    "dataLiberiaDeaths['LiberiaDeaths'] = dataLiberiaDeaths.National\n",
    "dataLiberiaDeaths = dataLiberiaDeaths.drop('National', axis=1)\n",
    "\n",
    "dataLiberia = dataLiberiaCases.join(dataLiberiaDeaths, how='outer')"
   ]
  },
  {
   "cell_type": "code",
   "execution_count": 19,
   "metadata": {
    "collapsed": true
   },
   "outputs": [],
   "source": [
    "dataSlCases['SlCases'] = dataSlCases.National\n",
    "dataSlCases = dataSlCases.drop('National', axis=1)\n",
    "\n",
    "dataSlDeaths['SlDeaths'] = dataSlDeaths.National\n",
    "dataSlDeaths = dataSlDeaths.drop('National', axis=1)\n",
    "\n",
    "dataSl = dataSlCases.join(dataSlDeaths, how='outer')"
   ]
  },
  {
   "cell_type": "code",
   "execution_count": 20,
   "metadata": {
    "scrolled": true
   },
   "outputs": [
    {
     "data": {
      "text/html": [
       "<div>\n",
       "<style>\n",
       "    .dataframe thead tr:only-child th {\n",
       "        text-align: right;\n",
       "    }\n",
       "\n",
       "    .dataframe thead th {\n",
       "        text-align: left;\n",
       "    }\n",
       "\n",
       "    .dataframe tbody tr th {\n",
       "        vertical-align: top;\n",
       "    }\n",
       "</style>\n",
       "<table border=\"1\" class=\"dataframe\">\n",
       "  <thead>\n",
       "    <tr style=\"text-align: right;\">\n",
       "      <th></th>\n",
       "      <th>GuineaCases</th>\n",
       "      <th>GuineaDeaths</th>\n",
       "      <th>LiberiaCases</th>\n",
       "      <th>LiberiaDeaths</th>\n",
       "      <th>SlCases</th>\n",
       "      <th>SlDeaths</th>\n",
       "    </tr>\n",
       "  </thead>\n",
       "  <tbody>\n",
       "    <tr>\n",
       "      <th>2014-06-16</th>\n",
       "      <td>0</td>\n",
       "      <td>0</td>\n",
       "      <td>4.0</td>\n",
       "      <td>16.0</td>\n",
       "      <td>0.0</td>\n",
       "      <td>0.000000e+00</td>\n",
       "    </tr>\n",
       "    <tr>\n",
       "      <th>2014-06-17</th>\n",
       "      <td>0</td>\n",
       "      <td>0</td>\n",
       "      <td>2.0</td>\n",
       "      <td>16.0</td>\n",
       "      <td>0.0</td>\n",
       "      <td>0.000000e+00</td>\n",
       "    </tr>\n",
       "    <tr>\n",
       "      <th>2014-06-22</th>\n",
       "      <td>0</td>\n",
       "      <td>0</td>\n",
       "      <td>10.0</td>\n",
       "      <td>25.0</td>\n",
       "      <td>0.0</td>\n",
       "      <td>0.000000e+00</td>\n",
       "    </tr>\n",
       "    <tr>\n",
       "      <th>2014-06-24</th>\n",
       "      <td>0</td>\n",
       "      <td>0</td>\n",
       "      <td>6.0</td>\n",
       "      <td>32.0</td>\n",
       "      <td>0.0</td>\n",
       "      <td>0.000000e+00</td>\n",
       "    </tr>\n",
       "    <tr>\n",
       "      <th>2014-06-25</th>\n",
       "      <td>0</td>\n",
       "      <td>0</td>\n",
       "      <td>7.0</td>\n",
       "      <td>37.0</td>\n",
       "      <td>0.0</td>\n",
       "      <td>0.000000e+00</td>\n",
       "    </tr>\n",
       "    <tr>\n",
       "      <th>2014-06-28</th>\n",
       "      <td>0</td>\n",
       "      <td>0</td>\n",
       "      <td>9.0</td>\n",
       "      <td>49.0</td>\n",
       "      <td>0.0</td>\n",
       "      <td>0.000000e+00</td>\n",
       "    </tr>\n",
       "    <tr>\n",
       "      <th>2014-06-29</th>\n",
       "      <td>0</td>\n",
       "      <td>0</td>\n",
       "      <td>2.0</td>\n",
       "      <td>49.0</td>\n",
       "      <td>0.0</td>\n",
       "      <td>0.000000e+00</td>\n",
       "    </tr>\n",
       "    <tr>\n",
       "      <th>2014-07-01</th>\n",
       "      <td>0</td>\n",
       "      <td>0</td>\n",
       "      <td>4.0</td>\n",
       "      <td>61.0</td>\n",
       "      <td>0.0</td>\n",
       "      <td>0.000000e+00</td>\n",
       "    </tr>\n",
       "    <tr>\n",
       "      <th>2014-07-02</th>\n",
       "      <td>0</td>\n",
       "      <td>0</td>\n",
       "      <td>4.0</td>\n",
       "      <td>66.0</td>\n",
       "      <td>0.0</td>\n",
       "      <td>0.000000e+00</td>\n",
       "    </tr>\n",
       "    <tr>\n",
       "      <th>2014-07-03</th>\n",
       "      <td>0</td>\n",
       "      <td>0</td>\n",
       "      <td>4.0</td>\n",
       "      <td>70.0</td>\n",
       "      <td>0.0</td>\n",
       "      <td>0.000000e+00</td>\n",
       "    </tr>\n",
       "    <tr>\n",
       "      <th>2014-07-07</th>\n",
       "      <td>0</td>\n",
       "      <td>0</td>\n",
       "      <td>7.0</td>\n",
       "      <td>78.0</td>\n",
       "      <td>0.0</td>\n",
       "      <td>0.000000e+00</td>\n",
       "    </tr>\n",
       "    <tr>\n",
       "      <th>2014-07-08</th>\n",
       "      <td>0</td>\n",
       "      <td>0</td>\n",
       "      <td>3.0</td>\n",
       "      <td>80.0</td>\n",
       "      <td>0.0</td>\n",
       "      <td>0.000000e+00</td>\n",
       "    </tr>\n",
       "    <tr>\n",
       "      <th>2014-07-10</th>\n",
       "      <td>0</td>\n",
       "      <td>0</td>\n",
       "      <td>3.0</td>\n",
       "      <td>85.0</td>\n",
       "      <td>0.0</td>\n",
       "      <td>0.000000e+00</td>\n",
       "    </tr>\n",
       "    <tr>\n",
       "      <th>2014-07-13</th>\n",
       "      <td>0</td>\n",
       "      <td>0</td>\n",
       "      <td>5.0</td>\n",
       "      <td>94.0</td>\n",
       "      <td>0.0</td>\n",
       "      <td>0.000000e+00</td>\n",
       "    </tr>\n",
       "    <tr>\n",
       "      <th>2014-07-17</th>\n",
       "      <td>0</td>\n",
       "      <td>0</td>\n",
       "      <td>10.0</td>\n",
       "      <td>108.0</td>\n",
       "      <td>0.0</td>\n",
       "      <td>0.000000e+00</td>\n",
       "    </tr>\n",
       "    <tr>\n",
       "      <th>2014-07-20</th>\n",
       "      <td>0</td>\n",
       "      <td>0</td>\n",
       "      <td>3.0</td>\n",
       "      <td>116.0</td>\n",
       "      <td>0.0</td>\n",
       "      <td>0.000000e+00</td>\n",
       "    </tr>\n",
       "    <tr>\n",
       "      <th>2014-07-24</th>\n",
       "      <td>0</td>\n",
       "      <td>0</td>\n",
       "      <td>32.0</td>\n",
       "      <td>136.0</td>\n",
       "      <td>0.0</td>\n",
       "      <td>0.000000e+00</td>\n",
       "    </tr>\n",
       "    <tr>\n",
       "      <th>2014-07-26</th>\n",
       "      <td>0</td>\n",
       "      <td>0</td>\n",
       "      <td>19.0</td>\n",
       "      <td>145.0</td>\n",
       "      <td>0.0</td>\n",
       "      <td>0.000000e+00</td>\n",
       "    </tr>\n",
       "    <tr>\n",
       "      <th>2014-08-02</th>\n",
       "      <td>0</td>\n",
       "      <td>0</td>\n",
       "      <td>11.0</td>\n",
       "      <td>257.0</td>\n",
       "      <td>0.0</td>\n",
       "      <td>0.000000e+00</td>\n",
       "    </tr>\n",
       "    <tr>\n",
       "      <th>2014-08-04</th>\n",
       "      <td>9</td>\n",
       "      <td>363</td>\n",
       "      <td>10.0</td>\n",
       "      <td>271.0</td>\n",
       "      <td>0.0</td>\n",
       "      <td>0.000000e+00</td>\n",
       "    </tr>\n",
       "    <tr>\n",
       "      <th>2014-08-12</th>\n",
       "      <td>0</td>\n",
       "      <td>0</td>\n",
       "      <td>60.0</td>\n",
       "      <td>365.0</td>\n",
       "      <td>10111.0</td>\n",
       "      <td>5.342640e+05</td>\n",
       "    </tr>\n",
       "    <tr>\n",
       "      <th>2014-08-13</th>\n",
       "      <td>0</td>\n",
       "      <td>0</td>\n",
       "      <td>0.0</td>\n",
       "      <td>0.0</td>\n",
       "      <td>3115.0</td>\n",
       "      <td>5.342730e+05</td>\n",
       "    </tr>\n",
       "    <tr>\n",
       "      <th>2014-08-14</th>\n",
       "      <td>0</td>\n",
       "      <td>0</td>\n",
       "      <td>0.0</td>\n",
       "      <td>0.0</td>\n",
       "      <td>213.0</td>\n",
       "      <td>5.342800e+05</td>\n",
       "    </tr>\n",
       "    <tr>\n",
       "      <th>2014-08-15</th>\n",
       "      <td>0</td>\n",
       "      <td>0</td>\n",
       "      <td>19.0</td>\n",
       "      <td>455.0</td>\n",
       "      <td>6110.0</td>\n",
       "      <td>5.342870e+05</td>\n",
       "    </tr>\n",
       "    <tr>\n",
       "      <th>2014-08-16</th>\n",
       "      <td>0</td>\n",
       "      <td>0</td>\n",
       "      <td>0.0</td>\n",
       "      <td>0.0</td>\n",
       "      <td>3018.0</td>\n",
       "      <td>5.342970e+05</td>\n",
       "    </tr>\n",
       "    <tr>\n",
       "      <th>2014-08-17</th>\n",
       "      <td>0</td>\n",
       "      <td>0</td>\n",
       "      <td>24.0</td>\n",
       "      <td>481.0</td>\n",
       "      <td>102.0</td>\n",
       "      <td>5.343050e+05</td>\n",
       "    </tr>\n",
       "    <tr>\n",
       "      <th>2014-08-18</th>\n",
       "      <td>0</td>\n",
       "      <td>0</td>\n",
       "      <td>56.0</td>\n",
       "      <td>565.0</td>\n",
       "      <td>40155.0</td>\n",
       "      <td>5.343120e+05</td>\n",
       "    </tr>\n",
       "    <tr>\n",
       "      <th>2014-08-19</th>\n",
       "      <td>0</td>\n",
       "      <td>0</td>\n",
       "      <td>0.0</td>\n",
       "      <td>0.0</td>\n",
       "      <td>1639.0</td>\n",
       "      <td>5.343200e+05</td>\n",
       "    </tr>\n",
       "    <tr>\n",
       "      <th>2014-08-20</th>\n",
       "      <td>0</td>\n",
       "      <td>0</td>\n",
       "      <td>65.0</td>\n",
       "      <td>613.0</td>\n",
       "      <td>104.0</td>\n",
       "      <td>5.343220e+05</td>\n",
       "    </tr>\n",
       "    <tr>\n",
       "      <th>2014-08-21</th>\n",
       "      <td>0</td>\n",
       "      <td>0</td>\n",
       "      <td>0.0</td>\n",
       "      <td>0.0</td>\n",
       "      <td>9.0</td>\n",
       "      <td>8.343290e+05</td>\n",
       "    </tr>\n",
       "    <tr>\n",
       "      <th>...</th>\n",
       "      <td>...</td>\n",
       "      <td>...</td>\n",
       "      <td>...</td>\n",
       "      <td>...</td>\n",
       "      <td>...</td>\n",
       "      <td>...</td>\n",
       "    </tr>\n",
       "    <tr>\n",
       "      <th>2014-11-08</th>\n",
       "      <td>0</td>\n",
       "      <td>0</td>\n",
       "      <td>28.0</td>\n",
       "      <td>0.0</td>\n",
       "      <td>200111.0</td>\n",
       "      <td>1.572081e+09</td>\n",
       "    </tr>\n",
       "    <tr>\n",
       "      <th>2014-11-10</th>\n",
       "      <td>0</td>\n",
       "      <td>0</td>\n",
       "      <td>0.0</td>\n",
       "      <td>0.0</td>\n",
       "      <td>126.0</td>\n",
       "      <td>1.514000e+03</td>\n",
       "    </tr>\n",
       "    <tr>\n",
       "      <th>2014-11-12</th>\n",
       "      <td>0</td>\n",
       "      <td>0</td>\n",
       "      <td>0.0</td>\n",
       "      <td>0.0</td>\n",
       "      <td>35061.0</td>\n",
       "      <td>1.572081e+09</td>\n",
       "    </tr>\n",
       "    <tr>\n",
       "      <th>2014-11-13</th>\n",
       "      <td>0</td>\n",
       "      <td>0</td>\n",
       "      <td>0.0</td>\n",
       "      <td>0.0</td>\n",
       "      <td>84.0</td>\n",
       "      <td>1.545000e+03</td>\n",
       "    </tr>\n",
       "    <tr>\n",
       "      <th>2014-11-14</th>\n",
       "      <td>0</td>\n",
       "      <td>0</td>\n",
       "      <td>20.0</td>\n",
       "      <td>0.0</td>\n",
       "      <td>0.0</td>\n",
       "      <td>0.000000e+00</td>\n",
       "    </tr>\n",
       "    <tr>\n",
       "      <th>2014-11-15</th>\n",
       "      <td>0</td>\n",
       "      <td>0</td>\n",
       "      <td>39.0</td>\n",
       "      <td>0.0</td>\n",
       "      <td>54.0</td>\n",
       "      <td>1.571000e+03</td>\n",
       "    </tr>\n",
       "    <tr>\n",
       "      <th>2014-11-16</th>\n",
       "      <td>0</td>\n",
       "      <td>0</td>\n",
       "      <td>0.0</td>\n",
       "      <td>0.0</td>\n",
       "      <td>89.0</td>\n",
       "      <td>1.588000e+03</td>\n",
       "    </tr>\n",
       "    <tr>\n",
       "      <th>2014-11-17</th>\n",
       "      <td>0</td>\n",
       "      <td>0</td>\n",
       "      <td>0.0</td>\n",
       "      <td>0.0</td>\n",
       "      <td>53.0</td>\n",
       "      <td>1.588000e+03</td>\n",
       "    </tr>\n",
       "    <tr>\n",
       "      <th>2014-11-18</th>\n",
       "      <td>0</td>\n",
       "      <td>0</td>\n",
       "      <td>0.0</td>\n",
       "      <td>0.0</td>\n",
       "      <td>43.0</td>\n",
       "      <td>1.605000e+03</td>\n",
       "    </tr>\n",
       "    <tr>\n",
       "      <th>2014-11-19</th>\n",
       "      <td>0</td>\n",
       "      <td>0</td>\n",
       "      <td>36.0</td>\n",
       "      <td>0.0</td>\n",
       "      <td>0.0</td>\n",
       "      <td>0.000000e+00</td>\n",
       "    </tr>\n",
       "    <tr>\n",
       "      <th>2014-11-20</th>\n",
       "      <td>0</td>\n",
       "      <td>0</td>\n",
       "      <td>40.0</td>\n",
       "      <td>0.0</td>\n",
       "      <td>130.0</td>\n",
       "      <td>1.648000e+03</td>\n",
       "    </tr>\n",
       "    <tr>\n",
       "      <th>2014-11-21</th>\n",
       "      <td>0</td>\n",
       "      <td>0</td>\n",
       "      <td>37.0</td>\n",
       "      <td>0.0</td>\n",
       "      <td>69.0</td>\n",
       "      <td>1.669000e+03</td>\n",
       "    </tr>\n",
       "    <tr>\n",
       "      <th>2014-11-22</th>\n",
       "      <td>0</td>\n",
       "      <td>0</td>\n",
       "      <td>0.0</td>\n",
       "      <td>0.0</td>\n",
       "      <td>75.0</td>\n",
       "      <td>1.699000e+03</td>\n",
       "    </tr>\n",
       "    <tr>\n",
       "      <th>2014-11-23</th>\n",
       "      <td>0</td>\n",
       "      <td>0</td>\n",
       "      <td>7.0</td>\n",
       "      <td>0.0</td>\n",
       "      <td>64.0</td>\n",
       "      <td>1.730000e+03</td>\n",
       "    </tr>\n",
       "    <tr>\n",
       "      <th>2014-11-24</th>\n",
       "      <td>0</td>\n",
       "      <td>0</td>\n",
       "      <td>25.0</td>\n",
       "      <td>0.0</td>\n",
       "      <td>115.0</td>\n",
       "      <td>1.763000e+03</td>\n",
       "    </tr>\n",
       "    <tr>\n",
       "      <th>2014-11-26</th>\n",
       "      <td>0</td>\n",
       "      <td>0</td>\n",
       "      <td>28.0</td>\n",
       "      <td>0.0</td>\n",
       "      <td>0.0</td>\n",
       "      <td>0.000000e+00</td>\n",
       "    </tr>\n",
       "    <tr>\n",
       "      <th>2014-11-27</th>\n",
       "      <td>0</td>\n",
       "      <td>0</td>\n",
       "      <td>46.0</td>\n",
       "      <td>0.0</td>\n",
       "      <td>0.0</td>\n",
       "      <td>0.000000e+00</td>\n",
       "    </tr>\n",
       "    <tr>\n",
       "      <th>2014-11-28</th>\n",
       "      <td>0</td>\n",
       "      <td>0</td>\n",
       "      <td>7.0</td>\n",
       "      <td>0.0</td>\n",
       "      <td>26084.0</td>\n",
       "      <td>1.582081e+09</td>\n",
       "    </tr>\n",
       "    <tr>\n",
       "      <th>2014-11-29</th>\n",
       "      <td>0</td>\n",
       "      <td>0</td>\n",
       "      <td>21.0</td>\n",
       "      <td>0.0</td>\n",
       "      <td>88.0</td>\n",
       "      <td>1.862000e+03</td>\n",
       "    </tr>\n",
       "    <tr>\n",
       "      <th>2014-11-30</th>\n",
       "      <td>0</td>\n",
       "      <td>0</td>\n",
       "      <td>10.0</td>\n",
       "      <td>0.0</td>\n",
       "      <td>0.0</td>\n",
       "      <td>0.000000e+00</td>\n",
       "    </tr>\n",
       "    <tr>\n",
       "      <th>2014-12-01</th>\n",
       "      <td>0</td>\n",
       "      <td>0</td>\n",
       "      <td>35.0</td>\n",
       "      <td>0.0</td>\n",
       "      <td>14072.0</td>\n",
       "      <td>1.582082e+09</td>\n",
       "    </tr>\n",
       "    <tr>\n",
       "      <th>2014-12-02</th>\n",
       "      <td>0</td>\n",
       "      <td>0</td>\n",
       "      <td>37.0</td>\n",
       "      <td>0.0</td>\n",
       "      <td>0.0</td>\n",
       "      <td>0.000000e+00</td>\n",
       "    </tr>\n",
       "    <tr>\n",
       "      <th>2014-12-03</th>\n",
       "      <td>0</td>\n",
       "      <td>0</td>\n",
       "      <td>0.0</td>\n",
       "      <td>0.0</td>\n",
       "      <td>0.0</td>\n",
       "      <td>0.000000e+00</td>\n",
       "    </tr>\n",
       "    <tr>\n",
       "      <th>2014-12-04</th>\n",
       "      <td>0</td>\n",
       "      <td>0</td>\n",
       "      <td>7721.0</td>\n",
       "      <td>0.0</td>\n",
       "      <td>4037.0</td>\n",
       "      <td>1.582082e+09</td>\n",
       "    </tr>\n",
       "    <tr>\n",
       "      <th>2014-12-05</th>\n",
       "      <td>0</td>\n",
       "      <td>0</td>\n",
       "      <td>7731.0</td>\n",
       "      <td>0.0</td>\n",
       "      <td>24054.0</td>\n",
       "      <td>1.582082e+09</td>\n",
       "    </tr>\n",
       "    <tr>\n",
       "      <th>2014-12-06</th>\n",
       "      <td>0</td>\n",
       "      <td>0</td>\n",
       "      <td>7735.0</td>\n",
       "      <td>0.0</td>\n",
       "      <td>0.0</td>\n",
       "      <td>2.074000e+03</td>\n",
       "    </tr>\n",
       "    <tr>\n",
       "      <th>2014-12-07</th>\n",
       "      <td>0</td>\n",
       "      <td>0</td>\n",
       "      <td>7765.0</td>\n",
       "      <td>0.0</td>\n",
       "      <td>0.0</td>\n",
       "      <td>0.000000e+00</td>\n",
       "    </tr>\n",
       "    <tr>\n",
       "      <th>2014-12-08</th>\n",
       "      <td>0</td>\n",
       "      <td>0</td>\n",
       "      <td>7786.0</td>\n",
       "      <td>0.0</td>\n",
       "      <td>0.0</td>\n",
       "      <td>0.000000e+00</td>\n",
       "    </tr>\n",
       "    <tr>\n",
       "      <th>2014-12-09</th>\n",
       "      <td>0</td>\n",
       "      <td>0</td>\n",
       "      <td>7797.0</td>\n",
       "      <td>0.0</td>\n",
       "      <td>0.0</td>\n",
       "      <td>0.000000e+00</td>\n",
       "    </tr>\n",
       "    <tr>\n",
       "      <th>2014-12-13</th>\n",
       "      <td>0</td>\n",
       "      <td>0</td>\n",
       "      <td>0.0</td>\n",
       "      <td>0.0</td>\n",
       "      <td>0.0</td>\n",
       "      <td>0.000000e+00</td>\n",
       "    </tr>\n",
       "  </tbody>\n",
       "</table>\n",
       "<p>136 rows × 6 columns</p>\n",
       "</div>"
      ],
      "text/plain": [
       "            GuineaCases  GuineaDeaths  LiberiaCases  LiberiaDeaths   SlCases  \\\n",
       "2014-06-16            0             0           4.0           16.0       0.0   \n",
       "2014-06-17            0             0           2.0           16.0       0.0   \n",
       "2014-06-22            0             0          10.0           25.0       0.0   \n",
       "2014-06-24            0             0           6.0           32.0       0.0   \n",
       "2014-06-25            0             0           7.0           37.0       0.0   \n",
       "2014-06-28            0             0           9.0           49.0       0.0   \n",
       "2014-06-29            0             0           2.0           49.0       0.0   \n",
       "2014-07-01            0             0           4.0           61.0       0.0   \n",
       "2014-07-02            0             0           4.0           66.0       0.0   \n",
       "2014-07-03            0             0           4.0           70.0       0.0   \n",
       "2014-07-07            0             0           7.0           78.0       0.0   \n",
       "2014-07-08            0             0           3.0           80.0       0.0   \n",
       "2014-07-10            0             0           3.0           85.0       0.0   \n",
       "2014-07-13            0             0           5.0           94.0       0.0   \n",
       "2014-07-17            0             0          10.0          108.0       0.0   \n",
       "2014-07-20            0             0           3.0          116.0       0.0   \n",
       "2014-07-24            0             0          32.0          136.0       0.0   \n",
       "2014-07-26            0             0          19.0          145.0       0.0   \n",
       "2014-08-02            0             0          11.0          257.0       0.0   \n",
       "2014-08-04            9           363          10.0          271.0       0.0   \n",
       "2014-08-12            0             0          60.0          365.0   10111.0   \n",
       "2014-08-13            0             0           0.0            0.0    3115.0   \n",
       "2014-08-14            0             0           0.0            0.0     213.0   \n",
       "2014-08-15            0             0          19.0          455.0    6110.0   \n",
       "2014-08-16            0             0           0.0            0.0    3018.0   \n",
       "2014-08-17            0             0          24.0          481.0     102.0   \n",
       "2014-08-18            0             0          56.0          565.0   40155.0   \n",
       "2014-08-19            0             0           0.0            0.0    1639.0   \n",
       "2014-08-20            0             0          65.0          613.0     104.0   \n",
       "2014-08-21            0             0           0.0            0.0       9.0   \n",
       "...                 ...           ...           ...            ...       ...   \n",
       "2014-11-08            0             0          28.0            0.0  200111.0   \n",
       "2014-11-10            0             0           0.0            0.0     126.0   \n",
       "2014-11-12            0             0           0.0            0.0   35061.0   \n",
       "2014-11-13            0             0           0.0            0.0      84.0   \n",
       "2014-11-14            0             0          20.0            0.0       0.0   \n",
       "2014-11-15            0             0          39.0            0.0      54.0   \n",
       "2014-11-16            0             0           0.0            0.0      89.0   \n",
       "2014-11-17            0             0           0.0            0.0      53.0   \n",
       "2014-11-18            0             0           0.0            0.0      43.0   \n",
       "2014-11-19            0             0          36.0            0.0       0.0   \n",
       "2014-11-20            0             0          40.0            0.0     130.0   \n",
       "2014-11-21            0             0          37.0            0.0      69.0   \n",
       "2014-11-22            0             0           0.0            0.0      75.0   \n",
       "2014-11-23            0             0           7.0            0.0      64.0   \n",
       "2014-11-24            0             0          25.0            0.0     115.0   \n",
       "2014-11-26            0             0          28.0            0.0       0.0   \n",
       "2014-11-27            0             0          46.0            0.0       0.0   \n",
       "2014-11-28            0             0           7.0            0.0   26084.0   \n",
       "2014-11-29            0             0          21.0            0.0      88.0   \n",
       "2014-11-30            0             0          10.0            0.0       0.0   \n",
       "2014-12-01            0             0          35.0            0.0   14072.0   \n",
       "2014-12-02            0             0          37.0            0.0       0.0   \n",
       "2014-12-03            0             0           0.0            0.0       0.0   \n",
       "2014-12-04            0             0        7721.0            0.0    4037.0   \n",
       "2014-12-05            0             0        7731.0            0.0   24054.0   \n",
       "2014-12-06            0             0        7735.0            0.0       0.0   \n",
       "2014-12-07            0             0        7765.0            0.0       0.0   \n",
       "2014-12-08            0             0        7786.0            0.0       0.0   \n",
       "2014-12-09            0             0        7797.0            0.0       0.0   \n",
       "2014-12-13            0             0           0.0            0.0       0.0   \n",
       "\n",
       "                SlDeaths  \n",
       "2014-06-16  0.000000e+00  \n",
       "2014-06-17  0.000000e+00  \n",
       "2014-06-22  0.000000e+00  \n",
       "2014-06-24  0.000000e+00  \n",
       "2014-06-25  0.000000e+00  \n",
       "2014-06-28  0.000000e+00  \n",
       "2014-06-29  0.000000e+00  \n",
       "2014-07-01  0.000000e+00  \n",
       "2014-07-02  0.000000e+00  \n",
       "2014-07-03  0.000000e+00  \n",
       "2014-07-07  0.000000e+00  \n",
       "2014-07-08  0.000000e+00  \n",
       "2014-07-10  0.000000e+00  \n",
       "2014-07-13  0.000000e+00  \n",
       "2014-07-17  0.000000e+00  \n",
       "2014-07-20  0.000000e+00  \n",
       "2014-07-24  0.000000e+00  \n",
       "2014-07-26  0.000000e+00  \n",
       "2014-08-02  0.000000e+00  \n",
       "2014-08-04  0.000000e+00  \n",
       "2014-08-12  5.342640e+05  \n",
       "2014-08-13  5.342730e+05  \n",
       "2014-08-14  5.342800e+05  \n",
       "2014-08-15  5.342870e+05  \n",
       "2014-08-16  5.342970e+05  \n",
       "2014-08-17  5.343050e+05  \n",
       "2014-08-18  5.343120e+05  \n",
       "2014-08-19  5.343200e+05  \n",
       "2014-08-20  5.343220e+05  \n",
       "2014-08-21  8.343290e+05  \n",
       "...                  ...  \n",
       "2014-11-08  1.572081e+09  \n",
       "2014-11-10  1.514000e+03  \n",
       "2014-11-12  1.572081e+09  \n",
       "2014-11-13  1.545000e+03  \n",
       "2014-11-14  0.000000e+00  \n",
       "2014-11-15  1.571000e+03  \n",
       "2014-11-16  1.588000e+03  \n",
       "2014-11-17  1.588000e+03  \n",
       "2014-11-18  1.605000e+03  \n",
       "2014-11-19  0.000000e+00  \n",
       "2014-11-20  1.648000e+03  \n",
       "2014-11-21  1.669000e+03  \n",
       "2014-11-22  1.699000e+03  \n",
       "2014-11-23  1.730000e+03  \n",
       "2014-11-24  1.763000e+03  \n",
       "2014-11-26  0.000000e+00  \n",
       "2014-11-27  0.000000e+00  \n",
       "2014-11-28  1.582081e+09  \n",
       "2014-11-29  1.862000e+03  \n",
       "2014-11-30  0.000000e+00  \n",
       "2014-12-01  1.582082e+09  \n",
       "2014-12-02  0.000000e+00  \n",
       "2014-12-03  0.000000e+00  \n",
       "2014-12-04  1.582082e+09  \n",
       "2014-12-05  1.582082e+09  \n",
       "2014-12-06  2.074000e+03  \n",
       "2014-12-07  0.000000e+00  \n",
       "2014-12-08  0.000000e+00  \n",
       "2014-12-09  0.000000e+00  \n",
       "2014-12-13  0.000000e+00  \n",
       "\n",
       "[136 rows x 6 columns]"
      ]
     },
     "execution_count": 20,
     "metadata": {},
     "output_type": "execute_result"
    }
   ],
   "source": [
    "data = dataGuinea.join(dataLiberia, how='outer').join(dataSl, how='outer')\n",
    "data = data.fillna(0)\n",
    "\n",
    "data.GuineaCases = pd.to_numeric(data.GuineaCases)\n",
    "data.GuineaDeaths = pd.to_numeric(data.GuineaDeaths)\n",
    "data.LiberiaCases = pd.to_numeric(data.LiberiaCases)\n",
    "data.LiberiaDeaths = pd.to_numeric(data.LiberiaDeaths)\n",
    "data.SlCases = pd.to_numeric(data.SlCases)\n",
    "data.SlDeaths = pd.to_numeric(data.SlDeaths)\n",
    "\n",
    "data"
   ]
  },
  {
   "cell_type": "code",
   "execution_count": 21,
   "metadata": {},
   "outputs": [
    {
     "data": {
      "text/plain": [
       "<matplotlib.axes._subplots.AxesSubplot at 0x1e67db42390>"
      ]
     },
     "execution_count": 21,
     "metadata": {},
     "output_type": "execute_result"
    },
    {
     "data": {
      "image/png": "[encoded data removed]",
      "text/plain": [
       "<matplotlib.figure.Figure at 0x1e67a7330f0>"
      ]
     },
     "metadata": {},
     "output_type": "display_data"
    }
   ],
   "source": [
    "data.plot()"
   ]
  },
  {
   "cell_type": "markdown",
   "metadata": {},
   "source": [
    "### Calcuate averages"
   ]
  },
  {
   "cell_type": "markdown",
   "metadata": {},
   "source": [
    "Calculate sum for each column"
   ]
  },
  {
   "cell_type": "code",
   "execution_count": 22,
   "metadata": {},
   "outputs": [],
   "source": [
    "sum_data = data.sum()"
   ]
  },
  {
   "cell_type": "code",
   "execution_count": 23,
   "metadata": {},
   "outputs": [
    {
     "name": "stdout",
     "output_type": "stream",
     "text": [
      "2014-06-16T00:00:00.000000000\n",
      "2014-12-13T00:00:00.000000000\n"
     ]
    }
   ],
   "source": [
    "min_date = min(data.index.values)\n",
    "max_date = max(data.index.values)\n",
    "\n",
    "print (min_date)\n",
    "print (max_date)"
   ]
  },
  {
   "cell_type": "markdown",
   "metadata": {},
   "source": [
    "Data only contains values for year 2014.\n",
    "Calculate average for year assuming that not available data for each day is zero"
   ]
  },
  {
   "cell_type": "code",
   "execution_count": 24,
   "metadata": {},
   "outputs": [
    {
     "data": {
      "text/plain": [
       "GuineaCases      1.306849e+00\n",
       "GuineaDeaths     3.590685e+01\n",
       "LiberiaCases     1.374959e+02\n",
       "LiberiaDeaths    2.672521e+02\n",
       "SlCases          2.792797e+03\n",
       "SlDeaths         7.662332e+07\n",
       "dtype: float64"
      ]
     },
     "execution_count": 24,
     "metadata": {},
     "output_type": "execute_result"
    }
   ],
   "source": [
    "average_data = sum_data/365\n",
    "average_data"
   ]
  },
  {
   "cell_type": "markdown",
   "metadata": {},
   "source": [
    "## Task 2. RNA Sequences\n",
    "\n",
    "In the `DATA_FOLDER/microbiome` subdirectory, there are 9 spreadsheets of microbiome data that was acquired from high-throughput RNA sequencing procedures, along with a 10<sup>th</sup> file that describes the content of each. \n",
    "\n",
    "Use pandas to import the first 9 spreadsheets into a single `DataFrame`.\n",
    "Then, add the metadata information from the 10<sup>th</sup> spreadsheet as columns in the combined `DataFrame`.\n",
    "Make sure that the final `DataFrame` has a unique index and all the `NaN` values have been replaced by the tag `unknown`."
   ]
  },
  {
   "cell_type": "code",
   "execution_count": 25,
   "metadata": {
    "collapsed": true
   },
   "outputs": [],
   "source": [
    "data = pd.read_excel('Data/microbiome/MID1.xls', 'Sheet 1', header = None)\n",
    "metadata = pd.read_excel('Data/microbiome/metadata.xls')"
   ]
  },
  {
   "cell_type": "markdown",
   "metadata": {},
   "source": [
    "Import the first 9 spreadsheets into a signle dataframe, **data**, and add a column **BARCODE** in order to merge the dataframe with the one containing the metadata"
   ]
  },
  {
   "cell_type": "code",
   "execution_count": 26,
   "metadata": {
    "collapsed": true
   },
   "outputs": [],
   "source": [
    "data['BARCODE'] = metadata.loc[0,'BARCODE']\n",
    "for i in range(1,9):\n",
    "    mb = pd.read_excel('Data/microbiome/MID'+str(i)+'.xls','Sheet 1', header=None)\n",
    "    mb['BARCODE'] = metadata.loc[i,'BARCODE']\n",
    "    data = pd.concat([data,mb])\n",
    "data = data.rename(columns={0:'TAXON',1:'COUNT'})   "
   ]
  },
  {
   "cell_type": "markdown",
   "metadata": {},
   "source": [
    "merge the data with the metadata, replace all the NaN values by the tag unkown and make sure the index is unique"
   ]
  },
  {
   "cell_type": "code",
   "execution_count": 27,
   "metadata": {},
   "outputs": [
    {
     "name": "stdout",
     "output_type": "stream",
     "text": [
      "index.is_unique: True\n"
     ]
    },
    {
     "data": {
      "text/html": [
       "<div>\n",
       "<style>\n",
       "    .dataframe thead tr:only-child th {\n",
       "        text-align: right;\n",
       "    }\n",
       "\n",
       "    .dataframe thead th {\n",
       "        text-align: left;\n",
       "    }\n",
       "\n",
       "    .dataframe tbody tr th {\n",
       "        vertical-align: top;\n",
       "    }\n",
       "</style>\n",
       "<table border=\"1\" class=\"dataframe\">\n",
       "  <thead>\n",
       "    <tr style=\"text-align: right;\">\n",
       "      <th></th>\n",
       "      <th></th>\n",
       "      <th>COUNT</th>\n",
       "      <th>GROUP</th>\n",
       "      <th>SAMPLE</th>\n",
       "    </tr>\n",
       "    <tr>\n",
       "      <th>BARCODE</th>\n",
       "      <th>TAXON</th>\n",
       "      <th></th>\n",
       "      <th></th>\n",
       "      <th></th>\n",
       "    </tr>\n",
       "  </thead>\n",
       "  <tbody>\n",
       "    <tr>\n",
       "      <th rowspan=\"5\" valign=\"top\">MID1</th>\n",
       "      <th>Archaea \"Crenarchaeota\" Thermoprotei Desulfurococcales Desulfurococcaceae Ignisphaera</th>\n",
       "      <td>7</td>\n",
       "      <td>EXTRACTION CONTROL</td>\n",
       "      <td>unknown</td>\n",
       "    </tr>\n",
       "    <tr>\n",
       "      <th>Archaea \"Crenarchaeota\" Thermoprotei Desulfurococcales Pyrodictiaceae Pyrolobus</th>\n",
       "      <td>2</td>\n",
       "      <td>EXTRACTION CONTROL</td>\n",
       "      <td>unknown</td>\n",
       "    </tr>\n",
       "    <tr>\n",
       "      <th>Archaea \"Crenarchaeota\" Thermoprotei Sulfolobales Sulfolobaceae Stygiolobus</th>\n",
       "      <td>3</td>\n",
       "      <td>EXTRACTION CONTROL</td>\n",
       "      <td>unknown</td>\n",
       "    </tr>\n",
       "    <tr>\n",
       "      <th>Archaea \"Crenarchaeota\" Thermoprotei Thermoproteales Thermofilaceae Thermofilum</th>\n",
       "      <td>3</td>\n",
       "      <td>EXTRACTION CONTROL</td>\n",
       "      <td>unknown</td>\n",
       "    </tr>\n",
       "    <tr>\n",
       "      <th>Archaea \"Euryarchaeota\" \"Methanomicrobia\" Methanocellales Methanocellaceae Methanocella</th>\n",
       "      <td>7</td>\n",
       "      <td>EXTRACTION CONTROL</td>\n",
       "      <td>unknown</td>\n",
       "    </tr>\n",
       "  </tbody>\n",
       "</table>\n",
       "</div>"
      ],
      "text/plain": [
       "                                                            COUNT  \\\n",
       "BARCODE TAXON                                                       \n",
       "MID1    Archaea \"Crenarchaeota\" Thermoprotei Desulfuroc...      7   \n",
       "        Archaea \"Crenarchaeota\" Thermoprotei Desulfuroc...      2   \n",
       "        Archaea \"Crenarchaeota\" Thermoprotei Sulfolobal...      3   \n",
       "        Archaea \"Crenarchaeota\" Thermoprotei Thermoprot...      3   \n",
       "        Archaea \"Euryarchaeota\" \"Methanomicrobia\" Metha...      7   \n",
       "\n",
       "                                                                         GROUP  \\\n",
       "BARCODE TAXON                                                                    \n",
       "MID1    Archaea \"Crenarchaeota\" Thermoprotei Desulfuroc...  EXTRACTION CONTROL   \n",
       "        Archaea \"Crenarchaeota\" Thermoprotei Desulfuroc...  EXTRACTION CONTROL   \n",
       "        Archaea \"Crenarchaeota\" Thermoprotei Sulfolobal...  EXTRACTION CONTROL   \n",
       "        Archaea \"Crenarchaeota\" Thermoprotei Thermoprot...  EXTRACTION CONTROL   \n",
       "        Archaea \"Euryarchaeota\" \"Methanomicrobia\" Metha...  EXTRACTION CONTROL   \n",
       "\n",
       "                                                             SAMPLE  \n",
       "BARCODE TAXON                                                        \n",
       "MID1    Archaea \"Crenarchaeota\" Thermoprotei Desulfuroc...  unknown  \n",
       "        Archaea \"Crenarchaeota\" Thermoprotei Desulfuroc...  unknown  \n",
       "        Archaea \"Crenarchaeota\" Thermoprotei Sulfolobal...  unknown  \n",
       "        Archaea \"Crenarchaeota\" Thermoprotei Thermoprot...  unknown  \n",
       "        Archaea \"Euryarchaeota\" \"Methanomicrobia\" Metha...  unknown  "
      ]
     },
     "execution_count": 27,
     "metadata": {},
     "output_type": "execute_result"
    }
   ],
   "source": [
    "df = pd.merge(data, metadata, how ='outer')\n",
    "df.fillna('unknown', inplace=True)\n",
    "df.head()\n",
    "df = df.set_index(['BARCODE','TAXON'])\n",
    "print('index.is_unique:', df.index.is_unique)\n",
    "df.head()"
   ]
  },
  {
   "cell_type": "markdown",
   "metadata": {},
   "source": [
    "## Task 3. Class War in Titanic\n",
    "\n",
    "Use pandas to import the data file `Data/titanic.xls`. It contains data on all the passengers that travelled on the Titanic."
   ]
  },
  {
   "cell_type": "code",
   "execution_count": 28,
   "metadata": {
    "collapsed": true
   },
   "outputs": [],
   "source": [
    "from IPython.core.display import HTML\n",
    "HTML(DATA_FOLDER+'/titanic.html')\n",
    "titanic_frame = pd.read_excel(DATA_FOLDER+'/titanic.xls',index_col=None)\n",
    "titanic_frame['pclass'] = titanic_frame.pclass.astype('category')\n",
    "titanic_frame['survived'] = titanic_frame.survived.astype('category')\n",
    "titanic_frame['sex'] = titanic_frame.sex.astype('category')\n",
    "titanic_frame['sibsp'] = titanic_frame.sibsp.astype('category')\n",
    "titanic_frame['parch'] = titanic_frame.parch.astype('category')\n",
    "titanic_frame['cabin'] = titanic_frame.cabin.astype('category')\n",
    "titanic_frame['embarked'] = titanic_frame.embarked.astype('category')\n",
    "titanic_frame['boat'] = titanic_frame.boat.astype('category')\n",
    "titanic_frame['body'] = titanic_frame.body.astype('category')\n",
    "\n"
   ]
  },
  {
   "cell_type": "markdown",
   "metadata": {},
   "source": [
    "For each of the following questions state clearly your assumptions and discuss your findings:\n",
    "1. Describe the *type* and the *value range* of each attribute. Indicate and transform the attributes that can be `Categorical`. \n",
    "2. Plot histograms for the *travel class*, *embarkation port*, *sex* and *age* attributes. For the latter one, use *discrete decade intervals*. \n",
    "3. Calculate the proportion of passengers by *cabin floor*. Present your results in a *pie chart*.\n",
    "4. For each *travel class*, calculate the proportion of the passengers that survived. Present your results in *pie charts*.\n",
    "5. Calculate the proportion of the passengers that survived by *travel class* and *sex*. Present your results in *a single histogram*.\n",
    "6. Create 2 equally populated *age categories* and calculate survival proportions by *age category*, *travel class* and *sex*. Present your results in a `DataFrame` with unique index."
   ]
  },
  {
   "cell_type": "markdown",
   "metadata": {
    "collapsed": true
   },
   "source": [
    "# Question 1\n",
    "\n",
    "There are 14 Attributes. The first one is pclass which is an int between 1 and 3 that represent the class in which the passenger was (first, second or third). It can be Categorical (only 3)\n",
    "\n",
    "The second attribute is the survived one, which is just an integer ( 1 or a 0) that represent if the passenger survived the acccident, so it can be categorical too.\n",
    "\n",
    "The name are chains of characters and can't be categorical.\n",
    "\n",
    "The sex attribute can be categorical as it is written as (male or female) and considered as an object, so we can categorize it.\n",
    "\n",
    "The age attribute is in year, so it's a double as it seems some passenger were not even 1 year old, or the data are wrong ( the second passenger is 0.9167). There are also some missing data, it won't be categorical as there are too many values.\n",
    "\n",
    "The sibsp attribute is the number of siblings/spouses aboard is an integer, and can be categorical as it has very few different values (categorical data stored with 8 bit index).\n",
    "\n",
    "The parch attribute is the number of parent/children aboard is an integer, and can also be in a category as few different values.\n",
    "\n",
    "The ticket attribute is an object that represent the ticket number and cannot be categorical as there are lot of different syntaxes.\n",
    "\n",
    "The fare is a double that represent the price payed, it has too many different values to be categorized.\n",
    "\n",
    "The cabin (string) is the level and number of cabin as there are only 186 different we can categorize it.\n",
    "\n",
    "The embarked attribute is a char (C, Q or S) so can be categorical\n",
    "\n",
    "The boat is an object (string) an can be categorize as there are 28 values.\n",
    "\n",
    "The body is a double that is the body ID number, lot of values are NaN as they survived. There are 121 values and it can be categorical\n",
    "\n",
    "The home.dest is a string that represent the home/destination of the passenger. Are they are too many values it can be categorized.\n"
   ]
  },
  {
   "cell_type": "markdown",
   "metadata": {},
   "source": [
    "# Plots"
   ]
  },
  {
   "cell_type": "code",
   "execution_count": 29,
   "metadata": {},
   "outputs": [
    {
     "data": {
      "text/plain": [
       "<matplotlib.axes._subplots.AxesSubplot at 0x1e67f24c9e8>"
      ]
     },
     "execution_count": 29,
     "metadata": {},
     "output_type": "execute_result"
    },
    {
     "data": {
      "image/png": "[encoded data removed]",
      "text/plain": [
       "<matplotlib.figure.Figure at 0x1e67d2101d0>"
      ]
     },
     "metadata": {},
     "output_type": "display_data"
    }
   ],
   "source": [
    "titanic_frame.groupby('pclass').size().plot(kind='bar',rot=0,title='NUmber of travelers by class')"
   ]
  },
  {
   "cell_type": "code",
   "execution_count": 30,
   "metadata": {},
   "outputs": [
    {
     "data": {
      "text/plain": [
       "<matplotlib.axes._subplots.AxesSubplot at 0x1e67d758358>"
      ]
     },
     "execution_count": 30,
     "metadata": {},
     "output_type": "execute_result"
    },
    {
     "data": {
      "image/png": "[encoded data removed]",
      "text/plain": [
       "<matplotlib.figure.Figure at 0x1e67da71e80>"
      ]
     },
     "metadata": {},
     "output_type": "display_data"
    }
   ],
   "source": [
    "titanic_frame.groupby('embarked').size().plot(kind='bar',rot=0,title='NUmber of travelers in each embarkation port')"
   ]
  },
  {
   "cell_type": "code",
   "execution_count": 31,
   "metadata": {},
   "outputs": [
    {
     "data": {
      "text/plain": [
       "<matplotlib.axes._subplots.AxesSubplot at 0x1e67d781470>"
      ]
     },
     "execution_count": 31,
     "metadata": {},
     "output_type": "execute_result"
    },
    {
     "data": {
      "image/png": "[encoded data removed]",
      "text/plain": [
       "<matplotlib.figure.Figure at 0x1e67f257240>"
      ]
     },
     "metadata": {},
     "output_type": "display_data"
    }
   ],
   "source": [
    "titanic_frame.groupby('sex').size().plot(kind='bar',rot=0,title='Number of female and male travelers')"
   ]
  },
  {
   "cell_type": "code",
   "execution_count": 32,
   "metadata": {},
   "outputs": [
    {
     "name": "stdout",
     "output_type": "stream",
     "text": [
      "The distribution of the age attribute\n"
     ]
    },
    {
     "data": {
      "image/png": "[encoded data removed]",
      "text/plain": [
       "<matplotlib.figure.Figure at 0x1e67f34fa58>"
      ]
     },
     "metadata": {},
     "output_type": "display_data"
    }
   ],
   "source": [
    "titanic_frame.age.hist(bins=50)\n",
    "print('The distribution of the age attribute')\n"
   ]
  },
  {
   "cell_type": "markdown",
   "metadata": {},
   "source": [
    "# Proportion of People by Cabin Floor"
   ]
  },
  {
   "cell_type": "code",
   "execution_count": 33,
   "metadata": {
    "collapsed": true
   },
   "outputs": [],
   "source": [
    "def func(x):\n",
    "    return x[0]"
   ]
  },
  {
   "cell_type": "code",
   "execution_count": 34,
   "metadata": {},
   "outputs": [
    {
     "data": {
      "text/plain": [
       "cabin\n",
       "A      22\n",
       "B      65\n",
       "C      94\n",
       "D      46\n",
       "E      41\n",
       "F      21\n",
       "G       5\n",
       "T    1015\n",
       "Name: pclass, dtype: int64"
      ]
     },
     "execution_count": 34,
     "metadata": {},
     "output_type": "execute_result"
    },
    {
     "data": {
      "image/png": "[encoded data removed]",
      "text/plain": [
       "<matplotlib.figure.Figure at 0x1e67f3072b0>"
      ]
     },
     "metadata": {},
     "output_type": "display_data"
    }
   ],
   "source": [
    "titanic_frame['cabin'] = titanic_frame.cabin.apply(lambda x: func(x))\n",
    "df = titanic_frame.groupby('cabin').count()\n",
    "df.plot.pie(y=\"pclass\",title='The proportion of passengers by cabin floor')\n",
    "df.pclass"
   ]
  },
  {
   "cell_type": "markdown",
   "metadata": {},
   "source": [
    "### Survivor by pclass"
   ]
  },
  {
   "cell_type": "code",
   "execution_count": 35,
   "metadata": {},
   "outputs": [
    {
     "name": "stdout",
     "output_type": "stream",
     "text": [
      "number of survivor by class are\n",
      "pclass\n",
      "1    200\n",
      "2    119\n",
      "3    181\n",
      "Name: survived, dtype: int64\n"
     ]
    },
    {
     "data": {
      "image/png": "[encoded data removed]",
      "text/plain": [
       "<matplotlib.figure.Figure at 0x1e67a6c9128>"
      ]
     },
     "metadata": {},
     "output_type": "display_data"
    }
   ],
   "source": [
    "classSurv = titanic_frame.query('survived==1')\n",
    "classSurv = classSurv.groupby('pclass').count()\n",
    "classSurv.head()\n",
    "classSurv.plot.pie(y='survived',autopct='%.2f',title='Proportion of survivor by class')\n",
    "print(\"number of survivor by class are\")\n",
    "print(classSurv.survived)"
   ]
  },
  {
   "cell_type": "markdown",
   "metadata": {},
   "source": [
    "# Survivor by Class and Sex"
   ]
  },
  {
   "cell_type": "code",
   "execution_count": 36,
   "metadata": {},
   "outputs": [
    {
     "data": {
      "text/plain": [
       "<matplotlib.axes._subplots.AxesSubplot at 0x1e67f6473c8>"
      ]
     },
     "execution_count": 36,
     "metadata": {},
     "output_type": "execute_result"
    },
    {
     "data": {
      "image/png": "[encoded data removed]",
      "text/plain": [
       "<matplotlib.figure.Figure at 0x1e67f623dd8>"
      ]
     },
     "metadata": {},
     "output_type": "display_data"
    }
   ],
   "source": [
    "classSurv = titanic_frame.query('survived==1')\n",
    "classSurv.groupby(['pclass','sex'])['survived'].count().unstack(['pclass']).plot(kind='bar', title='The proportion of the passengers that survived by travel class and sex',rot=0, stacked=True)"
   ]
  },
  {
   "cell_type": "markdown",
   "metadata": {},
   "source": [
    "# Last question"
   ]
  },
  {
   "cell_type": "markdown",
   "metadata": {},
   "source": [
    "To have 2 equally populated age categories we cut the data using the median of age column"
   ]
  },
  {
   "cell_type": "code",
   "execution_count": 37,
   "metadata": {
    "collapsed": true
   },
   "outputs": [],
   "source": [
    "titanic_age = titanic_frame.copy()\n",
    "\n",
    "\n",
    "minAge = titanic_age.age.min()\n",
    "maxAge = titanic_age.age.max()\n",
    "medianAge = titanic_age.age.median()\n",
    "\n",
    "titanic_age.age= pd.cut(titanic_age.age, [minAge,medianAge,maxAge],labels=['< %s'%(medianAge),'≥ %s'%(medianAge)], right=False)\n"
   ]
  },
  {
   "cell_type": "markdown",
   "metadata": {},
   "source": [
    "We want to compute survival proportions by age category, traveled class and sex. For example, we want to compute how many females with age less than 28 (the median) that traveled in pclass 1 survived:\n",
    "1. Retrive the number of all females with age less than 28 that traveled in pclass 1\n",
    "2. Retrieve the number of those who survived (less than 28 that traveled in pclass 1)\n",
    "3. Compute the proportion"
   ]
  },
  {
   "cell_type": "code",
   "execution_count": 38,
   "metadata": {},
   "outputs": [
    {
     "data": {
      "text/html": [
       "<div>\n",
       "<style>\n",
       "    .dataframe thead tr:only-child th {\n",
       "        text-align: right;\n",
       "    }\n",
       "\n",
       "    .dataframe thead th {\n",
       "        text-align: left;\n",
       "    }\n",
       "\n",
       "    .dataframe tbody tr th {\n",
       "        vertical-align: top;\n",
       "    }\n",
       "</style>\n",
       "<table border=\"1\" class=\"dataframe\">\n",
       "  <thead>\n",
       "    <tr style=\"text-align: right;\">\n",
       "      <th></th>\n",
       "      <th></th>\n",
       "      <th></th>\n",
       "      <th>survived</th>\n",
       "    </tr>\n",
       "    <tr>\n",
       "      <th>age</th>\n",
       "      <th>pclass</th>\n",
       "      <th>sex</th>\n",
       "      <th></th>\n",
       "    </tr>\n",
       "  </thead>\n",
       "  <tbody>\n",
       "    <tr>\n",
       "      <th rowspan=\"6\" valign=\"top\">&lt; 28.0</th>\n",
       "      <th rowspan=\"2\" valign=\"top\">1</th>\n",
       "      <th>female</th>\n",
       "      <td>95.00%</td>\n",
       "    </tr>\n",
       "    <tr>\n",
       "      <th>male</th>\n",
       "      <td>53.57%</td>\n",
       "    </tr>\n",
       "    <tr>\n",
       "      <th rowspan=\"2\" valign=\"top\">2</th>\n",
       "      <th>female</th>\n",
       "      <td>90.20%</td>\n",
       "    </tr>\n",
       "    <tr>\n",
       "      <th>male</th>\n",
       "      <td>23.53%</td>\n",
       "    </tr>\n",
       "    <tr>\n",
       "      <th rowspan=\"2\" valign=\"top\">3</th>\n",
       "      <th>female</th>\n",
       "      <td>52.83%</td>\n",
       "    </tr>\n",
       "    <tr>\n",
       "      <th>male</th>\n",
       "      <td>19.43%</td>\n",
       "    </tr>\n",
       "    <tr>\n",
       "      <th rowspan=\"6\" valign=\"top\">≥ 28.0</th>\n",
       "      <th rowspan=\"2\" valign=\"top\">1</th>\n",
       "      <th>female</th>\n",
       "      <td>96.77%</td>\n",
       "    </tr>\n",
       "    <tr>\n",
       "      <th>male</th>\n",
       "      <td>30.33%</td>\n",
       "    </tr>\n",
       "    <tr>\n",
       "      <th rowspan=\"2\" valign=\"top\">2</th>\n",
       "      <th>female</th>\n",
       "      <td>88.46%</td>\n",
       "    </tr>\n",
       "    <tr>\n",
       "      <th>male</th>\n",
       "      <td>7.78%</td>\n",
       "    </tr>\n",
       "    <tr>\n",
       "      <th rowspan=\"2\" valign=\"top\">3</th>\n",
       "      <th>female</th>\n",
       "      <td>34.78%</td>\n",
       "    </tr>\n",
       "    <tr>\n",
       "      <th>male</th>\n",
       "      <td>13.04%</td>\n",
       "    </tr>\n",
       "  </tbody>\n",
       "</table>\n",
       "</div>"
      ],
      "text/plain": [
       "                     survived\n",
       "age    pclass sex            \n",
       "< 28.0 1      female   95.00%\n",
       "              male     53.57%\n",
       "       2      female   90.20%\n",
       "              male     23.53%\n",
       "       3      female   52.83%\n",
       "              male     19.43%\n",
       "≥ 28.0 1      female   96.77%\n",
       "              male     30.33%\n",
       "       2      female   88.46%\n",
       "              male      7.78%\n",
       "       3      female   34.78%\n",
       "              male     13.04%"
      ]
     },
     "execution_count": 38,
     "metadata": {},
     "output_type": "execute_result"
    }
   ],
   "source": [
    "ageSurv = titanic_age\n",
    "ageSurv = ageSurv.groupby(['age','pclass','sex']).count()\n",
    "\n",
    "#df_all contains the number of all female and male of the two age categories in each class\n",
    "df_all = pd.DataFrame(ageSurv.survived)\n",
    "\n",
    "#df_survived contains the number of female and male of the two age categories that survived in each class\n",
    "df_survived = pd.DataFrame(titanic_age.query('survived==1').groupby(['age','pclass','sex']).count()).survived\n",
    "\n",
    "df = pd.DataFrame(100 * (df_survived/df_all.survived))\n",
    "df = df.applymap(\"{0:.2f}%\".format)\n",
    "df\n"
   ]
  }
 ],
 "metadata": {
  "anaconda-cloud": {},
  "kernelspec": {
   "display_name": "Python 3",
   "language": "python",
   "name": "python3"
  },
  "language_info": {
   "codemirror_mode": {
    "name": "ipython",
    "version": 3
   },
   "file_extension": ".py",
   "mimetype": "text/x-python",
   "name": "python",
   "nbconvert_exporter": "python",
   "pygments_lexer": "ipython3",
   "version": "3.6.1"
  }
 },
 "nbformat": 4,
 "nbformat_minor": 2
}
