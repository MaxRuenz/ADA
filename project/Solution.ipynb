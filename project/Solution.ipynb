{
 "cells": [
  {
   "cell_type": "markdown",
   "metadata": {},
   "source": [
    "# Information:\n",
    "This NoteBook is here to have a clean version of what we did in the oter noteBook, it'll be the final one used, which shouuld be clean, pretty and understable"
   ]
  },
  {
   "cell_type": "code",
   "execution_count": 1,
   "metadata": {
    "collapsed": true
   },
   "outputs": [],
   "source": [
    "%matplotlib inline\n",
    "import hdf5_getters\n",
    "import sqlite3 as sq\n",
    "import os\n",
    "import pandas as pd\n",
    "from sklearn.linear_model import LinearRegression, LogisticRegression"
   ]
  },
  {
   "cell_type": "code",
   "execution_count": 2,
   "metadata": {
    "collapsed": true
   },
   "outputs": [],
   "source": [
    "local_path = 'C:/Users/Max-Pc/Downloads/millionsongsubset_full/MillionSongSubset/data'"
   ]
  },
  {
   "cell_type": "code",
   "execution_count": 3,
   "metadata": {
    "collapsed": true
   },
   "outputs": [],
   "source": [
    "def get_all_interesting_data(basedir,ext='.h5') :\n",
    "    datas = []\n",
    "    iteration = 0\n",
    "    for root, dirs, files in os.walk(basedir):\n",
    "        files = glob.glob(os.path.join(root,'*'+ext))\n",
    "        for f in files:\n",
    "            oneSongData = []\n",
    "            h5 = hdf5_getters.open_h5_file_read(f)\n",
    "            oneSongData.append( hdf5_getters.get_artist_id(h5))\n",
    "            oneSongData.append(hdf5_getters.get_artist_name(h5))\n",
    "            oneSongData.append(hdf5_getters.get_year(h5))\n",
    "            oneSongData.append(hdf5_getters.get_danceability(h5)) #always zero\n",
    "            oneSongData.append(hdf5_getters.get_duration(h5))\n",
    "            oneSongData.append(hdf5_getters.get_song_hotttnesss(h5))\n",
    "            oneSongData.append(hdf5_getters.get_title)\n",
    "            oneSongData.append(hdf5_getters.get_tempo(h5))\n",
    "            oneSongData.append(hdf5_getters.get_time_signature(h5))\n",
    "            oneSongData.append(hdf5_getters.get_time_signature_confidence(h5))\n",
    "            oneSongData.append(hdf5_getters.get_artist_mbtags(h5))\n",
    "            oneSongData.append(hdf5_getters.get_artist_terms(h5))\n",
    "            oneSongData.append(hdf5_getters.get_artist_location(h5))\n",
    "            oneSongData.append(hdf5_getters.get_artist_latitude(h5))\n",
    "            oneSongData.append(hdf5_getters.get_artist_longitude(h5))\n",
    "            h5.close()\n",
    "            iteration+=1\n",
    "            if(iteration%1000== 0):\n",
    "                print(iteration)\n",
    "            datas.append(oneSongData)\n",
    "    return datas"
   ]
  },
  {
   "cell_type": "code",
   "execution_count": null,
   "metadata": {
    "collapsed": true
   },
   "outputs": [],
   "source": [
    "datas = get_all_interesting_data(local_path)"
   ]
  },
  {
   "cell_type": "code",
   "execution_count": null,
   "metadata": {
    "collapsed": true
   },
   "outputs": [],
   "source": [
    "df = pd.DataFrame(datas,columns=['ArtistID','ArtistName','SongYear','SongDanceability','Duration','SongHotness','SongTitle','SongTempo','SongTimeSignature','SongTimeSignatureConfidence','ArtistMbtags','ArtistTerms','ArtistLocation','ArtistLatitude','ArtistLongitude'])"
   ]
  }
 ],
 "metadata": {
  "anaconda-cloud": {},
  "kernelspec": {
   "display_name": "Python [Root]",
   "language": "python",
   "name": "Python [Root]"
  },
  "language_info": {
   "codemirror_mode": {
    "name": "ipython",
    "version": 3
   },
   "file_extension": ".py",
   "mimetype": "text/x-python",
   "name": "python",
   "nbconvert_exporter": "python",
   "pygments_lexer": "ipython3",
   "version": "3.5.2"
  }
 },
 "nbformat": 4,
 "nbformat_minor": 0
}
