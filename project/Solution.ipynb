{
 "cells": [
  {
   "cell_type": "markdown",
   "metadata": {},
   "source": [
    "# Evolution in music through the years\n",
    "\n",
    "This notebook contains all information about our data processing steps.  \n",
    "\n",
    "*Due to problem with the cluster only the subset of the data set was analysed locally*  \n",
    "\n",
    "### Also note that we were a group of 3 students, and that one of the student decided to drop the course the week end of the 25, this can be taken into account for this milestone. \n",
    "\n",
    "Also you need [spotify API](https://github.com/plamere/spotipy) to get more information from their API\n",
    "\n",
    "These include data analysis, cleaning, processing, engineering and visualisation.  \n",
    "For the intermediate milestone we will also provide an updated plan."
   ]
  },
  {
   "cell_type": "code",
   "execution_count": 1,
   "metadata": {},
   "outputs": [],
   "source": [
    "%matplotlib inline\n",
    "# Provided library to access hdf5 files from MillionSong dataset\n",
    "import getters as hdf5_getters\n",
    "\n",
    "import re\n",
    "import time\n",
    "import numpy as np\n",
    "import sqlite3 as sq\n",
    "import os\n",
    "import pandas as pd\n",
    "import glob\n",
    "#import spotify\n",
    "import matplotlib.pyplot as plt\n",
    "import seaborn as sns\n",
    "import json\n",
    "import urllib.request\n",
    "from sklearn.decomposition import PCA\n",
    "\n",
    "\n",
    "from sklearn.linear_model import LinearRegression, LogisticRegression"
   ]
  },
  {
   "cell_type": "markdown",
   "metadata": {},
   "source": [
    "## Data Fetching "
   ]
  },
  {
   "cell_type": "code",
   "execution_count": 27,
   "metadata": {},
   "outputs": [],
   "source": [
    "local_path = 'C:/Users/M4X/Documents/Uni/EPFL/ADA/ADA/project/data'\n",
    "#local_path = 'C:/Users\\Max-Pc/Downloads/millionsongsubset_full/MillionSongSubset/data'"
   ]
  },
  {
   "cell_type": "code",
   "execution_count": 28,
   "metadata": {},
   "outputs": [],
   "source": [
    "def get_all_interesting_data(basedir,ext='.h5') :\n",
    "    datas = []\n",
    "    iteration = 0\n",
    "    for root, dirs, files in os.walk(basedir):\n",
    "        files = glob.glob(os.path.join(root,'*'+ext))\n",
    "        for f in files:\n",
    "            oneSongData = []\n",
    "            h5 = hdf5_getters.open_h5_file_read(f)\n",
    "            \n",
    "            # Columns wich we want to analyse \n",
    "            oneSongData.append( hdf5_getters.get_artist_id(h5))\n",
    "            oneSongData.append(hdf5_getters.get_artist_name(h5))\n",
    "            oneSongData.append(hdf5_getters.get_year(h5))\n",
    "            oneSongData.append(hdf5_getters.get_song_id(h5))\n",
    "            oneSongData.append(hdf5_getters.get_danceability(h5))\n",
    "            oneSongData.append(hdf5_getters.get_duration(h5))\n",
    "            oneSongData.append(hdf5_getters.get_song_hotttnesss(h5))\n",
    "            oneSongData.append(hdf5_getters.get_title(h5))\n",
    "            oneSongData.append(hdf5_getters.get_tempo(h5))\n",
    "            oneSongData.append(hdf5_getters.get_time_signature(h5))\n",
    "            oneSongData.append(hdf5_getters.get_time_signature_confidence(h5))\n",
    "            oneSongData.append(hdf5_getters.get_artist_mbtags(h5))\n",
    "            oneSongData.append(hdf5_getters.get_artist_terms(h5))\n",
    "            oneSongData.append(hdf5_getters.get_artist_location(h5))\n",
    "            oneSongData.append(hdf5_getters.get_artist_latitude(h5))\n",
    "            oneSongData.append(hdf5_getters.get_artist_longitude(h5))\n",
    "            \n",
    "            h5.close()\n",
    "            \n",
    "            # Print progress\n",
    "            iteration+=1\n",
    "            if(iteration%1000== 0):\n",
    "                print(iteration)\n",
    "                \n",
    "            datas.append(oneSongData)\n",
    "    return datas"
   ]
  },
  {
   "cell_type": "code",
   "execution_count": 29,
   "metadata": {},
   "outputs": [
    {
     "name": "stdout",
     "output_type": "stream",
     "text": [
      "1000\n",
      "2000\n",
      "3000\n",
      "4000\n",
      "5000\n",
      "6000\n",
      "7000\n",
      "8000\n",
      "9000\n",
      "10000\n"
     ]
    }
   ],
   "source": [
    "datas = get_all_interesting_data(local_path)"
   ]
  },
  {
   "cell_type": "code",
   "execution_count": 30,
   "metadata": {},
   "outputs": [],
   "source": [
    "df = pd.DataFrame(datas,columns=['ArtistID','ArtistName','SongYear','SongID','SongDanceability','Duration','SongHotness',\\\n",
    "                                 'SongTitle','SongTempo','SongTimeSignature','SongTimeSignatureConfidence','ArtistMbtags',\\\n",
    "                                 'ArtistTerms','ArtistLocation','ArtistLatitude','ArtistLongitude'])"
   ]
  },
  {
   "cell_type": "markdown",
   "metadata": {},
   "source": [
    "## Data Analysis and Cleaing"
   ]
  },
  {
   "cell_type": "markdown",
   "metadata": {},
   "source": [
    "Since we want to analyze music evolution over time, we cannot use Songs without specified year. They are then dropped."
   ]
  },
  {
   "cell_type": "code",
   "execution_count": 31,
   "metadata": {},
   "outputs": [
    {
     "name": "stdout",
     "output_type": "stream",
     "text": [
      "Dropping 5320 rows.\n"
     ]
    }
   ],
   "source": [
    "print(\"Dropping {} rows.\".format(df[df['SongYear'] == 0].shape[0]))\n",
    "df = df[df['SongYear']>0]"
   ]
  },
  {
   "cell_type": "code",
   "execution_count": 32,
   "metadata": {},
   "outputs": [
    {
     "data": {
      "text/plain": [
       "Index(['ArtistID', 'ArtistName', 'SongYear', 'SongID', 'SongDanceability',\n",
       "       'Duration', 'SongHotness', 'SongTitle', 'SongTempo',\n",
       "       'SongTimeSignature', 'SongTimeSignatureConfidence', 'ArtistMbtags',\n",
       "       'ArtistTerms', 'ArtistLocation', 'ArtistLatitude', 'ArtistLongitude'],\n",
       "      dtype='object')"
      ]
     },
     "execution_count": 32,
     "metadata": {},
     "output_type": "execute_result"
    }
   ],
   "source": [
    "df.columns"
   ]
  },
  {
   "cell_type": "code",
   "execution_count": 33,
   "metadata": {},
   "outputs": [
    {
     "data": {
      "text/html": [
       "<div>\n",
       "<style>\n",
       "    .dataframe thead tr:only-child th {\n",
       "        text-align: right;\n",
       "    }\n",
       "\n",
       "    .dataframe thead th {\n",
       "        text-align: left;\n",
       "    }\n",
       "\n",
       "    .dataframe tbody tr th {\n",
       "        vertical-align: top;\n",
       "    }\n",
       "</style>\n",
       "<table border=\"1\" class=\"dataframe\">\n",
       "  <thead>\n",
       "    <tr style=\"text-align: right;\">\n",
       "      <th></th>\n",
       "      <th>ArtistID</th>\n",
       "      <th>ArtistName</th>\n",
       "      <th>SongYear</th>\n",
       "      <th>SongID</th>\n",
       "      <th>SongDanceability</th>\n",
       "      <th>Duration</th>\n",
       "      <th>SongHotness</th>\n",
       "      <th>SongTitle</th>\n",
       "      <th>SongTempo</th>\n",
       "      <th>SongTimeSignature</th>\n",
       "      <th>SongTimeSignatureConfidence</th>\n",
       "      <th>ArtistMbtags</th>\n",
       "      <th>ArtistTerms</th>\n",
       "      <th>ArtistLocation</th>\n",
       "      <th>ArtistLatitude</th>\n",
       "      <th>ArtistLongitude</th>\n",
       "    </tr>\n",
       "  </thead>\n",
       "  <tbody>\n",
       "    <tr>\n",
       "      <th>1</th>\n",
       "      <td>b'ARMJAGH1187FB546F3'</td>\n",
       "      <td>b'The Box Tops'</td>\n",
       "      <td>1969</td>\n",
       "      <td>b'SOCIWDW12A8C13D406'</td>\n",
       "      <td>0.0</td>\n",
       "      <td>148.03546</td>\n",
       "      <td>NaN</td>\n",
       "      <td>b'Soul Deep'</td>\n",
       "      <td>121.274</td>\n",
       "      <td>4</td>\n",
       "      <td>0.384</td>\n",
       "      <td>[b'classic pop and rock']</td>\n",
       "      <td>[b'blue-eyed soul', b'pop rock', b'blues-rock'...</td>\n",
       "      <td>b'Memphis, TN'</td>\n",
       "      <td>35.14968</td>\n",
       "      <td>-90.04892</td>\n",
       "    </tr>\n",
       "    <tr>\n",
       "      <th>3</th>\n",
       "      <td>b'AR7G5I41187FB4CE6C'</td>\n",
       "      <td>b'Adam Ant'</td>\n",
       "      <td>1982</td>\n",
       "      <td>b'SONHOTT12A8C13493C'</td>\n",
       "      <td>0.0</td>\n",
       "      <td>233.40363</td>\n",
       "      <td>NaN</td>\n",
       "      <td>b'Something Girls'</td>\n",
       "      <td>119.293</td>\n",
       "      <td>4</td>\n",
       "      <td>0.000</td>\n",
       "      <td>[b'uk', b'british', b'english']</td>\n",
       "      <td>[b'pop rock', b'new wave', b'dance rock', b'ro...</td>\n",
       "      <td>b'London, England'</td>\n",
       "      <td>NaN</td>\n",
       "      <td>NaN</td>\n",
       "    </tr>\n",
       "    <tr>\n",
       "      <th>4</th>\n",
       "      <td>b'ARXR32B1187FB57099'</td>\n",
       "      <td>b'Gob'</td>\n",
       "      <td>2007</td>\n",
       "      <td>b'SOFSOCN12A8C143F5D'</td>\n",
       "      <td>0.0</td>\n",
       "      <td>209.60608</td>\n",
       "      <td>0.604501</td>\n",
       "      <td>b'Face the Ashes'</td>\n",
       "      <td>129.738</td>\n",
       "      <td>4</td>\n",
       "      <td>0.562</td>\n",
       "      <td>[]</td>\n",
       "      <td>[b'pop punk', b'ska punk', b'breakcore', b'alt...</td>\n",
       "      <td>b''</td>\n",
       "      <td>NaN</td>\n",
       "      <td>NaN</td>\n",
       "    </tr>\n",
       "    <tr>\n",
       "      <th>8</th>\n",
       "      <td>b'AR8ZCNI1187B9A069B'</td>\n",
       "      <td>b'Planet P Project'</td>\n",
       "      <td>1984</td>\n",
       "      <td>b'SOIAZJW12AB01853F1'</td>\n",
       "      <td>0.0</td>\n",
       "      <td>269.81832</td>\n",
       "      <td>0.265861</td>\n",
       "      <td>b'Pink World'</td>\n",
       "      <td>86.643</td>\n",
       "      <td>4</td>\n",
       "      <td>0.487</td>\n",
       "      <td>[]</td>\n",
       "      <td>[b'new wave', b'progressive rock', b'space roc...</td>\n",
       "      <td>b''</td>\n",
       "      <td>NaN</td>\n",
       "      <td>NaN</td>\n",
       "    </tr>\n",
       "    <tr>\n",
       "      <th>14</th>\n",
       "      <td>b'ARIK43K1187B9AE54C'</td>\n",
       "      <td>b'Lionel Richie'</td>\n",
       "      <td>1986</td>\n",
       "      <td>b'SOBONFF12A6D4F84D8'</td>\n",
       "      <td>0.0</td>\n",
       "      <td>307.38240</td>\n",
       "      <td>NaN</td>\n",
       "      <td>b'Tonight Will Be Alright'</td>\n",
       "      <td>125.197</td>\n",
       "      <td>3</td>\n",
       "      <td>0.211</td>\n",
       "      <td>[b'soul and reggae']</td>\n",
       "      <td>[b'quiet storm', b'soft rock', b'pop', b'urban...</td>\n",
       "      <td>b'Beverly Hills, CA'</td>\n",
       "      <td>NaN</td>\n",
       "      <td>NaN</td>\n",
       "    </tr>\n",
       "  </tbody>\n",
       "</table>\n",
       "</div>"
      ],
      "text/plain": [
       "                 ArtistID           ArtistName  SongYear  \\\n",
       "1   b'ARMJAGH1187FB546F3'      b'The Box Tops'      1969   \n",
       "3   b'AR7G5I41187FB4CE6C'          b'Adam Ant'      1982   \n",
       "4   b'ARXR32B1187FB57099'               b'Gob'      2007   \n",
       "8   b'AR8ZCNI1187B9A069B'  b'Planet P Project'      1984   \n",
       "14  b'ARIK43K1187B9AE54C'     b'Lionel Richie'      1986   \n",
       "\n",
       "                   SongID  SongDanceability   Duration  SongHotness  \\\n",
       "1   b'SOCIWDW12A8C13D406'               0.0  148.03546          NaN   \n",
       "3   b'SONHOTT12A8C13493C'               0.0  233.40363          NaN   \n",
       "4   b'SOFSOCN12A8C143F5D'               0.0  209.60608     0.604501   \n",
       "8   b'SOIAZJW12AB01853F1'               0.0  269.81832     0.265861   \n",
       "14  b'SOBONFF12A6D4F84D8'               0.0  307.38240          NaN   \n",
       "\n",
       "                     SongTitle  SongTempo  SongTimeSignature  \\\n",
       "1                 b'Soul Deep'    121.274                  4   \n",
       "3           b'Something Girls'    119.293                  4   \n",
       "4            b'Face the Ashes'    129.738                  4   \n",
       "8                b'Pink World'     86.643                  4   \n",
       "14  b'Tonight Will Be Alright'    125.197                  3   \n",
       "\n",
       "    SongTimeSignatureConfidence                     ArtistMbtags  \\\n",
       "1                         0.384        [b'classic pop and rock']   \n",
       "3                         0.000  [b'uk', b'british', b'english']   \n",
       "4                         0.562                               []   \n",
       "8                         0.487                               []   \n",
       "14                        0.211             [b'soul and reggae']   \n",
       "\n",
       "                                          ArtistTerms        ArtistLocation  \\\n",
       "1   [b'blue-eyed soul', b'pop rock', b'blues-rock'...        b'Memphis, TN'   \n",
       "3   [b'pop rock', b'new wave', b'dance rock', b'ro...    b'London, England'   \n",
       "4   [b'pop punk', b'ska punk', b'breakcore', b'alt...                   b''   \n",
       "8   [b'new wave', b'progressive rock', b'space roc...                   b''   \n",
       "14  [b'quiet storm', b'soft rock', b'pop', b'urban...  b'Beverly Hills, CA'   \n",
       "\n",
       "    ArtistLatitude  ArtistLongitude  \n",
       "1         35.14968        -90.04892  \n",
       "3              NaN              NaN  \n",
       "4              NaN              NaN  \n",
       "8              NaN              NaN  \n",
       "14             NaN              NaN  "
      ]
     },
     "execution_count": 33,
     "metadata": {},
     "output_type": "execute_result"
    }
   ],
   "source": [
    "df.head()"
   ]
  },
  {
   "cell_type": "code",
   "execution_count": 34,
   "metadata": {},
   "outputs": [
    {
     "data": {
      "text/plain": [
       "ArtistID                          0\n",
       "ArtistName                        0\n",
       "SongYear                          0\n",
       "SongID                            0\n",
       "SongDanceability                  0\n",
       "Duration                          0\n",
       "SongHotness                    1616\n",
       "SongTitle                         0\n",
       "SongTempo                         0\n",
       "SongTimeSignature                 0\n",
       "SongTimeSignatureConfidence       0\n",
       "ArtistMbtags                      0\n",
       "ArtistTerms                       0\n",
       "ArtistLocation                    0\n",
       "ArtistLatitude                 2855\n",
       "ArtistLongitude                2855\n",
       "dtype: int64"
      ]
     },
     "execution_count": 34,
     "metadata": {},
     "output_type": "execute_result"
    }
   ],
   "source": [
    "df.isnull().sum()"
   ]
  },
  {
   "cell_type": "markdown",
   "metadata": {},
   "source": [
    "We notice, that 1616/4680 Songs do not have a defined Hotness.  \n",
    "Furthermore, the Latitude and Longitude of the arists for 2855 Songs is not defined.  \n",
    "For now we will keep the features and rows with NAN, and we will remove them if it would be neccessary to take the NANs into account.  \n",
    "Let's have a deeper look at the different columns:"
   ]
  },
  {
   "cell_type": "code",
   "execution_count": 35,
   "metadata": {
    "scrolled": true
   },
   "outputs": [
    {
     "data": {
      "text/html": [
       "<div>\n",
       "<style>\n",
       "    .dataframe thead tr:only-child th {\n",
       "        text-align: right;\n",
       "    }\n",
       "\n",
       "    .dataframe thead th {\n",
       "        text-align: left;\n",
       "    }\n",
       "\n",
       "    .dataframe tbody tr th {\n",
       "        vertical-align: top;\n",
       "    }\n",
       "</style>\n",
       "<table border=\"1\" class=\"dataframe\">\n",
       "  <thead>\n",
       "    <tr style=\"text-align: right;\">\n",
       "      <th></th>\n",
       "      <th>SongYear</th>\n",
       "      <th>SongDanceability</th>\n",
       "      <th>Duration</th>\n",
       "      <th>SongHotness</th>\n",
       "      <th>SongTempo</th>\n",
       "      <th>SongTimeSignature</th>\n",
       "      <th>SongTimeSignatureConfidence</th>\n",
       "      <th>ArtistLatitude</th>\n",
       "      <th>ArtistLongitude</th>\n",
       "    </tr>\n",
       "  </thead>\n",
       "  <tbody>\n",
       "    <tr>\n",
       "      <th>count</th>\n",
       "      <td>4680.000000</td>\n",
       "      <td>4680.0</td>\n",
       "      <td>4680.000000</td>\n",
       "      <td>3064.000000</td>\n",
       "      <td>4680.000000</td>\n",
       "      <td>4680.000000</td>\n",
       "      <td>4680.000000</td>\n",
       "      <td>1825.000000</td>\n",
       "      <td>1825.000000</td>\n",
       "    </tr>\n",
       "    <tr>\n",
       "      <th>mean</th>\n",
       "      <td>1997.232051</td>\n",
       "      <td>0.0</td>\n",
       "      <td>238.781146</td>\n",
       "      <td>0.444377</td>\n",
       "      <td>125.163716</td>\n",
       "      <td>3.586111</td>\n",
       "      <td>0.510216</td>\n",
       "      <td>37.501760</td>\n",
       "      <td>-61.772744</td>\n",
       "    </tr>\n",
       "    <tr>\n",
       "      <th>std</th>\n",
       "      <td>11.686691</td>\n",
       "      <td>0.0</td>\n",
       "      <td>101.345438</td>\n",
       "      <td>0.222470</td>\n",
       "      <td>35.272251</td>\n",
       "      <td>1.240247</td>\n",
       "      <td>0.375063</td>\n",
       "      <td>16.273911</td>\n",
       "      <td>51.525675</td>\n",
       "    </tr>\n",
       "    <tr>\n",
       "      <th>min</th>\n",
       "      <td>1926.000000</td>\n",
       "      <td>0.0</td>\n",
       "      <td>1.044440</td>\n",
       "      <td>0.000000</td>\n",
       "      <td>0.000000</td>\n",
       "      <td>0.000000</td>\n",
       "      <td>0.000000</td>\n",
       "      <td>-41.280540</td>\n",
       "      <td>-155.434140</td>\n",
       "    </tr>\n",
       "    <tr>\n",
       "      <th>25%</th>\n",
       "      <td>1993.000000</td>\n",
       "      <td>0.0</td>\n",
       "      <td>181.152200</td>\n",
       "      <td>0.313562</td>\n",
       "      <td>98.698500</td>\n",
       "      <td>3.000000</td>\n",
       "      <td>0.089000</td>\n",
       "      <td>34.053490</td>\n",
       "      <td>-93.264930</td>\n",
       "    </tr>\n",
       "    <tr>\n",
       "      <th>50%</th>\n",
       "      <td>2001.000000</td>\n",
       "      <td>0.0</td>\n",
       "      <td>227.382400</td>\n",
       "      <td>0.473347</td>\n",
       "      <td>122.226500</td>\n",
       "      <td>4.000000</td>\n",
       "      <td>0.553000</td>\n",
       "      <td>40.102160</td>\n",
       "      <td>-79.385330</td>\n",
       "    </tr>\n",
       "    <tr>\n",
       "      <th>75%</th>\n",
       "      <td>2006.000000</td>\n",
       "      <td>0.0</td>\n",
       "      <td>278.406080</td>\n",
       "      <td>0.604554</td>\n",
       "      <td>146.572000</td>\n",
       "      <td>4.000000</td>\n",
       "      <td>0.868000</td>\n",
       "      <td>44.979030</td>\n",
       "      <td>-3.996670</td>\n",
       "    </tr>\n",
       "    <tr>\n",
       "      <th>max</th>\n",
       "      <td>2010.000000</td>\n",
       "      <td>0.0</td>\n",
       "      <td>1598.197100</td>\n",
       "      <td>1.000000</td>\n",
       "      <td>258.677000</td>\n",
       "      <td>7.000000</td>\n",
       "      <td>1.000000</td>\n",
       "      <td>69.651020</td>\n",
       "      <td>174.767140</td>\n",
       "    </tr>\n",
       "  </tbody>\n",
       "</table>\n",
       "</div>"
      ],
      "text/plain": [
       "          SongYear  SongDanceability     Duration  SongHotness    SongTempo  \\\n",
       "count  4680.000000            4680.0  4680.000000  3064.000000  4680.000000   \n",
       "mean   1997.232051               0.0   238.781146     0.444377   125.163716   \n",
       "std      11.686691               0.0   101.345438     0.222470    35.272251   \n",
       "min    1926.000000               0.0     1.044440     0.000000     0.000000   \n",
       "25%    1993.000000               0.0   181.152200     0.313562    98.698500   \n",
       "50%    2001.000000               0.0   227.382400     0.473347   122.226500   \n",
       "75%    2006.000000               0.0   278.406080     0.604554   146.572000   \n",
       "max    2010.000000               0.0  1598.197100     1.000000   258.677000   \n",
       "\n",
       "       SongTimeSignature  SongTimeSignatureConfidence  ArtistLatitude  \\\n",
       "count        4680.000000                  4680.000000     1825.000000   \n",
       "mean            3.586111                     0.510216       37.501760   \n",
       "std             1.240247                     0.375063       16.273911   \n",
       "min             0.000000                     0.000000      -41.280540   \n",
       "25%             3.000000                     0.089000       34.053490   \n",
       "50%             4.000000                     0.553000       40.102160   \n",
       "75%             4.000000                     0.868000       44.979030   \n",
       "max             7.000000                     1.000000       69.651020   \n",
       "\n",
       "       ArtistLongitude  \n",
       "count      1825.000000  \n",
       "mean        -61.772744  \n",
       "std          51.525675  \n",
       "min        -155.434140  \n",
       "25%         -93.264930  \n",
       "50%         -79.385330  \n",
       "75%          -3.996670  \n",
       "max         174.767140  "
      ]
     },
     "execution_count": 35,
     "metadata": {},
     "output_type": "execute_result"
    }
   ],
   "source": [
    "df.describe()"
   ]
  },
  {
   "cell_type": "markdown",
   "metadata": {},
   "source": [
    "By analysing the descriptive statistics of each columns we gained the following insights:"
   ]
  },
  {
   "cell_type": "markdown",
   "metadata": {},
   "source": [
    "|         |        ArtistID       | ArtistName         |         SongYear        | SongDanceability |       Duration      |   SongHotness   | SongTitle |  SongTempo |    SongTimeSignature   |      SongTimeSignatureConfidence      |                 ArtistMbtags                |                      ArtistTerms                     | ArtistLocation |  ArtistLatitude  |  ArtistLongitude  |\n",
    "|:-------:|:---------------------:|--------------------|:-----------------------:|:----------------:|:-------------------:|:---------------:|:---------:|:----------:|:----------------------:|:-------------------------------------:|:-------------------------------------------:|:----------------------------------------------------:|:--------------:|:----------------:|:-----------------:|\n",
    "|  format |         string        |       string       |           int           |       float      |        float        |      float      |   string  |    float   |           int          |                 float                 |                    string                   |                        string                        |     string     |       float      |       float       |\n",
    "|   type  |       categorial      |     categorial     |        continious       |    continious    |      continious     |    continious   |     -     | continious |         Ordinal        |               continious              |                                             |                                                      |                |    continious    |     continious    |\n",
    "| comment | identifier for artist | name of the Artist | years from 1926 to 2010 |     always 0     | duration in seconds | between 0 and 1 |           |            | values between 0 and 7 | between 0 and 1, 1 is very confident  | comma seperated array with mbtags of artist | comma seperated array with echo nest terms of artist |   town, state  | default latitude | default longitude |"
   ]
  },
  {
   "cell_type": "markdown",
   "metadata": {
    "collapsed": true
   },
   "source": [
    "Now that we know a little bit more about the different features, let's have a deeper look at their distribution."
   ]
  },
  {
   "cell_type": "code",
   "execution_count": 36,
   "metadata": {},
   "outputs": [],
   "source": [
    "normalized_df = df.copy()"
   ]
  },
  {
   "cell_type": "markdown",
   "metadata": {},
   "source": [
    "### Song Year"
   ]
  },
  {
   "cell_type": "code",
   "execution_count": 37,
   "metadata": {},
   "outputs": [
    {
     "data": {
      "text/plain": [
       "<matplotlib.axes._subplots.AxesSubplot at 0x2078e0687b8>"
      ]
     },
     "execution_count": 37,
     "metadata": {},
     "output_type": "execute_result"
    },
    {
     "data": {
      "image/png": "[encoded data removed]",
      "text/plain": [
       "<matplotlib.figure.Figure at 0x20791919ac8>"
      ]
     },
     "metadata": {},
     "output_type": "display_data"
    }
   ],
   "source": [
    "df.SongYear.plot(kind='hist')"
   ]
  },
  {
   "cell_type": "code",
   "execution_count": 38,
   "metadata": {},
   "outputs": [
    {
     "data": {
      "text/plain": [
       "<matplotlib.axes._subplots.AxesSubplot at 0x207919f75c0>"
      ]
     },
     "execution_count": 38,
     "metadata": {},
     "output_type": "execute_result"
    },
    {
     "data": {
      "image/png": "[encoded data removed]",
      "text/plain": [
       "<matplotlib.figure.Figure at 0x2078f5799b0>"
      ]
     },
     "metadata": {},
     "output_type": "display_data"
    }
   ],
   "source": [
    "df.SongYear.plot.box()"
   ]
  },
  {
   "cell_type": "markdown",
   "metadata": {},
   "source": [
    "The distribution of the year feature is negatively skewed.  \n",
    "The available years span from 1926 to 2010.  \n",
    "It makes sense to normalize the feature with scaling.\n",
    "Normalize the year first"
   ]
  },
  {
   "cell_type": "code",
   "execution_count": 39,
   "metadata": {},
   "outputs": [
    {
     "data": {
      "text/html": [
       "<div>\n",
       "<style>\n",
       "    .dataframe thead tr:only-child th {\n",
       "        text-align: right;\n",
       "    }\n",
       "\n",
       "    .dataframe thead th {\n",
       "        text-align: left;\n",
       "    }\n",
       "\n",
       "    .dataframe tbody tr th {\n",
       "        vertical-align: top;\n",
       "    }\n",
       "</style>\n",
       "<table border=\"1\" class=\"dataframe\">\n",
       "  <thead>\n",
       "    <tr style=\"text-align: right;\">\n",
       "      <th></th>\n",
       "      <th>ArtistID</th>\n",
       "      <th>ArtistName</th>\n",
       "      <th>SongYear</th>\n",
       "      <th>SongID</th>\n",
       "      <th>SongDanceability</th>\n",
       "      <th>Duration</th>\n",
       "      <th>SongHotness</th>\n",
       "      <th>SongTitle</th>\n",
       "      <th>SongTempo</th>\n",
       "      <th>SongTimeSignature</th>\n",
       "      <th>SongTimeSignatureConfidence</th>\n",
       "      <th>ArtistMbtags</th>\n",
       "      <th>ArtistTerms</th>\n",
       "      <th>ArtistLocation</th>\n",
       "      <th>ArtistLatitude</th>\n",
       "      <th>ArtistLongitude</th>\n",
       "    </tr>\n",
       "  </thead>\n",
       "  <tbody>\n",
       "    <tr>\n",
       "      <th>1</th>\n",
       "      <td>b'ARMJAGH1187FB546F3'</td>\n",
       "      <td>b'The Box Tops'</td>\n",
       "      <td>1969</td>\n",
       "      <td>b'SOCIWDW12A8C13D406'</td>\n",
       "      <td>0.0</td>\n",
       "      <td>148.03546</td>\n",
       "      <td>NaN</td>\n",
       "      <td>b'Soul Deep'</td>\n",
       "      <td>121.274</td>\n",
       "      <td>4</td>\n",
       "      <td>0.384</td>\n",
       "      <td>[b'classic pop and rock']</td>\n",
       "      <td>[b'blue-eyed soul', b'pop rock', b'blues-rock'...</td>\n",
       "      <td>b'Memphis, TN'</td>\n",
       "      <td>35.14968</td>\n",
       "      <td>-90.04892</td>\n",
       "    </tr>\n",
       "    <tr>\n",
       "      <th>3</th>\n",
       "      <td>b'AR7G5I41187FB4CE6C'</td>\n",
       "      <td>b'Adam Ant'</td>\n",
       "      <td>1982</td>\n",
       "      <td>b'SONHOTT12A8C13493C'</td>\n",
       "      <td>0.0</td>\n",
       "      <td>233.40363</td>\n",
       "      <td>NaN</td>\n",
       "      <td>b'Something Girls'</td>\n",
       "      <td>119.293</td>\n",
       "      <td>4</td>\n",
       "      <td>0.000</td>\n",
       "      <td>[b'uk', b'british', b'english']</td>\n",
       "      <td>[b'pop rock', b'new wave', b'dance rock', b'ro...</td>\n",
       "      <td>b'London, England'</td>\n",
       "      <td>NaN</td>\n",
       "      <td>NaN</td>\n",
       "    </tr>\n",
       "    <tr>\n",
       "      <th>4</th>\n",
       "      <td>b'ARXR32B1187FB57099'</td>\n",
       "      <td>b'Gob'</td>\n",
       "      <td>2007</td>\n",
       "      <td>b'SOFSOCN12A8C143F5D'</td>\n",
       "      <td>0.0</td>\n",
       "      <td>209.60608</td>\n",
       "      <td>0.604501</td>\n",
       "      <td>b'Face the Ashes'</td>\n",
       "      <td>129.738</td>\n",
       "      <td>4</td>\n",
       "      <td>0.562</td>\n",
       "      <td>[]</td>\n",
       "      <td>[b'pop punk', b'ska punk', b'breakcore', b'alt...</td>\n",
       "      <td>b''</td>\n",
       "      <td>NaN</td>\n",
       "      <td>NaN</td>\n",
       "    </tr>\n",
       "    <tr>\n",
       "      <th>8</th>\n",
       "      <td>b'AR8ZCNI1187B9A069B'</td>\n",
       "      <td>b'Planet P Project'</td>\n",
       "      <td>1984</td>\n",
       "      <td>b'SOIAZJW12AB01853F1'</td>\n",
       "      <td>0.0</td>\n",
       "      <td>269.81832</td>\n",
       "      <td>0.265861</td>\n",
       "      <td>b'Pink World'</td>\n",
       "      <td>86.643</td>\n",
       "      <td>4</td>\n",
       "      <td>0.487</td>\n",
       "      <td>[]</td>\n",
       "      <td>[b'new wave', b'progressive rock', b'space roc...</td>\n",
       "      <td>b''</td>\n",
       "      <td>NaN</td>\n",
       "      <td>NaN</td>\n",
       "    </tr>\n",
       "    <tr>\n",
       "      <th>14</th>\n",
       "      <td>b'ARIK43K1187B9AE54C'</td>\n",
       "      <td>b'Lionel Richie'</td>\n",
       "      <td>1986</td>\n",
       "      <td>b'SOBONFF12A6D4F84D8'</td>\n",
       "      <td>0.0</td>\n",
       "      <td>307.38240</td>\n",
       "      <td>NaN</td>\n",
       "      <td>b'Tonight Will Be Alright'</td>\n",
       "      <td>125.197</td>\n",
       "      <td>3</td>\n",
       "      <td>0.211</td>\n",
       "      <td>[b'soul and reggae']</td>\n",
       "      <td>[b'quiet storm', b'soft rock', b'pop', b'urban...</td>\n",
       "      <td>b'Beverly Hills, CA'</td>\n",
       "      <td>NaN</td>\n",
       "      <td>NaN</td>\n",
       "    </tr>\n",
       "  </tbody>\n",
       "</table>\n",
       "</div>"
      ],
      "text/plain": [
       "                 ArtistID           ArtistName  SongYear  \\\n",
       "1   b'ARMJAGH1187FB546F3'      b'The Box Tops'      1969   \n",
       "3   b'AR7G5I41187FB4CE6C'          b'Adam Ant'      1982   \n",
       "4   b'ARXR32B1187FB57099'               b'Gob'      2007   \n",
       "8   b'AR8ZCNI1187B9A069B'  b'Planet P Project'      1984   \n",
       "14  b'ARIK43K1187B9AE54C'     b'Lionel Richie'      1986   \n",
       "\n",
       "                   SongID  SongDanceability   Duration  SongHotness  \\\n",
       "1   b'SOCIWDW12A8C13D406'               0.0  148.03546          NaN   \n",
       "3   b'SONHOTT12A8C13493C'               0.0  233.40363          NaN   \n",
       "4   b'SOFSOCN12A8C143F5D'               0.0  209.60608     0.604501   \n",
       "8   b'SOIAZJW12AB01853F1'               0.0  269.81832     0.265861   \n",
       "14  b'SOBONFF12A6D4F84D8'               0.0  307.38240          NaN   \n",
       "\n",
       "                     SongTitle  SongTempo  SongTimeSignature  \\\n",
       "1                 b'Soul Deep'    121.274                  4   \n",
       "3           b'Something Girls'    119.293                  4   \n",
       "4            b'Face the Ashes'    129.738                  4   \n",
       "8                b'Pink World'     86.643                  4   \n",
       "14  b'Tonight Will Be Alright'    125.197                  3   \n",
       "\n",
       "    SongTimeSignatureConfidence                     ArtistMbtags  \\\n",
       "1                         0.384        [b'classic pop and rock']   \n",
       "3                         0.000  [b'uk', b'british', b'english']   \n",
       "4                         0.562                               []   \n",
       "8                         0.487                               []   \n",
       "14                        0.211             [b'soul and reggae']   \n",
       "\n",
       "                                          ArtistTerms        ArtistLocation  \\\n",
       "1   [b'blue-eyed soul', b'pop rock', b'blues-rock'...        b'Memphis, TN'   \n",
       "3   [b'pop rock', b'new wave', b'dance rock', b'ro...    b'London, England'   \n",
       "4   [b'pop punk', b'ska punk', b'breakcore', b'alt...                   b''   \n",
       "8   [b'new wave', b'progressive rock', b'space roc...                   b''   \n",
       "14  [b'quiet storm', b'soft rock', b'pop', b'urban...  b'Beverly Hills, CA'   \n",
       "\n",
       "    ArtistLatitude  ArtistLongitude  \n",
       "1         35.14968        -90.04892  \n",
       "3              NaN              NaN  \n",
       "4              NaN              NaN  \n",
       "8              NaN              NaN  \n",
       "14             NaN              NaN  "
      ]
     },
     "execution_count": 39,
     "metadata": {},
     "output_type": "execute_result"
    }
   ],
   "source": [
    "normalized_df.SongYearNorm = (df.SongYear-df.SongYear.min())/ \\\n",
    "                            (df.SongYear.max()-df.SongYear.min())\n",
    "normalized_df.head()"
   ]
  },
  {
   "cell_type": "markdown",
   "metadata": {},
   "source": [
    "### Song Danceability"
   ]
  },
  {
   "cell_type": "code",
   "execution_count": 40,
   "metadata": {
    "scrolled": true
   },
   "outputs": [
    {
     "data": {
      "text/plain": [
       "<matplotlib.axes._subplots.AxesSubplot at 0x20792b17da0>"
      ]
     },
     "execution_count": 40,
     "metadata": {},
     "output_type": "execute_result"
    },
    {
     "data": {
      "image/png": "[encoded data removed]",
      "text/plain": [
       "<matplotlib.figure.Figure at 0x2078de6dd68>"
      ]
     },
     "metadata": {},
     "output_type": "display_data"
    }
   ],
   "source": [
    "df.SongDanceability.plot(kind='hist')"
   ]
  },
  {
   "cell_type": "code",
   "execution_count": 41,
   "metadata": {},
   "outputs": [
    {
     "data": {
      "text/plain": [
       "<matplotlib.axes._subplots.AxesSubplot at 0x2078dec0ba8>"
      ]
     },
     "execution_count": 41,
     "metadata": {},
     "output_type": "execute_result"
    },
    {
     "data": {
      "image/png": "[encoded data removed]",
      "text/plain": [
       "<matplotlib.figure.Figure at 0x20792c1dac8>"
      ]
     },
     "metadata": {},
     "output_type": "display_data"
    }
   ],
   "source": [
    "df.SongDanceability.plot.box()"
   ]
  },
  {
   "cell_type": "markdown",
   "metadata": {},
   "source": [
    "All songs of our cleaned data frame has danceability `0`.  \n",
    "Therefore we will drop this column.  "
   ]
  },
  {
   "cell_type": "code",
   "execution_count": 42,
   "metadata": {},
   "outputs": [],
   "source": [
    "normalized_df.drop(labels=['SongDanceability'], axis=1, inplace=True)"
   ]
  },
  {
   "cell_type": "markdown",
   "metadata": {},
   "source": [
    "### Duration"
   ]
  },
  {
   "cell_type": "code",
   "execution_count": 43,
   "metadata": {
    "scrolled": true
   },
   "outputs": [
    {
     "name": "stdout",
     "output_type": "stream",
     "text": [
      "(35, 16)\n",
      "(73, 16)\n"
     ]
    },
    {
     "data": {
      "image/png": "[encoded data removed]",
      "text/plain": [
       "<matplotlib.figure.Figure at 0x2078e1252b0>"
      ]
     },
     "metadata": {},
     "output_type": "display_data"
    }
   ],
   "source": [
    "df.Duration.plot(kind='hist',bins=50)\n",
    "print(df[df['Duration']>600].shape)\n",
    "print(df[df['Duration']<60].shape)"
   ]
  },
  {
   "cell_type": "code",
   "execution_count": 44,
   "metadata": {},
   "outputs": [
    {
     "data": {
      "text/plain": [
       "<matplotlib.axes._subplots.AxesSubplot at 0x207940d6da0>"
      ]
     },
     "execution_count": 44,
     "metadata": {},
     "output_type": "execute_result"
    },
    {
     "data": {
      "image/png": "[encoded data removed]",
      "text/plain": [
       "<matplotlib.figure.Figure at 0x2078f51b5c0>"
      ]
     },
     "metadata": {},
     "output_type": "display_data"
    }
   ],
   "source": [
    "df.Duration.plot.box()"
   ]
  },
  {
   "cell_type": "markdown",
   "metadata": {},
   "source": [
    "We can see in the histogram, that most of the songs duration are normal distributed.  \n",
    "However, there are outliers with song durations over 10 minutes and under 60 seconds.   \n",
    "In our normalized DataFrame we remove the outliers for the duration, since they might deviate too much from the average songs, which we want to analyse."
   ]
  },
  {
   "cell_type": "code",
   "execution_count": 45,
   "metadata": {},
   "outputs": [],
   "source": [
    "normalized_df = normalized_df[normalized_df['Duration']>60]\n",
    "normalized_df = normalized_df[normalized_df['Duration']<600]"
   ]
  },
  {
   "cell_type": "markdown",
   "metadata": {},
   "source": [
    "### Song Hotness"
   ]
  },
  {
   "cell_type": "code",
   "execution_count": 46,
   "metadata": {
    "scrolled": false
   },
   "outputs": [
    {
     "data": {
      "text/plain": [
       "<matplotlib.axes._subplots.AxesSubplot at 0x2078f579908>"
      ]
     },
     "execution_count": 46,
     "metadata": {},
     "output_type": "execute_result"
    },
    {
     "data": {
      "image/png": "[encoded data removed]",
      "text/plain": [
       "<matplotlib.figure.Figure at 0x20792b7ac88>"
      ]
     },
     "metadata": {},
     "output_type": "display_data"
    }
   ],
   "source": [
    "df.SongHotness.plot(kind='hist')"
   ]
  },
  {
   "cell_type": "code",
   "execution_count": 47,
   "metadata": {},
   "outputs": [
    {
     "data": {
      "text/plain": [
       "<matplotlib.axes._subplots.AxesSubplot at 0x207941ea160>"
      ]
     },
     "execution_count": 47,
     "metadata": {},
     "output_type": "execute_result"
    },
    {
     "data": {
      "image/png": "[encoded data removed]",
      "text/plain": [
       "<matplotlib.figure.Figure at 0x20794185978>"
      ]
     },
     "metadata": {},
     "output_type": "display_data"
    }
   ],
   "source": [
    "df.SongHotness.plot.box()"
   ]
  },
  {
   "cell_type": "markdown",
   "metadata": {},
   "source": [
    "The distribution of the Hotness is not skewed.  \n",
    "There are a few songs where the hotness is missing.  \n",
    "When analysing hotness remove songs with hotness of zero. But for now we will keep the songs for other analysis tasks."
   ]
  },
  {
   "cell_type": "markdown",
   "metadata": {},
   "source": [
    "### Song Tempo "
   ]
  },
  {
   "cell_type": "code",
   "execution_count": 48,
   "metadata": {
    "scrolled": false
   },
   "outputs": [
    {
     "data": {
      "text/plain": [
       "<matplotlib.axes._subplots.AxesSubplot at 0x207941ad1d0>"
      ]
     },
     "execution_count": 48,
     "metadata": {},
     "output_type": "execute_result"
    },
    {
     "data": {
      "image/png": "[encoded data removed]",
      "text/plain": [
       "<matplotlib.figure.Figure at 0x2078dff0f98>"
      ]
     },
     "metadata": {},
     "output_type": "display_data"
    }
   ],
   "source": [
    "df.SongTempo.plot(kind='hist')"
   ]
  },
  {
   "cell_type": "code",
   "execution_count": 49,
   "metadata": {},
   "outputs": [
    {
     "data": {
      "text/plain": [
       "<matplotlib.axes._subplots.AxesSubplot at 0x2079431a898>"
      ]
     },
     "execution_count": 49,
     "metadata": {},
     "output_type": "execute_result"
    },
    {
     "data": {
      "image/png": "[encoded data removed]",
      "text/plain": [
       "<matplotlib.figure.Figure at 0x207942036a0>"
      ]
     },
     "metadata": {},
     "output_type": "display_data"
    }
   ],
   "source": [
    "df.SongTempo.plot.box()"
   ]
  },
  {
   "cell_type": "markdown",
   "metadata": {},
   "source": [
    "The distribution of the tempo is normal. There are some outliers with a very high or low tempo of more than 200 or less than 25.  \n",
    "We will remove these outliers, since they might deviate from the average songs we want to analyse."
   ]
  },
  {
   "cell_type": "code",
   "execution_count": 50,
   "metadata": {},
   "outputs": [],
   "source": [
    "normalized_df = normalized_df[normalized_df['SongTempo']<220]\n",
    "normalized_df = normalized_df[normalized_df['SongTempo']>25]"
   ]
  },
  {
   "cell_type": "markdown",
   "metadata": {},
   "source": [
    "### Song Time Signature"
   ]
  },
  {
   "cell_type": "markdown",
   "metadata": {},
   "source": [
    "The Song Time Signature describes the number of beats per bar."
   ]
  },
  {
   "cell_type": "code",
   "execution_count": 51,
   "metadata": {
    "scrolled": true
   },
   "outputs": [
    {
     "data": {
      "text/plain": [
       "<matplotlib.axes._subplots.AxesSubplot at 0x2079437ca58>"
      ]
     },
     "execution_count": 51,
     "metadata": {},
     "output_type": "execute_result"
    },
    {
     "data": {
      "image/png": "[encoded data removed]",
      "text/plain": [
       "<matplotlib.figure.Figure at 0x20790746c18>"
      ]
     },
     "metadata": {},
     "output_type": "display_data"
    }
   ],
   "source": [
    "df.SongTimeSignature.plot(kind='hist')"
   ]
  },
  {
   "cell_type": "code",
   "execution_count": 52,
   "metadata": {},
   "outputs": [
    {
     "data": {
      "text/plain": [
       "<matplotlib.axes._subplots.AxesSubplot at 0x20794478860>"
      ]
     },
     "execution_count": 52,
     "metadata": {},
     "output_type": "execute_result"
    },
    {
     "data": {
      "image/png": "[encoded data removed]",
      "text/plain": [
       "<matplotlib.figure.Figure at 0x2079441f4a8>"
      ]
     },
     "metadata": {},
     "output_type": "display_data"
    }
   ],
   "source": [
    "df.SongTimeSignature.plot.box()"
   ]
  },
  {
   "cell_type": "markdown",
   "metadata": {},
   "source": [
    "The distribution of the Time signature also looks normally distributed, without many outliers.  \n",
    "Therefore we will keep the feature as it is."
   ]
  },
  {
   "cell_type": "markdown",
   "metadata": {},
   "source": [
    "### Song Time Signature Confidence"
   ]
  },
  {
   "cell_type": "markdown",
   "metadata": {},
   "source": [
    "The Song Time Signature Confidence describes the confidence in the Song Time Signature. It is 1 when the Song Time Signature is very accurate and 0 if is unknown."
   ]
  },
  {
   "cell_type": "code",
   "execution_count": 53,
   "metadata": {
    "scrolled": true
   },
   "outputs": [
    {
     "data": {
      "text/plain": [
       "<matplotlib.axes._subplots.AxesSubplot at 0x207944cb048>"
      ]
     },
     "execution_count": 53,
     "metadata": {},
     "output_type": "execute_result"
    },
    {
     "data": {
      "image/png": "[encoded data removed]",
      "text/plain": [
       "<matplotlib.figure.Figure at 0x2079420ef60>"
      ]
     },
     "metadata": {},
     "output_type": "display_data"
    }
   ],
   "source": [
    "df.SongTimeSignatureConfidence.plot(kind='hist')"
   ]
  },
  {
   "cell_type": "code",
   "execution_count": 54,
   "metadata": {},
   "outputs": [
    {
     "data": {
      "text/plain": [
       "<matplotlib.axes._subplots.AxesSubplot at 0x20794473a90>"
      ]
     },
     "execution_count": 54,
     "metadata": {},
     "output_type": "execute_result"
    },
    {
     "data": {
      "image/png": "[encoded data removed]",
      "text/plain": [
       "<matplotlib.figure.Figure at 0x2078e221668>"
      ]
     },
     "metadata": {},
     "output_type": "display_data"
    }
   ],
   "source": [
    "df.SongTimeSignatureConfidence.plot.box()"
   ]
  },
  {
   "cell_type": "markdown",
   "metadata": {},
   "source": [
    "The majority of songs has either 0 or 1 as confidence. The other confidences are almost equally distributed.    \n",
    "When analysing TimeSignature we will remove songs with low confidence, but keep the songs for now."
   ]
  },
  {
   "cell_type": "markdown",
   "metadata": {},
   "source": [
    "### Artist Location"
   ]
  },
  {
   "cell_type": "code",
   "execution_count": 55,
   "metadata": {
    "scrolled": true
   },
   "outputs": [
    {
     "data": {
      "text/plain": [
       "<matplotlib.axes._subplots.AxesSubplot at 0x2078f5aba58>"
      ]
     },
     "execution_count": 55,
     "metadata": {},
     "output_type": "execute_result"
    },
    {
     "data": {
      "image/png": "[encoded data removed]",
      "text/plain": [
       "<matplotlib.figure.Figure at 0x207906f7978>"
      ]
     },
     "metadata": {},
     "output_type": "display_data"
    }
   ],
   "source": [
    "df.ArtistLatitude.plot(kind='hist')"
   ]
  },
  {
   "cell_type": "code",
   "execution_count": 56,
   "metadata": {},
   "outputs": [
    {
     "data": {
      "text/plain": [
       "<matplotlib.axes._subplots.AxesSubplot at 0x2079451cfd0>"
      ]
     },
     "execution_count": 56,
     "metadata": {},
     "output_type": "execute_result"
    },
    {
     "data": {
      "image/png": "[encoded data removed]",
      "text/plain": [
       "<matplotlib.figure.Figure at 0x20793ff74a8>"
      ]
     },
     "metadata": {},
     "output_type": "display_data"
    }
   ],
   "source": [
    "df.ArtistLatitude.plot.box()"
   ]
  },
  {
   "cell_type": "code",
   "execution_count": 57,
   "metadata": {
    "scrolled": true
   },
   "outputs": [
    {
     "data": {
      "text/plain": [
       "<matplotlib.axes._subplots.AxesSubplot at 0x20794018128>"
      ]
     },
     "execution_count": 57,
     "metadata": {},
     "output_type": "execute_result"
    },
    {
     "data": {
      "image/png": "[encoded data removed]",
      "text/plain": [
       "<matplotlib.figure.Figure at 0x207945a94a8>"
      ]
     },
     "metadata": {},
     "output_type": "display_data"
    }
   ],
   "source": [
    "df.ArtistLongitude.plot(kind='hist')"
   ]
  },
  {
   "cell_type": "code",
   "execution_count": 58,
   "metadata": {
    "scrolled": true
   },
   "outputs": [
    {
     "data": {
      "text/plain": [
       "<matplotlib.axes._subplots.AxesSubplot at 0x207946c5400>"
      ]
     },
     "execution_count": 58,
     "metadata": {},
     "output_type": "execute_result"
    },
    {
     "data": {
      "image/png": "[encoded data removed]",
      "text/plain": [
       "<matplotlib.figure.Figure at 0x207945a9320>"
      ]
     },
     "metadata": {},
     "output_type": "display_data"
    }
   ],
   "source": [
    "df.ArtistLongitude.plot.box()"
   ]
  },
  {
   "cell_type": "markdown",
   "metadata": {},
   "source": [
    "We will keep the artist locations for now as they are, since we wanted to look at the correlation between different song types and artist locations."
   ]
  },
  {
   "cell_type": "markdown",
   "metadata": {},
   "source": [
    "## Data Correlation"
   ]
  },
  {
   "cell_type": "markdown",
   "metadata": {},
   "source": [
    "We seem to have very few correlated features, so we will try to analyze by doing some more analysis on different paramters and maybe doing some feature engineering"
   ]
  },
  {
   "cell_type": "code",
   "execution_count": 59,
   "metadata": {},
   "outputs": [
    {
     "name": "stdout",
     "output_type": "stream",
     "text": [
      "\n"
     ]
    },
    {
     "data": {
      "image/png": "[encoded data removed]",
      "text/plain": [
       "<matplotlib.figure.Figure at 0x207947d9400>"
      ]
     },
     "metadata": {},
     "output_type": "display_data"
    }
   ],
   "source": [
    "cg = sns.clustermap(normalized_df.corr(), linewidth=.5, figsize=(9,9),cmap='mako')\n",
    "plt.setp(cg)"
   ]
  },
  {
   "cell_type": "code",
   "execution_count": 60,
   "metadata": {
    "scrolled": true
   },
   "outputs": [
    {
     "data": {
      "image/png": "[encoded data removed]",
      "text/plain": [
       "<matplotlib.figure.Figure at 0x207949555c0>"
      ]
     },
     "metadata": {},
     "output_type": "display_data"
    }
   ],
   "source": [
    "x = normalized_df.SongYear\n",
    "y = normalized_df.SongHotness\n",
    "xmin = x.min()\n",
    "xmax = x.max()\n",
    "ymin = y.min()\n",
    "ymax = y.max()\n",
    "\n",
    "fig, ax = plt.subplots()\n",
    "hb = ax.hexbin(x, y, gridsize=15, cmap=\"YlGn\")\n",
    "ax.axis([xmin, xmax, ymin - 0.1, ymax + 0.1])\n",
    "ax.set_title(\"Hexagon binning Year, Hotness\")\n",
    "cb = fig.colorbar(hb, ax=ax)\n",
    "cb.set_label('counts')\n",
    "\n",
    "plt.show()"
   ]
  },
  {
   "cell_type": "code",
   "execution_count": 82,
   "metadata": {},
   "outputs": [
    {
     "data": {
      "image/png": "[encoded data removed]",
      "text/plain": [
       "<matplotlib.figure.Figure at 0x20794b56588>"
      ]
     },
     "metadata": {},
     "output_type": "display_data"
    }
   ],
   "source": [
    "x = normalized_df.SongYear\n",
    "y = normalized_df.Duration\n",
    "xmin = x.min()\n",
    "xmax = x.max()\n",
    "ymin = y.min()\n",
    "ymax = y.max()\n",
    "\n",
    "fig, ax = plt.subplots()\n",
    "hb = ax.hexbin(x, y, gridsize=15, cmap=\"YlGn\")\n",
    "ax.axis([xmin, xmax, ymin - 0.1, ymax + 0.1])\n",
    "ax.set_title(\"Hexagon binning Year, Hotness\")\n",
    "cb = fig.colorbar(hb, ax=ax)\n",
    "cb.set_label('counts')\n",
    "\n",
    "plt.show()"
   ]
  },
  {
   "cell_type": "code",
   "execution_count": 83,
   "metadata": {},
   "outputs": [
    {
     "data": {
      "image/png": "[encoded data removed]",
      "text/plain": [
       "<matplotlib.figure.Figure at 0x20796114940>"
      ]
     },
     "metadata": {},
     "output_type": "display_data"
    }
   ],
   "source": [
    "x = normalized_df.SongYear\n",
    "y = normalized_df.SongTimeSignature\n",
    "xmin = x.min()\n",
    "xmax = x.max()\n",
    "ymin = y.min()\n",
    "ymax = y.max()\n",
    "\n",
    "fig, ax = plt.subplots()\n",
    "hb = ax.hexbin(x, y, gridsize=15, cmap=\"YlGn\")\n",
    "ax.axis([xmin, xmax, ymin - 0.1, ymax + 0.1])\n",
    "ax.set_title(\"Hexagon binning Year, Hotness\")\n",
    "cb = fig.colorbar(hb, ax=ax)\n",
    "cb.set_label('counts')\n",
    "\n",
    "plt.show()"
   ]
  },
  {
   "cell_type": "code",
   "execution_count": 61,
   "metadata": {},
   "outputs": [
    {
     "data": {
      "image/png": "[encoded data removed]",
      "text/plain": [
       "<matplotlib.figure.Figure at 0x207944c8fd0>"
      ]
     },
     "metadata": {},
     "output_type": "display_data"
    }
   ],
   "source": [
    "x = normalized_df.Duration\n",
    "y = normalized_df.SongTempo\n",
    "xmin = x.min()\n",
    "xmax = x.max()\n",
    "ymin = y.min()\n",
    "ymax = y.max()\n",
    "\n",
    "fig, ax = plt.subplots()\n",
    "hb = ax.hexbin(x, y, gridsize=25, cmap=\"gist_yarg\")\n",
    "ax.axis([xmin, xmax, ymin - 5, ymax + 5])\n",
    "ax.set_title(\"Hexagon binning Duration, Tempo\")\n",
    "cb = fig.colorbar(hb, ax=ax)\n",
    "cb.set_label('counts')\n",
    "\n",
    "plt.show()"
   ]
  },
  {
   "cell_type": "markdown",
   "metadata": {},
   "source": [
    "We can see that most of the song are located in range 90-150 in BPM with duration between 120 - 300 seconds."
   ]
  },
  {
   "cell_type": "markdown",
   "metadata": {},
   "source": [
    "We can't do much more correlation analysis as few datas are correlated and we have a small subset so this is likely to change with a full dataset."
   ]
  },
  {
   "cell_type": "code",
   "execution_count": 62,
   "metadata": {},
   "outputs": [
    {
     "data": {
      "text/plain": [
       "1     [b'blue-eyed soul', b'pop rock', b'blues-rock'...\n",
       "3     [b'pop rock', b'new wave', b'dance rock', b'ro...\n",
       "4     [b'pop punk', b'ska punk', b'breakcore', b'alt...\n",
       "8     [b'new wave', b'progressive rock', b'space roc...\n",
       "14    [b'quiet storm', b'soft rock', b'pop', b'urban...\n",
       "Name: ArtistTerms, dtype: object"
      ]
     },
     "execution_count": 62,
     "metadata": {},
     "output_type": "execute_result"
    }
   ],
   "source": [
    "df.ArtistTerms.head()"
   ]
  },
  {
   "cell_type": "code",
   "execution_count": 63,
   "metadata": {},
   "outputs": [
    {
     "data": {
      "text/plain": [
       "1           [b'classic pop and rock']\n",
       "3     [b'uk', b'british', b'english']\n",
       "4                                  []\n",
       "8                                  []\n",
       "14               [b'soul and reggae']\n",
       "Name: ArtistMbtags, dtype: object"
      ]
     },
     "execution_count": 63,
     "metadata": {},
     "output_type": "execute_result"
    }
   ],
   "source": [
    "df.ArtistMbtags.head()"
   ]
  },
  {
   "cell_type": "markdown",
   "metadata": {},
   "source": [
    "Here we can see that the term of MbTags are more generic a1nd some do not have any tags, while the tags from Terms are really variate. We could do some corssing between this to to see how many cut each other to see if we actually need both of this terms."
   ]
  },
  {
   "cell_type": "markdown",
   "metadata": {},
   "source": [
    "## Feature Engineering"
   ]
  },
  {
   "cell_type": "markdown",
   "metadata": {},
   "source": [
    "Actually all String are bytes string so we will transform them into Str for comparison issues. The concerned features are ArtistName, ArtistLocation, SongTitle, ArtistID and tag from the arrays"
   ]
  },
  {
   "cell_type": "code",
   "execution_count": 64,
   "metadata": {},
   "outputs": [],
   "source": [
    "def transform(x):\n",
    "    if('numpy.nd' in str(type(x))):\n",
    "        result = []\n",
    "        for a in x:\n",
    "            result.append(a.decode(encoding='utf-8'))\n",
    "        return np.array(result)\n",
    "    elif(x is not None): \n",
    "        return x.decode(encoding=\"utf-8\")\n"
   ]
  },
  {
   "cell_type": "code",
   "execution_count": 65,
   "metadata": {},
   "outputs": [
    {
     "data": {
      "text/html": [
       "<div>\n",
       "<style>\n",
       "    .dataframe thead tr:only-child th {\n",
       "        text-align: right;\n",
       "    }\n",
       "\n",
       "    .dataframe thead th {\n",
       "        text-align: left;\n",
       "    }\n",
       "\n",
       "    .dataframe tbody tr th {\n",
       "        vertical-align: top;\n",
       "    }\n",
       "</style>\n",
       "<table border=\"1\" class=\"dataframe\">\n",
       "  <thead>\n",
       "    <tr style=\"text-align: right;\">\n",
       "      <th></th>\n",
       "      <th>ArtistID</th>\n",
       "      <th>ArtistName</th>\n",
       "      <th>SongYear</th>\n",
       "      <th>SongID</th>\n",
       "      <th>Duration</th>\n",
       "      <th>SongHotness</th>\n",
       "      <th>SongTitle</th>\n",
       "      <th>SongTempo</th>\n",
       "      <th>SongTimeSignature</th>\n",
       "      <th>SongTimeSignatureConfidence</th>\n",
       "      <th>ArtistMbtags</th>\n",
       "      <th>ArtistTerms</th>\n",
       "      <th>ArtistLocation</th>\n",
       "      <th>ArtistLatitude</th>\n",
       "      <th>ArtistLongitude</th>\n",
       "    </tr>\n",
       "  </thead>\n",
       "  <tbody>\n",
       "    <tr>\n",
       "      <th>1</th>\n",
       "      <td>ARMJAGH1187FB546F3</td>\n",
       "      <td>The Box Tops</td>\n",
       "      <td>1969</td>\n",
       "      <td>b'SOCIWDW12A8C13D406'</td>\n",
       "      <td>148.03546</td>\n",
       "      <td>NaN</td>\n",
       "      <td>Soul Deep</td>\n",
       "      <td>121.274</td>\n",
       "      <td>4</td>\n",
       "      <td>0.384</td>\n",
       "      <td>[classic pop and rock]</td>\n",
       "      <td>[blue-eyed soul, pop rock, blues-rock, beach m...</td>\n",
       "      <td>Memphis, TN</td>\n",
       "      <td>35.14968</td>\n",
       "      <td>-90.04892</td>\n",
       "    </tr>\n",
       "    <tr>\n",
       "      <th>3</th>\n",
       "      <td>AR7G5I41187FB4CE6C</td>\n",
       "      <td>Adam Ant</td>\n",
       "      <td>1982</td>\n",
       "      <td>b'SONHOTT12A8C13493C'</td>\n",
       "      <td>233.40363</td>\n",
       "      <td>NaN</td>\n",
       "      <td>Something Girls</td>\n",
       "      <td>119.293</td>\n",
       "      <td>4</td>\n",
       "      <td>0.000</td>\n",
       "      <td>[uk, british, english]</td>\n",
       "      <td>[pop rock, new wave, dance rock, rock, new rom...</td>\n",
       "      <td>London, England</td>\n",
       "      <td>NaN</td>\n",
       "      <td>NaN</td>\n",
       "    </tr>\n",
       "    <tr>\n",
       "      <th>4</th>\n",
       "      <td>ARXR32B1187FB57099</td>\n",
       "      <td>Gob</td>\n",
       "      <td>2007</td>\n",
       "      <td>b'SOFSOCN12A8C143F5D'</td>\n",
       "      <td>209.60608</td>\n",
       "      <td>0.604501</td>\n",
       "      <td>Face the Ashes</td>\n",
       "      <td>129.738</td>\n",
       "      <td>4</td>\n",
       "      <td>0.562</td>\n",
       "      <td>[]</td>\n",
       "      <td>[pop punk, ska punk, breakcore, alternative me...</td>\n",
       "      <td></td>\n",
       "      <td>NaN</td>\n",
       "      <td>NaN</td>\n",
       "    </tr>\n",
       "    <tr>\n",
       "      <th>8</th>\n",
       "      <td>AR8ZCNI1187B9A069B</td>\n",
       "      <td>Planet P Project</td>\n",
       "      <td>1984</td>\n",
       "      <td>b'SOIAZJW12AB01853F1'</td>\n",
       "      <td>269.81832</td>\n",
       "      <td>0.265861</td>\n",
       "      <td>Pink World</td>\n",
       "      <td>86.643</td>\n",
       "      <td>4</td>\n",
       "      <td>0.487</td>\n",
       "      <td>[]</td>\n",
       "      <td>[new wave, progressive rock, space rock, eurod...</td>\n",
       "      <td></td>\n",
       "      <td>NaN</td>\n",
       "      <td>NaN</td>\n",
       "    </tr>\n",
       "    <tr>\n",
       "      <th>14</th>\n",
       "      <td>ARIK43K1187B9AE54C</td>\n",
       "      <td>Lionel Richie</td>\n",
       "      <td>1986</td>\n",
       "      <td>b'SOBONFF12A6D4F84D8'</td>\n",
       "      <td>307.38240</td>\n",
       "      <td>NaN</td>\n",
       "      <td>Tonight Will Be Alright</td>\n",
       "      <td>125.197</td>\n",
       "      <td>3</td>\n",
       "      <td>0.211</td>\n",
       "      <td>[soul and reggae]</td>\n",
       "      <td>[quiet storm, soft rock, pop, urban, adult con...</td>\n",
       "      <td>Beverly Hills, CA</td>\n",
       "      <td>NaN</td>\n",
       "      <td>NaN</td>\n",
       "    </tr>\n",
       "  </tbody>\n",
       "</table>\n",
       "</div>"
      ],
      "text/plain": [
       "              ArtistID        ArtistName  SongYear                 SongID  \\\n",
       "1   ARMJAGH1187FB546F3      The Box Tops      1969  b'SOCIWDW12A8C13D406'   \n",
       "3   AR7G5I41187FB4CE6C          Adam Ant      1982  b'SONHOTT12A8C13493C'   \n",
       "4   ARXR32B1187FB57099               Gob      2007  b'SOFSOCN12A8C143F5D'   \n",
       "8   AR8ZCNI1187B9A069B  Planet P Project      1984  b'SOIAZJW12AB01853F1'   \n",
       "14  ARIK43K1187B9AE54C     Lionel Richie      1986  b'SOBONFF12A6D4F84D8'   \n",
       "\n",
       "     Duration  SongHotness                SongTitle  SongTempo  \\\n",
       "1   148.03546          NaN                Soul Deep    121.274   \n",
       "3   233.40363          NaN          Something Girls    119.293   \n",
       "4   209.60608     0.604501           Face the Ashes    129.738   \n",
       "8   269.81832     0.265861               Pink World     86.643   \n",
       "14  307.38240          NaN  Tonight Will Be Alright    125.197   \n",
       "\n",
       "    SongTimeSignature  SongTimeSignatureConfidence            ArtistMbtags  \\\n",
       "1                   4                        0.384  [classic pop and rock]   \n",
       "3                   4                        0.000  [uk, british, english]   \n",
       "4                   4                        0.562                      []   \n",
       "8                   4                        0.487                      []   \n",
       "14                  3                        0.211       [soul and reggae]   \n",
       "\n",
       "                                          ArtistTerms     ArtistLocation  \\\n",
       "1   [blue-eyed soul, pop rock, blues-rock, beach m...        Memphis, TN   \n",
       "3   [pop rock, new wave, dance rock, rock, new rom...    London, England   \n",
       "4   [pop punk, ska punk, breakcore, alternative me...                      \n",
       "8   [new wave, progressive rock, space rock, eurod...                      \n",
       "14  [quiet storm, soft rock, pop, urban, adult con...  Beverly Hills, CA   \n",
       "\n",
       "    ArtistLatitude  ArtistLongitude  \n",
       "1         35.14968        -90.04892  \n",
       "3              NaN              NaN  \n",
       "4              NaN              NaN  \n",
       "8              NaN              NaN  \n",
       "14             NaN              NaN  "
      ]
     },
     "execution_count": 65,
     "metadata": {},
     "output_type": "execute_result"
    }
   ],
   "source": [
    "normalized_df.ArtistID = df.ArtistID.apply(lambda row: transform(row))\n",
    "normalized_df.ArtistLocation = df.ArtistLocation.apply(lambda row : transform(row))\n",
    "normalized_df.ArtistName= df.ArtistName.apply(lambda row : transform(row))\n",
    "normalized_df.SongTitle = df.SongTitle.apply(lambda row : transform(row))\n",
    "normalized_df.ArtistMbtags = df.ArtistMbtags.apply(lambda row : transform(row))\n",
    "normalized_df.ArtistTerms = df.ArtistTerms.apply(lambda row : transform(row))\n",
    "normalized_df.head()"
   ]
  },
  {
   "cell_type": "code",
   "execution_count": 81,
   "metadata": {
    "scrolled": true
   },
   "outputs": [
    {
     "data": {
      "text/plain": [
       "{' ACID ROCK &amp PSYCHEDELIA': 'GOLDEN AGE / CLASSIC ROCK',\n",
       " ' ADULT CONTEMPORARY (A.C.)': 'POP MUSIC',\n",
       " ' AGGREPPO': 'INDUSTRIAL &amp GOTHIC',\n",
       " ' ALTERNATIVE COUNTRY': 'COUNTRY',\n",
       " \" AMBIENT DRUM 'N' BASS &amp JAZZSTEP\": \"DRUM 'N' BASS (D'N'B) / JUNGLE\",\n",
       " ' AVANT-GARDE (JAZZ)': 'JAZZ',\n",
       " ' BIG BAND': 'JAZZ',\n",
       " ' BRITISH INVASION': 'GOLDEN AGE / CLASSIC ROCK',\n",
       " ' CCM (CONTEMPORARY CHRISTIAN MUSIC)': 'GOSPEL &amp; PIONEERS',\n",
       " ' CHILL-OUT': 'DOWNTEMPO / AMBIENT',\n",
       " ' CITY BLUES ': 'BLUES',\n",
       " ' CLASSIC BLUES': 'BLUES',\n",
       " \" CLICKS 'N' CUTS\": 'DOWNTEMPO / AMBIENT',\n",
       " ' COUNTRYPOLITAN': 'COUNTRY',\n",
       " ' DARK INDUSTRIAL': 'DOWNTEMPO / AMBIENT',\n",
       " ' DEEP SOUL ': \"RHYTHM 'N' BLUES (R&B)\",\n",
       " ' DISCORE': 'HARDCORE PUNK',\n",
       " ' ELECTRO JAZZ': 'JAZZ',\n",
       " ' ELECTROFUNK': \"RHYTHM 'N' BLUES (R&B)\",\n",
       " ' ELECTRONICA': 'DOWNTEMPO / AMBIENT',\n",
       " ' ELEVATOR MUSIC': 'DOWNTEMPO / AMBIENT',\n",
       " ' EPIC TRANCE': 'TRANCE',\n",
       " ' EURODISCO': 'POP MUSIC',\n",
       " ' EXOTICA ': 'DOWNTEMPO / AMBIENT',\n",
       " ' FOLK BLUES (& DELTA BLUES)': 'BLUES',\n",
       " ' FUTURE GARAGE': \"DRUM 'N' BASS (D'N'B) / JUNGLE\",\n",
       " ' GLITTER ROCK ': 'GOLDEN AGE / CLASSIC ROCK',\n",
       " ' HAIR METAL ': 'HEAVY METAL',\n",
       " ' HARDCORE COUNTRY': 'COUNTRY',\n",
       " ' HARDTEK': 'TECHNO',\n",
       " ' HILLBILLY': 'COUNTRY',\n",
       " ' INDIE II': 'ALTERNATIVE ROCK / INDIE',\n",
       " ' INDIE ROCK (&amp PAISLEY UNDERGROUND)': 'ALTERNATIVE ROCK / INDIE',\n",
       " ' INDUSTRIAL METAL': 'INDUSTRIAL &amp GOTHIC',\n",
       " ' INSTRUMENTAL': \"ROCK 'N' ROLL (R'N'R)\",\n",
       " ' JAZZ FUNK': 'JAZZ',\n",
       " ' JAZZ ROCK': 'JAZZ',\n",
       " ' JAZZDANCE': 'JAZZ',\n",
       " ' LOWERCASE': 'DOWNTEMPO / AMBIENT',\n",
       " ' MAINSTREAM HARDCORE': 'HARDCORE TECHNO',\n",
       " ' MINIMAL HOUSE': 'HOUSE',\n",
       " ' NATIVE TONGUE': 'RAP / HIP-HOP MUSIC',\n",
       " ' NEOTRADITIONALISTS': 'COUNTRY',\n",
       " ' NEW WEIRD AMERICA': 'POP MUSIC',\n",
       " ' NU PROG ': 'CONTEMPORARY ROCK',\n",
       " ' NU SKOOL RAP': 'RAP / HIP-HOP MUSIC',\n",
       " ' NU SOUL': \"RHYTHM 'N' BLUES (R&B)\",\n",
       " ' NU-RAWK': 'CONTEMPORARY ROCK',\n",
       " ' NWOAHM (NEW WAVE OF AMERICAN HEAVY METAL)': 'HARDCORE PUNK',\n",
       " ' PIANO BLUES': 'BLUES',\n",
       " ' POP (NU R&B I)': \"RHYTHM 'N' BLUES (R&B)\",\n",
       " ' POP METAL': 'HEAVY METAL',\n",
       " ' POST PROG (ROCK)': 'CONTEMPORARY ROCK',\n",
       " ' POST-DISCO': 'POP MUSIC',\n",
       " ' PROGRESSIVE JAZZ & MODAL JAZZ': 'JAZZ',\n",
       " ' RARE GROOVE &amp NU FUNK': \"RHYTHM 'N' BLUES (R&B)\",\n",
       " ' RAVE': 'TECHNO',\n",
       " ' ROCK': 'HEAVY METAL',\n",
       " ' ROCK &amp SLUDGE METAL ': 'HEAVY METAL',\n",
       " ' SHOCK ROCK': 'GOLDEN AGE / CLASSIC ROCK',\n",
       " ' SOUTHERN SOUL': \"RHYTHM 'N' BLUES (R&B)\",\n",
       " ' SPACE AGE POP': 'DOWNTEMPO / AMBIENT',\n",
       " ' SWAMP BLUES': 'BLUES',\n",
       " ' SWINGBEAT': \"RHYTHM 'N' BLUES (R&B)\",\n",
       " ' SYNTH &amp MINIMAL INDUSTRIAL (REVIVAL)': 'DOWNTEMPO / AMBIENT',\n",
       " ' TRANCECORE &amp ACIDCORE': 'TRANCE',\n",
       " ' TRAPSTEP': 'BREAKBEAT',\n",
       " ' URBAN BLUES': 'BLUES',\n",
       " ' VGM (CHIPTUNE &amp 8-BIT)': 'DOWNTEMPO / AMBIENT',\n",
       " '(AVANT-GARDE) INDUSTRIAL': 'INDUSTRIAL &amp GOTHIC',\n",
       " '(DIRTY) SOUTH RAP, CRUNK &amp SNAP': 'RAP / HIP-HOP MUSIC',\n",
       " '(EARLY) GABBER': 'HARDCORE TECHNO',\n",
       " '(EARLY) POP ROCK &amp POWER POP': 'POP MUSIC',\n",
       " \"(EARLY) RHYTHM 'N' BLUES\": \"RHYTHM 'N' BLUES (R&B)\",\n",
       " '(ELECTRIC) TEXAS BLUES': 'BLUES',\n",
       " '(FREE)TEK(K)NO ': 'TECHNO',\n",
       " '(MERSEY)BEAT ': 'GOLDEN AGE / CLASSIC ROCK',\n",
       " '(NEGRO) SPIRITUALS & WORKSONGS': 'GOSPEL &amp; PIONEERS',\n",
       " '(ROOTS) REGGAE': 'JAMAICAN (MUSIC) / REGGAE',\n",
       " '(WEST COAST) GANGSTA RAP': 'RAP / HIP-HOP MUSIC',\n",
       " 'ACID HOUSE': 'HOUSE',\n",
       " 'ACID JAZZ ': 'JAZZ',\n",
       " 'ALTERNATIVE': 'ALTERNATIVE ROCK / INDIE',\n",
       " 'ALTERNATIVE ROCK ': 'ALTERNATIVE ROCK / INDIE',\n",
       " 'AMBIENT': 'DOWNTEMPO / AMBIENT',\n",
       " 'AMBIENT BREAKS & ILLBIENT': 'DOWNTEMPO / AMBIENT',\n",
       " 'AMBIENT BREAKS &amp ILLBIENT': 'BREAKBEAT',\n",
       " 'AMBIENT HOUSE ': 'DOWNTEMPO / AMBIENT',\n",
       " 'AMBIENT TECHNO & IDM (INTELLIGENT DANCE MUSIC)': 'DOWNTEMPO / AMBIENT',\n",
       " 'AMERICAN &amp BRITISH FOLK REVIVAL': \"ROCK 'N' ROLL (R'N'R)\",\n",
       " 'AMERICANA ': 'COUNTRY',\n",
       " 'ANARCHO-PUNK, CRUST PUNK &amp D-BEAT ': 'HARDCORE PUNK',\n",
       " 'ASIAN POP': 'POP MUSIC',\n",
       " 'BAKERSFIELD': 'COUNTRY',\n",
       " 'BASSLINE &amp UK FUNKY': \"DRUM 'N' BASS (D'N'B) / JUNGLE\",\n",
       " 'BEBOP': 'JAZZ',\n",
       " 'BIT MUSIC ': 'DOWNTEMPO / AMBIENT',\n",
       " 'BLACK METAL': 'HEAVY METAL',\n",
       " 'BLUEGRASS': 'COUNTRY',\n",
       " 'BLUES': 'BLUES',\n",
       " 'BOOGIE ': \"RHYTHM 'N' BLUES (R&B)\",\n",
       " 'BOOGIE WOOGIE ': 'BLUES',\n",
       " 'BREAKBEAT': 'BREAKBEAT',\n",
       " 'BREAKBEAT GARAGE &amp GRIME': \"DRUM 'N' BASS (D'N'B) / JUNGLE\",\n",
       " 'BREAKBEAT HARDCORE &amp PIANO HOUSE (RAVE II)': 'HARDCORE TECHNO',\n",
       " 'BREAKBEAT HARDCORE (RAVE II)': 'BREAKBEAT',\n",
       " 'BRILL BUILDING POP & CROONERS': 'POP MUSIC',\n",
       " 'BRITISH BLUES &amp BLUES ROCK': 'BLUES',\n",
       " 'BRITPOP': 'POP MUSIC',\n",
       " 'BROKEN BEATS': 'BREAKBEAT',\n",
       " 'BUBBLEGUM &amp TEENYBOP': 'POP MUSIC',\n",
       " 'CHEMICAL BREAKS &amp BIG BEAT': 'BREAKBEAT',\n",
       " 'CHICAGO BLUES ': 'BLUES',\n",
       " 'CHICAGO HOUSE &amp GARAGE HOUSE': 'HOUSE',\n",
       " 'CHICAGO JAZZ': 'JAZZ',\n",
       " 'CHICAGO SOUL &amp DETROIT SOUL (MOTOWN)': \"RHYTHM 'N' BLUES (R&B)\",\n",
       " 'CLASSIC COUNTRY ': 'COUNTRY',\n",
       " 'CLASSIC METAL': 'HEAVY METAL',\n",
       " 'CLASSIC TRANCE &amp ACID TRANCE': 'TRANCE',\n",
       " 'CLASSICROCK': 'GOLDEN AGE / CLASSIC ROCK',\n",
       " 'CONTEMPORARY': 'CONTEMPORARY ROCK',\n",
       " 'CONTEMPORARY COUNTRY ': 'COUNTRY',\n",
       " 'COOL JAZZ & WEST COAST JAZZ': 'JAZZ',\n",
       " 'COUNTRY': 'COUNTRY',\n",
       " 'COUNTRY BLUES ': 'BLUES',\n",
       " 'COUNTRY POP &amp COUNTRY ROCK': 'COUNTRY',\n",
       " 'CROSSOVER THRASH': 'HARDCORE PUNK',\n",
       " 'DANCE POP': 'POP MUSIC',\n",
       " 'DANCE-PUNK &amp NU RAVE': 'CONTEMPORARY ROCK',\n",
       " 'DANCEHALL': 'JAMAICAN (MUSIC) / REGGAE',\n",
       " 'DARK AMBIENT ': 'DOWNTEMPO / AMBIENT',\n",
       " 'DARKCORE &amp DARKSTEP': 'HARDCORE TECHNO',\n",
       " 'DARKWAVE &amp COLDWAVE': 'INDUSTRIAL &amp GOTHIC',\n",
       " 'DEATH METAL': 'HEAVY METAL',\n",
       " 'DEEP FUNK ': \"RHYTHM 'N' BLUES (R&B)\",\n",
       " 'DEEP HOUSE': 'HOUSE',\n",
       " 'DETROIT TECHNO': 'TECHNO',\n",
       " 'DIGITAL HARDCORE &amp BREAKCORE': 'HARDCORE TECHNO',\n",
       " 'DIGITAL MINIMALISM ': 'DOWNTEMPO / AMBIENT',\n",
       " 'DISCO': \"RHYTHM 'N' BLUES (R&B)\",\n",
       " 'DISCOPOP ': 'POP MUSIC',\n",
       " 'DOO WOP': \"RHYTHM 'N' BLUES (R&B)\",\n",
       " 'DOOM METAL': 'HEAVY METAL',\n",
       " 'DOWNTEMPO': 'DOWNTEMPO / AMBIENT',\n",
       " 'DREAM POP & SHOEGAZE': 'POP MUSIC',\n",
       " 'DREAM POP &amp SHOEGAZE': 'ALTERNATIVE ROCK / INDIE',\n",
       " \"DRUM'N'BASS\": \"DRUM 'N' BASS (D'N'B) / JUNGLE\",\n",
       " 'DUB': 'JAMAICAN (MUSIC) / REGGAE',\n",
       " 'DUBSTEP': \"DRUM 'N' BASS (D'N'B) / JUNGLE\",\n",
       " 'EARLY FUNK &amp P-FUNK': \"RHYTHM 'N' BLUES (R&B)\",\n",
       " 'EAST COAST GANGSTA RAP': 'RAP / HIP-HOP MUSIC',\n",
       " 'EDM TRAP ': 'BREAKBEAT',\n",
       " 'ELECTRO': 'BREAKBEAT',\n",
       " 'ELECTRO HOUSE &amp DUTCH HOUSE': 'HOUSE',\n",
       " 'ELECTRO SWING': 'JAZZ',\n",
       " 'ELECTRO-INDUSTRIAL ': 'INDUSTRIAL &amp GOTHIC',\n",
       " 'ELECTROCLASH (NU WAVE)': 'POP MUSIC',\n",
       " 'ELECTRONIC BODY MUSIC': 'INDUSTRIAL &amp GOTHIC',\n",
       " 'ELECTROPOP': 'POP MUSIC',\n",
       " 'EMO-ROCK': 'CONTEMPORARY ROCK',\n",
       " 'EUROTRANCE &amp VOCAL TRANCE': 'TRANCE',\n",
       " 'EXTREME METAL (BLACK I &amp SPEED)': 'HEAVY METAL',\n",
       " 'FIDGET HOUSE &amp COMPLEXTRO': 'HOUSE',\n",
       " 'FLORIDA BREAKS (&amp FUNKY BREAKS)': 'BREAKBEAT',\n",
       " 'FOLK ROCK': 'GOLDEN AGE / CLASSIC ROCK',\n",
       " 'FREE JAZZ ': 'JAZZ',\n",
       " 'FREESTYLE &amp BREAKDANCE': 'BREAKBEAT',\n",
       " 'FRENCH HOUSE &amp FUNKY HOUSE': 'HOUSE',\n",
       " 'FUSION ': 'JAZZ',\n",
       " 'FUTURE BASS ': \"DRUM 'N' BASS (D'N'B) / JUNGLE\",\n",
       " 'FUTUREPOP': 'INDUSTRIAL &amp GOTHIC',\n",
       " 'GARAGE &amp POST-PUNK REVIVALS ': 'CONTEMPORARY ROCK',\n",
       " 'GARAGE ROCK': \"ROCK 'N' ROLL (R'N'R)\",\n",
       " 'GHETTO HOUSE, GHETTOTECH & JUKE': 'HOUSE',\n",
       " 'GHETTO HOUSE, GHETTOTECH &amp JUKE': 'TECHNO',\n",
       " 'GLAM METAL ': 'HEAVY METAL',\n",
       " 'GLAM ROCK ': 'GOLDEN AGE / CLASSIC ROCK',\n",
       " 'GLITCH ': 'DOWNTEMPO / AMBIENT',\n",
       " 'GLITCH HOP &amp WONKY': 'BREAKBEAT',\n",
       " 'GO-GO (& BOUNCE BEAT)': \"RHYTHM 'N' BLUES (R&B)\",\n",
       " 'GOA TRANCE &amp PSYTRANCE': 'TRANCE',\n",
       " 'GOLDEN AGE RAP (&amp HARDCORE RAP)': 'RAP / HIP-HOP MUSIC',\n",
       " 'GOLDENAGE': 'GOLDEN AGE / CLASSIC ROCK',\n",
       " 'GOSPEL': 'GOSPEL &amp; PIONEERS',\n",
       " 'GOTHIC': 'INDUSTRIAL &amp GOTHIC',\n",
       " 'GOTHIC ROCK &amp DEATHROCK': 'INDUSTRIAL &amp GOTHIC',\n",
       " 'GRINDCORE': 'HARDCORE PUNK',\n",
       " 'GRUNGE': 'ALTERNATIVE ROCK / INDIE',\n",
       " 'HAPPY HARDCORE &amp BOUNCY TECHNO': 'HARDCORE TECHNO',\n",
       " 'HARD BOP': 'JAZZ',\n",
       " 'HARD ROCK': 'GOLDEN AGE / CLASSIC ROCK',\n",
       " 'HARDCORE': 'HARDCORE TECHNO',\n",
       " 'HARDCORE TECHNO ': 'TECHNO',\n",
       " 'HARDSTEP &amp TECHSTEP': \"DRUM 'N' BASS (D'N'B) / JUNGLE\",\n",
       " 'HARDSTYLE (& JUMPSTYLE)': 'HARDCORE TECHNO',\n",
       " 'HARDTECHNO (SCHRANZ II)': 'TECHNO',\n",
       " 'HARDTRANCE': 'TRANCE',\n",
       " 'HEARTLAND ROCK &amp A.O.R. (ADULT ORIENTED ROCK)': 'GOLDEN AGE / CLASSIC ROCK',\n",
       " 'HEAVY': 'HEAVY METAL',\n",
       " 'HI-NRG ': 'POP MUSIC',\n",
       " 'HILL COUNTRY BLUES & TRANCE BLUES': 'BLUES',\n",
       " 'HIP HOUSE &amp EURODANCE': 'HOUSE',\n",
       " 'HIP-HOPMUSIC': 'RAP / HIP-HOP MUSIC',\n",
       " 'HONKY TONK ': 'COUNTRY',\n",
       " 'HORROR PUNK &amp PSYCHOBILLY': 'PUNK ROCK / NEW WAVE',\n",
       " 'HOUSE': 'HOUSE',\n",
       " 'IBIZA HOUSE &amp DREAM HOUSE': 'HOUSE',\n",
       " 'IBIZA TRANCE &amp DREAM TRANCE': 'TRANCE',\n",
       " 'INDIE': 'ALTERNATIVE ROCK / INDIE',\n",
       " 'INDIE FOLK &amp FREAKFOLK ': 'POP MUSIC',\n",
       " 'INDIE POP (TWEE)': 'POP MUSIC',\n",
       " 'INDIETRONICA &amp CHILLWAVE': 'POP MUSIC',\n",
       " 'INDUSTRIAL': 'INDUSTRIAL &amp GOTHIC',\n",
       " 'INDUSTRIAL ROCK ': 'INDUSTRIAL &amp GOTHIC',\n",
       " 'INDUSTRIAL TECHNO &amp SCHRANZ': 'TECHNO',\n",
       " 'INTELLIGENT ': \"DRUM 'N' BASS (D'N'B) / JUNGLE\",\n",
       " 'JAMAICAN': 'JAMAICAN (MUSIC) / REGGAE',\n",
       " 'JANGLE POP ': 'ALTERNATIVE ROCK / INDIE',\n",
       " 'JAZZ': 'JAZZ',\n",
       " 'JAZZ RAP ': 'RAP / HIP-HOP MUSIC',\n",
       " 'JUMP BLUES': 'BLUES',\n",
       " 'JUMP UP': \"DRUM 'N' BASS (D'N'B) / JUNGLE\",\n",
       " 'JUNGLE': \"DRUM 'N' BASS (D'N'B) / JUNGLE\",\n",
       " 'KRAUTROCK': 'GOLDEN AGE / CLASSIC ROCK',\n",
       " 'LIQUID FUNK': \"DRUM 'N' BASS (D'N'B) / JUNGLE\",\n",
       " 'LOUISIANA BLUES ': 'BLUES',\n",
       " 'LOUNGE ': 'DOWNTEMPO / AMBIENT',\n",
       " \"LOVER'S ROCK &amp UK REGGAE\": 'JAMAICAN (MUSIC) / REGGAE',\n",
       " 'MATH ROCK &amp MATHCORE': 'ALTERNATIVE ROCK / INDIE',\n",
       " 'MEMPHIS SOUL ': \"RHYTHM 'N' BLUES (R&B)\",\n",
       " 'MENTO': 'JAMAICAN (MUSIC) / REGGAE',\n",
       " 'METAL': 'HEAVY METAL',\n",
       " 'METALCORE ': 'HARDCORE PUNK',\n",
       " 'MIAMI BASS &amp BOUNCE': 'RAP / HIP-HOP MUSIC',\n",
       " 'MICROHOUSE ': 'HOUSE',\n",
       " 'MINIMAL TECHNO': 'TECHNO',\n",
       " 'MINIMAL WAVE ': 'DOWNTEMPO / AMBIENT',\n",
       " 'MINIMALISM': 'DOWNTEMPO / AMBIENT',\n",
       " 'MODERN GOSPEL': 'GOSPEL &amp; PIONEERS',\n",
       " 'MOOMBAHTON': 'HOUSE',\n",
       " 'MUSIC': 'JAMAICAN (MUSIC) / REGGAE',\n",
       " 'MUSIQUE CONCRETE': 'DOWNTEMPO / AMBIENT',\n",
       " 'MUZAK ': 'DOWNTEMPO / AMBIENT',\n",
       " 'NASHVILLE ': 'COUNTRY',\n",
       " 'NEO SOUL ': \"RHYTHM 'N' BLUES (R&B)\",\n",
       " 'NEO-TRANCE': 'TRANCE',\n",
       " 'NEUROFUNK': \"DRUM 'N' BASS (D'N'B) / JUNGLE\",\n",
       " 'NEW': 'PUNK ROCK / NEW WAVE',\n",
       " 'NEW AGE': 'DOWNTEMPO / AMBIENT',\n",
       " 'NEW BEAT': 'TECHNO',\n",
       " 'NEW JACK SWING ': \"RHYTHM 'N' BLUES (R&B)\",\n",
       " 'NEW ORLEANS  & DIXIELAND JAZZ REVIVALS': 'JAZZ',\n",
       " 'NEW ORLEANS JAZZ & DIXIELAND JAZZ': 'JAZZ',\n",
       " 'NEW PROG ': 'CONTEMPORARY ROCK',\n",
       " 'NEW WAVE': 'PUNK ROCK / NEW WAVE',\n",
       " 'NO WAVE': 'PUNK ROCK / NEW WAVE',\n",
       " 'NOISE MUSIC': 'INDUSTRIAL &amp GOTHIC',\n",
       " 'NOISE ROCK': 'ALTERNATIVE ROCK / INDIE',\n",
       " 'NORDIC JAZZ': 'JAZZ',\n",
       " 'NRG, HARD NRG &amp (UK) HARD HOUSE': 'TRANCE',\n",
       " 'NU DISCO &amp FUNKTRONICA': 'HOUSE',\n",
       " 'NU JAZZ ': 'JAZZ',\n",
       " 'NU METAL &amp RAP METAL': 'HEAVY METAL',\n",
       " 'NU SKOOL BREAKS': 'BREAKBEAT',\n",
       " 'NU STYLE (GABBER) ': 'HARDCORE TECHNO',\n",
       " 'NWOBHM (NEW WAVE OF BRITISH HEAVY METAL)': 'HEAVY METAL',\n",
       " \"OLD SKOOL JUNGLE &amp OLD SKOOL DRUM 'N' BASS\": \"DRUM 'N' BASS (D'N'B) / JUNGLE\",\n",
       " 'OLD SKOOL RAP PIONEERS': 'RAP / HIP-HOP MUSIC',\n",
       " 'ORIGINAL HARDCORE (PUNK)': 'HARDCORE PUNK',\n",
       " 'PHILLY SOUL': \"RHYTHM 'N' BLUES (R&B)\",\n",
       " 'PIONEERS': 'GOSPEL &amp; PIONEERS',\n",
       " 'POP': 'POP MUSIC',\n",
       " 'POST-BRITPOP': 'POP MUSIC',\n",
       " 'POST-DUBSTEP': \"DRUM 'N' BASS (D'N'B) / JUNGLE\",\n",
       " 'POST-GRUNGE': 'ALTERNATIVE ROCK / INDIE',\n",
       " 'POST-HARDCORE, EMO(CORE) &amp SCREAMO': 'HARDCORE PUNK',\n",
       " 'POST-PUNK': 'PUNK ROCK / NEW WAVE',\n",
       " 'POST-ROCK': 'ALTERNATIVE ROCK / INDIE',\n",
       " 'POWER METAL': 'HEAVY METAL',\n",
       " 'PROGRESSIVE COUNTRY &amp OUTLAW COUNTRY': 'COUNTRY',\n",
       " 'PROGRESSIVE HOUSE': 'HOUSE',\n",
       " 'PROGRESSIVE METAL': 'HEAVY METAL',\n",
       " 'PROGRESSIVE RAP ': 'RAP / HIP-HOP MUSIC',\n",
       " 'PROGRESSIVE ROCK, ART ROCK &amp SYMPHONIC ROCK': 'GOLDEN AGE / CLASSIC ROCK',\n",
       " 'PROGRESSIVE TRANCE': 'TRANCE',\n",
       " 'PSYCHEDELIC ': 'GOLDEN AGE / CLASSIC ROCK',\n",
       " 'PUB ROCK &amp PROTO PUNK': 'PUNK ROCK / NEW WAVE',\n",
       " 'PUNK': 'HARDCORE PUNK',\n",
       " 'PUNK ROCK': 'PUNK ROCK / NEW WAVE',\n",
       " 'RAGGA': 'JAMAICAN (MUSIC) / REGGAE',\n",
       " 'RAGTIME & STRIDE': 'GOSPEL &amp; PIONEERS',\n",
       " 'RAP': 'RAP / HIP-HOP MUSIC',\n",
       " 'RAP ROCK, RAPCORE &amp FUNK METAL': 'ALTERNATIVE ROCK / INDIE',\n",
       " 'REGGAE': 'JAMAICAN (MUSIC) / REGGAE',\n",
       " 'REGGAE FUSION &amp BHANGRAMUFFIN': 'JAMAICAN (MUSIC) / REGGAE',\n",
       " 'REGGAETÓN &amp LATIN RAP': 'RAP / HIP-HOP MUSIC',\n",
       " 'RELIPOP & -ROCK ': 'GOSPEL &amp; PIONEERS',\n",
       " \"RHYTHM'N'BLUES\": \"RHYTHM 'N' BLUES (R&B)\",\n",
       " 'ROCK': 'CONTEMPORARY ROCK',\n",
       " \"ROCK 'N ROLL &amp ROCKABILLY\": \"ROCK 'N' ROLL (R'N'R)\",\n",
       " \"ROCK'N'ROLL\": \"ROCK 'N' ROLL (R'N'R)\",\n",
       " 'ROCKSTEADY': 'JAMAICAN (MUSIC) / REGGAE',\n",
       " 'SCHLAGER': 'POP MUSIC',\n",
       " 'SINGER': 'POP MUSIC',\n",
       " 'SKA': 'JAMAICAN (MUSIC) / REGGAE',\n",
       " 'SKA REVIVAL (2-TONE), SKA PUNK &amp SKACORE': 'JAMAICAN (MUSIC) / REGGAE',\n",
       " 'SKATE PUNK &amp POP PUNK': 'ALTERNATIVE ROCK / INDIE',\n",
       " 'SKIFFLE (REVIVAL)': 'POP MUSIC',\n",
       " 'SMOOTH JAZZ': 'JAZZ',\n",
       " 'SOFT ROCK ': 'POP MUSIC',\n",
       " 'SONGWRITER': 'POP MUSIC',\n",
       " 'SOUL BLUES (SOUTHERN SOUL II)': 'BLUES',\n",
       " 'SOUL JAZZ ': 'JAZZ',\n",
       " 'SOUTHERN ROCK': 'GOLDEN AGE / CLASSIC ROCK',\n",
       " 'SPEEDCORE, FRENCHCORE &amp TERRORCORE': 'HARDCORE TECHNO',\n",
       " 'STONER METAL ': 'HEAVY METAL',\n",
       " 'SURF ROCK ': \"ROCK 'N' ROLL (R'N'R)\",\n",
       " 'SWING ': 'JAZZ',\n",
       " 'SYMPHONIC METAL &amp GOTHIC METAL': 'HEAVY METAL',\n",
       " 'SYNTH ': 'DOWNTEMPO / AMBIENT',\n",
       " 'SYNTHCORE &amp CRUNKCORE': 'HARDCORE PUNK',\n",
       " 'SYNTHPOP &amp NEW ROMANTICS': 'POP MUSIC',\n",
       " 'SYNTHWAVE &amp VAPORWAVE': 'DOWNTEMPO / AMBIENT',\n",
       " 'TECH HOUSE': 'HOUSE',\n",
       " 'TECH TRANCE': 'TRANCE',\n",
       " 'TECHNO': 'TECHNO',\n",
       " 'TEXAS BLUESROCK & MODERN ELECTRIC BLUES': 'BLUES',\n",
       " 'THIRD STREAM ': 'JAZZ',\n",
       " 'THRASH METAL': 'HEAVY METAL',\n",
       " 'TRADITIONAL GOSPEL': 'GOSPEL &amp; PIONEERS',\n",
       " 'TRANCE': 'TRANCE',\n",
       " 'TRAP &amp DRILL': 'RAP / HIP-HOP MUSIC',\n",
       " 'TRIP HOP': 'DOWNTEMPO / AMBIENT',\n",
       " 'UK GARAGE (2-STEP &amp SPEED GARAGE)': \"DRUM 'N' BASS (D'N'B) / JUNGLE\",\n",
       " 'UK HARDCORE &amp FREEFORM ': 'TRANCE',\n",
       " 'UPLIFTING TRANCE ': 'TRANCE',\n",
       " 'URBAN BREAKS  (NU R&B II)': 'RAP / HIP-HOP MUSIC',\n",
       " 'URBAN BREAKS (NU R&B II)': \"RHYTHM 'N' BLUES (R&B)\",\n",
       " 'URBAN COUNTRY': 'COUNTRY',\n",
       " 'URBAN SOUL ': \"RHYTHM 'N' BLUES (R&B)\",\n",
       " 'VAUDEVILLE ': 'BLUES',\n",
       " 'WAVE': 'PUNK ROCK / NEW WAVE',\n",
       " 'WEST COAST BLUES': 'BLUES',\n",
       " 'WESTERN SWING': 'COUNTRY'}"
      ]
     },
     "execution_count": 81,
     "metadata": {},
     "output_type": "execute_result"
    }
   ],
   "source": [
    "#Here we parse the name of the mainGenre\n",
    "maingenre = ['inl','met','rnr','gld','pwv','hcp','alt','con','pop','cou','rnb','gos','blu','jaz','jam','rap','brb','dnb','hct','tec','hou','tra','dtp']\n",
    "genre = {}\n",
    "with urllib.request.urlopen('http://musicmap.info/master-genrelist.json') as url:\n",
    "    data = json.loads(url.read().decode())\n",
    "    for x in maingenre: \n",
    "        name = data.get(x).get('name')\n",
    "        genreName = name.replace('<span class=\\'subtitle\\'>','')\n",
    "        genreName = genreName.replace('</span>','')\n",
    "        genreNames = re.findall(r'([A-Z]+\\s+\\'+[A-Z+\\'+\\s]*|[A-Z+\\s+\\-]+)',data.get(x).get('name'))\n",
    "        for g in genreNames:\n",
    "            if(len(g)>1):\n",
    "                genre[g.replace(' ', '')] = genreName\n",
    "        for subgenreEntry in data.get(x)[\"genrelist\"]:\n",
    "            subgenres = re.sub(r\"<a.*'>\", \"\", subgenreEntry)\n",
    "            subgenres = re.sub(r'</a>', \"\", subgenres)\n",
    "            subgenres = subgenres.split('/')\n",
    "            for subgenre in subgenres:\n",
    "                genre[subgenre] = genreName\n",
    "                \n",
    "genre"
   ]
  },
  {
   "cell_type": "code",
   "execution_count": null,
   "metadata": {},
   "outputs": [],
   "source": []
  },
  {
   "cell_type": "markdown",
   "metadata": {},
   "source": [
    "TODO evaluate genre mapping"
   ]
  },
  {
   "cell_type": "markdown",
   "metadata": {},
   "source": [
    "## Manipulation on some of the columns"
   ]
  },
  {
   "cell_type": "markdown",
   "metadata": {},
   "source": [
    "Here we do some feature extraction, features normalization was done before, and some fetching of other datas from other API"
   ]
  },
  {
   "cell_type": "code",
   "execution_count": 67,
   "metadata": {},
   "outputs": [
    {
     "data": {
      "text/html": [
       "<div>\n",
       "<style>\n",
       "    .dataframe thead tr:only-child th {\n",
       "        text-align: right;\n",
       "    }\n",
       "\n",
       "    .dataframe thead th {\n",
       "        text-align: left;\n",
       "    }\n",
       "\n",
       "    .dataframe tbody tr th {\n",
       "        vertical-align: top;\n",
       "    }\n",
       "</style>\n",
       "<table border=\"1\" class=\"dataframe\">\n",
       "  <thead>\n",
       "    <tr style=\"text-align: right;\">\n",
       "      <th></th>\n",
       "      <th>ArtistID</th>\n",
       "      <th>ArtistName</th>\n",
       "      <th>SongYear</th>\n",
       "      <th>SongID</th>\n",
       "      <th>Duration</th>\n",
       "      <th>SongHotness</th>\n",
       "      <th>SongTitle</th>\n",
       "      <th>SongTempo</th>\n",
       "      <th>SongTimeSignature</th>\n",
       "      <th>SongTimeSignatureConfidence</th>\n",
       "      <th>ArtistMbtags</th>\n",
       "      <th>ArtistTerms</th>\n",
       "      <th>ArtistLocation</th>\n",
       "      <th>ArtistLatitude</th>\n",
       "      <th>ArtistLongitude</th>\n",
       "      <th>SongTimeWithConfidence</th>\n",
       "    </tr>\n",
       "  </thead>\n",
       "  <tbody>\n",
       "    <tr>\n",
       "      <th>1</th>\n",
       "      <td>ARMJAGH1187FB546F3</td>\n",
       "      <td>The Box Tops</td>\n",
       "      <td>1969</td>\n",
       "      <td>b'SOCIWDW12A8C13D406'</td>\n",
       "      <td>148.03546</td>\n",
       "      <td>NaN</td>\n",
       "      <td>Soul Deep</td>\n",
       "      <td>121.274</td>\n",
       "      <td>4</td>\n",
       "      <td>0.384</td>\n",
       "      <td>[classic pop and rock]</td>\n",
       "      <td>[blue-eyed soul, pop rock, blues-rock, beach m...</td>\n",
       "      <td>Memphis, TN</td>\n",
       "      <td>35.14968</td>\n",
       "      <td>-90.04892</td>\n",
       "      <td>1.536</td>\n",
       "    </tr>\n",
       "    <tr>\n",
       "      <th>3</th>\n",
       "      <td>AR7G5I41187FB4CE6C</td>\n",
       "      <td>Adam Ant</td>\n",
       "      <td>1982</td>\n",
       "      <td>b'SONHOTT12A8C13493C'</td>\n",
       "      <td>233.40363</td>\n",
       "      <td>NaN</td>\n",
       "      <td>Something Girls</td>\n",
       "      <td>119.293</td>\n",
       "      <td>4</td>\n",
       "      <td>0.000</td>\n",
       "      <td>[uk, british, english]</td>\n",
       "      <td>[pop rock, new wave, dance rock, rock, new rom...</td>\n",
       "      <td>London, England</td>\n",
       "      <td>NaN</td>\n",
       "      <td>NaN</td>\n",
       "      <td>0.000</td>\n",
       "    </tr>\n",
       "    <tr>\n",
       "      <th>4</th>\n",
       "      <td>ARXR32B1187FB57099</td>\n",
       "      <td>Gob</td>\n",
       "      <td>2007</td>\n",
       "      <td>b'SOFSOCN12A8C143F5D'</td>\n",
       "      <td>209.60608</td>\n",
       "      <td>0.604501</td>\n",
       "      <td>Face the Ashes</td>\n",
       "      <td>129.738</td>\n",
       "      <td>4</td>\n",
       "      <td>0.562</td>\n",
       "      <td>[]</td>\n",
       "      <td>[pop punk, ska punk, breakcore, alternative me...</td>\n",
       "      <td></td>\n",
       "      <td>NaN</td>\n",
       "      <td>NaN</td>\n",
       "      <td>2.248</td>\n",
       "    </tr>\n",
       "    <tr>\n",
       "      <th>8</th>\n",
       "      <td>AR8ZCNI1187B9A069B</td>\n",
       "      <td>Planet P Project</td>\n",
       "      <td>1984</td>\n",
       "      <td>b'SOIAZJW12AB01853F1'</td>\n",
       "      <td>269.81832</td>\n",
       "      <td>0.265861</td>\n",
       "      <td>Pink World</td>\n",
       "      <td>86.643</td>\n",
       "      <td>4</td>\n",
       "      <td>0.487</td>\n",
       "      <td>[]</td>\n",
       "      <td>[new wave, progressive rock, space rock, eurod...</td>\n",
       "      <td></td>\n",
       "      <td>NaN</td>\n",
       "      <td>NaN</td>\n",
       "      <td>1.948</td>\n",
       "    </tr>\n",
       "    <tr>\n",
       "      <th>14</th>\n",
       "      <td>ARIK43K1187B9AE54C</td>\n",
       "      <td>Lionel Richie</td>\n",
       "      <td>1986</td>\n",
       "      <td>b'SOBONFF12A6D4F84D8'</td>\n",
       "      <td>307.38240</td>\n",
       "      <td>NaN</td>\n",
       "      <td>Tonight Will Be Alright</td>\n",
       "      <td>125.197</td>\n",
       "      <td>3</td>\n",
       "      <td>0.211</td>\n",
       "      <td>[soul and reggae]</td>\n",
       "      <td>[quiet storm, soft rock, pop, urban, adult con...</td>\n",
       "      <td>Beverly Hills, CA</td>\n",
       "      <td>NaN</td>\n",
       "      <td>NaN</td>\n",
       "      <td>0.633</td>\n",
       "    </tr>\n",
       "  </tbody>\n",
       "</table>\n",
       "</div>"
      ],
      "text/plain": [
       "              ArtistID        ArtistName  SongYear                 SongID  \\\n",
       "1   ARMJAGH1187FB546F3      The Box Tops      1969  b'SOCIWDW12A8C13D406'   \n",
       "3   AR7G5I41187FB4CE6C          Adam Ant      1982  b'SONHOTT12A8C13493C'   \n",
       "4   ARXR32B1187FB57099               Gob      2007  b'SOFSOCN12A8C143F5D'   \n",
       "8   AR8ZCNI1187B9A069B  Planet P Project      1984  b'SOIAZJW12AB01853F1'   \n",
       "14  ARIK43K1187B9AE54C     Lionel Richie      1986  b'SOBONFF12A6D4F84D8'   \n",
       "\n",
       "     Duration  SongHotness                SongTitle  SongTempo  \\\n",
       "1   148.03546          NaN                Soul Deep    121.274   \n",
       "3   233.40363          NaN          Something Girls    119.293   \n",
       "4   209.60608     0.604501           Face the Ashes    129.738   \n",
       "8   269.81832     0.265861               Pink World     86.643   \n",
       "14  307.38240          NaN  Tonight Will Be Alright    125.197   \n",
       "\n",
       "    SongTimeSignature  SongTimeSignatureConfidence            ArtistMbtags  \\\n",
       "1                   4                        0.384  [classic pop and rock]   \n",
       "3                   4                        0.000  [uk, british, english]   \n",
       "4                   4                        0.562                      []   \n",
       "8                   4                        0.487                      []   \n",
       "14                  3                        0.211       [soul and reggae]   \n",
       "\n",
       "                                          ArtistTerms     ArtistLocation  \\\n",
       "1   [blue-eyed soul, pop rock, blues-rock, beach m...        Memphis, TN   \n",
       "3   [pop rock, new wave, dance rock, rock, new rom...    London, England   \n",
       "4   [pop punk, ska punk, breakcore, alternative me...                      \n",
       "8   [new wave, progressive rock, space rock, eurod...                      \n",
       "14  [quiet storm, soft rock, pop, urban, adult con...  Beverly Hills, CA   \n",
       "\n",
       "    ArtistLatitude  ArtistLongitude  SongTimeWithConfidence  \n",
       "1         35.14968        -90.04892                   1.536  \n",
       "3              NaN              NaN                   0.000  \n",
       "4              NaN              NaN                   2.248  \n",
       "8              NaN              NaN                   1.948  \n",
       "14             NaN              NaN                   0.633  "
      ]
     },
     "execution_count": 67,
     "metadata": {},
     "output_type": "execute_result"
    }
   ],
   "source": [
    "normalized_df['SongTimeWithConfidence'] = df['SongTimeSignature']*df['SongTimeSignatureConfidence']\n",
    "normalized_df.head()"
   ]
  },
  {
   "cell_type": "markdown",
   "metadata": {},
   "source": [
    "## Concerning Spotify API\n",
    "We tried to get some data from Spotify, but dues to the time it takes (3 request/s, 1h to fetch hat we want for only the subset, we decided not to parse anything from it unfortunately, a portion of code is still described below to see that we actually tried it."
   ]
  },
  {
   "cell_type": "code",
   "execution_count": 68,
   "metadata": {},
   "outputs": [],
   "source": [
    "#token = 'BQAu-KsyKpk7NBP-1ZGCNa-RoHNak0ZNAr3l3mi2In0mLy0o71LAl5OycY1h3K5S8INBp0kvic2lgRFESxry3EW4m7PUfFQZp5dAeSLSgpNs25xfNJbs_KJkuTEChlptb8ZtYF2NiGY4'\n",
    "#sp = spotipy.Spotify(token)\n",
    "\n",
    "def spotiAPI(name):\n",
    "    results = sp.search(q=name, limit=1)\n",
    "    idd = results['tracks']['items'][0]['artists'][0]['id']\n",
    "    resultArt = sp.artist(idd)\n",
    "    #time.sleep(0.02)\n",
    "    print(resultArt['followers']['total'])\n",
    "    return resultArt['followers']['total']"
   ]
  },
  {
   "cell_type": "code",
   "execution_count": 69,
   "metadata": {},
   "outputs": [],
   "source": [
    "#normalized_df['ArtistFollower'] = df.ArtistName.apply(lambda x : spotiAPI(x))"
   ]
  },
  {
   "cell_type": "markdown",
   "metadata": {
    "collapsed": true
   },
   "source": [
    "## Updated Plan"
   ]
  },
  {
   "cell_type": "markdown",
   "metadata": {},
   "source": [
    "### Gained Knowledge\n",
    "\n",
    "TODO Reflect new knowledge, does data suits needs"
   ]
  },
  {
   "cell_type": "markdown",
   "metadata": {},
   "source": [
    "### Methods for the future\n",
    "\n",
    "** Use cluster and full data set, redo analysis **  \n",
    "\n",
    "The data set contains already collected data so that a natural experiment is not possible.  \n",
    "Propensity scores are hard to apply to time series. Therefore, we will use sensivity analysis to prove our results.  \n",
    "  \n",
    "TODO explain sensivity analysis\n",
    "\n",
    "* Which features did change (e.g. bpm, beats)?\n",
    "   * Calculate features aggregated by year, plot time series (with error bars)\n",
    "   * Can we see a major change of one features over the years?\n",
    "   * State results with sensivity analysis model\n",
    "  \n",
    "  \n",
    "* How did genres change (e.g. popularity, features of specific genres, higher variance)?\n",
    "    * Create data frame for each genre with songs of genre\n",
    "    * Plot number of songs per year\n",
    "    * Redo question one for features\n",
    "    * Plot chart which shows span of features per year\n",
    "    * Look at subgenres?\n",
    "    * State results with sensivity analysis model\n",
    "  \n",
    "  \n",
    "* How did the distribution of music change (e.g. change of number of genres, variance of features)?\n",
    "    * Plot chart that shows the numer of features per year\n",
    "    * Plot chart which shows genre distribution (number of songs per genre) over time\n",
    "    * State results with sensivity analysis model\n",
    "  \n",
    "  \n",
    "* Train classifier for genre on recent songs\n",
    "    * Apply it to old songs\n",
    "    * Evaluate the results\n",
    "  \n",
    "\n",
    "Ignore those since we lost one team member?\n",
    "* Which songs from the past are still trending (why)?\n",
    "* How did song titles (artist names) change over time?\n",
    "* Where did (which) songs get released at which time (do dependencies exist between similar Songs)?\n",
    "  \n",
    "  \n",
    "Other interesting analysis:\n",
    "* Run unsupervised clustering\n",
    "    * compare clusters to genres\n",
    "* Compare song and artist name with codec by hashing to get Jacardian distance to get similar song artist name and compare with hotness and other parameters. Maybe even cluster the one close to each other to get another clustering way\n"
   ]
  },
  {
   "cell_type": "markdown",
   "metadata": {},
   "source": [
    "It is hard to finally decide which methods will or will not work out, since we only had access to 1/1000 of the dataset.  \n",
    "Therefore we might drop or add analysis for milestone 3."
   ]
  },
  {
   "cell_type": "code",
   "execution_count": null,
   "metadata": {},
   "outputs": [],
   "source": []
  },
  {
   "cell_type": "code",
   "execution_count": null,
   "metadata": {
    "collapsed": true
   },
   "outputs": [],
   "source": []
  }
 ],
 "metadata": {
  "anaconda-cloud": {},
  "kernelspec": {
   "display_name": "Python [conda env:ada]",
   "language": "python",
   "name": "conda-env-ada-py"
  },
  "language_info": {
   "codemirror_mode": {
    "name": "ipython",
    "version": 3
   },
   "file_extension": ".py",
   "mimetype": "text/x-python",
   "name": "python",
   "nbconvert_exporter": "python",
   "pygments_lexer": "ipython3",
   "version": "3.6.2"
  }
 },
 "nbformat": 4,
 "nbformat_minor": 1
}
