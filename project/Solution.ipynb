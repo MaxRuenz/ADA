{
 "cells": [
  {
   "cell_type": "markdown",
   "metadata": {},
   "source": [
    "# Evolution in music through the years\n",
    "\n",
    "This notebook contains all information about our data processing steps.  \n",
    "\n",
    "These include data analysis, cleaning, processing, engineering and visualisation.  \n",
    "For the intermediate milestone we will also provide an updated plan.  \n",
    "\n",
    "*Due to problem with the cluster only the subset of the data set was analysed locally*  \n",
    "\n",
    "### Also note that we were a group of 3 students, and that one of the student decided to drop the course the week end of the 25, this can be taken into account for this milestone. Therefore we reduce the scale of our research questions ( by removing 2 of them due to time constraints and not available data on the cluster)"
   ]
  },
  {
   "cell_type": "code",
   "execution_count": 1,
   "metadata": {},
   "outputs": [],
   "source": [
    "%matplotlib inline\n",
    "\n",
    "# Provided library to access hdf5 files from MillionSong dataset\n",
    "import getters as hdf5_getters\n",
    "\n",
    "# python internal packages\n",
    "import os\n",
    "import glob\n",
    "import re\n",
    "import time\n",
    "\n",
    "# default imports\n",
    "import numpy as np\n",
    "import pandas as pd\n",
    "\n",
    "# plotting libs\n",
    "import matplotlib.pyplot as plt\n",
    "import seaborn as sns\n",
    "\n",
    "# library tested for additional data\n",
    "#import spotify\n",
    "\n",
    "# genre simplification\n",
    "import json\n",
    "import urllib.request\n",
    "\n",
    "from sklearn.utils import resample"
   ]
  },
  {
   "cell_type": "markdown",
   "metadata": {},
   "source": [
    "## Data Fetching "
   ]
  },
  {
   "cell_type": "code",
   "execution_count": 2,
   "metadata": {},
   "outputs": [],
   "source": [
    "# Paths for local subset\n",
    "local_path = 'C:/Users/M4X/Documents/Uni/EPFL/ADA/ADA/project/data'\n",
    "#local_path = 'C:/Users\\Max-Pc/Downloads/millionsongsubset_full/MillionSongSubset/data'"
   ]
  },
  {
   "cell_type": "code",
   "execution_count": 3,
   "metadata": {},
   "outputs": [],
   "source": [
    "def get_all_interesting_data(basedir,ext='.h5') :\n",
    "    \"\"\"\n",
    "    Creates a two dimensional array containing all songs and features we want to extract from the dataset\n",
    "    \"\"\"\n",
    "    datas = []\n",
    "    iteration = 0\n",
    "    for root, dirs, files in os.walk(basedir):\n",
    "        files = glob.glob(os.path.join(root,'*'+ext))\n",
    "        for f in files:\n",
    "            oneSongData = []\n",
    "            h5 = hdf5_getters.open_h5_file_read(f)\n",
    "            \n",
    "            # Columns wich we want to analyse \n",
    "            oneSongData.append( hdf5_getters.get_artist_id(h5))\n",
    "            oneSongData.append(hdf5_getters.get_artist_name(h5))\n",
    "            oneSongData.append(hdf5_getters.get_year(h5))\n",
    "            oneSongData.append(hdf5_getters.get_song_id(h5))\n",
    "            oneSongData.append(hdf5_getters.get_danceability(h5))\n",
    "            oneSongData.append(hdf5_getters.get_duration(h5))\n",
    "            oneSongData.append(hdf5_getters.get_song_hotttnesss(h5))\n",
    "            oneSongData.append(hdf5_getters.get_title(h5))\n",
    "            oneSongData.append(hdf5_getters.get_tempo(h5))\n",
    "            oneSongData.append(hdf5_getters.get_time_signature(h5))\n",
    "            oneSongData.append(hdf5_getters.get_time_signature_confidence(h5))\n",
    "            oneSongData.append(hdf5_getters.get_artist_mbtags(h5))\n",
    "            oneSongData.append(hdf5_getters.get_artist_terms(h5))\n",
    "            oneSongData.append(hdf5_getters.get_artist_location(h5))\n",
    "            oneSongData.append(hdf5_getters.get_artist_latitude(h5))\n",
    "            oneSongData.append(hdf5_getters.get_artist_longitude(h5))\n",
    "            oneSongData.append(hdf5_getters.get_key(h5))\n",
    "            oneSongData.append(hdf5_getters.get_key_confidence(h5))\n",
    "            oneSongData.append(hdf5_getters.get_energy(h5))\n",
    "            oneSongData.append(hdf5_getters.get_loudness(h5))\n",
    "            oneSongData.append(hdf5_getters.get_artist_hotttnesss(h5))\n",
    "            \n",
    "            h5.close()\n",
    "            \n",
    "            # Print progress\n",
    "            iteration+=1\n",
    "            if(iteration%1000== 0):\n",
    "                print(iteration)\n",
    "                \n",
    "            datas.append(oneSongData)\n",
    "    return datas"
   ]
  },
  {
   "cell_type": "code",
   "execution_count": 4,
   "metadata": {},
   "outputs": [
    {
     "name": "stdout",
     "output_type": "stream",
     "text": [
      "1000\n",
      "2000\n",
      "3000\n",
      "4000\n",
      "5000\n",
      "6000\n",
      "7000\n",
      "8000\n",
      "9000\n",
      "10000\n"
     ]
    }
   ],
   "source": [
    "datas = get_all_interesting_data(local_path)"
   ]
  },
  {
   "cell_type": "code",
   "execution_count": 5,
   "metadata": {},
   "outputs": [],
   "source": [
    "# create data frame with all required details\n",
    "df = pd.DataFrame(datas,columns=['ArtistID','ArtistName','SongYear','SongID','SongDanceability','Duration','SongHotness',\\\n",
    "                                 'SongTitle','SongTempo','SongTimeSignature','SongTimeSignatureConfidence','ArtistMbtags',\\\n",
    "                                 'ArtistTerms','ArtistLocation','ArtistLatitude','ArtistLongitude',\\\n",
    "                                 'SongKey', 'SongKeyConfidence', 'SongEnergy', 'SongLoudness','ArtistHotness'])"
   ]
  },
  {
   "cell_type": "markdown",
   "metadata": {},
   "source": [
    "## Data Analysis and Cleaing"
   ]
  },
  {
   "cell_type": "markdown",
   "metadata": {},
   "source": [
    "Since we want to analyze music evolution over time, we cannot use Songs without specified year. They are then dropped."
   ]
  },
  {
   "cell_type": "code",
   "execution_count": 6,
   "metadata": {},
   "outputs": [
    {
     "name": "stdout",
     "output_type": "stream",
     "text": [
      "Dropping 5320 rows.\n"
     ]
    }
   ],
   "source": [
    "print(\"Dropping {} rows.\".format(df[df['SongYear'] == 0].shape[0]))\n",
    "df = df[df['SongYear']>0]"
   ]
  },
  {
   "cell_type": "code",
   "execution_count": 7,
   "metadata": {},
   "outputs": [
    {
     "data": {
      "text/html": [
       "<div>\n",
       "<style>\n",
       "    .dataframe thead tr:only-child th {\n",
       "        text-align: right;\n",
       "    }\n",
       "\n",
       "    .dataframe thead th {\n",
       "        text-align: left;\n",
       "    }\n",
       "\n",
       "    .dataframe tbody tr th {\n",
       "        vertical-align: top;\n",
       "    }\n",
       "</style>\n",
       "<table border=\"1\" class=\"dataframe\">\n",
       "  <thead>\n",
       "    <tr style=\"text-align: right;\">\n",
       "      <th></th>\n",
       "      <th>ArtistID</th>\n",
       "      <th>ArtistName</th>\n",
       "      <th>SongYear</th>\n",
       "      <th>SongID</th>\n",
       "      <th>SongDanceability</th>\n",
       "      <th>Duration</th>\n",
       "      <th>SongHotness</th>\n",
       "      <th>SongTitle</th>\n",
       "      <th>SongTempo</th>\n",
       "      <th>SongTimeSignature</th>\n",
       "      <th>...</th>\n",
       "      <th>ArtistMbtags</th>\n",
       "      <th>ArtistTerms</th>\n",
       "      <th>ArtistLocation</th>\n",
       "      <th>ArtistLatitude</th>\n",
       "      <th>ArtistLongitude</th>\n",
       "      <th>SongKey</th>\n",
       "      <th>SongKeyConfidence</th>\n",
       "      <th>SongEnergy</th>\n",
       "      <th>SongLoudness</th>\n",
       "      <th>ArtistHotness</th>\n",
       "    </tr>\n",
       "  </thead>\n",
       "  <tbody>\n",
       "    <tr>\n",
       "      <th>1</th>\n",
       "      <td>b'ARMJAGH1187FB546F3'</td>\n",
       "      <td>b'The Box Tops'</td>\n",
       "      <td>1969</td>\n",
       "      <td>b'SOCIWDW12A8C13D406'</td>\n",
       "      <td>0.0</td>\n",
       "      <td>148.03546</td>\n",
       "      <td>NaN</td>\n",
       "      <td>b'Soul Deep'</td>\n",
       "      <td>121.274</td>\n",
       "      <td>4</td>\n",
       "      <td>...</td>\n",
       "      <td>[b'classic pop and rock']</td>\n",
       "      <td>[b'blue-eyed soul', b'pop rock', b'blues-rock'...</td>\n",
       "      <td>b'Memphis, TN'</td>\n",
       "      <td>35.14968</td>\n",
       "      <td>-90.04892</td>\n",
       "      <td>6</td>\n",
       "      <td>0.169</td>\n",
       "      <td>0.0</td>\n",
       "      <td>-9.843</td>\n",
       "      <td>0.417500</td>\n",
       "    </tr>\n",
       "    <tr>\n",
       "      <th>3</th>\n",
       "      <td>b'AR7G5I41187FB4CE6C'</td>\n",
       "      <td>b'Adam Ant'</td>\n",
       "      <td>1982</td>\n",
       "      <td>b'SONHOTT12A8C13493C'</td>\n",
       "      <td>0.0</td>\n",
       "      <td>233.40363</td>\n",
       "      <td>NaN</td>\n",
       "      <td>b'Something Girls'</td>\n",
       "      <td>119.293</td>\n",
       "      <td>4</td>\n",
       "      <td>...</td>\n",
       "      <td>[b'uk', b'british', b'english']</td>\n",
       "      <td>[b'pop rock', b'new wave', b'dance rock', b'ro...</td>\n",
       "      <td>b'London, England'</td>\n",
       "      <td>NaN</td>\n",
       "      <td>NaN</td>\n",
       "      <td>0</td>\n",
       "      <td>0.751</td>\n",
       "      <td>0.0</td>\n",
       "      <td>-9.013</td>\n",
       "      <td>0.454231</td>\n",
       "    </tr>\n",
       "    <tr>\n",
       "      <th>4</th>\n",
       "      <td>b'ARXR32B1187FB57099'</td>\n",
       "      <td>b'Gob'</td>\n",
       "      <td>2007</td>\n",
       "      <td>b'SOFSOCN12A8C143F5D'</td>\n",
       "      <td>0.0</td>\n",
       "      <td>209.60608</td>\n",
       "      <td>0.604501</td>\n",
       "      <td>b'Face the Ashes'</td>\n",
       "      <td>129.738</td>\n",
       "      <td>4</td>\n",
       "      <td>...</td>\n",
       "      <td>[]</td>\n",
       "      <td>[b'pop punk', b'ska punk', b'breakcore', b'alt...</td>\n",
       "      <td>b''</td>\n",
       "      <td>NaN</td>\n",
       "      <td>NaN</td>\n",
       "      <td>2</td>\n",
       "      <td>0.092</td>\n",
       "      <td>0.0</td>\n",
       "      <td>-4.501</td>\n",
       "      <td>0.401724</td>\n",
       "    </tr>\n",
       "    <tr>\n",
       "      <th>8</th>\n",
       "      <td>b'AR8ZCNI1187B9A069B'</td>\n",
       "      <td>b'Planet P Project'</td>\n",
       "      <td>1984</td>\n",
       "      <td>b'SOIAZJW12AB01853F1'</td>\n",
       "      <td>0.0</td>\n",
       "      <td>269.81832</td>\n",
       "      <td>0.265861</td>\n",
       "      <td>b'Pink World'</td>\n",
       "      <td>86.643</td>\n",
       "      <td>4</td>\n",
       "      <td>...</td>\n",
       "      <td>[]</td>\n",
       "      <td>[b'new wave', b'progressive rock', b'space roc...</td>\n",
       "      <td>b''</td>\n",
       "      <td>NaN</td>\n",
       "      <td>NaN</td>\n",
       "      <td>4</td>\n",
       "      <td>0.717</td>\n",
       "      <td>0.0</td>\n",
       "      <td>-13.496</td>\n",
       "      <td>0.332276</td>\n",
       "    </tr>\n",
       "    <tr>\n",
       "      <th>14</th>\n",
       "      <td>b'ARIK43K1187B9AE54C'</td>\n",
       "      <td>b'Lionel Richie'</td>\n",
       "      <td>1986</td>\n",
       "      <td>b'SOBONFF12A6D4F84D8'</td>\n",
       "      <td>0.0</td>\n",
       "      <td>307.38240</td>\n",
       "      <td>NaN</td>\n",
       "      <td>b'Tonight Will Be Alright'</td>\n",
       "      <td>125.197</td>\n",
       "      <td>3</td>\n",
       "      <td>...</td>\n",
       "      <td>[b'soul and reggae']</td>\n",
       "      <td>[b'quiet storm', b'soft rock', b'pop', b'urban...</td>\n",
       "      <td>b'Beverly Hills, CA'</td>\n",
       "      <td>NaN</td>\n",
       "      <td>NaN</td>\n",
       "      <td>3</td>\n",
       "      <td>0.524</td>\n",
       "      <td>0.0</td>\n",
       "      <td>-8.346</td>\n",
       "      <td>0.553072</td>\n",
       "    </tr>\n",
       "  </tbody>\n",
       "</table>\n",
       "<p>5 rows × 21 columns</p>\n",
       "</div>"
      ],
      "text/plain": [
       "                 ArtistID           ArtistName  SongYear  \\\n",
       "1   b'ARMJAGH1187FB546F3'      b'The Box Tops'      1969   \n",
       "3   b'AR7G5I41187FB4CE6C'          b'Adam Ant'      1982   \n",
       "4   b'ARXR32B1187FB57099'               b'Gob'      2007   \n",
       "8   b'AR8ZCNI1187B9A069B'  b'Planet P Project'      1984   \n",
       "14  b'ARIK43K1187B9AE54C'     b'Lionel Richie'      1986   \n",
       "\n",
       "                   SongID  SongDanceability   Duration  SongHotness  \\\n",
       "1   b'SOCIWDW12A8C13D406'               0.0  148.03546          NaN   \n",
       "3   b'SONHOTT12A8C13493C'               0.0  233.40363          NaN   \n",
       "4   b'SOFSOCN12A8C143F5D'               0.0  209.60608     0.604501   \n",
       "8   b'SOIAZJW12AB01853F1'               0.0  269.81832     0.265861   \n",
       "14  b'SOBONFF12A6D4F84D8'               0.0  307.38240          NaN   \n",
       "\n",
       "                     SongTitle  SongTempo  SongTimeSignature      ...        \\\n",
       "1                 b'Soul Deep'    121.274                  4      ...         \n",
       "3           b'Something Girls'    119.293                  4      ...         \n",
       "4            b'Face the Ashes'    129.738                  4      ...         \n",
       "8                b'Pink World'     86.643                  4      ...         \n",
       "14  b'Tonight Will Be Alright'    125.197                  3      ...         \n",
       "\n",
       "                       ArtistMbtags  \\\n",
       "1         [b'classic pop and rock']   \n",
       "3   [b'uk', b'british', b'english']   \n",
       "4                                []   \n",
       "8                                []   \n",
       "14             [b'soul and reggae']   \n",
       "\n",
       "                                          ArtistTerms        ArtistLocation  \\\n",
       "1   [b'blue-eyed soul', b'pop rock', b'blues-rock'...        b'Memphis, TN'   \n",
       "3   [b'pop rock', b'new wave', b'dance rock', b'ro...    b'London, England'   \n",
       "4   [b'pop punk', b'ska punk', b'breakcore', b'alt...                   b''   \n",
       "8   [b'new wave', b'progressive rock', b'space roc...                   b''   \n",
       "14  [b'quiet storm', b'soft rock', b'pop', b'urban...  b'Beverly Hills, CA'   \n",
       "\n",
       "   ArtistLatitude  ArtistLongitude  SongKey  SongKeyConfidence  SongEnergy  \\\n",
       "1        35.14968        -90.04892        6              0.169         0.0   \n",
       "3             NaN              NaN        0              0.751         0.0   \n",
       "4             NaN              NaN        2              0.092         0.0   \n",
       "8             NaN              NaN        4              0.717         0.0   \n",
       "14            NaN              NaN        3              0.524         0.0   \n",
       "\n",
       "    SongLoudness  ArtistHotness  \n",
       "1         -9.843       0.417500  \n",
       "3         -9.013       0.454231  \n",
       "4         -4.501       0.401724  \n",
       "8        -13.496       0.332276  \n",
       "14        -8.346       0.553072  \n",
       "\n",
       "[5 rows x 21 columns]"
      ]
     },
     "execution_count": 7,
     "metadata": {},
     "output_type": "execute_result"
    }
   ],
   "source": [
    "df.head()"
   ]
  },
  {
   "cell_type": "code",
   "execution_count": 8,
   "metadata": {},
   "outputs": [],
   "source": [
    "# Create an additional data frame which improves machine learning algorithms\n",
    "normalized_df = df.copy()"
   ]
  },
  {
   "cell_type": "code",
   "execution_count": 9,
   "metadata": {},
   "outputs": [
    {
     "data": {
      "text/plain": [
       "ArtistID                          0\n",
       "ArtistName                        0\n",
       "SongYear                          0\n",
       "SongID                            0\n",
       "SongDanceability                  0\n",
       "Duration                          0\n",
       "SongHotness                    1616\n",
       "SongTitle                         0\n",
       "SongTempo                         0\n",
       "SongTimeSignature                 0\n",
       "SongTimeSignatureConfidence       0\n",
       "ArtistMbtags                      0\n",
       "ArtistTerms                       0\n",
       "ArtistLocation                    0\n",
       "ArtistLatitude                 2855\n",
       "ArtistLongitude                2855\n",
       "SongKey                           0\n",
       "SongKeyConfidence                 0\n",
       "SongEnergy                        0\n",
       "SongLoudness                      0\n",
       "ArtistHotness                     0\n",
       "dtype: int64"
      ]
     },
     "execution_count": 9,
     "metadata": {},
     "output_type": "execute_result"
    }
   ],
   "source": [
    "df.isnull().sum()"
   ]
  },
  {
   "cell_type": "markdown",
   "metadata": {},
   "source": [
    "We notice, that 1616/4680 Songs do not have a defined Hotness.  \n",
    "Furthermore, the Latitude and Longitude of the arists for 2855 Songs is not defined.  \n",
    "For now we will keep the features and rows with NAN, and we will remove them if it would be neccessary to take the NANs into account.  \n",
    "Let's have a deeper look at the different columns:"
   ]
  },
  {
   "cell_type": "code",
   "execution_count": 10,
   "metadata": {},
   "outputs": [
    {
     "name": "stdout",
     "output_type": "stream",
     "text": [
      "ArtistID                          0\n",
      "ArtistName                        0\n",
      "SongYear                          0\n",
      "SongID                            0\n",
      "SongDanceability                  0\n",
      "Duration                          0\n",
      "SongHotness                    1616\n",
      "SongTitle                         0\n",
      "SongTempo                         0\n",
      "SongTimeSignature                 0\n",
      "SongTimeSignatureConfidence       0\n",
      "ArtistMbtags                      0\n",
      "ArtistTerms                       0\n",
      "ArtistLocation                    0\n",
      "ArtistLatitude                 2855\n",
      "ArtistLongitude                2855\n",
      "SongKey                           0\n",
      "SongKeyConfidence                 0\n",
      "SongEnergy                        0\n",
      "SongLoudness                      0\n",
      "ArtistHotness                     0\n",
      "dtype: int64\n"
     ]
    }
   ],
   "source": [
    "with pd.option_context('mode.use_inf_as_null', True):\n",
    "    print (df.isnull().sum())"
   ]
  },
  {
   "cell_type": "markdown",
   "metadata": {},
   "source": [
    "No features contain infinite values."
   ]
  },
  {
   "cell_type": "code",
   "execution_count": 11,
   "metadata": {
    "scrolled": true
   },
   "outputs": [
    {
     "data": {
      "text/html": [
       "<div>\n",
       "<style>\n",
       "    .dataframe thead tr:only-child th {\n",
       "        text-align: right;\n",
       "    }\n",
       "\n",
       "    .dataframe thead th {\n",
       "        text-align: left;\n",
       "    }\n",
       "\n",
       "    .dataframe tbody tr th {\n",
       "        vertical-align: top;\n",
       "    }\n",
       "</style>\n",
       "<table border=\"1\" class=\"dataframe\">\n",
       "  <thead>\n",
       "    <tr style=\"text-align: right;\">\n",
       "      <th></th>\n",
       "      <th>SongYear</th>\n",
       "      <th>SongDanceability</th>\n",
       "      <th>Duration</th>\n",
       "      <th>SongHotness</th>\n",
       "      <th>SongTempo</th>\n",
       "      <th>SongTimeSignature</th>\n",
       "      <th>SongTimeSignatureConfidence</th>\n",
       "      <th>ArtistLatitude</th>\n",
       "      <th>ArtistLongitude</th>\n",
       "      <th>SongKey</th>\n",
       "      <th>SongKeyConfidence</th>\n",
       "      <th>SongEnergy</th>\n",
       "      <th>SongLoudness</th>\n",
       "      <th>ArtistHotness</th>\n",
       "    </tr>\n",
       "  </thead>\n",
       "  <tbody>\n",
       "    <tr>\n",
       "      <th>count</th>\n",
       "      <td>4680.000000</td>\n",
       "      <td>4680.0</td>\n",
       "      <td>4680.000000</td>\n",
       "      <td>3064.000000</td>\n",
       "      <td>4680.000000</td>\n",
       "      <td>4680.000000</td>\n",
       "      <td>4680.000000</td>\n",
       "      <td>1825.000000</td>\n",
       "      <td>1825.000000</td>\n",
       "      <td>4680.000000</td>\n",
       "      <td>4680.000000</td>\n",
       "      <td>4680.0</td>\n",
       "      <td>4680.000000</td>\n",
       "      <td>4680.000000</td>\n",
       "    </tr>\n",
       "    <tr>\n",
       "      <th>mean</th>\n",
       "      <td>1997.232051</td>\n",
       "      <td>0.0</td>\n",
       "      <td>238.781146</td>\n",
       "      <td>0.444377</td>\n",
       "      <td>125.163716</td>\n",
       "      <td>3.586111</td>\n",
       "      <td>0.510216</td>\n",
       "      <td>37.501760</td>\n",
       "      <td>-61.772744</td>\n",
       "      <td>5.272222</td>\n",
       "      <td>0.451835</td>\n",
       "      <td>0.0</td>\n",
       "      <td>-9.683453</td>\n",
       "      <td>0.441711</td>\n",
       "    </tr>\n",
       "    <tr>\n",
       "      <th>std</th>\n",
       "      <td>11.686691</td>\n",
       "      <td>0.0</td>\n",
       "      <td>101.345438</td>\n",
       "      <td>0.222470</td>\n",
       "      <td>35.272251</td>\n",
       "      <td>1.240247</td>\n",
       "      <td>0.375063</td>\n",
       "      <td>16.273911</td>\n",
       "      <td>51.525675</td>\n",
       "      <td>3.547714</td>\n",
       "      <td>0.275340</td>\n",
       "      <td>0.0</td>\n",
       "      <td>5.135927</td>\n",
       "      <td>0.128043</td>\n",
       "    </tr>\n",
       "    <tr>\n",
       "      <th>min</th>\n",
       "      <td>1926.000000</td>\n",
       "      <td>0.0</td>\n",
       "      <td>1.044440</td>\n",
       "      <td>0.000000</td>\n",
       "      <td>0.000000</td>\n",
       "      <td>0.000000</td>\n",
       "      <td>0.000000</td>\n",
       "      <td>-41.280540</td>\n",
       "      <td>-155.434140</td>\n",
       "      <td>0.000000</td>\n",
       "      <td>0.000000</td>\n",
       "      <td>0.0</td>\n",
       "      <td>-51.643000</td>\n",
       "      <td>0.000000</td>\n",
       "    </tr>\n",
       "    <tr>\n",
       "      <th>25%</th>\n",
       "      <td>1993.000000</td>\n",
       "      <td>0.0</td>\n",
       "      <td>181.152200</td>\n",
       "      <td>0.313562</td>\n",
       "      <td>98.698500</td>\n",
       "      <td>3.000000</td>\n",
       "      <td>0.089000</td>\n",
       "      <td>34.053490</td>\n",
       "      <td>-93.264930</td>\n",
       "      <td>2.000000</td>\n",
       "      <td>0.225750</td>\n",
       "      <td>0.0</td>\n",
       "      <td>-12.163000</td>\n",
       "      <td>0.366820</td>\n",
       "    </tr>\n",
       "    <tr>\n",
       "      <th>50%</th>\n",
       "      <td>2001.000000</td>\n",
       "      <td>0.0</td>\n",
       "      <td>227.382400</td>\n",
       "      <td>0.473347</td>\n",
       "      <td>122.226500</td>\n",
       "      <td>4.000000</td>\n",
       "      <td>0.553000</td>\n",
       "      <td>40.102160</td>\n",
       "      <td>-79.385330</td>\n",
       "      <td>5.000000</td>\n",
       "      <td>0.472000</td>\n",
       "      <td>0.0</td>\n",
       "      <td>-8.588500</td>\n",
       "      <td>0.420938</td>\n",
       "    </tr>\n",
       "    <tr>\n",
       "      <th>75%</th>\n",
       "      <td>2006.000000</td>\n",
       "      <td>0.0</td>\n",
       "      <td>278.406080</td>\n",
       "      <td>0.604554</td>\n",
       "      <td>146.572000</td>\n",
       "      <td>4.000000</td>\n",
       "      <td>0.868000</td>\n",
       "      <td>44.979030</td>\n",
       "      <td>-3.996670</td>\n",
       "      <td>8.000000</td>\n",
       "      <td>0.661000</td>\n",
       "      <td>0.0</td>\n",
       "      <td>-5.984500</td>\n",
       "      <td>0.511054</td>\n",
       "    </tr>\n",
       "    <tr>\n",
       "      <th>max</th>\n",
       "      <td>2010.000000</td>\n",
       "      <td>0.0</td>\n",
       "      <td>1598.197100</td>\n",
       "      <td>1.000000</td>\n",
       "      <td>258.677000</td>\n",
       "      <td>7.000000</td>\n",
       "      <td>1.000000</td>\n",
       "      <td>69.651020</td>\n",
       "      <td>174.767140</td>\n",
       "      <td>11.000000</td>\n",
       "      <td>1.000000</td>\n",
       "      <td>0.0</td>\n",
       "      <td>0.566000</td>\n",
       "      <td>1.082503</td>\n",
       "    </tr>\n",
       "  </tbody>\n",
       "</table>\n",
       "</div>"
      ],
      "text/plain": [
       "          SongYear  SongDanceability     Duration  SongHotness    SongTempo  \\\n",
       "count  4680.000000            4680.0  4680.000000  3064.000000  4680.000000   \n",
       "mean   1997.232051               0.0   238.781146     0.444377   125.163716   \n",
       "std      11.686691               0.0   101.345438     0.222470    35.272251   \n",
       "min    1926.000000               0.0     1.044440     0.000000     0.000000   \n",
       "25%    1993.000000               0.0   181.152200     0.313562    98.698500   \n",
       "50%    2001.000000               0.0   227.382400     0.473347   122.226500   \n",
       "75%    2006.000000               0.0   278.406080     0.604554   146.572000   \n",
       "max    2010.000000               0.0  1598.197100     1.000000   258.677000   \n",
       "\n",
       "       SongTimeSignature  SongTimeSignatureConfidence  ArtistLatitude  \\\n",
       "count        4680.000000                  4680.000000     1825.000000   \n",
       "mean            3.586111                     0.510216       37.501760   \n",
       "std             1.240247                     0.375063       16.273911   \n",
       "min             0.000000                     0.000000      -41.280540   \n",
       "25%             3.000000                     0.089000       34.053490   \n",
       "50%             4.000000                     0.553000       40.102160   \n",
       "75%             4.000000                     0.868000       44.979030   \n",
       "max             7.000000                     1.000000       69.651020   \n",
       "\n",
       "       ArtistLongitude      SongKey  SongKeyConfidence  SongEnergy  \\\n",
       "count      1825.000000  4680.000000        4680.000000      4680.0   \n",
       "mean        -61.772744     5.272222           0.451835         0.0   \n",
       "std          51.525675     3.547714           0.275340         0.0   \n",
       "min        -155.434140     0.000000           0.000000         0.0   \n",
       "25%         -93.264930     2.000000           0.225750         0.0   \n",
       "50%         -79.385330     5.000000           0.472000         0.0   \n",
       "75%          -3.996670     8.000000           0.661000         0.0   \n",
       "max         174.767140    11.000000           1.000000         0.0   \n",
       "\n",
       "       SongLoudness  ArtistHotness  \n",
       "count   4680.000000    4680.000000  \n",
       "mean      -9.683453       0.441711  \n",
       "std        5.135927       0.128043  \n",
       "min      -51.643000       0.000000  \n",
       "25%      -12.163000       0.366820  \n",
       "50%       -8.588500       0.420938  \n",
       "75%       -5.984500       0.511054  \n",
       "max        0.566000       1.082503  "
      ]
     },
     "execution_count": 11,
     "metadata": {},
     "output_type": "execute_result"
    }
   ],
   "source": [
    "df.describe()"
   ]
  },
  {
   "cell_type": "markdown",
   "metadata": {},
   "source": [
    "By analysing the descriptive statistics of each columns we gained the following insights:"
   ]
  },
  {
   "cell_type": "markdown",
   "metadata": {},
   "source": [
    "|         |        ArtistID       | ArtistName         |         SongYear        | SongDanceability |       Duration      |   SongHotness   | SongTitle |  SongTempo |    SongTimeSignature   |      SongTimeSignatureConfidence      |                 ArtistMbtags                |                      ArtistTerms                     | ArtistLocation |  ArtistLatitude  |  ArtistLongitude  | SongKey                                                                  | SongKeyConfidence                    | SongEnergy | SongLoudness |   ArtistHotness\n",
    "|:-------:|:---------------------:|--------------------|:-----------------------:|:----------------:|:-------------------:|:---------------:|:---------:|:----------:|:----------------------:|:-------------------------------------:|:-------------------------------------------:|:----------------------------------------------------:|:--------------:|:----------------:|:-----------------:|--------------------------------------------------------------------------|--------------------------------------|------------|--------------|--------------|\n",
    "|  format |         string        |       string       |           int           |       float      |        float        |      float      |   string  |    float   |           int          |                 float                 |                    string                   |                        string                        |     string     |       float      |       float       |                                    int                                   |                 float                |    float   |     float    |     float  |\n",
    "|   type  |       categorial      |     categorial     |        continious       |    continious    |      continious     |    continious   |     -     | continious |         Ordinal        |               continious              |                                             |                                                      |                |    continious    |     continious    |                                  Ordinal                                 |              continious              |            |   continous  |      continous       |\n",
    "| comment | identifier for artist | name of the Artist | years from 1926 to 2010 |     always 0     | duration in seconds | between 0 and 1 |           |            | values between 0 and 7 | between 0 and 1, 1 is very confident  | comma seperated array with mbtags of artist | comma seperated array with echo nest terms of artist |   town, state  | default latitude | default longitude | 0-11 for [c, c-sharp, d, e-flat, e, f, f-sharp, g, a-flat, a, b-flat, b] | between 0 and 1, 1 is very confident | always 0   |  -51 to 0.5  |  between 0 and 1 "
   ]
  },
  {
   "cell_type": "markdown",
   "metadata": {
    "collapsed": true
   },
   "source": [
    "Now that we know a little bit more about the different features, let's have a deeper look at their distribution."
   ]
  },
  {
   "cell_type": "markdown",
   "metadata": {},
   "source": [
    "### Song Year"
   ]
  },
  {
   "cell_type": "code",
   "execution_count": 12,
   "metadata": {},
   "outputs": [
    {
     "data": {
      "text/plain": [
       "<matplotlib.axes._subplots.AxesSubplot at 0x18767977860>"
      ]
     },
     "execution_count": 12,
     "metadata": {},
     "output_type": "execute_result"
    },
    {
     "data": {
      "image/png": "[encoded data removed]",
      "text/plain": [
       "<matplotlib.figure.Figure at 0x18761bed470>"
      ]
     },
     "metadata": {},
     "output_type": "display_data"
    }
   ],
   "source": [
    "df.SongYear.plot(kind='hist')"
   ]
  },
  {
   "cell_type": "code",
   "execution_count": 13,
   "metadata": {},
   "outputs": [
    {
     "data": {
      "text/plain": [
       "<matplotlib.axes._subplots.AxesSubplot at 0x1876424ec50>"
      ]
     },
     "execution_count": 13,
     "metadata": {},
     "output_type": "execute_result"
    },
    {
     "data": {
      "image/png": "[encoded data removed]",
      "text/plain": [
       "<matplotlib.figure.Figure at 0x187630f1320>"
      ]
     },
     "metadata": {},
     "output_type": "display_data"
    }
   ],
   "source": [
    "df.SongYear.plot.box()"
   ]
  },
  {
   "cell_type": "markdown",
   "metadata": {},
   "source": [
    "The distribution of the year feature is negatively skewed.  \n",
    "The available years span from 1926 to 2010.  \n",
    "It makes sense to normalize the feature with scaling.\n",
    "Normalize the year first"
   ]
  },
  {
   "cell_type": "code",
   "execution_count": 14,
   "metadata": {},
   "outputs": [
    {
     "data": {
      "text/html": [
       "<div>\n",
       "<style>\n",
       "    .dataframe thead tr:only-child th {\n",
       "        text-align: right;\n",
       "    }\n",
       "\n",
       "    .dataframe thead th {\n",
       "        text-align: left;\n",
       "    }\n",
       "\n",
       "    .dataframe tbody tr th {\n",
       "        vertical-align: top;\n",
       "    }\n",
       "</style>\n",
       "<table border=\"1\" class=\"dataframe\">\n",
       "  <thead>\n",
       "    <tr style=\"text-align: right;\">\n",
       "      <th></th>\n",
       "      <th>ArtistID</th>\n",
       "      <th>ArtistName</th>\n",
       "      <th>SongYear</th>\n",
       "      <th>SongID</th>\n",
       "      <th>SongDanceability</th>\n",
       "      <th>Duration</th>\n",
       "      <th>SongHotness</th>\n",
       "      <th>SongTitle</th>\n",
       "      <th>SongTempo</th>\n",
       "      <th>SongTimeSignature</th>\n",
       "      <th>...</th>\n",
       "      <th>ArtistTerms</th>\n",
       "      <th>ArtistLocation</th>\n",
       "      <th>ArtistLatitude</th>\n",
       "      <th>ArtistLongitude</th>\n",
       "      <th>SongKey</th>\n",
       "      <th>SongKeyConfidence</th>\n",
       "      <th>SongEnergy</th>\n",
       "      <th>SongLoudness</th>\n",
       "      <th>ArtistHotness</th>\n",
       "      <th>SongYearNorm</th>\n",
       "    </tr>\n",
       "  </thead>\n",
       "  <tbody>\n",
       "    <tr>\n",
       "      <th>1</th>\n",
       "      <td>b'ARMJAGH1187FB546F3'</td>\n",
       "      <td>b'The Box Tops'</td>\n",
       "      <td>1969</td>\n",
       "      <td>b'SOCIWDW12A8C13D406'</td>\n",
       "      <td>0.0</td>\n",
       "      <td>148.03546</td>\n",
       "      <td>NaN</td>\n",
       "      <td>b'Soul Deep'</td>\n",
       "      <td>121.274</td>\n",
       "      <td>4</td>\n",
       "      <td>...</td>\n",
       "      <td>[b'blue-eyed soul', b'pop rock', b'blues-rock'...</td>\n",
       "      <td>b'Memphis, TN'</td>\n",
       "      <td>35.14968</td>\n",
       "      <td>-90.04892</td>\n",
       "      <td>6</td>\n",
       "      <td>0.169</td>\n",
       "      <td>0.0</td>\n",
       "      <td>-9.843</td>\n",
       "      <td>0.417500</td>\n",
       "      <td>0.511905</td>\n",
       "    </tr>\n",
       "    <tr>\n",
       "      <th>3</th>\n",
       "      <td>b'AR7G5I41187FB4CE6C'</td>\n",
       "      <td>b'Adam Ant'</td>\n",
       "      <td>1982</td>\n",
       "      <td>b'SONHOTT12A8C13493C'</td>\n",
       "      <td>0.0</td>\n",
       "      <td>233.40363</td>\n",
       "      <td>NaN</td>\n",
       "      <td>b'Something Girls'</td>\n",
       "      <td>119.293</td>\n",
       "      <td>4</td>\n",
       "      <td>...</td>\n",
       "      <td>[b'pop rock', b'new wave', b'dance rock', b'ro...</td>\n",
       "      <td>b'London, England'</td>\n",
       "      <td>NaN</td>\n",
       "      <td>NaN</td>\n",
       "      <td>0</td>\n",
       "      <td>0.751</td>\n",
       "      <td>0.0</td>\n",
       "      <td>-9.013</td>\n",
       "      <td>0.454231</td>\n",
       "      <td>0.666667</td>\n",
       "    </tr>\n",
       "    <tr>\n",
       "      <th>4</th>\n",
       "      <td>b'ARXR32B1187FB57099'</td>\n",
       "      <td>b'Gob'</td>\n",
       "      <td>2007</td>\n",
       "      <td>b'SOFSOCN12A8C143F5D'</td>\n",
       "      <td>0.0</td>\n",
       "      <td>209.60608</td>\n",
       "      <td>0.604501</td>\n",
       "      <td>b'Face the Ashes'</td>\n",
       "      <td>129.738</td>\n",
       "      <td>4</td>\n",
       "      <td>...</td>\n",
       "      <td>[b'pop punk', b'ska punk', b'breakcore', b'alt...</td>\n",
       "      <td>b''</td>\n",
       "      <td>NaN</td>\n",
       "      <td>NaN</td>\n",
       "      <td>2</td>\n",
       "      <td>0.092</td>\n",
       "      <td>0.0</td>\n",
       "      <td>-4.501</td>\n",
       "      <td>0.401724</td>\n",
       "      <td>0.964286</td>\n",
       "    </tr>\n",
       "    <tr>\n",
       "      <th>8</th>\n",
       "      <td>b'AR8ZCNI1187B9A069B'</td>\n",
       "      <td>b'Planet P Project'</td>\n",
       "      <td>1984</td>\n",
       "      <td>b'SOIAZJW12AB01853F1'</td>\n",
       "      <td>0.0</td>\n",
       "      <td>269.81832</td>\n",
       "      <td>0.265861</td>\n",
       "      <td>b'Pink World'</td>\n",
       "      <td>86.643</td>\n",
       "      <td>4</td>\n",
       "      <td>...</td>\n",
       "      <td>[b'new wave', b'progressive rock', b'space roc...</td>\n",
       "      <td>b''</td>\n",
       "      <td>NaN</td>\n",
       "      <td>NaN</td>\n",
       "      <td>4</td>\n",
       "      <td>0.717</td>\n",
       "      <td>0.0</td>\n",
       "      <td>-13.496</td>\n",
       "      <td>0.332276</td>\n",
       "      <td>0.690476</td>\n",
       "    </tr>\n",
       "    <tr>\n",
       "      <th>14</th>\n",
       "      <td>b'ARIK43K1187B9AE54C'</td>\n",
       "      <td>b'Lionel Richie'</td>\n",
       "      <td>1986</td>\n",
       "      <td>b'SOBONFF12A6D4F84D8'</td>\n",
       "      <td>0.0</td>\n",
       "      <td>307.38240</td>\n",
       "      <td>NaN</td>\n",
       "      <td>b'Tonight Will Be Alright'</td>\n",
       "      <td>125.197</td>\n",
       "      <td>3</td>\n",
       "      <td>...</td>\n",
       "      <td>[b'quiet storm', b'soft rock', b'pop', b'urban...</td>\n",
       "      <td>b'Beverly Hills, CA'</td>\n",
       "      <td>NaN</td>\n",
       "      <td>NaN</td>\n",
       "      <td>3</td>\n",
       "      <td>0.524</td>\n",
       "      <td>0.0</td>\n",
       "      <td>-8.346</td>\n",
       "      <td>0.553072</td>\n",
       "      <td>0.714286</td>\n",
       "    </tr>\n",
       "  </tbody>\n",
       "</table>\n",
       "<p>5 rows × 22 columns</p>\n",
       "</div>"
      ],
      "text/plain": [
       "                 ArtistID           ArtistName  SongYear  \\\n",
       "1   b'ARMJAGH1187FB546F3'      b'The Box Tops'      1969   \n",
       "3   b'AR7G5I41187FB4CE6C'          b'Adam Ant'      1982   \n",
       "4   b'ARXR32B1187FB57099'               b'Gob'      2007   \n",
       "8   b'AR8ZCNI1187B9A069B'  b'Planet P Project'      1984   \n",
       "14  b'ARIK43K1187B9AE54C'     b'Lionel Richie'      1986   \n",
       "\n",
       "                   SongID  SongDanceability   Duration  SongHotness  \\\n",
       "1   b'SOCIWDW12A8C13D406'               0.0  148.03546          NaN   \n",
       "3   b'SONHOTT12A8C13493C'               0.0  233.40363          NaN   \n",
       "4   b'SOFSOCN12A8C143F5D'               0.0  209.60608     0.604501   \n",
       "8   b'SOIAZJW12AB01853F1'               0.0  269.81832     0.265861   \n",
       "14  b'SOBONFF12A6D4F84D8'               0.0  307.38240          NaN   \n",
       "\n",
       "                     SongTitle  SongTempo  SongTimeSignature      ...       \\\n",
       "1                 b'Soul Deep'    121.274                  4      ...        \n",
       "3           b'Something Girls'    119.293                  4      ...        \n",
       "4            b'Face the Ashes'    129.738                  4      ...        \n",
       "8                b'Pink World'     86.643                  4      ...        \n",
       "14  b'Tonight Will Be Alright'    125.197                  3      ...        \n",
       "\n",
       "                                          ArtistTerms        ArtistLocation  \\\n",
       "1   [b'blue-eyed soul', b'pop rock', b'blues-rock'...        b'Memphis, TN'   \n",
       "3   [b'pop rock', b'new wave', b'dance rock', b'ro...    b'London, England'   \n",
       "4   [b'pop punk', b'ska punk', b'breakcore', b'alt...                   b''   \n",
       "8   [b'new wave', b'progressive rock', b'space roc...                   b''   \n",
       "14  [b'quiet storm', b'soft rock', b'pop', b'urban...  b'Beverly Hills, CA'   \n",
       "\n",
       "   ArtistLatitude ArtistLongitude  SongKey  SongKeyConfidence  SongEnergy  \\\n",
       "1        35.14968       -90.04892        6              0.169         0.0   \n",
       "3             NaN             NaN        0              0.751         0.0   \n",
       "4             NaN             NaN        2              0.092         0.0   \n",
       "8             NaN             NaN        4              0.717         0.0   \n",
       "14            NaN             NaN        3              0.524         0.0   \n",
       "\n",
       "    SongLoudness  ArtistHotness  SongYearNorm  \n",
       "1         -9.843       0.417500      0.511905  \n",
       "3         -9.013       0.454231      0.666667  \n",
       "4         -4.501       0.401724      0.964286  \n",
       "8        -13.496       0.332276      0.690476  \n",
       "14        -8.346       0.553072      0.714286  \n",
       "\n",
       "[5 rows x 22 columns]"
      ]
     },
     "execution_count": 14,
     "metadata": {},
     "output_type": "execute_result"
    }
   ],
   "source": [
    "normalized_df[\"SongYearNorm\"] = (df.SongYear-df.SongYear.min())/ \\\n",
    "                            (df.SongYear.max()-df.SongYear.min())\n",
    "normalized_df.head()"
   ]
  },
  {
   "cell_type": "markdown",
   "metadata": {},
   "source": [
    "### Song Danceability"
   ]
  },
  {
   "cell_type": "code",
   "execution_count": 15,
   "metadata": {
    "scrolled": true
   },
   "outputs": [
    {
     "data": {
      "text/plain": [
       "<matplotlib.axes._subplots.AxesSubplot at 0x18761c7f080>"
      ]
     },
     "execution_count": 15,
     "metadata": {},
     "output_type": "execute_result"
    },
    {
     "data": {
      "image/png": "[encoded data removed]",
      "text/plain": [
       "<matplotlib.figure.Figure at 0x18764237b70>"
      ]
     },
     "metadata": {},
     "output_type": "display_data"
    }
   ],
   "source": [
    "df.SongDanceability.plot(kind='hist')"
   ]
  },
  {
   "cell_type": "code",
   "execution_count": 16,
   "metadata": {},
   "outputs": [
    {
     "data": {
      "text/plain": [
       "<matplotlib.axes._subplots.AxesSubplot at 0x18768f2fcf8>"
      ]
     },
     "execution_count": 16,
     "metadata": {},
     "output_type": "execute_result"
    },
    {
     "data": {
      "image/png": "[encoded data removed]",
      "text/plain": [
       "<matplotlib.figure.Figure at 0x18762eac940>"
      ]
     },
     "metadata": {},
     "output_type": "display_data"
    }
   ],
   "source": [
    "df.SongDanceability.plot.box()"
   ]
  },
  {
   "cell_type": "markdown",
   "metadata": {},
   "source": [
    "All songs of our cleaned data frame has danceability `0`.  \n",
    "Therefore we will drop this column.  "
   ]
  },
  {
   "cell_type": "code",
   "execution_count": 17,
   "metadata": {},
   "outputs": [],
   "source": [
    "normalized_df.drop(labels=['SongDanceability'], axis=1, inplace=True)"
   ]
  },
  {
   "cell_type": "markdown",
   "metadata": {},
   "source": [
    "### Duration"
   ]
  },
  {
   "cell_type": "code",
   "execution_count": 18,
   "metadata": {
    "scrolled": true
   },
   "outputs": [
    {
     "name": "stdout",
     "output_type": "stream",
     "text": [
      "(35, 21)\n",
      "(73, 21)\n"
     ]
    },
    {
     "data": {
      "image/png": "[encoded data removed]",
      "text/plain": [
       "<matplotlib.figure.Figure at 0x187654323c8>"
      ]
     },
     "metadata": {},
     "output_type": "display_data"
    }
   ],
   "source": [
    "df.Duration.plot(kind='hist',bins=50)\n",
    "print(df[df['Duration']>600].shape)\n",
    "print(df[df['Duration']<60].shape)"
   ]
  },
  {
   "cell_type": "code",
   "execution_count": 19,
   "metadata": {},
   "outputs": [
    {
     "data": {
      "text/plain": [
       "<matplotlib.axes._subplots.AxesSubplot at 0x1876907a5f8>"
      ]
     },
     "execution_count": 19,
     "metadata": {},
     "output_type": "execute_result"
    },
    {
     "data": {
      "image/png": "[encoded data removed]",
      "text/plain": [
       "<matplotlib.figure.Figure at 0x18762ddc828>"
      ]
     },
     "metadata": {},
     "output_type": "display_data"
    }
   ],
   "source": [
    "df.Duration.plot.box()"
   ]
  },
  {
   "cell_type": "markdown",
   "metadata": {},
   "source": [
    "We can see in the histogram, that most of the songs duration are normal distributed.  \n",
    "However, there are outliers with song durations over 10 minutes and under 60 seconds.   \n",
    "In our normalized DataFrame we remove the outliers for the duration, since they might deviate too much from the average songs, which we want to analyse."
   ]
  },
  {
   "cell_type": "code",
   "execution_count": 20,
   "metadata": {},
   "outputs": [],
   "source": [
    "normalized_df = normalized_df[normalized_df['Duration']>60]\n",
    "normalized_df = normalized_df[normalized_df['Duration']<600]"
   ]
  },
  {
   "cell_type": "markdown",
   "metadata": {},
   "source": [
    "### Song Hotness"
   ]
  },
  {
   "cell_type": "code",
   "execution_count": 21,
   "metadata": {
    "scrolled": false
   },
   "outputs": [
    {
     "data": {
      "text/plain": [
       "<matplotlib.axes._subplots.AxesSubplot at 0x187641a8278>"
      ]
     },
     "execution_count": 21,
     "metadata": {},
     "output_type": "execute_result"
    },
    {
     "data": {
      "image/png": "[encoded data removed]",
      "text/plain": [
       "<matplotlib.figure.Figure at 0x187630d6dd8>"
      ]
     },
     "metadata": {},
     "output_type": "display_data"
    }
   ],
   "source": [
    "df.SongHotness.plot(kind='hist')"
   ]
  },
  {
   "cell_type": "code",
   "execution_count": 22,
   "metadata": {},
   "outputs": [
    {
     "data": {
      "text/plain": [
       "<matplotlib.axes._subplots.AxesSubplot at 0x1876914d6a0>"
      ]
     },
     "execution_count": 22,
     "metadata": {},
     "output_type": "execute_result"
    },
    {
     "data": {
      "image/png": "[encoded data removed]",
      "text/plain": [
       "<matplotlib.figure.Figure at 0x18767c21940>"
      ]
     },
     "metadata": {},
     "output_type": "display_data"
    }
   ],
   "source": [
    "df.SongHotness.plot.box()"
   ]
  },
  {
   "cell_type": "markdown",
   "metadata": {},
   "source": [
    "The distribution of the Hotness is not skewed.  \n",
    "There are a few songs where the hotness is missing.  \n",
    "When analysing hotness remove songs with hotness of zero. But for now we will keep the songs for other analysis tasks."
   ]
  },
  {
   "cell_type": "markdown",
   "metadata": {},
   "source": [
    "### Song Tempo "
   ]
  },
  {
   "cell_type": "code",
   "execution_count": 23,
   "metadata": {
    "scrolled": false
   },
   "outputs": [
    {
     "data": {
      "text/plain": [
       "<matplotlib.axes._subplots.AxesSubplot at 0x187691e4940>"
      ]
     },
     "execution_count": 23,
     "metadata": {},
     "output_type": "execute_result"
    },
    {
     "data": {
      "image/png": "[encoded data removed]",
      "text/plain": [
       "<matplotlib.figure.Figure at 0x187691f64e0>"
      ]
     },
     "metadata": {},
     "output_type": "display_data"
    }
   ],
   "source": [
    "df.SongTempo.plot(kind='hist')"
   ]
  },
  {
   "cell_type": "code",
   "execution_count": 24,
   "metadata": {},
   "outputs": [
    {
     "data": {
      "text/plain": [
       "<matplotlib.axes._subplots.AxesSubplot at 0x18769300c88>"
      ]
     },
     "execution_count": 24,
     "metadata": {},
     "output_type": "execute_result"
    },
    {
     "data": {
      "image/png": "[encoded data removed]",
      "text/plain": [
       "<matplotlib.figure.Figure at 0x187692f2e48>"
      ]
     },
     "metadata": {},
     "output_type": "display_data"
    }
   ],
   "source": [
    "df.SongTempo.plot.box()"
   ]
  },
  {
   "cell_type": "markdown",
   "metadata": {},
   "source": [
    "The distribution of the tempo is normal. There are some outliers with a very high or low tempo of more than 200 or less than 25.  \n",
    "We will remove these outliers, since they might deviate from the average songs we want to analyse."
   ]
  },
  {
   "cell_type": "code",
   "execution_count": 25,
   "metadata": {},
   "outputs": [],
   "source": [
    "normalized_df = normalized_df[normalized_df['SongTempo']<220]\n",
    "normalized_df = normalized_df[normalized_df['SongTempo']>25]"
   ]
  },
  {
   "cell_type": "markdown",
   "metadata": {},
   "source": [
    "### Song Time Signature"
   ]
  },
  {
   "cell_type": "markdown",
   "metadata": {},
   "source": [
    "The Song Time Signature describes the number of beats per bar."
   ]
  },
  {
   "cell_type": "code",
   "execution_count": 26,
   "metadata": {
    "scrolled": true
   },
   "outputs": [
    {
     "data": {
      "text/plain": [
       "<matplotlib.axes._subplots.AxesSubplot at 0x18769336e80>"
      ]
     },
     "execution_count": 26,
     "metadata": {},
     "output_type": "execute_result"
    },
    {
     "data": {
      "image/png": "[encoded data removed]",
      "text/plain": [
       "<matplotlib.figure.Figure at 0x1875e4ba358>"
      ]
     },
     "metadata": {},
     "output_type": "display_data"
    }
   ],
   "source": [
    "df.SongTimeSignature.plot(kind='hist')"
   ]
  },
  {
   "cell_type": "code",
   "execution_count": 27,
   "metadata": {},
   "outputs": [
    {
     "data": {
      "text/plain": [
       "<matplotlib.axes._subplots.AxesSubplot at 0x1876945a0b8>"
      ]
     },
     "execution_count": 27,
     "metadata": {},
     "output_type": "execute_result"
    },
    {
     "data": {
      "image/png": "[encoded data removed]",
      "text/plain": [
       "<matplotlib.figure.Figure at 0x187693518d0>"
      ]
     },
     "metadata": {},
     "output_type": "display_data"
    }
   ],
   "source": [
    "df.SongTimeSignature.plot.box()"
   ]
  },
  {
   "cell_type": "markdown",
   "metadata": {},
   "source": [
    "The distribution of the Time signature also looks normally distributed, without many outliers.  \n",
    "Therefore we will keep the feature as it is."
   ]
  },
  {
   "cell_type": "markdown",
   "metadata": {},
   "source": [
    "### Song Time Signature Confidence"
   ]
  },
  {
   "cell_type": "markdown",
   "metadata": {},
   "source": [
    "The Song Time Signature Confidence describes the confidence in the Song Time Signature. It is 1 when the Song Time Signature is very accurate and 0 if is unknown."
   ]
  },
  {
   "cell_type": "code",
   "execution_count": 28,
   "metadata": {
    "scrolled": true
   },
   "outputs": [
    {
     "data": {
      "text/plain": [
       "<matplotlib.axes._subplots.AxesSubplot at 0x18769487860>"
      ]
     },
     "execution_count": 28,
     "metadata": {},
     "output_type": "execute_result"
    },
    {
     "data": {
      "image/png": "[encoded data removed]",
      "text/plain": [
       "<matplotlib.figure.Figure at 0x187695192b0>"
      ]
     },
     "metadata": {},
     "output_type": "display_data"
    }
   ],
   "source": [
    "df.SongTimeSignatureConfidence.plot(kind='hist')"
   ]
  },
  {
   "cell_type": "code",
   "execution_count": 29,
   "metadata": {},
   "outputs": [
    {
     "data": {
      "text/plain": [
       "<matplotlib.axes._subplots.AxesSubplot at 0x187693fd240>"
      ]
     },
     "execution_count": 29,
     "metadata": {},
     "output_type": "execute_result"
    },
    {
     "data": {
      "image/png": "[encoded data removed]",
      "text/plain": [
       "<matplotlib.figure.Figure at 0x1876690da20>"
      ]
     },
     "metadata": {},
     "output_type": "display_data"
    }
   ],
   "source": [
    "df.SongTimeSignatureConfidence.plot.box()"
   ]
  },
  {
   "cell_type": "markdown",
   "metadata": {},
   "source": [
    "The majority of songs has either 0 or 1 as confidence. The other confidences are almost equally distributed.    \n",
    "When analysing TimeSignature we will remove songs with low confidence, but keep the songs for now."
   ]
  },
  {
   "cell_type": "markdown",
   "metadata": {},
   "source": [
    "### Artist Location"
   ]
  },
  {
   "cell_type": "code",
   "execution_count": 30,
   "metadata": {
    "scrolled": true
   },
   "outputs": [
    {
     "data": {
      "text/plain": [
       "<matplotlib.axes._subplots.AxesSubplot at 0x18768f3d518>"
      ]
     },
     "execution_count": 30,
     "metadata": {},
     "output_type": "execute_result"
    },
    {
     "data": {
      "image/png": "[encoded data removed]",
      "text/plain": [
       "<matplotlib.figure.Figure at 0x18769390240>"
      ]
     },
     "metadata": {},
     "output_type": "display_data"
    }
   ],
   "source": [
    "df.ArtistLatitude.plot(kind='hist')"
   ]
  },
  {
   "cell_type": "code",
   "execution_count": 31,
   "metadata": {},
   "outputs": [
    {
     "data": {
      "text/plain": [
       "<matplotlib.axes._subplots.AxesSubplot at 0x187694cb5c0>"
      ]
     },
     "execution_count": 31,
     "metadata": {},
     "output_type": "execute_result"
    },
    {
     "data": {
      "image/png": "[encoded data removed]",
      "text/plain": [
       "<matplotlib.figure.Figure at 0x18762ee0c18>"
      ]
     },
     "metadata": {},
     "output_type": "display_data"
    }
   ],
   "source": [
    "df.ArtistLatitude.plot.box()"
   ]
  },
  {
   "cell_type": "code",
   "execution_count": 32,
   "metadata": {
    "scrolled": true
   },
   "outputs": [
    {
     "data": {
      "text/plain": [
       "<matplotlib.axes._subplots.AxesSubplot at 0x18767c0a518>"
      ]
     },
     "execution_count": 32,
     "metadata": {},
     "output_type": "execute_result"
    },
    {
     "data": {
      "image/png": "[encoded data removed]",
      "text/plain": [
       "<matplotlib.figure.Figure at 0x18769567f28>"
      ]
     },
     "metadata": {},
     "output_type": "display_data"
    }
   ],
   "source": [
    "df.ArtistLongitude.plot(kind='hist')"
   ]
  },
  {
   "cell_type": "code",
   "execution_count": 33,
   "metadata": {
    "scrolled": true
   },
   "outputs": [
    {
     "data": {
      "text/plain": [
       "<matplotlib.axes._subplots.AxesSubplot at 0x187696239b0>"
      ]
     },
     "execution_count": 33,
     "metadata": {},
     "output_type": "execute_result"
    },
    {
     "data": {
      "image/png": "[encoded data removed]",
      "text/plain": [
       "<matplotlib.figure.Figure at 0x18762f824a8>"
      ]
     },
     "metadata": {},
     "output_type": "display_data"
    }
   ],
   "source": [
    "df.ArtistLongitude.plot.box()"
   ]
  },
  {
   "cell_type": "markdown",
   "metadata": {},
   "source": [
    "We will keep the artist locations for now as they are, since we wanted to look at the correlation between different song types and artist locations."
   ]
  },
  {
   "cell_type": "markdown",
   "metadata": {},
   "source": [
    "### Song Key"
   ]
  },
  {
   "cell_type": "code",
   "execution_count": 34,
   "metadata": {},
   "outputs": [
    {
     "data": {
      "text/plain": [
       "<matplotlib.axes._subplots.AxesSubplot at 0x187696c5748>"
      ]
     },
     "execution_count": 34,
     "metadata": {},
     "output_type": "execute_result"
    },
    {
     "data": {
      "image/png": "[encoded data removed]",
      "text/plain": [
       "<matplotlib.figure.Figure at 0x1876559c518>"
      ]
     },
     "metadata": {},
     "output_type": "display_data"
    }
   ],
   "source": [
    "df.SongKey.plot(kind='hist')"
   ]
  },
  {
   "cell_type": "code",
   "execution_count": 35,
   "metadata": {},
   "outputs": [
    {
     "data": {
      "text/plain": [
       "<matplotlib.axes._subplots.AxesSubplot at 0x18769707908>"
      ]
     },
     "execution_count": 35,
     "metadata": {},
     "output_type": "execute_result"
    },
    {
     "data": {
      "image/png": "[encoded data removed]",
      "text/plain": [
       "<matplotlib.figure.Figure at 0x187679735c0>"
      ]
     },
     "metadata": {},
     "output_type": "display_data"
    }
   ],
   "source": [
    "df.SongKey.plot.box()"
   ]
  },
  {
   "cell_type": "markdown",
   "metadata": {},
   "source": [
    "The key feature has no clear distribution. It contains several peaks which might come from several joined normal distributions for each genre.  \n",
    "The distribution will be reanalysed for each genre."
   ]
  },
  {
   "cell_type": "markdown",
   "metadata": {},
   "source": [
    "### Song Key Confidence"
   ]
  },
  {
   "cell_type": "code",
   "execution_count": 36,
   "metadata": {},
   "outputs": [
    {
     "data": {
      "text/plain": [
       "<matplotlib.axes._subplots.AxesSubplot at 0x187697c2668>"
      ]
     },
     "execution_count": 36,
     "metadata": {},
     "output_type": "execute_result"
    },
    {
     "data": {
      "image/png": "[encoded data removed]",
      "text/plain": [
       "<matplotlib.figure.Figure at 0x187699103c8>"
      ]
     },
     "metadata": {},
     "output_type": "display_data"
    }
   ],
   "source": [
    "df.SongKeyConfidence.plot(kind='hist')"
   ]
  },
  {
   "cell_type": "code",
   "execution_count": 37,
   "metadata": {},
   "outputs": [
    {
     "data": {
      "text/plain": [
       "<matplotlib.axes._subplots.AxesSubplot at 0x187699d6c88>"
      ]
     },
     "execution_count": 37,
     "metadata": {},
     "output_type": "execute_result"
    },
    {
     "data": {
      "image/png": "[encoded data removed]",
      "text/plain": [
       "<matplotlib.figure.Figure at 0x18769956898>"
      ]
     },
     "metadata": {},
     "output_type": "display_data"
    }
   ],
   "source": [
    "df.SongKeyConfidence.plot.box()"
   ]
  },
  {
   "cell_type": "markdown",
   "metadata": {},
   "source": [
    "The Song Key Confidence describes the confidence in the Song Key. It is 1 when the Song Key is very accurate and 0 if is unknown.  \n",
    "The confidence level is not too low, when analysing the key we will remove the songs with low confidence."
   ]
  },
  {
   "cell_type": "markdown",
   "metadata": {},
   "source": [
    "### Song Energy"
   ]
  },
  {
   "cell_type": "code",
   "execution_count": 38,
   "metadata": {},
   "outputs": [
    {
     "data": {
      "text/plain": [
       "<matplotlib.axes._subplots.AxesSubplot at 0x1876aa3c080>"
      ]
     },
     "execution_count": 38,
     "metadata": {},
     "output_type": "execute_result"
    },
    {
     "data": {
      "image/png": "[encoded data removed]",
      "text/plain": [
       "<matplotlib.figure.Figure at 0x1876aa48518>"
      ]
     },
     "metadata": {},
     "output_type": "display_data"
    }
   ],
   "source": [
    "df.SongEnergy.plot(kind='hist')"
   ]
  },
  {
   "cell_type": "code",
   "execution_count": 39,
   "metadata": {},
   "outputs": [
    {
     "data": {
      "text/plain": [
       "<matplotlib.axes._subplots.AxesSubplot at 0x1876aa92240>"
      ]
     },
     "execution_count": 39,
     "metadata": {},
     "output_type": "execute_result"
    },
    {
     "data": {
      "image/png": "[encoded data removed]",
      "text/plain": [
       "<matplotlib.figure.Figure at 0x1876aa061d0>"
      ]
     },
     "metadata": {},
     "output_type": "display_data"
    }
   ],
   "source": [
    "df.SongEnergy.plot.box()"
   ]
  },
  {
   "cell_type": "markdown",
   "metadata": {},
   "source": [
    "All songs of our cleaned data frame has energy `0`.  \n",
    "Therefore we will drop this column.  "
   ]
  },
  {
   "cell_type": "code",
   "execution_count": 40,
   "metadata": {},
   "outputs": [],
   "source": [
    "normalized_df.drop(labels=['SongEnergy'], axis=1, inplace=True)"
   ]
  },
  {
   "cell_type": "markdown",
   "metadata": {},
   "source": [
    "### Song Loudness"
   ]
  },
  {
   "cell_type": "code",
   "execution_count": 41,
   "metadata": {},
   "outputs": [
    {
     "data": {
      "text/plain": [
       "<matplotlib.axes._subplots.AxesSubplot at 0x187698bfc18>"
      ]
     },
     "execution_count": 41,
     "metadata": {},
     "output_type": "execute_result"
    },
    {
     "data": {
      "image/png": "[encoded data removed]",
      "text/plain": [
       "<matplotlib.figure.Figure at 0x18769748828>"
      ]
     },
     "metadata": {},
     "output_type": "display_data"
    }
   ],
   "source": [
    "df.SongLoudness.plot(kind='hist')"
   ]
  },
  {
   "cell_type": "code",
   "execution_count": 42,
   "metadata": {},
   "outputs": [
    {
     "data": {
      "text/plain": [
       "<matplotlib.axes._subplots.AxesSubplot at 0x1876ab34898>"
      ]
     },
     "execution_count": 42,
     "metadata": {},
     "output_type": "execute_result"
    },
    {
     "data": {
      "image/png": "[encoded data removed]",
      "text/plain": [
       "<matplotlib.figure.Figure at 0x1876abb47b8>"
      ]
     },
     "metadata": {},
     "output_type": "display_data"
    }
   ],
   "source": [
    "df.SongLoudness.plot.box()"
   ]
  },
  {
   "cell_type": "markdown",
   "metadata": {},
   "source": [
    "We notice that the loudness is negatively skewed. This means there are a few songs which are really silent.  \n",
    "We will remove those songs since they deviate from the average song, which we want to analyse."
   ]
  },
  {
   "cell_type": "code",
   "execution_count": 43,
   "metadata": {},
   "outputs": [],
   "source": [
    "normalized_df = normalized_df[normalized_df['SongLoudness']>-35]"
   ]
  },
  {
   "cell_type": "markdown",
   "metadata": {},
   "source": [
    "### Artist Hotness"
   ]
  },
  {
   "cell_type": "code",
   "execution_count": 44,
   "metadata": {},
   "outputs": [
    {
     "data": {
      "text/plain": [
       "<matplotlib.axes._subplots.AxesSubplot at 0x1876ac01c50>"
      ]
     },
     "execution_count": 44,
     "metadata": {},
     "output_type": "execute_result"
    },
    {
     "data": {
      "image/png": "[encoded data removed]",
      "text/plain": [
       "<matplotlib.figure.Figure at 0x187699217b8>"
      ]
     },
     "metadata": {},
     "output_type": "display_data"
    }
   ],
   "source": [
    "df.ArtistHotness.plot(kind='hist')"
   ]
  },
  {
   "cell_type": "markdown",
   "metadata": {},
   "source": [
    "We notice that the hotness is also gaussian, with a bigger weight on the right side ( which is nice for us ), and very few datas on the left side."
   ]
  },
  {
   "cell_type": "code",
   "execution_count": 45,
   "metadata": {},
   "outputs": [
    {
     "data": {
      "text/plain": [
       "<matplotlib.axes._subplots.AxesSubplot at 0x1876ac6beb8>"
      ]
     },
     "execution_count": 45,
     "metadata": {},
     "output_type": "execute_result"
    },
    {
     "data": {
      "image/png": "[encoded data removed]",
      "text/plain": [
       "<matplotlib.figure.Figure at 0x1876999bdd8>"
      ]
     },
     "metadata": {},
     "output_type": "display_data"
    }
   ],
   "source": [
    "df.ArtistHotness.plot.box()"
   ]
  },
  {
   "cell_type": "markdown",
   "metadata": {},
   "source": [
    "We will keep this hotness that can be rerally useful for our analysis coupled to other data or to help the clustering of song"
   ]
  },
  {
   "cell_type": "markdown",
   "metadata": {},
   "source": [
    "## Feature Processing\n",
    "\n",
    "Beside the numeric features, the data frame also contains features with strings.\n",
    "Actually all String are bytes string so we will transform them into `str` for better comparison. The concerned features are ArtistName, ArtistLocation, SongTitle, ArtistID and tag from the arrays."
   ]
  },
  {
   "cell_type": "code",
   "execution_count": 46,
   "metadata": {},
   "outputs": [],
   "source": [
    "def transform(x):\n",
    "    if('numpy.nd' in str(type(x))):\n",
    "        result = []\n",
    "        for a in x:\n",
    "            result.append(a.decode(encoding='utf-8'))\n",
    "        return np.array(result)\n",
    "    elif(x is not None): \n",
    "        return x.decode(encoding=\"utf-8\")\n"
   ]
  },
  {
   "cell_type": "code",
   "execution_count": 47,
   "metadata": {},
   "outputs": [
    {
     "data": {
      "text/html": [
       "<div>\n",
       "<style>\n",
       "    .dataframe thead tr:only-child th {\n",
       "        text-align: right;\n",
       "    }\n",
       "\n",
       "    .dataframe thead th {\n",
       "        text-align: left;\n",
       "    }\n",
       "\n",
       "    .dataframe tbody tr th {\n",
       "        vertical-align: top;\n",
       "    }\n",
       "</style>\n",
       "<table border=\"1\" class=\"dataframe\">\n",
       "  <thead>\n",
       "    <tr style=\"text-align: right;\">\n",
       "      <th></th>\n",
       "      <th>ArtistID</th>\n",
       "      <th>ArtistName</th>\n",
       "      <th>SongYear</th>\n",
       "      <th>SongID</th>\n",
       "      <th>Duration</th>\n",
       "      <th>SongHotness</th>\n",
       "      <th>SongTitle</th>\n",
       "      <th>SongTempo</th>\n",
       "      <th>SongTimeSignature</th>\n",
       "      <th>SongTimeSignatureConfidence</th>\n",
       "      <th>ArtistMbtags</th>\n",
       "      <th>ArtistTerms</th>\n",
       "      <th>ArtistLocation</th>\n",
       "      <th>ArtistLatitude</th>\n",
       "      <th>ArtistLongitude</th>\n",
       "      <th>SongKey</th>\n",
       "      <th>SongKeyConfidence</th>\n",
       "      <th>SongLoudness</th>\n",
       "      <th>ArtistHotness</th>\n",
       "      <th>SongYearNorm</th>\n",
       "    </tr>\n",
       "  </thead>\n",
       "  <tbody>\n",
       "    <tr>\n",
       "      <th>1</th>\n",
       "      <td>ARMJAGH1187FB546F3</td>\n",
       "      <td>The Box Tops</td>\n",
       "      <td>1969</td>\n",
       "      <td>b'SOCIWDW12A8C13D406'</td>\n",
       "      <td>148.03546</td>\n",
       "      <td>NaN</td>\n",
       "      <td>Soul Deep</td>\n",
       "      <td>121.274</td>\n",
       "      <td>4</td>\n",
       "      <td>0.384</td>\n",
       "      <td>[classic pop and rock]</td>\n",
       "      <td>[blue-eyed soul, pop rock, blues-rock, beach m...</td>\n",
       "      <td>Memphis, TN</td>\n",
       "      <td>35.14968</td>\n",
       "      <td>-90.04892</td>\n",
       "      <td>6</td>\n",
       "      <td>0.169</td>\n",
       "      <td>-9.843</td>\n",
       "      <td>0.417500</td>\n",
       "      <td>0.511905</td>\n",
       "    </tr>\n",
       "    <tr>\n",
       "      <th>3</th>\n",
       "      <td>AR7G5I41187FB4CE6C</td>\n",
       "      <td>Adam Ant</td>\n",
       "      <td>1982</td>\n",
       "      <td>b'SONHOTT12A8C13493C'</td>\n",
       "      <td>233.40363</td>\n",
       "      <td>NaN</td>\n",
       "      <td>Something Girls</td>\n",
       "      <td>119.293</td>\n",
       "      <td>4</td>\n",
       "      <td>0.000</td>\n",
       "      <td>[uk, british, english]</td>\n",
       "      <td>[pop rock, new wave, dance rock, rock, new rom...</td>\n",
       "      <td>London, England</td>\n",
       "      <td>NaN</td>\n",
       "      <td>NaN</td>\n",
       "      <td>0</td>\n",
       "      <td>0.751</td>\n",
       "      <td>-9.013</td>\n",
       "      <td>0.454231</td>\n",
       "      <td>0.666667</td>\n",
       "    </tr>\n",
       "    <tr>\n",
       "      <th>4</th>\n",
       "      <td>ARXR32B1187FB57099</td>\n",
       "      <td>Gob</td>\n",
       "      <td>2007</td>\n",
       "      <td>b'SOFSOCN12A8C143F5D'</td>\n",
       "      <td>209.60608</td>\n",
       "      <td>0.604501</td>\n",
       "      <td>Face the Ashes</td>\n",
       "      <td>129.738</td>\n",
       "      <td>4</td>\n",
       "      <td>0.562</td>\n",
       "      <td>[]</td>\n",
       "      <td>[pop punk, ska punk, breakcore, alternative me...</td>\n",
       "      <td></td>\n",
       "      <td>NaN</td>\n",
       "      <td>NaN</td>\n",
       "      <td>2</td>\n",
       "      <td>0.092</td>\n",
       "      <td>-4.501</td>\n",
       "      <td>0.401724</td>\n",
       "      <td>0.964286</td>\n",
       "    </tr>\n",
       "    <tr>\n",
       "      <th>8</th>\n",
       "      <td>AR8ZCNI1187B9A069B</td>\n",
       "      <td>Planet P Project</td>\n",
       "      <td>1984</td>\n",
       "      <td>b'SOIAZJW12AB01853F1'</td>\n",
       "      <td>269.81832</td>\n",
       "      <td>0.265861</td>\n",
       "      <td>Pink World</td>\n",
       "      <td>86.643</td>\n",
       "      <td>4</td>\n",
       "      <td>0.487</td>\n",
       "      <td>[]</td>\n",
       "      <td>[new wave, progressive rock, space rock, eurod...</td>\n",
       "      <td></td>\n",
       "      <td>NaN</td>\n",
       "      <td>NaN</td>\n",
       "      <td>4</td>\n",
       "      <td>0.717</td>\n",
       "      <td>-13.496</td>\n",
       "      <td>0.332276</td>\n",
       "      <td>0.690476</td>\n",
       "    </tr>\n",
       "    <tr>\n",
       "      <th>14</th>\n",
       "      <td>ARIK43K1187B9AE54C</td>\n",
       "      <td>Lionel Richie</td>\n",
       "      <td>1986</td>\n",
       "      <td>b'SOBONFF12A6D4F84D8'</td>\n",
       "      <td>307.38240</td>\n",
       "      <td>NaN</td>\n",
       "      <td>Tonight Will Be Alright</td>\n",
       "      <td>125.197</td>\n",
       "      <td>3</td>\n",
       "      <td>0.211</td>\n",
       "      <td>[soul and reggae]</td>\n",
       "      <td>[quiet storm, soft rock, pop, urban, adult con...</td>\n",
       "      <td>Beverly Hills, CA</td>\n",
       "      <td>NaN</td>\n",
       "      <td>NaN</td>\n",
       "      <td>3</td>\n",
       "      <td>0.524</td>\n",
       "      <td>-8.346</td>\n",
       "      <td>0.553072</td>\n",
       "      <td>0.714286</td>\n",
       "    </tr>\n",
       "  </tbody>\n",
       "</table>\n",
       "</div>"
      ],
      "text/plain": [
       "              ArtistID        ArtistName  SongYear                 SongID  \\\n",
       "1   ARMJAGH1187FB546F3      The Box Tops      1969  b'SOCIWDW12A8C13D406'   \n",
       "3   AR7G5I41187FB4CE6C          Adam Ant      1982  b'SONHOTT12A8C13493C'   \n",
       "4   ARXR32B1187FB57099               Gob      2007  b'SOFSOCN12A8C143F5D'   \n",
       "8   AR8ZCNI1187B9A069B  Planet P Project      1984  b'SOIAZJW12AB01853F1'   \n",
       "14  ARIK43K1187B9AE54C     Lionel Richie      1986  b'SOBONFF12A6D4F84D8'   \n",
       "\n",
       "     Duration  SongHotness                SongTitle  SongTempo  \\\n",
       "1   148.03546          NaN                Soul Deep    121.274   \n",
       "3   233.40363          NaN          Something Girls    119.293   \n",
       "4   209.60608     0.604501           Face the Ashes    129.738   \n",
       "8   269.81832     0.265861               Pink World     86.643   \n",
       "14  307.38240          NaN  Tonight Will Be Alright    125.197   \n",
       "\n",
       "    SongTimeSignature  SongTimeSignatureConfidence            ArtistMbtags  \\\n",
       "1                   4                        0.384  [classic pop and rock]   \n",
       "3                   4                        0.000  [uk, british, english]   \n",
       "4                   4                        0.562                      []   \n",
       "8                   4                        0.487                      []   \n",
       "14                  3                        0.211       [soul and reggae]   \n",
       "\n",
       "                                          ArtistTerms     ArtistLocation  \\\n",
       "1   [blue-eyed soul, pop rock, blues-rock, beach m...        Memphis, TN   \n",
       "3   [pop rock, new wave, dance rock, rock, new rom...    London, England   \n",
       "4   [pop punk, ska punk, breakcore, alternative me...                      \n",
       "8   [new wave, progressive rock, space rock, eurod...                      \n",
       "14  [quiet storm, soft rock, pop, urban, adult con...  Beverly Hills, CA   \n",
       "\n",
       "    ArtistLatitude  ArtistLongitude  SongKey  SongKeyConfidence  SongLoudness  \\\n",
       "1         35.14968        -90.04892        6              0.169        -9.843   \n",
       "3              NaN              NaN        0              0.751        -9.013   \n",
       "4              NaN              NaN        2              0.092        -4.501   \n",
       "8              NaN              NaN        4              0.717       -13.496   \n",
       "14             NaN              NaN        3              0.524        -8.346   \n",
       "\n",
       "    ArtistHotness  SongYearNorm  \n",
       "1        0.417500      0.511905  \n",
       "3        0.454231      0.666667  \n",
       "4        0.401724      0.964286  \n",
       "8        0.332276      0.690476  \n",
       "14       0.553072      0.714286  "
      ]
     },
     "execution_count": 47,
     "metadata": {},
     "output_type": "execute_result"
    }
   ],
   "source": [
    "normalized_df.ArtistID = df.ArtistID.apply(lambda row: transform(row))\n",
    "normalized_df.ArtistLocation = df.ArtistLocation.apply(lambda row : transform(row))\n",
    "normalized_df.ArtistName= df.ArtistName.apply(lambda row : transform(row))\n",
    "normalized_df.SongTitle = df.SongTitle.apply(lambda row : transform(row))\n",
    "normalized_df.ArtistMbtags = df.ArtistMbtags.apply(lambda row : transform(row))\n",
    "normalized_df.ArtistTerms = df.ArtistTerms.apply(lambda row : transform(row))\n",
    "normalized_df.head()"
   ]
  },
  {
   "cell_type": "markdown",
   "metadata": {},
   "source": [
    "## Data Correlation"
   ]
  },
  {
   "cell_type": "markdown",
   "metadata": {},
   "source": [
    "For the correlation we will focus on the rows with a high confidence measure."
   ]
  },
  {
   "cell_type": "code",
   "execution_count": 48,
   "metadata": {},
   "outputs": [
    {
     "name": "stderr",
     "output_type": "stream",
     "text": [
      "C:\\Users\\M4X\\AppData\\Local\\conda\\conda\\envs\\ada\\lib\\site-packages\\ipykernel\\__main__.py:3: UserWarning: Boolean Series key will be reindexed to match DataFrame index.\n",
      "  app.launch_new_instance()\n"
     ]
    }
   ],
   "source": [
    "corr_df = normalized_df.copy()\n",
    "corr_df = corr_df[normalized_df['SongTimeSignatureConfidence']>0.5]\n",
    "corr_df = corr_df[normalized_df['SongKeyConfidence']>0.5]"
   ]
  },
  {
   "cell_type": "code",
   "execution_count": 49,
   "metadata": {},
   "outputs": [
    {
     "data": {
      "text/html": [
       "<div>\n",
       "<style>\n",
       "    .dataframe thead tr:only-child th {\n",
       "        text-align: right;\n",
       "    }\n",
       "\n",
       "    .dataframe thead th {\n",
       "        text-align: left;\n",
       "    }\n",
       "\n",
       "    .dataframe tbody tr th {\n",
       "        vertical-align: top;\n",
       "    }\n",
       "</style>\n",
       "<table border=\"1\" class=\"dataframe\">\n",
       "  <thead>\n",
       "    <tr style=\"text-align: right;\">\n",
       "      <th></th>\n",
       "      <th>SongYear</th>\n",
       "      <th>Duration</th>\n",
       "      <th>SongHotness</th>\n",
       "      <th>SongTempo</th>\n",
       "      <th>SongTimeSignature</th>\n",
       "      <th>SongTimeSignatureConfidence</th>\n",
       "      <th>ArtistLatitude</th>\n",
       "      <th>ArtistLongitude</th>\n",
       "      <th>SongKey</th>\n",
       "      <th>SongKeyConfidence</th>\n",
       "      <th>SongLoudness</th>\n",
       "      <th>ArtistHotness</th>\n",
       "      <th>SongYearNorm</th>\n",
       "    </tr>\n",
       "  </thead>\n",
       "  <tbody>\n",
       "    <tr>\n",
       "      <th>SongYear</th>\n",
       "      <td>1.000000</td>\n",
       "      <td>0.123693</td>\n",
       "      <td>0.121156</td>\n",
       "      <td>0.061124</td>\n",
       "      <td>0.045342</td>\n",
       "      <td>0.005752</td>\n",
       "      <td>-0.011298</td>\n",
       "      <td>0.061663</td>\n",
       "      <td>0.014605</td>\n",
       "      <td>-0.038174</td>\n",
       "      <td>0.354848</td>\n",
       "      <td>0.110084</td>\n",
       "      <td>1.000000</td>\n",
       "    </tr>\n",
       "    <tr>\n",
       "      <th>Duration</th>\n",
       "      <td>0.123693</td>\n",
       "      <td>1.000000</td>\n",
       "      <td>-0.011613</td>\n",
       "      <td>-0.008254</td>\n",
       "      <td>0.013285</td>\n",
       "      <td>0.010330</td>\n",
       "      <td>0.050131</td>\n",
       "      <td>0.063102</td>\n",
       "      <td>0.002657</td>\n",
       "      <td>0.041513</td>\n",
       "      <td>0.069551</td>\n",
       "      <td>0.025149</td>\n",
       "      <td>0.123693</td>\n",
       "    </tr>\n",
       "    <tr>\n",
       "      <th>SongHotness</th>\n",
       "      <td>0.121156</td>\n",
       "      <td>-0.011613</td>\n",
       "      <td>1.000000</td>\n",
       "      <td>0.062046</td>\n",
       "      <td>0.039497</td>\n",
       "      <td>0.037246</td>\n",
       "      <td>0.007138</td>\n",
       "      <td>-0.088808</td>\n",
       "      <td>0.036861</td>\n",
       "      <td>-0.096620</td>\n",
       "      <td>0.227774</td>\n",
       "      <td>0.518601</td>\n",
       "      <td>0.121156</td>\n",
       "    </tr>\n",
       "    <tr>\n",
       "      <th>SongTempo</th>\n",
       "      <td>0.061124</td>\n",
       "      <td>-0.008254</td>\n",
       "      <td>0.062046</td>\n",
       "      <td>1.000000</td>\n",
       "      <td>0.022386</td>\n",
       "      <td>-0.066615</td>\n",
       "      <td>-0.006675</td>\n",
       "      <td>-0.038345</td>\n",
       "      <td>-0.021538</td>\n",
       "      <td>0.024720</td>\n",
       "      <td>0.074821</td>\n",
       "      <td>0.054544</td>\n",
       "      <td>0.061124</td>\n",
       "    </tr>\n",
       "    <tr>\n",
       "      <th>SongTimeSignature</th>\n",
       "      <td>0.045342</td>\n",
       "      <td>0.013285</td>\n",
       "      <td>0.039497</td>\n",
       "      <td>0.022386</td>\n",
       "      <td>1.000000</td>\n",
       "      <td>-0.016657</td>\n",
       "      <td>0.056957</td>\n",
       "      <td>0.073780</td>\n",
       "      <td>-0.019761</td>\n",
       "      <td>-0.074196</td>\n",
       "      <td>0.026566</td>\n",
       "      <td>-0.003841</td>\n",
       "      <td>0.045342</td>\n",
       "    </tr>\n",
       "    <tr>\n",
       "      <th>SongTimeSignatureConfidence</th>\n",
       "      <td>0.005752</td>\n",
       "      <td>0.010330</td>\n",
       "      <td>0.037246</td>\n",
       "      <td>-0.066615</td>\n",
       "      <td>-0.016657</td>\n",
       "      <td>1.000000</td>\n",
       "      <td>-0.011536</td>\n",
       "      <td>-0.008529</td>\n",
       "      <td>-0.000935</td>\n",
       "      <td>-0.005282</td>\n",
       "      <td>-0.001258</td>\n",
       "      <td>0.030779</td>\n",
       "      <td>0.005752</td>\n",
       "    </tr>\n",
       "    <tr>\n",
       "      <th>ArtistLatitude</th>\n",
       "      <td>-0.011298</td>\n",
       "      <td>0.050131</td>\n",
       "      <td>0.007138</td>\n",
       "      <td>-0.006675</td>\n",
       "      <td>0.056957</td>\n",
       "      <td>-0.011536</td>\n",
       "      <td>1.000000</td>\n",
       "      <td>0.096827</td>\n",
       "      <td>-0.019033</td>\n",
       "      <td>0.018063</td>\n",
       "      <td>0.046805</td>\n",
       "      <td>-0.058398</td>\n",
       "      <td>-0.011298</td>\n",
       "    </tr>\n",
       "    <tr>\n",
       "      <th>ArtistLongitude</th>\n",
       "      <td>0.061663</td>\n",
       "      <td>0.063102</td>\n",
       "      <td>-0.088808</td>\n",
       "      <td>-0.038345</td>\n",
       "      <td>0.073780</td>\n",
       "      <td>-0.008529</td>\n",
       "      <td>0.096827</td>\n",
       "      <td>1.000000</td>\n",
       "      <td>-0.020110</td>\n",
       "      <td>0.000756</td>\n",
       "      <td>-0.063922</td>\n",
       "      <td>-0.068398</td>\n",
       "      <td>0.061663</td>\n",
       "    </tr>\n",
       "    <tr>\n",
       "      <th>SongKey</th>\n",
       "      <td>0.014605</td>\n",
       "      <td>0.002657</td>\n",
       "      <td>0.036861</td>\n",
       "      <td>-0.021538</td>\n",
       "      <td>-0.019761</td>\n",
       "      <td>-0.000935</td>\n",
       "      <td>-0.019033</td>\n",
       "      <td>-0.020110</td>\n",
       "      <td>1.000000</td>\n",
       "      <td>-0.099049</td>\n",
       "      <td>0.026447</td>\n",
       "      <td>0.082629</td>\n",
       "      <td>0.014605</td>\n",
       "    </tr>\n",
       "    <tr>\n",
       "      <th>SongKeyConfidence</th>\n",
       "      <td>-0.038174</td>\n",
       "      <td>0.041513</td>\n",
       "      <td>-0.096620</td>\n",
       "      <td>0.024720</td>\n",
       "      <td>-0.074196</td>\n",
       "      <td>-0.005282</td>\n",
       "      <td>0.018063</td>\n",
       "      <td>0.000756</td>\n",
       "      <td>-0.099049</td>\n",
       "      <td>1.000000</td>\n",
       "      <td>-0.107177</td>\n",
       "      <td>-0.081807</td>\n",
       "      <td>-0.038174</td>\n",
       "    </tr>\n",
       "    <tr>\n",
       "      <th>SongLoudness</th>\n",
       "      <td>0.354848</td>\n",
       "      <td>0.069551</td>\n",
       "      <td>0.227774</td>\n",
       "      <td>0.074821</td>\n",
       "      <td>0.026566</td>\n",
       "      <td>-0.001258</td>\n",
       "      <td>0.046805</td>\n",
       "      <td>-0.063922</td>\n",
       "      <td>0.026447</td>\n",
       "      <td>-0.107177</td>\n",
       "      <td>1.000000</td>\n",
       "      <td>0.228997</td>\n",
       "      <td>0.354848</td>\n",
       "    </tr>\n",
       "    <tr>\n",
       "      <th>ArtistHotness</th>\n",
       "      <td>0.110084</td>\n",
       "      <td>0.025149</td>\n",
       "      <td>0.518601</td>\n",
       "      <td>0.054544</td>\n",
       "      <td>-0.003841</td>\n",
       "      <td>0.030779</td>\n",
       "      <td>-0.058398</td>\n",
       "      <td>-0.068398</td>\n",
       "      <td>0.082629</td>\n",
       "      <td>-0.081807</td>\n",
       "      <td>0.228997</td>\n",
       "      <td>1.000000</td>\n",
       "      <td>0.110084</td>\n",
       "    </tr>\n",
       "    <tr>\n",
       "      <th>SongYearNorm</th>\n",
       "      <td>1.000000</td>\n",
       "      <td>0.123693</td>\n",
       "      <td>0.121156</td>\n",
       "      <td>0.061124</td>\n",
       "      <td>0.045342</td>\n",
       "      <td>0.005752</td>\n",
       "      <td>-0.011298</td>\n",
       "      <td>0.061663</td>\n",
       "      <td>0.014605</td>\n",
       "      <td>-0.038174</td>\n",
       "      <td>0.354848</td>\n",
       "      <td>0.110084</td>\n",
       "      <td>1.000000</td>\n",
       "    </tr>\n",
       "  </tbody>\n",
       "</table>\n",
       "</div>"
      ],
      "text/plain": [
       "                             SongYear  Duration  SongHotness  SongTempo  \\\n",
       "SongYear                     1.000000  0.123693     0.121156   0.061124   \n",
       "Duration                     0.123693  1.000000    -0.011613  -0.008254   \n",
       "SongHotness                  0.121156 -0.011613     1.000000   0.062046   \n",
       "SongTempo                    0.061124 -0.008254     0.062046   1.000000   \n",
       "SongTimeSignature            0.045342  0.013285     0.039497   0.022386   \n",
       "SongTimeSignatureConfidence  0.005752  0.010330     0.037246  -0.066615   \n",
       "ArtistLatitude              -0.011298  0.050131     0.007138  -0.006675   \n",
       "ArtistLongitude              0.061663  0.063102    -0.088808  -0.038345   \n",
       "SongKey                      0.014605  0.002657     0.036861  -0.021538   \n",
       "SongKeyConfidence           -0.038174  0.041513    -0.096620   0.024720   \n",
       "SongLoudness                 0.354848  0.069551     0.227774   0.074821   \n",
       "ArtistHotness                0.110084  0.025149     0.518601   0.054544   \n",
       "SongYearNorm                 1.000000  0.123693     0.121156   0.061124   \n",
       "\n",
       "                             SongTimeSignature  SongTimeSignatureConfidence  \\\n",
       "SongYear                              0.045342                     0.005752   \n",
       "Duration                              0.013285                     0.010330   \n",
       "SongHotness                           0.039497                     0.037246   \n",
       "SongTempo                             0.022386                    -0.066615   \n",
       "SongTimeSignature                     1.000000                    -0.016657   \n",
       "SongTimeSignatureConfidence          -0.016657                     1.000000   \n",
       "ArtistLatitude                        0.056957                    -0.011536   \n",
       "ArtistLongitude                       0.073780                    -0.008529   \n",
       "SongKey                              -0.019761                    -0.000935   \n",
       "SongKeyConfidence                    -0.074196                    -0.005282   \n",
       "SongLoudness                          0.026566                    -0.001258   \n",
       "ArtistHotness                        -0.003841                     0.030779   \n",
       "SongYearNorm                          0.045342                     0.005752   \n",
       "\n",
       "                             ArtistLatitude  ArtistLongitude   SongKey  \\\n",
       "SongYear                          -0.011298         0.061663  0.014605   \n",
       "Duration                           0.050131         0.063102  0.002657   \n",
       "SongHotness                        0.007138        -0.088808  0.036861   \n",
       "SongTempo                         -0.006675        -0.038345 -0.021538   \n",
       "SongTimeSignature                  0.056957         0.073780 -0.019761   \n",
       "SongTimeSignatureConfidence       -0.011536        -0.008529 -0.000935   \n",
       "ArtistLatitude                     1.000000         0.096827 -0.019033   \n",
       "ArtistLongitude                    0.096827         1.000000 -0.020110   \n",
       "SongKey                           -0.019033        -0.020110  1.000000   \n",
       "SongKeyConfidence                  0.018063         0.000756 -0.099049   \n",
       "SongLoudness                       0.046805        -0.063922  0.026447   \n",
       "ArtistHotness                     -0.058398        -0.068398  0.082629   \n",
       "SongYearNorm                      -0.011298         0.061663  0.014605   \n",
       "\n",
       "                             SongKeyConfidence  SongLoudness  ArtistHotness  \\\n",
       "SongYear                             -0.038174      0.354848       0.110084   \n",
       "Duration                              0.041513      0.069551       0.025149   \n",
       "SongHotness                          -0.096620      0.227774       0.518601   \n",
       "SongTempo                             0.024720      0.074821       0.054544   \n",
       "SongTimeSignature                    -0.074196      0.026566      -0.003841   \n",
       "SongTimeSignatureConfidence          -0.005282     -0.001258       0.030779   \n",
       "ArtistLatitude                        0.018063      0.046805      -0.058398   \n",
       "ArtistLongitude                       0.000756     -0.063922      -0.068398   \n",
       "SongKey                              -0.099049      0.026447       0.082629   \n",
       "SongKeyConfidence                     1.000000     -0.107177      -0.081807   \n",
       "SongLoudness                         -0.107177      1.000000       0.228997   \n",
       "ArtistHotness                        -0.081807      0.228997       1.000000   \n",
       "SongYearNorm                         -0.038174      0.354848       0.110084   \n",
       "\n",
       "                             SongYearNorm  \n",
       "SongYear                         1.000000  \n",
       "Duration                         0.123693  \n",
       "SongHotness                      0.121156  \n",
       "SongTempo                        0.061124  \n",
       "SongTimeSignature                0.045342  \n",
       "SongTimeSignatureConfidence      0.005752  \n",
       "ArtistLatitude                  -0.011298  \n",
       "ArtistLongitude                  0.061663  \n",
       "SongKey                          0.014605  \n",
       "SongKeyConfidence               -0.038174  \n",
       "SongLoudness                     0.354848  \n",
       "ArtistHotness                    0.110084  \n",
       "SongYearNorm                     1.000000  "
      ]
     },
     "execution_count": 49,
     "metadata": {},
     "output_type": "execute_result"
    }
   ],
   "source": [
    "corr = corr_df.corr()\n",
    "corr"
   ]
  },
  {
   "cell_type": "markdown",
   "metadata": {},
   "source": [
    "We seem to have very few correlated features, so we will try to analyze by doing some more analysis on different paramters and doing some feature engineering.  "
   ]
  },
  {
   "cell_type": "code",
   "execution_count": 50,
   "metadata": {},
   "outputs": [
    {
     "name": "stdout",
     "output_type": "stream",
     "text": [
      "\n"
     ]
    },
    {
     "data": {
      "image/png": "[encoded data removed]",
      "text/plain": [
       "<matplotlib.figure.Figure at 0x1876af2a6a0>"
      ]
     },
     "metadata": {},
     "output_type": "display_data"
    }
   ],
   "source": [
    "cg = sns.clustermap(corr, linewidth=.5, figsize=(9,9),cmap='mako')\n",
    "plt.setp(cg)"
   ]
  },
  {
   "cell_type": "markdown",
   "metadata": {},
   "source": [
    "The most correlated features are SongYear and SongLoudness, SongHotness and SongLoudness, and SongHotness and SongYear.  \n",
    "The correlation between Hotness and Year exists, since the hotness value is only a snapshot of the hotness in 2010.  \n",
    "But there seems to be a trend for Loudness over the years, correlated with Hotness for Song and artist"
   ]
  },
  {
   "cell_type": "markdown",
   "metadata": {},
   "source": [
    "## Further dependencies"
   ]
  },
  {
   "cell_type": "markdown",
   "metadata": {},
   "source": [
    "### Preprocessing"
   ]
  },
  {
   "cell_type": "markdown",
   "metadata": {},
   "source": [
    "Since we want to analyse the change over time and the time feature is very unbalanced, we will resample our data to a equally distributed time feature."
   ]
  },
  {
   "cell_type": "code",
   "execution_count": 51,
   "metadata": {},
   "outputs": [
    {
     "name": "stdout",
     "output_type": "stream",
     "text": [
      "(46, 20)\n",
      "(163, 20)\n",
      "(365, 20)\n",
      "(647, 20)\n",
      "(1559, 20)\n",
      "(3532, 20)\n",
      "(2326, 20)\n"
     ]
    }
   ],
   "source": [
    "classes = [0,1950,1960,1970,1980,1990,2000,2010,2015]\n",
    "df_classes = [] # df containing the rows of each class\n",
    "for i in range(1,len(classes)-1):\n",
    "    df_classes.append(normalized_df[np.logical_and(normalized_df.SongYear > classes[i-1], \\\n",
    "                                 normalized_df.SongYear < classes[i+1])])\n",
    "\n",
    "# print shapes for overview\n",
    "for i in range(len(df_classes)):\n",
    "    print (df_classes[i].shape)"
   ]
  },
  {
   "cell_type": "code",
   "execution_count": 52,
   "metadata": {},
   "outputs": [],
   "source": [
    "# resample dataframes with replacement in order to aquire the same number of tracks per class\n",
    "for i in range(len(df_classes)-1):\n",
    "    df_classes[i] = resample(df_classes[i], replace=True, n_samples=2326, random_state=42)\n",
    "\n",
    "# merge the data frames\n",
    "resampled_df = df_classes[0]\n",
    "for i in range(1,len(df_classes)):\n",
    "    resampled_df = pd.concat([resampled_df, df_classes[i]])\n"
   ]
  },
  {
   "cell_type": "markdown",
   "metadata": {},
   "source": [
    "Let's see if we can find correlations which can e.g. not be found by the pearson coefficient:"
   ]
  },
  {
   "cell_type": "markdown",
   "metadata": {},
   "source": [
    "### Correlation for Song Year"
   ]
  },
  {
   "cell_type": "code",
   "execution_count": 53,
   "metadata": {
    "scrolled": true
   },
   "outputs": [
    {
     "data": {
      "image/png": "[encoded data removed]",
      "text/plain": [
       "<matplotlib.figure.Figure at 0x1876c1e5f98>"
      ]
     },
     "metadata": {},
     "output_type": "display_data"
    }
   ],
   "source": [
    "x = resampled_df.SongYear\n",
    "y = resampled_df.SongHotness\n",
    "xmin = x.min()\n",
    "xmax = x.max()\n",
    "ymin = y.min()\n",
    "ymax = y.max()\n",
    "\n",
    "fig, ax = plt.subplots()\n",
    "hb = ax.hexbin(x, y, gridsize=15, cmap=\"YlGn\")\n",
    "ax.axis([xmin, xmax, ymin - 0.1, ymax + 0.1])\n",
    "ax.set_title(\"Hexagon binning Year, Song Hotness\")\n",
    "cb = fig.colorbar(hb, ax=ax)\n",
    "cb.set_label('counts')\n",
    "\n",
    "plt.show()"
   ]
  },
  {
   "cell_type": "markdown",
   "metadata": {},
   "source": [
    "We can indeed see that the majority of the song we have  with a hotness > 0 are song from the 2000's, and there is a general evolution through our data, old song have few hotness > 0, and the more we go to 2010, the more song we have with a hotness >0"
   ]
  },
  {
   "cell_type": "code",
   "execution_count": 54,
   "metadata": {},
   "outputs": [
    {
     "data": {
      "image/png": "[encoded data removed]",
      "text/plain": [
       "<matplotlib.figure.Figure at 0x1876b083438>"
      ]
     },
     "metadata": {},
     "output_type": "display_data"
    }
   ],
   "source": [
    "x = normalized_df.SongYear\n",
    "y = normalized_df.ArtistHotness\n",
    "xmin = x.min()\n",
    "xmax = x.max()\n",
    "ymin = y.min()\n",
    "ymax = y.max()\n",
    "\n",
    "fig, ax = plt.subplots()\n",
    "hb = ax.hexbin(x, y, gridsize=25, cmap=\"YlGn\")\n",
    "ax.axis([xmin, xmax, ymin - 0.01, ymax + 0.01])\n",
    "ax.set_title(\"Hexagon binning Year, Artist Hotness\")\n",
    "cb = fig.colorbar(hb, ax=ax)\n",
    "cb.set_label('counts')\n",
    "\n",
    "plt.show()"
   ]
  },
  {
   "cell_type": "markdown",
   "metadata": {},
   "source": [
    "For artist hotness, it is actually different, we have almost no artist that have a 0 hotness, and artist in the 200s have a lot of hotness, but we seems to have more artist that released song from 1990-2000s. This might be a problem due to the distribution of artist from song. An artist might have lot of song released in different period (around 5-6 years)"
   ]
  },
  {
   "cell_type": "code",
   "execution_count": 55,
   "metadata": {},
   "outputs": [
    {
     "data": {
      "image/png": "[encoded data removed]",
      "text/plain": [
       "<matplotlib.figure.Figure at 0x1876c82f710>"
      ]
     },
     "metadata": {},
     "output_type": "display_data"
    }
   ],
   "source": [
    "x = resampled_df.SongYear\n",
    "y = resampled_df.Duration\n",
    "xmin = x.min()\n",
    "xmax = x.max()\n",
    "ymin = y.min()\n",
    "ymax = y.max()\n",
    "\n",
    "fig, ax = plt.subplots()\n",
    "hb = ax.hexbin(x, y, gridsize=15, cmap=\"YlGn\")\n",
    "ax.axis([xmin, xmax, ymin - 0.1, ymax + 0.1])\n",
    "ax.set_title(\"Hexagon binning Year, Duration\")\n",
    "cb = fig.colorbar(hb, ax=ax)\n",
    "cb.set_label('counts')\n",
    "\n",
    "plt.show()"
   ]
  },
  {
   "cell_type": "markdown",
   "metadata": {},
   "source": [
    "The evolution of duration has not change this much, the duration seems to be quite similar through the years"
   ]
  },
  {
   "cell_type": "code",
   "execution_count": 56,
   "metadata": {},
   "outputs": [
    {
     "data": {
      "image/png": "[encoded data removed]",
      "text/plain": [
       "<matplotlib.figure.Figure at 0x1876c958128>"
      ]
     },
     "metadata": {},
     "output_type": "display_data"
    }
   ],
   "source": [
    "x = resampled_df.SongYear\n",
    "y = resampled_df.SongTimeSignature\n",
    "xmin = x.min()\n",
    "xmax = x.max()\n",
    "ymin = y.min()\n",
    "ymax = y.max()\n",
    "\n",
    "fig, ax = plt.subplots()\n",
    "hb = ax.hexbin(x, y, gridsize=15, cmap=\"YlGn\")\n",
    "ax.axis([xmin, xmax, ymin - 0.1, ymax + 0.1])\n",
    "ax.set_title(\"Hexagon binning Year, Time Signature\")\n",
    "cb = fig.colorbar(hb, ax=ax)\n",
    "cb.set_label('counts')\n",
    "\n",
    "plt.show()"
   ]
  },
  {
   "cell_type": "code",
   "execution_count": 57,
   "metadata": {},
   "outputs": [
    {
     "data": {
      "image/png": "[encoded data removed]",
      "text/plain": [
       "<matplotlib.figure.Figure at 0x1876c3d4be0>"
      ]
     },
     "metadata": {},
     "output_type": "display_data"
    }
   ],
   "source": [
    "x = resampled_df.SongYear\n",
    "y = resampled_df.SongLoudness\n",
    "xmin = x.min()\n",
    "xmax = x.max()\n",
    "ymin = y.min()\n",
    "ymax = y.max()\n",
    "\n",
    "fig, ax = plt.subplots()\n",
    "hb = ax.hexbin(x, y, gridsize=15, cmap=\"YlGn\")\n",
    "ax.axis([xmin, xmax, ymin - 0.1, ymax + 0.1])\n",
    "ax.set_title(\"Hexagon binning Year, Loudness\")\n",
    "cb = fig.colorbar(hb, ax=ax)\n",
    "cb.set_label('counts')\n",
    "\n",
    "plt.show()"
   ]
  },
  {
   "cell_type": "markdown",
   "metadata": {},
   "source": [
    "### Interest about Artist and released Songs"
   ]
  },
  {
   "cell_type": "markdown",
   "metadata": {},
   "source": [
    "Here there is an interesting correlation between years and loudness, it seems that song from nowadays are louder than the one from 20 or 30 years ago"
   ]
  },
  {
   "cell_type": "code",
   "execution_count": 58,
   "metadata": {},
   "outputs": [
    {
     "data": {
      "image/png": "[encoded data removed]",
      "text/plain": [
       "<matplotlib.figure.Figure at 0x1876cb7ab70>"
      ]
     },
     "metadata": {},
     "output_type": "display_data"
    }
   ],
   "source": [
    "x = resampled_df.SongYear\n",
    "y = resampled_df.SongKey\n",
    "xmin = x.min()\n",
    "xmax = x.max()\n",
    "ymin = y.min()\n",
    "ymax = y.max()\n",
    "\n",
    "fig, ax = plt.subplots()\n",
    "hb = ax.hexbin(x, y, gridsize=15, cmap=\"YlGn\")\n",
    "ax.axis([xmin, xmax, ymin - 0.1, ymax + 0.1])\n",
    "ax.set_title(\"Hexagon binning Year, Key\")\n",
    "cb = fig.colorbar(hb, ax=ax)\n",
    "cb.set_label('counts')\n",
    "\n",
    "plt.show()"
   ]
  },
  {
   "cell_type": "code",
   "execution_count": 59,
   "metadata": {},
   "outputs": [],
   "source": [
    "def inSet(setC,x):\n",
    "    \"\"\"\n",
    "    Appends x to the set of it is not yet included\n",
    "    \"\"\"\n",
    "    if(x not in setC):\n",
    "        setC.append(x)"
   ]
  },
  {
   "cell_type": "code",
   "execution_count": 60,
   "metadata": {},
   "outputs": [
    {
     "name": "stdout",
     "output_type": "stream",
     "text": [
      "2195\n"
     ]
    },
    {
     "data": {
      "text/html": [
       "<div>\n",
       "<style>\n",
       "    .dataframe thead tr:only-child th {\n",
       "        text-align: right;\n",
       "    }\n",
       "\n",
       "    .dataframe thead th {\n",
       "        text-align: left;\n",
       "    }\n",
       "\n",
       "    .dataframe tbody tr th {\n",
       "        vertical-align: top;\n",
       "    }\n",
       "</style>\n",
       "<table border=\"1\" class=\"dataframe\">\n",
       "  <thead>\n",
       "    <tr style=\"text-align: right;\">\n",
       "      <th></th>\n",
       "      <th>ArtistName</th>\n",
       "    </tr>\n",
       "  </thead>\n",
       "  <tbody>\n",
       "    <tr>\n",
       "      <th>0</th>\n",
       "      <td>The Box Tops</td>\n",
       "    </tr>\n",
       "    <tr>\n",
       "      <th>1</th>\n",
       "      <td>Adam Ant</td>\n",
       "    </tr>\n",
       "    <tr>\n",
       "      <th>2</th>\n",
       "      <td>Gob</td>\n",
       "    </tr>\n",
       "    <tr>\n",
       "      <th>3</th>\n",
       "      <td>Planet P Project</td>\n",
       "    </tr>\n",
       "    <tr>\n",
       "      <th>4</th>\n",
       "      <td>Lionel Richie</td>\n",
       "    </tr>\n",
       "  </tbody>\n",
       "</table>\n",
       "</div>"
      ],
      "text/plain": [
       "         ArtistName\n",
       "0      The Box Tops\n",
       "1          Adam Ant\n",
       "2               Gob\n",
       "3  Planet P Project\n",
       "4     Lionel Richie"
      ]
     },
     "execution_count": 60,
     "metadata": {},
     "output_type": "execute_result"
    }
   ],
   "source": [
    "distinctName = []\n",
    "# create set for artists\n",
    "normalized_df.ArtistName.apply(lambda x : inSet(distinctName,x))\n",
    "print (len(distinctName))\n",
    "\n",
    "# Create data frame for artists\n",
    "artistDF = pd.DataFrame(distinctName,columns=['ArtistName'])\n",
    "artistDF.head()"
   ]
  },
  {
   "cell_type": "code",
   "execution_count": 61,
   "metadata": {},
   "outputs": [],
   "source": [
    "songNumber = []\n",
    "songYear = []\n",
    "\n",
    "# fetch song release years of artist\n",
    "for x in distinctName:\n",
    "    test = normalized_df[normalized_df.ArtistName==x]['SongYear']\n",
    "    songNumber.append(len(test))\n",
    "    songYear.append(test.values)\n",
    "\n",
    "# Extend data frame\n",
    "artistDF['NumberSong']= songNumber\n",
    "artistDF['SongsYear'] = songYear\n",
    "artistDF['StdYear'] = artistDF.SongsYear.apply(lambda x : np.std(x))"
   ]
  },
  {
   "cell_type": "code",
   "execution_count": 62,
   "metadata": {},
   "outputs": [
    {
     "data": {
      "text/html": [
       "<div>\n",
       "<style>\n",
       "    .dataframe thead tr:only-child th {\n",
       "        text-align: right;\n",
       "    }\n",
       "\n",
       "    .dataframe thead th {\n",
       "        text-align: left;\n",
       "    }\n",
       "\n",
       "    .dataframe tbody tr th {\n",
       "        vertical-align: top;\n",
       "    }\n",
       "</style>\n",
       "<table border=\"1\" class=\"dataframe\">\n",
       "  <thead>\n",
       "    <tr style=\"text-align: right;\">\n",
       "      <th></th>\n",
       "      <th>ArtistName</th>\n",
       "      <th>NumberSong</th>\n",
       "      <th>SongsYear</th>\n",
       "      <th>StdYear</th>\n",
       "    </tr>\n",
       "  </thead>\n",
       "  <tbody>\n",
       "    <tr>\n",
       "      <th>0</th>\n",
       "      <td>The Box Tops</td>\n",
       "      <td>4</td>\n",
       "      <td>[1969, 1967, 1967, 1968]</td>\n",
       "      <td>0.829156</td>\n",
       "    </tr>\n",
       "    <tr>\n",
       "      <th>1</th>\n",
       "      <td>Adam Ant</td>\n",
       "      <td>4</td>\n",
       "      <td>[1982, 1982, 1982, 1998]</td>\n",
       "      <td>6.928203</td>\n",
       "    </tr>\n",
       "    <tr>\n",
       "      <th>2</th>\n",
       "      <td>Gob</td>\n",
       "      <td>2</td>\n",
       "      <td>[2007, 2001]</td>\n",
       "      <td>3.000000</td>\n",
       "    </tr>\n",
       "    <tr>\n",
       "      <th>3</th>\n",
       "      <td>Planet P Project</td>\n",
       "      <td>2</td>\n",
       "      <td>[1984, 1984]</td>\n",
       "      <td>0.000000</td>\n",
       "    </tr>\n",
       "    <tr>\n",
       "      <th>4</th>\n",
       "      <td>Lionel Richie</td>\n",
       "      <td>2</td>\n",
       "      <td>[1986, 2004]</td>\n",
       "      <td>9.000000</td>\n",
       "    </tr>\n",
       "  </tbody>\n",
       "</table>\n",
       "</div>"
      ],
      "text/plain": [
       "         ArtistName  NumberSong                 SongsYear   StdYear\n",
       "0      The Box Tops           4  [1969, 1967, 1967, 1968]  0.829156\n",
       "1          Adam Ant           4  [1982, 1982, 1982, 1998]  6.928203\n",
       "2               Gob           2              [2007, 2001]  3.000000\n",
       "3  Planet P Project           2              [1984, 1984]  0.000000\n",
       "4     Lionel Richie           2              [1986, 2004]  9.000000"
      ]
     },
     "execution_count": 62,
     "metadata": {},
     "output_type": "execute_result"
    }
   ],
   "source": [
    "artistDF.head()"
   ]
  },
  {
   "cell_type": "code",
   "execution_count": 63,
   "metadata": {
    "scrolled": true
   },
   "outputs": [
    {
     "data": {
      "text/plain": [
       "<matplotlib.axes._subplots.AxesSubplot at 0x1876c1f39b0>"
      ]
     },
     "execution_count": 63,
     "metadata": {},
     "output_type": "execute_result"
    },
    {
     "data": {
      "image/png": "[encoded data removed]",
      "text/plain": [
       "<matplotlib.figure.Figure at 0x1876c144358>"
      ]
     },
     "metadata": {},
     "output_type": "display_data"
    }
   ],
   "source": [
    "artistDF.NumberSong.plot(kind='hist')"
   ]
  },
  {
   "cell_type": "code",
   "execution_count": 64,
   "metadata": {},
   "outputs": [
    {
     "data": {
      "text/plain": [
       "<matplotlib.axes._subplots.AxesSubplot at 0x1876cba5f60>"
      ]
     },
     "execution_count": 64,
     "metadata": {},
     "output_type": "execute_result"
    },
    {
     "data": {
      "image/png": "[encoded data removed]",
      "text/plain": [
       "<matplotlib.figure.Figure at 0x1876cb9d438>"
      ]
     },
     "metadata": {},
     "output_type": "display_data"
    }
   ],
   "source": [
    "artistDF.StdYear.plot(kind='hist',bins=[1,2,3,4,5,6,7,8,9,10,11,12,13,14,15,20])"
   ]
  },
  {
   "cell_type": "markdown",
   "metadata": {},
   "source": [
    "We see that the distribution of song from artist is positively skewed. Also some artist have really high standard deviation for song release ( more than 5 years ) which can be interesting for evolution of the same artist, to see if he released a popular song after an already popular one or the contrary what makes the popularity change in 2 of its song"
   ]
  },
  {
   "cell_type": "markdown",
   "metadata": {},
   "source": [
    "### Other Correlations"
   ]
  },
  {
   "cell_type": "code",
   "execution_count": 65,
   "metadata": {},
   "outputs": [
    {
     "data": {
      "image/png": "[encoded data removed]",
      "text/plain": [
       "<matplotlib.figure.Figure at 0x1876cb7f780>"
      ]
     },
     "metadata": {},
     "output_type": "display_data"
    }
   ],
   "source": [
    "x = normalized_df.Duration\n",
    "y = normalized_df.SongTempo\n",
    "xmin = x.min()\n",
    "xmax = x.max()\n",
    "ymin = y.min()\n",
    "ymax = y.max()\n",
    "\n",
    "fig, ax = plt.subplots()\n",
    "hb = ax.hexbin(x, y, gridsize=25, cmap=\"gist_yarg\")\n",
    "ax.axis([xmin, xmax, ymin - 5, ymax + 5])\n",
    "ax.set_title(\"Hexagon binning Duration, Tempo\")\n",
    "cb = fig.colorbar(hb, ax=ax)\n",
    "cb.set_label('counts')\n",
    "\n",
    "plt.show()"
   ]
  },
  {
   "cell_type": "markdown",
   "metadata": {},
   "source": [
    "As said previously, the duration and tempo of songs are quite clustered between [120-300] seconds and [90-160] BPM"
   ]
  },
  {
   "cell_type": "code",
   "execution_count": 66,
   "metadata": {},
   "outputs": [
    {
     "data": {
      "image/png": "[encoded data removed]",
      "text/plain": [
       "<matplotlib.figure.Figure at 0x1876ca74630>"
      ]
     },
     "metadata": {},
     "output_type": "display_data"
    }
   ],
   "source": [
    "x = normalized_df.SongLoudness\n",
    "y = normalized_df.SongHotness\n",
    "xmin = x.min()\n",
    "xmax = x.max()\n",
    "ymin = y.min()\n",
    "ymax = y.max()\n",
    "\n",
    "fig, ax = plt.subplots()\n",
    "hb = ax.hexbin(x, y, gridsize=20, cmap=\"gist_yarg\")\n",
    "ax.axis([xmin, xmax, ymin - 0.05, ymax + 0.05])\n",
    "ax.set_title(\"Hexagon binning Loudness, Hotness\")\n",
    "cb = fig.colorbar(hb, ax=ax)\n",
    "cb.set_label('counts')\n",
    "\n",
    "plt.show()"
   ]
  },
  {
   "cell_type": "markdown",
   "metadata": {},
   "source": [
    "We can see that most of the song are located in range 90-150 in BPM with duration between 120 - 300 seconds.  \n"
   ]
  },
  {
   "cell_type": "markdown",
   "metadata": {},
   "source": [
    "We can't do much more correlation analysis as few datas are correlated and we have a small subset so this is likely to change with a full dataset."
   ]
  },
  {
   "cell_type": "code",
   "execution_count": 67,
   "metadata": {},
   "outputs": [
    {
     "data": {
      "text/plain": [
       "1     [b'blue-eyed soul', b'pop rock', b'blues-rock'...\n",
       "3     [b'pop rock', b'new wave', b'dance rock', b'ro...\n",
       "4     [b'pop punk', b'ska punk', b'breakcore', b'alt...\n",
       "8     [b'new wave', b'progressive rock', b'space roc...\n",
       "14    [b'quiet storm', b'soft rock', b'pop', b'urban...\n",
       "Name: ArtistTerms, dtype: object"
      ]
     },
     "execution_count": 67,
     "metadata": {},
     "output_type": "execute_result"
    }
   ],
   "source": [
    "df.ArtistTerms.head()"
   ]
  },
  {
   "cell_type": "code",
   "execution_count": 68,
   "metadata": {},
   "outputs": [
    {
     "data": {
      "text/plain": [
       "1           [b'classic pop and rock']\n",
       "3     [b'uk', b'british', b'english']\n",
       "4                                  []\n",
       "8                                  []\n",
       "14               [b'soul and reggae']\n",
       "Name: ArtistMbtags, dtype: object"
      ]
     },
     "execution_count": 68,
     "metadata": {},
     "output_type": "execute_result"
    }
   ],
   "source": [
    "df.ArtistMbtags.head()"
   ]
  },
  {
   "cell_type": "markdown",
   "metadata": {},
   "source": [
    "Here we can see that the term of MbTags are more generic and some do not have any tags, while the tags from Terms are really variate.  \n",
    "We will further elaborate the genres in the next chapter."
   ]
  },
  {
   "cell_type": "markdown",
   "metadata": {},
   "source": [
    "## Feature Engineering"
   ]
  },
  {
   "cell_type": "markdown",
   "metadata": {},
   "source": [
    "The amout of different genres is too high. We want to reduce the number of genres.  \n",
    "Therefore we reduce the genres with an obtained json tree structure from http://musicmap.info/."
   ]
  },
  {
   "cell_type": "code",
   "execution_count": 69,
   "metadata": {},
   "outputs": [
    {
     "data": {
      "text/plain": [
       "{'(AVANT-GARDE) INDUSTRIAL': 'INDUSTRIAL &amp GOTHIC',\n",
       " '(DIRTY) SOUTH RAP, CRUNK and SNAP': 'RAP / HIP-HOP MUSIC',\n",
       " '(EARLY) GABBER': 'HARDCORE TECHNO',\n",
       " '(EARLY) POP ROCK and POWER POP': 'POP MUSIC',\n",
       " '(EARLY) RHYTHM N BLUES': 'RHYTHM N BLUES (R&B)',\n",
       " '(ELECTRIC) TEXAS BLUES': 'BLUES',\n",
       " '(FREE)TEK(K)NO': 'TECHNO',\n",
       " '(MERSEY)BEAT': 'GOLDEN AGE / CLASSIC ROCK',\n",
       " '(NEGRO) SPIRITUALS & WORKSONGS': 'GOSPEL &amp; PIONEERS',\n",
       " '(ROOTS) REGGAE': 'JAMAICAN (MUSIC) / REGGAE',\n",
       " '(WEST COAST) GANGSTA RAP': 'RAP / HIP-HOP MUSIC',\n",
       " 'ACID HOUSE': 'HOUSE',\n",
       " 'ACID JAZZ': 'JAZZ',\n",
       " 'ACID ROCK and PSYCHEDELIA': 'GOLDEN AGE / CLASSIC ROCK',\n",
       " 'ADULT CONTEMPORARY (A.C.)': 'POP MUSIC',\n",
       " 'AGGREPPO': 'INDUSTRIAL &amp GOTHIC',\n",
       " 'ALTERNATIVE': 'ALTERNATIVE ROCK / INDIE',\n",
       " 'ALTERNATIVE COUNTRY': 'COUNTRY',\n",
       " 'ALTERNATIVE ROCK': 'ALTERNATIVE ROCK / INDIE',\n",
       " 'AMBIENT': 'DOWNTEMPO / AMBIENT',\n",
       " 'AMBIENT BREAKS & ILLBIENT': 'DOWNTEMPO / AMBIENT',\n",
       " 'AMBIENT BREAKS and ILLBIENT': 'BREAKBEAT',\n",
       " 'AMBIENT DRUM N BASS and JAZZSTEP': \"DRUM N BASS (D'N'B) / JUNGLE\",\n",
       " 'AMBIENT HOUSE': 'DOWNTEMPO / AMBIENT',\n",
       " 'AMBIENT TECHNO & IDM (INTELLIGENT DANCE MUSIC)': 'DOWNTEMPO / AMBIENT',\n",
       " 'AMERICAN and BRITISH FOLK REVIVAL': \"ROCK N ROLL (R'N'R)\",\n",
       " 'AMERICANA': 'COUNTRY',\n",
       " 'ANARCHO-PUNK, CRUST PUNK and D-BEAT': 'HARDCORE PUNK',\n",
       " 'ASIAN POP': 'POP MUSIC',\n",
       " 'AVANT-GARDE (JAZZ)': 'JAZZ',\n",
       " 'BAKERSFIELD': 'COUNTRY',\n",
       " 'BASSLINE and UK FUNKY': \"DRUM N BASS (D'N'B) / JUNGLE\",\n",
       " 'BEBOP': 'JAZZ',\n",
       " 'BIG BAND': 'JAZZ',\n",
       " 'BIT MUSIC': 'DOWNTEMPO / AMBIENT',\n",
       " 'BLACK METAL': 'HEAVY METAL',\n",
       " 'BLUEGRASS': 'COUNTRY',\n",
       " 'BLUES': 'BLUES',\n",
       " 'BOOGIE': 'RHYTHM N BLUES (R&B)',\n",
       " 'BOOGIE WOOGIE': 'BLUES',\n",
       " 'BREAKBEAT': 'BREAKBEAT',\n",
       " 'BREAKBEAT GARAGE and GRIME': \"DRUM N BASS (D'N'B) / JUNGLE\",\n",
       " 'BREAKBEAT HARDCORE (RAVE II)': 'BREAKBEAT',\n",
       " 'BREAKBEAT HARDCORE and PIANO HOUSE (RAVE II)': 'HARDCORE TECHNO',\n",
       " 'BRILL BUILDING POP & CROONERS': 'POP MUSIC',\n",
       " 'BRITISH BLUES and BLUES ROCK': 'BLUES',\n",
       " 'BRITISH INVASION': 'GOLDEN AGE / CLASSIC ROCK',\n",
       " 'BRITPOP': 'POP MUSIC',\n",
       " 'BROKEN BEATS': 'BREAKBEAT',\n",
       " 'BUBBLEGUM and TEENYBOP': 'POP MUSIC',\n",
       " 'CCM (CONTEMPORARY CHRISTIAN MUSIC)': 'GOSPEL &amp; PIONEERS',\n",
       " 'CHEMICAL BREAKS and BIG BEAT': 'BREAKBEAT',\n",
       " 'CHICAGO BLUES': 'BLUES',\n",
       " 'CHICAGO HOUSE and GARAGE HOUSE': 'HOUSE',\n",
       " 'CHICAGO JAZZ': 'JAZZ',\n",
       " 'CHICAGO SOUL and DETROIT SOUL (MOTOWN)': 'RHYTHM N BLUES (R&B)',\n",
       " 'CHILL-OUT': 'DOWNTEMPO / AMBIENT',\n",
       " 'CITY BLUES': 'BLUES',\n",
       " 'CLASSIC BLUES': 'BLUES',\n",
       " 'CLASSIC COUNTRY': 'COUNTRY',\n",
       " 'CLASSIC METAL': 'HEAVY METAL',\n",
       " 'CLASSIC TRANCE and ACID TRANCE': 'TRANCE',\n",
       " 'CLASSICROCK': 'GOLDEN AGE / CLASSIC ROCK',\n",
       " 'CLICKS N CUTS': 'DOWNTEMPO / AMBIENT',\n",
       " 'CONTEMPORARY': 'CONTEMPORARY ROCK',\n",
       " 'CONTEMPORARY COUNTRY': 'COUNTRY',\n",
       " 'COOL JAZZ & WEST COAST JAZZ': 'JAZZ',\n",
       " 'COUNTRY': 'COUNTRY',\n",
       " 'COUNTRY BLUES': 'BLUES',\n",
       " 'COUNTRY POP and COUNTRY ROCK': 'COUNTRY',\n",
       " 'COUNTRYPOLITAN': 'COUNTRY',\n",
       " 'CROSSOVER THRASH': 'HARDCORE PUNK',\n",
       " 'DANCE POP': 'POP MUSIC',\n",
       " 'DANCE-PUNK and NU RAVE': 'CONTEMPORARY ROCK',\n",
       " 'DANCEHALL': 'JAMAICAN (MUSIC) / REGGAE',\n",
       " 'DARK AMBIENT': 'DOWNTEMPO / AMBIENT',\n",
       " 'DARK INDUSTRIAL': 'DOWNTEMPO / AMBIENT',\n",
       " 'DARKCORE and DARKSTEP': 'HARDCORE TECHNO',\n",
       " 'DARKWAVE and COLDWAVE': 'INDUSTRIAL &amp GOTHIC',\n",
       " 'DEATH METAL': 'HEAVY METAL',\n",
       " 'DEEP FUNK': 'RHYTHM N BLUES (R&B)',\n",
       " 'DEEP HOUSE': 'HOUSE',\n",
       " 'DEEP SOUL': 'RHYTHM N BLUES (R&B)',\n",
       " 'DETROIT TECHNO': 'TECHNO',\n",
       " 'DIGITAL HARDCORE and BREAKCORE': 'HARDCORE TECHNO',\n",
       " 'DIGITAL MINIMALISM': 'DOWNTEMPO / AMBIENT',\n",
       " 'DISCO': 'RHYTHM N BLUES (R&B)',\n",
       " 'DISCOPOP': 'POP MUSIC',\n",
       " 'DISCORE': 'HARDCORE PUNK',\n",
       " 'DOO WOP': 'RHYTHM N BLUES (R&B)',\n",
       " 'DOOM METAL': 'HEAVY METAL',\n",
       " 'DOWNTEMPO': 'DOWNTEMPO / AMBIENT',\n",
       " 'DREAM POP & SHOEGAZE': 'POP MUSIC',\n",
       " 'DREAM POP and SHOEGAZE': 'ALTERNATIVE ROCK / INDIE',\n",
       " \"DRUM'N'BASS\": \"DRUM N BASS (D'N'B) / JUNGLE\",\n",
       " 'DUB': 'JAMAICAN (MUSIC) / REGGAE',\n",
       " 'DUBSTEP': \"DRUM N BASS (D'N'B) / JUNGLE\",\n",
       " 'EARLY FUNK and P-FUNK': 'RHYTHM N BLUES (R&B)',\n",
       " 'EAST COAST GANGSTA RAP': 'RAP / HIP-HOP MUSIC',\n",
       " 'EDM TRAP': 'BREAKBEAT',\n",
       " 'ELECTRO': 'BREAKBEAT',\n",
       " 'ELECTRO HOUSE and DUTCH HOUSE': 'HOUSE',\n",
       " 'ELECTRO JAZZ': 'JAZZ',\n",
       " 'ELECTRO SWING': 'JAZZ',\n",
       " 'ELECTRO-INDUSTRIAL': 'INDUSTRIAL &amp GOTHIC',\n",
       " 'ELECTROCLASH (NU WAVE)': 'POP MUSIC',\n",
       " 'ELECTROFUNK': 'RHYTHM N BLUES (R&B)',\n",
       " 'ELECTRONIC BODY MUSIC': 'INDUSTRIAL &amp GOTHIC',\n",
       " 'ELECTRONICA': 'DOWNTEMPO / AMBIENT',\n",
       " 'ELECTROPOP': 'POP MUSIC',\n",
       " 'ELEVATOR MUSIC': 'DOWNTEMPO / AMBIENT',\n",
       " 'EMO-ROCK': 'CONTEMPORARY ROCK',\n",
       " 'EPIC TRANCE': 'TRANCE',\n",
       " 'EURODISCO': 'POP MUSIC',\n",
       " 'EUROTRANCE and VOCAL TRANCE': 'TRANCE',\n",
       " 'EXOTICA': 'DOWNTEMPO / AMBIENT',\n",
       " 'EXTREME METAL (BLACK I and SPEED)': 'HEAVY METAL',\n",
       " 'FIDGET HOUSE and COMPLEXTRO': 'HOUSE',\n",
       " 'FLORIDA BREAKS (and FUNKY BREAKS)': 'BREAKBEAT',\n",
       " 'FOLK BLUES (& DELTA BLUES)': 'BLUES',\n",
       " 'FOLK ROCK': 'GOLDEN AGE / CLASSIC ROCK',\n",
       " 'FREE JAZZ': 'JAZZ',\n",
       " 'FREESTYLE and BREAKDANCE': 'BREAKBEAT',\n",
       " 'FRENCH HOUSE and FUNKY HOUSE': 'HOUSE',\n",
       " 'FUSION': 'JAZZ',\n",
       " 'FUTURE BASS': \"DRUM N BASS (D'N'B) / JUNGLE\",\n",
       " 'FUTURE GARAGE': \"DRUM N BASS (D'N'B) / JUNGLE\",\n",
       " 'FUTUREPOP': 'INDUSTRIAL &amp GOTHIC',\n",
       " 'GARAGE ROCK': \"ROCK N ROLL (R'N'R)\",\n",
       " 'GARAGE and POST-PUNK REVIVALS': 'CONTEMPORARY ROCK',\n",
       " 'GHETTO HOUSE, GHETTOTECH & JUKE': 'HOUSE',\n",
       " 'GHETTO HOUSE, GHETTOTECH and JUKE': 'TECHNO',\n",
       " 'GLAM METAL': 'HEAVY METAL',\n",
       " 'GLAM ROCK': 'GOLDEN AGE / CLASSIC ROCK',\n",
       " 'GLITCH': 'DOWNTEMPO / AMBIENT',\n",
       " 'GLITCH HOP and WONKY': 'BREAKBEAT',\n",
       " 'GLITTER ROCK': 'GOLDEN AGE / CLASSIC ROCK',\n",
       " 'GO-GO (& BOUNCE BEAT)': 'RHYTHM N BLUES (R&B)',\n",
       " 'GOA TRANCE and PSYTRANCE': 'TRANCE',\n",
       " 'GOLDEN AGE RAP (and HARDCORE RAP)': 'RAP / HIP-HOP MUSIC',\n",
       " 'GOLDENAGE': 'GOLDEN AGE / CLASSIC ROCK',\n",
       " 'GOSPEL': 'GOSPEL &amp; PIONEERS',\n",
       " 'GOTHIC': 'INDUSTRIAL &amp GOTHIC',\n",
       " 'GOTHIC ROCK and DEATHROCK': 'INDUSTRIAL &amp GOTHIC',\n",
       " 'GRINDCORE': 'HARDCORE PUNK',\n",
       " 'GRUNGE': 'ALTERNATIVE ROCK / INDIE',\n",
       " 'HAIR METAL': 'HEAVY METAL',\n",
       " 'HAPPY HARDCORE and BOUNCY TECHNO': 'HARDCORE TECHNO',\n",
       " 'HARD BOP': 'JAZZ',\n",
       " 'HARD ROCK': 'GOLDEN AGE / CLASSIC ROCK',\n",
       " 'HARDCORE': 'HARDCORE TECHNO',\n",
       " 'HARDCORE COUNTRY': 'COUNTRY',\n",
       " 'HARDCORE TECHNO': 'TECHNO',\n",
       " 'HARDSTEP and TECHSTEP': \"DRUM N BASS (D'N'B) / JUNGLE\",\n",
       " 'HARDSTYLE (& JUMPSTYLE)': 'HARDCORE TECHNO',\n",
       " 'HARDTECHNO (SCHRANZ II)': 'TECHNO',\n",
       " 'HARDTEK': 'TECHNO',\n",
       " 'HARDTRANCE': 'TRANCE',\n",
       " 'HEARTLAND ROCK and A.O.R. (ADULT ORIENTED ROCK)': 'GOLDEN AGE / CLASSIC ROCK',\n",
       " 'HEAVY': 'HEAVY METAL',\n",
       " 'HI-NRG': 'POP MUSIC',\n",
       " 'HILL COUNTRY BLUES & TRANCE BLUES': 'BLUES',\n",
       " 'HILLBILLY': 'COUNTRY',\n",
       " 'HIP HOUSE and EURODANCE': 'HOUSE',\n",
       " 'HIP-HOPMUSIC': 'RAP / HIP-HOP MUSIC',\n",
       " 'HONKY TONK': 'COUNTRY',\n",
       " 'HORROR PUNK and PSYCHOBILLY': 'PUNK ROCK / NEW WAVE',\n",
       " 'HOUSE': 'HOUSE',\n",
       " 'IBIZA HOUSE and DREAM HOUSE': 'HOUSE',\n",
       " 'IBIZA TRANCE and DREAM TRANCE': 'TRANCE',\n",
       " 'INDIE': 'ALTERNATIVE ROCK / INDIE',\n",
       " 'INDIE FOLK and FREAKFOLK': 'POP MUSIC',\n",
       " 'INDIE II': 'ALTERNATIVE ROCK / INDIE',\n",
       " 'INDIE POP (TWEE)': 'POP MUSIC',\n",
       " 'INDIE ROCK (and PAISLEY UNDERGROUND)': 'ALTERNATIVE ROCK / INDIE',\n",
       " 'INDIETRONICA and CHILLWAVE': 'POP MUSIC',\n",
       " 'INDUSTRIAL': 'INDUSTRIAL &amp GOTHIC',\n",
       " 'INDUSTRIAL METAL': 'INDUSTRIAL &amp GOTHIC',\n",
       " 'INDUSTRIAL ROCK': 'INDUSTRIAL &amp GOTHIC',\n",
       " 'INDUSTRIAL TECHNO and SCHRANZ': 'TECHNO',\n",
       " 'INSTRUMENTAL': \"ROCK N ROLL (R'N'R)\",\n",
       " 'INTELLIGENT': \"DRUM N BASS (D'N'B) / JUNGLE\",\n",
       " 'JAMAICAN': 'JAMAICAN (MUSIC) / REGGAE',\n",
       " 'JANGLE POP': 'ALTERNATIVE ROCK / INDIE',\n",
       " 'JAZZ': 'JAZZ',\n",
       " 'JAZZ FUNK': 'JAZZ',\n",
       " 'JAZZ RAP': 'RAP / HIP-HOP MUSIC',\n",
       " 'JAZZ ROCK': 'JAZZ',\n",
       " 'JAZZDANCE': 'JAZZ',\n",
       " 'JUMP BLUES': 'BLUES',\n",
       " 'JUMP UP': \"DRUM N BASS (D'N'B) / JUNGLE\",\n",
       " 'JUNGLE': \"DRUM N BASS (D'N'B) / JUNGLE\",\n",
       " 'KRAUTROCK': 'GOLDEN AGE / CLASSIC ROCK',\n",
       " 'LIQUID FUNK': \"DRUM N BASS (D'N'B) / JUNGLE\",\n",
       " 'LOUISIANA BLUES': 'BLUES',\n",
       " 'LOUNGE': 'DOWNTEMPO / AMBIENT',\n",
       " \"LOVER'S ROCK and UK REGGAE\": 'JAMAICAN (MUSIC) / REGGAE',\n",
       " 'LOWERCASE': 'DOWNTEMPO / AMBIENT',\n",
       " 'MAINSTREAM HARDCORE': 'HARDCORE TECHNO',\n",
       " 'MATH ROCK and MATHCORE': 'ALTERNATIVE ROCK / INDIE',\n",
       " 'MEMPHIS SOUL': 'RHYTHM N BLUES (R&B)',\n",
       " 'MENTO': 'JAMAICAN (MUSIC) / REGGAE',\n",
       " 'METAL': 'HEAVY METAL',\n",
       " 'METALCORE': 'HARDCORE PUNK',\n",
       " 'MIAMI BASS and BOUNCE': 'RAP / HIP-HOP MUSIC',\n",
       " 'MICROHOUSE': 'HOUSE',\n",
       " 'MINIMAL HOUSE': 'HOUSE',\n",
       " 'MINIMAL TECHNO': 'TECHNO',\n",
       " 'MINIMAL WAVE': 'DOWNTEMPO / AMBIENT',\n",
       " 'MINIMALISM': 'DOWNTEMPO / AMBIENT',\n",
       " 'MODERN GOSPEL': 'GOSPEL &amp; PIONEERS',\n",
       " 'MOOMBAHTON': 'HOUSE',\n",
       " 'MUSIC': 'JAMAICAN (MUSIC) / REGGAE',\n",
       " 'MUSIQUE CONCRETE': 'DOWNTEMPO / AMBIENT',\n",
       " 'MUZAK': 'DOWNTEMPO / AMBIENT',\n",
       " 'NASHVILLE': 'COUNTRY',\n",
       " 'NATIVE TONGUE': 'RAP / HIP-HOP MUSIC',\n",
       " 'NEO SOUL': 'RHYTHM N BLUES (R&B)',\n",
       " 'NEO-TRANCE': 'TRANCE',\n",
       " 'NEOTRADITIONALISTS': 'COUNTRY',\n",
       " 'NEUROFUNK': \"DRUM N BASS (D'N'B) / JUNGLE\",\n",
       " 'NEW': 'PUNK ROCK / NEW WAVE',\n",
       " 'NEW AGE': 'DOWNTEMPO / AMBIENT',\n",
       " 'NEW BEAT': 'TECHNO',\n",
       " 'NEW JACK SWING': 'RHYTHM N BLUES (R&B)',\n",
       " 'NEW ORLEANS  & DIXIELAND JAZZ REVIVALS': 'JAZZ',\n",
       " 'NEW ORLEANS JAZZ & DIXIELAND JAZZ': 'JAZZ',\n",
       " 'NEW PROG': 'CONTEMPORARY ROCK',\n",
       " 'NEW WAVE': 'PUNK ROCK / NEW WAVE',\n",
       " 'NEW WEIRD AMERICA': 'POP MUSIC',\n",
       " 'NO WAVE': 'PUNK ROCK / NEW WAVE',\n",
       " 'NOISE MUSIC': 'INDUSTRIAL &amp GOTHIC',\n",
       " 'NOISE ROCK': 'ALTERNATIVE ROCK / INDIE',\n",
       " 'NORDIC JAZZ': 'JAZZ',\n",
       " 'NRG, HARD NRG and (UK) HARD HOUSE': 'TRANCE',\n",
       " 'NU DISCO and FUNKTRONICA': 'HOUSE',\n",
       " 'NU JAZZ': 'JAZZ',\n",
       " 'NU METAL and RAP METAL': 'HEAVY METAL',\n",
       " 'NU PROG': 'CONTEMPORARY ROCK',\n",
       " 'NU SKOOL BREAKS': 'BREAKBEAT',\n",
       " 'NU SKOOL RAP': 'RAP / HIP-HOP MUSIC',\n",
       " 'NU SOUL': 'RHYTHM N BLUES (R&B)',\n",
       " 'NU STYLE (GABBER)': 'HARDCORE TECHNO',\n",
       " 'NU-RAWK': 'CONTEMPORARY ROCK',\n",
       " 'NWOAHM (NEW WAVE OF AMERICAN HEAVY METAL)': 'HARDCORE PUNK',\n",
       " 'NWOBHM (NEW WAVE OF BRITISH HEAVY METAL)': 'HEAVY METAL',\n",
       " 'OLD SKOOL JUNGLE and OLD SKOOL DRUM N BASS': \"DRUM N BASS (D'N'B) / JUNGLE\",\n",
       " 'OLD SKOOL RAP PIONEERS': 'RAP / HIP-HOP MUSIC',\n",
       " 'ORIGINAL HARDCORE (PUNK)': 'HARDCORE PUNK',\n",
       " 'PHILLY SOUL': 'RHYTHM N BLUES (R&B)',\n",
       " 'PIANO BLUES': 'BLUES',\n",
       " 'PIONEERS': 'GOSPEL &amp; PIONEERS',\n",
       " 'POP': 'POP MUSIC',\n",
       " 'POP (NU R&B I)': 'RHYTHM N BLUES (R&B)',\n",
       " 'POP METAL': 'HEAVY METAL',\n",
       " 'POST PROG (ROCK)': 'CONTEMPORARY ROCK',\n",
       " 'POST-BRITPOP': 'POP MUSIC',\n",
       " 'POST-DISCO': 'POP MUSIC',\n",
       " 'POST-DUBSTEP': \"DRUM N BASS (D'N'B) / JUNGLE\",\n",
       " 'POST-GRUNGE': 'ALTERNATIVE ROCK / INDIE',\n",
       " 'POST-HARDCORE, EMO(CORE) and SCREAMO': 'HARDCORE PUNK',\n",
       " 'POST-PUNK': 'PUNK ROCK / NEW WAVE',\n",
       " 'POST-ROCK': 'ALTERNATIVE ROCK / INDIE',\n",
       " 'POWER METAL': 'HEAVY METAL',\n",
       " 'PROGRESSIVE COUNTRY and OUTLAW COUNTRY': 'COUNTRY',\n",
       " 'PROGRESSIVE HOUSE': 'HOUSE',\n",
       " 'PROGRESSIVE JAZZ & MODAL JAZZ': 'JAZZ',\n",
       " 'PROGRESSIVE METAL': 'HEAVY METAL',\n",
       " 'PROGRESSIVE RAP': 'RAP / HIP-HOP MUSIC',\n",
       " 'PROGRESSIVE ROCK, ART ROCK and SYMPHONIC ROCK': 'GOLDEN AGE / CLASSIC ROCK',\n",
       " 'PROGRESSIVE TRANCE': 'TRANCE',\n",
       " 'PSYCHEDELIC': 'GOLDEN AGE / CLASSIC ROCK',\n",
       " 'PUB ROCK and PROTO PUNK': 'PUNK ROCK / NEW WAVE',\n",
       " 'PUNK': 'HARDCORE PUNK',\n",
       " 'PUNK ROCK': 'PUNK ROCK / NEW WAVE',\n",
       " 'RAGGA': 'JAMAICAN (MUSIC) / REGGAE',\n",
       " 'RAGTIME & STRIDE': 'GOSPEL &amp; PIONEERS',\n",
       " 'RAP': 'RAP / HIP-HOP MUSIC',\n",
       " 'RAP ROCK, RAPCORE and FUNK METAL': 'ALTERNATIVE ROCK / INDIE',\n",
       " 'RARE GROOVE and NU FUNK': 'RHYTHM N BLUES (R&B)',\n",
       " 'RAVE': 'TECHNO',\n",
       " 'REGGAE': 'JAMAICAN (MUSIC) / REGGAE',\n",
       " 'REGGAE FUSION and BHANGRAMUFFIN': 'JAMAICAN (MUSIC) / REGGAE',\n",
       " 'REGGAETÓN and LATIN RAP': 'RAP / HIP-HOP MUSIC',\n",
       " 'RELIPOP & -ROCK': 'GOSPEL &amp; PIONEERS',\n",
       " \"RHYTHM'N'BLUES\": 'RHYTHM N BLUES (R&B)',\n",
       " 'ROCK': 'CONTEMPORARY ROCK',\n",
       " \"ROCK 'N ROLL and ROCKABILLY\": \"ROCK N ROLL (R'N'R)\",\n",
       " 'ROCK and SLUDGE METAL': 'HEAVY METAL',\n",
       " \"ROCK'N'ROLL\": \"ROCK N ROLL (R'N'R)\",\n",
       " 'ROCKSTEADY': 'JAMAICAN (MUSIC) / REGGAE',\n",
       " 'SCHLAGER': 'POP MUSIC',\n",
       " 'SHOCK ROCK': 'GOLDEN AGE / CLASSIC ROCK',\n",
       " 'SINGER': 'POP MUSIC',\n",
       " 'SKA': 'JAMAICAN (MUSIC) / REGGAE',\n",
       " 'SKA REVIVAL (2-TONE), SKA PUNK and SKACORE': 'JAMAICAN (MUSIC) / REGGAE',\n",
       " 'SKATE PUNK and POP PUNK': 'ALTERNATIVE ROCK / INDIE',\n",
       " 'SKIFFLE (REVIVAL)': 'POP MUSIC',\n",
       " 'SMOOTH JAZZ': 'JAZZ',\n",
       " 'SOFT ROCK': 'POP MUSIC',\n",
       " 'SONGWRITER': 'POP MUSIC',\n",
       " 'SOUL BLUES (SOUTHERN SOUL II)': 'BLUES',\n",
       " 'SOUL JAZZ': 'JAZZ',\n",
       " 'SOUTHERN ROCK': 'GOLDEN AGE / CLASSIC ROCK',\n",
       " 'SOUTHERN SOUL': 'RHYTHM N BLUES (R&B)',\n",
       " 'SPACE AGE POP': 'DOWNTEMPO / AMBIENT',\n",
       " 'SPEEDCORE, FRENCHCORE and TERRORCORE': 'HARDCORE TECHNO',\n",
       " 'STONER METAL': 'HEAVY METAL',\n",
       " 'SURF ROCK': \"ROCK N ROLL (R'N'R)\",\n",
       " 'SWAMP BLUES': 'BLUES',\n",
       " 'SWING': 'JAZZ',\n",
       " 'SWINGBEAT': 'RHYTHM N BLUES (R&B)',\n",
       " 'SYMPHONIC METAL and GOTHIC METAL': 'HEAVY METAL',\n",
       " 'SYNTH': 'DOWNTEMPO / AMBIENT',\n",
       " 'SYNTH and MINIMAL INDUSTRIAL (REVIVAL)': 'DOWNTEMPO / AMBIENT',\n",
       " 'SYNTHCORE and CRUNKCORE': 'HARDCORE PUNK',\n",
       " 'SYNTHPOP and NEW ROMANTICS': 'POP MUSIC',\n",
       " 'SYNTHWAVE and VAPORWAVE': 'DOWNTEMPO / AMBIENT',\n",
       " 'TECH HOUSE': 'HOUSE',\n",
       " 'TECH TRANCE': 'TRANCE',\n",
       " 'TECHNO': 'TECHNO',\n",
       " 'TEXAS BLUESROCK & MODERN ELECTRIC BLUES': 'BLUES',\n",
       " 'THIRD STREAM': 'JAZZ',\n",
       " 'THRASH METAL': 'HEAVY METAL',\n",
       " 'TRADITIONAL GOSPEL': 'GOSPEL &amp; PIONEERS',\n",
       " 'TRANCE': 'TRANCE',\n",
       " 'TRANCECORE and ACIDCORE': 'TRANCE',\n",
       " 'TRAP and DRILL': 'RAP / HIP-HOP MUSIC',\n",
       " 'TRAPSTEP': 'BREAKBEAT',\n",
       " 'TRIP HOP': 'DOWNTEMPO / AMBIENT',\n",
       " 'UK GARAGE (2-STEP and SPEED GARAGE)': \"DRUM N BASS (D'N'B) / JUNGLE\",\n",
       " 'UK HARDCORE and FREEFORM': 'TRANCE',\n",
       " 'UPLIFTING TRANCE': 'TRANCE',\n",
       " 'URBAN BLUES': 'BLUES',\n",
       " 'URBAN BREAKS  (NU R&B II)': 'RAP / HIP-HOP MUSIC',\n",
       " 'URBAN BREAKS (NU R&B II)': 'RHYTHM N BLUES (R&B)',\n",
       " 'URBAN COUNTRY': 'COUNTRY',\n",
       " 'URBAN SOUL': 'RHYTHM N BLUES (R&B)',\n",
       " 'VAUDEVILLE': 'BLUES',\n",
       " 'VGM (CHIPTUNE and 8-BIT)': 'DOWNTEMPO / AMBIENT',\n",
       " 'WAVE': 'PUNK ROCK / NEW WAVE',\n",
       " 'WEST COAST BLUES': 'BLUES',\n",
       " 'WESTERN SWING': 'COUNTRY'}"
      ]
     },
     "execution_count": 69,
     "metadata": {},
     "output_type": "execute_result"
    }
   ],
   "source": [
    "\"\"\"\n",
    "Reduce the genres to a main genre using the provided json file\n",
    "\"\"\"\n",
    "# Main genres\n",
    "maingenre = ['inl','met','rnr','gld','pwv','hcp','alt','con','pop','cou','rnb','gos','blu','jaz','jam','rap','brb','dnb','hct','tec','hou','tra','dtp']\n",
    "\n",
    "genreTree = {}\n",
    "with urllib.request.urlopen('http://musicmap.info/master-genrelist.json') as url:\n",
    "    data = json.loads(url.read().decode())\n",
    "    \n",
    "    # check the first level\n",
    "    for x in maingenre: \n",
    "        name = data.get(x).get('name')\n",
    "        \n",
    "        # clean data\n",
    "        genreName = name.replace('<span class=\\'subtitle\\'>','')\n",
    "        genreName = genreName.replace('</span>','')\n",
    "        genreName = genreName.replace(' \\'N\\'',' N')\n",
    "        \n",
    "        # find genres\n",
    "        genreNames = re.findall(r'([A-Z]+\\s+\\'+[A-Z+\\'+\\s]*|[A-Z+\\s+\\-]+)',data.get(x).get('name'))\n",
    "        for g in genreNames:\n",
    "            if(len(g)>1):\n",
    "                # add to map\n",
    "                genreTree[g.replace(' ', '')] = genreName\n",
    "                \n",
    "        # check the second level\n",
    "        for subgenreEntry in data.get(x)[\"genrelist\"]:\n",
    "            \n",
    "            # clean data\n",
    "            subgenres = re.sub(r\"<a.*'>\", \"\", subgenreEntry)\n",
    "            subgenres = re.sub(r'</a>', \"\", subgenres)\n",
    "            subgenres = subgenres.replace('&amp','and')\n",
    "            subgenres = subgenres.replace(' \\'N\\'',' N')\n",
    "            \n",
    "            # find genres\n",
    "            subgenres = subgenres.split('/')\n",
    "            for subgenre in subgenres:\n",
    "                # add to map\n",
    "                genreTree[subgenre.strip(' ')] = genreName\n",
    "                \n",
    "genreTree"
   ]
  },
  {
   "cell_type": "markdown",
   "metadata": {},
   "source": [
    "Now we can reduce all genres to a few main genres. Let's see how the genres from both data sources match:"
   ]
  },
  {
   "cell_type": "code",
   "execution_count": 78,
   "metadata": {},
   "outputs": [],
   "source": [
    "# create a dict in order to identify how frequently the genres are used\n",
    "dicoGenre = {}\n",
    "for elem in genreTree.keys():\n",
    "    if(dicoGenre.get(genreTree[elem]) is None):\n",
    "        dicoGenre[genreTree[elem]]=0"
   ]
  },
  {
   "cell_type": "code",
   "execution_count": 79,
   "metadata": {},
   "outputs": [
    {
     "name": "stdout",
     "output_type": "stream",
     "text": [
      "Mbtags\n",
      "2645\n",
      "7803\n",
      "Echo Nest Terms\n",
      "66443\n",
      "66085\n",
      "{'INDUSTRIAL &amp GOTHIC': 975, 'GOLDEN AGE / CLASSIC ROCK': 3239, 'DOWNTEMPO / AMBIENT': 4223, 'HEAVY METAL': 5689, 'HARDCORE PUNK': 2290, 'CONTEMPORARY ROCK': 9233, \"ROCK N ROLL (R'N'R)\": 1351, 'POP MUSIC': 7440, 'BLUES': 2978, 'PUNK ROCK / NEW WAVE': 1358, 'JAMAICAN (MUSIC) / REGGAE': 2510, 'ALTERNATIVE ROCK / INDIE': 7498, 'HARDCORE TECHNO': 1482, 'COUNTRY': 2933, 'RHYTHM N BLUES (R&B)': 1141, 'HOUSE': 1816, 'GOSPEL &amp; PIONEERS': 323, 'JAZZ': 5094, 'RAP / HIP-HOP MUSIC': 1751, 'BREAKBEAT': 1186, \"DRUM N BASS (D'N'B) / JUNGLE\": 383, 'TECHNO': 825, 'TRANCE': 725}\n"
     ]
    }
   ],
   "source": [
    "# Check how good the genre dict performs on both genre lists\n",
    "cnt_hit = 0\n",
    "cnt_miss = 0\n",
    "print (\"Mbtags\")\n",
    "\n",
    "for songGenres in normalized_df['ArtistMbtags']:\n",
    "    for genre in songGenres:\n",
    "        if str(genre).upper() in genreTree.keys():\n",
    "            cnt_hit += 1\n",
    "        else:\n",
    "            cnt_miss += 1\n",
    "\n",
    "print (cnt_hit)\n",
    "print (cnt_miss)\n",
    "\n",
    "cnt_hit = 0\n",
    "cnt_miss = 0\n",
    "# performed better, so check number of songs per genre\n",
    "print (\"Echo Nest Terms\")\n",
    "\n",
    "for songGenres in normalized_df['ArtistTerms']:\n",
    "    for genre in songGenres:\n",
    "        genre = genre.replace('\\'n','n')\n",
    "        if str(genre).upper() in genreTree.keys():\n",
    "            # perfect match, add to dict\n",
    "            mainParentG = genreTree[genre.upper()]\n",
    "            dicoGenre[mainParentG] += 1\n",
    "            cnt_hit += 1\n",
    "        else:\n",
    "            # search if substring is contained \n",
    "            isGood = False\n",
    "            genreSplit = genre.split(' ')\n",
    "            for elem in genreSplit:\n",
    "                if str(elem).upper() in genreTree.keys() and (not str(elem).upper()=='MUSIC'):\n",
    "                    # substring matched\n",
    "                    mainParentG = genreTree[elem.upper()]\n",
    "                    dicoGenre[mainParentG] +=1\n",
    "                    cnt_hit +=1\n",
    "                    isGood = True\n",
    "                    break\n",
    "            if (not isGood):\n",
    "                # not substring found\n",
    "                cnt_miss +=1\n",
    "\n",
    "print (cnt_hit)\n",
    "print (cnt_miss)\n",
    "print (dicoGenre)"
   ]
  },
  {
   "cell_type": "markdown",
   "metadata": {},
   "source": [
    "We have a 50/50 matching for terms, only unknow genre are not hited by the filter that we do not want to analyse.\n",
    "We can dedcide later if we want to introduce this or another filter but we keep this one for the moment\n",
    "For the dictionnary it needs some reworks, as we can add a several time the same tag to a song ( if it has rock and pop rock and hard rock tags for example )"
   ]
  },
  {
   "cell_type": "markdown",
   "metadata": {},
   "source": [
    "## Manipulation on some of the columns"
   ]
  },
  {
   "cell_type": "markdown",
   "metadata": {},
   "source": [
    "Here we do some feature extraction, features normalization was done before, and some fetching of other datas from other API"
   ]
  },
  {
   "cell_type": "markdown",
   "metadata": {},
   "source": [
    "First we will create an additional column for the confidence features to process them more easy in the future."
   ]
  },
  {
   "cell_type": "code",
   "execution_count": 72,
   "metadata": {},
   "outputs": [],
   "source": [
    "normalized_df['SongTimeWithConfidence'] = df['SongTimeSignature']*df['SongTimeSignatureConfidence']"
   ]
  },
  {
   "cell_type": "code",
   "execution_count": 73,
   "metadata": {},
   "outputs": [],
   "source": [
    "normalized_df['SongKeyWithConfidence'] = df['SongKey']*df['SongKeyConfidence']"
   ]
  },
  {
   "cell_type": "code",
   "execution_count": 74,
   "metadata": {},
   "outputs": [
    {
     "data": {
      "text/html": [
       "<div>\n",
       "<style>\n",
       "    .dataframe thead tr:only-child th {\n",
       "        text-align: right;\n",
       "    }\n",
       "\n",
       "    .dataframe thead th {\n",
       "        text-align: left;\n",
       "    }\n",
       "\n",
       "    .dataframe tbody tr th {\n",
       "        vertical-align: top;\n",
       "    }\n",
       "</style>\n",
       "<table border=\"1\" class=\"dataframe\">\n",
       "  <thead>\n",
       "    <tr style=\"text-align: right;\">\n",
       "      <th></th>\n",
       "      <th>ArtistID</th>\n",
       "      <th>ArtistName</th>\n",
       "      <th>SongYear</th>\n",
       "      <th>SongID</th>\n",
       "      <th>Duration</th>\n",
       "      <th>SongHotness</th>\n",
       "      <th>SongTitle</th>\n",
       "      <th>SongTempo</th>\n",
       "      <th>SongTimeSignature</th>\n",
       "      <th>SongTimeSignatureConfidence</th>\n",
       "      <th>...</th>\n",
       "      <th>ArtistLocation</th>\n",
       "      <th>ArtistLatitude</th>\n",
       "      <th>ArtistLongitude</th>\n",
       "      <th>SongKey</th>\n",
       "      <th>SongKeyConfidence</th>\n",
       "      <th>SongLoudness</th>\n",
       "      <th>ArtistHotness</th>\n",
       "      <th>SongYearNorm</th>\n",
       "      <th>SongTimeWithConfidence</th>\n",
       "      <th>SongKeyWithConfidence</th>\n",
       "    </tr>\n",
       "  </thead>\n",
       "  <tbody>\n",
       "    <tr>\n",
       "      <th>1</th>\n",
       "      <td>ARMJAGH1187FB546F3</td>\n",
       "      <td>The Box Tops</td>\n",
       "      <td>1969</td>\n",
       "      <td>b'SOCIWDW12A8C13D406'</td>\n",
       "      <td>148.03546</td>\n",
       "      <td>NaN</td>\n",
       "      <td>Soul Deep</td>\n",
       "      <td>121.274</td>\n",
       "      <td>4</td>\n",
       "      <td>0.384</td>\n",
       "      <td>...</td>\n",
       "      <td>Memphis, TN</td>\n",
       "      <td>35.14968</td>\n",
       "      <td>-90.04892</td>\n",
       "      <td>6</td>\n",
       "      <td>0.169</td>\n",
       "      <td>-9.843</td>\n",
       "      <td>0.417500</td>\n",
       "      <td>0.511905</td>\n",
       "      <td>1.536</td>\n",
       "      <td>1.014</td>\n",
       "    </tr>\n",
       "    <tr>\n",
       "      <th>3</th>\n",
       "      <td>AR7G5I41187FB4CE6C</td>\n",
       "      <td>Adam Ant</td>\n",
       "      <td>1982</td>\n",
       "      <td>b'SONHOTT12A8C13493C'</td>\n",
       "      <td>233.40363</td>\n",
       "      <td>NaN</td>\n",
       "      <td>Something Girls</td>\n",
       "      <td>119.293</td>\n",
       "      <td>4</td>\n",
       "      <td>0.000</td>\n",
       "      <td>...</td>\n",
       "      <td>London, England</td>\n",
       "      <td>NaN</td>\n",
       "      <td>NaN</td>\n",
       "      <td>0</td>\n",
       "      <td>0.751</td>\n",
       "      <td>-9.013</td>\n",
       "      <td>0.454231</td>\n",
       "      <td>0.666667</td>\n",
       "      <td>0.000</td>\n",
       "      <td>0.000</td>\n",
       "    </tr>\n",
       "    <tr>\n",
       "      <th>4</th>\n",
       "      <td>ARXR32B1187FB57099</td>\n",
       "      <td>Gob</td>\n",
       "      <td>2007</td>\n",
       "      <td>b'SOFSOCN12A8C143F5D'</td>\n",
       "      <td>209.60608</td>\n",
       "      <td>0.604501</td>\n",
       "      <td>Face the Ashes</td>\n",
       "      <td>129.738</td>\n",
       "      <td>4</td>\n",
       "      <td>0.562</td>\n",
       "      <td>...</td>\n",
       "      <td></td>\n",
       "      <td>NaN</td>\n",
       "      <td>NaN</td>\n",
       "      <td>2</td>\n",
       "      <td>0.092</td>\n",
       "      <td>-4.501</td>\n",
       "      <td>0.401724</td>\n",
       "      <td>0.964286</td>\n",
       "      <td>2.248</td>\n",
       "      <td>0.184</td>\n",
       "    </tr>\n",
       "    <tr>\n",
       "      <th>8</th>\n",
       "      <td>AR8ZCNI1187B9A069B</td>\n",
       "      <td>Planet P Project</td>\n",
       "      <td>1984</td>\n",
       "      <td>b'SOIAZJW12AB01853F1'</td>\n",
       "      <td>269.81832</td>\n",
       "      <td>0.265861</td>\n",
       "      <td>Pink World</td>\n",
       "      <td>86.643</td>\n",
       "      <td>4</td>\n",
       "      <td>0.487</td>\n",
       "      <td>...</td>\n",
       "      <td></td>\n",
       "      <td>NaN</td>\n",
       "      <td>NaN</td>\n",
       "      <td>4</td>\n",
       "      <td>0.717</td>\n",
       "      <td>-13.496</td>\n",
       "      <td>0.332276</td>\n",
       "      <td>0.690476</td>\n",
       "      <td>1.948</td>\n",
       "      <td>2.868</td>\n",
       "    </tr>\n",
       "    <tr>\n",
       "      <th>14</th>\n",
       "      <td>ARIK43K1187B9AE54C</td>\n",
       "      <td>Lionel Richie</td>\n",
       "      <td>1986</td>\n",
       "      <td>b'SOBONFF12A6D4F84D8'</td>\n",
       "      <td>307.38240</td>\n",
       "      <td>NaN</td>\n",
       "      <td>Tonight Will Be Alright</td>\n",
       "      <td>125.197</td>\n",
       "      <td>3</td>\n",
       "      <td>0.211</td>\n",
       "      <td>...</td>\n",
       "      <td>Beverly Hills, CA</td>\n",
       "      <td>NaN</td>\n",
       "      <td>NaN</td>\n",
       "      <td>3</td>\n",
       "      <td>0.524</td>\n",
       "      <td>-8.346</td>\n",
       "      <td>0.553072</td>\n",
       "      <td>0.714286</td>\n",
       "      <td>0.633</td>\n",
       "      <td>1.572</td>\n",
       "    </tr>\n",
       "  </tbody>\n",
       "</table>\n",
       "<p>5 rows × 22 columns</p>\n",
       "</div>"
      ],
      "text/plain": [
       "              ArtistID        ArtistName  SongYear                 SongID  \\\n",
       "1   ARMJAGH1187FB546F3      The Box Tops      1969  b'SOCIWDW12A8C13D406'   \n",
       "3   AR7G5I41187FB4CE6C          Adam Ant      1982  b'SONHOTT12A8C13493C'   \n",
       "4   ARXR32B1187FB57099               Gob      2007  b'SOFSOCN12A8C143F5D'   \n",
       "8   AR8ZCNI1187B9A069B  Planet P Project      1984  b'SOIAZJW12AB01853F1'   \n",
       "14  ARIK43K1187B9AE54C     Lionel Richie      1986  b'SOBONFF12A6D4F84D8'   \n",
       "\n",
       "     Duration  SongHotness                SongTitle  SongTempo  \\\n",
       "1   148.03546          NaN                Soul Deep    121.274   \n",
       "3   233.40363          NaN          Something Girls    119.293   \n",
       "4   209.60608     0.604501           Face the Ashes    129.738   \n",
       "8   269.81832     0.265861               Pink World     86.643   \n",
       "14  307.38240          NaN  Tonight Will Be Alright    125.197   \n",
       "\n",
       "    SongTimeSignature  SongTimeSignatureConfidence          ...            \\\n",
       "1                   4                        0.384          ...             \n",
       "3                   4                        0.000          ...             \n",
       "4                   4                        0.562          ...             \n",
       "8                   4                        0.487          ...             \n",
       "14                  3                        0.211          ...             \n",
       "\n",
       "       ArtistLocation ArtistLatitude ArtistLongitude  SongKey  \\\n",
       "1         Memphis, TN       35.14968       -90.04892        6   \n",
       "3     London, England            NaN             NaN        0   \n",
       "4                                NaN             NaN        2   \n",
       "8                                NaN             NaN        4   \n",
       "14  Beverly Hills, CA            NaN             NaN        3   \n",
       "\n",
       "    SongKeyConfidence  SongLoudness  ArtistHotness  SongYearNorm  \\\n",
       "1               0.169        -9.843       0.417500      0.511905   \n",
       "3               0.751        -9.013       0.454231      0.666667   \n",
       "4               0.092        -4.501       0.401724      0.964286   \n",
       "8               0.717       -13.496       0.332276      0.690476   \n",
       "14              0.524        -8.346       0.553072      0.714286   \n",
       "\n",
       "    SongTimeWithConfidence  SongKeyWithConfidence  \n",
       "1                    1.536                  1.014  \n",
       "3                    0.000                  0.000  \n",
       "4                    2.248                  0.184  \n",
       "8                    1.948                  2.868  \n",
       "14                   0.633                  1.572  \n",
       "\n",
       "[5 rows x 22 columns]"
      ]
     },
     "execution_count": 74,
     "metadata": {},
     "output_type": "execute_result"
    }
   ],
   "source": [
    "normalized_df.head()"
   ]
  },
  {
   "cell_type": "markdown",
   "metadata": {},
   "source": [
    "## Concerning Spotify API\n",
    "We tried to get some data from Spotify [Spotify Python API](https://github.com/plamere/spotipy), but due to the time it takes (3 request/s, 1h to fetch what we want for only the subset) we decided not to parse anything from it unfortunately, a portion of code is still described below to see that we actually tried it."
   ]
  },
  {
   "cell_type": "code",
   "execution_count": 75,
   "metadata": {},
   "outputs": [],
   "source": [
    "#token = 'BQAu-KsyKpk7NBP-1ZGCNa-RoHNak0ZNAr3l3mi2In0mLy0o71LAl5OycY1h3K5S8INBp0kvic2lgRFESxry3EW4m7PUfFQZp5dAeSLSgpNs25xfNJbs_KJkuTEChlptb8ZtYF2NiGY4'\n",
    "#sp = spotipy.Spotify(token)\n",
    "\n",
    "def spotiAPI(name):\n",
    "    results = sp.search(q=name, limit=1)\n",
    "    idd = results['tracks']['items'][0]['artists'][0]['id']\n",
    "    resultArt = sp.artist(idd)\n",
    "    #time.sleep(0.02)\n",
    "    print(resultArt['followers']['total'])\n",
    "    return resultArt['followers']['total']"
   ]
  },
  {
   "cell_type": "code",
   "execution_count": 76,
   "metadata": {},
   "outputs": [],
   "source": [
    "#normalized_df['ArtistFollower'] = df.ArtistName.apply(lambda x : spotiAPI(x))"
   ]
  },
  {
   "cell_type": "markdown",
   "metadata": {
    "collapsed": true
   },
   "source": [
    "## Updated Plan"
   ]
  },
  {
   "cell_type": "markdown",
   "metadata": {},
   "source": [
    "### Gained Knowledge\n",
    "\n",
    "\n",
    "We did some manipulation from raw datas, we actually get interesting result. The normalization of the year will help our analysis notably in ML functions.\n",
    "We were also able to construct another dataframe that treats Artists and not songs, to do stats on artist in addition of songs.\n",
    "The genre matching is not quite what we wanted for the moment, but we have some results, it can be improved to have a general genre/subgenre matching. We do not want to reduce it too much to avoid merging things that cannot be compared.\n",
    "We also noticed that few of our features are strongly correlated, **but no real knowledge was acquire because we used 1% of the dataset**\n"
   ]
  },
  {
   "cell_type": "markdown",
   "metadata": {},
   "source": [
    "### Methods for the future\n",
    "\n",
    "** Use cluster and full data set, redo analysis **  \n",
    "\n",
    "* Which features did change (e.g. bpm, beats)?\n",
    "To have a general view of how song that are released nowadays change from previous one, if the music has evolved in a good way, bad way (quite personnal feeling though) or even neutral but with positive/negative impact\n",
    "   * Calculate features aggregated by year, plot time series (with error bars)\n",
    "   * Can we see a major change of one features over the years?\n",
    "  \n",
    "  \n",
    "* How did genres change (e.g. popularity, features of specific genres, higher variance)?\n",
    "We can link genre Evolution to time period in \n",
    "    * Create data frame for each genre with songs of genre\n",
    "    * Plot number of songs per year\n",
    "    * Redo question one for features\n",
    "    * Plot chart which shows span of features per year\n",
    "    * Look at subgenres?\n",
    "  \n",
    "  \n",
    "* How did the distribution of music change (e.g. change of number of genres, variance of features)?\n",
    "Here we can get some interting result with distribution that could be used for the final blog post if rendered well, as our main goal is to look at the evolution of music, so find a way such as colorMap or any structure tat is nice but also quite easy to read to get the results.\n",
    "    * Plot chart that shows the numer of features per year\n",
    "    * Plot chart which shows genre distribution (number of songs per genre) over time\n",
    "  \n",
    "  \n",
    "* Train classifier for genre on recent songs.\n",
    "So to be a little bit more precise, try to classify song with date > 2000, thanks to the features, using a classifier ( K-NN or Random forest still need to decide which it is not binary classification here as there are more than 2 genres) and then try to fit the older songs to see if they would be classified in the correct genre list.\n",
    "This result can be used to see if the change in music features has a real impact on what genre it could be classified in or even if the genre itself changed ( introduction of new subgenre or even genre apparition --> ex : Dubstep)\n",
    "    * Apply it to old songs\n",
    "    * Evaluate the results\n",
    "  \n",
    "#### Things we consider but will not implement for the final results are: (only two team members left)\n",
    "* Which songs from the past are still trending (why)?\n",
    "* How did song titles (artist names) change over time?\n",
    "* Where did (which) songs get released at which time (do dependencies exist between similar Songs)?\n",
    "  \n",
    "  \n",
    "Other interesting analysis:\n",
    "* Run unsupervised clustering\n",
    "    * compare clusters to genres\n",
    "* Compare song and artist name with codec by hashing to get Jacardian distance to get similar song artist name and compare with hotness and other parameters. Maybe even cluster the one close to each other to get another clustering way\n"
   ]
  },
  {
   "cell_type": "code",
   "execution_count": null,
   "metadata": {},
   "outputs": [],
   "source": []
  }
 ],
 "metadata": {
  "anaconda-cloud": {},
  "kernelspec": {
   "display_name": "Python [conda env:ada]",
   "language": "python",
   "name": "conda-env-ada-py"
  },
  "language_info": {
   "codemirror_mode": {
    "name": "ipython",
    "version": 3
   },
   "file_extension": ".py",
   "mimetype": "text/x-python",
   "name": "python",
   "nbconvert_exporter": "python",
   "pygments_lexer": "ipython3",
   "version": "3.6.2"
  }
 },
 "nbformat": 4,
 "nbformat_minor": 1
}
