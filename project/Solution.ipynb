{
 "cells": [
  {
   "cell_type": "markdown",
   "metadata": {},
   "source": [
    "# Evolution in music through the years\n",
    "\n",
    "This notebook contains all information about our data processing steps.  \n",
    "\n",
    "*Due to problem with the cluster only the subset of the data set was analysed locally*  \n",
    "\n",
    "These include data analysis, cleaning, processing, engineering and visualisation.  \n",
    "For the intermediate milestone we will also provide an updated plan."
   ]
  },
  {
   "cell_type": "code",
   "execution_count": 1,
   "metadata": {
    "collapsed": true
   },
   "outputs": [],
   "source": [
    "%matplotlib inline\n",
    "# Provided library to access hdf5 files from MillionSong dataset\n",
    "import getters as hdf5_getters\n",
    "\n",
    "import sqlite3 as sq\n",
    "import os\n",
    "import pandas as pd\n",
    "import glob\n",
    "import matplotlib.pyplot as plt\n",
    "\n",
    "from sklearn.linear_model import LinearRegression, LogisticRegression"
   ]
  },
  {
   "cell_type": "markdown",
   "metadata": {},
   "source": [
    "## Data Fetching "
   ]
  },
  {
   "cell_type": "code",
   "execution_count": 2,
   "metadata": {
    "collapsed": true
   },
   "outputs": [],
   "source": [
    "local_path = 'C:/Users/M4X/Documents/Uni/EPFL/ADA/ADA/project/data'\n",
    "#local_path = 'C:/Users\\Max-Pc/Downloads/millionsongsubset_full/MillionSongSubset/data'"
   ]
  },
  {
   "cell_type": "code",
   "execution_count": 3,
   "metadata": {
    "collapsed": true
   },
   "outputs": [],
   "source": [
    "def get_all_interesting_data(basedir,ext='.h5') :\n",
    "    datas = []\n",
    "    iteration = 0\n",
    "    for root, dirs, files in os.walk(basedir):\n",
    "        files = glob.glob(os.path.join(root,'*'+ext))\n",
    "        for f in files:\n",
    "            oneSongData = []\n",
    "            h5 = hdf5_getters.open_h5_file_read(f)\n",
    "            \n",
    "            # Columns wich we want to analyse \n",
    "            oneSongData.append( hdf5_getters.get_artist_id(h5))\n",
    "            oneSongData.append(hdf5_getters.get_artist_name(h5))\n",
    "            oneSongData.append(hdf5_getters.get_year(h5))\n",
    "            oneSongData.append(hdf5_getters.get_danceability(h5))\n",
    "            oneSongData.append(hdf5_getters.get_duration(h5))\n",
    "            oneSongData.append(hdf5_getters.get_song_hotttnesss(h5))\n",
    "            oneSongData.append(hdf5_getters.get_title(h5))\n",
    "            oneSongData.append(hdf5_getters.get_tempo(h5))\n",
    "            oneSongData.append(hdf5_getters.get_time_signature(h5))\n",
    "            oneSongData.append(hdf5_getters.get_time_signature_confidence(h5))\n",
    "            oneSongData.append(hdf5_getters.get_artist_mbtags(h5))\n",
    "            oneSongData.append(hdf5_getters.get_artist_terms(h5))\n",
    "            oneSongData.append(hdf5_getters.get_artist_location(h5))\n",
    "            oneSongData.append(hdf5_getters.get_artist_latitude(h5))\n",
    "            oneSongData.append(hdf5_getters.get_artist_longitude(h5))\n",
    "            \n",
    "            h5.close()\n",
    "            \n",
    "            # Print progress\n",
    "            iteration+=1\n",
    "            if(iteration%1000== 0):\n",
    "                print(iteration)\n",
    "                \n",
    "            datas.append(oneSongData)\n",
    "    return datas"
   ]
  },
  {
   "cell_type": "code",
   "execution_count": 4,
   "metadata": {},
   "outputs": [
    {
     "name": "stdout",
     "output_type": "stream",
     "text": [
      "1000\n",
      "2000\n",
      "3000\n",
      "4000\n",
      "5000\n",
      "6000\n",
      "7000\n",
      "8000\n",
      "9000\n",
      "10000\n"
     ]
    }
   ],
   "source": [
    "datas = get_all_interesting_data(local_path)"
   ]
  },
  {
   "cell_type": "code",
   "execution_count": 5,
   "metadata": {
    "collapsed": true
   },
   "outputs": [],
   "source": [
    "df = pd.DataFrame(datas,columns=['ArtistID','ArtistName','SongYear','SongDanceability','Duration','SongHotness',\\\n",
    "                                 'SongTitle','SongTempo','SongTimeSignature','SongTimeSignatureConfidence','ArtistMbtags',\\\n",
    "                                 'ArtistTerms','ArtistLocation','ArtistLatitude','ArtistLongitude'])"
   ]
  },
  {
   "cell_type": "markdown",
   "metadata": {},
   "source": [
    "## Data Analysis and Cleaing"
   ]
  },
  {
   "cell_type": "markdown",
   "metadata": {},
   "source": [
    "Since we want to analyze music evolution over time, we cannot use Songs without specified year. They are then dropped."
   ]
  },
  {
   "cell_type": "code",
   "execution_count": 6,
   "metadata": {},
   "outputs": [
    {
     "name": "stdout",
     "output_type": "stream",
     "text": [
      "Dropping 5320 rows.\n"
     ]
    }
   ],
   "source": [
    "print(\"Dropping {} rows.\".format(df[df['SongYear'] == 0].shape[0]))\n",
    "df = df[df['SongYear']>0]"
   ]
  },
  {
   "cell_type": "code",
   "execution_count": 7,
   "metadata": {},
   "outputs": [
    {
     "data": {
      "text/plain": [
       "Index(['ArtistID', 'ArtistName', 'SongYear', 'SongDanceability', 'Duration',\n",
       "       'SongHotness', 'SongTitle', 'SongTempo', 'SongTimeSignature',\n",
       "       'SongTimeSignatureConfidence', 'ArtistMbtags', 'ArtistTerms',\n",
       "       'ArtistLocation', 'ArtistLatitude', 'ArtistLongitude'],\n",
       "      dtype='object')"
      ]
     },
     "execution_count": 7,
     "metadata": {},
     "output_type": "execute_result"
    }
   ],
   "source": [
    "df.columns"
   ]
  },
  {
   "cell_type": "code",
   "execution_count": 8,
   "metadata": {},
   "outputs": [
    {
     "data": {
      "text/html": [
       "<div>\n",
       "<style>\n",
       "    .dataframe thead tr:only-child th {\n",
       "        text-align: right;\n",
       "    }\n",
       "\n",
       "    .dataframe thead th {\n",
       "        text-align: left;\n",
       "    }\n",
       "\n",
       "    .dataframe tbody tr th {\n",
       "        vertical-align: top;\n",
       "    }\n",
       "</style>\n",
       "<table border=\"1\" class=\"dataframe\">\n",
       "  <thead>\n",
       "    <tr style=\"text-align: right;\">\n",
       "      <th></th>\n",
       "      <th>ArtistID</th>\n",
       "      <th>ArtistName</th>\n",
       "      <th>SongYear</th>\n",
       "      <th>SongDanceability</th>\n",
       "      <th>Duration</th>\n",
       "      <th>SongHotness</th>\n",
       "      <th>SongTitle</th>\n",
       "      <th>SongTempo</th>\n",
       "      <th>SongTimeSignature</th>\n",
       "      <th>SongTimeSignatureConfidence</th>\n",
       "      <th>ArtistMbtags</th>\n",
       "      <th>ArtistTerms</th>\n",
       "      <th>ArtistLocation</th>\n",
       "      <th>ArtistLatitude</th>\n",
       "      <th>ArtistLongitude</th>\n",
       "    </tr>\n",
       "  </thead>\n",
       "  <tbody>\n",
       "    <tr>\n",
       "      <th>1</th>\n",
       "      <td>b'ARMJAGH1187FB546F3'</td>\n",
       "      <td>b'The Box Tops'</td>\n",
       "      <td>1969</td>\n",
       "      <td>0.0</td>\n",
       "      <td>148.03546</td>\n",
       "      <td>NaN</td>\n",
       "      <td>b'Soul Deep'</td>\n",
       "      <td>121.274</td>\n",
       "      <td>4</td>\n",
       "      <td>0.384</td>\n",
       "      <td>[b'classic pop and rock']</td>\n",
       "      <td>[b'blue-eyed soul', b'pop rock', b'blues-rock'...</td>\n",
       "      <td>b'Memphis, TN'</td>\n",
       "      <td>35.14968</td>\n",
       "      <td>-90.04892</td>\n",
       "    </tr>\n",
       "    <tr>\n",
       "      <th>3</th>\n",
       "      <td>b'AR7G5I41187FB4CE6C'</td>\n",
       "      <td>b'Adam Ant'</td>\n",
       "      <td>1982</td>\n",
       "      <td>0.0</td>\n",
       "      <td>233.40363</td>\n",
       "      <td>NaN</td>\n",
       "      <td>b'Something Girls'</td>\n",
       "      <td>119.293</td>\n",
       "      <td>4</td>\n",
       "      <td>0.000</td>\n",
       "      <td>[b'uk', b'british', b'english']</td>\n",
       "      <td>[b'pop rock', b'new wave', b'dance rock', b'ro...</td>\n",
       "      <td>b'London, England'</td>\n",
       "      <td>NaN</td>\n",
       "      <td>NaN</td>\n",
       "    </tr>\n",
       "    <tr>\n",
       "      <th>4</th>\n",
       "      <td>b'ARXR32B1187FB57099'</td>\n",
       "      <td>b'Gob'</td>\n",
       "      <td>2007</td>\n",
       "      <td>0.0</td>\n",
       "      <td>209.60608</td>\n",
       "      <td>0.604501</td>\n",
       "      <td>b'Face the Ashes'</td>\n",
       "      <td>129.738</td>\n",
       "      <td>4</td>\n",
       "      <td>0.562</td>\n",
       "      <td>[]</td>\n",
       "      <td>[b'pop punk', b'ska punk', b'breakcore', b'alt...</td>\n",
       "      <td>b''</td>\n",
       "      <td>NaN</td>\n",
       "      <td>NaN</td>\n",
       "    </tr>\n",
       "    <tr>\n",
       "      <th>8</th>\n",
       "      <td>b'AR8ZCNI1187B9A069B'</td>\n",
       "      <td>b'Planet P Project'</td>\n",
       "      <td>1984</td>\n",
       "      <td>0.0</td>\n",
       "      <td>269.81832</td>\n",
       "      <td>0.265861</td>\n",
       "      <td>b'Pink World'</td>\n",
       "      <td>86.643</td>\n",
       "      <td>4</td>\n",
       "      <td>0.487</td>\n",
       "      <td>[]</td>\n",
       "      <td>[b'new wave', b'progressive rock', b'space roc...</td>\n",
       "      <td>b''</td>\n",
       "      <td>NaN</td>\n",
       "      <td>NaN</td>\n",
       "    </tr>\n",
       "    <tr>\n",
       "      <th>14</th>\n",
       "      <td>b'ARIK43K1187B9AE54C'</td>\n",
       "      <td>b'Lionel Richie'</td>\n",
       "      <td>1986</td>\n",
       "      <td>0.0</td>\n",
       "      <td>307.38240</td>\n",
       "      <td>NaN</td>\n",
       "      <td>b'Tonight Will Be Alright'</td>\n",
       "      <td>125.197</td>\n",
       "      <td>3</td>\n",
       "      <td>0.211</td>\n",
       "      <td>[b'soul and reggae']</td>\n",
       "      <td>[b'quiet storm', b'soft rock', b'pop', b'urban...</td>\n",
       "      <td>b'Beverly Hills, CA'</td>\n",
       "      <td>NaN</td>\n",
       "      <td>NaN</td>\n",
       "    </tr>\n",
       "  </tbody>\n",
       "</table>\n",
       "</div>"
      ],
      "text/plain": [
       "                 ArtistID           ArtistName  SongYear  SongDanceability  \\\n",
       "1   b'ARMJAGH1187FB546F3'      b'The Box Tops'      1969               0.0   \n",
       "3   b'AR7G5I41187FB4CE6C'          b'Adam Ant'      1982               0.0   \n",
       "4   b'ARXR32B1187FB57099'               b'Gob'      2007               0.0   \n",
       "8   b'AR8ZCNI1187B9A069B'  b'Planet P Project'      1984               0.0   \n",
       "14  b'ARIK43K1187B9AE54C'     b'Lionel Richie'      1986               0.0   \n",
       "\n",
       "     Duration  SongHotness                   SongTitle  SongTempo  \\\n",
       "1   148.03546          NaN                b'Soul Deep'    121.274   \n",
       "3   233.40363          NaN          b'Something Girls'    119.293   \n",
       "4   209.60608     0.604501           b'Face the Ashes'    129.738   \n",
       "8   269.81832     0.265861               b'Pink World'     86.643   \n",
       "14  307.38240          NaN  b'Tonight Will Be Alright'    125.197   \n",
       "\n",
       "    SongTimeSignature  SongTimeSignatureConfidence  \\\n",
       "1                   4                        0.384   \n",
       "3                   4                        0.000   \n",
       "4                   4                        0.562   \n",
       "8                   4                        0.487   \n",
       "14                  3                        0.211   \n",
       "\n",
       "                       ArtistMbtags  \\\n",
       "1         [b'classic pop and rock']   \n",
       "3   [b'uk', b'british', b'english']   \n",
       "4                                []   \n",
       "8                                []   \n",
       "14             [b'soul and reggae']   \n",
       "\n",
       "                                          ArtistTerms        ArtistLocation  \\\n",
       "1   [b'blue-eyed soul', b'pop rock', b'blues-rock'...        b'Memphis, TN'   \n",
       "3   [b'pop rock', b'new wave', b'dance rock', b'ro...    b'London, England'   \n",
       "4   [b'pop punk', b'ska punk', b'breakcore', b'alt...                   b''   \n",
       "8   [b'new wave', b'progressive rock', b'space roc...                   b''   \n",
       "14  [b'quiet storm', b'soft rock', b'pop', b'urban...  b'Beverly Hills, CA'   \n",
       "\n",
       "    ArtistLatitude  ArtistLongitude  \n",
       "1         35.14968        -90.04892  \n",
       "3              NaN              NaN  \n",
       "4              NaN              NaN  \n",
       "8              NaN              NaN  \n",
       "14             NaN              NaN  "
      ]
     },
     "execution_count": 8,
     "metadata": {},
     "output_type": "execute_result"
    }
   ],
   "source": [
    "df.head()"
   ]
  },
  {
   "cell_type": "code",
   "execution_count": 9,
   "metadata": {},
   "outputs": [
    {
     "data": {
      "text/plain": [
       "ArtistID                          0\n",
       "ArtistName                        0\n",
       "SongYear                          0\n",
       "SongDanceability                  0\n",
       "Duration                          0\n",
       "SongHotness                    1616\n",
       "SongTitle                         0\n",
       "SongTempo                         0\n",
       "SongTimeSignature                 0\n",
       "SongTimeSignatureConfidence       0\n",
       "ArtistMbtags                      0\n",
       "ArtistTerms                       0\n",
       "ArtistLocation                    0\n",
       "ArtistLatitude                 2855\n",
       "ArtistLongitude                2855\n",
       "dtype: int64"
      ]
     },
     "execution_count": 9,
     "metadata": {},
     "output_type": "execute_result"
    }
   ],
   "source": [
    "df.isnull().sum()"
   ]
  },
  {
   "cell_type": "markdown",
   "metadata": {},
   "source": [
    "We notice, that 1616/4680 Songs do not have a defined Hotness.  \n",
    "Furthermore, the Latitude and Longitude of the arists for 2855 Songs is not defined.  \n",
    "For now we will keep the features and rows with NAN, and we will remove them if it would be neccessary to take the NANs into account.  \n",
    "Let's have a deeper look at the different columns:"
   ]
  },
  {
   "cell_type": "code",
   "execution_count": 10,
   "metadata": {
    "scrolled": true
   },
   "outputs": [
    {
     "data": {
      "text/html": [
       "<div>\n",
       "<style>\n",
       "    .dataframe thead tr:only-child th {\n",
       "        text-align: right;\n",
       "    }\n",
       "\n",
       "    .dataframe thead th {\n",
       "        text-align: left;\n",
       "    }\n",
       "\n",
       "    .dataframe tbody tr th {\n",
       "        vertical-align: top;\n",
       "    }\n",
       "</style>\n",
       "<table border=\"1\" class=\"dataframe\">\n",
       "  <thead>\n",
       "    <tr style=\"text-align: right;\">\n",
       "      <th></th>\n",
       "      <th>SongYear</th>\n",
       "      <th>SongDanceability</th>\n",
       "      <th>Duration</th>\n",
       "      <th>SongHotness</th>\n",
       "      <th>SongTempo</th>\n",
       "      <th>SongTimeSignature</th>\n",
       "      <th>SongTimeSignatureConfidence</th>\n",
       "      <th>ArtistLatitude</th>\n",
       "      <th>ArtistLongitude</th>\n",
       "    </tr>\n",
       "  </thead>\n",
       "  <tbody>\n",
       "    <tr>\n",
       "      <th>count</th>\n",
       "      <td>4680.000000</td>\n",
       "      <td>4680.0</td>\n",
       "      <td>4680.000000</td>\n",
       "      <td>3064.000000</td>\n",
       "      <td>4680.000000</td>\n",
       "      <td>4680.000000</td>\n",
       "      <td>4680.000000</td>\n",
       "      <td>1825.000000</td>\n",
       "      <td>1825.000000</td>\n",
       "    </tr>\n",
       "    <tr>\n",
       "      <th>mean</th>\n",
       "      <td>1997.232051</td>\n",
       "      <td>0.0</td>\n",
       "      <td>238.781146</td>\n",
       "      <td>0.444377</td>\n",
       "      <td>125.163716</td>\n",
       "      <td>3.586111</td>\n",
       "      <td>0.510216</td>\n",
       "      <td>37.501760</td>\n",
       "      <td>-61.772744</td>\n",
       "    </tr>\n",
       "    <tr>\n",
       "      <th>std</th>\n",
       "      <td>11.686691</td>\n",
       "      <td>0.0</td>\n",
       "      <td>101.345438</td>\n",
       "      <td>0.222470</td>\n",
       "      <td>35.272251</td>\n",
       "      <td>1.240247</td>\n",
       "      <td>0.375063</td>\n",
       "      <td>16.273911</td>\n",
       "      <td>51.525675</td>\n",
       "    </tr>\n",
       "    <tr>\n",
       "      <th>min</th>\n",
       "      <td>1926.000000</td>\n",
       "      <td>0.0</td>\n",
       "      <td>1.044440</td>\n",
       "      <td>0.000000</td>\n",
       "      <td>0.000000</td>\n",
       "      <td>0.000000</td>\n",
       "      <td>0.000000</td>\n",
       "      <td>-41.280540</td>\n",
       "      <td>-155.434140</td>\n",
       "    </tr>\n",
       "    <tr>\n",
       "      <th>25%</th>\n",
       "      <td>1993.000000</td>\n",
       "      <td>0.0</td>\n",
       "      <td>181.152200</td>\n",
       "      <td>0.313562</td>\n",
       "      <td>98.698500</td>\n",
       "      <td>3.000000</td>\n",
       "      <td>0.089000</td>\n",
       "      <td>34.053490</td>\n",
       "      <td>-93.264930</td>\n",
       "    </tr>\n",
       "    <tr>\n",
       "      <th>50%</th>\n",
       "      <td>2001.000000</td>\n",
       "      <td>0.0</td>\n",
       "      <td>227.382400</td>\n",
       "      <td>0.473347</td>\n",
       "      <td>122.226500</td>\n",
       "      <td>4.000000</td>\n",
       "      <td>0.553000</td>\n",
       "      <td>40.102160</td>\n",
       "      <td>-79.385330</td>\n",
       "    </tr>\n",
       "    <tr>\n",
       "      <th>75%</th>\n",
       "      <td>2006.000000</td>\n",
       "      <td>0.0</td>\n",
       "      <td>278.406080</td>\n",
       "      <td>0.604554</td>\n",
       "      <td>146.572000</td>\n",
       "      <td>4.000000</td>\n",
       "      <td>0.868000</td>\n",
       "      <td>44.979030</td>\n",
       "      <td>-3.996670</td>\n",
       "    </tr>\n",
       "    <tr>\n",
       "      <th>max</th>\n",
       "      <td>2010.000000</td>\n",
       "      <td>0.0</td>\n",
       "      <td>1598.197100</td>\n",
       "      <td>1.000000</td>\n",
       "      <td>258.677000</td>\n",
       "      <td>7.000000</td>\n",
       "      <td>1.000000</td>\n",
       "      <td>69.651020</td>\n",
       "      <td>174.767140</td>\n",
       "    </tr>\n",
       "  </tbody>\n",
       "</table>\n",
       "</div>"
      ],
      "text/plain": [
       "          SongYear  SongDanceability     Duration  SongHotness    SongTempo  \\\n",
       "count  4680.000000            4680.0  4680.000000  3064.000000  4680.000000   \n",
       "mean   1997.232051               0.0   238.781146     0.444377   125.163716   \n",
       "std      11.686691               0.0   101.345438     0.222470    35.272251   \n",
       "min    1926.000000               0.0     1.044440     0.000000     0.000000   \n",
       "25%    1993.000000               0.0   181.152200     0.313562    98.698500   \n",
       "50%    2001.000000               0.0   227.382400     0.473347   122.226500   \n",
       "75%    2006.000000               0.0   278.406080     0.604554   146.572000   \n",
       "max    2010.000000               0.0  1598.197100     1.000000   258.677000   \n",
       "\n",
       "       SongTimeSignature  SongTimeSignatureConfidence  ArtistLatitude  \\\n",
       "count        4680.000000                  4680.000000     1825.000000   \n",
       "mean            3.586111                     0.510216       37.501760   \n",
       "std             1.240247                     0.375063       16.273911   \n",
       "min             0.000000                     0.000000      -41.280540   \n",
       "25%             3.000000                     0.089000       34.053490   \n",
       "50%             4.000000                     0.553000       40.102160   \n",
       "75%             4.000000                     0.868000       44.979030   \n",
       "max             7.000000                     1.000000       69.651020   \n",
       "\n",
       "       ArtistLongitude  \n",
       "count      1825.000000  \n",
       "mean        -61.772744  \n",
       "std          51.525675  \n",
       "min        -155.434140  \n",
       "25%         -93.264930  \n",
       "50%         -79.385330  \n",
       "75%          -3.996670  \n",
       "max         174.767140  "
      ]
     },
     "execution_count": 10,
     "metadata": {},
     "output_type": "execute_result"
    }
   ],
   "source": [
    "df.describe()"
   ]
  },
  {
   "cell_type": "markdown",
   "metadata": {},
   "source": [
    "By analysing the descriptive statistics of each columns we gained the following insights:"
   ]
  },
  {
   "cell_type": "markdown",
   "metadata": {},
   "source": [
    "|         |        ArtistID       | ArtistName         |         SongYear        | SongDanceability |       Duration      |   SongHotness   | SongTitle |  SongTempo |    SongTimeSignature   |      SongTimeSignatureConfidence      |                 ArtistMbtags                |                      ArtistTerms                     | ArtistLocation |  ArtistLatitude  |  ArtistLongitude  |\n",
    "|:-------:|:---------------------:|--------------------|:-----------------------:|:----------------:|:-------------------:|:---------------:|:---------:|:----------:|:----------------------:|:-------------------------------------:|:-------------------------------------------:|:----------------------------------------------------:|:--------------:|:----------------:|:-----------------:|\n",
    "|  format |         string        |       string       |           int           |       float      |        float        |      float      |   string  |    float   |           int          |                 float                 |                    string                   |                        string                        |     string     |       float      |       float       |\n",
    "|   type  |       categorial      |     categorial     |        continious       |    continious    |      continious     |    continious   |     -     | continious |         Ordinal        |               continious              |                                             |                                                      |                |    continious    |     continious    |\n",
    "| comment | identifier for artist | name of the Artist | years from 1926 to 2010 |     always 0     | duration in seconds | between 0 and 1 |           |            | values between 0 and 7 | between 0 and 1, 1 is very confident  | comma seperated array with mbtags of artist | comma seperated array with echo nest terms of artist |   town, state  | default latitude | default longitude |"
   ]
  },
  {
   "cell_type": "markdown",
   "metadata": {
    "collapsed": true
   },
   "source": [
    "Now that we know a little bit more about the different features, let's have a deeper look at their distribution."
   ]
  },
  {
   "cell_type": "code",
   "execution_count": 11,
   "metadata": {
    "collapsed": true
   },
   "outputs": [],
   "source": [
    "normalized_df = df.copy()"
   ]
  },
  {
   "cell_type": "markdown",
   "metadata": {},
   "source": [
    "### Song Year"
   ]
  },
  {
   "cell_type": "code",
   "execution_count": 12,
   "metadata": {},
   "outputs": [
    {
     "data": {
      "text/plain": [
       "<matplotlib.axes._subplots.AxesSubplot at 0x22a78913400>"
      ]
     },
     "execution_count": 12,
     "metadata": {},
     "output_type": "execute_result"
    },
    {
     "data": {
      "image/png": "[encoded data removed]",
      "text/plain": [
       "<matplotlib.figure.Figure at 0x22a78b5ed30>"
      ]
     },
     "metadata": {},
     "output_type": "display_data"
    }
   ],
   "source": [
    "df.SongYear.plot(kind='hist')"
   ]
  },
  {
   "cell_type": "code",
   "execution_count": 13,
   "metadata": {},
   "outputs": [
    {
     "data": {
      "text/plain": [
       "<matplotlib.axes._subplots.AxesSubplot at 0x22a7d364550>"
      ]
     },
     "execution_count": 13,
     "metadata": {},
     "output_type": "execute_result"
    },
    {
     "data": {
      "image/png": "[encoded data removed]",
      "text/plain": [
       "<matplotlib.figure.Figure at 0x22a7d33a1d0>"
      ]
     },
     "metadata": {},
     "output_type": "display_data"
    }
   ],
   "source": [
    "df.SongYear.plot.box()"
   ]
  },
  {
   "cell_type": "markdown",
   "metadata": {},
   "source": [
    "The distribution of the year feature is negatively skewed.  \n",
    "The available years span from 1926 to 2010.  \n",
    "It makes sense to normalize the feature with scaling.\n",
    "Normalize the year first"
   ]
  },
  {
   "cell_type": "code",
   "execution_count": 14,
   "metadata": {},
   "outputs": [
    {
     "data": {
      "text/html": [
       "<div>\n",
       "<style>\n",
       "    .dataframe thead tr:only-child th {\n",
       "        text-align: right;\n",
       "    }\n",
       "\n",
       "    .dataframe thead th {\n",
       "        text-align: left;\n",
       "    }\n",
       "\n",
       "    .dataframe tbody tr th {\n",
       "        vertical-align: top;\n",
       "    }\n",
       "</style>\n",
       "<table border=\"1\" class=\"dataframe\">\n",
       "  <thead>\n",
       "    <tr style=\"text-align: right;\">\n",
       "      <th></th>\n",
       "      <th>ArtistID</th>\n",
       "      <th>ArtistName</th>\n",
       "      <th>SongYear</th>\n",
       "      <th>SongDanceability</th>\n",
       "      <th>Duration</th>\n",
       "      <th>SongHotness</th>\n",
       "      <th>SongTitle</th>\n",
       "      <th>SongTempo</th>\n",
       "      <th>SongTimeSignature</th>\n",
       "      <th>SongTimeSignatureConfidence</th>\n",
       "      <th>ArtistMbtags</th>\n",
       "      <th>ArtistTerms</th>\n",
       "      <th>ArtistLocation</th>\n",
       "      <th>ArtistLatitude</th>\n",
       "      <th>ArtistLongitude</th>\n",
       "    </tr>\n",
       "  </thead>\n",
       "  <tbody>\n",
       "    <tr>\n",
       "      <th>1</th>\n",
       "      <td>b'ARMJAGH1187FB546F3'</td>\n",
       "      <td>b'The Box Tops'</td>\n",
       "      <td>0.511905</td>\n",
       "      <td>0.0</td>\n",
       "      <td>148.03546</td>\n",
       "      <td>NaN</td>\n",
       "      <td>b'Soul Deep'</td>\n",
       "      <td>121.274</td>\n",
       "      <td>4</td>\n",
       "      <td>0.384</td>\n",
       "      <td>[b'classic pop and rock']</td>\n",
       "      <td>[b'blue-eyed soul', b'pop rock', b'blues-rock'...</td>\n",
       "      <td>b'Memphis, TN'</td>\n",
       "      <td>35.14968</td>\n",
       "      <td>-90.04892</td>\n",
       "    </tr>\n",
       "    <tr>\n",
       "      <th>3</th>\n",
       "      <td>b'AR7G5I41187FB4CE6C'</td>\n",
       "      <td>b'Adam Ant'</td>\n",
       "      <td>0.666667</td>\n",
       "      <td>0.0</td>\n",
       "      <td>233.40363</td>\n",
       "      <td>NaN</td>\n",
       "      <td>b'Something Girls'</td>\n",
       "      <td>119.293</td>\n",
       "      <td>4</td>\n",
       "      <td>0.000</td>\n",
       "      <td>[b'uk', b'british', b'english']</td>\n",
       "      <td>[b'pop rock', b'new wave', b'dance rock', b'ro...</td>\n",
       "      <td>b'London, England'</td>\n",
       "      <td>NaN</td>\n",
       "      <td>NaN</td>\n",
       "    </tr>\n",
       "    <tr>\n",
       "      <th>4</th>\n",
       "      <td>b'ARXR32B1187FB57099'</td>\n",
       "      <td>b'Gob'</td>\n",
       "      <td>0.964286</td>\n",
       "      <td>0.0</td>\n",
       "      <td>209.60608</td>\n",
       "      <td>0.604501</td>\n",
       "      <td>b'Face the Ashes'</td>\n",
       "      <td>129.738</td>\n",
       "      <td>4</td>\n",
       "      <td>0.562</td>\n",
       "      <td>[]</td>\n",
       "      <td>[b'pop punk', b'ska punk', b'breakcore', b'alt...</td>\n",
       "      <td>b''</td>\n",
       "      <td>NaN</td>\n",
       "      <td>NaN</td>\n",
       "    </tr>\n",
       "    <tr>\n",
       "      <th>8</th>\n",
       "      <td>b'AR8ZCNI1187B9A069B'</td>\n",
       "      <td>b'Planet P Project'</td>\n",
       "      <td>0.690476</td>\n",
       "      <td>0.0</td>\n",
       "      <td>269.81832</td>\n",
       "      <td>0.265861</td>\n",
       "      <td>b'Pink World'</td>\n",
       "      <td>86.643</td>\n",
       "      <td>4</td>\n",
       "      <td>0.487</td>\n",
       "      <td>[]</td>\n",
       "      <td>[b'new wave', b'progressive rock', b'space roc...</td>\n",
       "      <td>b''</td>\n",
       "      <td>NaN</td>\n",
       "      <td>NaN</td>\n",
       "    </tr>\n",
       "    <tr>\n",
       "      <th>14</th>\n",
       "      <td>b'ARIK43K1187B9AE54C'</td>\n",
       "      <td>b'Lionel Richie'</td>\n",
       "      <td>0.714286</td>\n",
       "      <td>0.0</td>\n",
       "      <td>307.38240</td>\n",
       "      <td>NaN</td>\n",
       "      <td>b'Tonight Will Be Alright'</td>\n",
       "      <td>125.197</td>\n",
       "      <td>3</td>\n",
       "      <td>0.211</td>\n",
       "      <td>[b'soul and reggae']</td>\n",
       "      <td>[b'quiet storm', b'soft rock', b'pop', b'urban...</td>\n",
       "      <td>b'Beverly Hills, CA'</td>\n",
       "      <td>NaN</td>\n",
       "      <td>NaN</td>\n",
       "    </tr>\n",
       "  </tbody>\n",
       "</table>\n",
       "</div>"
      ],
      "text/plain": [
       "                 ArtistID           ArtistName  SongYear  SongDanceability  \\\n",
       "1   b'ARMJAGH1187FB546F3'      b'The Box Tops'  0.511905               0.0   \n",
       "3   b'AR7G5I41187FB4CE6C'          b'Adam Ant'  0.666667               0.0   \n",
       "4   b'ARXR32B1187FB57099'               b'Gob'  0.964286               0.0   \n",
       "8   b'AR8ZCNI1187B9A069B'  b'Planet P Project'  0.690476               0.0   \n",
       "14  b'ARIK43K1187B9AE54C'     b'Lionel Richie'  0.714286               0.0   \n",
       "\n",
       "     Duration  SongHotness                   SongTitle  SongTempo  \\\n",
       "1   148.03546          NaN                b'Soul Deep'    121.274   \n",
       "3   233.40363          NaN          b'Something Girls'    119.293   \n",
       "4   209.60608     0.604501           b'Face the Ashes'    129.738   \n",
       "8   269.81832     0.265861               b'Pink World'     86.643   \n",
       "14  307.38240          NaN  b'Tonight Will Be Alright'    125.197   \n",
       "\n",
       "    SongTimeSignature  SongTimeSignatureConfidence  \\\n",
       "1                   4                        0.384   \n",
       "3                   4                        0.000   \n",
       "4                   4                        0.562   \n",
       "8                   4                        0.487   \n",
       "14                  3                        0.211   \n",
       "\n",
       "                       ArtistMbtags  \\\n",
       "1         [b'classic pop and rock']   \n",
       "3   [b'uk', b'british', b'english']   \n",
       "4                                []   \n",
       "8                                []   \n",
       "14             [b'soul and reggae']   \n",
       "\n",
       "                                          ArtistTerms        ArtistLocation  \\\n",
       "1   [b'blue-eyed soul', b'pop rock', b'blues-rock'...        b'Memphis, TN'   \n",
       "3   [b'pop rock', b'new wave', b'dance rock', b'ro...    b'London, England'   \n",
       "4   [b'pop punk', b'ska punk', b'breakcore', b'alt...                   b''   \n",
       "8   [b'new wave', b'progressive rock', b'space roc...                   b''   \n",
       "14  [b'quiet storm', b'soft rock', b'pop', b'urban...  b'Beverly Hills, CA'   \n",
       "\n",
       "    ArtistLatitude  ArtistLongitude  \n",
       "1         35.14968        -90.04892  \n",
       "3              NaN              NaN  \n",
       "4              NaN              NaN  \n",
       "8              NaN              NaN  \n",
       "14             NaN              NaN  "
      ]
     },
     "execution_count": 14,
     "metadata": {},
     "output_type": "execute_result"
    }
   ],
   "source": [
    "normalized_df.SongYearNorm = (df.SongYear-df.SongYear.min())/ \\\n",
    "                            (df.SongYear.max()-df.SongYear.min())\n",
    "normalized_df.head()"
   ]
  },
  {
   "cell_type": "markdown",
   "metadata": {},
   "source": [
    "### Song Danceability"
   ]
  },
  {
   "cell_type": "code",
   "execution_count": 15,
   "metadata": {
    "scrolled": true
   },
   "outputs": [
    {
     "data": {
      "text/plain": [
       "<matplotlib.axes._subplots.AxesSubplot at 0x22a7d3182b0>"
      ]
     },
     "execution_count": 15,
     "metadata": {},
     "output_type": "execute_result"
    },
    {
     "data": {
      "image/png": "[encoded data removed]",
      "text/plain": [
       "<matplotlib.figure.Figure at 0x22a78999c88>"
      ]
     },
     "metadata": {},
     "output_type": "display_data"
    }
   ],
   "source": [
    "df.SongDanceability.plot(kind='hist')"
   ]
  },
  {
   "cell_type": "code",
   "execution_count": 16,
   "metadata": {},
   "outputs": [
    {
     "data": {
      "text/plain": [
       "<matplotlib.axes._subplots.AxesSubplot at 0x22a7d3643c8>"
      ]
     },
     "execution_count": 16,
     "metadata": {},
     "output_type": "execute_result"
    },
    {
     "data": {
      "image/png": "[encoded data removed]",
      "text/plain": [
       "<matplotlib.figure.Figure at 0x22a7c205630>"
      ]
     },
     "metadata": {},
     "output_type": "display_data"
    }
   ],
   "source": [
    "df.SongDanceability.plot.box()"
   ]
  },
  {
   "cell_type": "markdown",
   "metadata": {},
   "source": [
    "All songs of our cleaned data frame has danceability `0`.  \n",
    "Therefore we will drop this column.  "
   ]
  },
  {
   "cell_type": "code",
   "execution_count": 17,
   "metadata": {},
   "outputs": [],
   "source": [
    "normalized_df.drop(labels=['SongDanceability'], axis=1, inplace=True)"
   ]
  },
  {
   "cell_type": "markdown",
   "metadata": {},
   "source": [
    "### Duration"
   ]
  },
  {
   "cell_type": "code",
   "execution_count": 18,
   "metadata": {
    "scrolled": true
   },
   "outputs": [
    {
     "name": "stdout",
     "output_type": "stream",
     "text": [
      "(35, 15)\n",
      "(73, 15)\n"
     ]
    },
    {
     "data": {
      "image/png": "[encoded data removed]",
      "text/plain": [
       "<matplotlib.figure.Figure at 0x22a7877e6d8>"
      ]
     },
     "metadata": {},
     "output_type": "display_data"
    }
   ],
   "source": [
    "df.Duration.plot(kind='hist',bins=50)\n",
    "print(df[df['Duration']>600].shape)\n",
    "print(df[df['Duration']<60].shape)"
   ]
  },
  {
   "cell_type": "code",
   "execution_count": 19,
   "metadata": {},
   "outputs": [
    {
     "data": {
      "text/plain": [
       "<matplotlib.axes._subplots.AxesSubplot at 0x22a78aeab38>"
      ]
     },
     "execution_count": 19,
     "metadata": {},
     "output_type": "execute_result"
    },
    {
     "data": {
      "image/png": "[encoded data removed]",
      "text/plain": [
       "<matplotlib.figure.Figure at 0x22a7b0389b0>"
      ]
     },
     "metadata": {},
     "output_type": "display_data"
    }
   ],
   "source": [
    "df.Duration.plot.box()"
   ]
  },
  {
   "cell_type": "markdown",
   "metadata": {},
   "source": [
    "We can see in the histogram, that most of the songs are normal distributed.  \n",
    "However, there are outliers with song durations over 10 minutes and under 60 seconds.   \n",
    "In our normalized DataFrame we remove the outliers for the duration, since they might deviate too much from the average songs, which we want to analyse."
   ]
  },
  {
   "cell_type": "code",
   "execution_count": 20,
   "metadata": {},
   "outputs": [],
   "source": [
    "normalized_df = normalized_df[normalized_df['Duration']>60]\n",
    "normalized_df = normalized_df[normalized_df['Duration']<600]"
   ]
  },
  {
   "cell_type": "markdown",
   "metadata": {},
   "source": [
    "### Song Hotness"
   ]
  },
  {
   "cell_type": "code",
   "execution_count": 21,
   "metadata": {
    "scrolled": false
   },
   "outputs": [
    {
     "data": {
      "text/plain": [
       "<matplotlib.axes._subplots.AxesSubplot at 0x22a7e8b7550>"
      ]
     },
     "execution_count": 21,
     "metadata": {},
     "output_type": "execute_result"
    },
    {
     "data": {
      "image/png": "[encoded data removed]",
      "text/plain": [
       "<matplotlib.figure.Figure at 0x22a7aff7780>"
      ]
     },
     "metadata": {},
     "output_type": "display_data"
    }
   ],
   "source": [
    "df.SongHotness.plot(kind='hist')"
   ]
  },
  {
   "cell_type": "code",
   "execution_count": 22,
   "metadata": {},
   "outputs": [
    {
     "data": {
      "text/plain": [
       "<matplotlib.axes._subplots.AxesSubplot at 0x22a7af89a90>"
      ]
     },
     "execution_count": 22,
     "metadata": {},
     "output_type": "execute_result"
    },
    {
     "data": {
      "image/png": "[encoded data removed]",
      "text/plain": [
       "<matplotlib.figure.Figure at 0x22a7e935978>"
      ]
     },
     "metadata": {},
     "output_type": "display_data"
    }
   ],
   "source": [
    "df.SongHotness.plot.box()"
   ]
  },
  {
   "cell_type": "markdown",
   "metadata": {},
   "source": [
    "The distribution of the Hotness is not skewed.  \n",
    "There are a few songs where the hotness is missing.  \n",
    "When analysing hotness remove songs with hotness of zero. But for now we will keep the songs for other analysis tasks."
   ]
  },
  {
   "cell_type": "markdown",
   "metadata": {},
   "source": [
    "### Song Tempo "
   ]
  },
  {
   "cell_type": "code",
   "execution_count": 23,
   "metadata": {
    "scrolled": false
   },
   "outputs": [
    {
     "data": {
      "text/plain": [
       "<matplotlib.axes._subplots.AxesSubplot at 0x22a7ea2cc18>"
      ]
     },
     "execution_count": 23,
     "metadata": {},
     "output_type": "execute_result"
    },
    {
     "data": {
      "image/png": "[encoded data removed]",
      "text/plain": [
       "<matplotlib.figure.Figure at 0x22a7ea3b550>"
      ]
     },
     "metadata": {},
     "output_type": "display_data"
    }
   ],
   "source": [
    "df.SongTempo.plot(kind='hist')"
   ]
  },
  {
   "cell_type": "code",
   "execution_count": 24,
   "metadata": {},
   "outputs": [
    {
     "data": {
      "text/plain": [
       "<matplotlib.axes._subplots.AxesSubplot at 0x22a7eb194a8>"
      ]
     },
     "execution_count": 24,
     "metadata": {},
     "output_type": "execute_result"
    },
    {
     "data": {
      "image/png": "[encoded data removed]",
      "text/plain": [
       "<matplotlib.figure.Figure at 0x22a7eb5f0b8>"
      ]
     },
     "metadata": {},
     "output_type": "display_data"
    }
   ],
   "source": [
    "df.SongTempo.plot.box()"
   ]
  },
  {
   "cell_type": "markdown",
   "metadata": {},
   "source": [
    "The distribution of the tempo is normal. There are some outliers with a very high or low tempo of more than 200 or less than 25.  \n",
    "We will remove these outliers, since they might deviate from the average songs we want to analyse."
   ]
  },
  {
   "cell_type": "code",
   "execution_count": 25,
   "metadata": {
    "collapsed": true
   },
   "outputs": [],
   "source": [
    "normalized_df = normalized_df[normalized_df['SongTempo']<220]\n",
    "normalized_df = normalized_df[normalized_df['SongTempo']>25]"
   ]
  },
  {
   "cell_type": "markdown",
   "metadata": {},
   "source": [
    "### Song Time Signature"
   ]
  },
  {
   "cell_type": "markdown",
   "metadata": {},
   "source": [
    "The Song Time Signature describes the number of beats per bar."
   ]
  },
  {
   "cell_type": "code",
   "execution_count": 26,
   "metadata": {
    "scrolled": true
   },
   "outputs": [
    {
     "data": {
      "text/plain": [
       "<matplotlib.axes._subplots.AxesSubplot at 0x22a79e945f8>"
      ]
     },
     "execution_count": 26,
     "metadata": {},
     "output_type": "execute_result"
    },
    {
     "data": {
      "image/png": "[encoded data removed]",
      "text/plain": [
       "<matplotlib.figure.Figure at 0x22a78b6d518>"
      ]
     },
     "metadata": {},
     "output_type": "display_data"
    }
   ],
   "source": [
    "df.SongTimeSignature.plot(kind='hist')"
   ]
  },
  {
   "cell_type": "code",
   "execution_count": 27,
   "metadata": {},
   "outputs": [
    {
     "data": {
      "text/plain": [
       "<matplotlib.axes._subplots.AxesSubplot at 0x22a79e21908>"
      ]
     },
     "execution_count": 27,
     "metadata": {},
     "output_type": "execute_result"
    },
    {
     "data": {
      "image/png": "[encoded data removed]",
      "text/plain": [
       "<matplotlib.figure.Figure at 0x22a78a41c18>"
      ]
     },
     "metadata": {},
     "output_type": "display_data"
    }
   ],
   "source": [
    "df.SongTimeSignature.plot.box()"
   ]
  },
  {
   "cell_type": "markdown",
   "metadata": {},
   "source": [
    "The distribution of the Time signature also looks normally distributed, without many outliers.  \n",
    "Therefore we will keep the feature as it is."
   ]
  },
  {
   "cell_type": "markdown",
   "metadata": {},
   "source": [
    "### Song Time Signature Confidence"
   ]
  },
  {
   "cell_type": "markdown",
   "metadata": {},
   "source": [
    "The Song Time Signature Confidence describes the confidence in the Song Time Signature. It is 1 when the Song Time Signature is very accurate and 0 if is unknown."
   ]
  },
  {
   "cell_type": "code",
   "execution_count": 28,
   "metadata": {
    "scrolled": true
   },
   "outputs": [
    {
     "data": {
      "text/plain": [
       "<matplotlib.axes._subplots.AxesSubplot at 0x22a79c54f98>"
      ]
     },
     "execution_count": 28,
     "metadata": {},
     "output_type": "execute_result"
    },
    {
     "data": {
      "image/png": "[encoded data removed]",
      "text/plain": [
       "<matplotlib.figure.Figure at 0x22a7e92aa90>"
      ]
     },
     "metadata": {},
     "output_type": "display_data"
    }
   ],
   "source": [
    "df.SongTimeSignatureConfidence.plot(kind='hist')"
   ]
  },
  {
   "cell_type": "code",
   "execution_count": 29,
   "metadata": {},
   "outputs": [
    {
     "data": {
      "text/plain": [
       "<matplotlib.axes._subplots.AxesSubplot at 0x22a7eca2898>"
      ]
     },
     "execution_count": 29,
     "metadata": {},
     "output_type": "execute_result"
    },
    {
     "data": {
      "image/png": "[encoded data removed]",
      "text/plain": [
       "<matplotlib.figure.Figure at 0x22a7ec85cf8>"
      ]
     },
     "metadata": {},
     "output_type": "display_data"
    }
   ],
   "source": [
    "df.SongTimeSignatureConfidence.plot.box()"
   ]
  },
  {
   "cell_type": "markdown",
   "metadata": {},
   "source": [
    "The majority of songs has either 0 or 1 as confidence. The other confidences are almost equally distributed.    \n",
    "When analysing TimeSignature we will remove songs with low confidence, but keep the songs for now."
   ]
  },
  {
   "cell_type": "markdown",
   "metadata": {},
   "source": [
    "### Artist Location"
   ]
  },
  {
   "cell_type": "code",
   "execution_count": 30,
   "metadata": {
    "scrolled": true
   },
   "outputs": [
    {
     "data": {
      "text/plain": [
       "<matplotlib.axes._subplots.AxesSubplot at 0x22a7ec37f60>"
      ]
     },
     "execution_count": 30,
     "metadata": {},
     "output_type": "execute_result"
    },
    {
     "data": {
      "image/png": "[encoded data removed]",
      "text/plain": [
       "<matplotlib.figure.Figure at 0x22a7e8cbc18>"
      ]
     },
     "metadata": {},
     "output_type": "display_data"
    }
   ],
   "source": [
    "df.ArtistLatitude.plot(kind='hist')"
   ]
  },
  {
   "cell_type": "code",
   "execution_count": 31,
   "metadata": {},
   "outputs": [
    {
     "data": {
      "text/plain": [
       "<matplotlib.axes._subplots.AxesSubplot at 0x22a7eb0cdd8>"
      ]
     },
     "execution_count": 31,
     "metadata": {},
     "output_type": "execute_result"
    },
    {
     "data": {
      "image/png": "[encoded data removed]",
      "text/plain": [
       "<matplotlib.figure.Figure at 0x22a7ec2a358>"
      ]
     },
     "metadata": {},
     "output_type": "display_data"
    }
   ],
   "source": [
    "df.ArtistLatitude.plot.box()"
   ]
  },
  {
   "cell_type": "code",
   "execution_count": 32,
   "metadata": {
    "scrolled": true
   },
   "outputs": [
    {
     "data": {
      "text/plain": [
       "<matplotlib.axes._subplots.AxesSubplot at 0x22a7edc5518>"
      ]
     },
     "execution_count": 32,
     "metadata": {},
     "output_type": "execute_result"
    },
    {
     "data": {
      "image/png": "[encoded data removed]",
      "text/plain": [
       "<matplotlib.figure.Figure at 0x22a7ee0f668>"
      ]
     },
     "metadata": {},
     "output_type": "display_data"
    }
   ],
   "source": [
    "df.ArtistLongitude.plot(kind='hist')"
   ]
  },
  {
   "cell_type": "code",
   "execution_count": 33,
   "metadata": {
    "scrolled": true
   },
   "outputs": [
    {
     "data": {
      "text/plain": [
       "<matplotlib.axes._subplots.AxesSubplot at 0x22a7eecfe48>"
      ]
     },
     "execution_count": 33,
     "metadata": {},
     "output_type": "execute_result"
    },
    {
     "data": {
      "image/png": "[encoded data removed]",
      "text/plain": [
       "<matplotlib.figure.Figure at 0x22a7ee42080>"
      ]
     },
     "metadata": {},
     "output_type": "display_data"
    }
   ],
   "source": [
    "df.ArtistLongitude.plot.box()"
   ]
  },
  {
   "cell_type": "markdown",
   "metadata": {},
   "source": [
    "We will keep the artist locations for now as they are, since we wanted to look at the correlation between different song types and artist locations."
   ]
  },
  {
   "cell_type": "markdown",
   "metadata": {},
   "source": [
    "## Data Correlation"
   ]
  },
  {
   "cell_type": "code",
   "execution_count": 34,
   "metadata": {},
   "outputs": [
    {
     "data": {
      "text/html": [
       "<div>\n",
       "<style>\n",
       "    .dataframe thead tr:only-child th {\n",
       "        text-align: right;\n",
       "    }\n",
       "\n",
       "    .dataframe thead th {\n",
       "        text-align: left;\n",
       "    }\n",
       "\n",
       "    .dataframe tbody tr th {\n",
       "        vertical-align: top;\n",
       "    }\n",
       "</style>\n",
       "<table border=\"1\" class=\"dataframe\">\n",
       "  <thead>\n",
       "    <tr style=\"text-align: right;\">\n",
       "      <th></th>\n",
       "      <th>SongYear</th>\n",
       "      <th>SongDanceability</th>\n",
       "      <th>Duration</th>\n",
       "      <th>SongHotness</th>\n",
       "      <th>SongTempo</th>\n",
       "      <th>SongTimeSignature</th>\n",
       "      <th>SongTimeSignatureConfidence</th>\n",
       "      <th>ArtistLatitude</th>\n",
       "      <th>ArtistLongitude</th>\n",
       "    </tr>\n",
       "  </thead>\n",
       "  <tbody>\n",
       "    <tr>\n",
       "      <th>SongYear</th>\n",
       "      <td>1.000000</td>\n",
       "      <td>NaN</td>\n",
       "      <td>0.059714</td>\n",
       "      <td>0.072216</td>\n",
       "      <td>0.020238</td>\n",
       "      <td>0.122848</td>\n",
       "      <td>0.116367</td>\n",
       "      <td>-0.046133</td>\n",
       "      <td>0.017640</td>\n",
       "    </tr>\n",
       "    <tr>\n",
       "      <th>SongDanceability</th>\n",
       "      <td>NaN</td>\n",
       "      <td>NaN</td>\n",
       "      <td>NaN</td>\n",
       "      <td>NaN</td>\n",
       "      <td>NaN</td>\n",
       "      <td>NaN</td>\n",
       "      <td>NaN</td>\n",
       "      <td>NaN</td>\n",
       "      <td>NaN</td>\n",
       "    </tr>\n",
       "    <tr>\n",
       "      <th>Duration</th>\n",
       "      <td>0.059714</td>\n",
       "      <td>NaN</td>\n",
       "      <td>1.000000</td>\n",
       "      <td>0.007171</td>\n",
       "      <td>-0.031175</td>\n",
       "      <td>0.103162</td>\n",
       "      <td>0.118071</td>\n",
       "      <td>0.082933</td>\n",
       "      <td>0.065677</td>\n",
       "    </tr>\n",
       "    <tr>\n",
       "      <th>SongHotness</th>\n",
       "      <td>0.072216</td>\n",
       "      <td>NaN</td>\n",
       "      <td>0.007171</td>\n",
       "      <td>1.000000</td>\n",
       "      <td>0.068544</td>\n",
       "      <td>0.036205</td>\n",
       "      <td>0.040898</td>\n",
       "      <td>0.059111</td>\n",
       "      <td>-0.058235</td>\n",
       "    </tr>\n",
       "    <tr>\n",
       "      <th>SongTempo</th>\n",
       "      <td>0.020238</td>\n",
       "      <td>NaN</td>\n",
       "      <td>-0.031175</td>\n",
       "      <td>0.068544</td>\n",
       "      <td>1.000000</td>\n",
       "      <td>0.054625</td>\n",
       "      <td>-0.146500</td>\n",
       "      <td>-0.004998</td>\n",
       "      <td>-0.017976</td>\n",
       "    </tr>\n",
       "    <tr>\n",
       "      <th>SongTimeSignature</th>\n",
       "      <td>0.122848</td>\n",
       "      <td>NaN</td>\n",
       "      <td>0.103162</td>\n",
       "      <td>0.036205</td>\n",
       "      <td>0.054625</td>\n",
       "      <td>1.000000</td>\n",
       "      <td>0.324779</td>\n",
       "      <td>0.027432</td>\n",
       "      <td>0.012819</td>\n",
       "    </tr>\n",
       "    <tr>\n",
       "      <th>SongTimeSignatureConfidence</th>\n",
       "      <td>0.116367</td>\n",
       "      <td>NaN</td>\n",
       "      <td>0.118071</td>\n",
       "      <td>0.040898</td>\n",
       "      <td>-0.146500</td>\n",
       "      <td>0.324779</td>\n",
       "      <td>1.000000</td>\n",
       "      <td>-0.000546</td>\n",
       "      <td>0.042804</td>\n",
       "    </tr>\n",
       "    <tr>\n",
       "      <th>ArtistLatitude</th>\n",
       "      <td>-0.046133</td>\n",
       "      <td>NaN</td>\n",
       "      <td>0.082933</td>\n",
       "      <td>0.059111</td>\n",
       "      <td>-0.004998</td>\n",
       "      <td>0.027432</td>\n",
       "      <td>-0.000546</td>\n",
       "      <td>1.000000</td>\n",
       "      <td>0.028890</td>\n",
       "    </tr>\n",
       "    <tr>\n",
       "      <th>ArtistLongitude</th>\n",
       "      <td>0.017640</td>\n",
       "      <td>NaN</td>\n",
       "      <td>0.065677</td>\n",
       "      <td>-0.058235</td>\n",
       "      <td>-0.017976</td>\n",
       "      <td>0.012819</td>\n",
       "      <td>0.042804</td>\n",
       "      <td>0.028890</td>\n",
       "      <td>1.000000</td>\n",
       "    </tr>\n",
       "  </tbody>\n",
       "</table>\n",
       "</div>"
      ],
      "text/plain": [
       "                             SongYear  SongDanceability  Duration  \\\n",
       "SongYear                     1.000000               NaN  0.059714   \n",
       "SongDanceability                  NaN               NaN       NaN   \n",
       "Duration                     0.059714               NaN  1.000000   \n",
       "SongHotness                  0.072216               NaN  0.007171   \n",
       "SongTempo                    0.020238               NaN -0.031175   \n",
       "SongTimeSignature            0.122848               NaN  0.103162   \n",
       "SongTimeSignatureConfidence  0.116367               NaN  0.118071   \n",
       "ArtistLatitude              -0.046133               NaN  0.082933   \n",
       "ArtistLongitude              0.017640               NaN  0.065677   \n",
       "\n",
       "                             SongHotness  SongTempo  SongTimeSignature  \\\n",
       "SongYear                        0.072216   0.020238           0.122848   \n",
       "SongDanceability                     NaN        NaN                NaN   \n",
       "Duration                        0.007171  -0.031175           0.103162   \n",
       "SongHotness                     1.000000   0.068544           0.036205   \n",
       "SongTempo                       0.068544   1.000000           0.054625   \n",
       "SongTimeSignature               0.036205   0.054625           1.000000   \n",
       "SongTimeSignatureConfidence     0.040898  -0.146500           0.324779   \n",
       "ArtistLatitude                  0.059111  -0.004998           0.027432   \n",
       "ArtistLongitude                -0.058235  -0.017976           0.012819   \n",
       "\n",
       "                             SongTimeSignatureConfidence  ArtistLatitude  \\\n",
       "SongYear                                        0.116367       -0.046133   \n",
       "SongDanceability                                     NaN             NaN   \n",
       "Duration                                        0.118071        0.082933   \n",
       "SongHotness                                     0.040898        0.059111   \n",
       "SongTempo                                      -0.146500       -0.004998   \n",
       "SongTimeSignature                               0.324779        0.027432   \n",
       "SongTimeSignatureConfidence                     1.000000       -0.000546   \n",
       "ArtistLatitude                                 -0.000546        1.000000   \n",
       "ArtistLongitude                                 0.042804        0.028890   \n",
       "\n",
       "                             ArtistLongitude  \n",
       "SongYear                            0.017640  \n",
       "SongDanceability                         NaN  \n",
       "Duration                            0.065677  \n",
       "SongHotness                        -0.058235  \n",
       "SongTempo                          -0.017976  \n",
       "SongTimeSignature                   0.012819  \n",
       "SongTimeSignatureConfidence         0.042804  \n",
       "ArtistLatitude                      0.028890  \n",
       "ArtistLongitude                     1.000000  "
      ]
     },
     "execution_count": 34,
     "metadata": {},
     "output_type": "execute_result"
    }
   ],
   "source": [
    "normalized_df.corr()"
   ]
  },
  {
   "cell_type": "code",
   "execution_count": 35,
   "metadata": {
    "scrolled": true
   },
   "outputs": [
    {
     "data": {
      "image/png": "[encoded data removed]",
      "text/plain": [
       "<matplotlib.figure.Figure at 0x22a7ead7b00>"
      ]
     },
     "metadata": {},
     "output_type": "display_data"
    }
   ],
   "source": [
    "x = normalized_df.SongYear\n",
    "y = normalized_df.SongHotness\n",
    "xmin = x.min()\n",
    "xmax = x.max()\n",
    "ymin = y.min()\n",
    "ymax = y.max()\n",
    "\n",
    "fig, ax = plt.subplots()\n",
    "hb = ax.hexbin(x, y, gridsize=25, cmap='Blues')\n",
    "ax.axis([xmin, xmax, ymin - 0.1, ymax + 0.1])\n",
    "ax.set_title(\"Hexagon binning Year, Hotness\")\n",
    "cb = fig.colorbar(hb, ax=ax)\n",
    "cb.set_label('counts')\n",
    "\n",
    "plt.show()"
   ]
  },
  {
   "cell_type": "markdown",
   "metadata": {},
   "source": [
    "TODO other plots, improve coloring with color bins"
   ]
  },
  {
   "cell_type": "markdown",
   "metadata": {},
   "source": [
    "## Feature Engineering"
   ]
  },
  {
   "cell_type": "markdown",
   "metadata": {},
   "source": [
    "TODO Handle genre arrays"
   ]
  },
  {
   "cell_type": "markdown",
   "metadata": {},
   "source": [
    "TODO Genre Mapping + stats for different genres"
   ]
  },
  {
   "cell_type": "markdown",
   "metadata": {
    "collapsed": true
   },
   "source": [
    "## Updated Plan"
   ]
  },
  {
   "cell_type": "markdown",
   "metadata": {},
   "source": [
    "### Gained Knowledge\n",
    "\n",
    "TODO Reflect new knowledge, does data suits needs"
   ]
  },
  {
   "cell_type": "markdown",
   "metadata": {},
   "source": [
    "### Methods for the future\n",
    "\n",
    "** Use cluster and full data set, redo analysis **  \n",
    "\n",
    "The data set contains already collected data so that a natural experiment is not possible.  \n",
    "Propensity scores are hard to apply to time series. Therefore, we will use sensivity analysis to prove our results.  \n",
    "  \n",
    "TODO explain sensivity analysis\n",
    "\n",
    "* Which features did change (e.g. bpm, beats)?\n",
    "   * Calculate features aggregated by year, plot time series (with error bars)\n",
    "   * Can we see a major change of one features over the years?\n",
    "   * State results with sensivity analysis model\n",
    "  \n",
    "  \n",
    "* How did genres change (e.g. popularity, features of specific genres, higher variance)?\n",
    "    * Create data frame for each genre with songs of genre\n",
    "    * Plot number of songs per year\n",
    "    * Redo question one for features\n",
    "    * Plot chart which shows span of features per year\n",
    "    * Look at subgenres?\n",
    "    * State results with sensivity analysis model\n",
    "  \n",
    "  \n",
    "* How did the distribution of music change (e.g. change of number of genres, variance of features)?\n",
    "    * Plot chart that shows the numer of features per year\n",
    "    * Plot chart which shows genre distribution (number of songs per genre) over time\n",
    "    * State results with sensivity analysis model\n",
    "  \n",
    "  \n",
    "* Train classifier for genre on recent songs\n",
    "    * Apply it to old songs\n",
    "    * Evaluate the results\n",
    "  \n",
    "\n",
    "Ignore those since we lost one team member?\n",
    "* Which songs from the past are still trending (why)?\n",
    "* How did song titles (artist names) change over time?\n",
    "* Where did (which) songs get released at which time (do dependencies exist between similar Songs)?\n",
    "  \n",
    "  \n",
    "Other interesting analysis:\n",
    "* Run unsupervised clustering\n",
    "    * compare clusters to genres\n",
    "* Compare song and artist name with codec (TODO explain)\n"
   ]
  },
  {
   "cell_type": "markdown",
   "metadata": {},
   "source": [
    "It is hard to finally decide which methods will or will not work out, since we only had access to 1/1000 of the dataset.  \n",
    "Therefore we might drop or add analysis for milestone 3."
   ]
  }
 ],
 "metadata": {
  "anaconda-cloud": {},
  "kernelspec": {
   "display_name": "Python 3",
   "language": "python",
   "name": "python3"
  },
  "language_info": {
   "codemirror_mode": {
    "name": "ipython",
    "version": 3
   },
   "file_extension": ".py",
   "mimetype": "text/x-python",
   "name": "python",
   "nbconvert_exporter": "python",
   "pygments_lexer": "ipython3",
   "version": "3.6.1"
  }
 },
 "nbformat": 4,
 "nbformat_minor": 1
}
