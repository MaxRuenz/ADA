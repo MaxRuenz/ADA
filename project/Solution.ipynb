{
 "cells": [
  {
   "cell_type": "markdown",
   "metadata": {},
   "source": [
    "# Information:\n",
    "This NoteBook is here to have a clean version of what we did in the other NoteBook, it'll be the final one used, which should be clean, pretty and understable."
   ]
  },
  {
   "cell_type": "code",
   "execution_count": 33,
   "metadata": {},
   "outputs": [],
   "source": [
    "%matplotlib inline\n",
    "import getters as hdf5_getters\n",
    "import sqlite3 as sq\n",
    "import os\n",
    "import pandas as pd\n",
    "import glob\n",
    "import matplotlib.pyplot as plt\n",
    "from sklearn.linear_model import LinearRegression, LogisticRegression"
   ]
  },
  {
   "cell_type": "code",
   "execution_count": 2,
   "metadata": {},
   "outputs": [],
   "source": [
    "local_path = 'C:/Users/M4X/Documents/Uni/EPFL/ADA/ADA/project/data'"
   ]
  },
  {
   "cell_type": "code",
   "execution_count": 3,
   "metadata": {},
   "outputs": [],
   "source": [
    "def get_all_interesting_data(basedir,ext='.h5') :\n",
    "    datas = []\n",
    "    iteration = 0\n",
    "    for root, dirs, files in os.walk(basedir):\n",
    "        files = glob.glob(os.path.join(root,'*'+ext))\n",
    "        for f in files:\n",
    "            oneSongData = []\n",
    "            h5 = hdf5_getters.open_h5_file_read(f)\n",
    "            oneSongData.append( hdf5_getters.get_artist_id(h5))\n",
    "            oneSongData.append(hdf5_getters.get_artist_name(h5))\n",
    "            oneSongData.append(hdf5_getters.get_year(h5))\n",
    "            oneSongData.append(hdf5_getters.get_danceability(h5)) #always zero\n",
    "            oneSongData.append(hdf5_getters.get_duration(h5))\n",
    "            oneSongData.append(hdf5_getters.get_song_hotttnesss(h5))\n",
    "            oneSongData.append(hdf5_getters.get_title)\n",
    "            oneSongData.append(hdf5_getters.get_tempo(h5))\n",
    "            oneSongData.append(hdf5_getters.get_time_signature(h5))\n",
    "            oneSongData.append(hdf5_getters.get_time_signature_confidence(h5))\n",
    "            oneSongData.append(hdf5_getters.get_artist_mbtags(h5))\n",
    "            oneSongData.append(hdf5_getters.get_artist_terms(h5))\n",
    "            oneSongData.append(hdf5_getters.get_artist_location(h5))\n",
    "            oneSongData.append(hdf5_getters.get_artist_latitude(h5))\n",
    "            oneSongData.append(hdf5_getters.get_artist_longitude(h5))\n",
    "            h5.close()\n",
    "            iteration+=1\n",
    "            if(iteration%1000== 0):\n",
    "                print(iteration)\n",
    "            datas.append(oneSongData)\n",
    "    return datas"
   ]
  },
  {
   "cell_type": "code",
   "execution_count": 4,
   "metadata": {},
   "outputs": [
    {
     "name": "stdout",
     "output_type": "stream",
     "text": [
      "1000\n",
      "2000\n",
      "3000\n",
      "4000\n",
      "5000\n",
      "6000\n",
      "7000\n",
      "8000\n",
      "9000\n",
      "10000\n"
     ]
    }
   ],
   "source": [
    "datas = get_all_interesting_data(local_path)"
   ]
  },
  {
   "cell_type": "code",
   "execution_count": 5,
   "metadata": {},
   "outputs": [],
   "source": [
    "df = pd.DataFrame(datas,columns=['ArtistID','ArtistName','SongYear','SongDanceability','Duration','SongHotness','SongTitle','SongTempo','SongTimeSignature','SongTimeSignatureConfidence','ArtistMbtags','ArtistTerms','ArtistLocation','ArtistLatitude','ArtistLongitude'])"
   ]
  },
  {
   "cell_type": "markdown",
   "metadata": {},
   "source": [
    "Since we want to analyze music evolution over time, we cannot use Songs without specified year."
   ]
  },
  {
   "cell_type": "code",
   "execution_count": 6,
   "metadata": {},
   "outputs": [],
   "source": [
    "df = df[df['SongYear']>0]"
   ]
  },
  {
   "cell_type": "code",
   "execution_count": 7,
   "metadata": {},
   "outputs": [
    {
     "data": {
      "text/plain": [
       "Index(['ArtistID', 'ArtistName', 'SongYear', 'SongDanceability', 'Duration',\n",
       "       'SongHotness', 'SongTitle', 'SongTempo', 'SongTimeSignature',\n",
       "       'SongTimeSignatureConfidence', 'ArtistMbtags', 'ArtistTerms',\n",
       "       'ArtistLocation', 'ArtistLatitude', 'ArtistLongitude'],\n",
       "      dtype='object')"
      ]
     },
     "execution_count": 7,
     "metadata": {},
     "output_type": "execute_result"
    }
   ],
   "source": [
    "df.columns"
   ]
  },
  {
   "cell_type": "code",
   "execution_count": 8,
   "metadata": {},
   "outputs": [
    {
     "data": {
      "text/plain": [
       "ArtistID                          0\n",
       "ArtistName                        0\n",
       "SongYear                          0\n",
       "SongDanceability                  0\n",
       "Duration                          0\n",
       "SongHotness                    1616\n",
       "SongTitle                         0\n",
       "SongTempo                         0\n",
       "SongTimeSignature                 0\n",
       "SongTimeSignatureConfidence       0\n",
       "ArtistMbtags                      0\n",
       "ArtistTerms                       0\n",
       "ArtistLocation                    0\n",
       "ArtistLatitude                 2855\n",
       "ArtistLongitude                2855\n",
       "dtype: int64"
      ]
     },
     "execution_count": 8,
     "metadata": {},
     "output_type": "execute_result"
    }
   ],
   "source": [
    "df.isnull().sum()"
   ]
  },
  {
   "cell_type": "markdown",
   "metadata": {},
   "source": [
    "TODO"
   ]
  },
  {
   "cell_type": "code",
   "execution_count": 9,
   "metadata": {},
   "outputs": [
    {
     "data": {
      "text/html": [
       "<div>\n",
       "<style>\n",
       "    .dataframe thead tr:only-child th {\n",
       "        text-align: right;\n",
       "    }\n",
       "\n",
       "    .dataframe thead th {\n",
       "        text-align: left;\n",
       "    }\n",
       "\n",
       "    .dataframe tbody tr th {\n",
       "        vertical-align: top;\n",
       "    }\n",
       "</style>\n",
       "<table border=\"1\" class=\"dataframe\">\n",
       "  <thead>\n",
       "    <tr style=\"text-align: right;\">\n",
       "      <th></th>\n",
       "      <th>SongYear</th>\n",
       "      <th>SongDanceability</th>\n",
       "      <th>Duration</th>\n",
       "      <th>SongHotness</th>\n",
       "      <th>SongTempo</th>\n",
       "      <th>SongTimeSignature</th>\n",
       "      <th>SongTimeSignatureConfidence</th>\n",
       "      <th>ArtistLatitude</th>\n",
       "      <th>ArtistLongitude</th>\n",
       "    </tr>\n",
       "  </thead>\n",
       "  <tbody>\n",
       "    <tr>\n",
       "      <th>count</th>\n",
       "      <td>4680.000000</td>\n",
       "      <td>4680.0</td>\n",
       "      <td>4680.000000</td>\n",
       "      <td>3064.000000</td>\n",
       "      <td>4680.000000</td>\n",
       "      <td>4680.000000</td>\n",
       "      <td>4680.000000</td>\n",
       "      <td>1825.000000</td>\n",
       "      <td>1825.000000</td>\n",
       "    </tr>\n",
       "    <tr>\n",
       "      <th>mean</th>\n",
       "      <td>1997.232051</td>\n",
       "      <td>0.0</td>\n",
       "      <td>238.781146</td>\n",
       "      <td>0.444377</td>\n",
       "      <td>125.163716</td>\n",
       "      <td>3.586111</td>\n",
       "      <td>0.510216</td>\n",
       "      <td>37.501760</td>\n",
       "      <td>-61.772744</td>\n",
       "    </tr>\n",
       "    <tr>\n",
       "      <th>std</th>\n",
       "      <td>11.686691</td>\n",
       "      <td>0.0</td>\n",
       "      <td>101.345438</td>\n",
       "      <td>0.222470</td>\n",
       "      <td>35.272251</td>\n",
       "      <td>1.240247</td>\n",
       "      <td>0.375063</td>\n",
       "      <td>16.273911</td>\n",
       "      <td>51.525675</td>\n",
       "    </tr>\n",
       "    <tr>\n",
       "      <th>min</th>\n",
       "      <td>1926.000000</td>\n",
       "      <td>0.0</td>\n",
       "      <td>1.044440</td>\n",
       "      <td>0.000000</td>\n",
       "      <td>0.000000</td>\n",
       "      <td>0.000000</td>\n",
       "      <td>0.000000</td>\n",
       "      <td>-41.280540</td>\n",
       "      <td>-155.434140</td>\n",
       "    </tr>\n",
       "    <tr>\n",
       "      <th>25%</th>\n",
       "      <td>1993.000000</td>\n",
       "      <td>0.0</td>\n",
       "      <td>181.152200</td>\n",
       "      <td>0.313562</td>\n",
       "      <td>98.698500</td>\n",
       "      <td>3.000000</td>\n",
       "      <td>0.089000</td>\n",
       "      <td>34.053490</td>\n",
       "      <td>-93.264930</td>\n",
       "    </tr>\n",
       "    <tr>\n",
       "      <th>50%</th>\n",
       "      <td>2001.000000</td>\n",
       "      <td>0.0</td>\n",
       "      <td>227.382400</td>\n",
       "      <td>0.473347</td>\n",
       "      <td>122.226500</td>\n",
       "      <td>4.000000</td>\n",
       "      <td>0.553000</td>\n",
       "      <td>40.102160</td>\n",
       "      <td>-79.385330</td>\n",
       "    </tr>\n",
       "    <tr>\n",
       "      <th>75%</th>\n",
       "      <td>2006.000000</td>\n",
       "      <td>0.0</td>\n",
       "      <td>278.406080</td>\n",
       "      <td>0.604554</td>\n",
       "      <td>146.572000</td>\n",
       "      <td>4.000000</td>\n",
       "      <td>0.868000</td>\n",
       "      <td>44.979030</td>\n",
       "      <td>-3.996670</td>\n",
       "    </tr>\n",
       "    <tr>\n",
       "      <th>max</th>\n",
       "      <td>2010.000000</td>\n",
       "      <td>0.0</td>\n",
       "      <td>1598.197100</td>\n",
       "      <td>1.000000</td>\n",
       "      <td>258.677000</td>\n",
       "      <td>7.000000</td>\n",
       "      <td>1.000000</td>\n",
       "      <td>69.651020</td>\n",
       "      <td>174.767140</td>\n",
       "    </tr>\n",
       "  </tbody>\n",
       "</table>\n",
       "</div>"
      ],
      "text/plain": [
       "          SongYear  SongDanceability     Duration  SongHotness    SongTempo  \\\n",
       "count  4680.000000            4680.0  4680.000000  3064.000000  4680.000000   \n",
       "mean   1997.232051               0.0   238.781146     0.444377   125.163716   \n",
       "std      11.686691               0.0   101.345438     0.222470    35.272251   \n",
       "min    1926.000000               0.0     1.044440     0.000000     0.000000   \n",
       "25%    1993.000000               0.0   181.152200     0.313562    98.698500   \n",
       "50%    2001.000000               0.0   227.382400     0.473347   122.226500   \n",
       "75%    2006.000000               0.0   278.406080     0.604554   146.572000   \n",
       "max    2010.000000               0.0  1598.197100     1.000000   258.677000   \n",
       "\n",
       "       SongTimeSignature  SongTimeSignatureConfidence  ArtistLatitude  \\\n",
       "count        4680.000000                  4680.000000     1825.000000   \n",
       "mean            3.586111                     0.510216       37.501760   \n",
       "std             1.240247                     0.375063       16.273911   \n",
       "min             0.000000                     0.000000      -41.280540   \n",
       "25%             3.000000                     0.089000       34.053490   \n",
       "50%             4.000000                     0.553000       40.102160   \n",
       "75%             4.000000                     0.868000       44.979030   \n",
       "max             7.000000                     1.000000       69.651020   \n",
       "\n",
       "       ArtistLongitude  \n",
       "count      1825.000000  \n",
       "mean        -61.772744  \n",
       "std          51.525675  \n",
       "min        -155.434140  \n",
       "25%         -93.264930  \n",
       "50%         -79.385330  \n",
       "75%          -3.996670  \n",
       "max         174.767140  "
      ]
     },
     "execution_count": 9,
     "metadata": {},
     "output_type": "execute_result"
    }
   ],
   "source": [
    "df.describe()"
   ]
  },
  {
   "cell_type": "markdown",
   "metadata": {},
   "source": [
    "|         |  ArtistID  | ArtistName |  SongYear  | SongDanceability |  Duration  | SongHotness | SongTitle |  SongTempo | SongTimeSignature | SongTimeSignatureConfidence | ArtistMbtags | ArtistTerms | ArtistLocation | ArtistLatitude | ArtistLongitude |\n",
    "|:-------:|:----------:|------------|:----------:|:----------------:|:----------:|:-----------:|:---------:|:----------:|:-----------------:|:---------------------------:|:------------:|:-----------:|:--------------:|:--------------:|:---------------:|\n",
    "|  format |     int    |   string   |     int    |       float      |    float   |    float    |   string  |    float   |                   |                             |    string    |    string   |     string     |      float     |      float      |\n",
    "|   type  | categorial | categorial | continious |    continious    | continious |  continious |     -     | continious |      Ordinal      |          continious         |              |             |                |   continious   |    continious   |\n",
    "| comment |            |            |            |                  |            |             |           |            |                   |                             |              |             |                |                |                 |\n",
    "|         |            |            |            |                  |            |             |           |            |                   |                             |              |             |                |                |                 |"
   ]
  },
  {
   "cell_type": "code",
   "execution_count": 10,
   "metadata": {},
   "outputs": [
    {
     "data": {
      "text/plain": [
       "<matplotlib.axes._subplots.AxesSubplot at 0x1ed0dbd1860>"
      ]
     },
     "execution_count": 10,
     "metadata": {},
     "output_type": "execute_result"
    },
    {
     "data": {
      "image/png": "[encoded data removed]",
      "text/plain": [
       "<matplotlib.figure.Figure at 0x1ed12819e48>"
      ]
     },
     "metadata": {},
     "output_type": "display_data"
    }
   ],
   "source": [
    "df.SongYear.plot(kind='hist')"
   ]
  },
  {
   "cell_type": "code",
   "execution_count": 11,
   "metadata": {},
   "outputs": [
    {
     "data": {
      "text/plain": [
       "<matplotlib.axes._subplots.AxesSubplot at 0x1ed126e8a58>"
      ]
     },
     "execution_count": 11,
     "metadata": {},
     "output_type": "execute_result"
    },
    {
     "data": {
      "image/png": "[encoded data removed]",
      "text/plain": [
       "<matplotlib.figure.Figure at 0x1ed0df9b518>"
      ]
     },
     "metadata": {},
     "output_type": "display_data"
    }
   ],
   "source": [
    "df.SongYear.plot.box()"
   ]
  },
  {
   "cell_type": "markdown",
   "metadata": {},
   "source": [
    "The distribution of the year feature is negatively skewed.  \n",
    "The available years span from 1926 to 2010.  \n",
    "It makes sense to normalize the feature with scaling."
   ]
  },
  {
   "cell_type": "code",
   "execution_count": 12,
   "metadata": {
    "scrolled": true
   },
   "outputs": [
    {
     "data": {
      "text/plain": [
       "<matplotlib.axes._subplots.AxesSubplot at 0x1ed0f1cfe48>"
      ]
     },
     "execution_count": 12,
     "metadata": {},
     "output_type": "execute_result"
    },
    {
     "data": {
      "image/png": "[encoded data removed]",
      "text/plain": [
       "<matplotlib.figure.Figure at 0x1ed0f0a0550>"
      ]
     },
     "metadata": {},
     "output_type": "display_data"
    }
   ],
   "source": [
    "df.SongDanceability.plot(kind='hist')"
   ]
  },
  {
   "cell_type": "code",
   "execution_count": 13,
   "metadata": {},
   "outputs": [
    {
     "data": {
      "text/plain": [
       "<matplotlib.axes._subplots.AxesSubplot at 0x1ed1157e550>"
      ]
     },
     "execution_count": 13,
     "metadata": {},
     "output_type": "execute_result"
    },
    {
     "data": {
      "image/png": "[encoded data removed]",
      "text/plain": [
       "<matplotlib.figure.Figure at 0x1ed1284ba90>"
      ]
     },
     "metadata": {},
     "output_type": "display_data"
    }
   ],
   "source": [
    "df.SongDanceability.plot.box()"
   ]
  },
  {
   "cell_type": "code",
   "execution_count": 14,
   "metadata": {},
   "outputs": [
    {
     "name": "stdout",
     "output_type": "stream",
     "text": [
      "4680\n"
     ]
    }
   ],
   "source": [
    "print(df[df['SongDanceability'] == 0].shape[0])"
   ]
  },
  {
   "cell_type": "markdown",
   "metadata": {},
   "source": [
    "TODO Description: Subset only 0"
   ]
  },
  {
   "cell_type": "code",
   "execution_count": 15,
   "metadata": {
    "scrolled": true
   },
   "outputs": [
    {
     "name": "stdout",
     "output_type": "stream",
     "text": [
      "(35, 15)\n",
      "(73, 15)\n"
     ]
    },
    {
     "data": {
      "image/png": "[encoded data removed]",
      "text/plain": [
       "<matplotlib.figure.Figure at 0x1ed0f1e4d68>"
      ]
     },
     "metadata": {},
     "output_type": "display_data"
    }
   ],
   "source": [
    "df.Duration.plot(kind='hist',bins=50)\n",
    "print(df[df['Duration']>600].shape)\n",
    "print(df[df['Duration']<60].shape)"
   ]
  },
  {
   "cell_type": "code",
   "execution_count": 16,
   "metadata": {},
   "outputs": [
    {
     "data": {
      "text/plain": [
       "<matplotlib.axes._subplots.AxesSubplot at 0x1ed13d08978>"
      ]
     },
     "execution_count": 16,
     "metadata": {},
     "output_type": "execute_result"
    },
    {
     "data": {
      "image/png": "[encoded data removed]",
      "text/plain": [
       "<matplotlib.figure.Figure at 0x1ed0f0fc390>"
      ]
     },
     "metadata": {},
     "output_type": "display_data"
    }
   ],
   "source": [
    "df.Duration.plot.box()"
   ]
  },
  {
   "cell_type": "markdown",
   "metadata": {},
   "source": [
    "TODO Duration: Remove tails"
   ]
  },
  {
   "cell_type": "code",
   "execution_count": 17,
   "metadata": {
    "scrolled": false
   },
   "outputs": [
    {
     "data": {
      "text/plain": [
       "<matplotlib.axes._subplots.AxesSubplot at 0x1ed13c23d30>"
      ]
     },
     "execution_count": 17,
     "metadata": {},
     "output_type": "execute_result"
    },
    {
     "data": {
      "image/png": "[encoded data removed]",
      "text/plain": [
       "<matplotlib.figure.Figure at 0x1ed0dd93208>"
      ]
     },
     "metadata": {},
     "output_type": "display_data"
    }
   ],
   "source": [
    "df.SongHotness.plot(kind='hist')"
   ]
  },
  {
   "cell_type": "code",
   "execution_count": 18,
   "metadata": {},
   "outputs": [
    {
     "data": {
      "text/plain": [
       "<matplotlib.axes._subplots.AxesSubplot at 0x1ed13e1a198>"
      ]
     },
     "execution_count": 18,
     "metadata": {},
     "output_type": "execute_result"
    },
    {
     "data": {
      "image/png": "[encoded data removed]",
      "text/plain": [
       "<matplotlib.figure.Figure at 0x1ed0dd93eb8>"
      ]
     },
     "metadata": {},
     "output_type": "display_data"
    }
   ],
   "source": [
    "df.SongHotness.plot.box()"
   ]
  },
  {
   "cell_type": "markdown",
   "metadata": {},
   "source": [
    "TODO Hotness: Distribution  \n",
    "When analysing hotness remove songs with hotness of zero."
   ]
  },
  {
   "cell_type": "code",
   "execution_count": 19,
   "metadata": {
    "scrolled": false
   },
   "outputs": [
    {
     "data": {
      "text/plain": [
       "<matplotlib.axes._subplots.AxesSubplot at 0x1ed13e31780>"
      ]
     },
     "execution_count": 19,
     "metadata": {},
     "output_type": "execute_result"
    },
    {
     "data": {
      "image/png": "[encoded data removed]",
      "text/plain": [
       "<matplotlib.figure.Figure at 0x1ed0dd29a20>"
      ]
     },
     "metadata": {},
     "output_type": "display_data"
    }
   ],
   "source": [
    "df.SongTempo.plot(kind='hist')"
   ]
  },
  {
   "cell_type": "code",
   "execution_count": 20,
   "metadata": {},
   "outputs": [
    {
     "data": {
      "text/plain": [
       "<matplotlib.axes._subplots.AxesSubplot at 0x1ed13f424e0>"
      ]
     },
     "execution_count": 20,
     "metadata": {},
     "output_type": "execute_result"
    },
    {
     "data": {
      "image/png": "[encoded data removed]",
      "text/plain": [
       "<matplotlib.figure.Figure at 0x1ed13f895f8>"
      ]
     },
     "metadata": {},
     "output_type": "display_data"
    }
   ],
   "source": [
    "df.SongTempo.plot.box()"
   ]
  },
  {
   "cell_type": "markdown",
   "metadata": {},
   "source": [
    "TODO Tempo: Distribution, remove tails?"
   ]
  },
  {
   "cell_type": "code",
   "execution_count": 21,
   "metadata": {
    "scrolled": true
   },
   "outputs": [
    {
     "data": {
      "text/plain": [
       "<matplotlib.axes._subplots.AxesSubplot at 0x1ed13f98588>"
      ]
     },
     "execution_count": 21,
     "metadata": {},
     "output_type": "execute_result"
    },
    {
     "data": {
      "image/png": "[encoded data removed]",
      "text/plain": [
       "<matplotlib.figure.Figure at 0x1ed0f316320>"
      ]
     },
     "metadata": {},
     "output_type": "display_data"
    }
   ],
   "source": [
    "df.SongTimeSignature.plot(kind='hist')"
   ]
  },
  {
   "cell_type": "code",
   "execution_count": 22,
   "metadata": {},
   "outputs": [
    {
     "data": {
      "text/plain": [
       "<matplotlib.axes._subplots.AxesSubplot at 0x1ed13f07c88>"
      ]
     },
     "execution_count": 22,
     "metadata": {},
     "output_type": "execute_result"
    },
    {
     "data": {
      "image/png": "[encoded data removed]",
      "text/plain": [
       "<matplotlib.figure.Figure at 0x1ed140da278>"
      ]
     },
     "metadata": {},
     "output_type": "display_data"
    }
   ],
   "source": [
    "df.SongTimeSignature.plot.box()"
   ]
  },
  {
   "cell_type": "markdown",
   "metadata": {},
   "source": [
    "TODO: Distribution"
   ]
  },
  {
   "cell_type": "code",
   "execution_count": 23,
   "metadata": {
    "scrolled": true
   },
   "outputs": [
    {
     "data": {
      "text/plain": [
       "<matplotlib.axes._subplots.AxesSubplot at 0x1ed140a1828>"
      ]
     },
     "execution_count": 23,
     "metadata": {},
     "output_type": "execute_result"
    },
    {
     "data": {
      "image/png": "[encoded data removed]",
      "text/plain": [
       "<matplotlib.figure.Figure at 0x1ed140fea90>"
      ]
     },
     "metadata": {},
     "output_type": "display_data"
    }
   ],
   "source": [
    "df.SongTimeSignatureConfidence.plot(kind='hist')"
   ]
  },
  {
   "cell_type": "code",
   "execution_count": 24,
   "metadata": {},
   "outputs": [
    {
     "data": {
      "text/plain": [
       "<matplotlib.axes._subplots.AxesSubplot at 0x1ed14182978>"
      ]
     },
     "execution_count": 24,
     "metadata": {},
     "output_type": "execute_result"
    },
    {
     "data": {
      "image/png": "[encoded data removed]",
      "text/plain": [
       "<matplotlib.figure.Figure at 0x1ed0dbc64e0>"
      ]
     },
     "metadata": {},
     "output_type": "display_data"
    }
   ],
   "source": [
    "df.SongTimeSignatureConfidence.plot.box()"
   ]
  },
  {
   "cell_type": "markdown",
   "metadata": {},
   "source": [
    "TODO Distribution  \n",
    "When analysing TimeSignature remove songs with low confidence"
   ]
  },
  {
   "cell_type": "code",
   "execution_count": 25,
   "metadata": {
    "scrolled": true
   },
   "outputs": [
    {
     "data": {
      "text/plain": [
       "<matplotlib.axes._subplots.AxesSubplot at 0x1ed14189fd0>"
      ]
     },
     "execution_count": 25,
     "metadata": {},
     "output_type": "execute_result"
    },
    {
     "data": {
      "image/png": "[encoded data removed]",
      "text/plain": [
       "<matplotlib.figure.Figure at 0x1ed1399e4a8>"
      ]
     },
     "metadata": {},
     "output_type": "display_data"
    }
   ],
   "source": [
    "df.ArtistLatitude.plot(kind='hist')"
   ]
  },
  {
   "cell_type": "code",
   "execution_count": 26,
   "metadata": {},
   "outputs": [
    {
     "data": {
      "text/plain": [
       "<matplotlib.axes._subplots.AxesSubplot at 0x1ed141dfc88>"
      ]
     },
     "execution_count": 26,
     "metadata": {},
     "output_type": "execute_result"
    },
    {
     "data": {
      "image/png": "[encoded data removed]",
      "text/plain": [
       "<matplotlib.figure.Figure at 0x1ed139d1b00>"
      ]
     },
     "metadata": {},
     "output_type": "display_data"
    }
   ],
   "source": [
    "df.ArtistLatitude.plot.box()"
   ]
  },
  {
   "cell_type": "markdown",
   "metadata": {},
   "source": [
    "TODO"
   ]
  },
  {
   "cell_type": "code",
   "execution_count": 27,
   "metadata": {
    "scrolled": true
   },
   "outputs": [
    {
     "data": {
      "text/plain": [
       "<matplotlib.axes._subplots.AxesSubplot at 0x1ed1163d438>"
      ]
     },
     "execution_count": 27,
     "metadata": {},
     "output_type": "execute_result"
    },
    {
     "data": {
      "image/png": "[encoded data removed]",
      "text/plain": [
       "<matplotlib.figure.Figure at 0x1ed1422a400>"
      ]
     },
     "metadata": {},
     "output_type": "display_data"
    }
   ],
   "source": [
    "df.ArtistLongitude.plot(kind='hist')"
   ]
  },
  {
   "cell_type": "code",
   "execution_count": 28,
   "metadata": {
    "scrolled": true
   },
   "outputs": [
    {
     "data": {
      "text/plain": [
       "<matplotlib.axes._subplots.AxesSubplot at 0x1ed1422a9e8>"
      ]
     },
     "execution_count": 28,
     "metadata": {},
     "output_type": "execute_result"
    },
    {
     "data": {
      "image/png": "[encoded data removed]",
      "text/plain": [
       "<matplotlib.figure.Figure at 0x1ed14285a58>"
      ]
     },
     "metadata": {},
     "output_type": "display_data"
    }
   ],
   "source": [
    "df.ArtistLongitude.plot.box()"
   ]
  },
  {
   "cell_type": "markdown",
   "metadata": {},
   "source": [
    "TODO"
   ]
  },
  {
   "cell_type": "code",
   "execution_count": 29,
   "metadata": {},
   "outputs": [
    {
     "data": {
      "text/html": [
       "<div>\n",
       "<style>\n",
       "    .dataframe thead tr:only-child th {\n",
       "        text-align: right;\n",
       "    }\n",
       "\n",
       "    .dataframe thead th {\n",
       "        text-align: left;\n",
       "    }\n",
       "\n",
       "    .dataframe tbody tr th {\n",
       "        vertical-align: top;\n",
       "    }\n",
       "</style>\n",
       "<table border=\"1\" class=\"dataframe\">\n",
       "  <thead>\n",
       "    <tr style=\"text-align: right;\">\n",
       "      <th></th>\n",
       "      <th>SongYear</th>\n",
       "      <th>SongDanceability</th>\n",
       "      <th>Duration</th>\n",
       "      <th>SongHotness</th>\n",
       "      <th>SongTempo</th>\n",
       "      <th>SongTimeSignature</th>\n",
       "      <th>SongTimeSignatureConfidence</th>\n",
       "      <th>ArtistLatitude</th>\n",
       "      <th>ArtistLongitude</th>\n",
       "    </tr>\n",
       "  </thead>\n",
       "  <tbody>\n",
       "    <tr>\n",
       "      <th>SongYear</th>\n",
       "      <td>1.000000</td>\n",
       "      <td>NaN</td>\n",
       "      <td>0.059714</td>\n",
       "      <td>0.072216</td>\n",
       "      <td>0.020238</td>\n",
       "      <td>0.122848</td>\n",
       "      <td>0.116367</td>\n",
       "      <td>-0.046133</td>\n",
       "      <td>0.017640</td>\n",
       "    </tr>\n",
       "    <tr>\n",
       "      <th>SongDanceability</th>\n",
       "      <td>NaN</td>\n",
       "      <td>NaN</td>\n",
       "      <td>NaN</td>\n",
       "      <td>NaN</td>\n",
       "      <td>NaN</td>\n",
       "      <td>NaN</td>\n",
       "      <td>NaN</td>\n",
       "      <td>NaN</td>\n",
       "      <td>NaN</td>\n",
       "    </tr>\n",
       "    <tr>\n",
       "      <th>Duration</th>\n",
       "      <td>0.059714</td>\n",
       "      <td>NaN</td>\n",
       "      <td>1.000000</td>\n",
       "      <td>0.007171</td>\n",
       "      <td>-0.031175</td>\n",
       "      <td>0.103162</td>\n",
       "      <td>0.118071</td>\n",
       "      <td>0.082933</td>\n",
       "      <td>0.065677</td>\n",
       "    </tr>\n",
       "    <tr>\n",
       "      <th>SongHotness</th>\n",
       "      <td>0.072216</td>\n",
       "      <td>NaN</td>\n",
       "      <td>0.007171</td>\n",
       "      <td>1.000000</td>\n",
       "      <td>0.068544</td>\n",
       "      <td>0.036205</td>\n",
       "      <td>0.040898</td>\n",
       "      <td>0.059111</td>\n",
       "      <td>-0.058235</td>\n",
       "    </tr>\n",
       "    <tr>\n",
       "      <th>SongTempo</th>\n",
       "      <td>0.020238</td>\n",
       "      <td>NaN</td>\n",
       "      <td>-0.031175</td>\n",
       "      <td>0.068544</td>\n",
       "      <td>1.000000</td>\n",
       "      <td>0.054625</td>\n",
       "      <td>-0.146500</td>\n",
       "      <td>-0.004998</td>\n",
       "      <td>-0.017976</td>\n",
       "    </tr>\n",
       "    <tr>\n",
       "      <th>SongTimeSignature</th>\n",
       "      <td>0.122848</td>\n",
       "      <td>NaN</td>\n",
       "      <td>0.103162</td>\n",
       "      <td>0.036205</td>\n",
       "      <td>0.054625</td>\n",
       "      <td>1.000000</td>\n",
       "      <td>0.324779</td>\n",
       "      <td>0.027432</td>\n",
       "      <td>0.012819</td>\n",
       "    </tr>\n",
       "    <tr>\n",
       "      <th>SongTimeSignatureConfidence</th>\n",
       "      <td>0.116367</td>\n",
       "      <td>NaN</td>\n",
       "      <td>0.118071</td>\n",
       "      <td>0.040898</td>\n",
       "      <td>-0.146500</td>\n",
       "      <td>0.324779</td>\n",
       "      <td>1.000000</td>\n",
       "      <td>-0.000546</td>\n",
       "      <td>0.042804</td>\n",
       "    </tr>\n",
       "    <tr>\n",
       "      <th>ArtistLatitude</th>\n",
       "      <td>-0.046133</td>\n",
       "      <td>NaN</td>\n",
       "      <td>0.082933</td>\n",
       "      <td>0.059111</td>\n",
       "      <td>-0.004998</td>\n",
       "      <td>0.027432</td>\n",
       "      <td>-0.000546</td>\n",
       "      <td>1.000000</td>\n",
       "      <td>0.028890</td>\n",
       "    </tr>\n",
       "    <tr>\n",
       "      <th>ArtistLongitude</th>\n",
       "      <td>0.017640</td>\n",
       "      <td>NaN</td>\n",
       "      <td>0.065677</td>\n",
       "      <td>-0.058235</td>\n",
       "      <td>-0.017976</td>\n",
       "      <td>0.012819</td>\n",
       "      <td>0.042804</td>\n",
       "      <td>0.028890</td>\n",
       "      <td>1.000000</td>\n",
       "    </tr>\n",
       "  </tbody>\n",
       "</table>\n",
       "</div>"
      ],
      "text/plain": [
       "                             SongYear  SongDanceability  Duration  \\\n",
       "SongYear                     1.000000               NaN  0.059714   \n",
       "SongDanceability                  NaN               NaN       NaN   \n",
       "Duration                     0.059714               NaN  1.000000   \n",
       "SongHotness                  0.072216               NaN  0.007171   \n",
       "SongTempo                    0.020238               NaN -0.031175   \n",
       "SongTimeSignature            0.122848               NaN  0.103162   \n",
       "SongTimeSignatureConfidence  0.116367               NaN  0.118071   \n",
       "ArtistLatitude              -0.046133               NaN  0.082933   \n",
       "ArtistLongitude              0.017640               NaN  0.065677   \n",
       "\n",
       "                             SongHotness  SongTempo  SongTimeSignature  \\\n",
       "SongYear                        0.072216   0.020238           0.122848   \n",
       "SongDanceability                     NaN        NaN                NaN   \n",
       "Duration                        0.007171  -0.031175           0.103162   \n",
       "SongHotness                     1.000000   0.068544           0.036205   \n",
       "SongTempo                       0.068544   1.000000           0.054625   \n",
       "SongTimeSignature               0.036205   0.054625           1.000000   \n",
       "SongTimeSignatureConfidence     0.040898  -0.146500           0.324779   \n",
       "ArtistLatitude                  0.059111  -0.004998           0.027432   \n",
       "ArtistLongitude                -0.058235  -0.017976           0.012819   \n",
       "\n",
       "                             SongTimeSignatureConfidence  ArtistLatitude  \\\n",
       "SongYear                                        0.116367       -0.046133   \n",
       "SongDanceability                                     NaN             NaN   \n",
       "Duration                                        0.118071        0.082933   \n",
       "SongHotness                                     0.040898        0.059111   \n",
       "SongTempo                                      -0.146500       -0.004998   \n",
       "SongTimeSignature                               0.324779        0.027432   \n",
       "SongTimeSignatureConfidence                     1.000000       -0.000546   \n",
       "ArtistLatitude                                 -0.000546        1.000000   \n",
       "ArtistLongitude                                 0.042804        0.028890   \n",
       "\n",
       "                             ArtistLongitude  \n",
       "SongYear                            0.017640  \n",
       "SongDanceability                         NaN  \n",
       "Duration                            0.065677  \n",
       "SongHotness                        -0.058235  \n",
       "SongTempo                          -0.017976  \n",
       "SongTimeSignature                   0.012819  \n",
       "SongTimeSignatureConfidence         0.042804  \n",
       "ArtistLatitude                      0.028890  \n",
       "ArtistLongitude                     1.000000  "
      ]
     },
     "execution_count": 29,
     "metadata": {},
     "output_type": "execute_result"
    }
   ],
   "source": [
    "df.corr()"
   ]
  },
  {
   "cell_type": "code",
   "execution_count": null,
   "metadata": {},
   "outputs": [],
   "source": [
    "plt.scatter()"
   ]
  },
  {
   "cell_type": "code",
   "execution_count": 35,
   "metadata": {
    "scrolled": true
   },
   "outputs": [
    {
     "data": {
      "image/png": "[encoded data removed]",
      "text/plain": [
       "<matplotlib.figure.Figure at 0x1ed142d3710>"
      ]
     },
     "metadata": {},
     "output_type": "display_data"
    }
   ],
   "source": [
    "x = df.SongYear\n",
    "y = df.SongHotness\n",
    "xmin = x.min()\n",
    "xmax = x.max()\n",
    "ymin = y.min()\n",
    "ymax = y.max()\n",
    "\n",
    "fig, ax = plt.subplots()\n",
    "hb = ax.hexbin(x, y, gridsize=25, cmap='Blues')\n",
    "ax.axis([xmin, xmax, ymin - 0.1, ymax + 0.1])\n",
    "ax.set_title(\"Hexagon binning Year, Hotness\")\n",
    "cb = fig.colorbar(hb, ax=ax)\n",
    "cb.set_label('counts')\n",
    "\n",
    "plt.show()"
   ]
  },
  {
   "cell_type": "markdown",
   "metadata": {},
   "source": [
    "TODO other plots, improbe coloring"
   ]
  },
  {
   "cell_type": "markdown",
   "metadata": {},
   "source": [
    "TODO Feature normalization for ML?"
   ]
  },
  {
   "cell_type": "markdown",
   "metadata": {},
   "source": [
    "TODO Discretization, additional feature calculation, other feature engineering "
   ]
  },
  {
   "cell_type": "markdown",
   "metadata": {},
   "source": [
    "TODO Genre Mapping + stats for different genres"
   ]
  },
  {
   "cell_type": "code",
   "execution_count": null,
   "metadata": {},
   "outputs": [],
   "source": []
  }
 ],
 "metadata": {
  "anaconda-cloud": {},
  "kernelspec": {
   "display_name": "Python [conda env:ada]",
   "language": "python",
   "name": "conda-env-ada-py"
  },
  "language_info": {
   "codemirror_mode": {
    "name": "ipython",
    "version": 3
   },
   "file_extension": ".py",
   "mimetype": "text/x-python",
   "name": "python",
   "nbconvert_exporter": "python",
   "pygments_lexer": "ipython3",
   "version": "3.6.2"
  }
 },
 "nbformat": 4,
 "nbformat_minor": 1
}
