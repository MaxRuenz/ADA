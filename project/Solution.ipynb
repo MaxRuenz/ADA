{
 "cells": [
  {
   "cell_type": "markdown",
   "metadata": {},
   "source": [
    "# Evolution in music through the years\n",
    "\n",
    "This notebook contains all information about our data processing steps.  \n",
    "\n",
    "These include data analysis, cleaning, processing, engineering and visualisation.  \n",
    "For the intermediate milestone we will also provide an updated plan.  \n",
    "\n",
    "*Due to problem with the cluster only the subset of the data set was analysed locally*  \n",
    "\n",
    "### Also note that we were a group of 3 students, and that one of the student decided to drop the course the week end of the 25, this can be taken into account for this milestone. Therefore we reduce the scale of our research questions ( by removing 2 of them due to time constraints and not available data on the cluster)"
   ]
  },
  {
   "cell_type": "code",
   "execution_count": 1,
   "metadata": {},
   "outputs": [
    {
     "name": "stderr",
     "output_type": "stream",
     "text": [
      "C:\\Users\\M4X\\AppData\\Local\\conda\\conda\\envs\\ada\\lib\\site-packages\\sklearn\\cross_validation.py:41: DeprecationWarning: This module was deprecated in version 0.18 in favor of the model_selection module into which all the refactored classes and functions are moved. Also note that the interface of the new CV iterators are different from that of this module. This module will be removed in 0.20.\n",
      "  \"This module will be removed in 0.20.\", DeprecationWarning)\n"
     ]
    }
   ],
   "source": [
    "%matplotlib inline\n",
    "\n",
    "# Provided library to access hdf5 files from MillionSong dataset\n",
    "import getters as hdf5_getters\n",
    "\n",
    "# python internal packages\n",
    "import os\n",
    "import glob\n",
    "import re\n",
    "import time\n",
    "import math\n",
    "\n",
    "# default imports\n",
    "import numpy as np\n",
    "import pandas as pd\n",
    "from pandas import Series, DataFrame, Panel\n",
    "\n",
    "# plotting libs\n",
    "import matplotlib.pyplot as plt\n",
    "import seaborn as sns\n",
    "\n",
    "# library tested for additional data\n",
    "#import spotify\n",
    "\n",
    "# genre simplification\n",
    "import json\n",
    "import urllib.request\n",
    "\n",
    "#ML librairies\n",
    "from sklearn.utils import resample\n",
    "from sklearn.cross_validation import train_test_split\n",
    "from sklearn.neighbors import KNeighborsClassifier\n",
    "from sklearn import linear_model\n",
    "from sklearn.metrics import mean_squared_error, r2_score\n",
    "import warnings\n",
    "warnings.simplefilter('ignore', np.RankWarning)"
   ]
  },
  {
   "cell_type": "markdown",
   "metadata": {},
   "source": [
    "## Data Fetching "
   ]
  },
  {
   "cell_type": "code",
   "execution_count": 2,
   "metadata": {},
   "outputs": [],
   "source": [
    "# Paths for prefetched csv file\n",
    "local_path = 'millionsong_total.csv'"
   ]
  },
  {
   "cell_type": "code",
   "execution_count": 3,
   "metadata": {},
   "outputs": [
    {
     "name": "stderr",
     "output_type": "stream",
     "text": [
      "C:\\Users\\M4X\\AppData\\Local\\conda\\conda\\envs\\ada\\lib\\site-packages\\IPython\\core\\interactiveshell.py:2850: DtypeWarning: Columns (6,12) have mixed types. Specify dtype option on import or set low_memory=False.\n",
      "  if self.run_code(code, result):\n"
     ]
    },
    {
     "data": {
      "text/html": [
       "<div>\n",
       "<style>\n",
       "    .dataframe thead tr:only-child th {\n",
       "        text-align: right;\n",
       "    }\n",
       "\n",
       "    .dataframe thead th {\n",
       "        text-align: left;\n",
       "    }\n",
       "\n",
       "    .dataframe tbody tr th {\n",
       "        vertical-align: top;\n",
       "    }\n",
       "</style>\n",
       "<table border=\"1\" class=\"dataframe\">\n",
       "  <thead>\n",
       "    <tr style=\"text-align: right;\">\n",
       "      <th></th>\n",
       "      <th>SongTitle</th>\n",
       "      <th>ArtistID</th>\n",
       "      <th>ArtistName</th>\n",
       "      <th>ArtistLatitude</th>\n",
       "      <th>ArtistLongitude</th>\n",
       "      <th>ArtistMbtags</th>\n",
       "      <th>ArtistTerms</th>\n",
       "      <th>ArtistHotness</th>\n",
       "      <th>SongDanceability</th>\n",
       "      <th>SongEnergy</th>\n",
       "      <th>...</th>\n",
       "      <th>SongHotness</th>\n",
       "      <th>SongTempo</th>\n",
       "      <th>SongYear</th>\n",
       "      <th>SongKeyConfidence</th>\n",
       "      <th>SongTimeSignature</th>\n",
       "      <th>SongTimeSignatureConfidence</th>\n",
       "      <th>ArtistLocation</th>\n",
       "      <th>ArtistTermFreq</th>\n",
       "      <th>ArtistTermWeight</th>\n",
       "      <th>num_songs</th>\n",
       "    </tr>\n",
       "    <tr>\n",
       "      <th>track_id</th>\n",
       "      <th></th>\n",
       "      <th></th>\n",
       "      <th></th>\n",
       "      <th></th>\n",
       "      <th></th>\n",
       "      <th></th>\n",
       "      <th></th>\n",
       "      <th></th>\n",
       "      <th></th>\n",
       "      <th></th>\n",
       "      <th></th>\n",
       "      <th></th>\n",
       "      <th></th>\n",
       "      <th></th>\n",
       "      <th></th>\n",
       "      <th></th>\n",
       "      <th></th>\n",
       "      <th></th>\n",
       "      <th></th>\n",
       "      <th></th>\n",
       "      <th></th>\n",
       "    </tr>\n",
       "  </thead>\n",
       "  <tbody>\n",
       "    <tr>\n",
       "      <th>TRAAARJ128F9320760</th>\n",
       "      <td>Pink World</td>\n",
       "      <td>AR8ZCNI1187B9A069B</td>\n",
       "      <td>Planet P Project</td>\n",
       "      <td>nan</td>\n",
       "      <td>nan</td>\n",
       "      <td>[]</td>\n",
       "      <td>[new wave;progressive rock;space rock;eurodan...</td>\n",
       "      <td>0.332276</td>\n",
       "      <td>0.0</td>\n",
       "      <td>0.0</td>\n",
       "      <td>...</td>\n",
       "      <td>0.265861049211</td>\n",
       "      <td>86.643</td>\n",
       "      <td>1984</td>\n",
       "      <td>0.717</td>\n",
       "      <td>4</td>\n",
       "      <td>0.487</td>\n",
       "      <td></td>\n",
       "      <td>[0.959766246334;0.97039004532;0.821993419741;...</td>\n",
       "      <td>[1.0;0.986961919746;0.983064531868;0.96580916...</td>\n",
       "      <td>1</td>\n",
       "    </tr>\n",
       "    <tr>\n",
       "      <th>TRAAAAK128F9318786</th>\n",
       "      <td>Scream</td>\n",
       "      <td>ARJNIUY12298900C91</td>\n",
       "      <td>Adelitas Way</td>\n",
       "      <td>nan</td>\n",
       "      <td>nan</td>\n",
       "      <td>[]</td>\n",
       "      <td>[alternative metal;heavy metal;rock;alternati...</td>\n",
       "      <td>0.461318</td>\n",
       "      <td>0.0</td>\n",
       "      <td>0.0</td>\n",
       "      <td>...</td>\n",
       "      <td>0.733371619962</td>\n",
       "      <td>99.944</td>\n",
       "      <td>2009</td>\n",
       "      <td>0.349</td>\n",
       "      <td>4</td>\n",
       "      <td>0.846</td>\n",
       "      <td></td>\n",
       "      <td>[0.995874657423;0.995874657423;1.0;0.88565253...</td>\n",
       "      <td>[1.0;0.899353739319;0.756187682886;0.71311746...</td>\n",
       "      <td>1</td>\n",
       "    </tr>\n",
       "    <tr>\n",
       "      <th>TRAAAQO12903CD8E1C</th>\n",
       "      <td>Take Time</td>\n",
       "      <td>AR5LMPY1187FB573FE</td>\n",
       "      <td>Chaka Khan_ Rufus</td>\n",
       "      <td>41.88415</td>\n",
       "      <td>-87.63241</td>\n",
       "      <td>[classic pop and rock]</td>\n",
       "      <td>[r&amp;b;disco;funk;motown;freestyle;quiet storm;...</td>\n",
       "      <td>0.398984</td>\n",
       "      <td>0.0</td>\n",
       "      <td>0.0</td>\n",
       "      <td>...</td>\n",
       "      <td>0.254279270452</td>\n",
       "      <td>110.325</td>\n",
       "      <td>1978</td>\n",
       "      <td>0.396</td>\n",
       "      <td>4</td>\n",
       "      <td>0.426</td>\n",
       "      <td>Chicago; IL</td>\n",
       "      <td>[0.922730152887;1.0;1.0;0.810682902091;0.8106...</td>\n",
       "      <td>[1.0;0.991539617318;0.925395217966;0.92426646...</td>\n",
       "      <td>1</td>\n",
       "    </tr>\n",
       "    <tr>\n",
       "      <th>TRAAAAV128F421A322</th>\n",
       "      <td>A Poor Recipe For Civic Cohesion</td>\n",
       "      <td>AR73AIO1187B9AD57B</td>\n",
       "      <td>Western Addiction</td>\n",
       "      <td>37.77916</td>\n",
       "      <td>-122.42005</td>\n",
       "      <td>[]</td>\n",
       "      <td>[melodic hardcore;skate punk;hardcore punk;ca...</td>\n",
       "      <td>0.386606</td>\n",
       "      <td>0.0</td>\n",
       "      <td>0.0</td>\n",
       "      <td>...</td>\n",
       "      <td>0.481694146614</td>\n",
       "      <td>125.475</td>\n",
       "      <td>2005</td>\n",
       "      <td>0.187</td>\n",
       "      <td>4</td>\n",
       "      <td>0.546</td>\n",
       "      <td>San Francisco; CA</td>\n",
       "      <td>[0.958442007525;0.877423051563;1.0;0.82014263...</td>\n",
       "      <td>[1.0;0.968559809446;0.964753894876;0.86918176...</td>\n",
       "      <td>1</td>\n",
       "    </tr>\n",
       "    <tr>\n",
       "      <th>TRAAAUC128F428716F</th>\n",
       "      <td>Drown In My Own Tears (24-Bit Digitally Remas...</td>\n",
       "      <td>ARA23XO1187B9AF18F</td>\n",
       "      <td>The Smithereens</td>\n",
       "      <td>40.57885</td>\n",
       "      <td>-74.21956</td>\n",
       "      <td>[]</td>\n",
       "      <td>[pop rock;alternative rock;power pop;indie ro...</td>\n",
       "      <td>0.405015</td>\n",
       "      <td>0.0</td>\n",
       "      <td>0.0</td>\n",
       "      <td>...</td>\n",
       "      <td>nan</td>\n",
       "      <td>123.756</td>\n",
       "      <td>0</td>\n",
       "      <td>0.931</td>\n",
       "      <td>4</td>\n",
       "      <td>0.494</td>\n",
       "      <td>Carteret; New Jersey</td>\n",
       "      <td>[0.980739660227;0.984358036619;0.898633143514...</td>\n",
       "      <td>[1.0;0.948729939236;0.947882309562;0.91553730...</td>\n",
       "      <td>1</td>\n",
       "    </tr>\n",
       "  </tbody>\n",
       "</table>\n",
       "<p>5 rows × 23 columns</p>\n",
       "</div>"
      ],
      "text/plain": [
       "                                                            SongTitle  \\\n",
       "track_id                                                                \n",
       "TRAAARJ128F9320760                                         Pink World   \n",
       "TRAAAAK128F9318786                                             Scream   \n",
       "TRAAAQO12903CD8E1C                                          Take Time   \n",
       "TRAAAAV128F421A322                   A Poor Recipe For Civic Cohesion   \n",
       "TRAAAUC128F428716F   Drown In My Own Tears (24-Bit Digitally Remas...   \n",
       "\n",
       "                               ArtistID          ArtistName ArtistLatitude  \\\n",
       "track_id                                                                     \n",
       "TRAAARJ128F9320760   AR8ZCNI1187B9A069B    Planet P Project            nan   \n",
       "TRAAAAK128F9318786   ARJNIUY12298900C91        Adelitas Way            nan   \n",
       "TRAAAQO12903CD8E1C   AR5LMPY1187FB573FE   Chaka Khan_ Rufus       41.88415   \n",
       "TRAAAAV128F421A322   AR73AIO1187B9AD57B   Western Addiction       37.77916   \n",
       "TRAAAUC128F428716F   ARA23XO1187B9AF18F     The Smithereens       40.57885   \n",
       "\n",
       "                   ArtistLongitude             ArtistMbtags  \\\n",
       "track_id                                                      \n",
       "TRAAARJ128F9320760             nan                       []   \n",
       "TRAAAAK128F9318786             nan                       []   \n",
       "TRAAAQO12903CD8E1C       -87.63241   [classic pop and rock]   \n",
       "TRAAAAV128F421A322      -122.42005                       []   \n",
       "TRAAAUC128F428716F       -74.21956                       []   \n",
       "\n",
       "                                                          ArtistTerms  \\\n",
       "track_id                                                                \n",
       "TRAAARJ128F9320760   [new wave;progressive rock;space rock;eurodan...   \n",
       "TRAAAAK128F9318786   [alternative metal;heavy metal;rock;alternati...   \n",
       "TRAAAQO12903CD8E1C   [r&b;disco;funk;motown;freestyle;quiet storm;...   \n",
       "TRAAAAV128F421A322   [melodic hardcore;skate punk;hardcore punk;ca...   \n",
       "TRAAAUC128F428716F   [pop rock;alternative rock;power pop;indie ro...   \n",
       "\n",
       "                   ArtistHotness  SongDanceability  SongEnergy    ...     \\\n",
       "track_id                                                          ...      \n",
       "TRAAARJ128F9320760      0.332276               0.0         0.0    ...      \n",
       "TRAAAAK128F9318786      0.461318               0.0         0.0    ...      \n",
       "TRAAAQO12903CD8E1C      0.398984               0.0         0.0    ...      \n",
       "TRAAAAV128F421A322      0.386606               0.0         0.0    ...      \n",
       "TRAAAUC128F428716F      0.405015               0.0         0.0    ...      \n",
       "\n",
       "                        SongHotness  SongTempo  SongYear SongKeyConfidence  \\\n",
       "track_id                                                                     \n",
       "TRAAARJ128F9320760   0.265861049211     86.643      1984             0.717   \n",
       "TRAAAAK128F9318786   0.733371619962     99.944      2009             0.349   \n",
       "TRAAAQO12903CD8E1C   0.254279270452    110.325      1978             0.396   \n",
       "TRAAAAV128F421A322   0.481694146614    125.475      2005             0.187   \n",
       "TRAAAUC128F428716F              nan    123.756         0             0.931   \n",
       "\n",
       "                    SongTimeSignature  SongTimeSignatureConfidence  \\\n",
       "track_id                                                             \n",
       "TRAAARJ128F9320760                  4                        0.487   \n",
       "TRAAAAK128F9318786                  4                        0.846   \n",
       "TRAAAQO12903CD8E1C                  4                        0.426   \n",
       "TRAAAAV128F421A322                  4                        0.546   \n",
       "TRAAAUC128F428716F                  4                        0.494   \n",
       "\n",
       "                           ArtistLocation  \\\n",
       "track_id                                    \n",
       "TRAAARJ128F9320760                          \n",
       "TRAAAAK128F9318786                          \n",
       "TRAAAQO12903CD8E1C            Chicago; IL   \n",
       "TRAAAAV128F421A322      San Francisco; CA   \n",
       "TRAAAUC128F428716F   Carteret; New Jersey   \n",
       "\n",
       "                                                       ArtistTermFreq  \\\n",
       "track_id                                                                \n",
       "TRAAARJ128F9320760   [0.959766246334;0.97039004532;0.821993419741;...   \n",
       "TRAAAAK128F9318786   [0.995874657423;0.995874657423;1.0;0.88565253...   \n",
       "TRAAAQO12903CD8E1C   [0.922730152887;1.0;1.0;0.810682902091;0.8106...   \n",
       "TRAAAAV128F421A322   [0.958442007525;0.877423051563;1.0;0.82014263...   \n",
       "TRAAAUC128F428716F   [0.980739660227;0.984358036619;0.898633143514...   \n",
       "\n",
       "                                                     ArtistTermWeight  \\\n",
       "track_id                                                                \n",
       "TRAAARJ128F9320760   [1.0;0.986961919746;0.983064531868;0.96580916...   \n",
       "TRAAAAK128F9318786   [1.0;0.899353739319;0.756187682886;0.71311746...   \n",
       "TRAAAQO12903CD8E1C   [1.0;0.991539617318;0.925395217966;0.92426646...   \n",
       "TRAAAAV128F421A322   [1.0;0.968559809446;0.964753894876;0.86918176...   \n",
       "TRAAAUC128F428716F   [1.0;0.948729939236;0.947882309562;0.91553730...   \n",
       "\n",
       "                   num_songs  \n",
       "track_id                      \n",
       "TRAAARJ128F9320760         1  \n",
       "TRAAAAK128F9318786         1  \n",
       "TRAAAQO12903CD8E1C         1  \n",
       "TRAAAAV128F421A322         1  \n",
       "TRAAAUC128F428716F         1  \n",
       "\n",
       "[5 rows x 23 columns]"
      ]
     },
     "execution_count": 3,
     "metadata": {},
     "output_type": "execute_result"
    }
   ],
   "source": [
    "fetched_df = pd.DataFrame.from_csv(local_path)\n",
    "\n",
    "# drop unecessary columns\n",
    "fetched_df = fetched_df.drop(['song_id','artist_mbid', 'artist_familiarity', \"artist_similarity\"], 1)\n",
    "\n",
    "fetched_df.columns = ['SongTitle', 'ArtistID', 'ArtistName', 'ArtistLatitude', 'ArtistLongitude', 'ArtistMbtags',\\\n",
    "                      'ArtistTerms', 'ArtistHotness', \"SongDanceability\", \"SongEnergy\", \"Duration\", \"SongKey\",\\\n",
    "                      \"SongLoudness\", \"SongHotness\", \"SongTempo\", \"SongYear\", 'SongKeyConfidence', 'SongTimeSignature',\\\n",
    "                      'SongTimeSignatureConfidence', 'ArtistLocation', 'ArtistTermFreq', 'ArtistTermWeight', 'num_songs']\n",
    "\n",
    "fetched_df.head()"
   ]
  },
  {
   "cell_type": "code",
   "execution_count": 4,
   "metadata": {},
   "outputs": [
    {
     "data": {
      "text/plain": [
       "1.0"
      ]
     },
     "execution_count": 4,
     "metadata": {},
     "output_type": "execute_result"
    }
   ],
   "source": [
    "fetched_df['num_songs'].mean()"
   ]
  },
  {
   "cell_type": "code",
   "execution_count": 5,
   "metadata": {},
   "outputs": [
    {
     "name": "stdout",
     "output_type": "stream",
     "text": [
      "The dataframe contains 462546 songs\n"
     ]
    }
   ],
   "source": [
    "df = fetched_df.copy()\n",
    "print (\"The dataframe contains {} songs\".format(df.shape[0]))"
   ]
  },
  {
   "cell_type": "markdown",
   "metadata": {},
   "source": [
    "## Data Analysis and Cleaing"
   ]
  },
  {
   "cell_type": "markdown",
   "metadata": {},
   "source": [
    "Since we want to analyze music evolution over time, we cannot use Songs without specified year. They are then dropped."
   ]
  },
  {
   "cell_type": "code",
   "execution_count": 6,
   "metadata": {},
   "outputs": [
    {
     "name": "stdout",
     "output_type": "stream",
     "text": [
      "Dropping 223821 rows.\n"
     ]
    }
   ],
   "source": [
    "print(\"Dropping {} rows.\".format(df[df['SongYear'] == 0].shape[0]))\n",
    "df = df[df['SongYear']>0]"
   ]
  },
  {
   "cell_type": "code",
   "execution_count": 7,
   "metadata": {},
   "outputs": [
    {
     "data": {
      "text/html": [
       "<div>\n",
       "<style>\n",
       "    .dataframe thead tr:only-child th {\n",
       "        text-align: right;\n",
       "    }\n",
       "\n",
       "    .dataframe thead th {\n",
       "        text-align: left;\n",
       "    }\n",
       "\n",
       "    .dataframe tbody tr th {\n",
       "        vertical-align: top;\n",
       "    }\n",
       "</style>\n",
       "<table border=\"1\" class=\"dataframe\">\n",
       "  <thead>\n",
       "    <tr style=\"text-align: right;\">\n",
       "      <th></th>\n",
       "      <th>SongTitle</th>\n",
       "      <th>ArtistID</th>\n",
       "      <th>ArtistName</th>\n",
       "      <th>ArtistLatitude</th>\n",
       "      <th>ArtistLongitude</th>\n",
       "      <th>ArtistMbtags</th>\n",
       "      <th>ArtistTerms</th>\n",
       "      <th>ArtistHotness</th>\n",
       "      <th>SongDanceability</th>\n",
       "      <th>SongEnergy</th>\n",
       "      <th>...</th>\n",
       "      <th>SongHotness</th>\n",
       "      <th>SongTempo</th>\n",
       "      <th>SongYear</th>\n",
       "      <th>SongKeyConfidence</th>\n",
       "      <th>SongTimeSignature</th>\n",
       "      <th>SongTimeSignatureConfidence</th>\n",
       "      <th>ArtistLocation</th>\n",
       "      <th>ArtistTermFreq</th>\n",
       "      <th>ArtistTermWeight</th>\n",
       "      <th>num_songs</th>\n",
       "    </tr>\n",
       "    <tr>\n",
       "      <th>track_id</th>\n",
       "      <th></th>\n",
       "      <th></th>\n",
       "      <th></th>\n",
       "      <th></th>\n",
       "      <th></th>\n",
       "      <th></th>\n",
       "      <th></th>\n",
       "      <th></th>\n",
       "      <th></th>\n",
       "      <th></th>\n",
       "      <th></th>\n",
       "      <th></th>\n",
       "      <th></th>\n",
       "      <th></th>\n",
       "      <th></th>\n",
       "      <th></th>\n",
       "      <th></th>\n",
       "      <th></th>\n",
       "      <th></th>\n",
       "      <th></th>\n",
       "      <th></th>\n",
       "    </tr>\n",
       "  </thead>\n",
       "  <tbody>\n",
       "    <tr>\n",
       "      <th>TRAAARJ128F9320760</th>\n",
       "      <td>Pink World</td>\n",
       "      <td>AR8ZCNI1187B9A069B</td>\n",
       "      <td>Planet P Project</td>\n",
       "      <td>nan</td>\n",
       "      <td>nan</td>\n",
       "      <td>[]</td>\n",
       "      <td>[new wave;progressive rock;space rock;eurodan...</td>\n",
       "      <td>0.332276</td>\n",
       "      <td>0.0</td>\n",
       "      <td>0.0</td>\n",
       "      <td>...</td>\n",
       "      <td>0.265861049211</td>\n",
       "      <td>86.643</td>\n",
       "      <td>1984</td>\n",
       "      <td>0.717</td>\n",
       "      <td>4</td>\n",
       "      <td>0.487</td>\n",
       "      <td></td>\n",
       "      <td>[0.959766246334;0.97039004532;0.821993419741;...</td>\n",
       "      <td>[1.0;0.986961919746;0.983064531868;0.96580916...</td>\n",
       "      <td>1</td>\n",
       "    </tr>\n",
       "    <tr>\n",
       "      <th>TRAAAAK128F9318786</th>\n",
       "      <td>Scream</td>\n",
       "      <td>ARJNIUY12298900C91</td>\n",
       "      <td>Adelitas Way</td>\n",
       "      <td>nan</td>\n",
       "      <td>nan</td>\n",
       "      <td>[]</td>\n",
       "      <td>[alternative metal;heavy metal;rock;alternati...</td>\n",
       "      <td>0.461318</td>\n",
       "      <td>0.0</td>\n",
       "      <td>0.0</td>\n",
       "      <td>...</td>\n",
       "      <td>0.733371619962</td>\n",
       "      <td>99.944</td>\n",
       "      <td>2009</td>\n",
       "      <td>0.349</td>\n",
       "      <td>4</td>\n",
       "      <td>0.846</td>\n",
       "      <td></td>\n",
       "      <td>[0.995874657423;0.995874657423;1.0;0.88565253...</td>\n",
       "      <td>[1.0;0.899353739319;0.756187682886;0.71311746...</td>\n",
       "      <td>1</td>\n",
       "    </tr>\n",
       "    <tr>\n",
       "      <th>TRAAAQO12903CD8E1C</th>\n",
       "      <td>Take Time</td>\n",
       "      <td>AR5LMPY1187FB573FE</td>\n",
       "      <td>Chaka Khan_ Rufus</td>\n",
       "      <td>41.88415</td>\n",
       "      <td>-87.63241</td>\n",
       "      <td>[classic pop and rock]</td>\n",
       "      <td>[r&amp;b;disco;funk;motown;freestyle;quiet storm;...</td>\n",
       "      <td>0.398984</td>\n",
       "      <td>0.0</td>\n",
       "      <td>0.0</td>\n",
       "      <td>...</td>\n",
       "      <td>0.254279270452</td>\n",
       "      <td>110.325</td>\n",
       "      <td>1978</td>\n",
       "      <td>0.396</td>\n",
       "      <td>4</td>\n",
       "      <td>0.426</td>\n",
       "      <td>Chicago; IL</td>\n",
       "      <td>[0.922730152887;1.0;1.0;0.810682902091;0.8106...</td>\n",
       "      <td>[1.0;0.991539617318;0.925395217966;0.92426646...</td>\n",
       "      <td>1</td>\n",
       "    </tr>\n",
       "    <tr>\n",
       "      <th>TRAAAAV128F421A322</th>\n",
       "      <td>A Poor Recipe For Civic Cohesion</td>\n",
       "      <td>AR73AIO1187B9AD57B</td>\n",
       "      <td>Western Addiction</td>\n",
       "      <td>37.77916</td>\n",
       "      <td>-122.42005</td>\n",
       "      <td>[]</td>\n",
       "      <td>[melodic hardcore;skate punk;hardcore punk;ca...</td>\n",
       "      <td>0.386606</td>\n",
       "      <td>0.0</td>\n",
       "      <td>0.0</td>\n",
       "      <td>...</td>\n",
       "      <td>0.481694146614</td>\n",
       "      <td>125.475</td>\n",
       "      <td>2005</td>\n",
       "      <td>0.187</td>\n",
       "      <td>4</td>\n",
       "      <td>0.546</td>\n",
       "      <td>San Francisco; CA</td>\n",
       "      <td>[0.958442007525;0.877423051563;1.0;0.82014263...</td>\n",
       "      <td>[1.0;0.968559809446;0.964753894876;0.86918176...</td>\n",
       "      <td>1</td>\n",
       "    </tr>\n",
       "    <tr>\n",
       "      <th>TRAAAUR128F428B1FA</th>\n",
       "      <td>Smash It Up</td>\n",
       "      <td>AR0MWD61187B9B2B12</td>\n",
       "      <td>International Noise Conspiracy</td>\n",
       "      <td>nan</td>\n",
       "      <td>nan</td>\n",
       "      <td>[]</td>\n",
       "      <td>[ska punk;garage rock;post-hardcore;garage pu...</td>\n",
       "      <td>0.414283</td>\n",
       "      <td>0.0</td>\n",
       "      <td>0.0</td>\n",
       "      <td>...</td>\n",
       "      <td>0.767828738594</td>\n",
       "      <td>148.957</td>\n",
       "      <td>2000</td>\n",
       "      <td>0.451</td>\n",
       "      <td>4</td>\n",
       "      <td>0.144</td>\n",
       "      <td></td>\n",
       "      <td>[0.884642893649;0.905262621301;0.905262621301...</td>\n",
       "      <td>[1.0;0.972876260864;0.96844862128;0.958751376...</td>\n",
       "      <td>1</td>\n",
       "    </tr>\n",
       "  </tbody>\n",
       "</table>\n",
       "<p>5 rows × 23 columns</p>\n",
       "</div>"
      ],
      "text/plain": [
       "                                            SongTitle             ArtistID  \\\n",
       "track_id                                                                     \n",
       "TRAAARJ128F9320760                         Pink World   AR8ZCNI1187B9A069B   \n",
       "TRAAAAK128F9318786                             Scream   ARJNIUY12298900C91   \n",
       "TRAAAQO12903CD8E1C                          Take Time   AR5LMPY1187FB573FE   \n",
       "TRAAAAV128F421A322   A Poor Recipe For Civic Cohesion   AR73AIO1187B9AD57B   \n",
       "TRAAAUR128F428B1FA                        Smash It Up   AR0MWD61187B9B2B12   \n",
       "\n",
       "                                         ArtistName ArtistLatitude  \\\n",
       "track_id                                                             \n",
       "TRAAARJ128F9320760                 Planet P Project            nan   \n",
       "TRAAAAK128F9318786                     Adelitas Way            nan   \n",
       "TRAAAQO12903CD8E1C                Chaka Khan_ Rufus       41.88415   \n",
       "TRAAAAV128F421A322                Western Addiction       37.77916   \n",
       "TRAAAUR128F428B1FA   International Noise Conspiracy            nan   \n",
       "\n",
       "                   ArtistLongitude             ArtistMbtags  \\\n",
       "track_id                                                      \n",
       "TRAAARJ128F9320760             nan                       []   \n",
       "TRAAAAK128F9318786             nan                       []   \n",
       "TRAAAQO12903CD8E1C       -87.63241   [classic pop and rock]   \n",
       "TRAAAAV128F421A322      -122.42005                       []   \n",
       "TRAAAUR128F428B1FA             nan                       []   \n",
       "\n",
       "                                                          ArtistTerms  \\\n",
       "track_id                                                                \n",
       "TRAAARJ128F9320760   [new wave;progressive rock;space rock;eurodan...   \n",
       "TRAAAAK128F9318786   [alternative metal;heavy metal;rock;alternati...   \n",
       "TRAAAQO12903CD8E1C   [r&b;disco;funk;motown;freestyle;quiet storm;...   \n",
       "TRAAAAV128F421A322   [melodic hardcore;skate punk;hardcore punk;ca...   \n",
       "TRAAAUR128F428B1FA   [ska punk;garage rock;post-hardcore;garage pu...   \n",
       "\n",
       "                   ArtistHotness  SongDanceability  SongEnergy    ...     \\\n",
       "track_id                                                          ...      \n",
       "TRAAARJ128F9320760      0.332276               0.0         0.0    ...      \n",
       "TRAAAAK128F9318786      0.461318               0.0         0.0    ...      \n",
       "TRAAAQO12903CD8E1C      0.398984               0.0         0.0    ...      \n",
       "TRAAAAV128F421A322      0.386606               0.0         0.0    ...      \n",
       "TRAAAUR128F428B1FA      0.414283               0.0         0.0    ...      \n",
       "\n",
       "                        SongHotness  SongTempo  SongYear SongKeyConfidence  \\\n",
       "track_id                                                                     \n",
       "TRAAARJ128F9320760   0.265861049211     86.643      1984             0.717   \n",
       "TRAAAAK128F9318786   0.733371619962     99.944      2009             0.349   \n",
       "TRAAAQO12903CD8E1C   0.254279270452    110.325      1978             0.396   \n",
       "TRAAAAV128F421A322   0.481694146614    125.475      2005             0.187   \n",
       "TRAAAUR128F428B1FA   0.767828738594    148.957      2000             0.451   \n",
       "\n",
       "                    SongTimeSignature  SongTimeSignatureConfidence  \\\n",
       "track_id                                                             \n",
       "TRAAARJ128F9320760                  4                        0.487   \n",
       "TRAAAAK128F9318786                  4                        0.846   \n",
       "TRAAAQO12903CD8E1C                  4                        0.426   \n",
       "TRAAAAV128F421A322                  4                        0.546   \n",
       "TRAAAUR128F428B1FA                  4                        0.144   \n",
       "\n",
       "                        ArtistLocation  \\\n",
       "track_id                                 \n",
       "TRAAARJ128F9320760                       \n",
       "TRAAAAK128F9318786                       \n",
       "TRAAAQO12903CD8E1C         Chicago; IL   \n",
       "TRAAAAV128F421A322   San Francisco; CA   \n",
       "TRAAAUR128F428B1FA                       \n",
       "\n",
       "                                                       ArtistTermFreq  \\\n",
       "track_id                                                                \n",
       "TRAAARJ128F9320760   [0.959766246334;0.97039004532;0.821993419741;...   \n",
       "TRAAAAK128F9318786   [0.995874657423;0.995874657423;1.0;0.88565253...   \n",
       "TRAAAQO12903CD8E1C   [0.922730152887;1.0;1.0;0.810682902091;0.8106...   \n",
       "TRAAAAV128F421A322   [0.958442007525;0.877423051563;1.0;0.82014263...   \n",
       "TRAAAUR128F428B1FA   [0.884642893649;0.905262621301;0.905262621301...   \n",
       "\n",
       "                                                     ArtistTermWeight  \\\n",
       "track_id                                                                \n",
       "TRAAARJ128F9320760   [1.0;0.986961919746;0.983064531868;0.96580916...   \n",
       "TRAAAAK128F9318786   [1.0;0.899353739319;0.756187682886;0.71311746...   \n",
       "TRAAAQO12903CD8E1C   [1.0;0.991539617318;0.925395217966;0.92426646...   \n",
       "TRAAAAV128F421A322   [1.0;0.968559809446;0.964753894876;0.86918176...   \n",
       "TRAAAUR128F428B1FA   [1.0;0.972876260864;0.96844862128;0.958751376...   \n",
       "\n",
       "                   num_songs  \n",
       "track_id                      \n",
       "TRAAARJ128F9320760         1  \n",
       "TRAAAAK128F9318786         1  \n",
       "TRAAAQO12903CD8E1C         1  \n",
       "TRAAAAV128F421A322         1  \n",
       "TRAAAUR128F428B1FA         1  \n",
       "\n",
       "[5 rows x 23 columns]"
      ]
     },
     "execution_count": 7,
     "metadata": {},
     "output_type": "execute_result"
    }
   ],
   "source": [
    "df.head()"
   ]
  },
  {
   "cell_type": "code",
   "execution_count": 8,
   "metadata": {},
   "outputs": [
    {
     "data": {
      "text/plain": [
       "SongTitle                           0\n",
       "ArtistID                            0\n",
       "ArtistName                          0\n",
       "ArtistLatitude                 152586\n",
       "ArtistLongitude                152586\n",
       "ArtistMbtags                        0\n",
       "ArtistTerms                         0\n",
       "ArtistHotness                       2\n",
       "SongDanceability                    0\n",
       "SongEnergy                          0\n",
       "Duration                            0\n",
       "SongKey                             0\n",
       "SongLoudness                        0\n",
       "SongHotness                     79295\n",
       "SongTempo                           0\n",
       "SongYear                            0\n",
       "SongKeyConfidence                   0\n",
       "SongTimeSignature                   0\n",
       "SongTimeSignatureConfidence         0\n",
       "ArtistLocation                      0\n",
       "ArtistTermFreq                      0\n",
       "ArtistTermWeight                    0\n",
       "num_songs                           0\n",
       "dtype: int64"
      ]
     },
     "execution_count": 8,
     "metadata": {},
     "output_type": "execute_result"
    }
   ],
   "source": [
    "df = df.replace(' nan', np.NAN)\n",
    "df.isnull().sum()"
   ]
  },
  {
   "cell_type": "code",
   "execution_count": 9,
   "metadata": {},
   "outputs": [],
   "source": [
    "# convert numeric\n",
    "df[\"SongHotness\"] = pd.to_numeric(df[\"SongHotness\"])\n",
    "df[\"ArtistLatitude\"] = pd.to_numeric(df[\"ArtistLatitude\"])\n",
    "df[\"ArtistLongitude\"] = pd.to_numeric(df[\"ArtistLongitude\"])\n",
    "df[\"ArtistHotness\"] = pd.to_numeric(df[\"ArtistHotness\"])"
   ]
  },
  {
   "cell_type": "code",
   "execution_count": 10,
   "metadata": {},
   "outputs": [],
   "source": [
    "# Create an additional data frame which improves machine learning algorithms\n",
    "normalized_df = df.copy()"
   ]
  },
  {
   "cell_type": "markdown",
   "metadata": {},
   "source": [
    "We notice, that 1616/4680 Songs do not have a defined Hotness.  \n",
    "Furthermore, the Latitude and Longitude of the arists for 2855 Songs is not defined.  \n",
    "For now we will keep the features and rows with NAN, and we will remove them if it would be neccessary to take the NANs into account.  \n",
    "Let's have a deeper look at the different columns:"
   ]
  },
  {
   "cell_type": "code",
   "execution_count": 11,
   "metadata": {
    "scrolled": true
   },
   "outputs": [
    {
     "data": {
      "text/html": [
       "<div>\n",
       "<style>\n",
       "    .dataframe thead tr:only-child th {\n",
       "        text-align: right;\n",
       "    }\n",
       "\n",
       "    .dataframe thead th {\n",
       "        text-align: left;\n",
       "    }\n",
       "\n",
       "    .dataframe tbody tr th {\n",
       "        vertical-align: top;\n",
       "    }\n",
       "</style>\n",
       "<table border=\"1\" class=\"dataframe\">\n",
       "  <thead>\n",
       "    <tr style=\"text-align: right;\">\n",
       "      <th></th>\n",
       "      <th>ArtistLatitude</th>\n",
       "      <th>ArtistLongitude</th>\n",
       "      <th>ArtistHotness</th>\n",
       "      <th>SongDanceability</th>\n",
       "      <th>SongEnergy</th>\n",
       "      <th>Duration</th>\n",
       "      <th>SongKey</th>\n",
       "      <th>SongLoudness</th>\n",
       "      <th>SongHotness</th>\n",
       "      <th>SongTempo</th>\n",
       "      <th>SongYear</th>\n",
       "      <th>SongKeyConfidence</th>\n",
       "      <th>SongTimeSignature</th>\n",
       "      <th>SongTimeSignatureConfidence</th>\n",
       "      <th>num_songs</th>\n",
       "    </tr>\n",
       "  </thead>\n",
       "  <tbody>\n",
       "    <tr>\n",
       "      <th>count</th>\n",
       "      <td>86139.000000</td>\n",
       "      <td>86139.000000</td>\n",
       "      <td>238723.000000</td>\n",
       "      <td>238725.0</td>\n",
       "      <td>238725.0</td>\n",
       "      <td>238725.000000</td>\n",
       "      <td>238725.000000</td>\n",
       "      <td>238725.000000</td>\n",
       "      <td>159430.000000</td>\n",
       "      <td>238725.000000</td>\n",
       "      <td>238725.000000</td>\n",
       "      <td>238725.000000</td>\n",
       "      <td>238725.000000</td>\n",
       "      <td>238725.000000</td>\n",
       "      <td>238725.0</td>\n",
       "    </tr>\n",
       "    <tr>\n",
       "      <th>mean</th>\n",
       "      <td>39.954701</td>\n",
       "      <td>-54.343646</td>\n",
       "      <td>0.416746</td>\n",
       "      <td>0.0</td>\n",
       "      <td>0.0</td>\n",
       "      <td>246.448487</td>\n",
       "      <td>5.314722</td>\n",
       "      <td>-9.703421</td>\n",
       "      <td>0.430871</td>\n",
       "      <td>124.792726</td>\n",
       "      <td>1998.372902</td>\n",
       "      <td>0.442804</td>\n",
       "      <td>3.614058</td>\n",
       "      <td>0.516758</td>\n",
       "      <td>1.0</td>\n",
       "    </tr>\n",
       "    <tr>\n",
       "      <th>std</th>\n",
       "      <td>15.665472</td>\n",
       "      <td>56.055263</td>\n",
       "      <td>0.108956</td>\n",
       "      <td>0.0</td>\n",
       "      <td>0.0</td>\n",
       "      <td>115.210594</td>\n",
       "      <td>3.598526</td>\n",
       "      <td>4.947483</td>\n",
       "      <td>0.214409</td>\n",
       "      <td>34.896554</td>\n",
       "      <td>10.940322</td>\n",
       "      <td>0.276260</td>\n",
       "      <td>1.205529</td>\n",
       "      <td>0.370947</td>\n",
       "      <td>0.0</td>\n",
       "    </tr>\n",
       "    <tr>\n",
       "      <th>min</th>\n",
       "      <td>-51.800580</td>\n",
       "      <td>-159.540540</td>\n",
       "      <td>0.000000</td>\n",
       "      <td>0.0</td>\n",
       "      <td>0.0</td>\n",
       "      <td>0.313020</td>\n",
       "      <td>0.000000</td>\n",
       "      <td>-57.004000</td>\n",
       "      <td>0.000000</td>\n",
       "      <td>0.000000</td>\n",
       "      <td>1922.000000</td>\n",
       "      <td>0.000000</td>\n",
       "      <td>0.000000</td>\n",
       "      <td>0.000000</td>\n",
       "      <td>1.0</td>\n",
       "    </tr>\n",
       "    <tr>\n",
       "      <th>25%</th>\n",
       "      <td>35.090810</td>\n",
       "      <td>-90.180490</td>\n",
       "      <td>0.364340</td>\n",
       "      <td>0.0</td>\n",
       "      <td>0.0</td>\n",
       "      <td>182.987300</td>\n",
       "      <td>2.000000</td>\n",
       "      <td>-12.193000</td>\n",
       "      <td>0.304170</td>\n",
       "      <td>98.992000</td>\n",
       "      <td>1994.000000</td>\n",
       "      <td>0.214000</td>\n",
       "      <td>3.000000</td>\n",
       "      <td>0.130000</td>\n",
       "      <td>1.0</td>\n",
       "    </tr>\n",
       "    <tr>\n",
       "      <th>50%</th>\n",
       "      <td>40.714550</td>\n",
       "      <td>-75.162370</td>\n",
       "      <td>0.410039</td>\n",
       "      <td>0.0</td>\n",
       "      <td>0.0</td>\n",
       "      <td>229.824850</td>\n",
       "      <td>5.000000</td>\n",
       "      <td>-8.619000</td>\n",
       "      <td>0.459158</td>\n",
       "      <td>122.568000</td>\n",
       "      <td>2002.000000</td>\n",
       "      <td>0.462000</td>\n",
       "      <td>4.000000</td>\n",
       "      <td>0.558000</td>\n",
       "      <td>1.0</td>\n",
       "    </tr>\n",
       "    <tr>\n",
       "      <th>75%</th>\n",
       "      <td>50.875660</td>\n",
       "      <td>-1.509510</td>\n",
       "      <td>0.469826</td>\n",
       "      <td>0.0</td>\n",
       "      <td>0.0</td>\n",
       "      <td>286.667300</td>\n",
       "      <td>9.000000</td>\n",
       "      <td>-6.126000</td>\n",
       "      <td>0.581318</td>\n",
       "      <td>145.245000</td>\n",
       "      <td>2006.000000</td>\n",
       "      <td>0.653000</td>\n",
       "      <td>4.000000</td>\n",
       "      <td>0.868000</td>\n",
       "      <td>1.0</td>\n",
       "    </tr>\n",
       "    <tr>\n",
       "      <th>max</th>\n",
       "      <td>70.695760</td>\n",
       "      <td>175.471310</td>\n",
       "      <td>1.082503</td>\n",
       "      <td>0.0</td>\n",
       "      <td>0.0</td>\n",
       "      <td>3024.665670</td>\n",
       "      <td>11.000000</td>\n",
       "      <td>3.634000</td>\n",
       "      <td>1.000000</td>\n",
       "      <td>275.393000</td>\n",
       "      <td>2011.000000</td>\n",
       "      <td>1.000000</td>\n",
       "      <td>7.000000</td>\n",
       "      <td>1.000000</td>\n",
       "      <td>1.0</td>\n",
       "    </tr>\n",
       "  </tbody>\n",
       "</table>\n",
       "</div>"
      ],
      "text/plain": [
       "       ArtistLatitude  ArtistLongitude  ArtistHotness  SongDanceability  \\\n",
       "count    86139.000000     86139.000000  238723.000000          238725.0   \n",
       "mean        39.954701       -54.343646       0.416746               0.0   \n",
       "std         15.665472        56.055263       0.108956               0.0   \n",
       "min        -51.800580      -159.540540       0.000000               0.0   \n",
       "25%         35.090810       -90.180490       0.364340               0.0   \n",
       "50%         40.714550       -75.162370       0.410039               0.0   \n",
       "75%         50.875660        -1.509510       0.469826               0.0   \n",
       "max         70.695760       175.471310       1.082503               0.0   \n",
       "\n",
       "       SongEnergy       Duration        SongKey   SongLoudness    SongHotness  \\\n",
       "count    238725.0  238725.000000  238725.000000  238725.000000  159430.000000   \n",
       "mean          0.0     246.448487       5.314722      -9.703421       0.430871   \n",
       "std           0.0     115.210594       3.598526       4.947483       0.214409   \n",
       "min           0.0       0.313020       0.000000     -57.004000       0.000000   \n",
       "25%           0.0     182.987300       2.000000     -12.193000       0.304170   \n",
       "50%           0.0     229.824850       5.000000      -8.619000       0.459158   \n",
       "75%           0.0     286.667300       9.000000      -6.126000       0.581318   \n",
       "max           0.0    3024.665670      11.000000       3.634000       1.000000   \n",
       "\n",
       "           SongTempo       SongYear  SongKeyConfidence  SongTimeSignature  \\\n",
       "count  238725.000000  238725.000000      238725.000000      238725.000000   \n",
       "mean      124.792726    1998.372902           0.442804           3.614058   \n",
       "std        34.896554      10.940322           0.276260           1.205529   \n",
       "min         0.000000    1922.000000           0.000000           0.000000   \n",
       "25%        98.992000    1994.000000           0.214000           3.000000   \n",
       "50%       122.568000    2002.000000           0.462000           4.000000   \n",
       "75%       145.245000    2006.000000           0.653000           4.000000   \n",
       "max       275.393000    2011.000000           1.000000           7.000000   \n",
       "\n",
       "       SongTimeSignatureConfidence  num_songs  \n",
       "count                238725.000000   238725.0  \n",
       "mean                      0.516758        1.0  \n",
       "std                       0.370947        0.0  \n",
       "min                       0.000000        1.0  \n",
       "25%                       0.130000        1.0  \n",
       "50%                       0.558000        1.0  \n",
       "75%                       0.868000        1.0  \n",
       "max                       1.000000        1.0  "
      ]
     },
     "execution_count": 11,
     "metadata": {},
     "output_type": "execute_result"
    }
   ],
   "source": [
    "df.describe()"
   ]
  },
  {
   "cell_type": "markdown",
   "metadata": {},
   "source": [
    "By analysing the descriptive statistics of each columns we gained the following insights:"
   ]
  },
  {
   "cell_type": "markdown",
   "metadata": {},
   "source": [
    "|         |        ArtistID       | ArtistName         |         SongYear        | SongDanceability |       Duration      |   SongHotness   | SongTitle |  SongTempo |    SongTimeSignature   |      SongTimeSignatureConfidence      |                 ArtistMbtags                |                      ArtistTerms                     | ArtistLocation |  ArtistLatitude  |  ArtistLongitude  | SongKey                                                                  | SongKeyConfidence                    | SongEnergy | SongLoudness |   ArtistHotness\n",
    "|:-------:|:---------------------:|--------------------|:-----------------------:|:----------------:|:-------------------:|:---------------:|:---------:|:----------:|:----------------------:|:-------------------------------------:|:-------------------------------------------:|:----------------------------------------------------:|:--------------:|:----------------:|:-----------------:|--------------------------------------------------------------------------|--------------------------------------|------------|--------------|--------------|\n",
    "|  format |         string        |       string       |           int           |       float      |        float        |      float      |   string  |    float   |           int          |                 float                 |                    string                   |                        string                        |     string     |       float      |       float       |                                    int                                   |                 float                |    float   |     float    |     float  |\n",
    "|   type  |       categorial      |     categorial     |        continious       |    continious    |      continious     |    continious   |     -     | continious |         Ordinal        |               continious              |                                             |                                                      |                |    continious    |     continious    |                                  Ordinal                                 |              continious              |            |   continous  |      continous       |\n",
    "| comment | identifier for artist | name of the Artist | years from 1926 to 2010 |     always 0     | duration in seconds | between 0 and 1 |           |            | values between 0 and 7 | between 0 and 1, 1 is very confident  | comma seperated array with mbtags of artist | comma seperated array with echo nest terms of artist |   town, state  | default latitude | default longitude | 0-11 for [c, c-sharp, d, e-flat, e, f, f-sharp, g, a-flat, a, b-flat, b] | between 0 and 1, 1 is very confident | always 0   |  -51 to 0.5  |  between 0 and 1 "
   ]
  },
  {
   "cell_type": "markdown",
   "metadata": {
    "collapsed": true
   },
   "source": [
    "Now that we know a little bit more about the different features, let's have a deeper look at their distribution."
   ]
  },
  {
   "cell_type": "markdown",
   "metadata": {},
   "source": [
    "### Song Year"
   ]
  },
  {
   "cell_type": "code",
   "execution_count": 12,
   "metadata": {},
   "outputs": [
    {
     "data": {
      "text/plain": [
       "<matplotlib.axes._subplots.AxesSubplot at 0x2916e553978>"
      ]
     },
     "execution_count": 12,
     "metadata": {},
     "output_type": "execute_result"
    },
    {
     "data": {
      "image/png": "[encoded data removed]",
      "text/plain": [
       "<matplotlib.figure.Figure at 0x29111302d68>"
      ]
     },
     "metadata": {},
     "output_type": "display_data"
    }
   ],
   "source": [
    "df.SongYear.plot(kind='hist')"
   ]
  },
  {
   "cell_type": "code",
   "execution_count": 13,
   "metadata": {},
   "outputs": [
    {
     "data": {
      "text/plain": [
       "<matplotlib.axes._subplots.AxesSubplot at 0x29120222320>"
      ]
     },
     "execution_count": 13,
     "metadata": {},
     "output_type": "execute_result"
    },
    {
     "data": {
      "image/png": "[encoded data removed]",
      "text/plain": [
       "<matplotlib.figure.Figure at 0x29156fbee10>"
      ]
     },
     "metadata": {},
     "output_type": "display_data"
    }
   ],
   "source": [
    "df.SongYear.plot.box()"
   ]
  },
  {
   "cell_type": "markdown",
   "metadata": {},
   "source": [
    "The distribution of the year feature is negatively skewed.  \n",
    "The available years span from 1926 to 2010.  \n",
    "It makes sense to normalize the feature with scaling.\n",
    "Normalize the year first"
   ]
  },
  {
   "cell_type": "code",
   "execution_count": 14,
   "metadata": {},
   "outputs": [
    {
     "data": {
      "text/html": [
       "<div>\n",
       "<style>\n",
       "    .dataframe thead tr:only-child th {\n",
       "        text-align: right;\n",
       "    }\n",
       "\n",
       "    .dataframe thead th {\n",
       "        text-align: left;\n",
       "    }\n",
       "\n",
       "    .dataframe tbody tr th {\n",
       "        vertical-align: top;\n",
       "    }\n",
       "</style>\n",
       "<table border=\"1\" class=\"dataframe\">\n",
       "  <thead>\n",
       "    <tr style=\"text-align: right;\">\n",
       "      <th></th>\n",
       "      <th>SongTitle</th>\n",
       "      <th>ArtistID</th>\n",
       "      <th>ArtistName</th>\n",
       "      <th>ArtistLatitude</th>\n",
       "      <th>ArtistLongitude</th>\n",
       "      <th>ArtistMbtags</th>\n",
       "      <th>ArtistTerms</th>\n",
       "      <th>ArtistHotness</th>\n",
       "      <th>SongDanceability</th>\n",
       "      <th>SongEnergy</th>\n",
       "      <th>...</th>\n",
       "      <th>SongTempo</th>\n",
       "      <th>SongYear</th>\n",
       "      <th>SongKeyConfidence</th>\n",
       "      <th>SongTimeSignature</th>\n",
       "      <th>SongTimeSignatureConfidence</th>\n",
       "      <th>ArtistLocation</th>\n",
       "      <th>ArtistTermFreq</th>\n",
       "      <th>ArtistTermWeight</th>\n",
       "      <th>num_songs</th>\n",
       "      <th>SongYearNorm</th>\n",
       "    </tr>\n",
       "    <tr>\n",
       "      <th>track_id</th>\n",
       "      <th></th>\n",
       "      <th></th>\n",
       "      <th></th>\n",
       "      <th></th>\n",
       "      <th></th>\n",
       "      <th></th>\n",
       "      <th></th>\n",
       "      <th></th>\n",
       "      <th></th>\n",
       "      <th></th>\n",
       "      <th></th>\n",
       "      <th></th>\n",
       "      <th></th>\n",
       "      <th></th>\n",
       "      <th></th>\n",
       "      <th></th>\n",
       "      <th></th>\n",
       "      <th></th>\n",
       "      <th></th>\n",
       "      <th></th>\n",
       "      <th></th>\n",
       "    </tr>\n",
       "  </thead>\n",
       "  <tbody>\n",
       "    <tr>\n",
       "      <th>TRAAARJ128F9320760</th>\n",
       "      <td>Pink World</td>\n",
       "      <td>AR8ZCNI1187B9A069B</td>\n",
       "      <td>Planet P Project</td>\n",
       "      <td>NaN</td>\n",
       "      <td>NaN</td>\n",
       "      <td>[]</td>\n",
       "      <td>[new wave;progressive rock;space rock;eurodan...</td>\n",
       "      <td>0.332276</td>\n",
       "      <td>0.0</td>\n",
       "      <td>0.0</td>\n",
       "      <td>...</td>\n",
       "      <td>86.643</td>\n",
       "      <td>1984</td>\n",
       "      <td>0.717</td>\n",
       "      <td>4</td>\n",
       "      <td>0.487</td>\n",
       "      <td></td>\n",
       "      <td>[0.959766246334;0.97039004532;0.821993419741;...</td>\n",
       "      <td>[1.0;0.986961919746;0.983064531868;0.96580916...</td>\n",
       "      <td>1</td>\n",
       "      <td>0.696629</td>\n",
       "    </tr>\n",
       "    <tr>\n",
       "      <th>TRAAAAK128F9318786</th>\n",
       "      <td>Scream</td>\n",
       "      <td>ARJNIUY12298900C91</td>\n",
       "      <td>Adelitas Way</td>\n",
       "      <td>NaN</td>\n",
       "      <td>NaN</td>\n",
       "      <td>[]</td>\n",
       "      <td>[alternative metal;heavy metal;rock;alternati...</td>\n",
       "      <td>0.461318</td>\n",
       "      <td>0.0</td>\n",
       "      <td>0.0</td>\n",
       "      <td>...</td>\n",
       "      <td>99.944</td>\n",
       "      <td>2009</td>\n",
       "      <td>0.349</td>\n",
       "      <td>4</td>\n",
       "      <td>0.846</td>\n",
       "      <td></td>\n",
       "      <td>[0.995874657423;0.995874657423;1.0;0.88565253...</td>\n",
       "      <td>[1.0;0.899353739319;0.756187682886;0.71311746...</td>\n",
       "      <td>1</td>\n",
       "      <td>0.977528</td>\n",
       "    </tr>\n",
       "    <tr>\n",
       "      <th>TRAAAQO12903CD8E1C</th>\n",
       "      <td>Take Time</td>\n",
       "      <td>AR5LMPY1187FB573FE</td>\n",
       "      <td>Chaka Khan_ Rufus</td>\n",
       "      <td>41.88415</td>\n",
       "      <td>-87.63241</td>\n",
       "      <td>[classic pop and rock]</td>\n",
       "      <td>[r&amp;b;disco;funk;motown;freestyle;quiet storm;...</td>\n",
       "      <td>0.398984</td>\n",
       "      <td>0.0</td>\n",
       "      <td>0.0</td>\n",
       "      <td>...</td>\n",
       "      <td>110.325</td>\n",
       "      <td>1978</td>\n",
       "      <td>0.396</td>\n",
       "      <td>4</td>\n",
       "      <td>0.426</td>\n",
       "      <td>Chicago; IL</td>\n",
       "      <td>[0.922730152887;1.0;1.0;0.810682902091;0.8106...</td>\n",
       "      <td>[1.0;0.991539617318;0.925395217966;0.92426646...</td>\n",
       "      <td>1</td>\n",
       "      <td>0.629213</td>\n",
       "    </tr>\n",
       "    <tr>\n",
       "      <th>TRAAAAV128F421A322</th>\n",
       "      <td>A Poor Recipe For Civic Cohesion</td>\n",
       "      <td>AR73AIO1187B9AD57B</td>\n",
       "      <td>Western Addiction</td>\n",
       "      <td>37.77916</td>\n",
       "      <td>-122.42005</td>\n",
       "      <td>[]</td>\n",
       "      <td>[melodic hardcore;skate punk;hardcore punk;ca...</td>\n",
       "      <td>0.386606</td>\n",
       "      <td>0.0</td>\n",
       "      <td>0.0</td>\n",
       "      <td>...</td>\n",
       "      <td>125.475</td>\n",
       "      <td>2005</td>\n",
       "      <td>0.187</td>\n",
       "      <td>4</td>\n",
       "      <td>0.546</td>\n",
       "      <td>San Francisco; CA</td>\n",
       "      <td>[0.958442007525;0.877423051563;1.0;0.82014263...</td>\n",
       "      <td>[1.0;0.968559809446;0.964753894876;0.86918176...</td>\n",
       "      <td>1</td>\n",
       "      <td>0.932584</td>\n",
       "    </tr>\n",
       "    <tr>\n",
       "      <th>TRAAAUR128F428B1FA</th>\n",
       "      <td>Smash It Up</td>\n",
       "      <td>AR0MWD61187B9B2B12</td>\n",
       "      <td>International Noise Conspiracy</td>\n",
       "      <td>NaN</td>\n",
       "      <td>NaN</td>\n",
       "      <td>[]</td>\n",
       "      <td>[ska punk;garage rock;post-hardcore;garage pu...</td>\n",
       "      <td>0.414283</td>\n",
       "      <td>0.0</td>\n",
       "      <td>0.0</td>\n",
       "      <td>...</td>\n",
       "      <td>148.957</td>\n",
       "      <td>2000</td>\n",
       "      <td>0.451</td>\n",
       "      <td>4</td>\n",
       "      <td>0.144</td>\n",
       "      <td></td>\n",
       "      <td>[0.884642893649;0.905262621301;0.905262621301...</td>\n",
       "      <td>[1.0;0.972876260864;0.96844862128;0.958751376...</td>\n",
       "      <td>1</td>\n",
       "      <td>0.876404</td>\n",
       "    </tr>\n",
       "  </tbody>\n",
       "</table>\n",
       "<p>5 rows × 24 columns</p>\n",
       "</div>"
      ],
      "text/plain": [
       "                                            SongTitle             ArtistID  \\\n",
       "track_id                                                                     \n",
       "TRAAARJ128F9320760                         Pink World   AR8ZCNI1187B9A069B   \n",
       "TRAAAAK128F9318786                             Scream   ARJNIUY12298900C91   \n",
       "TRAAAQO12903CD8E1C                          Take Time   AR5LMPY1187FB573FE   \n",
       "TRAAAAV128F421A322   A Poor Recipe For Civic Cohesion   AR73AIO1187B9AD57B   \n",
       "TRAAAUR128F428B1FA                        Smash It Up   AR0MWD61187B9B2B12   \n",
       "\n",
       "                                         ArtistName  ArtistLatitude  \\\n",
       "track_id                                                              \n",
       "TRAAARJ128F9320760                 Planet P Project             NaN   \n",
       "TRAAAAK128F9318786                     Adelitas Way             NaN   \n",
       "TRAAAQO12903CD8E1C                Chaka Khan_ Rufus        41.88415   \n",
       "TRAAAAV128F421A322                Western Addiction        37.77916   \n",
       "TRAAAUR128F428B1FA   International Noise Conspiracy             NaN   \n",
       "\n",
       "                    ArtistLongitude             ArtistMbtags  \\\n",
       "track_id                                                       \n",
       "TRAAARJ128F9320760              NaN                       []   \n",
       "TRAAAAK128F9318786              NaN                       []   \n",
       "TRAAAQO12903CD8E1C        -87.63241   [classic pop and rock]   \n",
       "TRAAAAV128F421A322       -122.42005                       []   \n",
       "TRAAAUR128F428B1FA              NaN                       []   \n",
       "\n",
       "                                                          ArtistTerms  \\\n",
       "track_id                                                                \n",
       "TRAAARJ128F9320760   [new wave;progressive rock;space rock;eurodan...   \n",
       "TRAAAAK128F9318786   [alternative metal;heavy metal;rock;alternati...   \n",
       "TRAAAQO12903CD8E1C   [r&b;disco;funk;motown;freestyle;quiet storm;...   \n",
       "TRAAAAV128F421A322   [melodic hardcore;skate punk;hardcore punk;ca...   \n",
       "TRAAAUR128F428B1FA   [ska punk;garage rock;post-hardcore;garage pu...   \n",
       "\n",
       "                    ArtistHotness  SongDanceability  SongEnergy     ...       \\\n",
       "track_id                                                            ...        \n",
       "TRAAARJ128F9320760       0.332276               0.0         0.0     ...        \n",
       "TRAAAAK128F9318786       0.461318               0.0         0.0     ...        \n",
       "TRAAAQO12903CD8E1C       0.398984               0.0         0.0     ...        \n",
       "TRAAAAV128F421A322       0.386606               0.0         0.0     ...        \n",
       "TRAAAUR128F428B1FA       0.414283               0.0         0.0     ...        \n",
       "\n",
       "                    SongTempo  SongYear  SongKeyConfidence  SongTimeSignature  \\\n",
       "track_id                                                                        \n",
       "TRAAARJ128F9320760     86.643      1984              0.717                  4   \n",
       "TRAAAAK128F9318786     99.944      2009              0.349                  4   \n",
       "TRAAAQO12903CD8E1C    110.325      1978              0.396                  4   \n",
       "TRAAAAV128F421A322    125.475      2005              0.187                  4   \n",
       "TRAAAUR128F428B1FA    148.957      2000              0.451                  4   \n",
       "\n",
       "                    SongTimeSignatureConfidence      ArtistLocation  \\\n",
       "track_id                                                              \n",
       "TRAAARJ128F9320760                        0.487                       \n",
       "TRAAAAK128F9318786                        0.846                       \n",
       "TRAAAQO12903CD8E1C                        0.426         Chicago; IL   \n",
       "TRAAAAV128F421A322                        0.546   San Francisco; CA   \n",
       "TRAAAUR128F428B1FA                        0.144                       \n",
       "\n",
       "                                                       ArtistTermFreq  \\\n",
       "track_id                                                                \n",
       "TRAAARJ128F9320760   [0.959766246334;0.97039004532;0.821993419741;...   \n",
       "TRAAAAK128F9318786   [0.995874657423;0.995874657423;1.0;0.88565253...   \n",
       "TRAAAQO12903CD8E1C   [0.922730152887;1.0;1.0;0.810682902091;0.8106...   \n",
       "TRAAAAV128F421A322   [0.958442007525;0.877423051563;1.0;0.82014263...   \n",
       "TRAAAUR128F428B1FA   [0.884642893649;0.905262621301;0.905262621301...   \n",
       "\n",
       "                                                     ArtistTermWeight  \\\n",
       "track_id                                                                \n",
       "TRAAARJ128F9320760   [1.0;0.986961919746;0.983064531868;0.96580916...   \n",
       "TRAAAAK128F9318786   [1.0;0.899353739319;0.756187682886;0.71311746...   \n",
       "TRAAAQO12903CD8E1C   [1.0;0.991539617318;0.925395217966;0.92426646...   \n",
       "TRAAAAV128F421A322   [1.0;0.968559809446;0.964753894876;0.86918176...   \n",
       "TRAAAUR128F428B1FA   [1.0;0.972876260864;0.96844862128;0.958751376...   \n",
       "\n",
       "                    num_songs SongYearNorm  \n",
       "track_id                                    \n",
       "TRAAARJ128F9320760          1     0.696629  \n",
       "TRAAAAK128F9318786          1     0.977528  \n",
       "TRAAAQO12903CD8E1C          1     0.629213  \n",
       "TRAAAAV128F421A322          1     0.932584  \n",
       "TRAAAUR128F428B1FA          1     0.876404  \n",
       "\n",
       "[5 rows x 24 columns]"
      ]
     },
     "execution_count": 14,
     "metadata": {},
     "output_type": "execute_result"
    }
   ],
   "source": [
    "normalized_df[\"SongYearNorm\"] = (df.SongYear-df.SongYear.min())/ \\\n",
    "                            (df.SongYear.max()-df.SongYear.min())\n",
    "normalized_df.head()"
   ]
  },
  {
   "cell_type": "markdown",
   "metadata": {},
   "source": [
    "### Song Danceability"
   ]
  },
  {
   "cell_type": "code",
   "execution_count": 15,
   "metadata": {
    "scrolled": true
   },
   "outputs": [
    {
     "data": {
      "text/plain": [
       "<matplotlib.axes._subplots.AxesSubplot at 0x2916e7f5a20>"
      ]
     },
     "execution_count": 15,
     "metadata": {},
     "output_type": "execute_result"
    },
    {
     "data": {
      "image/png": "[encoded data removed]",
      "text/plain": [
       "<matplotlib.figure.Figure at 0x2914bc6cf28>"
      ]
     },
     "metadata": {},
     "output_type": "display_data"
    }
   ],
   "source": [
    "df.SongDanceability.plot(kind='hist')"
   ]
  },
  {
   "cell_type": "code",
   "execution_count": 16,
   "metadata": {},
   "outputs": [
    {
     "data": {
      "text/plain": [
       "<matplotlib.axes._subplots.AxesSubplot at 0x2916e7ee0f0>"
      ]
     },
     "execution_count": 16,
     "metadata": {},
     "output_type": "execute_result"
    },
    {
     "data": {
      "image/png": "[encoded data removed]",
      "text/plain": [
       "<matplotlib.figure.Figure at 0x291528b6828>"
      ]
     },
     "metadata": {},
     "output_type": "display_data"
    }
   ],
   "source": [
    "df.SongDanceability.plot.box()"
   ]
  },
  {
   "cell_type": "markdown",
   "metadata": {},
   "source": [
    "All songs of our cleaned data frame has danceability `0`.  \n",
    "Therefore we will drop this column.  "
   ]
  },
  {
   "cell_type": "code",
   "execution_count": 17,
   "metadata": {},
   "outputs": [],
   "source": [
    "normalized_df.drop(labels=['SongDanceability'], axis=1, inplace=True)"
   ]
  },
  {
   "cell_type": "markdown",
   "metadata": {},
   "source": [
    "### Duration"
   ]
  },
  {
   "cell_type": "code",
   "execution_count": 18,
   "metadata": {
    "scrolled": true
   },
   "outputs": [
    {
     "name": "stdout",
     "output_type": "stream",
     "text": [
      "(2693, 23)\n",
      "(4116, 23)\n"
     ]
    },
    {
     "data": {
      "image/png": "[encoded data removed]",
      "text/plain": [
       "<matplotlib.figure.Figure at 0x2914f5865f8>"
      ]
     },
     "metadata": {},
     "output_type": "display_data"
    }
   ],
   "source": [
    "df.Duration.plot(kind='hist',bins=50)\n",
    "print(df[df['Duration']>600].shape)\n",
    "print(df[df['Duration']<60].shape)"
   ]
  },
  {
   "cell_type": "code",
   "execution_count": 19,
   "metadata": {},
   "outputs": [
    {
     "data": {
      "text/plain": [
       "<matplotlib.axes._subplots.AxesSubplot at 0x29172d35dd8>"
      ]
     },
     "execution_count": 19,
     "metadata": {},
     "output_type": "execute_result"
    },
    {
     "data": {
      "image/png": "[encoded data removed]",
      "text/plain": [
       "<matplotlib.figure.Figure at 0x29173237978>"
      ]
     },
     "metadata": {},
     "output_type": "display_data"
    }
   ],
   "source": [
    "df.Duration.plot.box()"
   ]
  },
  {
   "cell_type": "markdown",
   "metadata": {},
   "source": [
    "We can see in the histogram, that most of the songs duration are normal distributed.  \n",
    "However, there are outliers with song durations over 10 minutes and under 60 seconds.   \n",
    "In our normalized DataFrame we remove the outliers for the duration, since they might deviate too much from the average songs, which we want to analyse."
   ]
  },
  {
   "cell_type": "code",
   "execution_count": 20,
   "metadata": {},
   "outputs": [
    {
     "data": {
      "text/plain": [
       "<matplotlib.axes._subplots.AxesSubplot at 0x29116b21908>"
      ]
     },
     "execution_count": 20,
     "metadata": {},
     "output_type": "execute_result"
    },
    {
     "data": {
      "image/png": "[encoded data removed]",
      "text/plain": [
       "<matplotlib.figure.Figure at 0x2917cc46cc0>"
      ]
     },
     "metadata": {},
     "output_type": "display_data"
    }
   ],
   "source": [
    "normalized_df = normalized_df[normalized_df['Duration']>60]\n",
    "normalized_df = normalized_df[normalized_df['Duration']<600]\n",
    "normalized_df.Duration.plot(kind='hist')\n"
   ]
  },
  {
   "cell_type": "code",
   "execution_count": 21,
   "metadata": {},
   "outputs": [
    {
     "data": {
      "text/plain": [
       "<matplotlib.axes._subplots.AxesSubplot at 0x29172d0d9b0>"
      ]
     },
     "execution_count": 21,
     "metadata": {},
     "output_type": "execute_result"
    },
    {
     "data": {
      "image/png": "[encoded data removed]",
      "text/plain": [
       "<matplotlib.figure.Figure at 0x29178a4fe10>"
      ]
     },
     "metadata": {},
     "output_type": "display_data"
    }
   ],
   "source": [
    "normalized_df.Duration.plot.box()"
   ]
  },
  {
   "cell_type": "markdown",
   "metadata": {},
   "source": [
    "### Song Hotness"
   ]
  },
  {
   "cell_type": "code",
   "execution_count": 22,
   "metadata": {
    "scrolled": false
   },
   "outputs": [
    {
     "data": {
      "text/plain": [
       "<matplotlib.axes._subplots.AxesSubplot at 0x291073f7208>"
      ]
     },
     "execution_count": 22,
     "metadata": {},
     "output_type": "execute_result"
    },
    {
     "data": {
      "image/png": "[encoded data removed]",
      "text/plain": [
       "<matplotlib.figure.Figure at 0x29116b38400>"
      ]
     },
     "metadata": {},
     "output_type": "display_data"
    }
   ],
   "source": [
    "df.SongHotness.plot(kind='hist')"
   ]
  },
  {
   "cell_type": "code",
   "execution_count": 23,
   "metadata": {},
   "outputs": [
    {
     "data": {
      "text/plain": [
       "<matplotlib.axes._subplots.AxesSubplot at 0x291648d8a58>"
      ]
     },
     "execution_count": 23,
     "metadata": {},
     "output_type": "execute_result"
    },
    {
     "data": {
      "image/png": "[encoded data removed]",
      "text/plain": [
       "<matplotlib.figure.Figure at 0x291643bfeb8>"
      ]
     },
     "metadata": {},
     "output_type": "display_data"
    }
   ],
   "source": [
    "df.SongHotness.plot.box()"
   ]
  },
  {
   "cell_type": "markdown",
   "metadata": {},
   "source": [
    "The distribution of the Hotness is not skewed.  \n",
    "There are a few songs where the hotness is missing.  \n",
    "When analysing hotness remove songs with hotness of zero. But for now we will keep the songs for other analysis tasks."
   ]
  },
  {
   "cell_type": "markdown",
   "metadata": {},
   "source": [
    "### Song Tempo "
   ]
  },
  {
   "cell_type": "code",
   "execution_count": 24,
   "metadata": {
    "scrolled": false
   },
   "outputs": [
    {
     "data": {
      "text/plain": [
       "<matplotlib.axes._subplots.AxesSubplot at 0x291523aae10>"
      ]
     },
     "execution_count": 24,
     "metadata": {},
     "output_type": "execute_result"
    },
    {
     "data": {
      "image/png": "[encoded data removed]",
      "text/plain": [
       "<matplotlib.figure.Figure at 0x2911673e390>"
      ]
     },
     "metadata": {},
     "output_type": "display_data"
    }
   ],
   "source": [
    "df.SongTempo.plot(kind='hist')"
   ]
  },
  {
   "cell_type": "code",
   "execution_count": 25,
   "metadata": {},
   "outputs": [
    {
     "data": {
      "text/plain": [
       "<matplotlib.axes._subplots.AxesSubplot at 0x291026f6080>"
      ]
     },
     "execution_count": 25,
     "metadata": {},
     "output_type": "execute_result"
    },
    {
     "data": {
      "image/png": "[encoded data removed]",
      "text/plain": [
       "<matplotlib.figure.Figure at 0x29152501ba8>"
      ]
     },
     "metadata": {},
     "output_type": "display_data"
    }
   ],
   "source": [
    "df.SongTempo.plot.box()"
   ]
  },
  {
   "cell_type": "markdown",
   "metadata": {},
   "source": [
    "The distribution of the tempo is normal. There are some outliers with a very high or low tempo of more than 200 or less than 25.  \n",
    "We will remove these outliers, since they might deviate from the average songs we want to analyse."
   ]
  },
  {
   "cell_type": "code",
   "execution_count": 26,
   "metadata": {},
   "outputs": [
    {
     "data": {
      "text/plain": [
       "<matplotlib.axes._subplots.AxesSubplot at 0x291027192b0>"
      ]
     },
     "execution_count": 26,
     "metadata": {},
     "output_type": "execute_result"
    },
    {
     "data": {
      "image/png": "[encoded data removed]",
      "text/plain": [
       "<matplotlib.figure.Figure at 0x2917895f710>"
      ]
     },
     "metadata": {},
     "output_type": "display_data"
    }
   ],
   "source": [
    "normalized_df = normalized_df[normalized_df['SongTempo']<220]\n",
    "normalized_df = normalized_df[normalized_df['SongTempo']>25]\n",
    "normalized_df.SongTempo.plot.box()"
   ]
  },
  {
   "cell_type": "markdown",
   "metadata": {},
   "source": [
    "### Song Time Signature"
   ]
  },
  {
   "cell_type": "markdown",
   "metadata": {},
   "source": [
    "The Song Time Signature describes the number of beats per bar."
   ]
  },
  {
   "cell_type": "code",
   "execution_count": 27,
   "metadata": {
    "scrolled": true
   },
   "outputs": [
    {
     "data": {
      "text/plain": [
       "<matplotlib.axes._subplots.AxesSubplot at 0x2910278eda0>"
      ]
     },
     "execution_count": 27,
     "metadata": {},
     "output_type": "execute_result"
    },
    {
     "data": {
      "image/png": "[encoded data removed]",
      "text/plain": [
       "<matplotlib.figure.Figure at 0x2911c41a5c0>"
      ]
     },
     "metadata": {},
     "output_type": "display_data"
    }
   ],
   "source": [
    "df.SongTimeSignature.plot(kind='hist')"
   ]
  },
  {
   "cell_type": "code",
   "execution_count": 28,
   "metadata": {},
   "outputs": [
    {
     "data": {
      "text/plain": [
       "<matplotlib.axes._subplots.AxesSubplot at 0x29106f3b748>"
      ]
     },
     "execution_count": 28,
     "metadata": {},
     "output_type": "execute_result"
    },
    {
     "data": {
      "image/png": "[encoded data removed]",
      "text/plain": [
       "<matplotlib.figure.Figure at 0x29178a5a5c0>"
      ]
     },
     "metadata": {},
     "output_type": "display_data"
    }
   ],
   "source": [
    "df.SongTimeSignature.plot.box()"
   ]
  },
  {
   "cell_type": "markdown",
   "metadata": {},
   "source": [
    "The distribution of the Time signature also looks normally distributed, without many outliers.  \n",
    "Therefore we will keep the feature as it is."
   ]
  },
  {
   "cell_type": "markdown",
   "metadata": {},
   "source": [
    "### Song Time Signature Confidence"
   ]
  },
  {
   "cell_type": "markdown",
   "metadata": {},
   "source": [
    "The Song Time Signature Confidence describes the confidence in the Song Time Signature. It is 1 when the Song Time Signature is very accurate and 0 if is unknown."
   ]
  },
  {
   "cell_type": "code",
   "execution_count": 29,
   "metadata": {
    "scrolled": true
   },
   "outputs": [
    {
     "data": {
      "text/plain": [
       "<matplotlib.axes._subplots.AxesSubplot at 0x2910c4bbda0>"
      ]
     },
     "execution_count": 29,
     "metadata": {},
     "output_type": "execute_result"
    },
    {
     "data": {
      "image/png": "[encoded data removed]",
      "text/plain": [
       "<matplotlib.figure.Figure at 0x2910c4ad828>"
      ]
     },
     "metadata": {},
     "output_type": "display_data"
    }
   ],
   "source": [
    "df.SongTimeSignatureConfidence.plot(kind='hist')"
   ]
  },
  {
   "cell_type": "code",
   "execution_count": 30,
   "metadata": {},
   "outputs": [
    {
     "data": {
      "text/plain": [
       "<matplotlib.axes._subplots.AxesSubplot at 0x291027d1e80>"
      ]
     },
     "execution_count": 30,
     "metadata": {},
     "output_type": "execute_result"
    },
    {
     "data": {
      "image/png": "[encoded data removed]",
      "text/plain": [
       "<matplotlib.figure.Figure at 0x291527d1160>"
      ]
     },
     "metadata": {},
     "output_type": "display_data"
    }
   ],
   "source": [
    "df.SongTimeSignatureConfidence.plot.box()"
   ]
  },
  {
   "cell_type": "markdown",
   "metadata": {},
   "source": [
    "The majority of songs has either 0 or 1 as confidence. The other confidences are almost equally distributed.    \n",
    "When analysing TimeSignature we will remove songs with low confidence, but keep the songs for now."
   ]
  },
  {
   "cell_type": "markdown",
   "metadata": {},
   "source": [
    "### Artist Location"
   ]
  },
  {
   "cell_type": "code",
   "execution_count": 31,
   "metadata": {
    "scrolled": true
   },
   "outputs": [
    {
     "data": {
      "text/plain": [
       "<matplotlib.axes._subplots.AxesSubplot at 0x291073b7e80>"
      ]
     },
     "execution_count": 31,
     "metadata": {},
     "output_type": "execute_result"
    },
    {
     "data": {
      "image/png": "[encoded data removed]",
      "text/plain": [
       "<matplotlib.figure.Figure at 0x29106f47f28>"
      ]
     },
     "metadata": {},
     "output_type": "display_data"
    }
   ],
   "source": [
    "df.ArtistLatitude.plot(kind='hist')"
   ]
  },
  {
   "cell_type": "code",
   "execution_count": 32,
   "metadata": {},
   "outputs": [
    {
     "data": {
      "text/plain": [
       "<matplotlib.axes._subplots.AxesSubplot at 0x2911685ddd8>"
      ]
     },
     "execution_count": 32,
     "metadata": {},
     "output_type": "execute_result"
    },
    {
     "data": {
      "image/png": "[encoded data removed]",
      "text/plain": [
       "<matplotlib.figure.Figure at 0x29102654d68>"
      ]
     },
     "metadata": {},
     "output_type": "display_data"
    }
   ],
   "source": [
    "df.ArtistLatitude.plot.box()"
   ]
  },
  {
   "cell_type": "code",
   "execution_count": 33,
   "metadata": {
    "scrolled": true
   },
   "outputs": [
    {
     "data": {
      "text/plain": [
       "<matplotlib.axes._subplots.AxesSubplot at 0x2910c826908>"
      ]
     },
     "execution_count": 33,
     "metadata": {},
     "output_type": "execute_result"
    },
    {
     "data": {
      "image/png": "[encoded data removed]",
      "text/plain": [
       "<matplotlib.figure.Figure at 0x2910cba0080>"
      ]
     },
     "metadata": {},
     "output_type": "display_data"
    }
   ],
   "source": [
    "df.ArtistLongitude.plot(kind='hist')"
   ]
  },
  {
   "cell_type": "code",
   "execution_count": 34,
   "metadata": {
    "scrolled": true
   },
   "outputs": [
    {
     "data": {
      "text/plain": [
       "<matplotlib.axes._subplots.AxesSubplot at 0x2910cba0a20>"
      ]
     },
     "execution_count": 34,
     "metadata": {},
     "output_type": "execute_result"
    },
    {
     "data": {
      "image/png": "[encoded data removed]",
      "text/plain": [
       "<matplotlib.figure.Figure at 0x2916e3f4630>"
      ]
     },
     "metadata": {},
     "output_type": "display_data"
    }
   ],
   "source": [
    "df.ArtistLongitude.plot.box()"
   ]
  },
  {
   "cell_type": "markdown",
   "metadata": {},
   "source": [
    "We will keep the artist locations for now as they are, since we wanted to look at the correlation between different song types and artist locations."
   ]
  },
  {
   "cell_type": "markdown",
   "metadata": {},
   "source": [
    "### Song Key"
   ]
  },
  {
   "cell_type": "code",
   "execution_count": 35,
   "metadata": {},
   "outputs": [
    {
     "data": {
      "text/plain": [
       "<matplotlib.axes._subplots.AxesSubplot at 0x29173158668>"
      ]
     },
     "execution_count": 35,
     "metadata": {},
     "output_type": "execute_result"
    },
    {
     "data": {
      "image/png": "[encoded data removed]",
      "text/plain": [
       "<matplotlib.figure.Figure at 0x291073660b8>"
      ]
     },
     "metadata": {},
     "output_type": "display_data"
    }
   ],
   "source": [
    "df.SongKey.plot(kind='hist')"
   ]
  },
  {
   "cell_type": "code",
   "execution_count": 36,
   "metadata": {},
   "outputs": [
    {
     "data": {
      "text/plain": [
       "<matplotlib.axes._subplots.AxesSubplot at 0x29106fe5c18>"
      ]
     },
     "execution_count": 36,
     "metadata": {},
     "output_type": "execute_result"
    },
    {
     "data": {
      "image/png": "[encoded data removed]",
      "text/plain": [
       "<matplotlib.figure.Figure at 0x29106f71e10>"
      ]
     },
     "metadata": {},
     "output_type": "display_data"
    }
   ],
   "source": [
    "df.SongKey.plot.box()"
   ]
  },
  {
   "cell_type": "markdown",
   "metadata": {},
   "source": [
    "The key feature has no clear distribution. It contains several peaks which might come from several joined normal distributions for each genre.  \n",
    "The distribution will be reanalysed for each genre."
   ]
  },
  {
   "cell_type": "markdown",
   "metadata": {},
   "source": [
    "### Song Key Confidence"
   ]
  },
  {
   "cell_type": "code",
   "execution_count": 37,
   "metadata": {},
   "outputs": [
    {
     "data": {
      "text/plain": [
       "<matplotlib.axes._subplots.AxesSubplot at 0x29178556898>"
      ]
     },
     "execution_count": 37,
     "metadata": {},
     "output_type": "execute_result"
    },
    {
     "data": {
      "image/png": "[encoded data removed]",
      "text/plain": [
       "<matplotlib.figure.Figure at 0x29168bef048>"
      ]
     },
     "metadata": {},
     "output_type": "display_data"
    }
   ],
   "source": [
    "df.SongKeyConfidence.plot(kind='hist')"
   ]
  },
  {
   "cell_type": "code",
   "execution_count": 38,
   "metadata": {},
   "outputs": [
    {
     "data": {
      "text/plain": [
       "<matplotlib.axes._subplots.AxesSubplot at 0x29110ec77f0>"
      ]
     },
     "execution_count": 38,
     "metadata": {},
     "output_type": "execute_result"
    },
    {
     "data": {
      "image/png": "[encoded data removed]",
      "text/plain": [
       "<matplotlib.figure.Figure at 0x29106ee0c50>"
      ]
     },
     "metadata": {},
     "output_type": "display_data"
    }
   ],
   "source": [
    "df.SongKeyConfidence.plot.box()"
   ]
  },
  {
   "cell_type": "markdown",
   "metadata": {},
   "source": [
    "The Song Key Confidence describes the confidence in the Song Key. It is 1 when the Song Key is very accurate and 0 if is unknown.  \n",
    "The confidence level is not too low, when analysing the key we will remove the songs with low confidence."
   ]
  },
  {
   "cell_type": "markdown",
   "metadata": {},
   "source": [
    "### Song Energy"
   ]
  },
  {
   "cell_type": "code",
   "execution_count": 39,
   "metadata": {},
   "outputs": [
    {
     "data": {
      "text/plain": [
       "<matplotlib.axes._subplots.AxesSubplot at 0x2911138ff98>"
      ]
     },
     "execution_count": 39,
     "metadata": {},
     "output_type": "execute_result"
    },
    {
     "data": {
      "image/png": "[encoded data removed]",
      "text/plain": [
       "<matplotlib.figure.Figure at 0x29110cc81d0>"
      ]
     },
     "metadata": {},
     "output_type": "display_data"
    }
   ],
   "source": [
    "df.SongEnergy.plot(kind='hist')"
   ]
  },
  {
   "cell_type": "code",
   "execution_count": 40,
   "metadata": {},
   "outputs": [
    {
     "data": {
      "text/plain": [
       "<matplotlib.axes._subplots.AxesSubplot at 0x2911bf1aa90>"
      ]
     },
     "execution_count": 40,
     "metadata": {},
     "output_type": "execute_result"
    },
    {
     "data": {
      "image/png": "[encoded data removed]",
      "text/plain": [
       "<matplotlib.figure.Figure at 0x29110d89eb8>"
      ]
     },
     "metadata": {},
     "output_type": "display_data"
    }
   ],
   "source": [
    "df.SongEnergy.plot.box()"
   ]
  },
  {
   "cell_type": "markdown",
   "metadata": {},
   "source": [
    "All songs of our cleaned data frame has energy `0`.  \n",
    "Therefore we will drop this column.  "
   ]
  },
  {
   "cell_type": "code",
   "execution_count": 41,
   "metadata": {},
   "outputs": [],
   "source": [
    "normalized_df.drop(labels=['SongEnergy'], axis=1, inplace=True)"
   ]
  },
  {
   "cell_type": "markdown",
   "metadata": {},
   "source": [
    "### Song Loudness"
   ]
  },
  {
   "cell_type": "code",
   "execution_count": 42,
   "metadata": {},
   "outputs": [
    {
     "data": {
      "text/plain": [
       "<matplotlib.axes._subplots.AxesSubplot at 0x291113af7b8>"
      ]
     },
     "execution_count": 42,
     "metadata": {},
     "output_type": "execute_result"
    },
    {
     "data": {
      "image/png": "[encoded data removed]",
      "text/plain": [
       "<matplotlib.figure.Figure at 0x29116b435f8>"
      ]
     },
     "metadata": {},
     "output_type": "display_data"
    }
   ],
   "source": [
    "df.SongLoudness.plot(kind='hist')"
   ]
  },
  {
   "cell_type": "code",
   "execution_count": 43,
   "metadata": {},
   "outputs": [
    {
     "data": {
      "text/plain": [
       "<matplotlib.axes._subplots.AxesSubplot at 0x29116b7efd0>"
      ]
     },
     "execution_count": 43,
     "metadata": {},
     "output_type": "execute_result"
    },
    {
     "data": {
      "image/png": "[encoded data removed]",
      "text/plain": [
       "<matplotlib.figure.Figure at 0x2911bf925c0>"
      ]
     },
     "metadata": {},
     "output_type": "display_data"
    }
   ],
   "source": [
    "df.SongLoudness.plot.box()"
   ]
  },
  {
   "cell_type": "markdown",
   "metadata": {},
   "source": [
    "We notice that the loudness is negatively skewed. This means there are a few songs which are really silent.  \n",
    "We will remove those songs since they deviate from the average song, which we want to analyse."
   ]
  },
  {
   "cell_type": "code",
   "execution_count": 44,
   "metadata": {},
   "outputs": [
    {
     "data": {
      "text/plain": [
       "<matplotlib.axes._subplots.AxesSubplot at 0x291690f2c88>"
      ]
     },
     "execution_count": 44,
     "metadata": {},
     "output_type": "execute_result"
    },
    {
     "data": {
      "image/png": "[encoded data removed]",
      "text/plain": [
       "<matplotlib.figure.Figure at 0x29120235dd8>"
      ]
     },
     "metadata": {},
     "output_type": "display_data"
    }
   ],
   "source": [
    "normalized_df = normalized_df[normalized_df['SongLoudness']>-35]\n",
    "normalized_df.SongLoudness.plot(kind='hist')"
   ]
  },
  {
   "cell_type": "markdown",
   "metadata": {},
   "source": [
    "### Artist Hotness"
   ]
  },
  {
   "cell_type": "code",
   "execution_count": 45,
   "metadata": {},
   "outputs": [
    {
     "data": {
      "text/plain": [
       "<matplotlib.axes._subplots.AxesSubplot at 0x2911679cb38>"
      ]
     },
     "execution_count": 45,
     "metadata": {},
     "output_type": "execute_result"
    },
    {
     "data": {
      "image/png": "[encoded data removed]",
      "text/plain": [
       "<matplotlib.figure.Figure at 0x2911bf9da90>"
      ]
     },
     "metadata": {},
     "output_type": "display_data"
    }
   ],
   "source": [
    "df.ArtistHotness.plot(kind='hist')"
   ]
  },
  {
   "cell_type": "markdown",
   "metadata": {},
   "source": [
    "We notice that the hotness is also gaussian, with a bigger weight on the right side ( which is nice for us ), and very few datas on the left side."
   ]
  },
  {
   "cell_type": "code",
   "execution_count": 46,
   "metadata": {},
   "outputs": [
    {
     "data": {
      "text/plain": [
       "<matplotlib.axes._subplots.AxesSubplot at 0x2911c3d1d68>"
      ]
     },
     "execution_count": 46,
     "metadata": {},
     "output_type": "execute_result"
    },
    {
     "data": {
      "image/png": "[encoded data removed]",
      "text/plain": [
       "<matplotlib.figure.Figure at 0x291025f2a20>"
      ]
     },
     "metadata": {},
     "output_type": "display_data"
    }
   ],
   "source": [
    "df.ArtistHotness.plot.box()"
   ]
  },
  {
   "cell_type": "markdown",
   "metadata": {},
   "source": [
    "We will keep this hotness that can be rerally useful for our analysis coupled to other data or to help the clustering of song"
   ]
  },
  {
   "cell_type": "markdown",
   "metadata": {},
   "source": [
    "## Feature Processing\n",
    "\n",
    "Beside the numeric features, the data frame also contains features with strings.\n",
    "Actually all String are bytes string so we will transform them into `str` for better comparison. The concerned features are ArtistName, ArtistLocation, SongTitle, ArtistID and tag from the arrays.\n",
    "\n",
    "*The preprocessed file already resolved that, we only need to turn ; into , for the string specifing a list and convert them into a list*"
   ]
  },
  {
   "cell_type": "code",
   "execution_count": 47,
   "metadata": {},
   "outputs": [],
   "source": [
    "def transform(x):\n",
    "    if (len(x.strip()) > 2):\n",
    "        genres_string = x.replace(';','\",\"')\n",
    "        genres_string = genres_string.replace('[','[\"')\n",
    "        genres_string = genres_string.replace(']','\"]')\n",
    "        genres = json.loads(genres_string)\n",
    "        return genres\n",
    "    else:\n",
    "        return []"
   ]
  },
  {
   "cell_type": "code",
   "execution_count": 48,
   "metadata": {},
   "outputs": [
    {
     "data": {
      "text/html": [
       "<div>\n",
       "<style>\n",
       "    .dataframe thead tr:only-child th {\n",
       "        text-align: right;\n",
       "    }\n",
       "\n",
       "    .dataframe thead th {\n",
       "        text-align: left;\n",
       "    }\n",
       "\n",
       "    .dataframe tbody tr th {\n",
       "        vertical-align: top;\n",
       "    }\n",
       "</style>\n",
       "<table border=\"1\" class=\"dataframe\">\n",
       "  <thead>\n",
       "    <tr style=\"text-align: right;\">\n",
       "      <th></th>\n",
       "      <th>SongTitle</th>\n",
       "      <th>ArtistID</th>\n",
       "      <th>ArtistName</th>\n",
       "      <th>ArtistLatitude</th>\n",
       "      <th>ArtistLongitude</th>\n",
       "      <th>ArtistMbtags</th>\n",
       "      <th>ArtistTerms</th>\n",
       "      <th>ArtistHotness</th>\n",
       "      <th>Duration</th>\n",
       "      <th>SongKey</th>\n",
       "      <th>...</th>\n",
       "      <th>SongTempo</th>\n",
       "      <th>SongYear</th>\n",
       "      <th>SongKeyConfidence</th>\n",
       "      <th>SongTimeSignature</th>\n",
       "      <th>SongTimeSignatureConfidence</th>\n",
       "      <th>ArtistLocation</th>\n",
       "      <th>ArtistTermFreq</th>\n",
       "      <th>ArtistTermWeight</th>\n",
       "      <th>num_songs</th>\n",
       "      <th>SongYearNorm</th>\n",
       "    </tr>\n",
       "    <tr>\n",
       "      <th>track_id</th>\n",
       "      <th></th>\n",
       "      <th></th>\n",
       "      <th></th>\n",
       "      <th></th>\n",
       "      <th></th>\n",
       "      <th></th>\n",
       "      <th></th>\n",
       "      <th></th>\n",
       "      <th></th>\n",
       "      <th></th>\n",
       "      <th></th>\n",
       "      <th></th>\n",
       "      <th></th>\n",
       "      <th></th>\n",
       "      <th></th>\n",
       "      <th></th>\n",
       "      <th></th>\n",
       "      <th></th>\n",
       "      <th></th>\n",
       "      <th></th>\n",
       "      <th></th>\n",
       "    </tr>\n",
       "  </thead>\n",
       "  <tbody>\n",
       "    <tr>\n",
       "      <th>TRAAARJ128F9320760</th>\n",
       "      <td>Pink World</td>\n",
       "      <td>AR8ZCNI1187B9A069B</td>\n",
       "      <td>Planet P Project</td>\n",
       "      <td>NaN</td>\n",
       "      <td>NaN</td>\n",
       "      <td>[]</td>\n",
       "      <td>[new wave, progressive rock, space rock, eurod...</td>\n",
       "      <td>0.332276</td>\n",
       "      <td>269.81832</td>\n",
       "      <td>4</td>\n",
       "      <td>...</td>\n",
       "      <td>86.643</td>\n",
       "      <td>1984</td>\n",
       "      <td>0.717</td>\n",
       "      <td>4</td>\n",
       "      <td>0.487</td>\n",
       "      <td></td>\n",
       "      <td>[0.959766246334, 0.97039004532, 0.821993419741...</td>\n",
       "      <td>[1.0, 0.986961919746, 0.983064531868, 0.965809...</td>\n",
       "      <td>1</td>\n",
       "      <td>0.696629</td>\n",
       "    </tr>\n",
       "    <tr>\n",
       "      <th>TRAAAAK128F9318786</th>\n",
       "      <td>Scream</td>\n",
       "      <td>ARJNIUY12298900C91</td>\n",
       "      <td>Adelitas Way</td>\n",
       "      <td>NaN</td>\n",
       "      <td>NaN</td>\n",
       "      <td>[]</td>\n",
       "      <td>[alternative metal, heavy metal, rock, alterna...</td>\n",
       "      <td>0.461318</td>\n",
       "      <td>213.94240</td>\n",
       "      <td>1</td>\n",
       "      <td>...</td>\n",
       "      <td>99.944</td>\n",
       "      <td>2009</td>\n",
       "      <td>0.349</td>\n",
       "      <td>4</td>\n",
       "      <td>0.846</td>\n",
       "      <td></td>\n",
       "      <td>[0.995874657423, 0.995874657423, 1.0, 0.885652...</td>\n",
       "      <td>[1.0, 0.899353739319, 0.756187682886, 0.713117...</td>\n",
       "      <td>1</td>\n",
       "      <td>0.977528</td>\n",
       "    </tr>\n",
       "    <tr>\n",
       "      <th>TRAAAQO12903CD8E1C</th>\n",
       "      <td>Take Time</td>\n",
       "      <td>AR5LMPY1187FB573FE</td>\n",
       "      <td>Chaka Khan_ Rufus</td>\n",
       "      <td>41.88415</td>\n",
       "      <td>-87.63241</td>\n",
       "      <td>[classic pop and rock]</td>\n",
       "      <td>[r&amp;b, disco, funk, motown, freestyle, quiet st...</td>\n",
       "      <td>0.398984</td>\n",
       "      <td>258.89914</td>\n",
       "      <td>1</td>\n",
       "      <td>...</td>\n",
       "      <td>110.325</td>\n",
       "      <td>1978</td>\n",
       "      <td>0.396</td>\n",
       "      <td>4</td>\n",
       "      <td>0.426</td>\n",
       "      <td>Chicago; IL</td>\n",
       "      <td>[0.922730152887, 1.0, 1.0, 0.810682902091, 0.8...</td>\n",
       "      <td>[1.0, 0.991539617318, 0.925395217966, 0.924266...</td>\n",
       "      <td>1</td>\n",
       "      <td>0.629213</td>\n",
       "    </tr>\n",
       "    <tr>\n",
       "      <th>TRAAAAV128F421A322</th>\n",
       "      <td>A Poor Recipe For Civic Cohesion</td>\n",
       "      <td>AR73AIO1187B9AD57B</td>\n",
       "      <td>Western Addiction</td>\n",
       "      <td>37.77916</td>\n",
       "      <td>-122.42005</td>\n",
       "      <td>[]</td>\n",
       "      <td>[melodic hardcore, skate punk, hardcore punk, ...</td>\n",
       "      <td>0.386606</td>\n",
       "      <td>118.07302</td>\n",
       "      <td>7</td>\n",
       "      <td>...</td>\n",
       "      <td>125.475</td>\n",
       "      <td>2005</td>\n",
       "      <td>0.187</td>\n",
       "      <td>4</td>\n",
       "      <td>0.546</td>\n",
       "      <td>San Francisco; CA</td>\n",
       "      <td>[0.958442007525, 0.877423051563, 1.0, 0.820142...</td>\n",
       "      <td>[1.0, 0.968559809446, 0.964753894876, 0.869181...</td>\n",
       "      <td>1</td>\n",
       "      <td>0.932584</td>\n",
       "    </tr>\n",
       "    <tr>\n",
       "      <th>TRAAAUR128F428B1FA</th>\n",
       "      <td>Smash It Up</td>\n",
       "      <td>AR0MWD61187B9B2B12</td>\n",
       "      <td>International Noise Conspiracy</td>\n",
       "      <td>NaN</td>\n",
       "      <td>NaN</td>\n",
       "      <td>[]</td>\n",
       "      <td>[ska punk, garage rock, post-hardcore, garage ...</td>\n",
       "      <td>0.414283</td>\n",
       "      <td>195.39546</td>\n",
       "      <td>0</td>\n",
       "      <td>...</td>\n",
       "      <td>148.957</td>\n",
       "      <td>2000</td>\n",
       "      <td>0.451</td>\n",
       "      <td>4</td>\n",
       "      <td>0.144</td>\n",
       "      <td></td>\n",
       "      <td>[0.884642893649, 0.905262621301, 0.90526262130...</td>\n",
       "      <td>[1.0, 0.972876260864, 0.96844862128, 0.9587513...</td>\n",
       "      <td>1</td>\n",
       "      <td>0.876404</td>\n",
       "    </tr>\n",
       "  </tbody>\n",
       "</table>\n",
       "<p>5 rows × 22 columns</p>\n",
       "</div>"
      ],
      "text/plain": [
       "                                            SongTitle             ArtistID  \\\n",
       "track_id                                                                     \n",
       "TRAAARJ128F9320760                         Pink World   AR8ZCNI1187B9A069B   \n",
       "TRAAAAK128F9318786                             Scream   ARJNIUY12298900C91   \n",
       "TRAAAQO12903CD8E1C                          Take Time   AR5LMPY1187FB573FE   \n",
       "TRAAAAV128F421A322   A Poor Recipe For Civic Cohesion   AR73AIO1187B9AD57B   \n",
       "TRAAAUR128F428B1FA                        Smash It Up   AR0MWD61187B9B2B12   \n",
       "\n",
       "                                         ArtistName  ArtistLatitude  \\\n",
       "track_id                                                              \n",
       "TRAAARJ128F9320760                 Planet P Project             NaN   \n",
       "TRAAAAK128F9318786                     Adelitas Way             NaN   \n",
       "TRAAAQO12903CD8E1C                Chaka Khan_ Rufus        41.88415   \n",
       "TRAAAAV128F421A322                Western Addiction        37.77916   \n",
       "TRAAAUR128F428B1FA   International Noise Conspiracy             NaN   \n",
       "\n",
       "                    ArtistLongitude            ArtistMbtags  \\\n",
       "track_id                                                      \n",
       "TRAAARJ128F9320760              NaN                      []   \n",
       "TRAAAAK128F9318786              NaN                      []   \n",
       "TRAAAQO12903CD8E1C        -87.63241  [classic pop and rock]   \n",
       "TRAAAAV128F421A322       -122.42005                      []   \n",
       "TRAAAUR128F428B1FA              NaN                      []   \n",
       "\n",
       "                                                          ArtistTerms  \\\n",
       "track_id                                                                \n",
       "TRAAARJ128F9320760  [new wave, progressive rock, space rock, eurod...   \n",
       "TRAAAAK128F9318786  [alternative metal, heavy metal, rock, alterna...   \n",
       "TRAAAQO12903CD8E1C  [r&b, disco, funk, motown, freestyle, quiet st...   \n",
       "TRAAAAV128F421A322  [melodic hardcore, skate punk, hardcore punk, ...   \n",
       "TRAAAUR128F428B1FA  [ska punk, garage rock, post-hardcore, garage ...   \n",
       "\n",
       "                    ArtistHotness   Duration  SongKey     ...       SongTempo  \\\n",
       "track_id                                                  ...                   \n",
       "TRAAARJ128F9320760       0.332276  269.81832        4     ...          86.643   \n",
       "TRAAAAK128F9318786       0.461318  213.94240        1     ...          99.944   \n",
       "TRAAAQO12903CD8E1C       0.398984  258.89914        1     ...         110.325   \n",
       "TRAAAAV128F421A322       0.386606  118.07302        7     ...         125.475   \n",
       "TRAAAUR128F428B1FA       0.414283  195.39546        0     ...         148.957   \n",
       "\n",
       "                    SongYear  SongKeyConfidence  SongTimeSignature  \\\n",
       "track_id                                                             \n",
       "TRAAARJ128F9320760      1984              0.717                  4   \n",
       "TRAAAAK128F9318786      2009              0.349                  4   \n",
       "TRAAAQO12903CD8E1C      1978              0.396                  4   \n",
       "TRAAAAV128F421A322      2005              0.187                  4   \n",
       "TRAAAUR128F428B1FA      2000              0.451                  4   \n",
       "\n",
       "                    SongTimeSignatureConfidence      ArtistLocation  \\\n",
       "track_id                                                              \n",
       "TRAAARJ128F9320760                        0.487                       \n",
       "TRAAAAK128F9318786                        0.846                       \n",
       "TRAAAQO12903CD8E1C                        0.426         Chicago; IL   \n",
       "TRAAAAV128F421A322                        0.546   San Francisco; CA   \n",
       "TRAAAUR128F428B1FA                        0.144                       \n",
       "\n",
       "                                                       ArtistTermFreq  \\\n",
       "track_id                                                                \n",
       "TRAAARJ128F9320760  [0.959766246334, 0.97039004532, 0.821993419741...   \n",
       "TRAAAAK128F9318786  [0.995874657423, 0.995874657423, 1.0, 0.885652...   \n",
       "TRAAAQO12903CD8E1C  [0.922730152887, 1.0, 1.0, 0.810682902091, 0.8...   \n",
       "TRAAAAV128F421A322  [0.958442007525, 0.877423051563, 1.0, 0.820142...   \n",
       "TRAAAUR128F428B1FA  [0.884642893649, 0.905262621301, 0.90526262130...   \n",
       "\n",
       "                                                     ArtistTermWeight  \\\n",
       "track_id                                                                \n",
       "TRAAARJ128F9320760  [1.0, 0.986961919746, 0.983064531868, 0.965809...   \n",
       "TRAAAAK128F9318786  [1.0, 0.899353739319, 0.756187682886, 0.713117...   \n",
       "TRAAAQO12903CD8E1C  [1.0, 0.991539617318, 0.925395217966, 0.924266...   \n",
       "TRAAAAV128F421A322  [1.0, 0.968559809446, 0.964753894876, 0.869181...   \n",
       "TRAAAUR128F428B1FA  [1.0, 0.972876260864, 0.96844862128, 0.9587513...   \n",
       "\n",
       "                   num_songs SongYearNorm  \n",
       "track_id                                   \n",
       "TRAAARJ128F9320760         1     0.696629  \n",
       "TRAAAAK128F9318786         1     0.977528  \n",
       "TRAAAQO12903CD8E1C         1     0.629213  \n",
       "TRAAAAV128F421A322         1     0.932584  \n",
       "TRAAAUR128F428B1FA         1     0.876404  \n",
       "\n",
       "[5 rows x 22 columns]"
      ]
     },
     "execution_count": 48,
     "metadata": {},
     "output_type": "execute_result"
    }
   ],
   "source": [
    "normalized_df.ArtistMbtags = df.ArtistMbtags.apply(lambda row : transform(row))\n",
    "normalized_df.ArtistTerms = df.ArtistTerms.apply(lambda row : transform(row))\n",
    "\n",
    "normalized_df.ArtistTermFreq = df.ArtistTermFreq.apply(lambda row : transform(row))\n",
    "normalized_df.ArtistTermWeight = df.ArtistTermWeight.apply(lambda row : transform(row))\n",
    "\n",
    "normalized_df.head()"
   ]
  },
  {
   "cell_type": "markdown",
   "metadata": {},
   "source": [
    "## Data Correlation"
   ]
  },
  {
   "cell_type": "markdown",
   "metadata": {},
   "source": [
    "For the correlation we will focus on the rows with a high confidence measure."
   ]
  },
  {
   "cell_type": "code",
   "execution_count": 49,
   "metadata": {},
   "outputs": [],
   "source": [
    "corr_df = normalized_df.copy()\n",
    "#corr_df = corr_df[normalized_df['SongTimeSignatureConfidence']>0.5]\n",
    "#corr_df = corr_df[normalized_df['SongKeyConfidence']>0.5]"
   ]
  },
  {
   "cell_type": "code",
   "execution_count": 50,
   "metadata": {},
   "outputs": [
    {
     "data": {
      "text/html": [
       "<div>\n",
       "<style>\n",
       "    .dataframe thead tr:only-child th {\n",
       "        text-align: right;\n",
       "    }\n",
       "\n",
       "    .dataframe thead th {\n",
       "        text-align: left;\n",
       "    }\n",
       "\n",
       "    .dataframe tbody tr th {\n",
       "        vertical-align: top;\n",
       "    }\n",
       "</style>\n",
       "<table border=\"1\" class=\"dataframe\">\n",
       "  <thead>\n",
       "    <tr style=\"text-align: right;\">\n",
       "      <th></th>\n",
       "      <th>ArtistLatitude</th>\n",
       "      <th>ArtistLongitude</th>\n",
       "      <th>ArtistHotness</th>\n",
       "      <th>Duration</th>\n",
       "      <th>SongKey</th>\n",
       "      <th>SongLoudness</th>\n",
       "      <th>SongHotness</th>\n",
       "      <th>SongTempo</th>\n",
       "      <th>SongYear</th>\n",
       "      <th>SongKeyConfidence</th>\n",
       "      <th>SongTimeSignature</th>\n",
       "      <th>SongTimeSignatureConfidence</th>\n",
       "      <th>num_songs</th>\n",
       "      <th>SongYearNorm</th>\n",
       "    </tr>\n",
       "  </thead>\n",
       "  <tbody>\n",
       "    <tr>\n",
       "      <th>ArtistLatitude</th>\n",
       "      <td>1.000000</td>\n",
       "      <td>0.001269</td>\n",
       "      <td>0.035870</td>\n",
       "      <td>0.045247</td>\n",
       "      <td>-0.000960</td>\n",
       "      <td>0.034986</td>\n",
       "      <td>0.061167</td>\n",
       "      <td>0.005521</td>\n",
       "      <td>0.021979</td>\n",
       "      <td>-0.012478</td>\n",
       "      <td>0.014663</td>\n",
       "      <td>0.019332</td>\n",
       "      <td>NaN</td>\n",
       "      <td>0.021979</td>\n",
       "    </tr>\n",
       "    <tr>\n",
       "      <th>ArtistLongitude</th>\n",
       "      <td>0.001269</td>\n",
       "      <td>1.000000</td>\n",
       "      <td>0.011421</td>\n",
       "      <td>0.092301</td>\n",
       "      <td>0.002564</td>\n",
       "      <td>0.061122</td>\n",
       "      <td>0.019787</td>\n",
       "      <td>0.008305</td>\n",
       "      <td>0.079290</td>\n",
       "      <td>-0.016553</td>\n",
       "      <td>0.043088</td>\n",
       "      <td>0.035029</td>\n",
       "      <td>NaN</td>\n",
       "      <td>0.079290</td>\n",
       "    </tr>\n",
       "    <tr>\n",
       "      <th>ArtistHotness</th>\n",
       "      <td>0.035870</td>\n",
       "      <td>0.011421</td>\n",
       "      <td>1.000000</td>\n",
       "      <td>0.003525</td>\n",
       "      <td>-0.000435</td>\n",
       "      <td>0.110915</td>\n",
       "      <td>0.459441</td>\n",
       "      <td>0.003813</td>\n",
       "      <td>-0.004288</td>\n",
       "      <td>0.012836</td>\n",
       "      <td>0.026086</td>\n",
       "      <td>0.023284</td>\n",
       "      <td>NaN</td>\n",
       "      <td>-0.004288</td>\n",
       "    </tr>\n",
       "    <tr>\n",
       "      <th>Duration</th>\n",
       "      <td>0.045247</td>\n",
       "      <td>0.092301</td>\n",
       "      <td>0.003525</td>\n",
       "      <td>1.000000</td>\n",
       "      <td>0.024474</td>\n",
       "      <td>0.024455</td>\n",
       "      <td>-0.006349</td>\n",
       "      <td>-0.020422</td>\n",
       "      <td>0.083953</td>\n",
       "      <td>0.014551</td>\n",
       "      <td>0.123061</td>\n",
       "      <td>0.121310</td>\n",
       "      <td>NaN</td>\n",
       "      <td>0.083953</td>\n",
       "    </tr>\n",
       "    <tr>\n",
       "      <th>SongKey</th>\n",
       "      <td>-0.000960</td>\n",
       "      <td>0.002564</td>\n",
       "      <td>-0.000435</td>\n",
       "      <td>0.024474</td>\n",
       "      <td>1.000000</td>\n",
       "      <td>0.029679</td>\n",
       "      <td>-0.000263</td>\n",
       "      <td>0.013636</td>\n",
       "      <td>0.013304</td>\n",
       "      <td>-0.044761</td>\n",
       "      <td>0.012987</td>\n",
       "      <td>0.005154</td>\n",
       "      <td>NaN</td>\n",
       "      <td>0.013304</td>\n",
       "    </tr>\n",
       "    <tr>\n",
       "      <th>SongLoudness</th>\n",
       "      <td>0.034986</td>\n",
       "      <td>0.061122</td>\n",
       "      <td>0.110915</td>\n",
       "      <td>0.024455</td>\n",
       "      <td>0.029679</td>\n",
       "      <td>1.000000</td>\n",
       "      <td>0.154985</td>\n",
       "      <td>0.172920</td>\n",
       "      <td>0.294106</td>\n",
       "      <td>-0.014671</td>\n",
       "      <td>0.087562</td>\n",
       "      <td>0.011067</td>\n",
       "      <td>NaN</td>\n",
       "      <td>0.294106</td>\n",
       "    </tr>\n",
       "    <tr>\n",
       "      <th>SongHotness</th>\n",
       "      <td>0.061167</td>\n",
       "      <td>0.019787</td>\n",
       "      <td>0.459441</td>\n",
       "      <td>-0.006349</td>\n",
       "      <td>-0.000263</td>\n",
       "      <td>0.154985</td>\n",
       "      <td>1.000000</td>\n",
       "      <td>0.025321</td>\n",
       "      <td>0.101076</td>\n",
       "      <td>-0.001374</td>\n",
       "      <td>0.022734</td>\n",
       "      <td>0.017804</td>\n",
       "      <td>NaN</td>\n",
       "      <td>0.101076</td>\n",
       "    </tr>\n",
       "    <tr>\n",
       "      <th>SongTempo</th>\n",
       "      <td>0.005521</td>\n",
       "      <td>0.008305</td>\n",
       "      <td>0.003813</td>\n",
       "      <td>-0.020422</td>\n",
       "      <td>0.013636</td>\n",
       "      <td>0.172920</td>\n",
       "      <td>0.025321</td>\n",
       "      <td>1.000000</td>\n",
       "      <td>0.016362</td>\n",
       "      <td>0.044078</td>\n",
       "      <td>0.024283</td>\n",
       "      <td>-0.172270</td>\n",
       "      <td>NaN</td>\n",
       "      <td>0.016362</td>\n",
       "    </tr>\n",
       "    <tr>\n",
       "      <th>SongYear</th>\n",
       "      <td>0.021979</td>\n",
       "      <td>0.079290</td>\n",
       "      <td>-0.004288</td>\n",
       "      <td>0.083953</td>\n",
       "      <td>0.013304</td>\n",
       "      <td>0.294106</td>\n",
       "      <td>0.101076</td>\n",
       "      <td>0.016362</td>\n",
       "      <td>1.000000</td>\n",
       "      <td>-0.043447</td>\n",
       "      <td>0.090996</td>\n",
       "      <td>0.110984</td>\n",
       "      <td>NaN</td>\n",
       "      <td>1.000000</td>\n",
       "    </tr>\n",
       "    <tr>\n",
       "      <th>SongKeyConfidence</th>\n",
       "      <td>-0.012478</td>\n",
       "      <td>-0.016553</td>\n",
       "      <td>0.012836</td>\n",
       "      <td>0.014551</td>\n",
       "      <td>-0.044761</td>\n",
       "      <td>-0.014671</td>\n",
       "      <td>-0.001374</td>\n",
       "      <td>0.044078</td>\n",
       "      <td>-0.043447</td>\n",
       "      <td>1.000000</td>\n",
       "      <td>-0.087350</td>\n",
       "      <td>-0.048084</td>\n",
       "      <td>NaN</td>\n",
       "      <td>-0.043447</td>\n",
       "    </tr>\n",
       "    <tr>\n",
       "      <th>SongTimeSignature</th>\n",
       "      <td>0.014663</td>\n",
       "      <td>0.043088</td>\n",
       "      <td>0.026086</td>\n",
       "      <td>0.123061</td>\n",
       "      <td>0.012987</td>\n",
       "      <td>0.087562</td>\n",
       "      <td>0.022734</td>\n",
       "      <td>0.024283</td>\n",
       "      <td>0.090996</td>\n",
       "      <td>-0.087350</td>\n",
       "      <td>1.000000</td>\n",
       "      <td>0.301825</td>\n",
       "      <td>NaN</td>\n",
       "      <td>0.090996</td>\n",
       "    </tr>\n",
       "    <tr>\n",
       "      <th>SongTimeSignatureConfidence</th>\n",
       "      <td>0.019332</td>\n",
       "      <td>0.035029</td>\n",
       "      <td>0.023284</td>\n",
       "      <td>0.121310</td>\n",
       "      <td>0.005154</td>\n",
       "      <td>0.011067</td>\n",
       "      <td>0.017804</td>\n",
       "      <td>-0.172270</td>\n",
       "      <td>0.110984</td>\n",
       "      <td>-0.048084</td>\n",
       "      <td>0.301825</td>\n",
       "      <td>1.000000</td>\n",
       "      <td>NaN</td>\n",
       "      <td>0.110984</td>\n",
       "    </tr>\n",
       "    <tr>\n",
       "      <th>num_songs</th>\n",
       "      <td>NaN</td>\n",
       "      <td>NaN</td>\n",
       "      <td>NaN</td>\n",
       "      <td>NaN</td>\n",
       "      <td>NaN</td>\n",
       "      <td>NaN</td>\n",
       "      <td>NaN</td>\n",
       "      <td>NaN</td>\n",
       "      <td>NaN</td>\n",
       "      <td>NaN</td>\n",
       "      <td>NaN</td>\n",
       "      <td>NaN</td>\n",
       "      <td>NaN</td>\n",
       "      <td>NaN</td>\n",
       "    </tr>\n",
       "    <tr>\n",
       "      <th>SongYearNorm</th>\n",
       "      <td>0.021979</td>\n",
       "      <td>0.079290</td>\n",
       "      <td>-0.004288</td>\n",
       "      <td>0.083953</td>\n",
       "      <td>0.013304</td>\n",
       "      <td>0.294106</td>\n",
       "      <td>0.101076</td>\n",
       "      <td>0.016362</td>\n",
       "      <td>1.000000</td>\n",
       "      <td>-0.043447</td>\n",
       "      <td>0.090996</td>\n",
       "      <td>0.110984</td>\n",
       "      <td>NaN</td>\n",
       "      <td>1.000000</td>\n",
       "    </tr>\n",
       "  </tbody>\n",
       "</table>\n",
       "</div>"
      ],
      "text/plain": [
       "                             ArtistLatitude  ArtistLongitude  ArtistHotness  \\\n",
       "ArtistLatitude                     1.000000         0.001269       0.035870   \n",
       "ArtistLongitude                    0.001269         1.000000       0.011421   \n",
       "ArtistHotness                      0.035870         0.011421       1.000000   \n",
       "Duration                           0.045247         0.092301       0.003525   \n",
       "SongKey                           -0.000960         0.002564      -0.000435   \n",
       "SongLoudness                       0.034986         0.061122       0.110915   \n",
       "SongHotness                        0.061167         0.019787       0.459441   \n",
       "SongTempo                          0.005521         0.008305       0.003813   \n",
       "SongYear                           0.021979         0.079290      -0.004288   \n",
       "SongKeyConfidence                 -0.012478        -0.016553       0.012836   \n",
       "SongTimeSignature                  0.014663         0.043088       0.026086   \n",
       "SongTimeSignatureConfidence        0.019332         0.035029       0.023284   \n",
       "num_songs                               NaN              NaN            NaN   \n",
       "SongYearNorm                       0.021979         0.079290      -0.004288   \n",
       "\n",
       "                             Duration   SongKey  SongLoudness  SongHotness  \\\n",
       "ArtistLatitude               0.045247 -0.000960      0.034986     0.061167   \n",
       "ArtistLongitude              0.092301  0.002564      0.061122     0.019787   \n",
       "ArtistHotness                0.003525 -0.000435      0.110915     0.459441   \n",
       "Duration                     1.000000  0.024474      0.024455    -0.006349   \n",
       "SongKey                      0.024474  1.000000      0.029679    -0.000263   \n",
       "SongLoudness                 0.024455  0.029679      1.000000     0.154985   \n",
       "SongHotness                 -0.006349 -0.000263      0.154985     1.000000   \n",
       "SongTempo                   -0.020422  0.013636      0.172920     0.025321   \n",
       "SongYear                     0.083953  0.013304      0.294106     0.101076   \n",
       "SongKeyConfidence            0.014551 -0.044761     -0.014671    -0.001374   \n",
       "SongTimeSignature            0.123061  0.012987      0.087562     0.022734   \n",
       "SongTimeSignatureConfidence  0.121310  0.005154      0.011067     0.017804   \n",
       "num_songs                         NaN       NaN           NaN          NaN   \n",
       "SongYearNorm                 0.083953  0.013304      0.294106     0.101076   \n",
       "\n",
       "                             SongTempo  SongYear  SongKeyConfidence  \\\n",
       "ArtistLatitude                0.005521  0.021979          -0.012478   \n",
       "ArtistLongitude               0.008305  0.079290          -0.016553   \n",
       "ArtistHotness                 0.003813 -0.004288           0.012836   \n",
       "Duration                     -0.020422  0.083953           0.014551   \n",
       "SongKey                       0.013636  0.013304          -0.044761   \n",
       "SongLoudness                  0.172920  0.294106          -0.014671   \n",
       "SongHotness                   0.025321  0.101076          -0.001374   \n",
       "SongTempo                     1.000000  0.016362           0.044078   \n",
       "SongYear                      0.016362  1.000000          -0.043447   \n",
       "SongKeyConfidence             0.044078 -0.043447           1.000000   \n",
       "SongTimeSignature             0.024283  0.090996          -0.087350   \n",
       "SongTimeSignatureConfidence  -0.172270  0.110984          -0.048084   \n",
       "num_songs                          NaN       NaN                NaN   \n",
       "SongYearNorm                  0.016362  1.000000          -0.043447   \n",
       "\n",
       "                             SongTimeSignature  SongTimeSignatureConfidence  \\\n",
       "ArtistLatitude                        0.014663                     0.019332   \n",
       "ArtistLongitude                       0.043088                     0.035029   \n",
       "ArtistHotness                         0.026086                     0.023284   \n",
       "Duration                              0.123061                     0.121310   \n",
       "SongKey                               0.012987                     0.005154   \n",
       "SongLoudness                          0.087562                     0.011067   \n",
       "SongHotness                           0.022734                     0.017804   \n",
       "SongTempo                             0.024283                    -0.172270   \n",
       "SongYear                              0.090996                     0.110984   \n",
       "SongKeyConfidence                    -0.087350                    -0.048084   \n",
       "SongTimeSignature                     1.000000                     0.301825   \n",
       "SongTimeSignatureConfidence           0.301825                     1.000000   \n",
       "num_songs                                  NaN                          NaN   \n",
       "SongYearNorm                          0.090996                     0.110984   \n",
       "\n",
       "                             num_songs  SongYearNorm  \n",
       "ArtistLatitude                     NaN      0.021979  \n",
       "ArtistLongitude                    NaN      0.079290  \n",
       "ArtistHotness                      NaN     -0.004288  \n",
       "Duration                           NaN      0.083953  \n",
       "SongKey                            NaN      0.013304  \n",
       "SongLoudness                       NaN      0.294106  \n",
       "SongHotness                        NaN      0.101076  \n",
       "SongTempo                          NaN      0.016362  \n",
       "SongYear                           NaN      1.000000  \n",
       "SongKeyConfidence                  NaN     -0.043447  \n",
       "SongTimeSignature                  NaN      0.090996  \n",
       "SongTimeSignatureConfidence        NaN      0.110984  \n",
       "num_songs                          NaN           NaN  \n",
       "SongYearNorm                       NaN      1.000000  "
      ]
     },
     "execution_count": 50,
     "metadata": {},
     "output_type": "execute_result"
    }
   ],
   "source": [
    "corr = corr_df.corr()\n",
    "corr"
   ]
  },
  {
   "cell_type": "markdown",
   "metadata": {},
   "source": [
    "We seem to have very few correlated features, so we will try to analyze by doing some more analysis on different paramters and doing some feature engineering.  "
   ]
  },
  {
   "cell_type": "code",
   "execution_count": 51,
   "metadata": {},
   "outputs": [
    {
     "name": "stdout",
     "output_type": "stream",
     "text": [
      "\n"
     ]
    },
    {
     "data": {
      "image/png": "[encoded data removed]",
      "text/plain": [
       "<matplotlib.figure.Figure at 0x291c48939b0>"
      ]
     },
     "metadata": {},
     "output_type": "display_data"
    }
   ],
   "source": [
    "corrSns = corr\n",
    "corrSns = corrSns.dropna(axis=1,how='all')\n",
    "corrSns = corrSns.dropna(axis=0,how='all')\n",
    "cg = sns.clustermap(corrSns, linewidth=.5, figsize=(9,9),cmap='mako')\n",
    "plt.setp(cg)"
   ]
  },
  {
   "cell_type": "markdown",
   "metadata": {},
   "source": [
    "The most correlated features are SongYear and SongLoudness, SongHotness and SongLoudness, and SongHotness and SongYear.  \n",
    "The correlation between Hotness and Year exists, since the hotness value is only a snapshot of the hotness in 2010.  \n",
    "But there seems to be a trend for Loudness over the years, correlated with Hotness for Song and artist"
   ]
  },
  {
   "cell_type": "markdown",
   "metadata": {},
   "source": [
    "## Further dependencies"
   ]
  },
  {
   "cell_type": "markdown",
   "metadata": {},
   "source": [
    "### Preprocessing"
   ]
  },
  {
   "cell_type": "markdown",
   "metadata": {},
   "source": [
    "Since we want to analyse the change over time and the time feature is very unbalanced, we will resample our data to a equally distributed time feature."
   ]
  },
  {
   "cell_type": "code",
   "execution_count": 52,
   "metadata": {},
   "outputs": [],
   "source": [
    "def resample_df(df):\n",
    "\n",
    "    classes = [0,1950,1960,1970,1980,1990,2000,2010,2015]\n",
    "    df_classes = [] # df containing the rows of each class\n",
    "    for i in range(1,len(classes)-1):\n",
    "        df_classes.append(df[np.logical_and(df.SongYear > classes[i-1], \\\n",
    "                                     df.SongYear < classes[i+1])])\n",
    "\n",
    "    # print shapes for overview\n",
    "    for i in range(len(df_classes)):\n",
    "        print (df_classes[i].shape)\n",
    "\n",
    "    # resample dataframes with replacement in order to aquire the same number of tracks per class\n",
    "    for i in range(len(df_classes)-1):\n",
    "        df_classes[i] = resample(df_classes[i], replace=True, n_samples=128053, random_state=42)\n",
    "\n",
    "    # merge the data frames\n",
    "    resampled_df = df_classes[0]\n",
    "    for i in range(1,len(df_classes)):\n",
    "        resampled_df = pd.concat([resampled_df, df_classes[i]])\n",
    "    return resampled_df"
   ]
  },
  {
   "cell_type": "code",
   "execution_count": 53,
   "metadata": {},
   "outputs": [
    {
     "name": "stdout",
     "output_type": "stream",
     "text": [
      "(1809, 22)\n",
      "(6646, 22)\n",
      "(16198, 22)\n",
      "(29025, 22)\n",
      "(72847, 22)\n",
      "(184485, 22)\n",
      "(128053, 22)\n"
     ]
    }
   ],
   "source": [
    "resampled_df = resample_df(normalized_df)\n"
   ]
  },
  {
   "cell_type": "markdown",
   "metadata": {},
   "source": [
    "Let's see if we can find correlations which can e.g. not be found by the pearson coefficient:"
   ]
  },
  {
   "cell_type": "markdown",
   "metadata": {},
   "source": [
    "### Correlation for Song Year"
   ]
  },
  {
   "cell_type": "code",
   "execution_count": 54,
   "metadata": {},
   "outputs": [],
   "source": [
    "def print_time_statistics(df):\n",
    "    x = df.SongYear\n",
    "    y = df.SongHotness\n",
    "    xmin = x.min()\n",
    "    xmax = x.max()\n",
    "    ymin = y.min()\n",
    "    ymax = y.max()\n",
    "\n",
    "    fig, ax = plt.subplots()\n",
    "    hb = ax.hexbin(x, y, gridsize=15, cmap=\"YlGn\")\n",
    "    ax.axis([xmin, xmax, ymin - 0.1, ymax + 0.1])\n",
    "    ax.set_title(\"Hexagon binning Year, Song Hotness\")\n",
    "    cb = fig.colorbar(hb, ax=ax)\n",
    "    cb.set_label('counts')\n",
    "\n",
    "    plt.show()\n",
    "\n",
    "    x = df.SongYear\n",
    "    y = df.ArtistHotness\n",
    "    xmin = x.min()\n",
    "    xmax = x.max()\n",
    "    ymin = y.min()\n",
    "    ymax = y.max()\n",
    "\n",
    "    fig, ax = plt.subplots()\n",
    "    hb = ax.hexbin(x, y, gridsize=25, cmap=\"YlGn\")\n",
    "    ax.axis([xmin, xmax, ymin - 0.01, ymax + 0.01])\n",
    "    ax.set_title(\"Hexagon binning Year, Artist Hotness\")\n",
    "    cb = fig.colorbar(hb, ax=ax)\n",
    "    cb.set_label('counts')\n",
    "\n",
    "    plt.show()\n",
    "\n",
    "    x = df.SongYear\n",
    "    y = df.Duration\n",
    "    xmin = x.min()\n",
    "    xmax = x.max()\n",
    "    ymin = y.min()\n",
    "    ymax = y.max()\n",
    "\n",
    "    fig, ax = plt.subplots()\n",
    "    hb = ax.hexbin(x, y, gridsize=15, cmap=\"YlGn\")\n",
    "    ax.axis([xmin, xmax, ymin - 0.1, ymax + 0.1])\n",
    "    ax.set_title(\"Hexagon binning Year, Duration\")\n",
    "    cb = fig.colorbar(hb, ax=ax)\n",
    "    cb.set_label('counts')\n",
    "\n",
    "    plt.show()\n",
    "\n",
    "    x = df.SongYear\n",
    "    y = df.SongLoudness\n",
    "    xmin = x.min()\n",
    "    xmax = x.max()\n",
    "    ymin = y.min()\n",
    "    ymax = y.max()\n",
    "\n",
    "    fig, ax = plt.subplots()\n",
    "    hb = ax.hexbin(x, y, gridsize=15, cmap=\"YlGn\")\n",
    "    ax.axis([xmin, xmax, ymin - 0.1, ymax + 0.1])\n",
    "    ax.set_title(\"Hexagon binning Year, Loudness\")\n",
    "    cb = fig.colorbar(hb, ax=ax)\n",
    "    cb.set_label('counts')\n",
    "\n",
    "    plt.show()"
   ]
  },
  {
   "cell_type": "code",
   "execution_count": 55,
   "metadata": {},
   "outputs": [
    {
     "data": {
      "image/png": "[encoded data removed]",
      "text/plain": [
       "<matplotlib.figure.Figure at 0x291b52fb9b0>"
      ]
     },
     "metadata": {},
     "output_type": "display_data"
    },
    {
     "data": {
      "image/png": "[encoded data removed]",
      "text/plain": [
       "<matplotlib.figure.Figure at 0x291aa257198>"
      ]
     },
     "metadata": {},
     "output_type": "display_data"
    },
    {
     "data": {
      "image/png": "[encoded data removed]",
      "text/plain": [
       "<matplotlib.figure.Figure at 0x2919afb6860>"
      ]
     },
     "metadata": {},
     "output_type": "display_data"
    },
    {
     "data": {
      "image/png": "[encoded data removed]",
      "text/plain": [
       "<matplotlib.figure.Figure at 0x291b4a85a90>"
      ]
     },
     "metadata": {},
     "output_type": "display_data"
    }
   ],
   "source": [
    "print_time_statistics(resampled_df)"
   ]
  },
  {
   "cell_type": "markdown",
   "metadata": {},
   "source": [
    "We can indeed see that the majority of the song we have  with a hotness > 0 are song from the 2000's, and there is a general evolution through our data, old song have few hotness > 0, and the more we go to 2010, the more song we have with a hotness >0"
   ]
  },
  {
   "cell_type": "markdown",
   "metadata": {},
   "source": [
    "For artist hotness, it is actually different, we have almost no artist that have a 0 hotness, and artist in the 200s have a lot of hotness, but we seems to have more artist that released song from 1990-2000s. This might be a problem due to the distribution of artist from song. An artist might have lot of song released in different period (around 5-6 years)"
   ]
  },
  {
   "cell_type": "markdown",
   "metadata": {},
   "source": [
    "The evolution of duration has not change this much, the duration seems to be quite similar through the years"
   ]
  },
  {
   "cell_type": "markdown",
   "metadata": {},
   "source": [
    "### Interest about Artist and released Songs"
   ]
  },
  {
   "cell_type": "markdown",
   "metadata": {},
   "source": [
    "Here there is an interesting correlation between years and loudness, it seems that song from nowadays are louder than the one from 20 or 30 years ago"
   ]
  },
  {
   "cell_type": "code",
   "execution_count": 56,
   "metadata": {},
   "outputs": [
    {
     "data": {
      "image/png": "[encoded data removed]",
      "text/plain": [
       "<matplotlib.figure.Figure at 0x291c796b588>"
      ]
     },
     "metadata": {},
     "output_type": "display_data"
    }
   ],
   "source": [
    "x = resampled_df.SongYear\n",
    "y = resampled_df.SongKey\n",
    "xmin = x.min()\n",
    "xmax = x.max()\n",
    "ymin = y.min()\n",
    "ymax = y.max()\n",
    "\n",
    "fig, ax = plt.subplots()\n",
    "hb = ax.hexbin(x, y, gridsize=15, cmap=\"YlGn\")\n",
    "ax.axis([xmin, xmax, ymin - 0.1, ymax + 0.1])\n",
    "ax.set_title(\"Hexagon binning Year, Key\")\n",
    "cb = fig.colorbar(hb, ax=ax)\n",
    "cb.set_label('counts')\n",
    "\n",
    "plt.show()"
   ]
  },
  {
   "cell_type": "code",
   "execution_count": 57,
   "metadata": {},
   "outputs": [],
   "source": [
    "def inSet(setC,x):\n",
    "    \"\"\"\n",
    "    Appends x to the set of it is not yet included\n",
    "    \"\"\"\n",
    "    if(x not in setC):\n",
    "        setC.append(x)"
   ]
  },
  {
   "cell_type": "code",
   "execution_count": null,
   "metadata": {},
   "outputs": [],
   "source": [
    "distinctName = []\n",
    "# create set for artists\n",
    "normalized_df.ArtistName.apply(lambda x : inSet(distinctName,x))\n",
    "print (len(distinctName))\n",
    "\n",
    "# Create data frame for artists\n",
    "artistDF = pd.DataFrame(distinctName,columns=['ArtistName'])\n",
    "artistDF.head()"
   ]
  },
  {
   "cell_type": "code",
   "execution_count": null,
   "metadata": {},
   "outputs": [],
   "source": [
    "songNumber = []\n",
    "songYear = []\n",
    "\n",
    "# fetch song release years of artist\n",
    "for x in distinctName:\n",
    "    test = normalized_df[normalized_df.ArtistName==x]['SongYear']\n",
    "    songNumber.append(len(test))\n",
    "    songYear.append(test.values)\n",
    "\n",
    "# Extend data frame\n",
    "artistDF['NumberSong']= songNumber\n",
    "artistDF['SongsYear'] = songYear\n",
    "artistDF['StdYear'] = artistDF.SongsYear.apply(lambda x : np.std(x))"
   ]
  },
  {
   "cell_type": "code",
   "execution_count": null,
   "metadata": {},
   "outputs": [],
   "source": [
    "artistDF.head()"
   ]
  },
  {
   "cell_type": "code",
   "execution_count": null,
   "metadata": {
    "scrolled": true
   },
   "outputs": [],
   "source": [
    "artistDF.NumberSong.plot(kind='hist')"
   ]
  },
  {
   "cell_type": "code",
   "execution_count": null,
   "metadata": {},
   "outputs": [],
   "source": [
    "artistDF.StdYear.plot(kind='hist',bins=[1,2,3,4,5,6,7,8,9,10,11,12,13,14,15,20])"
   ]
  },
  {
   "cell_type": "markdown",
   "metadata": {},
   "source": [
    "We see that the distribution of song from artist is positively skewed. Also some artist have really high standard deviation for song release ( more than 5 years ) which can be interesting for evolution of the same artist, to see if he released a popular song after an already popular one or the contrary what makes the popularity change in 2 of its song"
   ]
  },
  {
   "cell_type": "markdown",
   "metadata": {},
   "source": [
    "### Other Correlations"
   ]
  },
  {
   "cell_type": "code",
   "execution_count": 59,
   "metadata": {},
   "outputs": [
    {
     "data": {
      "image/png": "[encoded data removed]",
      "text/plain": [
       "<matplotlib.figure.Figure at 0x291b6de8cc0>"
      ]
     },
     "metadata": {},
     "output_type": "display_data"
    }
   ],
   "source": [
    "x = normalized_df.Duration\n",
    "y = normalized_df.SongTempo\n",
    "xmin = x.min()\n",
    "xmax = x.max()\n",
    "ymin = y.min()\n",
    "ymax = y.max()\n",
    "\n",
    "fig, ax = plt.subplots()\n",
    "hb = ax.hexbin(x, y, gridsize=25, cmap=\"gist_yarg\")\n",
    "ax.axis([xmin, xmax, ymin - 5, ymax + 5])\n",
    "ax.set_title(\"Hexagon binning Duration, Tempo\")\n",
    "cb = fig.colorbar(hb, ax=ax)\n",
    "cb.set_label('counts')\n",
    "\n",
    "plt.show()"
   ]
  },
  {
   "cell_type": "markdown",
   "metadata": {},
   "source": [
    "As said previously, the duration and tempo of songs are quite clustered between [120-300] seconds and [90-160] BPM"
   ]
  },
  {
   "cell_type": "code",
   "execution_count": 60,
   "metadata": {},
   "outputs": [
    {
     "data": {
      "image/png": "[encoded data removed]",
      "text/plain": [
       "<matplotlib.figure.Figure at 0x291a7bcacf8>"
      ]
     },
     "metadata": {},
     "output_type": "display_data"
    }
   ],
   "source": [
    "x = normalized_df.SongLoudness\n",
    "y = normalized_df.SongHotness\n",
    "xmin = x.min()\n",
    "xmax = x.max()\n",
    "ymin = y.min()\n",
    "ymax = y.max()\n",
    "\n",
    "fig, ax = plt.subplots()\n",
    "hb = ax.hexbin(x, y, gridsize=20, cmap=\"gist_yarg\")\n",
    "ax.axis([xmin, xmax, ymin - 0.05, ymax + 0.05])\n",
    "ax.set_title(\"Hexagon binning Loudness, Hotness\")\n",
    "cb = fig.colorbar(hb, ax=ax)\n",
    "cb.set_label('counts')\n",
    "\n",
    "plt.show()"
   ]
  },
  {
   "cell_type": "markdown",
   "metadata": {},
   "source": [
    "We can see that most of the song are located in range 90-150 in BPM with duration between 120 - 300 seconds.  \n"
   ]
  },
  {
   "cell_type": "markdown",
   "metadata": {},
   "source": [
    "We can't do much more correlation analysis as few datas are correlated and we have a small subset so this is likely to change with a full dataset."
   ]
  },
  {
   "cell_type": "code",
   "execution_count": 61,
   "metadata": {},
   "outputs": [
    {
     "data": {
      "text/plain": [
       "track_id\n",
       "TRAAARJ128F9320760     [new wave;progressive rock;space rock;eurodan...\n",
       "TRAAAAK128F9318786     [alternative metal;heavy metal;rock;alternati...\n",
       "TRAAAQO12903CD8E1C     [r&b;disco;funk;motown;freestyle;quiet storm;...\n",
       "TRAAAAV128F421A322     [melodic hardcore;skate punk;hardcore punk;ca...\n",
       "TRAAAUR128F428B1FA     [ska punk;garage rock;post-hardcore;garage pu...\n",
       "Name: ArtistTerms, dtype: object"
      ]
     },
     "execution_count": 61,
     "metadata": {},
     "output_type": "execute_result"
    }
   ],
   "source": [
    "df.ArtistTerms.head()"
   ]
  },
  {
   "cell_type": "code",
   "execution_count": 62,
   "metadata": {},
   "outputs": [
    {
     "data": {
      "text/plain": [
       "track_id\n",
       "TRAAARJ128F9320760                         []\n",
       "TRAAAAK128F9318786                         []\n",
       "TRAAAQO12903CD8E1C     [classic pop and rock]\n",
       "TRAAAAV128F421A322                         []\n",
       "TRAAAUR128F428B1FA                         []\n",
       "Name: ArtistMbtags, dtype: object"
      ]
     },
     "execution_count": 62,
     "metadata": {},
     "output_type": "execute_result"
    }
   ],
   "source": [
    "df.ArtistMbtags.head()"
   ]
  },
  {
   "cell_type": "markdown",
   "metadata": {},
   "source": [
    "Here we can see that the term of MbTags are more generic and some do not have any tags, while the tags from Terms are really variate.  \n",
    "We will further elaborate the genres in the next chapter."
   ]
  },
  {
   "cell_type": "markdown",
   "metadata": {},
   "source": [
    "## Feature Engineering"
   ]
  },
  {
   "cell_type": "markdown",
   "metadata": {},
   "source": [
    "Since we only have the genres for the artist and not for the songs, the deviation of genres per artist is quite high (up to 200 genres per artist). In order to clean the genres per artist let's have a look at the genre frequency distribution."
   ]
  },
  {
   "cell_type": "code",
   "execution_count": 63,
   "metadata": {},
   "outputs": [
    {
     "data": {
      "text/plain": [
       "(array([  155835.,   178067.,   281666.,   420252.,   637594.,   833803.,\n",
       "         1069037.,  1767773.,  1019769.,   830238.]),\n",
       " array([ 0. ,  0.1,  0.2,  0.3,  0.4,  0.5,  0.6,  0.7,  0.8,  0.9,  1. ]),\n",
       " <a list of 10 Patch objects>)"
      ]
     },
     "execution_count": 63,
     "metadata": {},
     "output_type": "execute_result"
    },
    {
     "data": {
      "image/png": "[encoded data removed]",
      "text/plain": [
       "<matplotlib.figure.Figure at 0x291b2222eb8>"
      ]
     },
     "metadata": {},
     "output_type": "display_data"
    }
   ],
   "source": [
    "freqs = np.array(np.concatenate(normalized_df['ArtistTermFreq']))\n",
    "freqs = np.ravel(freqs).astype(float)\n",
    "plt.hist(freqs)"
   ]
  },
  {
   "cell_type": "markdown",
   "metadata": {},
   "source": [
    "Let's remove all terms with frequencies lower than 0.6."
   ]
  },
  {
   "cell_type": "code",
   "execution_count": 64,
   "metadata": {},
   "outputs": [
    {
     "name": "stdout",
     "output_type": "stream",
     "text": [
      "TRAAARJ128F9320760\n",
      "TRANKMZ128F42A0098\n",
      "TRBAZFF12903D03CA1\n",
      "TRBOPOO128F422FC0E\n",
      "TRCCHIC128F1463F3A\n",
      "TRCPWMZ128F14A5770\n",
      "TRDDJGF12903CDE52C\n",
      "TRDQTZM128F146C98D\n",
      "TREEKGO128F426A873\n",
      "TRESBKJ128F14588ED\n",
      "TRFFSQU12903CF79B6\n",
      "TRFTAAY128E0781591\n",
      "TRGGQKL128E078BDEC\n",
      "TRGUJQG128E078E718\n",
      "TRHHZVK128F92EC291\n",
      "TRHVNJF128F934B8C0\n",
      "TRIJJPC128F92D2BF0\n",
      "TRIXCAU128F4279092\n",
      "TRJKWGK12903D05191\n",
      "TRJYNAL128F92F144B\n",
      "TRKMESC128F425BDE7\n",
      "TRKZZGI128F424821D\n",
      "TRLNPDO128EF35F2E3\n"
     ]
    }
   ],
   "source": [
    "iter = 0\n",
    "for index, row in normalized_df.iterrows():\n",
    "    if iter % 10000 == 0:\n",
    "        print (index)        \n",
    "    iter += 1\n",
    "    terms = np.asarray(normalized_df.loc[index, 'ArtistTerms'])\n",
    "    freqs = np.asarray(normalized_df.loc[index, 'ArtistTermFreq']).astype(float)\n",
    "        \n",
    "    index_keep = np.where(freqs > 0.6)\n",
    "    normalized_df.loc[index, 'ArtistTerms'] = json.dumps(np.take(terms, index_keep).tolist())\n",
    "    normalized_df.loc[index, 'ArtistTermFreq'] = json.dumps(np.take(freqs, index_keep).tolist())\n",
    "    "
   ]
  },
  {
   "cell_type": "code",
   "execution_count": 65,
   "metadata": {},
   "outputs": [],
   "source": [
    "normalized_df.to_pickle(\"millionsong_total_genre_reduced.pkl\")"
   ]
  },
  {
   "cell_type": "code",
   "execution_count": 84,
   "metadata": {},
   "outputs": [],
   "source": [
    "normalized_df = pd.read_pickle(\"millionsong_total_genre_reduced.pkl\")\n",
    "normalized_df.ArtistTerms = normalized_df.ArtistTerms.apply(lambda x : np.array(json.loads(x)).squeeze())"
   ]
  },
  {
   "cell_type": "markdown",
   "metadata": {},
   "source": [
    "The amout of different genres is too high. We want to reduce the number of genres.  \n",
    "Therefore we reduce the genres with an obtained json tree structure from http://musicmap.info/."
   ]
  },
  {
   "cell_type": "code",
   "execution_count": 67,
   "metadata": {},
   "outputs": [
    {
     "data": {
      "text/plain": [
       "{'(AVANT-GARDE) INDUSTRIAL': 'INDUSTRIAL &amp GOTHIC',\n",
       " '(DIRTY) SOUTH RAP, CRUNK and SNAP': 'RAP / HIP-HOP MUSIC',\n",
       " '(EARLY) GABBER': 'HARDCORE TECHNO',\n",
       " '(EARLY) POP ROCK and POWER POP': 'POP MUSIC',\n",
       " '(EARLY) RHYTHM N BLUES': 'RHYTHM N BLUES (R&B)',\n",
       " '(ELECTRIC) TEXAS BLUES': 'BLUES',\n",
       " '(FREE)TEK(K)NO': 'TECHNO',\n",
       " '(MERSEY)BEAT': 'GOLDEN AGE / CLASSIC ROCK',\n",
       " '(NEGRO) SPIRITUALS & WORKSONGS': 'GOSPEL &amp; PIONEERS',\n",
       " '(ROOTS) REGGAE': 'JAMAICAN (MUSIC) / REGGAE',\n",
       " '(WEST COAST) GANGSTA RAP': 'RAP / HIP-HOP MUSIC',\n",
       " 'ACID HOUSE': 'HOUSE',\n",
       " 'ACID JAZZ': 'JAZZ',\n",
       " 'ACID ROCK and PSYCHEDELIA': 'GOLDEN AGE / CLASSIC ROCK',\n",
       " 'ADULT CONTEMPORARY (A.C.)': 'POP MUSIC',\n",
       " 'AGGREPPO': 'INDUSTRIAL &amp GOTHIC',\n",
       " 'ALTERNATIVE': 'ALTERNATIVE ROCK / INDIE',\n",
       " 'ALTERNATIVE COUNTRY': 'COUNTRY',\n",
       " 'ALTERNATIVE ROCK': 'ALTERNATIVE ROCK / INDIE',\n",
       " 'AMBIENT': 'DOWNTEMPO / AMBIENT',\n",
       " 'AMBIENT BREAKS & ILLBIENT': 'DOWNTEMPO / AMBIENT',\n",
       " 'AMBIENT BREAKS and ILLBIENT': 'BREAKBEAT',\n",
       " 'AMBIENT DRUM N BASS and JAZZSTEP': \"DRUM N BASS (D'N'B) / JUNGLE\",\n",
       " 'AMBIENT HOUSE': 'DOWNTEMPO / AMBIENT',\n",
       " 'AMBIENT TECHNO & IDM (INTELLIGENT DANCE MUSIC)': 'DOWNTEMPO / AMBIENT',\n",
       " 'AMERICAN and BRITISH FOLK REVIVAL': \"ROCK N ROLL (R'N'R)\",\n",
       " 'AMERICANA': 'COUNTRY',\n",
       " 'ANARCHO-PUNK, CRUST PUNK and D-BEAT': 'HARDCORE PUNK',\n",
       " 'ASIAN POP': 'POP MUSIC',\n",
       " 'AVANT-GARDE (JAZZ)': 'JAZZ',\n",
       " 'BAKERSFIELD': 'COUNTRY',\n",
       " 'BASSLINE and UK FUNKY': \"DRUM N BASS (D'N'B) / JUNGLE\",\n",
       " 'BEBOP': 'JAZZ',\n",
       " 'BIG BAND': 'JAZZ',\n",
       " 'BIT MUSIC': 'DOWNTEMPO / AMBIENT',\n",
       " 'BLACK METAL': 'HEAVY METAL',\n",
       " 'BLUEGRASS': 'COUNTRY',\n",
       " 'BLUES': 'BLUES',\n",
       " 'BOOGIE': 'RHYTHM N BLUES (R&B)',\n",
       " 'BOOGIE WOOGIE': 'BLUES',\n",
       " 'BREAKBEAT': 'BREAKBEAT',\n",
       " 'BREAKBEAT GARAGE and GRIME': \"DRUM N BASS (D'N'B) / JUNGLE\",\n",
       " 'BREAKBEAT HARDCORE (RAVE II)': 'BREAKBEAT',\n",
       " 'BREAKBEAT HARDCORE and PIANO HOUSE (RAVE II)': 'HARDCORE TECHNO',\n",
       " 'BRILL BUILDING POP & CROONERS': 'POP MUSIC',\n",
       " 'BRITISH BLUES and BLUES ROCK': 'BLUES',\n",
       " 'BRITISH INVASION': 'GOLDEN AGE / CLASSIC ROCK',\n",
       " 'BRITPOP': 'POP MUSIC',\n",
       " 'BROKEN BEATS': 'BREAKBEAT',\n",
       " 'BUBBLEGUM and TEENYBOP': 'POP MUSIC',\n",
       " 'CCM (CONTEMPORARY CHRISTIAN MUSIC)': 'GOSPEL &amp; PIONEERS',\n",
       " 'CHEMICAL BREAKS and BIG BEAT': 'BREAKBEAT',\n",
       " 'CHICAGO BLUES': 'BLUES',\n",
       " 'CHICAGO HOUSE and GARAGE HOUSE': 'HOUSE',\n",
       " 'CHICAGO JAZZ': 'JAZZ',\n",
       " 'CHICAGO SOUL and DETROIT SOUL (MOTOWN)': 'RHYTHM N BLUES (R&B)',\n",
       " 'CHILL-OUT': 'DOWNTEMPO / AMBIENT',\n",
       " 'CITY BLUES': 'BLUES',\n",
       " 'CLASSIC BLUES': 'BLUES',\n",
       " 'CLASSIC COUNTRY': 'COUNTRY',\n",
       " 'CLASSIC METAL': 'HEAVY METAL',\n",
       " 'CLASSIC TRANCE and ACID TRANCE': 'TRANCE',\n",
       " 'CLASSICROCK': 'GOLDEN AGE / CLASSIC ROCK',\n",
       " 'CLICKS N CUTS': 'DOWNTEMPO / AMBIENT',\n",
       " 'CONTEMPORARY': 'CONTEMPORARY ROCK',\n",
       " 'CONTEMPORARY COUNTRY': 'COUNTRY',\n",
       " 'COOL JAZZ & WEST COAST JAZZ': 'JAZZ',\n",
       " 'COUNTRY': 'COUNTRY',\n",
       " 'COUNTRY BLUES': 'BLUES',\n",
       " 'COUNTRY POP and COUNTRY ROCK': 'COUNTRY',\n",
       " 'COUNTRYPOLITAN': 'COUNTRY',\n",
       " 'CROSSOVER THRASH': 'HARDCORE PUNK',\n",
       " 'DANCE POP': 'POP MUSIC',\n",
       " 'DANCE-PUNK and NU RAVE': 'CONTEMPORARY ROCK',\n",
       " 'DANCEHALL': 'JAMAICAN (MUSIC) / REGGAE',\n",
       " 'DARK AMBIENT': 'DOWNTEMPO / AMBIENT',\n",
       " 'DARK INDUSTRIAL': 'DOWNTEMPO / AMBIENT',\n",
       " 'DARKCORE and DARKSTEP': 'HARDCORE TECHNO',\n",
       " 'DARKWAVE and COLDWAVE': 'INDUSTRIAL &amp GOTHIC',\n",
       " 'DEATH METAL': 'HEAVY METAL',\n",
       " 'DEEP FUNK': 'RHYTHM N BLUES (R&B)',\n",
       " 'DEEP HOUSE': 'HOUSE',\n",
       " 'DEEP SOUL': 'RHYTHM N BLUES (R&B)',\n",
       " 'DETROIT TECHNO': 'TECHNO',\n",
       " 'DIGITAL HARDCORE and BREAKCORE': 'HARDCORE TECHNO',\n",
       " 'DIGITAL MINIMALISM': 'DOWNTEMPO / AMBIENT',\n",
       " 'DISCO': 'RHYTHM N BLUES (R&B)',\n",
       " 'DISCOPOP': 'POP MUSIC',\n",
       " 'DISCORE': 'HARDCORE PUNK',\n",
       " 'DOO WOP': 'RHYTHM N BLUES (R&B)',\n",
       " 'DOOM METAL': 'HEAVY METAL',\n",
       " 'DOWNTEMPO': 'DOWNTEMPO / AMBIENT',\n",
       " 'DREAM POP & SHOEGAZE': 'POP MUSIC',\n",
       " 'DREAM POP and SHOEGAZE': 'ALTERNATIVE ROCK / INDIE',\n",
       " \"DRUM'N'BASS\": \"DRUM N BASS (D'N'B) / JUNGLE\",\n",
       " 'DUB': 'JAMAICAN (MUSIC) / REGGAE',\n",
       " 'DUBSTEP': \"DRUM N BASS (D'N'B) / JUNGLE\",\n",
       " 'EARLY FUNK and P-FUNK': 'RHYTHM N BLUES (R&B)',\n",
       " 'EAST COAST GANGSTA RAP': 'RAP / HIP-HOP MUSIC',\n",
       " 'EDM TRAP': 'BREAKBEAT',\n",
       " 'ELECTRO': 'BREAKBEAT',\n",
       " 'ELECTRO HOUSE and DUTCH HOUSE': 'HOUSE',\n",
       " 'ELECTRO JAZZ': 'JAZZ',\n",
       " 'ELECTRO SWING': 'JAZZ',\n",
       " 'ELECTRO-INDUSTRIAL': 'INDUSTRIAL &amp GOTHIC',\n",
       " 'ELECTROCLASH (NU WAVE)': 'POP MUSIC',\n",
       " 'ELECTROFUNK': 'RHYTHM N BLUES (R&B)',\n",
       " 'ELECTRONIC BODY MUSIC': 'INDUSTRIAL &amp GOTHIC',\n",
       " 'ELECTRONICA': 'DOWNTEMPO / AMBIENT',\n",
       " 'ELECTROPOP': 'POP MUSIC',\n",
       " 'ELEVATOR MUSIC': 'DOWNTEMPO / AMBIENT',\n",
       " 'EMO-ROCK': 'CONTEMPORARY ROCK',\n",
       " 'EPIC TRANCE': 'TRANCE',\n",
       " 'EURODISCO': 'POP MUSIC',\n",
       " 'EUROTRANCE and VOCAL TRANCE': 'TRANCE',\n",
       " 'EXOTICA': 'DOWNTEMPO / AMBIENT',\n",
       " 'EXTREME METAL (BLACK I and SPEED)': 'HEAVY METAL',\n",
       " 'FIDGET HOUSE and COMPLEXTRO': 'HOUSE',\n",
       " 'FLORIDA BREAKS (and FUNKY BREAKS)': 'BREAKBEAT',\n",
       " 'FOLK BLUES (& DELTA BLUES)': 'BLUES',\n",
       " 'FOLK ROCK': 'GOLDEN AGE / CLASSIC ROCK',\n",
       " 'FREE JAZZ': 'JAZZ',\n",
       " 'FREESTYLE and BREAKDANCE': 'BREAKBEAT',\n",
       " 'FRENCH HOUSE and FUNKY HOUSE': 'HOUSE',\n",
       " 'FUSION': 'JAZZ',\n",
       " 'FUTURE BASS': \"DRUM N BASS (D'N'B) / JUNGLE\",\n",
       " 'FUTURE GARAGE': \"DRUM N BASS (D'N'B) / JUNGLE\",\n",
       " 'FUTUREPOP': 'INDUSTRIAL &amp GOTHIC',\n",
       " 'GARAGE ROCK': \"ROCK N ROLL (R'N'R)\",\n",
       " 'GARAGE and POST-PUNK REVIVALS': 'CONTEMPORARY ROCK',\n",
       " 'GHETTO HOUSE, GHETTOTECH & JUKE': 'HOUSE',\n",
       " 'GHETTO HOUSE, GHETTOTECH and JUKE': 'TECHNO',\n",
       " 'GLAM METAL': 'HEAVY METAL',\n",
       " 'GLAM ROCK': 'GOLDEN AGE / CLASSIC ROCK',\n",
       " 'GLITCH': 'DOWNTEMPO / AMBIENT',\n",
       " 'GLITCH HOP and WONKY': 'BREAKBEAT',\n",
       " 'GLITTER ROCK': 'GOLDEN AGE / CLASSIC ROCK',\n",
       " 'GO-GO (& BOUNCE BEAT)': 'RHYTHM N BLUES (R&B)',\n",
       " 'GOA TRANCE and PSYTRANCE': 'TRANCE',\n",
       " 'GOLDEN AGE RAP (and HARDCORE RAP)': 'RAP / HIP-HOP MUSIC',\n",
       " 'GOLDENAGE': 'GOLDEN AGE / CLASSIC ROCK',\n",
       " 'GOSPEL': 'GOSPEL &amp; PIONEERS',\n",
       " 'GOTHIC': 'INDUSTRIAL &amp GOTHIC',\n",
       " 'GOTHIC ROCK and DEATHROCK': 'INDUSTRIAL &amp GOTHIC',\n",
       " 'GRINDCORE': 'HARDCORE PUNK',\n",
       " 'GRUNGE': 'ALTERNATIVE ROCK / INDIE',\n",
       " 'HAIR METAL': 'HEAVY METAL',\n",
       " 'HAPPY HARDCORE and BOUNCY TECHNO': 'HARDCORE TECHNO',\n",
       " 'HARD BOP': 'JAZZ',\n",
       " 'HARD ROCK': 'GOLDEN AGE / CLASSIC ROCK',\n",
       " 'HARDCORE': 'HARDCORE TECHNO',\n",
       " 'HARDCORE COUNTRY': 'COUNTRY',\n",
       " 'HARDCORE TECHNO': 'TECHNO',\n",
       " 'HARDSTEP and TECHSTEP': \"DRUM N BASS (D'N'B) / JUNGLE\",\n",
       " 'HARDSTYLE (& JUMPSTYLE)': 'HARDCORE TECHNO',\n",
       " 'HARDTECHNO (SCHRANZ II)': 'TECHNO',\n",
       " 'HARDTEK': 'TECHNO',\n",
       " 'HARDTRANCE': 'TRANCE',\n",
       " 'HEARTLAND ROCK and A.O.R. (ADULT ORIENTED ROCK)': 'GOLDEN AGE / CLASSIC ROCK',\n",
       " 'HEAVY': 'HEAVY METAL',\n",
       " 'HI-NRG': 'POP MUSIC',\n",
       " 'HILL COUNTRY BLUES & TRANCE BLUES': 'BLUES',\n",
       " 'HILLBILLY': 'COUNTRY',\n",
       " 'HIP HOUSE and EURODANCE': 'HOUSE',\n",
       " 'HIP-HOPMUSIC': 'RAP / HIP-HOP MUSIC',\n",
       " 'HONKY TONK': 'COUNTRY',\n",
       " 'HORROR PUNK and PSYCHOBILLY': 'PUNK ROCK / NEW WAVE',\n",
       " 'HOUSE': 'HOUSE',\n",
       " 'IBIZA HOUSE and DREAM HOUSE': 'HOUSE',\n",
       " 'IBIZA TRANCE and DREAM TRANCE': 'TRANCE',\n",
       " 'INDIE': 'ALTERNATIVE ROCK / INDIE',\n",
       " 'INDIE FOLK and FREAKFOLK': 'POP MUSIC',\n",
       " 'INDIE II': 'ALTERNATIVE ROCK / INDIE',\n",
       " 'INDIE POP (TWEE)': 'POP MUSIC',\n",
       " 'INDIE ROCK (and PAISLEY UNDERGROUND)': 'ALTERNATIVE ROCK / INDIE',\n",
       " 'INDIETRONICA and CHILLWAVE': 'POP MUSIC',\n",
       " 'INDUSTRIAL': 'INDUSTRIAL &amp GOTHIC',\n",
       " 'INDUSTRIAL METAL': 'INDUSTRIAL &amp GOTHIC',\n",
       " 'INDUSTRIAL ROCK': 'INDUSTRIAL &amp GOTHIC',\n",
       " 'INDUSTRIAL TECHNO and SCHRANZ': 'TECHNO',\n",
       " 'INSTRUMENTAL': \"ROCK N ROLL (R'N'R)\",\n",
       " 'INTELLIGENT': \"DRUM N BASS (D'N'B) / JUNGLE\",\n",
       " 'JAMAICAN': 'JAMAICAN (MUSIC) / REGGAE',\n",
       " 'JANGLE POP': 'ALTERNATIVE ROCK / INDIE',\n",
       " 'JAZZ': 'JAZZ',\n",
       " 'JAZZ FUNK': 'JAZZ',\n",
       " 'JAZZ RAP': 'RAP / HIP-HOP MUSIC',\n",
       " 'JAZZ ROCK': 'JAZZ',\n",
       " 'JAZZDANCE': 'JAZZ',\n",
       " 'JUMP BLUES': 'BLUES',\n",
       " 'JUMP UP': \"DRUM N BASS (D'N'B) / JUNGLE\",\n",
       " 'JUNGLE': \"DRUM N BASS (D'N'B) / JUNGLE\",\n",
       " 'KRAUTROCK': 'GOLDEN AGE / CLASSIC ROCK',\n",
       " 'LIQUID FUNK': \"DRUM N BASS (D'N'B) / JUNGLE\",\n",
       " 'LOUISIANA BLUES': 'BLUES',\n",
       " 'LOUNGE': 'DOWNTEMPO / AMBIENT',\n",
       " \"LOVER'S ROCK and UK REGGAE\": 'JAMAICAN (MUSIC) / REGGAE',\n",
       " 'LOWERCASE': 'DOWNTEMPO / AMBIENT',\n",
       " 'MAINSTREAM HARDCORE': 'HARDCORE TECHNO',\n",
       " 'MATH ROCK and MATHCORE': 'ALTERNATIVE ROCK / INDIE',\n",
       " 'MEMPHIS SOUL': 'RHYTHM N BLUES (R&B)',\n",
       " 'MENTO': 'JAMAICAN (MUSIC) / REGGAE',\n",
       " 'METAL': 'HEAVY METAL',\n",
       " 'METALCORE': 'HARDCORE PUNK',\n",
       " 'MIAMI BASS and BOUNCE': 'RAP / HIP-HOP MUSIC',\n",
       " 'MICROHOUSE': 'HOUSE',\n",
       " 'MINIMAL HOUSE': 'HOUSE',\n",
       " 'MINIMAL TECHNO': 'TECHNO',\n",
       " 'MINIMAL WAVE': 'DOWNTEMPO / AMBIENT',\n",
       " 'MINIMALISM': 'DOWNTEMPO / AMBIENT',\n",
       " 'MODERN GOSPEL': 'GOSPEL &amp; PIONEERS',\n",
       " 'MOOMBAHTON': 'HOUSE',\n",
       " 'MUSIC': 'JAMAICAN (MUSIC) / REGGAE',\n",
       " 'MUSIQUE CONCRETE': 'DOWNTEMPO / AMBIENT',\n",
       " 'MUZAK': 'DOWNTEMPO / AMBIENT',\n",
       " 'NASHVILLE': 'COUNTRY',\n",
       " 'NATIVE TONGUE': 'RAP / HIP-HOP MUSIC',\n",
       " 'NEO SOUL': 'RHYTHM N BLUES (R&B)',\n",
       " 'NEO-TRANCE': 'TRANCE',\n",
       " 'NEOTRADITIONALISTS': 'COUNTRY',\n",
       " 'NEUROFUNK': \"DRUM N BASS (D'N'B) / JUNGLE\",\n",
       " 'NEW': 'PUNK ROCK / NEW WAVE',\n",
       " 'NEW AGE': 'DOWNTEMPO / AMBIENT',\n",
       " 'NEW BEAT': 'TECHNO',\n",
       " 'NEW JACK SWING': 'RHYTHM N BLUES (R&B)',\n",
       " 'NEW ORLEANS  & DIXIELAND JAZZ REVIVALS': 'JAZZ',\n",
       " 'NEW ORLEANS JAZZ & DIXIELAND JAZZ': 'JAZZ',\n",
       " 'NEW PROG': 'CONTEMPORARY ROCK',\n",
       " 'NEW WAVE': 'PUNK ROCK / NEW WAVE',\n",
       " 'NEW WEIRD AMERICA': 'POP MUSIC',\n",
       " 'NO WAVE': 'PUNK ROCK / NEW WAVE',\n",
       " 'NOISE MUSIC': 'INDUSTRIAL &amp GOTHIC',\n",
       " 'NOISE ROCK': 'ALTERNATIVE ROCK / INDIE',\n",
       " 'NORDIC JAZZ': 'JAZZ',\n",
       " 'NRG, HARD NRG and (UK) HARD HOUSE': 'TRANCE',\n",
       " 'NU DISCO and FUNKTRONICA': 'HOUSE',\n",
       " 'NU JAZZ': 'JAZZ',\n",
       " 'NU METAL and RAP METAL': 'HEAVY METAL',\n",
       " 'NU PROG': 'CONTEMPORARY ROCK',\n",
       " 'NU SKOOL BREAKS': 'BREAKBEAT',\n",
       " 'NU SKOOL RAP': 'RAP / HIP-HOP MUSIC',\n",
       " 'NU SOUL': 'RHYTHM N BLUES (R&B)',\n",
       " 'NU STYLE (GABBER)': 'HARDCORE TECHNO',\n",
       " 'NU-RAWK': 'CONTEMPORARY ROCK',\n",
       " 'NWOAHM (NEW WAVE OF AMERICAN HEAVY METAL)': 'HARDCORE PUNK',\n",
       " 'NWOBHM (NEW WAVE OF BRITISH HEAVY METAL)': 'HEAVY METAL',\n",
       " 'OLD SKOOL JUNGLE and OLD SKOOL DRUM N BASS': \"DRUM N BASS (D'N'B) / JUNGLE\",\n",
       " 'OLD SKOOL RAP PIONEERS': 'RAP / HIP-HOP MUSIC',\n",
       " 'ORIGINAL HARDCORE (PUNK)': 'HARDCORE PUNK',\n",
       " 'PHILLY SOUL': 'RHYTHM N BLUES (R&B)',\n",
       " 'PIANO BLUES': 'BLUES',\n",
       " 'PIONEERS': 'GOSPEL &amp; PIONEERS',\n",
       " 'POP': 'POP MUSIC',\n",
       " 'POP (NU R&B I)': 'RHYTHM N BLUES (R&B)',\n",
       " 'POP METAL': 'HEAVY METAL',\n",
       " 'POST PROG (ROCK)': 'CONTEMPORARY ROCK',\n",
       " 'POST-BRITPOP': 'POP MUSIC',\n",
       " 'POST-DISCO': 'POP MUSIC',\n",
       " 'POST-DUBSTEP': \"DRUM N BASS (D'N'B) / JUNGLE\",\n",
       " 'POST-GRUNGE': 'ALTERNATIVE ROCK / INDIE',\n",
       " 'POST-HARDCORE, EMO(CORE) and SCREAMO': 'HARDCORE PUNK',\n",
       " 'POST-PUNK': 'PUNK ROCK / NEW WAVE',\n",
       " 'POST-ROCK': 'ALTERNATIVE ROCK / INDIE',\n",
       " 'POWER METAL': 'HEAVY METAL',\n",
       " 'PROGRESSIVE COUNTRY and OUTLAW COUNTRY': 'COUNTRY',\n",
       " 'PROGRESSIVE HOUSE': 'HOUSE',\n",
       " 'PROGRESSIVE JAZZ & MODAL JAZZ': 'JAZZ',\n",
       " 'PROGRESSIVE METAL': 'HEAVY METAL',\n",
       " 'PROGRESSIVE RAP': 'RAP / HIP-HOP MUSIC',\n",
       " 'PROGRESSIVE ROCK, ART ROCK and SYMPHONIC ROCK': 'GOLDEN AGE / CLASSIC ROCK',\n",
       " 'PROGRESSIVE TRANCE': 'TRANCE',\n",
       " 'PSYCHEDELIC': 'GOLDEN AGE / CLASSIC ROCK',\n",
       " 'PUB ROCK and PROTO PUNK': 'PUNK ROCK / NEW WAVE',\n",
       " 'PUNK': 'HARDCORE PUNK',\n",
       " 'PUNK ROCK': 'PUNK ROCK / NEW WAVE',\n",
       " 'RAGGA': 'JAMAICAN (MUSIC) / REGGAE',\n",
       " 'RAGTIME & STRIDE': 'GOSPEL &amp; PIONEERS',\n",
       " 'RAP': 'RAP / HIP-HOP MUSIC',\n",
       " 'RAP ROCK, RAPCORE and FUNK METAL': 'ALTERNATIVE ROCK / INDIE',\n",
       " 'RARE GROOVE and NU FUNK': 'RHYTHM N BLUES (R&B)',\n",
       " 'RAVE': 'TECHNO',\n",
       " 'REGGAE': 'JAMAICAN (MUSIC) / REGGAE',\n",
       " 'REGGAE FUSION and BHANGRAMUFFIN': 'JAMAICAN (MUSIC) / REGGAE',\n",
       " 'REGGAETÓN and LATIN RAP': 'RAP / HIP-HOP MUSIC',\n",
       " 'RELIPOP & -ROCK': 'GOSPEL &amp; PIONEERS',\n",
       " \"RHYTHM'N'BLUES\": 'RHYTHM N BLUES (R&B)',\n",
       " 'ROCK': 'CONTEMPORARY ROCK',\n",
       " \"ROCK 'N ROLL and ROCKABILLY\": \"ROCK N ROLL (R'N'R)\",\n",
       " 'ROCK and SLUDGE METAL': 'HEAVY METAL',\n",
       " \"ROCK'N'ROLL\": \"ROCK N ROLL (R'N'R)\",\n",
       " 'ROCKSTEADY': 'JAMAICAN (MUSIC) / REGGAE',\n",
       " 'SCHLAGER': 'POP MUSIC',\n",
       " 'SHOCK ROCK': 'GOLDEN AGE / CLASSIC ROCK',\n",
       " 'SINGER': 'POP MUSIC',\n",
       " 'SKA': 'JAMAICAN (MUSIC) / REGGAE',\n",
       " 'SKA REVIVAL (2-TONE), SKA PUNK and SKACORE': 'JAMAICAN (MUSIC) / REGGAE',\n",
       " 'SKATE PUNK and POP PUNK': 'ALTERNATIVE ROCK / INDIE',\n",
       " 'SKIFFLE (REVIVAL)': 'POP MUSIC',\n",
       " 'SMOOTH JAZZ': 'JAZZ',\n",
       " 'SOFT ROCK': 'POP MUSIC',\n",
       " 'SONGWRITER': 'POP MUSIC',\n",
       " 'SOUL BLUES (SOUTHERN SOUL II)': 'BLUES',\n",
       " 'SOUL JAZZ': 'JAZZ',\n",
       " 'SOUTHERN ROCK': 'GOLDEN AGE / CLASSIC ROCK',\n",
       " 'SOUTHERN SOUL': 'RHYTHM N BLUES (R&B)',\n",
       " 'SPACE AGE POP': 'DOWNTEMPO / AMBIENT',\n",
       " 'SPEEDCORE, FRENCHCORE and TERRORCORE': 'HARDCORE TECHNO',\n",
       " 'STONER METAL': 'HEAVY METAL',\n",
       " 'SURF ROCK': \"ROCK N ROLL (R'N'R)\",\n",
       " 'SWAMP BLUES': 'BLUES',\n",
       " 'SWING': 'JAZZ',\n",
       " 'SWINGBEAT': 'RHYTHM N BLUES (R&B)',\n",
       " 'SYMPHONIC METAL and GOTHIC METAL': 'HEAVY METAL',\n",
       " 'SYNTH': 'DOWNTEMPO / AMBIENT',\n",
       " 'SYNTH and MINIMAL INDUSTRIAL (REVIVAL)': 'DOWNTEMPO / AMBIENT',\n",
       " 'SYNTHCORE and CRUNKCORE': 'HARDCORE PUNK',\n",
       " 'SYNTHPOP and NEW ROMANTICS': 'POP MUSIC',\n",
       " 'SYNTHWAVE and VAPORWAVE': 'DOWNTEMPO / AMBIENT',\n",
       " 'TECH HOUSE': 'HOUSE',\n",
       " 'TECH TRANCE': 'TRANCE',\n",
       " 'TECHNO': 'TECHNO',\n",
       " 'TEXAS BLUESROCK & MODERN ELECTRIC BLUES': 'BLUES',\n",
       " 'THIRD STREAM': 'JAZZ',\n",
       " 'THRASH METAL': 'HEAVY METAL',\n",
       " 'TRADITIONAL GOSPEL': 'GOSPEL &amp; PIONEERS',\n",
       " 'TRANCE': 'TRANCE',\n",
       " 'TRANCECORE and ACIDCORE': 'TRANCE',\n",
       " 'TRAP and DRILL': 'RAP / HIP-HOP MUSIC',\n",
       " 'TRAPSTEP': 'BREAKBEAT',\n",
       " 'TRIP HOP': 'DOWNTEMPO / AMBIENT',\n",
       " 'UK GARAGE (2-STEP and SPEED GARAGE)': \"DRUM N BASS (D'N'B) / JUNGLE\",\n",
       " 'UK HARDCORE and FREEFORM': 'TRANCE',\n",
       " 'UPLIFTING TRANCE': 'TRANCE',\n",
       " 'URBAN BLUES': 'BLUES',\n",
       " 'URBAN BREAKS  (NU R&B II)': 'RAP / HIP-HOP MUSIC',\n",
       " 'URBAN BREAKS (NU R&B II)': 'RHYTHM N BLUES (R&B)',\n",
       " 'URBAN COUNTRY': 'COUNTRY',\n",
       " 'URBAN SOUL': 'RHYTHM N BLUES (R&B)',\n",
       " 'VAUDEVILLE': 'BLUES',\n",
       " 'VGM (CHIPTUNE and 8-BIT)': 'DOWNTEMPO / AMBIENT',\n",
       " 'WAVE': 'PUNK ROCK / NEW WAVE',\n",
       " 'WEST COAST BLUES': 'BLUES',\n",
       " 'WESTERN SWING': 'COUNTRY'}"
      ]
     },
     "execution_count": 67,
     "metadata": {},
     "output_type": "execute_result"
    }
   ],
   "source": [
    "\"\"\"\n",
    "Reduce the genres to a main genre using the provided json file\n",
    "\"\"\"\n",
    "# Main genres\n",
    "maingenre = ['inl','met','rnr','gld','pwv','hcp','alt','con','pop','cou','rnb','gos','blu','jaz','jam','rap','brb','dnb','hct','tec','hou','tra','dtp']\n",
    "\n",
    "genreTree = {}\n",
    "with urllib.request.urlopen('http://musicmap.info/master-genrelist.json') as url:\n",
    "    data = json.loads(url.read().decode())\n",
    "    \n",
    "    # check the first level\n",
    "    for x in maingenre: \n",
    "        name = data.get(x).get('name')\n",
    "        \n",
    "        # clean data\n",
    "        genreName = name.replace('<span class=\\'subtitle\\'>','')\n",
    "        genreName = genreName.replace('</span>','')\n",
    "        genreName = genreName.replace(' \\'N\\'',' N')\n",
    "        \n",
    "        # find genres\n",
    "        genreNames = re.findall(r'([A-Z]+\\s+\\'+[A-Z+\\'+\\s]*|[A-Z+\\s+\\-]+)',data.get(x).get('name'))\n",
    "        for g in genreNames:\n",
    "            if(len(g)>1):\n",
    "                # add to map\n",
    "                genreTree[g.replace(' ', '')] = genreName\n",
    "                \n",
    "        # check the second level\n",
    "        for subgenreEntry in data.get(x)[\"genrelist\"]:\n",
    "            \n",
    "            # clean data\n",
    "            subgenres = re.sub(r\"<a.*'>\", \"\", subgenreEntry)\n",
    "            subgenres = re.sub(r'</a>', \"\", subgenres)\n",
    "            subgenres = subgenres.replace('&amp','and')\n",
    "            subgenres = subgenres.replace(' \\'N\\'',' N')\n",
    "            \n",
    "            # find genres\n",
    "            subgenres = subgenres.split('/')\n",
    "            for subgenre in subgenres:\n",
    "                # add to map\n",
    "                genreTree[subgenre.strip(' ')] = genreName\n",
    "\n",
    "                \n",
    "genreTree"
   ]
  },
  {
   "cell_type": "code",
   "execution_count": 68,
   "metadata": {},
   "outputs": [],
   "source": [
    "# We map some genre ourselves as they were not displayed in the CSV, which are folk, classical and funk\n",
    "genreTree['CLASSICAL'] = 'CLASSICAL'\n",
    "genreTree['FUNK'] = 'FUNK'\n",
    "genreTree['FOLK'] = 'FOLK'"
   ]
  },
  {
   "cell_type": "markdown",
   "metadata": {},
   "source": [
    "Now we can reduce all genres to a few main genres. Let's see how the genres from both data sources match:"
   ]
  },
  {
   "cell_type": "code",
   "execution_count": 69,
   "metadata": {},
   "outputs": [],
   "source": [
    "# create a dict in order to identify how frequently the genres are used\n",
    "dicoGenre = {}\n",
    "for elem in genreTree.keys():\n",
    "    if(dicoGenre.get(genreTree[elem]) is None):\n",
    "        dicoGenre[genreTree[elem]]=0"
   ]
  },
  {
   "cell_type": "code",
   "execution_count": 86,
   "metadata": {
    "scrolled": true
   },
   "outputs": [
    {
     "name": "stdout",
     "output_type": "stream",
     "text": [
      "Echo Nest Terms\n",
      "3528147\n",
      "1166860\n",
      "matching is  75.14678891852557  %\n"
     ]
    }
   ],
   "source": [
    "# Check how good the genre dict performs on both genre lists\n",
    "#*cnt_hit = 0\n",
    "#cnt_miss = 0\n",
    "#print (\"Mbtags\")\n",
    "\n",
    "#for songGenres in normalized_df['ArtistMbtags']:\n",
    " #   for genre in songGenres:\n",
    "#      if str(genre).upper() in genreTree.keys():\n",
    "   #         cnt_hit += 1\n",
    "    #    else:\n",
    "     #       cnt_miss += 1\n",
    "\n",
    "#print (cnt_hit)\n",
    "#print (cnt_miss)\n",
    "\n",
    "cnt_hit = 0\n",
    "cnt_miss = 0\n",
    "notMatched = {}\n",
    "# performed better, so check number of songs per genre\n",
    "print (\"Echo Nest Terms\")\n",
    "\n",
    "for songGenres in normalized_df['ArtistTerms']:\n",
    "    for genre in songGenres:\n",
    "        genre = genre.replace('\\'n','n')\n",
    "        if(genre=='hip hop'):\n",
    "            genre = 'hip-hopmusic'\n",
    "        if str(genre).upper() in genreTree.keys():\n",
    "            # perfect match, add to dict\n",
    "            mainParentG = genreTree[genre.upper()]\n",
    "            dicoGenre[mainParentG] += 1\n",
    "            cnt_hit += 1\n",
    "        else:\n",
    "            # search if substring is contained \n",
    "            isGood = False\n",
    "            genre = genre.replace('-',' ')\n",
    "            genreSplit = genre.split(' ')\n",
    "            for elem in genreSplit:\n",
    "                ##Here some exception that we can make hardmatch\n",
    "                #R&B is clearly r&b so match to nu soul which is r&b\n",
    "                if(elem==\"r&b\"):\n",
    "                    elem = \"nu soul\"\n",
    "                #Assyme electronic is breakbeat music\n",
    "                if(elem==\"electronic\"):\n",
    "                    elem = \"electro\"\n",
    "                if(elem==\"funk\"):\n",
    "                    #What to do there are 76000 elem that have funk\n",
    "                    elem = elem\n",
    "                #Soul is assumed to be r&b so match to deep soul\n",
    "                if(elem==\"soul\"):\n",
    "                    elem = \"deep soul\"\n",
    "                if(elem==\"europop\"):\n",
    "                    elem = \"pop\"\n",
    "                if str(elem).upper() in genreTree.keys() and (not str(elem).upper()=='MUSIC'):\n",
    "                    # substring matched\n",
    "                    mainParentG = genreTree[elem.upper()]\n",
    "                    dicoGenre[mainParentG] +=1\n",
    "                    cnt_hit +=1\n",
    "                    isGood = True\n",
    "                    break\n",
    "            if (not isGood):\n",
    "                # not substring found\n",
    "                if(elem not in notMatched):\n",
    "                    temp = dict({elem:1})\n",
    "                    notMatched.update(temp)\n",
    "                else:\n",
    "                    notMatched[elem] = notMatched[elem]+1\n",
    "                cnt_miss +=1\n",
    "\n",
    "print (cnt_hit)\n",
    "print (cnt_miss)\n",
    "print(\"matching is \", cnt_hit/(cnt_hit+cnt_miss)*100 ,\" %\")\n",
    "#print (dicoGenre)"
   ]
  },
  {
   "cell_type": "markdown",
   "metadata": {},
   "source": [
    "We have a 60.9% matching for terms, only unknow genre are not hited by the filter that we do not want to analyse.\n",
    "We can dedcide later if we want to introduce this or another filter but we keep this one for the moment\n",
    "For the dictionnary it needs some reworks, as we can add a several time the same tag to a song ( if it has rock and pop rock and hard rock tags for example )\n",
    "\n",
    "The top missing are the following :\n",
    "Vocalist : 80129\n",
    "States : 77963\n",
    "experimental : 65454\n",
    "music : 57580\n",
    "acoustic: 56557\n",
    "american: 53547\n",
    "guitar: 50927\n",
    "germany: 50579"
   ]
  },
  {
   "cell_type": "markdown",
   "metadata": {},
   "source": [
    "## Manipulation on some of the columns"
   ]
  },
  {
   "cell_type": "markdown",
   "metadata": {},
   "source": [
    "Here we do some feature extraction, features normalization was done before, and some fetching of other datas from other API"
   ]
  },
  {
   "cell_type": "markdown",
   "metadata": {},
   "source": [
    "First we will create an additional column for the confidence features to process them more easy in the future."
   ]
  },
  {
   "cell_type": "code",
   "execution_count": 68,
   "metadata": {
    "collapsed": true
   },
   "outputs": [],
   "source": [
    "normalized_df['SongTimeWithConfidence'] = df['SongTimeSignature']*df['SongTimeSignatureConfidence']"
   ]
  },
  {
   "cell_type": "code",
   "execution_count": 69,
   "metadata": {
    "collapsed": true
   },
   "outputs": [],
   "source": [
    "normalized_df['SongKeyWithConfidence'] = df['SongKey']*df['SongKeyConfidence']"
   ]
  },
  {
   "cell_type": "code",
   "execution_count": 70,
   "metadata": {},
   "outputs": [
    {
     "data": {
      "text/html": [
       "<div>\n",
       "<table border=\"1\" class=\"dataframe\">\n",
       "  <thead>\n",
       "    <tr style=\"text-align: right;\">\n",
       "      <th></th>\n",
       "      <th>SongTitle</th>\n",
       "      <th>ArtistID</th>\n",
       "      <th>ArtistName</th>\n",
       "      <th>ArtistLatitude</th>\n",
       "      <th>ArtistLongitude</th>\n",
       "      <th>ArtistMbtags</th>\n",
       "      <th>ArtistTerms</th>\n",
       "      <th>ArtistHotness</th>\n",
       "      <th>Duration</th>\n",
       "      <th>SongKey</th>\n",
       "      <th>...</th>\n",
       "      <th>SongHotness</th>\n",
       "      <th>SongTempo</th>\n",
       "      <th>SongYear</th>\n",
       "      <th>SongKeyConfidence</th>\n",
       "      <th>ArtistLocation</th>\n",
       "      <th>SongTimeSignature</th>\n",
       "      <th>SongTimeSignatureConfidence</th>\n",
       "      <th>SongYearNorm</th>\n",
       "      <th>SongTimeWithConfidence</th>\n",
       "      <th>SongKeyWithConfidence</th>\n",
       "    </tr>\n",
       "    <tr>\n",
       "      <th>track_id</th>\n",
       "      <th></th>\n",
       "      <th></th>\n",
       "      <th></th>\n",
       "      <th></th>\n",
       "      <th></th>\n",
       "      <th></th>\n",
       "      <th></th>\n",
       "      <th></th>\n",
       "      <th></th>\n",
       "      <th></th>\n",
       "      <th></th>\n",
       "      <th></th>\n",
       "      <th></th>\n",
       "      <th></th>\n",
       "      <th></th>\n",
       "      <th></th>\n",
       "      <th></th>\n",
       "      <th></th>\n",
       "      <th></th>\n",
       "      <th></th>\n",
       "      <th></th>\n",
       "    </tr>\n",
       "  </thead>\n",
       "  <tbody>\n",
       "    <tr>\n",
       "      <th>TRAAARJ128F9320760</th>\n",
       "      <td>Pink World</td>\n",
       "      <td>AR8ZCNI1187B9A069B</td>\n",
       "      <td>Planet P Project</td>\n",
       "      <td>NaN</td>\n",
       "      <td>NaN</td>\n",
       "      <td>[]</td>\n",
       "      <td>[new wave, progressive rock, space rock, eurod...</td>\n",
       "      <td>0.332276</td>\n",
       "      <td>269.81832</td>\n",
       "      <td>4</td>\n",
       "      <td>...</td>\n",
       "      <td>0.265861</td>\n",
       "      <td>86.643</td>\n",
       "      <td>1984</td>\n",
       "      <td>0</td>\n",
       "      <td>0</td>\n",
       "      <td>0</td>\n",
       "      <td>0</td>\n",
       "      <td>0.696629</td>\n",
       "      <td>0</td>\n",
       "      <td>0</td>\n",
       "    </tr>\n",
       "    <tr>\n",
       "      <th>TRAAAAK128F9318786</th>\n",
       "      <td>Scream</td>\n",
       "      <td>ARJNIUY12298900C91</td>\n",
       "      <td>Adelitas Way</td>\n",
       "      <td>NaN</td>\n",
       "      <td>NaN</td>\n",
       "      <td>[]</td>\n",
       "      <td>[alternative metal, heavy metal, rock, alterna...</td>\n",
       "      <td>0.461318</td>\n",
       "      <td>213.94240</td>\n",
       "      <td>1</td>\n",
       "      <td>...</td>\n",
       "      <td>0.733372</td>\n",
       "      <td>99.944</td>\n",
       "      <td>2009</td>\n",
       "      <td>0</td>\n",
       "      <td>0</td>\n",
       "      <td>0</td>\n",
       "      <td>0</td>\n",
       "      <td>0.977528</td>\n",
       "      <td>0</td>\n",
       "      <td>0</td>\n",
       "    </tr>\n",
       "    <tr>\n",
       "      <th>TRAAAQO12903CD8E1C</th>\n",
       "      <td>Take Time</td>\n",
       "      <td>AR5LMPY1187FB573FE</td>\n",
       "      <td>Chaka Khan_ Rufus</td>\n",
       "      <td>41.88415</td>\n",
       "      <td>-87.63241</td>\n",
       "      <td>[classic pop and rock]</td>\n",
       "      <td>[r&amp;b, disco, funk, motown, freestyle, quiet st...</td>\n",
       "      <td>0.398984</td>\n",
       "      <td>258.89914</td>\n",
       "      <td>1</td>\n",
       "      <td>...</td>\n",
       "      <td>0.254279</td>\n",
       "      <td>110.325</td>\n",
       "      <td>1978</td>\n",
       "      <td>0</td>\n",
       "      <td>0</td>\n",
       "      <td>0</td>\n",
       "      <td>0</td>\n",
       "      <td>0.629213</td>\n",
       "      <td>0</td>\n",
       "      <td>0</td>\n",
       "    </tr>\n",
       "    <tr>\n",
       "      <th>TRAAAAV128F421A322</th>\n",
       "      <td>A Poor Recipe For Civic Cohesion</td>\n",
       "      <td>AR73AIO1187B9AD57B</td>\n",
       "      <td>Western Addiction</td>\n",
       "      <td>37.77916</td>\n",
       "      <td>-122.42005</td>\n",
       "      <td>[]</td>\n",
       "      <td>[melodic hardcore, skate punk, hardcore punk, ...</td>\n",
       "      <td>0.386606</td>\n",
       "      <td>118.07302</td>\n",
       "      <td>7</td>\n",
       "      <td>...</td>\n",
       "      <td>0.481694</td>\n",
       "      <td>125.475</td>\n",
       "      <td>2005</td>\n",
       "      <td>0</td>\n",
       "      <td>0</td>\n",
       "      <td>0</td>\n",
       "      <td>0</td>\n",
       "      <td>0.932584</td>\n",
       "      <td>0</td>\n",
       "      <td>0</td>\n",
       "    </tr>\n",
       "    <tr>\n",
       "      <th>TRAAAUR128F428B1FA</th>\n",
       "      <td>Smash It Up</td>\n",
       "      <td>AR0MWD61187B9B2B12</td>\n",
       "      <td>International Noise Conspiracy</td>\n",
       "      <td>NaN</td>\n",
       "      <td>NaN</td>\n",
       "      <td>[]</td>\n",
       "      <td>[ska punk, garage rock, post-hardcore, garage ...</td>\n",
       "      <td>0.414283</td>\n",
       "      <td>195.39546</td>\n",
       "      <td>0</td>\n",
       "      <td>...</td>\n",
       "      <td>0.767829</td>\n",
       "      <td>148.957</td>\n",
       "      <td>2000</td>\n",
       "      <td>0</td>\n",
       "      <td>0</td>\n",
       "      <td>0</td>\n",
       "      <td>0</td>\n",
       "      <td>0.876404</td>\n",
       "      <td>0</td>\n",
       "      <td>0</td>\n",
       "    </tr>\n",
       "  </tbody>\n",
       "</table>\n",
       "<p>5 rows × 21 columns</p>\n",
       "</div>"
      ],
      "text/plain": [
       "                                            SongTitle             ArtistID  \\\n",
       "track_id                                                                     \n",
       "TRAAARJ128F9320760                         Pink World   AR8ZCNI1187B9A069B   \n",
       "TRAAAAK128F9318786                             Scream   ARJNIUY12298900C91   \n",
       "TRAAAQO12903CD8E1C                          Take Time   AR5LMPY1187FB573FE   \n",
       "TRAAAAV128F421A322   A Poor Recipe For Civic Cohesion   AR73AIO1187B9AD57B   \n",
       "TRAAAUR128F428B1FA                        Smash It Up   AR0MWD61187B9B2B12   \n",
       "\n",
       "                                         ArtistName  ArtistLatitude  \\\n",
       "track_id                                                              \n",
       "TRAAARJ128F9320760                 Planet P Project             NaN   \n",
       "TRAAAAK128F9318786                     Adelitas Way             NaN   \n",
       "TRAAAQO12903CD8E1C                Chaka Khan_ Rufus        41.88415   \n",
       "TRAAAAV128F421A322                Western Addiction        37.77916   \n",
       "TRAAAUR128F428B1FA   International Noise Conspiracy             NaN   \n",
       "\n",
       "                    ArtistLongitude            ArtistMbtags  \\\n",
       "track_id                                                      \n",
       "TRAAARJ128F9320760              NaN                      []   \n",
       "TRAAAAK128F9318786              NaN                      []   \n",
       "TRAAAQO12903CD8E1C        -87.63241  [classic pop and rock]   \n",
       "TRAAAAV128F421A322       -122.42005                      []   \n",
       "TRAAAUR128F428B1FA              NaN                      []   \n",
       "\n",
       "                                                          ArtistTerms  \\\n",
       "track_id                                                                \n",
       "TRAAARJ128F9320760  [new wave, progressive rock, space rock, eurod...   \n",
       "TRAAAAK128F9318786  [alternative metal, heavy metal, rock, alterna...   \n",
       "TRAAAQO12903CD8E1C  [r&b, disco, funk, motown, freestyle, quiet st...   \n",
       "TRAAAAV128F421A322  [melodic hardcore, skate punk, hardcore punk, ...   \n",
       "TRAAAUR128F428B1FA  [ska punk, garage rock, post-hardcore, garage ...   \n",
       "\n",
       "                    ArtistHotness   Duration  SongKey          ...            \\\n",
       "track_id                                                       ...             \n",
       "TRAAARJ128F9320760       0.332276  269.81832        4          ...             \n",
       "TRAAAAK128F9318786       0.461318  213.94240        1          ...             \n",
       "TRAAAQO12903CD8E1C       0.398984  258.89914        1          ...             \n",
       "TRAAAAV128F421A322       0.386606  118.07302        7          ...             \n",
       "TRAAAUR128F428B1FA       0.414283  195.39546        0          ...             \n",
       "\n",
       "                    SongHotness  SongTempo  SongYear  SongKeyConfidence  \\\n",
       "track_id                                                                  \n",
       "TRAAARJ128F9320760     0.265861     86.643      1984                  0   \n",
       "TRAAAAK128F9318786     0.733372     99.944      2009                  0   \n",
       "TRAAAQO12903CD8E1C     0.254279    110.325      1978                  0   \n",
       "TRAAAAV128F421A322     0.481694    125.475      2005                  0   \n",
       "TRAAAUR128F428B1FA     0.767829    148.957      2000                  0   \n",
       "\n",
       "                    ArtistLocation  SongTimeSignature  \\\n",
       "track_id                                                \n",
       "TRAAARJ128F9320760               0                  0   \n",
       "TRAAAAK128F9318786               0                  0   \n",
       "TRAAAQO12903CD8E1C               0                  0   \n",
       "TRAAAAV128F421A322               0                  0   \n",
       "TRAAAUR128F428B1FA               0                  0   \n",
       "\n",
       "                    SongTimeSignatureConfidence  SongYearNorm  \\\n",
       "track_id                                                        \n",
       "TRAAARJ128F9320760                            0      0.696629   \n",
       "TRAAAAK128F9318786                            0      0.977528   \n",
       "TRAAAQO12903CD8E1C                            0      0.629213   \n",
       "TRAAAAV128F421A322                            0      0.932584   \n",
       "TRAAAUR128F428B1FA                            0      0.876404   \n",
       "\n",
       "                    SongTimeWithConfidence  SongKeyWithConfidence  \n",
       "track_id                                                           \n",
       "TRAAARJ128F9320760                       0                      0  \n",
       "TRAAAAK128F9318786                       0                      0  \n",
       "TRAAAQO12903CD8E1C                       0                      0  \n",
       "TRAAAAV128F421A322                       0                      0  \n",
       "TRAAAUR128F428B1FA                       0                      0  \n",
       "\n",
       "[5 rows x 21 columns]"
      ]
     },
     "execution_count": 70,
     "metadata": {},
     "output_type": "execute_result"
    }
   ],
   "source": [
    "normalized_df.head()"
   ]
  },
  {
   "cell_type": "markdown",
   "metadata": {},
   "source": [
    "## Concerning Spotify API\n",
    "We tried to get some data from Spotify [Spotify Python API](https://github.com/plamere/spotipy), but due to the time it takes (3 request/s, 1h to fetch what we want for only the subset) we decided not to parse anything from it unfortunately, a portion of code is still described below to see that we actually tried it."
   ]
  },
  {
   "cell_type": "code",
   "execution_count": 71,
   "metadata": {
    "collapsed": true
   },
   "outputs": [],
   "source": [
    "#token = 'BQAu-KsyKpk7NBP-1ZGCNa-RoHNak0ZNAr3l3mi2In0mLy0o71LAl5OycY1h3K5S8INBp0kvic2lgRFESxry3EW4m7PUfFQZp5dAeSLSgpNs25xfNJbs_KJkuTEChlptb8ZtYF2NiGY4'\n",
    "#sp = spotipy.Spotify(token)\n",
    "\n",
    "def spotiAPI(name):\n",
    "    results = sp.search(q=name, limit=1)\n",
    "    idd = results['tracks']['items'][0]['artists'][0]['id']\n",
    "    resultArt = sp.artist(idd)\n",
    "    #time.sleep(0.02)\n",
    "    print(resultArt['followers']['total'])\n",
    "    return resultArt['followers']['total']"
   ]
  },
  {
   "cell_type": "code",
   "execution_count": 72,
   "metadata": {
    "collapsed": true
   },
   "outputs": [],
   "source": [
    "#normalized_df['ArtistFollower'] = df.ArtistName.apply(lambda x : spotiAPI(x))"
   ]
  },
  {
   "cell_type": "markdown",
   "metadata": {
    "collapsed": true
   },
   "source": [
    "## Updated Plan"
   ]
  },
  {
   "cell_type": "markdown",
   "metadata": {},
   "source": [
    "### Gained Knowledge\n",
    "\n",
    "\n",
    "We did some manipulation from raw datas, we actually get interesting result. The normalization of the year will help our analysis notably in ML functions.\n",
    "We were also able to construct another dataframe that treats Artists and not songs, to do stats on artist in addition of songs.\n",
    "The genre matching is not quite what we wanted for the moment, but we have some results, it can be improved to have a general genre/subgenre matching. We do not want to reduce it too much to avoid merging things that cannot be compared.\n",
    "We also noticed that few of our features are strongly correlated, **but no real knowledge was acquire because we used 1% of the dataset**\n"
   ]
  },
  {
   "cell_type": "markdown",
   "metadata": {},
   "source": [
    "### Methods for the future\n",
    "\n",
    "** Use cluster and full data set, redo analysis **  \n",
    "\n",
    "* Which features did change (e.g. bpm, beats)?\n",
    "To have a general view of how song that are released nowadays change from previous one, if the music has evolved in a good way, bad way (quite personnal feeling though) or even neutral but with positive/negative impact\n",
    "   * Calculate features aggregated by year, plot time series (with error bars)\n",
    "   * Can we see a major change of one features over the years?\n",
    "  \n",
    "  \n",
    "* How did genres change (e.g. popularity, features of specific genres, higher variance)?\n",
    "We can link genre Evolution to time period in \n",
    "    * Create data frame for each genre with songs of genre\n",
    "    * Plot number of songs per year\n",
    "    * Redo question one for features\n",
    "    * Plot chart which shows span of features per year\n",
    "    * Look at subgenres?\n",
    "  \n",
    "  \n",
    "* How did the distribution of music change (e.g. change of number of genres, variance of features)?\n",
    "Here we can get some interting result with distribution that could be used for the final blog post if rendered well, as our main goal is to look at the evolution of music, so find a way such as colorMap or any structure tat is nice but also quite easy to read to get the results.\n",
    "    * Plot chart that shows the numer of features per year\n",
    "    * Plot chart which shows genre distribution (number of songs per genre) over time\n",
    "  \n",
    "  \n",
    "* Train classifier for genre on recent songs.\n",
    "So to be a little bit more precise, try to classify song with date > 2000, thanks to the features, using a classifier ( K-NN or Random forest still need to decide which it is not binary classification here as there are more than 2 genres) and then try to fit the older songs to see if they would be classified in the correct genre list.\n",
    "This result can be used to see if the change in music features has a real impact on what genre it could be classified in or even if the genre itself changed ( introduction of new subgenre or even genre apparition --> ex : Dubstep)\n",
    "    * Apply it to old songs\n",
    "    * Evaluate the results\n",
    "  \n",
    "#### Things we consider but will not implement for the final results are: (only two team members left)\n",
    "* Which songs from the past are still trending (why)?\n",
    "* How did song titles (artist names) change over time?\n",
    "* Where did (which) songs get released at which time (do dependencies exist between similar Songs)?\n",
    "  \n",
    "  \n",
    "Other interesting analysis:\n",
    "* Run unsupervised clustering\n",
    "    * compare clusters to genres\n",
    "* Compare song and artist name with codec by hashing to get Jacardian distance to get similar song artist name and compare with hotness and other parameters. Maybe even cluster the one close to each other to get another clustering way\n"
   ]
  },
  {
   "cell_type": "markdown",
   "metadata": {},
   "source": [
    "# From here Things for Milestone 3"
   ]
  },
  {
   "cell_type": "markdown",
   "metadata": {},
   "source": [
    "Music is a form of art, and a cultural activity that have been practiced since prehistoric time. Nowadays it is everywhere, and seems inseparable from our life-style, as even humming or hitting an object with your finger makes \"music\".  \n",
    "The evolution of this field is thus a really intersting subject to study. It is linked to cultural movement in history, such as the 80's with hippies movement for example but also architecture ([Baroque](https://en.wikipedia.org/wiki/Baroque_music)) or religion ([Jean-Sébastien Bach](https://en.wikipedia.org/wiki/Johann_Sebastian_Bach) was indeed doing muisc link to religion). This can help us understand how music evolves with the time with how events and movement influence it, but also how music affects these different things. \n",
    "\n",
    "It has also become a big industry, with the apparition of the term \"commercial music\", and interest more and more people, [for example this video](https://www.youtube.com/watch?v=lExW80sXsHs), that collected more than 100 millions views.  \n",
    "In this study we will concentrate on music from the 20th century and beginning of 21th century, and we will try to awnser the following questions:\n",
    "    \n",
    "   * How did music features change during the last 80 years, in terms of duration, style, or even rythm ?  \n",
    "    \n",
    "   * What makes a Song popular a few years ago, what make one popular today, and is the formula for a popular song possible to elaborate ?\n",
    "   \n",
    "We will try to awnser these questions as much as possible in the following lines, with keeping in mind that evolution is a neutral term, and also that popularity is quite subjective."
   ]
  },
  {
   "cell_type": "markdown",
   "metadata": {},
   "source": [
    "### Create Dataframes for each Genre"
   ]
  },
  {
   "cell_type": "markdown",
   "metadata": {},
   "source": [
    "#### Without Genre Processing"
   ]
  },
  {
   "cell_type": "code",
   "execution_count": 80,
   "metadata": {
    "scrolled": true
   },
   "outputs": [
    {
     "ename": "KeyboardInterrupt",
     "evalue": "",
     "output_type": "error",
     "traceback": [
      "\u001b[1;31m\u001b[0m",
      "\u001b[1;31mKeyboardInterrupt\u001b[0mTraceback (most recent call last)",
      "\u001b[1;32m<ipython-input-80-431b5edb0fbd>\u001b[0m in \u001b[0;36m<module>\u001b[1;34m()\u001b[0m\n\u001b[0;32m     22\u001b[0m     \u001b[1;32mreturn\u001b[0m \u001b[0msongs_genre\u001b[0m\u001b[1;33m\u001b[0m\u001b[0m\n\u001b[0;32m     23\u001b[0m \u001b[1;33m\u001b[0m\u001b[0m\n\u001b[1;32m---> 24\u001b[1;33m \u001b[0msongs_genre_terms\u001b[0m \u001b[1;33m=\u001b[0m \u001b[0mget_songs_genre\u001b[0m\u001b[1;33m(\u001b[0m\u001b[1;34m\"ArtistTerms\"\u001b[0m\u001b[1;33m)\u001b[0m\u001b[1;33m\u001b[0m\u001b[0m\n\u001b[0m",
      "\u001b[1;32m<ipython-input-80-431b5edb0fbd>\u001b[0m in \u001b[0;36mget_songs_genre\u001b[1;34m(genre_column)\u001b[0m\n\u001b[0;32m      4\u001b[0m \u001b[1;33m\u001b[0m\u001b[0m\n\u001b[0;32m      5\u001b[0m     \u001b[1;32mfor\u001b[0m \u001b[0mgenres\u001b[0m \u001b[1;32min\u001b[0m \u001b[0mnormalized_df\u001b[0m\u001b[1;33m[\u001b[0m\u001b[0mgenre_column\u001b[0m\u001b[1;33m]\u001b[0m\u001b[1;33m:\u001b[0m\u001b[1;33m\u001b[0m\u001b[0m\n\u001b[1;32m----> 6\u001b[1;33m         \u001b[0mset_genre\u001b[0m \u001b[1;33m=\u001b[0m \u001b[0mset_genre\u001b[0m \u001b[1;33m|\u001b[0m \u001b[0mset\u001b[0m\u001b[1;33m(\u001b[0m\u001b[0mgenres\u001b[0m\u001b[1;33m)\u001b[0m\u001b[1;33m\u001b[0m\u001b[0m\n\u001b[0m\u001b[0;32m      7\u001b[0m \u001b[1;33m\u001b[0m\u001b[0m\n\u001b[0;32m      8\u001b[0m     \u001b[0mprint\u001b[0m \u001b[1;33m(\u001b[0m\u001b[1;34m\"Unique terms: {}\"\u001b[0m\u001b[1;33m.\u001b[0m\u001b[0mformat\u001b[0m\u001b[1;33m(\u001b[0m\u001b[0mlen\u001b[0m\u001b[1;33m(\u001b[0m\u001b[0mset_genre\u001b[0m\u001b[1;33m)\u001b[0m\u001b[1;33m)\u001b[0m\u001b[1;33m)\u001b[0m\u001b[1;33m\u001b[0m\u001b[0m\n",
      "\u001b[1;31mKeyboardInterrupt\u001b[0m: "
     ]
    }
   ],
   "source": [
    "def get_songs_genre(genre_column):\n",
    "\n",
    "    set_genre = set()\n",
    "\n",
    "    for genres in normalized_df[genre_column]:\n",
    "        set_genre = set_genre | set(genres)\n",
    "\n",
    "    print (\"Unique terms: {}\".format(len(set_genre)))\n",
    "\n",
    "    # Init dict with songs per genre\n",
    "    songs_genre = {}\n",
    "    for genre in set_genre:\n",
    "        songs_genre[genre] = pd.DataFrame([], columns=['ArtistID','ArtistName','SongYear','SongID','SongDanceability','Duration','SongHotness',\\\n",
    "                                     'SongTitle','SongTempo','SongTimeSignature','SongTimeSignatureConfidence','ArtistMbtags',\\\n",
    "                                     'ArtistTerms','ArtistLocation','ArtistLatitude','ArtistLongitude',\\\n",
    "                                     'SongKey', 'SongKeyConfidence', 'SongEnergy', 'SongLoudness','ArtistHotness'])\n",
    "\n",
    "    iteration = 0\n",
    "    for index, song in normalized_df.iterrows():\n",
    "        if iteration % 1000 == 0:\n",
    "            print (iteration)\n",
    "        iteration += 1\n",
    "        for genre in song[genre_column]:\n",
    "            songs_genre[genre].loc[index] = song\n",
    "    return songs_genre\n",
    "\n",
    "songs_genre_terms = get_songs_genre(\"ArtistTerms\")"
   ]
  },
  {
   "cell_type": "code",
   "execution_count": null,
   "metadata": {},
   "outputs": [],
   "source": [
    "songs_genre_terms_num = { x: songs_genre_terms[x].shape[0] for x in songs_genre_terms.keys() }\n",
    "top_genres = sorted(songs_genre_terms_num, key=songs_genre_terms_num.get, reverse=True)[:5]\n",
    "top_genres"
   ]
  },
  {
   "cell_type": "markdown",
   "metadata": {},
   "source": [
    "#### Analyse these Dataframes"
   ]
  },
  {
   "cell_type": "code",
   "execution_count": null,
   "metadata": {
    "scrolled": false
   },
   "outputs": [],
   "source": [
    "for g in top_genres:\n",
    "    print (g)\n",
    "    print_time_statistics(resample_df(songs_genre_terms[g]))"
   ]
  },
  {
   "cell_type": "markdown",
   "metadata": {},
   "source": [
    "#### With Genre Processing"
   ]
  },
  {
   "cell_type": "code",
   "execution_count": null,
   "metadata": {
    "collapsed": true
   },
   "outputs": [],
   "source": [
    "def extract_parent_genres(genres):\n",
    "    genres_parent = []\n",
    "    for genre in genres:\n",
    "        #print(genre)\n",
    "        if(genre is not None):\n",
    "            key = genre.upper()\n",
    "        if key in genreTree.keys():\n",
    "            if genreTree.get(key) not in genres_parent:\n",
    "                genres_parent.append(genreTree.get(key))\n",
    "        else:\n",
    "            pass\n",
    "    return genres_parent"
   ]
  },
  {
   "cell_type": "code",
   "execution_count": null,
   "metadata": {
    "scrolled": true
   },
   "outputs": [],
   "source": [
    "normalized_df[\"ParentGenres\"] = normalized_df.ArtistTerms.apply(lambda x : extract_parent_genres(x))\n",
    "set_genre_parent = get_songs_genre(\"ParentGenres\")\n",
    "for genre in set_genre_parent:\n",
    "    print (\"Genre {} has {} songs.\".format(genre, set_genre_parent[genre].shape[0]))"
   ]
  },
  {
   "cell_type": "code",
   "execution_count": 76,
   "metadata": {},
   "outputs": [
    {
     "name": "stderr",
     "output_type": "stream",
     "text": [
      "C:\\Users\\Max-Pc\\Anaconda3\\lib\\site-packages\\numpy\\lib\\function_base.py:3834: RuntimeWarning: Invalid value encountered in percentile\n",
      "  RuntimeWarning)\n"
     ]
    },
    {
     "data": {
      "text/html": [
       "<div>\n",
       "<table border=\"1\" class=\"dataframe\">\n",
       "  <thead>\n",
       "    <tr style=\"text-align: right;\">\n",
       "      <th></th>\n",
       "      <th>ArtistLatitude</th>\n",
       "      <th>ArtistLongitude</th>\n",
       "      <th>ArtistHotness</th>\n",
       "      <th>Duration</th>\n",
       "      <th>SongKey</th>\n",
       "      <th>SongLoudness</th>\n",
       "      <th>SongHotness</th>\n",
       "      <th>SongTempo</th>\n",
       "      <th>SongYear</th>\n",
       "      <th>SongKeyConfidence</th>\n",
       "      <th>ArtistLocation</th>\n",
       "      <th>SongTimeSignature</th>\n",
       "      <th>SongTimeSignatureConfidence</th>\n",
       "      <th>SongYearNorm</th>\n",
       "      <th>SongTimeWithConfidence</th>\n",
       "      <th>SongKeyWithConfidence</th>\n",
       "    </tr>\n",
       "  </thead>\n",
       "  <tbody>\n",
       "    <tr>\n",
       "      <th>count</th>\n",
       "      <td>82900.000000</td>\n",
       "      <td>82900.000000</td>\n",
       "      <td>229052.000000</td>\n",
       "      <td>229054.000000</td>\n",
       "      <td>229054.000000</td>\n",
       "      <td>229054.000000</td>\n",
       "      <td>153432.000000</td>\n",
       "      <td>229054.000000</td>\n",
       "      <td>229054.000000</td>\n",
       "      <td>229054.0</td>\n",
       "      <td>229054.0</td>\n",
       "      <td>229054.0</td>\n",
       "      <td>229054.0</td>\n",
       "      <td>229054.000000</td>\n",
       "      <td>229054.0</td>\n",
       "      <td>229054.0</td>\n",
       "    </tr>\n",
       "    <tr>\n",
       "      <th>mean</th>\n",
       "      <td>39.963376</td>\n",
       "      <td>-54.527918</td>\n",
       "      <td>0.417123</td>\n",
       "      <td>243.353421</td>\n",
       "      <td>5.321033</td>\n",
       "      <td>-9.544769</td>\n",
       "      <td>0.432176</td>\n",
       "      <td>124.303870</td>\n",
       "      <td>1998.330957</td>\n",
       "      <td>0.0</td>\n",
       "      <td>0.0</td>\n",
       "      <td>0.0</td>\n",
       "      <td>0.0</td>\n",
       "      <td>0.857651</td>\n",
       "      <td>0.0</td>\n",
       "      <td>0.0</td>\n",
       "    </tr>\n",
       "    <tr>\n",
       "      <th>std</th>\n",
       "      <td>15.622331</td>\n",
       "      <td>55.847716</td>\n",
       "      <td>0.109107</td>\n",
       "      <td>88.612165</td>\n",
       "      <td>3.596282</td>\n",
       "      <td>4.717646</td>\n",
       "      <td>0.214265</td>\n",
       "      <td>32.577068</td>\n",
       "      <td>10.990910</td>\n",
       "      <td>0.0</td>\n",
       "      <td>0.0</td>\n",
       "      <td>0.0</td>\n",
       "      <td>0.0</td>\n",
       "      <td>0.123493</td>\n",
       "      <td>0.0</td>\n",
       "      <td>0.0</td>\n",
       "    </tr>\n",
       "    <tr>\n",
       "      <th>min</th>\n",
       "      <td>-51.800580</td>\n",
       "      <td>-159.540540</td>\n",
       "      <td>0.000000</td>\n",
       "      <td>60.002810</td>\n",
       "      <td>0.000000</td>\n",
       "      <td>-34.997000</td>\n",
       "      <td>0.000000</td>\n",
       "      <td>25.484000</td>\n",
       "      <td>1922.000000</td>\n",
       "      <td>0.0</td>\n",
       "      <td>0.0</td>\n",
       "      <td>0.0</td>\n",
       "      <td>0.0</td>\n",
       "      <td>0.000000</td>\n",
       "      <td>0.0</td>\n",
       "      <td>0.0</td>\n",
       "    </tr>\n",
       "    <tr>\n",
       "      <th>25%</th>\n",
       "      <td>NaN</td>\n",
       "      <td>NaN</td>\n",
       "      <td>NaN</td>\n",
       "      <td>185.181590</td>\n",
       "      <td>2.000000</td>\n",
       "      <td>-12.027000</td>\n",
       "      <td>NaN</td>\n",
       "      <td>99.202000</td>\n",
       "      <td>1994.000000</td>\n",
       "      <td>0.0</td>\n",
       "      <td>0.0</td>\n",
       "      <td>0.0</td>\n",
       "      <td>0.0</td>\n",
       "      <td>0.808989</td>\n",
       "      <td>0.0</td>\n",
       "      <td>0.0</td>\n",
       "    </tr>\n",
       "    <tr>\n",
       "      <th>50%</th>\n",
       "      <td>NaN</td>\n",
       "      <td>NaN</td>\n",
       "      <td>NaN</td>\n",
       "      <td>230.295060</td>\n",
       "      <td>5.000000</td>\n",
       "      <td>-8.526000</td>\n",
       "      <td>NaN</td>\n",
       "      <td>122.428000</td>\n",
       "      <td>2002.000000</td>\n",
       "      <td>0.0</td>\n",
       "      <td>0.0</td>\n",
       "      <td>0.0</td>\n",
       "      <td>0.0</td>\n",
       "      <td>0.898876</td>\n",
       "      <td>0.0</td>\n",
       "      <td>0.0</td>\n",
       "    </tr>\n",
       "    <tr>\n",
       "      <th>75%</th>\n",
       "      <td>NaN</td>\n",
       "      <td>NaN</td>\n",
       "      <td>NaN</td>\n",
       "      <td>285.047710</td>\n",
       "      <td>9.000000</td>\n",
       "      <td>-6.087000</td>\n",
       "      <td>NaN</td>\n",
       "      <td>144.657000</td>\n",
       "      <td>2006.000000</td>\n",
       "      <td>0.0</td>\n",
       "      <td>0.0</td>\n",
       "      <td>0.0</td>\n",
       "      <td>0.0</td>\n",
       "      <td>0.943820</td>\n",
       "      <td>0.0</td>\n",
       "      <td>0.0</td>\n",
       "    </tr>\n",
       "    <tr>\n",
       "      <th>max</th>\n",
       "      <td>70.695760</td>\n",
       "      <td>175.471310</td>\n",
       "      <td>1.082503</td>\n",
       "      <td>599.979950</td>\n",
       "      <td>11.000000</td>\n",
       "      <td>3.634000</td>\n",
       "      <td>1.000000</td>\n",
       "      <td>219.999000</td>\n",
       "      <td>2011.000000</td>\n",
       "      <td>0.0</td>\n",
       "      <td>0.0</td>\n",
       "      <td>0.0</td>\n",
       "      <td>0.0</td>\n",
       "      <td>1.000000</td>\n",
       "      <td>0.0</td>\n",
       "      <td>0.0</td>\n",
       "    </tr>\n",
       "  </tbody>\n",
       "</table>\n",
       "</div>"
      ],
      "text/plain": [
       "       ArtistLatitude  ArtistLongitude  ArtistHotness       Duration  \\\n",
       "count    82900.000000     82900.000000  229052.000000  229054.000000   \n",
       "mean        39.963376       -54.527918       0.417123     243.353421   \n",
       "std         15.622331        55.847716       0.109107      88.612165   \n",
       "min        -51.800580      -159.540540       0.000000      60.002810   \n",
       "25%               NaN              NaN            NaN     185.181590   \n",
       "50%               NaN              NaN            NaN     230.295060   \n",
       "75%               NaN              NaN            NaN     285.047710   \n",
       "max         70.695760       175.471310       1.082503     599.979950   \n",
       "\n",
       "             SongKey   SongLoudness    SongHotness      SongTempo  \\\n",
       "count  229054.000000  229054.000000  153432.000000  229054.000000   \n",
       "mean        5.321033      -9.544769       0.432176     124.303870   \n",
       "std         3.596282       4.717646       0.214265      32.577068   \n",
       "min         0.000000     -34.997000       0.000000      25.484000   \n",
       "25%         2.000000     -12.027000            NaN      99.202000   \n",
       "50%         5.000000      -8.526000            NaN     122.428000   \n",
       "75%         9.000000      -6.087000            NaN     144.657000   \n",
       "max        11.000000       3.634000       1.000000     219.999000   \n",
       "\n",
       "            SongYear  SongKeyConfidence  ArtistLocation  SongTimeSignature  \\\n",
       "count  229054.000000           229054.0        229054.0           229054.0   \n",
       "mean     1998.330957                0.0             0.0                0.0   \n",
       "std        10.990910                0.0             0.0                0.0   \n",
       "min      1922.000000                0.0             0.0                0.0   \n",
       "25%      1994.000000                0.0             0.0                0.0   \n",
       "50%      2002.000000                0.0             0.0                0.0   \n",
       "75%      2006.000000                0.0             0.0                0.0   \n",
       "max      2011.000000                0.0             0.0                0.0   \n",
       "\n",
       "       SongTimeSignatureConfidence   SongYearNorm  SongTimeWithConfidence  \\\n",
       "count                     229054.0  229054.000000                229054.0   \n",
       "mean                           0.0       0.857651                     0.0   \n",
       "std                            0.0       0.123493                     0.0   \n",
       "min                            0.0       0.000000                     0.0   \n",
       "25%                            0.0       0.808989                     0.0   \n",
       "50%                            0.0       0.898876                     0.0   \n",
       "75%                            0.0       0.943820                     0.0   \n",
       "max                            0.0       1.000000                     0.0   \n",
       "\n",
       "       SongKeyWithConfidence  \n",
       "count               229054.0  \n",
       "mean                     0.0  \n",
       "std                      0.0  \n",
       "min                      0.0  \n",
       "25%                      0.0  \n",
       "50%                      0.0  \n",
       "75%                      0.0  \n",
       "max                      0.0  "
      ]
     },
     "execution_count": 76,
     "metadata": {},
     "output_type": "execute_result"
    }
   ],
   "source": [
    "normalized_df.describe()"
   ]
  },
  {
   "cell_type": "markdown",
   "metadata": {},
   "source": [
    "## Look at evolution of features"
   ]
  },
  {
   "cell_type": "code",
   "execution_count": 96,
   "metadata": {},
   "outputs": [],
   "source": [
    "df_year_tempo = normalized_df.groupby('SongYear')['SongYear','SongTempo'][]"
   ]
  },
  {
   "cell_type": "code",
   "execution_count": null,
   "metadata": {
    "scrolled": true
   },
   "outputs": [],
   "source": [
    "sns.set(color_codes=True)\n",
    "g = sns.regplot('SongYear','SongTempo',normalized_df[['SongYear','SongTempo']],x_estimator=np.median,order=80)\n",
    "g.figure.set_size_inches(18.5, 10.5)\n",
    "sns.despine()"
   ]
  },
  {
   "cell_type": "code",
   "execution_count": null,
   "metadata": {},
   "outputs": [],
   "source": []
  },
  {
   "cell_type": "markdown",
   "metadata": {},
   "source": [
    "Thanks to Seaborn, we can plot a scatter with fitting linear regression, so that we can see how the MEAN ( can do min, max , std difference between both, etc ) evolve in function of the year\n",
    "For the Tempo, we can see that in general the tempo from now is higher ( 10-20 BPM more ) than  before."
   ]
  },
  {
   "cell_type": "code",
   "execution_count": 106,
   "metadata": {},
   "outputs": [
    {
     "data": {
      "image/png": "[encoded data removed]",
      "text/plain": [
       "<matplotlib.figure.Figure at 0x23bf716ca20>"
      ]
     },
     "metadata": {},
     "output_type": "display_data"
    }
   ],
   "source": [
    "sns.set(color_codes=True)\n",
    "g = sns.regplot('SongYear','Duration',normalized_df[['SongYear','Duration']],x_estimator=np.mean)\n",
    "g.figure.set_size_inches(18.5, 10.5)\n",
    "sns.despine()"
   ]
  },
  {
   "cell_type": "markdown",
   "metadata": {},
   "source": [
    "Above exemple of what we can add in addition with different other functions"
   ]
  },
  {
   "cell_type": "code",
   "execution_count": 109,
   "metadata": {},
   "outputs": [
    {
     "data": {
      "text/plain": [
       "<matplotlib.axes._subplots.AxesSubplot at 0x1f3404c8ef0>"
      ]
     },
     "execution_count": 109,
     "metadata": {},
     "output_type": "execute_result"
    },
    {
     "data": {
      "image/png": "[encoded data removed]",
      "text/plain": [
       "<matplotlib.figure.Figure at 0x1f34034ce10>"
      ]
     },
     "metadata": {},
     "output_type": "display_data"
    }
   ],
   "source": [
    "df_year_loudness = normalized_df.groupby('SongYear')['SongYear','SongLoudness'].mean()\n",
    "sns.regplot('SongYear','SongLoudness',df_year_loudness)"
   ]
  },
  {
   "cell_type": "markdown",
   "metadata": {},
   "source": []
  },
  {
   "cell_type": "code",
   "execution_count": 110,
   "metadata": {},
   "outputs": [
    {
     "data": {
      "text/plain": [
       "<matplotlib.axes._subplots.AxesSubplot at 0x1f3400c5be0>"
      ]
     },
     "execution_count": 110,
     "metadata": {},
     "output_type": "execute_result"
    },
    {
     "data": {
      "image/png": "[encoded data removed]",
      "text/plain": [
       "<matplotlib.figure.Figure at 0x1f33fddf400>"
      ]
     },
     "metadata": {},
     "output_type": "display_data"
    }
   ],
   "source": [
    "normalized_df[['SongYear','SongTempo']].plot('SongYear','SongTempo',s=0.005,kind='scatter')"
   ]
  },
  {
   "cell_type": "code",
   "execution_count": 111,
   "metadata": {},
   "outputs": [
    {
     "data": {
      "text/plain": [
       "<matplotlib.axes._subplots.AxesSubplot at 0x1f33fc052e8>"
      ]
     },
     "execution_count": 111,
     "metadata": {},
     "output_type": "execute_result"
    },
    {
     "data": {
      "image/png": "[encoded data removed]",
      "text/plain": [
       "<matplotlib.figure.Figure at 0x1f33f9fe1d0>"
      ]
     },
     "metadata": {},
     "output_type": "display_data"
    }
   ],
   "source": [
    "normalized_df[['SongYear','ArtistHotness']].plot('SongYear','ArtistHotness',s=0.005,kind='scatter')"
   ]
  },
  {
   "cell_type": "code",
   "execution_count": 112,
   "metadata": {},
   "outputs": [
    {
     "data": {
      "text/plain": [
       "<matplotlib.axes._subplots.AxesSubplot at 0x1f340a8ad68>"
      ]
     },
     "execution_count": 112,
     "metadata": {},
     "output_type": "execute_result"
    },
    {
     "data": {
      "image/png": "[encoded data removed]",
      "text/plain": [
       "<matplotlib.figure.Figure at 0x1f33f51e320>"
      ]
     },
     "metadata": {},
     "output_type": "display_data"
    }
   ],
   "source": [
    "normalized_df[['SongYear','SongKey']].plot('SongYear','SongKey',s=0.005,kind='scatter')"
   ]
  },
  {
   "cell_type": "markdown",
   "metadata": {},
   "source": [
    "## Do the Linear regression"
   ]
  },
  {
   "cell_type": "code",
   "execution_count": 118,
   "metadata": {},
   "outputs": [],
   "source": [
    "X = normalized_df[['SongTempo']]\n",
    "Y = normalized_df[['SongYear']]\n",
    "Y = Y.fillna(0)"
   ]
  },
  {
   "cell_type": "code",
   "execution_count": 119,
   "metadata": {},
   "outputs": [
    {
     "data": {
      "text/plain": [
       "(229054, 1)"
      ]
     },
     "execution_count": 119,
     "metadata": {},
     "output_type": "execute_result"
    }
   ],
   "source": [
    "# Create linear regression object\n",
    "regr = linear_model.LinearRegression()\n",
    "\n",
    "X_train = X[:-114527]\n",
    "X_test = X[-114527:]\n",
    "\n",
    "# Split the targets into training/testing sets\n",
    "y_train = Y[:114527]\n",
    "y_test = Y[-114527:]\n",
    "\n",
    "# Create linear regression object\n",
    "regr = linear_model.LinearRegression()\n",
    "Y.shape"
   ]
  },
  {
   "cell_type": "code",
   "execution_count": 120,
   "metadata": {},
   "outputs": [
    {
     "name": "stdout",
     "output_type": "stream",
     "text": [
      "Coefficients: \n",
      " [[ 0.00556598]]\n",
      "Mean squared error: 120.05\n",
      "Variance score: 0.00\n"
     ]
    },
    {
     "data": {
      "text/plain": [
       "([], <a list of 0 Text yticklabel objects>)"
      ]
     },
     "execution_count": 120,
     "metadata": {},
     "output_type": "execute_result"
    },
    {
     "data": {
      "image/png": "[encoded data removed]",
      "text/plain": [
       "<matplotlib.figure.Figure at 0x1f35f5094a8>"
      ]
     },
     "metadata": {},
     "output_type": "display_data"
    }
   ],
   "source": [
    "\n",
    "\n",
    "# Train the model using the training sets\n",
    "regr.fit(X_train, y_train)\n",
    "\n",
    "# Make predictions using the testing set\n",
    "y_pred = regr.predict(X_test)\n",
    "\n",
    "# The coefficients\n",
    "print('Coefficients: \\n', regr.coef_)\n",
    "# The mean squared error\n",
    "print(\"Mean squared error: %.2f\"\n",
    "      % mean_squared_error(y_test, y_pred))\n",
    "# Explained variance score: 1 is perfect prediction\n",
    "print('Variance score: %.2f' % r2_score(y_test, y_pred))\n",
    "\n",
    "# Plot outputs\n",
    "plt.scatter(X_test, y_test,  color='black')\n",
    "plt.plot(X_test, y_pred, color='blue', linewidth=3)\n",
    "\n",
    "plt.xticks(())\n",
    "plt.yticks(())"
   ]
  },
  {
   "cell_type": "code",
   "execution_count": null,
   "metadata": {},
   "outputs": [],
   "source": []
  },
  {
   "cell_type": "code",
   "execution_count": null,
   "metadata": {},
   "outputs": [],
   "source": []
  },
  {
   "cell_type": "markdown",
   "metadata": {},
   "source": [
    "## Train classifier for genre on recent songs."
   ]
  },
  {
   "cell_type": "markdown",
   "metadata": {},
   "source": [
    "#### Drop some of the junk variables (id, song_id, ...)¶"
   ]
  },
  {
   "cell_type": "code",
   "execution_count": null,
   "metadata": {
    "collapsed": true
   },
   "outputs": [],
   "source": [
    "df_knn = normalized_df[normalized_df['SongYear']>2000]\n",
    "df_knn.head()"
   ]
  },
  {
   "cell_type": "code",
   "execution_count": null,
   "metadata": {
    "collapsed": true
   },
   "outputs": [],
   "source": [
    "df_knn.select_dtypes(include=['object']).columns"
   ]
  },
  {
   "cell_type": "code",
   "execution_count": null,
   "metadata": {
    "collapsed": true
   },
   "outputs": [],
   "source": [
    "#Drop the array for the moment\n",
    "df_knn = df_knn.drop('ArtistTerms',1,inplace=False)\n",
    "df_knn = df_knn.drop('ArtistMbtags',1,inplace=False)"
   ]
  },
  {
   "cell_type": "code",
   "execution_count": null,
   "metadata": {
    "collapsed": true
   },
   "outputs": [],
   "source": []
  },
  {
   "cell_type": "code",
   "execution_count": null,
   "metadata": {
    "collapsed": true
   },
   "outputs": [],
   "source": [
    "df_knn = df_knn.drop('ArtistID',1,inplace=False)\n",
    "df_knn = df_knn.drop('SongID',1,inplace=False)\n",
    "\n",
    "df_knn.head()"
   ]
  },
  {
   "cell_type": "code",
   "execution_count": null,
   "metadata": {
    "collapsed": true,
    "scrolled": true
   },
   "outputs": [],
   "source": [
    "for col in df_knn.columns:\n",
    "    print (\"Column {} has {} unique instances\".format( col, len(df_knn[col].unique())) )"
   ]
  },
  {
   "cell_type": "markdown",
   "metadata": {},
   "source": [
    "Observation : Maybe round the Duration,Tempo and Loudness"
   ]
  },
  {
   "cell_type": "code",
   "execution_count": null,
   "metadata": {
    "collapsed": true
   },
   "outputs": [],
   "source": [
    "df_knn.Duration = df_knn.Duration.apply(lambda x: math.floor(x))\n",
    "df_knn.SongTempo = df_knn.SongTempo.apply(lambda x: math.floor(x))\n",
    "df_knn.SongLoudness = df_knn.SongLoudness.apply(lambda x: math.floor(x))\n",
    "for col in df_knn.columns:\n",
    "    print (\"Column {} has {} unique instances\".format( col, len(df_knn[col].unique())) )"
   ]
  },
  {
   "cell_type": "code",
   "execution_count": null,
   "metadata": {
    "collapsed": true
   },
   "outputs": [],
   "source": [
    "def categorize_hotness(x) :\n",
    "    if(x<0.10) :\n",
    "        return 0\n",
    "    elif(0.1<=x<0.2):\n",
    "        return 1\n",
    "    elif(0.2<=x<0.3):\n",
    "        return 2\n",
    "    elif(0.3<=x<0.4):\n",
    "        return 3\n",
    "    elif(0.4<=x<0.5):\n",
    "        return 4\n",
    "    elif(0.5<=x<0.6):\n",
    "        return 5\n",
    "    elif(0.6<=x<0.7):\n",
    "        return 6\n",
    "    elif(0.7<=x<0.8):\n",
    "        return 7\n",
    "    elif(0.8<=x<0.9):\n",
    "        return 8\n",
    "    else:\n",
    "        return 9"
   ]
  },
  {
   "cell_type": "code",
   "execution_count": null,
   "metadata": {
    "collapsed": true
   },
   "outputs": [],
   "source": [
    "def categorize_genre(x):\n",
    "\n"
   ]
  },
  {
   "cell_type": "code",
   "execution_count": null,
   "metadata": {
    "collapsed": true
   },
   "outputs": [],
   "source": [
    "df_knn['ArtistHotness'] = df_knn.ArtistHotness.apply(lambda x : categorize(x))"
   ]
  },
  {
   "cell_type": "code",
   "execution_count": null,
   "metadata": {
    "collapsed": true
   },
   "outputs": [],
   "source": [
    "df_knn._get_numeric_data().columns"
   ]
  },
  {
   "cell_type": "markdown",
   "metadata": {},
   "source": [
    "## Begin classification"
   ]
  },
  {
   "cell_type": "code",
   "execution_count": null,
   "metadata": {
    "collapsed": true
   },
   "outputs": [],
   "source": [
    "#Choose the X, Y value\n",
    "\n",
    "X = df_knn.drop(\"ArtistHotness\", axis=1, inplace = False)\n",
    "y = df_knn.ArtistHotness"
   ]
  },
  {
   "cell_type": "code",
   "execution_count": null,
   "metadata": {
    "collapsed": true
   },
   "outputs": [],
   "source": [
    "# For the other than numeric value, isolate them\n",
    "\n",
    "def model_matrix(df , columns):\n",
    "    dummified_cols = pd.get_dummies(df[columns])\n",
    "    df = df.drop(columns, axis = 1, inplace=False)\n",
    "    df_new = df.join(dummified_cols)\n",
    "    return df_new\n",
    "\n",
    "X = model_matrix(X, [ 'ArtistName', 'SongTitle', 'ArtistLocation'])\n",
    "\n",
    "X.head()"
   ]
  },
  {
   "cell_type": "code",
   "execution_count": null,
   "metadata": {
    "collapsed": true
   },
   "outputs": [],
   "source": [
    "X2 = X.fillna(value = 0)"
   ]
  },
  {
   "cell_type": "code",
   "execution_count": null,
   "metadata": {
    "collapsed": true
   },
   "outputs": [],
   "source": [
    "X2.columns"
   ]
  },
  {
   "cell_type": "code",
   "execution_count": null,
   "metadata": {
    "collapsed": true
   },
   "outputs": [],
   "source": [
    "from sklearn.preprocessing import MinMaxScaler\n",
    "\n",
    "Scaler = MinMaxScaler()\n",
    "\n",
    "X2[['SongYear', 'Duration', 'SongHotness', 'SongTempo', 'SongTimeSignature',\n",
    "       'SongTimeSignatureConfidence', 'ArtistLatitude', 'ArtistLongitude',\n",
    "       'SongKey', 'SongKeyConfidence', 'SongLoudness',\n",
    "       'SongYearNorm']] = Scaler.fit_transform(X2[['SongYear', 'Duration', 'SongHotness', 'SongTempo', 'SongTimeSignature',\n",
    "       'SongTimeSignatureConfidence', 'ArtistLatitude', 'ArtistLongitude',\n",
    "       'SongKey', 'SongKeyConfidence', 'SongLoudness',\n",
    "       'SongYearNorm']])"
   ]
  },
  {
   "cell_type": "code",
   "execution_count": null,
   "metadata": {
    "collapsed": true
   },
   "outputs": [],
   "source": [
    "x_train, x_test, y_train, y_test = train_test_split(X2, y, test_size=.4, random_state=123)"
   ]
  },
  {
   "cell_type": "code",
   "execution_count": null,
   "metadata": {
    "collapsed": true,
    "scrolled": true
   },
   "outputs": [],
   "source": [
    "data_knn = KNeighborsClassifier(n_neighbors = 10, metric='euclidean')\n",
    "data_knn"
   ]
  },
  {
   "cell_type": "code",
   "execution_count": null,
   "metadata": {
    "collapsed": true
   },
   "outputs": [],
   "source": [
    "data_knn.fit(x_train, y_train)"
   ]
  },
  {
   "cell_type": "code",
   "execution_count": null,
   "metadata": {
    "collapsed": true
   },
   "outputs": [],
   "source": [
    "data_knn.predict(x_test)"
   ]
  },
  {
   "cell_type": "code",
   "execution_count": null,
   "metadata": {
    "collapsed": true
   },
   "outputs": [],
   "source": [
    "# R-square from training and test data\n",
    "rsquared_train = data_knn.score(x_train, y_train)\n",
    "rsquared_test = data_knn.score(x_test, y_test)\n",
    "print ('Training data R-squared:')\n",
    "print(rsquared_train)\n",
    "print ('Test data R-squared:')\n",
    "print(rsquared_test)"
   ]
  },
  {
   "cell_type": "code",
   "execution_count": null,
   "metadata": {
    "collapsed": true
   },
   "outputs": [],
   "source": []
  },
  {
   "cell_type": "code",
   "execution_count": null,
   "metadata": {
    "collapsed": true
   },
   "outputs": [],
   "source": []
  }
 ],
 "metadata": {
  "anaconda-cloud": {},
  "kernelspec": {
   "display_name": "Python [conda env:ada]",
   "language": "python",
   "name": "conda-env-ada-py"
  },
  "language_info": {
   "codemirror_mode": {
    "name": "ipython",
    "version": 3
   },
   "file_extension": ".py",
   "mimetype": "text/x-python",
   "name": "python",
   "nbconvert_exporter": "python",
   "pygments_lexer": "ipython3",
   "version": "3.6.2"
  }
 },
 "nbformat": 4,
 "nbformat_minor": 1
}
