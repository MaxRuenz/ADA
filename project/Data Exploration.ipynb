{
 "cells": [
  {
   "cell_type": "code",
   "execution_count": 5,
   "metadata": {
    "collapsed": false
   },
   "outputs": [],
   "source": [
    "import hdf5_getters"
   ]
  },
  {
   "cell_type": "code",
   "execution_count": 17,
   "metadata": {
    "collapsed": false
   },
   "outputs": [
    {
     "name": "stdout",
     "output_type": "stream",
     "text": [
      "[ 1.          0.89793596  0.88426185  0.84262975  0.84256301  0.83239282\n",
      "  0.82577707  0.79859195  0.7431759   0.73850237  0.72505245  0.71389955\n",
      "  0.67049417  0.65697231  0.65105613  0.65105612  0.65105597  0.65105592\n",
      "  0.65105547  0.65105532  0.65105508  0.65105506  0.65105461  0.65105427\n",
      "  0.65105376  0.65104997  0.6364043   0.63334971  0.61973455  0.61889383\n",
      "  0.61419433  0.59579116  0.56220197  0.55067233  0.52897541  0.49021215\n",
      "  0.38341077]\n"
     ]
    }
   ],
   "source": [
    "h5 = hdf5_getters.open_h5_file_read(\"TRAAAAW128F429D538.h5\")\n",
    "duration = hdf5_getters.get_artist_terms_weight(h5)\n",
    "print(duration)\n"
   ]
  },
  {
   "cell_type": "code",
   "execution_count": null,
   "metadata": {
    "collapsed": false
   },
   "outputs": [],
   "source": []
  },
  {
   "cell_type": "code",
   "execution_count": null,
   "metadata": {
    "collapsed": true
   },
   "outputs": [],
   "source": []
  }
 ],
 "metadata": {
  "anaconda-cloud": {},
  "kernelspec": {
   "display_name": "Python [Root]",
   "language": "python",
   "name": "Python [Root]"
  },
  "language_info": {
   "codemirror_mode": {
    "name": "ipython",
    "version": 3
   },
   "file_extension": ".py",
   "mimetype": "text/x-python",
   "name": "python",
   "nbconvert_exporter": "python",
   "pygments_lexer": "ipython3",
   "version": "3.5.2"
  }
 },
 "nbformat": 4,
 "nbformat_minor": 0
}
