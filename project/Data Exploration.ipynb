{
 "cells": [
  {
   "cell_type": "code",
   "execution_count": 137,
   "metadata": {
    "collapsed": false
   },
   "outputs": [],
   "source": [
    "import hdf5_getters\n",
    "import sqlite3 as sq\n",
    "import os\n",
    "import pandas as pd\n",
    "from sklearn.linear_model import LinearRegression, LogisticRegression"
   ]
  },
  {
   "cell_type": "code",
   "execution_count": 6,
   "metadata": {
    "collapsed": false
   },
   "outputs": [
    {
     "name": "stdout",
     "output_type": "stream",
     "text": [
      "[ 1.          0.89793596  0.88426185  0.84262975  0.84256301  0.83239282\n",
      "  0.82577707  0.79859195  0.7431759   0.73850237  0.72505245  0.71389955\n",
      "  0.67049417  0.65697231  0.65105613  0.65105612  0.65105597  0.65105592\n",
      "  0.65105547  0.65105532  0.65105508  0.65105506  0.65105461  0.65105427\n",
      "  0.65105376  0.65104997  0.6364043   0.63334971  0.61973455  0.61889383\n",
      "  0.61419433  0.59579116  0.56220197  0.55067233  0.52897541  0.49021215\n",
      "  0.38341077]\n"
     ]
    }
   ],
   "source": [
    "h5 = hdf5_getters.open_h5_file_read(\"TRAAAAW128F429D538.h5\")\n",
    "duration = hdf5_getters.get_artist_terms_weight(h5)\n",
    "print(duration)\n"
   ]
  },
  {
   "cell_type": "markdown",
   "metadata": {},
   "source": [
    "## Additional Files"
   ]
  },
  {
   "cell_type": "markdown",
   "metadata": {},
   "source": [
    "### Releases per Year per Genre"
   ]
  },
  {
   "cell_type": "code",
   "execution_count": 7,
   "metadata": {
    "collapsed": true
   },
   "outputs": [],
   "source": [
    "def db_list_tables(path):\n",
    "    print (\"Connecting to DB at path {}\".format(path))\n",
    "    conn = sq.connect(path)\n",
    "    c = conn.cursor()\n",
    "    \n",
    "    c.execute(\"select sql from sqlite_master where type = 'table'\")\n",
    "    \n",
    "    print (\"Tables in database:\")\n",
    "    for row in c.fetchall():\n",
    "        print (row)"
   ]
  },
  {
   "cell_type": "code",
   "execution_count": 8,
   "metadata": {
    "collapsed": false
   },
   "outputs": [
    {
     "name": "stdout",
     "output_type": "stream",
     "text": [
      "Connecting to DB at path .\\AdditionalFiles\\subset_artist_term.db\n",
      "Tables in database:\n",
      "('CREATE TABLE artists (artist_id text PRIMARY KEY)',)\n",
      "('CREATE TABLE terms (term text PRIMARY KEY)',)\n",
      "('CREATE TABLE artist_term (artist_id text, term text, FOREIGN KEY(artist_id) REFERENCES artists(artist_id), FOREIGN KEY(term) REFERENCES terms(term) )',)\n",
      "('CREATE TABLE mbtags (mbtag text PRIMARY KEY)',)\n",
      "('CREATE TABLE artist_mbtag (artist_id text, mbtag text, FOREIGN KEY(artist_id) REFERENCES artists(artist_id), FOREIGN KEY(mbtag) REFERENCES mbtags(mbtag) )',)\n",
      "Connecting to DB at path .\\AdditionalFiles\\subset_artist_similarity.db\n",
      "Tables in database:\n",
      "('CREATE TABLE artists (artist_id text PRIMARY KEY)',)\n",
      "('CREATE TABLE similarity (target text, similar text, FOREIGN KEY(target) REFERENCES artists(artist_id), FOREIGN KEY(similar) REFERENCES artists(artist_id) )',)\n",
      "Connecting to DB at path .\\AdditionalFiles\\subset_track_metadata.db\n",
      "Tables in database:\n",
      "('CREATE TABLE songs (track_id text PRIMARY KEY, title text, song_id text, release text, artist_id text, artist_mbid text, artist_name text, duration real, artist_familiarity real, artist_hotttnesss real, year int)',)\n"
     ]
    }
   ],
   "source": [
    "path_artists_genres = os.path.join(\".\", \"AdditionalFiles\", \"subset_artist_term.db\")\n",
    "db_list_tables(path_artists_genres)\n",
    "\n",
    "path_artists_similarity = os.path.join(\".\", \"AdditionalFiles\", \"subset_artist_similarity.db\")\n",
    "db_list_tables(path_artists_similarity)\n",
    "\n",
    "path_track_metadata = os.path.join(\".\", \"AdditionalFiles\", \"subset_track_metadata.db\")\n",
    "db_list_tables(path_track_metadata)"
   ]
  },
  {
   "cell_type": "code",
   "execution_count": 12,
   "metadata": {
    "collapsed": false,
    "scrolled": true
   },
   "outputs": [
    {
     "name": "stdout",
     "output_type": "stream",
     "text": [
      "('ARE36MM1187B991E50', 'Blind Lemon Jefferson', 1926, 2)\n",
      "('ARE36MM1187B991E50', 'Blind Lemon Jefferson', 1927, 1)\n",
      "('ARRU9GR1187FB43F56', 'Blind Willie McTell', 1927, 1)\n",
      "('ARWQ2DR1187B98FF28', 'Ma Rainey', 1927, 1)\n",
      "('ARTDUXM1187B9899ED', 'Charley Patton', 1929, 1)\n",
      "('ARE2QID1187B98FA19', 'Sleepy John Estes', 1930, 1)\n",
      "('ARTDUXM1187B9899ED', 'Charley Patton', 1930, 1)\n",
      "('ARTDUXM1187B9899ED', 'Charlie Patton', 1934, 1)\n",
      "('ARE2QID1187B98FA19', 'Sleepy John Estes', 1935, 2)\n",
      "('AR9HABI1187FB3ACAA', 'Red Foley', 1936, 1)\n"
     ]
    }
   ],
   "source": [
    "# get number of songs per year per artist\n",
    "conn = sq.connect(path_track_metadata)\n",
    "c = conn.cursor()\n",
    "c.execute(\"\"\"SELECT artist_id, artist_name, year, count(*) as cnt\n",
    "            FROM songs\n",
    "            GROUP BY artist_id, year\n",
    "            Having year>0\n",
    "            ORDER BY year\"\"\")\n",
    "\n",
    "res_art_song_year = c.fetchall()\n",
    "for i in range(10):\n",
    "    print (res_art_song_year[i])"
   ]
  },
  {
   "cell_type": "markdown",
   "metadata": {},
   "source": [
    "#### Genre from EchoNest"
   ]
  },
  {
   "cell_type": "code",
   "execution_count": 13,
   "metadata": {
    "collapsed": false
   },
   "outputs": [
    {
     "name": "stdout",
     "output_type": "stream",
     "text": [
      "('AR009211187B989185', 'lovers rock')\n",
      "('AR009211187B989185', 'reggae')\n",
      "('AR009211187B989185', 'roots reggae')\n",
      "('AR009211187B989185', 'uk garage')\n",
      "('AR009211187B989185', 'ballad')\n"
     ]
    }
   ],
   "source": [
    "#get mapping artist genre\n",
    "conn = sq.connect(path_artists_genres)\n",
    "c = conn.cursor()\n",
    "c.execute(\"\"\"SELECT artist_id, term\n",
    "              FROM artist_term\"\"\")\n",
    "\n",
    "res_art_genre = c.fetchall()\n",
    "for i in range(5):\n",
    "    print (res_art_genre[i])"
   ]
  },
  {
   "cell_type": "code",
   "execution_count": 14,
   "metadata": {
    "collapsed": false
   },
   "outputs": [
    {
     "data": {
      "text/html": [
       "<div>\n",
       "<table border=\"1\" class=\"dataframe\">\n",
       "  <thead>\n",
       "    <tr style=\"text-align: right;\">\n",
       "      <th></th>\n",
       "      <th>artist_id</th>\n",
       "      <th>artist_name</th>\n",
       "      <th>year</th>\n",
       "      <th>tracks</th>\n",
       "    </tr>\n",
       "  </thead>\n",
       "  <tbody>\n",
       "    <tr>\n",
       "      <th>0</th>\n",
       "      <td>ARE36MM1187B991E50</td>\n",
       "      <td>Blind Lemon Jefferson</td>\n",
       "      <td>1926</td>\n",
       "      <td>2</td>\n",
       "    </tr>\n",
       "    <tr>\n",
       "      <th>1</th>\n",
       "      <td>ARE36MM1187B991E50</td>\n",
       "      <td>Blind Lemon Jefferson</td>\n",
       "      <td>1927</td>\n",
       "      <td>1</td>\n",
       "    </tr>\n",
       "    <tr>\n",
       "      <th>2</th>\n",
       "      <td>ARRU9GR1187FB43F56</td>\n",
       "      <td>Blind Willie McTell</td>\n",
       "      <td>1927</td>\n",
       "      <td>1</td>\n",
       "    </tr>\n",
       "    <tr>\n",
       "      <th>3</th>\n",
       "      <td>ARWQ2DR1187B98FF28</td>\n",
       "      <td>Ma Rainey</td>\n",
       "      <td>1927</td>\n",
       "      <td>1</td>\n",
       "    </tr>\n",
       "    <tr>\n",
       "      <th>4</th>\n",
       "      <td>ARTDUXM1187B9899ED</td>\n",
       "      <td>Charley Patton</td>\n",
       "      <td>1929</td>\n",
       "      <td>1</td>\n",
       "    </tr>\n",
       "  </tbody>\n",
       "</table>\n",
       "</div>"
      ],
      "text/plain": [
       "            artist_id            artist_name  year  tracks\n",
       "0  ARE36MM1187B991E50  Blind Lemon Jefferson  1926       2\n",
       "1  ARE36MM1187B991E50  Blind Lemon Jefferson  1927       1\n",
       "2  ARRU9GR1187FB43F56    Blind Willie McTell  1927       1\n",
       "3  ARWQ2DR1187B98FF28              Ma Rainey  1927       1\n",
       "4  ARTDUXM1187B9899ED         Charley Patton  1929       1"
      ]
     },
     "execution_count": 14,
     "metadata": {},
     "output_type": "execute_result"
    }
   ],
   "source": [
    "# merge lists: count number of songs per genre (if artist has 2 gernres, count for each one)\n",
    "df_art_song_year = pd.DataFrame(res_art_song_year)\n",
    "df_art_song_year.columns = [\"artist_id\", \"artist_name\", \"year\", \"tracks\"]\n",
    "df_art_song_year.head()"
   ]
  },
  {
   "cell_type": "code",
   "execution_count": 27,
   "metadata": {
    "collapsed": false
   },
   "outputs": [
    {
     "data": {
      "text/html": [
       "<div>\n",
       "<style>\n",
       "    .dataframe thead tr:only-child th {\n",
       "        text-align: right;\n",
       "    }\n",
       "\n",
       "    .dataframe thead th {\n",
       "        text-align: left;\n",
       "    }\n",
       "\n",
       "    .dataframe tbody tr th {\n",
       "        vertical-align: top;\n",
       "    }\n",
       "</style>\n",
       "<table border=\"1\" class=\"dataframe\">\n",
       "  <thead>\n",
       "    <tr style=\"text-align: right;\">\n",
       "      <th></th>\n",
       "      <th>artist_id</th>\n",
       "      <th>genre</th>\n",
       "    </tr>\n",
       "  </thead>\n",
       "  <tbody>\n",
       "    <tr>\n",
       "      <th>0</th>\n",
       "      <td>AR009211187B989185</td>\n",
       "      <td>lovers rock</td>\n",
       "    </tr>\n",
       "    <tr>\n",
       "      <th>1</th>\n",
       "      <td>AR009211187B989185</td>\n",
       "      <td>reggae</td>\n",
       "    </tr>\n",
       "    <tr>\n",
       "      <th>2</th>\n",
       "      <td>AR009211187B989185</td>\n",
       "      <td>roots reggae</td>\n",
       "    </tr>\n",
       "    <tr>\n",
       "      <th>3</th>\n",
       "      <td>AR009211187B989185</td>\n",
       "      <td>uk garage</td>\n",
       "    </tr>\n",
       "    <tr>\n",
       "      <th>4</th>\n",
       "      <td>AR009211187B989185</td>\n",
       "      <td>ballad</td>\n",
       "    </tr>\n",
       "  </tbody>\n",
       "</table>\n",
       "</div>"
      ],
      "text/plain": [
       "            artist_id         genre\n",
       "0  AR009211187B989185   lovers rock\n",
       "1  AR009211187B989185        reggae\n",
       "2  AR009211187B989185  roots reggae\n",
       "3  AR009211187B989185     uk garage\n",
       "4  AR009211187B989185        ballad"
      ]
     },
     "execution_count": 27,
     "metadata": {},
     "output_type": "execute_result"
    }
   ],
   "source": [
    "df_art_genre = pd.DataFrame(res_art_genre)\n",
    "df_art_genre.columns = [\"artist_id\", \"genre\"]\n",
    "df_art_genre.head()"
   ]
  },
  {
   "cell_type": "code",
   "execution_count": 28,
   "metadata": {
    "collapsed": false,
    "scrolled": true
   },
   "outputs": [
    {
     "name": "stdout",
     "output_type": "stream",
     "text": [
      "(109034, 3)\n"
     ]
    },
    {
     "data": {
      "text/html": [
       "<div>\n",
       "<style>\n",
       "    .dataframe thead tr:only-child th {\n",
       "        text-align: right;\n",
       "    }\n",
       "\n",
       "    .dataframe thead th {\n",
       "        text-align: left;\n",
       "    }\n",
       "\n",
       "    .dataframe tbody tr th {\n",
       "        vertical-align: top;\n",
       "    }\n",
       "</style>\n",
       "<table border=\"1\" class=\"dataframe\">\n",
       "  <thead>\n",
       "    <tr style=\"text-align: right;\">\n",
       "      <th></th>\n",
       "      <th>year</th>\n",
       "      <th>tracks</th>\n",
       "      <th>genre</th>\n",
       "    </tr>\n",
       "  </thead>\n",
       "  <tbody>\n",
       "    <tr>\n",
       "      <th>0</th>\n",
       "      <td>1926</td>\n",
       "      <td>2</td>\n",
       "      <td>country blues</td>\n",
       "    </tr>\n",
       "    <tr>\n",
       "      <th>1</th>\n",
       "      <td>1926</td>\n",
       "      <td>2</td>\n",
       "      <td>delta blues</td>\n",
       "    </tr>\n",
       "    <tr>\n",
       "      <th>2</th>\n",
       "      <td>1926</td>\n",
       "      <td>2</td>\n",
       "      <td>texas blues</td>\n",
       "    </tr>\n",
       "    <tr>\n",
       "      <th>3</th>\n",
       "      <td>1926</td>\n",
       "      <td>2</td>\n",
       "      <td>blues</td>\n",
       "    </tr>\n",
       "    <tr>\n",
       "      <th>4</th>\n",
       "      <td>1926</td>\n",
       "      <td>2</td>\n",
       "      <td>louisiana blues</td>\n",
       "    </tr>\n",
       "  </tbody>\n",
       "</table>\n",
       "</div>"
      ],
      "text/plain": [
       "   year  tracks            genre\n",
       "0  1926       2    country blues\n",
       "1  1926       2      delta blues\n",
       "2  1926       2      texas blues\n",
       "3  1926       2            blues\n",
       "4  1926       2  louisiana blues"
      ]
     },
     "execution_count": 28,
     "metadata": {},
     "output_type": "execute_result"
    }
   ],
   "source": [
    "df_art_song_year_genre = pd.merge(df_art_song_year, df_art_genre, on=\"artist_id\")\n",
    "\n",
    "df_song_year_genre = df_art_song_year_genre.drop(df_art_song_year_genre.columns[:2], axis=1)\n",
    "print (df_song_year_genre.shape)\n",
    "df_song_year_genre.head()"
   ]
  },
  {
   "cell_type": "code",
   "execution_count": 29,
   "metadata": {
    "collapsed": false
   },
   "outputs": [
    {
     "data": {
      "text/html": [
       "<div>\n",
       "<style>\n",
       "    .dataframe thead tr:only-child th {\n",
       "        text-align: right;\n",
       "    }\n",
       "\n",
       "    .dataframe thead th {\n",
       "        text-align: left;\n",
       "    }\n",
       "\n",
       "    .dataframe tbody tr th {\n",
       "        vertical-align: top;\n",
       "    }\n",
       "</style>\n",
       "<table border=\"1\" class=\"dataframe\">\n",
       "  <thead>\n",
       "    <tr style=\"text-align: right;\">\n",
       "      <th></th>\n",
       "      <th>year</th>\n",
       "      <th>tracks</th>\n",
       "      <th>genre</th>\n",
       "    </tr>\n",
       "  </thead>\n",
       "  <tbody>\n",
       "    <tr>\n",
       "      <th>98889</th>\n",
       "      <td>2006</td>\n",
       "      <td>8</td>\n",
       "      <td>reggae</td>\n",
       "    </tr>\n",
       "    <tr>\n",
       "      <th>98901</th>\n",
       "      <td>2006</td>\n",
       "      <td>8</td>\n",
       "      <td>soft</td>\n",
       "    </tr>\n",
       "    <tr>\n",
       "      <th>98893</th>\n",
       "      <td>2006</td>\n",
       "      <td>8</td>\n",
       "      <td>female vocalist</td>\n",
       "    </tr>\n",
       "    <tr>\n",
       "      <th>98894</th>\n",
       "      <td>2006</td>\n",
       "      <td>8</td>\n",
       "      <td>funk</td>\n",
       "    </tr>\n",
       "    <tr>\n",
       "      <th>98895</th>\n",
       "      <td>2006</td>\n",
       "      <td>8</td>\n",
       "      <td>singer-songwriter</td>\n",
       "    </tr>\n",
       "  </tbody>\n",
       "</table>\n",
       "</div>"
      ],
      "text/plain": [
       "       year  tracks              genre\n",
       "98889  2006       8             reggae\n",
       "98901  2006       8               soft\n",
       "98893  2006       8    female vocalist\n",
       "98894  2006       8               funk\n",
       "98895  2006       8  singer-songwriter"
      ]
     },
     "execution_count": 29,
     "metadata": {},
     "output_type": "execute_result"
    }
   ],
   "source": [
    "df_song_year_genre.sort_values([\"tracks\"], ascending=False).head()"
   ]
  },
  {
   "cell_type": "markdown",
   "metadata": {},
   "source": [
    "#### Genre from mb"
   ]
  },
  {
   "cell_type": "code",
   "execution_count": 30,
   "metadata": {
    "collapsed": false
   },
   "outputs": [
    {
     "name": "stdout",
     "output_type": "stream",
     "text": [
      "('AR00A6H1187FB5402A', 'detroit')\n",
      "('AR00A6H1187FB5402A', 'punk')\n",
      "('AR00A6H1187FB5402A', 'michigan')\n",
      "('AR00A6H1187FB5402A', 'usa')\n",
      "('AR01VU31187B997DA0', 'hard rock')\n"
     ]
    }
   ],
   "source": [
    "#get mapping artist genre\n",
    "conn = sq.connect(path_artists_genres)\n",
    "c = conn.cursor()\n",
    "c.execute(\"\"\"SELECT artist_id, mbtag\n",
    "              FROM artist_mbtag\"\"\")\n",
    "\n",
    "res_art_genre = c.fetchall()\n",
    "for i in range(5):\n",
    "    print (res_art_genre[i])"
   ]
  },
  {
   "cell_type": "code",
   "execution_count": 31,
   "metadata": {
    "collapsed": false
   },
   "outputs": [
    {
     "data": {
      "text/html": [
       "<div>\n",
       "<style>\n",
       "    .dataframe thead tr:only-child th {\n",
       "        text-align: right;\n",
       "    }\n",
       "\n",
       "    .dataframe thead th {\n",
       "        text-align: left;\n",
       "    }\n",
       "\n",
       "    .dataframe tbody tr th {\n",
       "        vertical-align: top;\n",
       "    }\n",
       "</style>\n",
       "<table border=\"1\" class=\"dataframe\">\n",
       "  <thead>\n",
       "    <tr style=\"text-align: right;\">\n",
       "      <th></th>\n",
       "      <th>artist_id</th>\n",
       "      <th>artist_name</th>\n",
       "      <th>year</th>\n",
       "      <th>tracks</th>\n",
       "    </tr>\n",
       "  </thead>\n",
       "  <tbody>\n",
       "    <tr>\n",
       "      <th>0</th>\n",
       "      <td>ARE36MM1187B991E50</td>\n",
       "      <td>Blind Lemon Jefferson</td>\n",
       "      <td>1926</td>\n",
       "      <td>2</td>\n",
       "    </tr>\n",
       "    <tr>\n",
       "      <th>1</th>\n",
       "      <td>ARE36MM1187B991E50</td>\n",
       "      <td>Blind Lemon Jefferson</td>\n",
       "      <td>1927</td>\n",
       "      <td>1</td>\n",
       "    </tr>\n",
       "    <tr>\n",
       "      <th>2</th>\n",
       "      <td>ARRU9GR1187FB43F56</td>\n",
       "      <td>Blind Willie McTell</td>\n",
       "      <td>1927</td>\n",
       "      <td>1</td>\n",
       "    </tr>\n",
       "    <tr>\n",
       "      <th>3</th>\n",
       "      <td>ARWQ2DR1187B98FF28</td>\n",
       "      <td>Ma Rainey</td>\n",
       "      <td>1927</td>\n",
       "      <td>1</td>\n",
       "    </tr>\n",
       "    <tr>\n",
       "      <th>4</th>\n",
       "      <td>ARTDUXM1187B9899ED</td>\n",
       "      <td>Charley Patton</td>\n",
       "      <td>1929</td>\n",
       "      <td>1</td>\n",
       "    </tr>\n",
       "  </tbody>\n",
       "</table>\n",
       "</div>"
      ],
      "text/plain": [
       "            artist_id            artist_name  year  tracks\n",
       "0  ARE36MM1187B991E50  Blind Lemon Jefferson  1926       2\n",
       "1  ARE36MM1187B991E50  Blind Lemon Jefferson  1927       1\n",
       "2  ARRU9GR1187FB43F56    Blind Willie McTell  1927       1\n",
       "3  ARWQ2DR1187B98FF28              Ma Rainey  1927       1\n",
       "4  ARTDUXM1187B9899ED         Charley Patton  1929       1"
      ]
     },
     "execution_count": 31,
     "metadata": {},
     "output_type": "execute_result"
    }
   ],
   "source": [
    "# merge lists: count number of songs per genre (if artist has 2 gernres, count for each one)\n",
    "df_art_song_year = pd.DataFrame(res_art_song_year)\n",
    "df_art_song_year.columns = [\"artist_id\", \"artist_name\", \"year\", \"tracks\"]\n",
    "df_art_song_year.head()"
   ]
  },
  {
   "cell_type": "code",
   "execution_count": 32,
   "metadata": {
    "collapsed": false
   },
   "outputs": [
    {
     "data": {
      "text/html": [
       "<div>\n",
       "<style>\n",
       "    .dataframe thead tr:only-child th {\n",
       "        text-align: right;\n",
       "    }\n",
       "\n",
       "    .dataframe thead th {\n",
       "        text-align: left;\n",
       "    }\n",
       "\n",
       "    .dataframe tbody tr th {\n",
       "        vertical-align: top;\n",
       "    }\n",
       "</style>\n",
       "<table border=\"1\" class=\"dataframe\">\n",
       "  <thead>\n",
       "    <tr style=\"text-align: right;\">\n",
       "      <th></th>\n",
       "      <th>artist_id</th>\n",
       "      <th>genre</th>\n",
       "    </tr>\n",
       "  </thead>\n",
       "  <tbody>\n",
       "    <tr>\n",
       "      <th>0</th>\n",
       "      <td>AR00A6H1187FB5402A</td>\n",
       "      <td>detroit</td>\n",
       "    </tr>\n",
       "    <tr>\n",
       "      <th>1</th>\n",
       "      <td>AR00A6H1187FB5402A</td>\n",
       "      <td>punk</td>\n",
       "    </tr>\n",
       "    <tr>\n",
       "      <th>2</th>\n",
       "      <td>AR00A6H1187FB5402A</td>\n",
       "      <td>michigan</td>\n",
       "    </tr>\n",
       "    <tr>\n",
       "      <th>3</th>\n",
       "      <td>AR00A6H1187FB5402A</td>\n",
       "      <td>usa</td>\n",
       "    </tr>\n",
       "    <tr>\n",
       "      <th>4</th>\n",
       "      <td>AR01VU31187B997DA0</td>\n",
       "      <td>hard rock</td>\n",
       "    </tr>\n",
       "  </tbody>\n",
       "</table>\n",
       "</div>"
      ],
      "text/plain": [
       "            artist_id      genre\n",
       "0  AR00A6H1187FB5402A    detroit\n",
       "1  AR00A6H1187FB5402A       punk\n",
       "2  AR00A6H1187FB5402A   michigan\n",
       "3  AR00A6H1187FB5402A        usa\n",
       "4  AR01VU31187B997DA0  hard rock"
      ]
     },
     "execution_count": 32,
     "metadata": {},
     "output_type": "execute_result"
    }
   ],
   "source": [
    "df_art_genre = pd.DataFrame(res_art_genre)\n",
    "df_art_genre.columns = [\"artist_id\", \"genre\"]\n",
    "df_art_genre.head()"
   ]
  },
  {
   "cell_type": "code",
   "execution_count": 33,
   "metadata": {
    "collapsed": false
   },
   "outputs": [
    {
     "name": "stdout",
     "output_type": "stream",
     "text": [
      "(8366, 3)\n"
     ]
    },
    {
     "data": {
      "text/html": [
       "<div>\n",
       "<style>\n",
       "    .dataframe thead tr:only-child th {\n",
       "        text-align: right;\n",
       "    }\n",
       "\n",
       "    .dataframe thead th {\n",
       "        text-align: left;\n",
       "    }\n",
       "\n",
       "    .dataframe tbody tr th {\n",
       "        vertical-align: top;\n",
       "    }\n",
       "</style>\n",
       "<table border=\"1\" class=\"dataframe\">\n",
       "  <thead>\n",
       "    <tr style=\"text-align: right;\">\n",
       "      <th></th>\n",
       "      <th>year</th>\n",
       "      <th>tracks</th>\n",
       "      <th>genre</th>\n",
       "    </tr>\n",
       "  </thead>\n",
       "  <tbody>\n",
       "    <tr>\n",
       "      <th>0</th>\n",
       "      <td>1926</td>\n",
       "      <td>2</td>\n",
       "      <td>blues</td>\n",
       "    </tr>\n",
       "    <tr>\n",
       "      <th>1</th>\n",
       "      <td>1926</td>\n",
       "      <td>2</td>\n",
       "      <td>american</td>\n",
       "    </tr>\n",
       "    <tr>\n",
       "      <th>2</th>\n",
       "      <td>1927</td>\n",
       "      <td>1</td>\n",
       "      <td>blues</td>\n",
       "    </tr>\n",
       "    <tr>\n",
       "      <th>3</th>\n",
       "      <td>1927</td>\n",
       "      <td>1</td>\n",
       "      <td>american</td>\n",
       "    </tr>\n",
       "    <tr>\n",
       "      <th>4</th>\n",
       "      <td>1972</td>\n",
       "      <td>1</td>\n",
       "      <td>blues</td>\n",
       "    </tr>\n",
       "  </tbody>\n",
       "</table>\n",
       "</div>"
      ],
      "text/plain": [
       "   year  tracks     genre\n",
       "0  1926       2     blues\n",
       "1  1926       2  american\n",
       "2  1927       1     blues\n",
       "3  1927       1  american\n",
       "4  1972       1     blues"
      ]
     },
     "execution_count": 33,
     "metadata": {},
     "output_type": "execute_result"
    }
   ],
   "source": [
    "df_art_song_year_genre = pd.merge(df_art_song_year, df_art_genre, on=\"artist_id\")\n",
    "\n",
    "df_song_year_genre = df_art_song_year_genre.drop(df_art_song_year_genre.columns[:2], axis=1)\n",
    "print (df_song_year_genre.shape)\n",
    "df_song_year_genre.head()"
   ]
  },
  {
   "cell_type": "code",
   "execution_count": 34,
   "metadata": {
    "collapsed": false
   },
   "outputs": [
    {
     "data": {
      "text/html": [
       "<div>\n",
       "<style>\n",
       "    .dataframe thead tr:only-child th {\n",
       "        text-align: right;\n",
       "    }\n",
       "\n",
       "    .dataframe thead th {\n",
       "        text-align: left;\n",
       "    }\n",
       "\n",
       "    .dataframe tbody tr th {\n",
       "        vertical-align: top;\n",
       "    }\n",
       "</style>\n",
       "<table border=\"1\" class=\"dataframe\">\n",
       "  <thead>\n",
       "    <tr style=\"text-align: right;\">\n",
       "      <th></th>\n",
       "      <th>year</th>\n",
       "      <th>tracks</th>\n",
       "      <th>genre</th>\n",
       "    </tr>\n",
       "  </thead>\n",
       "  <tbody>\n",
       "    <tr>\n",
       "      <th>7994</th>\n",
       "      <td>2006</td>\n",
       "      <td>8</td>\n",
       "      <td>soul and reggae</td>\n",
       "    </tr>\n",
       "    <tr>\n",
       "      <th>3982</th>\n",
       "      <td>1992</td>\n",
       "      <td>5</td>\n",
       "      <td>usa</td>\n",
       "    </tr>\n",
       "    <tr>\n",
       "      <th>3976</th>\n",
       "      <td>1992</td>\n",
       "      <td>5</td>\n",
       "      <td>grunge</td>\n",
       "    </tr>\n",
       "    <tr>\n",
       "      <th>6925</th>\n",
       "      <td>2002</td>\n",
       "      <td>5</td>\n",
       "      <td>rock and indie</td>\n",
       "    </tr>\n",
       "    <tr>\n",
       "      <th>3984</th>\n",
       "      <td>1992</td>\n",
       "      <td>5</td>\n",
       "      <td>american</td>\n",
       "    </tr>\n",
       "  </tbody>\n",
       "</table>\n",
       "</div>"
      ],
      "text/plain": [
       "      year  tracks            genre\n",
       "7994  2006       8  soul and reggae\n",
       "3982  1992       5              usa\n",
       "3976  1992       5           grunge\n",
       "6925  2002       5   rock and indie\n",
       "3984  1992       5         american"
      ]
     },
     "execution_count": 34,
     "metadata": {},
     "output_type": "execute_result"
    }
   ],
   "source": [
    "df_song_year_genre.sort_values([\"tracks\"], ascending=False).head()"
   ]
  },
  {
   "cell_type": "markdown",
   "metadata": {},
   "source": [
    "mb has less unique tags."
   ]
  },
  {
   "cell_type": "markdown",
   "metadata": {},
   "source": [
    "# Try to iterate over all songs"
   ]
  },
  {
   "cell_type": "markdown",
   "metadata": {},
   "source": [
    "For the moment we try some methods on the local set we have, then it'll be run on cluster, but to test it is much easier locally on the subset"
   ]
  },
  {
   "cell_type": "code",
   "execution_count": 17,
   "metadata": {
    "collapsed": true
   },
   "outputs": [],
   "source": [
    "import os\n",
    "import glob\n",
    "def count_all_files(basedir,ext='.h5') :\n",
    "    cnt = 0\n",
    "    for root, dirs, files in os.walk(basedir):\n",
    "        files = glob.glob(os.path.join(root,'*'+ext))\n",
    "        cnt += len(files)\n",
    "    return cnt"
   ]
  },
  {
   "cell_type": "code",
   "execution_count": 21,
   "metadata": {
    "collapsed": false
   },
   "outputs": [
    {
     "data": {
      "text/plain": [
       "10000"
      ]
     },
     "execution_count": 21,
     "metadata": {},
     "output_type": "execute_result"
    }
   ],
   "source": [
    "local_path = 'C:/Users/Max-Pc/Downloads/millionsongsubset_full/MillionSongSubset/data'\n",
    "count_all_files(local_path)"
   ]
  },
  {
   "cell_type": "code",
   "execution_count": 85,
   "metadata": {
    "collapsed": false
   },
   "outputs": [],
   "source": [
    "def get_all_titles(basedir,ext='.h5') :\n",
    "    titles = []\n",
    "    iteration = 0\n",
    "    for root, dirs, files in os.walk(basedir):\n",
    "        files = glob.glob(os.path.join(root,'*'+ext))\n",
    "        for f in files:\n",
    "            h5 = hdf5_getters.open_h5_file_read(f)\n",
    "            titles.append( hdf5_getters.get_title(h5))\n",
    "            h5.close()\n",
    "            iteration+=1\n",
    "            if(iteration%1000== 0):\n",
    "                print(iteration)\n",
    "    return titles"
   ]
  },
  {
   "cell_type": "code",
   "execution_count": 96,
   "metadata": {
    "collapsed": true
   },
   "outputs": [],
   "source": [
    "def get_all_interesting_data(basedir,ext='.h5') :\n",
    "    datas = []\n",
    "    iteration = 0\n",
    "    for root, dirs, files in os.walk(basedir):\n",
    "        files = glob.glob(os.path.join(root,'*'+ext))\n",
    "        for f in files:\n",
    "            oneSongData = []\n",
    "            h5 = hdf5_getters.open_h5_file_read(f)\n",
    "            oneSongData.append( hdf5_getters.get_artist_id(h5))\n",
    "            oneSongData.append(hdf5_getters.get_artist_name(h5))\n",
    "            oneSongData.append(hdf5_getters.get_danceability(h5)) #always zero\n",
    "            oneSongData.append(hdf5_getters.get_duration(h5))\n",
    "            oneSongData.append(hdf5_getters.get_song_hotttnesss(h5))\n",
    "            oneSongData.append(hdf5_getters.get_tempo(h5))\n",
    "            oneSongData.append(hdf5_getters.get_year(h5))\n",
    "            h5.close()\n",
    "            iteration+=1\n",
    "            if(iteration%1000== 0):\n",
    "                print(iteration)\n",
    "            datas.append(oneSongData)\n",
    "    return datas"
   ]
  },
  {
   "cell_type": "code",
   "execution_count": 97,
   "metadata": {
    "collapsed": false
   },
   "outputs": [
    {
     "name": "stdout",
     "output_type": "stream",
     "text": [
      "1000\n",
      "2000\n",
      "3000\n",
      "4000\n",
      "5000\n",
      "6000\n",
      "7000\n",
      "8000\n",
      "9000\n",
      "10000\n"
     ]
    }
   ],
   "source": [
    "datas = get_all_interesting_data(local_path)"
   ]
  },
  {
   "cell_type": "code",
   "execution_count": 130,
   "metadata": {
    "collapsed": false
   },
   "outputs": [],
   "source": [
    "df = pd.DataFrame(datas,columns=['ArtistID','ArtistName','Danceability','Duration','SongHotness','Tempo','Year'])"
   ]
  },
  {
   "cell_type": "code",
   "execution_count": 135,
   "metadata": {
    "collapsed": false
   },
   "outputs": [
    {
     "data": {
      "text/html": [
       "<div>\n",
       "<table border=\"1\" class=\"dataframe\">\n",
       "  <thead>\n",
       "    <tr style=\"text-align: right;\">\n",
       "      <th></th>\n",
       "      <th>ArtistID</th>\n",
       "      <th>ArtistName</th>\n",
       "      <th>Danceability</th>\n",
       "      <th>Duration</th>\n",
       "      <th>SongHotness</th>\n",
       "      <th>Tempo</th>\n",
       "      <th>Year</th>\n",
       "    </tr>\n",
       "  </thead>\n",
       "  <tbody>\n",
       "    <tr>\n",
       "      <th>4</th>\n",
       "      <td>b'ARXR32B1187FB57099'</td>\n",
       "      <td>b'Gob'</td>\n",
       "      <td>0.0</td>\n",
       "      <td>209.60608</td>\n",
       "      <td>0.604501</td>\n",
       "      <td>129.738</td>\n",
       "      <td>2007</td>\n",
       "    </tr>\n",
       "    <tr>\n",
       "      <th>8</th>\n",
       "      <td>b'AR8ZCNI1187B9A069B'</td>\n",
       "      <td>b'Planet P Project'</td>\n",
       "      <td>0.0</td>\n",
       "      <td>269.81832</td>\n",
       "      <td>0.265861</td>\n",
       "      <td>86.643</td>\n",
       "      <td>1984</td>\n",
       "    </tr>\n",
       "    <tr>\n",
       "      <th>15</th>\n",
       "      <td>b'ARD842G1187B997376'</td>\n",
       "      <td>b'Blue Rodeo'</td>\n",
       "      <td>0.0</td>\n",
       "      <td>491.12771</td>\n",
       "      <td>0.405116</td>\n",
       "      <td>119.826</td>\n",
       "      <td>1987</td>\n",
       "    </tr>\n",
       "    <tr>\n",
       "      <th>18</th>\n",
       "      <td>b'ARYKCQI1187FB3B18F'</td>\n",
       "      <td>b'Tesla'</td>\n",
       "      <td>0.0</td>\n",
       "      <td>290.29832</td>\n",
       "      <td>0.684136</td>\n",
       "      <td>150.062</td>\n",
       "      <td>2004</td>\n",
       "    </tr>\n",
       "    <tr>\n",
       "      <th>23</th>\n",
       "      <td>b'ARMAC4T1187FB3FA4C'</td>\n",
       "      <td>b'The Dillinger Escape Plan'</td>\n",
       "      <td>0.0</td>\n",
       "      <td>207.77751</td>\n",
       "      <td>0.666528</td>\n",
       "      <td>166.862</td>\n",
       "      <td>2004</td>\n",
       "    </tr>\n",
       "  </tbody>\n",
       "</table>\n",
       "</div>"
      ],
      "text/plain": [
       "                 ArtistID                    ArtistName  Danceability  \\\n",
       "4   b'ARXR32B1187FB57099'                        b'Gob'           0.0   \n",
       "8   b'AR8ZCNI1187B9A069B'           b'Planet P Project'           0.0   \n",
       "15  b'ARD842G1187B997376'                 b'Blue Rodeo'           0.0   \n",
       "18  b'ARYKCQI1187FB3B18F'                      b'Tesla'           0.0   \n",
       "23  b'ARMAC4T1187FB3FA4C'  b'The Dillinger Escape Plan'           0.0   \n",
       "\n",
       "     Duration  SongHotness    Tempo  Year  \n",
       "4   209.60608     0.604501  129.738  2007  \n",
       "8   269.81832     0.265861   86.643  1984  \n",
       "15  491.12771     0.405116  119.826  1987  \n",
       "18  290.29832     0.684136  150.062  2004  \n",
       "23  207.77751     0.666528  166.862  2004  "
      ]
     },
     "execution_count": 135,
     "metadata": {},
     "output_type": "execute_result"
    }
   ],
   "source": [
    "df = df[df.Year>0]\n",
    "df = df[df.SongHotness>0]\n",
    "df.head()"
   ]
  },
  {
   "cell_type": "code",
   "execution_count": 138,
   "metadata": {
    "collapsed": false
   },
   "outputs": [
    {
     "data": {
      "text/plain": [
       "LinearRegression(copy_X=True, fit_intercept=True, n_jobs=1, normalize=False)"
      ]
     },
     "execution_count": 138,
     "metadata": {},
     "output_type": "execute_result"
    }
   ],
   "source": [
    "X = df[['Duration','Tempo','Year']]\n",
    "y = df[['SongHotness']]\n",
    "logistic = LinearRegression()  # create the model\n",
    "logistic.fit(X, y)  # train it"
   ]
  },
  {
   "cell_type": "code",
   "execution_count": 147,
   "metadata": {
    "collapsed": false
   },
   "outputs": [
    {
     "name": "stderr",
     "output_type": "stream",
     "text": [
      "C:\\Users\\Max-Pc\\Anaconda3\\lib\\site-packages\\sklearn\\utils\\validation.py:395: DeprecationWarning: Passing 1d arrays as data is deprecated in 0.17 and will raise ValueError in 0.19. Reshape your data either using X.reshape(-1, 1) if your data has a single feature or X.reshape(1, -1) if it contains a single sample.\n",
      "  DeprecationWarning)\n"
     ]
    },
    {
     "data": {
      "text/plain": [
       "array([[ 0.00093221]])"
      ]
     },
     "execution_count": 147,
     "metadata": {},
     "output_type": "execute_result"
    }
   ],
   "source": [
    "logistic.predict([200,180,1500])"
   ]
  },
  {
   "cell_type": "code",
   "execution_count": null,
   "metadata": {
    "collapsed": true
   },
   "outputs": [],
   "source": []
  }
 ],
 "metadata": {
  "anaconda-cloud": {},
  "kernelspec": {
   "display_name": "Python [Root]",
   "language": "python",
   "name": "Python [Root]"
  }
 },
 "nbformat": 4,
 "nbformat_minor": 1
}
