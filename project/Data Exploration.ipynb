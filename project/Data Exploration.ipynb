{
 "cells": [
  {
   "cell_type": "code",
   "execution_count": 5,
   "metadata": {},
   "outputs": [],
   "source": [
    "import hdf5_getters\n",
    "import sqlite3 as sq\n",
    "import os\n",
    "import pandas as pd"
   ]
  },
  {
   "cell_type": "code",
   "execution_count": 6,
   "metadata": {
    "collapsed": true
   },
   "outputs": [
    {
     "ename": "AttributeError",
     "evalue": "module 'tables' has no attribute 'openFile'",
     "output_type": "error",
     "traceback": [
      "\u001b[1;31m---------------------------------------------------------------------------\u001b[0m",
      "\u001b[1;31mAttributeError\u001b[0m                            Traceback (most recent call last)",
      "\u001b[1;32m<ipython-input-6-5b96e93a793f>\u001b[0m in \u001b[0;36m<module>\u001b[1;34m()\u001b[0m\n\u001b[1;32m----> 1\u001b[1;33m \u001b[0mh5\u001b[0m \u001b[1;33m=\u001b[0m \u001b[0mhdf5_getters\u001b[0m\u001b[1;33m.\u001b[0m\u001b[0mopen_h5_file_read\u001b[0m\u001b[1;33m(\u001b[0m\u001b[1;34m\"TRAAAAW128F429D538.h5\"\u001b[0m\u001b[1;33m)\u001b[0m\u001b[1;33m\u001b[0m\u001b[0m\n\u001b[0m\u001b[0;32m      2\u001b[0m \u001b[0mduration\u001b[0m \u001b[1;33m=\u001b[0m \u001b[0mhdf5_getters\u001b[0m\u001b[1;33m.\u001b[0m\u001b[0mget_artist_terms_weight\u001b[0m\u001b[1;33m(\u001b[0m\u001b[0mh5\u001b[0m\u001b[1;33m)\u001b[0m\u001b[1;33m\u001b[0m\u001b[0m\n\u001b[0;32m      3\u001b[0m \u001b[0mprint\u001b[0m\u001b[1;33m(\u001b[0m\u001b[0mduration\u001b[0m\u001b[1;33m)\u001b[0m\u001b[1;33m\u001b[0m\u001b[0m\n",
      "\u001b[1;32m~\\Documents\\Uni\\EPFL\\ADA\\ADA\\project\\hdf5_getters.py\u001b[0m in \u001b[0;36mopen_h5_file_read\u001b[1;34m(h5filename)\u001b[0m\n\u001b[0;32m     37\u001b[0m     \u001b[0mSame\u001b[0m \u001b[0mfunction\u001b[0m \u001b[1;32mas\u001b[0m \u001b[1;32min\u001b[0m \u001b[0mhdf5_utils\u001b[0m\u001b[1;33m,\u001b[0m \u001b[0mhere\u001b[0m \u001b[0mso\u001b[0m \u001b[0mwe\u001b[0m \u001b[0mavoid\u001b[0m \u001b[0mone\u001b[0m \u001b[1;32mimport\u001b[0m\u001b[1;33m\u001b[0m\u001b[0m\n\u001b[0;32m     38\u001b[0m     \"\"\"\n\u001b[1;32m---> 39\u001b[1;33m     \u001b[1;32mreturn\u001b[0m \u001b[0mtables\u001b[0m\u001b[1;33m.\u001b[0m\u001b[0mopenFile\u001b[0m\u001b[1;33m(\u001b[0m\u001b[0mh5filename\u001b[0m\u001b[1;33m,\u001b[0m \u001b[0mmode\u001b[0m\u001b[1;33m=\u001b[0m\u001b[1;34m'r'\u001b[0m\u001b[1;33m)\u001b[0m\u001b[1;33m\u001b[0m\u001b[0m\n\u001b[0m\u001b[0;32m     40\u001b[0m \u001b[1;33m\u001b[0m\u001b[0m\n\u001b[0;32m     41\u001b[0m \u001b[1;33m\u001b[0m\u001b[0m\n",
      "\u001b[1;31mAttributeError\u001b[0m: module 'tables' has no attribute 'openFile'"
     ]
    }
   ],
   "source": [
    "h5 = hdf5_getters.open_h5_file_read(\"TRAAAAW128F429D538.h5\")\n",
    "duration = hdf5_getters.get_artist_terms_weight(h5)\n",
    "print(duration)\n"
   ]
  },
  {
   "cell_type": "markdown",
   "metadata": {},
   "source": [
    "## Additional Files"
   ]
  },
  {
   "cell_type": "markdown",
   "metadata": {},
   "source": [
    "### Releases per Year per Genre"
   ]
  },
  {
   "cell_type": "code",
   "execution_count": 7,
   "metadata": {},
   "outputs": [],
   "source": [
    "def db_list_tables(path):\n",
    "    print (\"Connecting to DB at path {}\".format(path))\n",
    "    conn = sq.connect(path)\n",
    "    c = conn.cursor()\n",
    "    \n",
    "    c.execute(\"select sql from sqlite_master where type = 'table'\")\n",
    "    \n",
    "    print (\"Tables in database:\")\n",
    "    for row in c.fetchall():\n",
    "        print (row)"
   ]
  },
  {
   "cell_type": "code",
   "execution_count": 8,
   "metadata": {},
   "outputs": [
    {
     "name": "stdout",
     "output_type": "stream",
     "text": [
      "Connecting to DB at path .\\AdditionalFiles\\subset_artist_term.db\n",
      "Tables in database:\n",
      "('CREATE TABLE artists (artist_id text PRIMARY KEY)',)\n",
      "('CREATE TABLE terms (term text PRIMARY KEY)',)\n",
      "('CREATE TABLE artist_term (artist_id text, term text, FOREIGN KEY(artist_id) REFERENCES artists(artist_id), FOREIGN KEY(term) REFERENCES terms(term) )',)\n",
      "('CREATE TABLE mbtags (mbtag text PRIMARY KEY)',)\n",
      "('CREATE TABLE artist_mbtag (artist_id text, mbtag text, FOREIGN KEY(artist_id) REFERENCES artists(artist_id), FOREIGN KEY(mbtag) REFERENCES mbtags(mbtag) )',)\n",
      "Connecting to DB at path .\\AdditionalFiles\\subset_artist_similarity.db\n",
      "Tables in database:\n",
      "('CREATE TABLE artists (artist_id text PRIMARY KEY)',)\n",
      "('CREATE TABLE similarity (target text, similar text, FOREIGN KEY(target) REFERENCES artists(artist_id), FOREIGN KEY(similar) REFERENCES artists(artist_id) )',)\n",
      "Connecting to DB at path .\\AdditionalFiles\\subset_track_metadata.db\n",
      "Tables in database:\n",
      "('CREATE TABLE songs (track_id text PRIMARY KEY, title text, song_id text, release text, artist_id text, artist_mbid text, artist_name text, duration real, artist_familiarity real, artist_hotttnesss real, year int)',)\n"
     ]
    }
   ],
   "source": [
    "path_artists_genres = os.path.join(\".\", \"AdditionalFiles\", \"subset_artist_term.db\")\n",
    "db_list_tables(path_artists_genres)\n",
    "\n",
    "path_artists_similarity = os.path.join(\".\", \"AdditionalFiles\", \"subset_artist_similarity.db\")\n",
    "db_list_tables(path_artists_similarity)\n",
    "\n",
    "path_track_metadata = os.path.join(\".\", \"AdditionalFiles\", \"subset_track_metadata.db\")\n",
    "db_list_tables(path_track_metadata)"
   ]
  },
  {
   "cell_type": "code",
   "execution_count": 10,
   "metadata": {
    "scrolled": true
   },
   "outputs": [
    {
     "name": "stdout",
     "output_type": "stream",
     "text": [
      "('ARE36MM1187B991E50', 'Blind Lemon Jefferson', 1926, 2)\n",
      "('ARE36MM1187B991E50', 'Blind Lemon Jefferson', 1927, 1)\n",
      "('ARRU9GR1187FB43F56', 'Blind Willie McTell', 1927, 1)\n",
      "('ARWQ2DR1187B98FF28', 'Ma Rainey', 1927, 1)\n",
      "('ARTDUXM1187B9899ED', 'Charley Patton', 1929, 1)\n"
     ]
    }
   ],
   "source": [
    "# get number of songs per year per artist\n",
    "conn = sq.connect(path_track_metadata)\n",
    "c = conn.cursor()\n",
    "c.execute(\"\"\"SELECT artist_id, artist_name, year, count(*) as cnt\n",
    "            FROM songs\n",
    "            GROUP BY artist_id, year\n",
    "            Having year>0\n",
    "            ORDER BY year\"\"\")\n",
    "\n",
    "res_art_song_year = c.fetchall()\n",
    "for i in range(5):\n",
    "    print (res_art_song_year[i])"
   ]
  },
  {
   "cell_type": "markdown",
   "metadata": {},
   "source": [
    "#### Genre from EchoNest"
   ]
  },
  {
   "cell_type": "code",
   "execution_count": 25,
   "metadata": {},
   "outputs": [
    {
     "name": "stdout",
     "output_type": "stream",
     "text": [
      "('AR009211187B989185', 'lovers rock')\n",
      "('AR009211187B989185', 'reggae')\n",
      "('AR009211187B989185', 'roots reggae')\n",
      "('AR009211187B989185', 'uk garage')\n",
      "('AR009211187B989185', 'ballad')\n"
     ]
    }
   ],
   "source": [
    "#get mapping artist genre\n",
    "conn = sq.connect(path_artists_genres)\n",
    "c = conn.cursor()\n",
    "c.execute(\"\"\"SELECT artist_id, term\n",
    "              FROM artist_term\"\"\")\n",
    "\n",
    "res_art_genre = c.fetchall()\n",
    "for i in range(5):\n",
    "    print (res_art_genre[i])"
   ]
  },
  {
   "cell_type": "code",
   "execution_count": 26,
   "metadata": {},
   "outputs": [
    {
     "data": {
      "text/html": [
       "<div>\n",
       "<style>\n",
       "    .dataframe thead tr:only-child th {\n",
       "        text-align: right;\n",
       "    }\n",
       "\n",
       "    .dataframe thead th {\n",
       "        text-align: left;\n",
       "    }\n",
       "\n",
       "    .dataframe tbody tr th {\n",
       "        vertical-align: top;\n",
       "    }\n",
       "</style>\n",
       "<table border=\"1\" class=\"dataframe\">\n",
       "  <thead>\n",
       "    <tr style=\"text-align: right;\">\n",
       "      <th></th>\n",
       "      <th>artist_id</th>\n",
       "      <th>artist_name</th>\n",
       "      <th>year</th>\n",
       "      <th>tracks</th>\n",
       "    </tr>\n",
       "  </thead>\n",
       "  <tbody>\n",
       "    <tr>\n",
       "      <th>0</th>\n",
       "      <td>ARE36MM1187B991E50</td>\n",
       "      <td>Blind Lemon Jefferson</td>\n",
       "      <td>1926</td>\n",
       "      <td>2</td>\n",
       "    </tr>\n",
       "    <tr>\n",
       "      <th>1</th>\n",
       "      <td>ARE36MM1187B991E50</td>\n",
       "      <td>Blind Lemon Jefferson</td>\n",
       "      <td>1927</td>\n",
       "      <td>1</td>\n",
       "    </tr>\n",
       "    <tr>\n",
       "      <th>2</th>\n",
       "      <td>ARRU9GR1187FB43F56</td>\n",
       "      <td>Blind Willie McTell</td>\n",
       "      <td>1927</td>\n",
       "      <td>1</td>\n",
       "    </tr>\n",
       "    <tr>\n",
       "      <th>3</th>\n",
       "      <td>ARWQ2DR1187B98FF28</td>\n",
       "      <td>Ma Rainey</td>\n",
       "      <td>1927</td>\n",
       "      <td>1</td>\n",
       "    </tr>\n",
       "    <tr>\n",
       "      <th>4</th>\n",
       "      <td>ARTDUXM1187B9899ED</td>\n",
       "      <td>Charley Patton</td>\n",
       "      <td>1929</td>\n",
       "      <td>1</td>\n",
       "    </tr>\n",
       "  </tbody>\n",
       "</table>\n",
       "</div>"
      ],
      "text/plain": [
       "            artist_id            artist_name  year  tracks\n",
       "0  ARE36MM1187B991E50  Blind Lemon Jefferson  1926       2\n",
       "1  ARE36MM1187B991E50  Blind Lemon Jefferson  1927       1\n",
       "2  ARRU9GR1187FB43F56    Blind Willie McTell  1927       1\n",
       "3  ARWQ2DR1187B98FF28              Ma Rainey  1927       1\n",
       "4  ARTDUXM1187B9899ED         Charley Patton  1929       1"
      ]
     },
     "execution_count": 26,
     "metadata": {},
     "output_type": "execute_result"
    }
   ],
   "source": [
    "# merge lists: count number of songs per genre (if artist has 2 gernres, count for each one)\n",
    "df_art_song_year = pd.DataFrame(res_art_song_year)\n",
    "df_art_song_year.columns = [\"artist_id\", \"artist_name\", \"year\", \"tracks\"]\n",
    "df_art_song_year.head()"
   ]
  },
  {
   "cell_type": "code",
   "execution_count": 27,
   "metadata": {},
   "outputs": [
    {
     "data": {
      "text/html": [
       "<div>\n",
       "<style>\n",
       "    .dataframe thead tr:only-child th {\n",
       "        text-align: right;\n",
       "    }\n",
       "\n",
       "    .dataframe thead th {\n",
       "        text-align: left;\n",
       "    }\n",
       "\n",
       "    .dataframe tbody tr th {\n",
       "        vertical-align: top;\n",
       "    }\n",
       "</style>\n",
       "<table border=\"1\" class=\"dataframe\">\n",
       "  <thead>\n",
       "    <tr style=\"text-align: right;\">\n",
       "      <th></th>\n",
       "      <th>artist_id</th>\n",
       "      <th>genre</th>\n",
       "    </tr>\n",
       "  </thead>\n",
       "  <tbody>\n",
       "    <tr>\n",
       "      <th>0</th>\n",
       "      <td>AR009211187B989185</td>\n",
       "      <td>lovers rock</td>\n",
       "    </tr>\n",
       "    <tr>\n",
       "      <th>1</th>\n",
       "      <td>AR009211187B989185</td>\n",
       "      <td>reggae</td>\n",
       "    </tr>\n",
       "    <tr>\n",
       "      <th>2</th>\n",
       "      <td>AR009211187B989185</td>\n",
       "      <td>roots reggae</td>\n",
       "    </tr>\n",
       "    <tr>\n",
       "      <th>3</th>\n",
       "      <td>AR009211187B989185</td>\n",
       "      <td>uk garage</td>\n",
       "    </tr>\n",
       "    <tr>\n",
       "      <th>4</th>\n",
       "      <td>AR009211187B989185</td>\n",
       "      <td>ballad</td>\n",
       "    </tr>\n",
       "  </tbody>\n",
       "</table>\n",
       "</div>"
      ],
      "text/plain": [
       "            artist_id         genre\n",
       "0  AR009211187B989185   lovers rock\n",
       "1  AR009211187B989185        reggae\n",
       "2  AR009211187B989185  roots reggae\n",
       "3  AR009211187B989185     uk garage\n",
       "4  AR009211187B989185        ballad"
      ]
     },
     "execution_count": 27,
     "metadata": {},
     "output_type": "execute_result"
    }
   ],
   "source": [
    "df_art_genre = pd.DataFrame(res_art_genre)\n",
    "df_art_genre.columns = [\"artist_id\", \"genre\"]\n",
    "df_art_genre.head()"
   ]
  },
  {
   "cell_type": "code",
   "execution_count": 28,
   "metadata": {
    "scrolled": true
   },
   "outputs": [
    {
     "name": "stdout",
     "output_type": "stream",
     "text": [
      "(109034, 3)\n"
     ]
    },
    {
     "data": {
      "text/html": [
       "<div>\n",
       "<style>\n",
       "    .dataframe thead tr:only-child th {\n",
       "        text-align: right;\n",
       "    }\n",
       "\n",
       "    .dataframe thead th {\n",
       "        text-align: left;\n",
       "    }\n",
       "\n",
       "    .dataframe tbody tr th {\n",
       "        vertical-align: top;\n",
       "    }\n",
       "</style>\n",
       "<table border=\"1\" class=\"dataframe\">\n",
       "  <thead>\n",
       "    <tr style=\"text-align: right;\">\n",
       "      <th></th>\n",
       "      <th>year</th>\n",
       "      <th>tracks</th>\n",
       "      <th>genre</th>\n",
       "    </tr>\n",
       "  </thead>\n",
       "  <tbody>\n",
       "    <tr>\n",
       "      <th>0</th>\n",
       "      <td>1926</td>\n",
       "      <td>2</td>\n",
       "      <td>country blues</td>\n",
       "    </tr>\n",
       "    <tr>\n",
       "      <th>1</th>\n",
       "      <td>1926</td>\n",
       "      <td>2</td>\n",
       "      <td>delta blues</td>\n",
       "    </tr>\n",
       "    <tr>\n",
       "      <th>2</th>\n",
       "      <td>1926</td>\n",
       "      <td>2</td>\n",
       "      <td>texas blues</td>\n",
       "    </tr>\n",
       "    <tr>\n",
       "      <th>3</th>\n",
       "      <td>1926</td>\n",
       "      <td>2</td>\n",
       "      <td>blues</td>\n",
       "    </tr>\n",
       "    <tr>\n",
       "      <th>4</th>\n",
       "      <td>1926</td>\n",
       "      <td>2</td>\n",
       "      <td>louisiana blues</td>\n",
       "    </tr>\n",
       "  </tbody>\n",
       "</table>\n",
       "</div>"
      ],
      "text/plain": [
       "   year  tracks            genre\n",
       "0  1926       2    country blues\n",
       "1  1926       2      delta blues\n",
       "2  1926       2      texas blues\n",
       "3  1926       2            blues\n",
       "4  1926       2  louisiana blues"
      ]
     },
     "execution_count": 28,
     "metadata": {},
     "output_type": "execute_result"
    }
   ],
   "source": [
    "df_art_song_year_genre = pd.merge(df_art_song_year, df_art_genre, on=\"artist_id\")\n",
    "\n",
    "df_song_year_genre = df_art_song_year_genre.drop(df_art_song_year_genre.columns[:2], axis=1)\n",
    "print (df_song_year_genre.shape)\n",
    "df_song_year_genre.head()"
   ]
  },
  {
   "cell_type": "code",
   "execution_count": 29,
   "metadata": {},
   "outputs": [
    {
     "data": {
      "text/html": [
       "<div>\n",
       "<style>\n",
       "    .dataframe thead tr:only-child th {\n",
       "        text-align: right;\n",
       "    }\n",
       "\n",
       "    .dataframe thead th {\n",
       "        text-align: left;\n",
       "    }\n",
       "\n",
       "    .dataframe tbody tr th {\n",
       "        vertical-align: top;\n",
       "    }\n",
       "</style>\n",
       "<table border=\"1\" class=\"dataframe\">\n",
       "  <thead>\n",
       "    <tr style=\"text-align: right;\">\n",
       "      <th></th>\n",
       "      <th>year</th>\n",
       "      <th>tracks</th>\n",
       "      <th>genre</th>\n",
       "    </tr>\n",
       "  </thead>\n",
       "  <tbody>\n",
       "    <tr>\n",
       "      <th>98889</th>\n",
       "      <td>2006</td>\n",
       "      <td>8</td>\n",
       "      <td>reggae</td>\n",
       "    </tr>\n",
       "    <tr>\n",
       "      <th>98901</th>\n",
       "      <td>2006</td>\n",
       "      <td>8</td>\n",
       "      <td>soft</td>\n",
       "    </tr>\n",
       "    <tr>\n",
       "      <th>98893</th>\n",
       "      <td>2006</td>\n",
       "      <td>8</td>\n",
       "      <td>female vocalist</td>\n",
       "    </tr>\n",
       "    <tr>\n",
       "      <th>98894</th>\n",
       "      <td>2006</td>\n",
       "      <td>8</td>\n",
       "      <td>funk</td>\n",
       "    </tr>\n",
       "    <tr>\n",
       "      <th>98895</th>\n",
       "      <td>2006</td>\n",
       "      <td>8</td>\n",
       "      <td>singer-songwriter</td>\n",
       "    </tr>\n",
       "  </tbody>\n",
       "</table>\n",
       "</div>"
      ],
      "text/plain": [
       "       year  tracks              genre\n",
       "98889  2006       8             reggae\n",
       "98901  2006       8               soft\n",
       "98893  2006       8    female vocalist\n",
       "98894  2006       8               funk\n",
       "98895  2006       8  singer-songwriter"
      ]
     },
     "execution_count": 29,
     "metadata": {},
     "output_type": "execute_result"
    }
   ],
   "source": [
    "df_song_year_genre.sort_values([\"tracks\"], ascending=False).head()"
   ]
  },
  {
   "cell_type": "markdown",
   "metadata": {},
   "source": [
    "#### Genre from mb"
   ]
  },
  {
   "cell_type": "code",
   "execution_count": 30,
   "metadata": {},
   "outputs": [
    {
     "name": "stdout",
     "output_type": "stream",
     "text": [
      "('AR00A6H1187FB5402A', 'detroit')\n",
      "('AR00A6H1187FB5402A', 'punk')\n",
      "('AR00A6H1187FB5402A', 'michigan')\n",
      "('AR00A6H1187FB5402A', 'usa')\n",
      "('AR01VU31187B997DA0', 'hard rock')\n"
     ]
    }
   ],
   "source": [
    "#get mapping artist genre\n",
    "conn = sq.connect(path_artists_genres)\n",
    "c = conn.cursor()\n",
    "c.execute(\"\"\"SELECT artist_id, mbtag\n",
    "              FROM artist_mbtag\"\"\")\n",
    "\n",
    "res_art_genre = c.fetchall()\n",
    "for i in range(5):\n",
    "    print (res_art_genre[i])"
   ]
  },
  {
   "cell_type": "code",
   "execution_count": 31,
   "metadata": {},
   "outputs": [
    {
     "data": {
      "text/html": [
       "<div>\n",
       "<style>\n",
       "    .dataframe thead tr:only-child th {\n",
       "        text-align: right;\n",
       "    }\n",
       "\n",
       "    .dataframe thead th {\n",
       "        text-align: left;\n",
       "    }\n",
       "\n",
       "    .dataframe tbody tr th {\n",
       "        vertical-align: top;\n",
       "    }\n",
       "</style>\n",
       "<table border=\"1\" class=\"dataframe\">\n",
       "  <thead>\n",
       "    <tr style=\"text-align: right;\">\n",
       "      <th></th>\n",
       "      <th>artist_id</th>\n",
       "      <th>artist_name</th>\n",
       "      <th>year</th>\n",
       "      <th>tracks</th>\n",
       "    </tr>\n",
       "  </thead>\n",
       "  <tbody>\n",
       "    <tr>\n",
       "      <th>0</th>\n",
       "      <td>ARE36MM1187B991E50</td>\n",
       "      <td>Blind Lemon Jefferson</td>\n",
       "      <td>1926</td>\n",
       "      <td>2</td>\n",
       "    </tr>\n",
       "    <tr>\n",
       "      <th>1</th>\n",
       "      <td>ARE36MM1187B991E50</td>\n",
       "      <td>Blind Lemon Jefferson</td>\n",
       "      <td>1927</td>\n",
       "      <td>1</td>\n",
       "    </tr>\n",
       "    <tr>\n",
       "      <th>2</th>\n",
       "      <td>ARRU9GR1187FB43F56</td>\n",
       "      <td>Blind Willie McTell</td>\n",
       "      <td>1927</td>\n",
       "      <td>1</td>\n",
       "    </tr>\n",
       "    <tr>\n",
       "      <th>3</th>\n",
       "      <td>ARWQ2DR1187B98FF28</td>\n",
       "      <td>Ma Rainey</td>\n",
       "      <td>1927</td>\n",
       "      <td>1</td>\n",
       "    </tr>\n",
       "    <tr>\n",
       "      <th>4</th>\n",
       "      <td>ARTDUXM1187B9899ED</td>\n",
       "      <td>Charley Patton</td>\n",
       "      <td>1929</td>\n",
       "      <td>1</td>\n",
       "    </tr>\n",
       "  </tbody>\n",
       "</table>\n",
       "</div>"
      ],
      "text/plain": [
       "            artist_id            artist_name  year  tracks\n",
       "0  ARE36MM1187B991E50  Blind Lemon Jefferson  1926       2\n",
       "1  ARE36MM1187B991E50  Blind Lemon Jefferson  1927       1\n",
       "2  ARRU9GR1187FB43F56    Blind Willie McTell  1927       1\n",
       "3  ARWQ2DR1187B98FF28              Ma Rainey  1927       1\n",
       "4  ARTDUXM1187B9899ED         Charley Patton  1929       1"
      ]
     },
     "execution_count": 31,
     "metadata": {},
     "output_type": "execute_result"
    }
   ],
   "source": [
    "# merge lists: count number of songs per genre (if artist has 2 gernres, count for each one)\n",
    "df_art_song_year = pd.DataFrame(res_art_song_year)\n",
    "df_art_song_year.columns = [\"artist_id\", \"artist_name\", \"year\", \"tracks\"]\n",
    "df_art_song_year.head()"
   ]
  },
  {
   "cell_type": "code",
   "execution_count": 32,
   "metadata": {},
   "outputs": [
    {
     "data": {
      "text/html": [
       "<div>\n",
       "<style>\n",
       "    .dataframe thead tr:only-child th {\n",
       "        text-align: right;\n",
       "    }\n",
       "\n",
       "    .dataframe thead th {\n",
       "        text-align: left;\n",
       "    }\n",
       "\n",
       "    .dataframe tbody tr th {\n",
       "        vertical-align: top;\n",
       "    }\n",
       "</style>\n",
       "<table border=\"1\" class=\"dataframe\">\n",
       "  <thead>\n",
       "    <tr style=\"text-align: right;\">\n",
       "      <th></th>\n",
       "      <th>artist_id</th>\n",
       "      <th>genre</th>\n",
       "    </tr>\n",
       "  </thead>\n",
       "  <tbody>\n",
       "    <tr>\n",
       "      <th>0</th>\n",
       "      <td>AR00A6H1187FB5402A</td>\n",
       "      <td>detroit</td>\n",
       "    </tr>\n",
       "    <tr>\n",
       "      <th>1</th>\n",
       "      <td>AR00A6H1187FB5402A</td>\n",
       "      <td>punk</td>\n",
       "    </tr>\n",
       "    <tr>\n",
       "      <th>2</th>\n",
       "      <td>AR00A6H1187FB5402A</td>\n",
       "      <td>michigan</td>\n",
       "    </tr>\n",
       "    <tr>\n",
       "      <th>3</th>\n",
       "      <td>AR00A6H1187FB5402A</td>\n",
       "      <td>usa</td>\n",
       "    </tr>\n",
       "    <tr>\n",
       "      <th>4</th>\n",
       "      <td>AR01VU31187B997DA0</td>\n",
       "      <td>hard rock</td>\n",
       "    </tr>\n",
       "  </tbody>\n",
       "</table>\n",
       "</div>"
      ],
      "text/plain": [
       "            artist_id      genre\n",
       "0  AR00A6H1187FB5402A    detroit\n",
       "1  AR00A6H1187FB5402A       punk\n",
       "2  AR00A6H1187FB5402A   michigan\n",
       "3  AR00A6H1187FB5402A        usa\n",
       "4  AR01VU31187B997DA0  hard rock"
      ]
     },
     "execution_count": 32,
     "metadata": {},
     "output_type": "execute_result"
    }
   ],
   "source": [
    "df_art_genre = pd.DataFrame(res_art_genre)\n",
    "df_art_genre.columns = [\"artist_id\", \"genre\"]\n",
    "df_art_genre.head()"
   ]
  },
  {
   "cell_type": "code",
   "execution_count": 33,
   "metadata": {},
   "outputs": [
    {
     "name": "stdout",
     "output_type": "stream",
     "text": [
      "(8366, 3)\n"
     ]
    },
    {
     "data": {
      "text/html": [
       "<div>\n",
       "<style>\n",
       "    .dataframe thead tr:only-child th {\n",
       "        text-align: right;\n",
       "    }\n",
       "\n",
       "    .dataframe thead th {\n",
       "        text-align: left;\n",
       "    }\n",
       "\n",
       "    .dataframe tbody tr th {\n",
       "        vertical-align: top;\n",
       "    }\n",
       "</style>\n",
       "<table border=\"1\" class=\"dataframe\">\n",
       "  <thead>\n",
       "    <tr style=\"text-align: right;\">\n",
       "      <th></th>\n",
       "      <th>year</th>\n",
       "      <th>tracks</th>\n",
       "      <th>genre</th>\n",
       "    </tr>\n",
       "  </thead>\n",
       "  <tbody>\n",
       "    <tr>\n",
       "      <th>0</th>\n",
       "      <td>1926</td>\n",
       "      <td>2</td>\n",
       "      <td>blues</td>\n",
       "    </tr>\n",
       "    <tr>\n",
       "      <th>1</th>\n",
       "      <td>1926</td>\n",
       "      <td>2</td>\n",
       "      <td>american</td>\n",
       "    </tr>\n",
       "    <tr>\n",
       "      <th>2</th>\n",
       "      <td>1927</td>\n",
       "      <td>1</td>\n",
       "      <td>blues</td>\n",
       "    </tr>\n",
       "    <tr>\n",
       "      <th>3</th>\n",
       "      <td>1927</td>\n",
       "      <td>1</td>\n",
       "      <td>american</td>\n",
       "    </tr>\n",
       "    <tr>\n",
       "      <th>4</th>\n",
       "      <td>1972</td>\n",
       "      <td>1</td>\n",
       "      <td>blues</td>\n",
       "    </tr>\n",
       "  </tbody>\n",
       "</table>\n",
       "</div>"
      ],
      "text/plain": [
       "   year  tracks     genre\n",
       "0  1926       2     blues\n",
       "1  1926       2  american\n",
       "2  1927       1     blues\n",
       "3  1927       1  american\n",
       "4  1972       1     blues"
      ]
     },
     "execution_count": 33,
     "metadata": {},
     "output_type": "execute_result"
    }
   ],
   "source": [
    "df_art_song_year_genre = pd.merge(df_art_song_year, df_art_genre, on=\"artist_id\")\n",
    "\n",
    "df_song_year_genre = df_art_song_year_genre.drop(df_art_song_year_genre.columns[:2], axis=1)\n",
    "print (df_song_year_genre.shape)\n",
    "df_song_year_genre.head()"
   ]
  },
  {
   "cell_type": "code",
   "execution_count": 34,
   "metadata": {},
   "outputs": [
    {
     "data": {
      "text/html": [
       "<div>\n",
       "<style>\n",
       "    .dataframe thead tr:only-child th {\n",
       "        text-align: right;\n",
       "    }\n",
       "\n",
       "    .dataframe thead th {\n",
       "        text-align: left;\n",
       "    }\n",
       "\n",
       "    .dataframe tbody tr th {\n",
       "        vertical-align: top;\n",
       "    }\n",
       "</style>\n",
       "<table border=\"1\" class=\"dataframe\">\n",
       "  <thead>\n",
       "    <tr style=\"text-align: right;\">\n",
       "      <th></th>\n",
       "      <th>year</th>\n",
       "      <th>tracks</th>\n",
       "      <th>genre</th>\n",
       "    </tr>\n",
       "  </thead>\n",
       "  <tbody>\n",
       "    <tr>\n",
       "      <th>7994</th>\n",
       "      <td>2006</td>\n",
       "      <td>8</td>\n",
       "      <td>soul and reggae</td>\n",
       "    </tr>\n",
       "    <tr>\n",
       "      <th>3982</th>\n",
       "      <td>1992</td>\n",
       "      <td>5</td>\n",
       "      <td>usa</td>\n",
       "    </tr>\n",
       "    <tr>\n",
       "      <th>3976</th>\n",
       "      <td>1992</td>\n",
       "      <td>5</td>\n",
       "      <td>grunge</td>\n",
       "    </tr>\n",
       "    <tr>\n",
       "      <th>6925</th>\n",
       "      <td>2002</td>\n",
       "      <td>5</td>\n",
       "      <td>rock and indie</td>\n",
       "    </tr>\n",
       "    <tr>\n",
       "      <th>3984</th>\n",
       "      <td>1992</td>\n",
       "      <td>5</td>\n",
       "      <td>american</td>\n",
       "    </tr>\n",
       "  </tbody>\n",
       "</table>\n",
       "</div>"
      ],
      "text/plain": [
       "      year  tracks            genre\n",
       "7994  2006       8  soul and reggae\n",
       "3982  1992       5              usa\n",
       "3976  1992       5           grunge\n",
       "6925  2002       5   rock and indie\n",
       "3984  1992       5         american"
      ]
     },
     "execution_count": 34,
     "metadata": {},
     "output_type": "execute_result"
    }
   ],
   "source": [
    "df_song_year_genre.sort_values([\"tracks\"], ascending=False).head()"
   ]
  },
  {
   "cell_type": "markdown",
   "metadata": {},
   "source": [
    "mb has less unique tags."
   ]
  },
  {
   "cell_type": "code",
   "execution_count": null,
   "metadata": {},
   "outputs": [],
   "source": []
  }
 ],
 "metadata": {
  "anaconda-cloud": {},
  "kernelspec": {
   "display_name": "Python [default]",
   "language": "python",
   "name": "python3"
  },
  "language_info": {
   "codemirror_mode": {
    "name": "ipython",
    "version": 3
   },
   "file_extension": ".py",
   "mimetype": "text/x-python",
   "name": "python",
   "nbconvert_exporter": "python",
   "pygments_lexer": "ipython3",
   "version": "3.6.2"
  }
 },
 "nbformat": 4,
 "nbformat_minor": 1
}
