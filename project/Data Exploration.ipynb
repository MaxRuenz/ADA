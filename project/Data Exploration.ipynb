{
 "cells": [
  {
   "cell_type": "code",
   "execution_count": 83,
   "metadata": {
    "collapsed": false
   },
   "outputs": [],
   "source": [
    "%matplotlib inline\n",
    "\n",
    "import matplotlib.pyplot as plt\n",
    "import hdf5_getters\n",
    "import sqlite3 as sq\n",
    "import os\n",
    "import pandas as pd\n",
    "from sklearn.linear_model import LinearRegression, LogisticRegression\n",
    "import urllib.request\n",
    "import json"
   ]
  },
  {
   "cell_type": "code",
   "execution_count": 28,
   "metadata": {
    "collapsed": false
   },
   "outputs": [
    {
     "name": "stdout",
     "output_type": "stream",
     "text": [
      "[ 1.          0.89793596  0.88426185  0.84262975  0.84256301  0.83239282\n",
      "  0.82577707  0.79859195  0.7431759   0.73850237  0.72505245  0.71389955\n",
      "  0.67049417  0.65697231  0.65105613  0.65105612  0.65105597  0.65105592\n",
      "  0.65105547  0.65105532  0.65105508  0.65105506  0.65105461  0.65105427\n",
      "  0.65105376  0.65104997  0.6364043   0.63334971  0.61973455  0.61889383\n",
      "  0.61419433  0.59579116  0.56220197  0.55067233  0.52897541  0.49021215\n",
      "  0.38341077]\n"
     ]
    }
   ],
   "source": [
    "h5 = hdf5_getters.open_h5_file_read(\"TRAAAAW128F429D538.h5\")\n",
    "duration = hdf5_getters.get_artist_terms_weight(h5)\n",
    "print(duration)\n"
   ]
  },
  {
   "cell_type": "markdown",
   "metadata": {},
   "source": [
    "## Additional Files"
   ]
  },
  {
   "cell_type": "markdown",
   "metadata": {},
   "source": [
    "### Releases per Year per Genre"
   ]
  },
  {
   "cell_type": "code",
   "execution_count": 29,
   "metadata": {
    "collapsed": true
   },
   "outputs": [],
   "source": [
    "def db_list_tables(path):\n",
    "    print (\"Connecting to DB at path {}\".format(path))\n",
    "    conn = sq.connect(path)\n",
    "    c = conn.cursor()\n",
    "    \n",
    "    c.execute(\"select sql from sqlite_master where type = 'table'\")\n",
    "    \n",
    "    print (\"Tables in database:\")\n",
    "    for row in c.fetchall():\n",
    "        print (row)"
   ]
  },
  {
   "cell_type": "code",
   "execution_count": 30,
   "metadata": {
    "collapsed": false
   },
   "outputs": [
    {
     "name": "stdout",
     "output_type": "stream",
     "text": [
      "Connecting to DB at path .\\AdditionalFiles\\subset_artist_term.db\n",
      "Tables in database:\n",
      "('CREATE TABLE artists (artist_id text PRIMARY KEY)',)\n",
      "('CREATE TABLE terms (term text PRIMARY KEY)',)\n",
      "('CREATE TABLE artist_term (artist_id text, term text, FOREIGN KEY(artist_id) REFERENCES artists(artist_id), FOREIGN KEY(term) REFERENCES terms(term) )',)\n",
      "('CREATE TABLE mbtags (mbtag text PRIMARY KEY)',)\n",
      "('CREATE TABLE artist_mbtag (artist_id text, mbtag text, FOREIGN KEY(artist_id) REFERENCES artists(artist_id), FOREIGN KEY(mbtag) REFERENCES mbtags(mbtag) )',)\n",
      "Connecting to DB at path .\\AdditionalFiles\\subset_artist_similarity.db\n",
      "Tables in database:\n",
      "('CREATE TABLE artists (artist_id text PRIMARY KEY)',)\n",
      "('CREATE TABLE similarity (target text, similar text, FOREIGN KEY(target) REFERENCES artists(artist_id), FOREIGN KEY(similar) REFERENCES artists(artist_id) )',)\n",
      "Connecting to DB at path .\\AdditionalFiles\\subset_track_metadata.db\n",
      "Tables in database:\n",
      "('CREATE TABLE songs (track_id text PRIMARY KEY, title text, song_id text, release text, artist_id text, artist_mbid text, artist_name text, duration real, artist_familiarity real, artist_hotttnesss real, year int)',)\n"
     ]
    }
   ],
   "source": [
    "path_artists_genres = os.path.join(\".\", \"AdditionalFiles\", \"subset_artist_term.db\")\n",
    "db_list_tables(path_artists_genres)\n",
    "\n",
    "path_artists_similarity = os.path.join(\".\", \"AdditionalFiles\", \"subset_artist_similarity.db\")\n",
    "db_list_tables(path_artists_similarity)\n",
    "\n",
    "path_track_metadata = os.path.join(\".\", \"AdditionalFiles\", \"subset_track_metadata.db\")\n",
    "db_list_tables(path_track_metadata)"
   ]
  },
  {
   "cell_type": "code",
   "execution_count": 31,
   "metadata": {
    "collapsed": false,
    "scrolled": true
   },
   "outputs": [
    {
     "name": "stdout",
     "output_type": "stream",
     "text": [
      "('ARE36MM1187B991E50', 'Blind Lemon Jefferson', 1926, 2)\n",
      "('ARE36MM1187B991E50', 'Blind Lemon Jefferson', 1927, 1)\n",
      "('ARRU9GR1187FB43F56', 'Blind Willie McTell', 1927, 1)\n",
      "('ARWQ2DR1187B98FF28', 'Ma Rainey', 1927, 1)\n",
      "('ARTDUXM1187B9899ED', 'Charley Patton', 1929, 1)\n",
      "('ARE2QID1187B98FA19', 'Sleepy John Estes', 1930, 1)\n",
      "('ARTDUXM1187B9899ED', 'Charley Patton', 1930, 1)\n",
      "('ARTDUXM1187B9899ED', 'Charlie Patton', 1934, 1)\n",
      "('ARE2QID1187B98FA19', 'Sleepy John Estes', 1935, 2)\n",
      "('AR9HABI1187FB3ACAA', 'Red Foley', 1936, 1)\n"
     ]
    }
   ],
   "source": [
    "# get number of songs per year per artist\n",
    "conn = sq.connect(path_track_metadata)\n",
    "c = conn.cursor()\n",
    "c.execute(\"\"\"SELECT artist_id, artist_name, year, count(*) as cnt\n",
    "            FROM songs\n",
    "            GROUP BY artist_id, year\n",
    "            Having year>0\n",
    "            ORDER BY year\"\"\")\n",
    "\n",
    "res_art_song_year = c.fetchall()\n",
    "for i in range(10):\n",
    "    print (res_art_song_year[i])"
   ]
  },
  {
   "cell_type": "markdown",
   "metadata": {},
   "source": [
    "#### Genre from EchoNest"
   ]
  },
  {
   "cell_type": "code",
   "execution_count": 32,
   "metadata": {
    "collapsed": false
   },
   "outputs": [
    {
     "name": "stdout",
     "output_type": "stream",
     "text": [
      "('AR009211187B989185', 'lovers rock')\n",
      "('AR009211187B989185', 'reggae')\n",
      "('AR009211187B989185', 'roots reggae')\n",
      "('AR009211187B989185', 'uk garage')\n",
      "('AR009211187B989185', 'ballad')\n"
     ]
    }
   ],
   "source": [
    "#get mapping artist genre\n",
    "conn = sq.connect(path_artists_genres)\n",
    "c = conn.cursor()\n",
    "c.execute(\"\"\"SELECT artist_id, term\n",
    "              FROM artist_term\"\"\")\n",
    "\n",
    "res_art_genre = c.fetchall()\n",
    "for i in range(5):\n",
    "    print (res_art_genre[i])"
   ]
  },
  {
   "cell_type": "code",
   "execution_count": 33,
   "metadata": {
    "collapsed": false
   },
   "outputs": [
    {
     "data": {
      "text/html": [
       "<div>\n",
       "<table border=\"1\" class=\"dataframe\">\n",
       "  <thead>\n",
       "    <tr style=\"text-align: right;\">\n",
       "      <th></th>\n",
       "      <th>artist_id</th>\n",
       "      <th>artist_name</th>\n",
       "      <th>year</th>\n",
       "      <th>tracks</th>\n",
       "    </tr>\n",
       "  </thead>\n",
       "  <tbody>\n",
       "    <tr>\n",
       "      <th>0</th>\n",
       "      <td>ARE36MM1187B991E50</td>\n",
       "      <td>Blind Lemon Jefferson</td>\n",
       "      <td>1926</td>\n",
       "      <td>2</td>\n",
       "    </tr>\n",
       "    <tr>\n",
       "      <th>1</th>\n",
       "      <td>ARE36MM1187B991E50</td>\n",
       "      <td>Blind Lemon Jefferson</td>\n",
       "      <td>1927</td>\n",
       "      <td>1</td>\n",
       "    </tr>\n",
       "    <tr>\n",
       "      <th>2</th>\n",
       "      <td>ARRU9GR1187FB43F56</td>\n",
       "      <td>Blind Willie McTell</td>\n",
       "      <td>1927</td>\n",
       "      <td>1</td>\n",
       "    </tr>\n",
       "    <tr>\n",
       "      <th>3</th>\n",
       "      <td>ARWQ2DR1187B98FF28</td>\n",
       "      <td>Ma Rainey</td>\n",
       "      <td>1927</td>\n",
       "      <td>1</td>\n",
       "    </tr>\n",
       "    <tr>\n",
       "      <th>4</th>\n",
       "      <td>ARTDUXM1187B9899ED</td>\n",
       "      <td>Charley Patton</td>\n",
       "      <td>1929</td>\n",
       "      <td>1</td>\n",
       "    </tr>\n",
       "  </tbody>\n",
       "</table>\n",
       "</div>"
      ],
      "text/plain": [
       "            artist_id            artist_name  year  tracks\n",
       "0  ARE36MM1187B991E50  Blind Lemon Jefferson  1926       2\n",
       "1  ARE36MM1187B991E50  Blind Lemon Jefferson  1927       1\n",
       "2  ARRU9GR1187FB43F56    Blind Willie McTell  1927       1\n",
       "3  ARWQ2DR1187B98FF28              Ma Rainey  1927       1\n",
       "4  ARTDUXM1187B9899ED         Charley Patton  1929       1"
      ]
     },
     "execution_count": 33,
     "metadata": {},
     "output_type": "execute_result"
    }
   ],
   "source": [
    "# merge lists: count number of songs per genre (if artist has 2 gernres, count for each one)\n",
    "df_art_song_year = pd.DataFrame(res_art_song_year)\n",
    "df_art_song_year.columns = [\"artist_id\", \"artist_name\", \"year\", \"tracks\"]\n",
    "df_art_song_year.head()"
   ]
  },
  {
   "cell_type": "code",
   "execution_count": 34,
   "metadata": {
    "collapsed": false
   },
   "outputs": [
    {
     "data": {
      "text/html": [
       "<div>\n",
       "<table border=\"1\" class=\"dataframe\">\n",
       "  <thead>\n",
       "    <tr style=\"text-align: right;\">\n",
       "      <th></th>\n",
       "      <th>artist_id</th>\n",
       "      <th>genre</th>\n",
       "    </tr>\n",
       "  </thead>\n",
       "  <tbody>\n",
       "    <tr>\n",
       "      <th>0</th>\n",
       "      <td>AR009211187B989185</td>\n",
       "      <td>lovers rock</td>\n",
       "    </tr>\n",
       "    <tr>\n",
       "      <th>1</th>\n",
       "      <td>AR009211187B989185</td>\n",
       "      <td>reggae</td>\n",
       "    </tr>\n",
       "    <tr>\n",
       "      <th>2</th>\n",
       "      <td>AR009211187B989185</td>\n",
       "      <td>roots reggae</td>\n",
       "    </tr>\n",
       "    <tr>\n",
       "      <th>3</th>\n",
       "      <td>AR009211187B989185</td>\n",
       "      <td>uk garage</td>\n",
       "    </tr>\n",
       "    <tr>\n",
       "      <th>4</th>\n",
       "      <td>AR009211187B989185</td>\n",
       "      <td>ballad</td>\n",
       "    </tr>\n",
       "  </tbody>\n",
       "</table>\n",
       "</div>"
      ],
      "text/plain": [
       "            artist_id         genre\n",
       "0  AR009211187B989185   lovers rock\n",
       "1  AR009211187B989185        reggae\n",
       "2  AR009211187B989185  roots reggae\n",
       "3  AR009211187B989185     uk garage\n",
       "4  AR009211187B989185        ballad"
      ]
     },
     "execution_count": 34,
     "metadata": {},
     "output_type": "execute_result"
    }
   ],
   "source": [
    "df_art_genre = pd.DataFrame(res_art_genre)\n",
    "df_art_genre.columns = [\"artist_id\", \"genre\"]\n",
    "df_art_genre.head()"
   ]
  },
  {
   "cell_type": "code",
   "execution_count": 35,
   "metadata": {
    "collapsed": false,
    "scrolled": true
   },
   "outputs": [
    {
     "name": "stdout",
     "output_type": "stream",
     "text": [
      "(109034, 3)\n"
     ]
    },
    {
     "data": {
      "text/html": [
       "<div>\n",
       "<table border=\"1\" class=\"dataframe\">\n",
       "  <thead>\n",
       "    <tr style=\"text-align: right;\">\n",
       "      <th></th>\n",
       "      <th>year</th>\n",
       "      <th>tracks</th>\n",
       "      <th>genre</th>\n",
       "    </tr>\n",
       "  </thead>\n",
       "  <tbody>\n",
       "    <tr>\n",
       "      <th>0</th>\n",
       "      <td>1926</td>\n",
       "      <td>2</td>\n",
       "      <td>country blues</td>\n",
       "    </tr>\n",
       "    <tr>\n",
       "      <th>1</th>\n",
       "      <td>1926</td>\n",
       "      <td>2</td>\n",
       "      <td>delta blues</td>\n",
       "    </tr>\n",
       "    <tr>\n",
       "      <th>2</th>\n",
       "      <td>1926</td>\n",
       "      <td>2</td>\n",
       "      <td>texas blues</td>\n",
       "    </tr>\n",
       "    <tr>\n",
       "      <th>3</th>\n",
       "      <td>1926</td>\n",
       "      <td>2</td>\n",
       "      <td>blues</td>\n",
       "    </tr>\n",
       "    <tr>\n",
       "      <th>4</th>\n",
       "      <td>1926</td>\n",
       "      <td>2</td>\n",
       "      <td>louisiana blues</td>\n",
       "    </tr>\n",
       "  </tbody>\n",
       "</table>\n",
       "</div>"
      ],
      "text/plain": [
       "   year  tracks            genre\n",
       "0  1926       2    country blues\n",
       "1  1926       2      delta blues\n",
       "2  1926       2      texas blues\n",
       "3  1926       2            blues\n",
       "4  1926       2  louisiana blues"
      ]
     },
     "execution_count": 35,
     "metadata": {},
     "output_type": "execute_result"
    }
   ],
   "source": [
    "df_art_song_year_genre = pd.merge(df_art_song_year, df_art_genre, on=\"artist_id\")\n",
    "\n",
    "df_song_year_genre = df_art_song_year_genre.drop(df_art_song_year_genre.columns[:2], axis=1)\n",
    "print (df_song_year_genre.shape)\n",
    "df_song_year_genre.head()"
   ]
  },
  {
   "cell_type": "code",
   "execution_count": 36,
   "metadata": {
    "collapsed": false
   },
   "outputs": [
    {
     "data": {
      "text/html": [
       "<div>\n",
       "<table border=\"1\" class=\"dataframe\">\n",
       "  <thead>\n",
       "    <tr style=\"text-align: right;\">\n",
       "      <th></th>\n",
       "      <th>year</th>\n",
       "      <th>tracks</th>\n",
       "      <th>genre</th>\n",
       "    </tr>\n",
       "  </thead>\n",
       "  <tbody>\n",
       "    <tr>\n",
       "      <th>98889</th>\n",
       "      <td>2006</td>\n",
       "      <td>8</td>\n",
       "      <td>reggae</td>\n",
       "    </tr>\n",
       "    <tr>\n",
       "      <th>98901</th>\n",
       "      <td>2006</td>\n",
       "      <td>8</td>\n",
       "      <td>soft</td>\n",
       "    </tr>\n",
       "    <tr>\n",
       "      <th>98893</th>\n",
       "      <td>2006</td>\n",
       "      <td>8</td>\n",
       "      <td>female vocalist</td>\n",
       "    </tr>\n",
       "    <tr>\n",
       "      <th>98894</th>\n",
       "      <td>2006</td>\n",
       "      <td>8</td>\n",
       "      <td>funk</td>\n",
       "    </tr>\n",
       "    <tr>\n",
       "      <th>98895</th>\n",
       "      <td>2006</td>\n",
       "      <td>8</td>\n",
       "      <td>singer-songwriter</td>\n",
       "    </tr>\n",
       "  </tbody>\n",
       "</table>\n",
       "</div>"
      ],
      "text/plain": [
       "       year  tracks              genre\n",
       "98889  2006       8             reggae\n",
       "98901  2006       8               soft\n",
       "98893  2006       8    female vocalist\n",
       "98894  2006       8               funk\n",
       "98895  2006       8  singer-songwriter"
      ]
     },
     "execution_count": 36,
     "metadata": {},
     "output_type": "execute_result"
    }
   ],
   "source": [
    "df_song_year_genre.sort_values([\"tracks\"], ascending=False).head()"
   ]
  },
  {
   "cell_type": "markdown",
   "metadata": {},
   "source": [
    "#### Genre from mb"
   ]
  },
  {
   "cell_type": "code",
   "execution_count": 37,
   "metadata": {
    "collapsed": false
   },
   "outputs": [
    {
     "name": "stdout",
     "output_type": "stream",
     "text": [
      "('AR00A6H1187FB5402A', 'detroit')\n",
      "('AR00A6H1187FB5402A', 'punk')\n",
      "('AR00A6H1187FB5402A', 'michigan')\n",
      "('AR00A6H1187FB5402A', 'usa')\n",
      "('AR01VU31187B997DA0', 'hard rock')\n"
     ]
    }
   ],
   "source": [
    "#get mapping artist genre\n",
    "conn = sq.connect(path_artists_genres)\n",
    "c = conn.cursor()\n",
    "c.execute(\"\"\"SELECT artist_id, mbtag\n",
    "              FROM artist_mbtag\"\"\")\n",
    "\n",
    "res_art_genre = c.fetchall()\n",
    "for i in range(5):\n",
    "    print (res_art_genre[i])"
   ]
  },
  {
   "cell_type": "code",
   "execution_count": 38,
   "metadata": {
    "collapsed": false
   },
   "outputs": [
    {
     "data": {
      "text/html": [
       "<div>\n",
       "<table border=\"1\" class=\"dataframe\">\n",
       "  <thead>\n",
       "    <tr style=\"text-align: right;\">\n",
       "      <th></th>\n",
       "      <th>artist_id</th>\n",
       "      <th>artist_name</th>\n",
       "      <th>year</th>\n",
       "      <th>tracks</th>\n",
       "    </tr>\n",
       "  </thead>\n",
       "  <tbody>\n",
       "    <tr>\n",
       "      <th>0</th>\n",
       "      <td>ARE36MM1187B991E50</td>\n",
       "      <td>Blind Lemon Jefferson</td>\n",
       "      <td>1926</td>\n",
       "      <td>2</td>\n",
       "    </tr>\n",
       "    <tr>\n",
       "      <th>1</th>\n",
       "      <td>ARE36MM1187B991E50</td>\n",
       "      <td>Blind Lemon Jefferson</td>\n",
       "      <td>1927</td>\n",
       "      <td>1</td>\n",
       "    </tr>\n",
       "    <tr>\n",
       "      <th>2</th>\n",
       "      <td>ARRU9GR1187FB43F56</td>\n",
       "      <td>Blind Willie McTell</td>\n",
       "      <td>1927</td>\n",
       "      <td>1</td>\n",
       "    </tr>\n",
       "    <tr>\n",
       "      <th>3</th>\n",
       "      <td>ARWQ2DR1187B98FF28</td>\n",
       "      <td>Ma Rainey</td>\n",
       "      <td>1927</td>\n",
       "      <td>1</td>\n",
       "    </tr>\n",
       "    <tr>\n",
       "      <th>4</th>\n",
       "      <td>ARTDUXM1187B9899ED</td>\n",
       "      <td>Charley Patton</td>\n",
       "      <td>1929</td>\n",
       "      <td>1</td>\n",
       "    </tr>\n",
       "  </tbody>\n",
       "</table>\n",
       "</div>"
      ],
      "text/plain": [
       "            artist_id            artist_name  year  tracks\n",
       "0  ARE36MM1187B991E50  Blind Lemon Jefferson  1926       2\n",
       "1  ARE36MM1187B991E50  Blind Lemon Jefferson  1927       1\n",
       "2  ARRU9GR1187FB43F56    Blind Willie McTell  1927       1\n",
       "3  ARWQ2DR1187B98FF28              Ma Rainey  1927       1\n",
       "4  ARTDUXM1187B9899ED         Charley Patton  1929       1"
      ]
     },
     "execution_count": 38,
     "metadata": {},
     "output_type": "execute_result"
    }
   ],
   "source": [
    "# merge lists: count number of songs per genre (if artist has 2 gernres, count for each one)\n",
    "df_art_song_year = pd.DataFrame(res_art_song_year)\n",
    "df_art_song_year.columns = [\"artist_id\", \"artist_name\", \"year\", \"tracks\"]\n",
    "df_art_song_year.head()"
   ]
  },
  {
   "cell_type": "code",
   "execution_count": 39,
   "metadata": {
    "collapsed": false
   },
   "outputs": [
    {
     "data": {
      "text/html": [
       "<div>\n",
       "<table border=\"1\" class=\"dataframe\">\n",
       "  <thead>\n",
       "    <tr style=\"text-align: right;\">\n",
       "      <th></th>\n",
       "      <th>artist_id</th>\n",
       "      <th>genre</th>\n",
       "    </tr>\n",
       "  </thead>\n",
       "  <tbody>\n",
       "    <tr>\n",
       "      <th>0</th>\n",
       "      <td>AR00A6H1187FB5402A</td>\n",
       "      <td>detroit</td>\n",
       "    </tr>\n",
       "    <tr>\n",
       "      <th>1</th>\n",
       "      <td>AR00A6H1187FB5402A</td>\n",
       "      <td>punk</td>\n",
       "    </tr>\n",
       "    <tr>\n",
       "      <th>2</th>\n",
       "      <td>AR00A6H1187FB5402A</td>\n",
       "      <td>michigan</td>\n",
       "    </tr>\n",
       "    <tr>\n",
       "      <th>3</th>\n",
       "      <td>AR00A6H1187FB5402A</td>\n",
       "      <td>usa</td>\n",
       "    </tr>\n",
       "    <tr>\n",
       "      <th>4</th>\n",
       "      <td>AR01VU31187B997DA0</td>\n",
       "      <td>hard rock</td>\n",
       "    </tr>\n",
       "  </tbody>\n",
       "</table>\n",
       "</div>"
      ],
      "text/plain": [
       "            artist_id      genre\n",
       "0  AR00A6H1187FB5402A    detroit\n",
       "1  AR00A6H1187FB5402A       punk\n",
       "2  AR00A6H1187FB5402A   michigan\n",
       "3  AR00A6H1187FB5402A        usa\n",
       "4  AR01VU31187B997DA0  hard rock"
      ]
     },
     "execution_count": 39,
     "metadata": {},
     "output_type": "execute_result"
    }
   ],
   "source": [
    "df_art_genre = pd.DataFrame(res_art_genre)\n",
    "df_art_genre.columns = [\"artist_id\", \"genre\"]\n",
    "df_art_genre.head()"
   ]
  },
  {
   "cell_type": "code",
   "execution_count": 40,
   "metadata": {
    "collapsed": false
   },
   "outputs": [
    {
     "name": "stdout",
     "output_type": "stream",
     "text": [
      "(8366, 3)\n"
     ]
    },
    {
     "data": {
      "text/html": [
       "<div>\n",
       "<table border=\"1\" class=\"dataframe\">\n",
       "  <thead>\n",
       "    <tr style=\"text-align: right;\">\n",
       "      <th></th>\n",
       "      <th>year</th>\n",
       "      <th>tracks</th>\n",
       "      <th>genre</th>\n",
       "    </tr>\n",
       "  </thead>\n",
       "  <tbody>\n",
       "    <tr>\n",
       "      <th>0</th>\n",
       "      <td>1926</td>\n",
       "      <td>2</td>\n",
       "      <td>blues</td>\n",
       "    </tr>\n",
       "    <tr>\n",
       "      <th>1</th>\n",
       "      <td>1926</td>\n",
       "      <td>2</td>\n",
       "      <td>american</td>\n",
       "    </tr>\n",
       "    <tr>\n",
       "      <th>2</th>\n",
       "      <td>1927</td>\n",
       "      <td>1</td>\n",
       "      <td>blues</td>\n",
       "    </tr>\n",
       "    <tr>\n",
       "      <th>3</th>\n",
       "      <td>1927</td>\n",
       "      <td>1</td>\n",
       "      <td>american</td>\n",
       "    </tr>\n",
       "    <tr>\n",
       "      <th>4</th>\n",
       "      <td>1972</td>\n",
       "      <td>1</td>\n",
       "      <td>blues</td>\n",
       "    </tr>\n",
       "  </tbody>\n",
       "</table>\n",
       "</div>"
      ],
      "text/plain": [
       "   year  tracks     genre\n",
       "0  1926       2     blues\n",
       "1  1926       2  american\n",
       "2  1927       1     blues\n",
       "3  1927       1  american\n",
       "4  1972       1     blues"
      ]
     },
     "execution_count": 40,
     "metadata": {},
     "output_type": "execute_result"
    }
   ],
   "source": [
    "df_art_song_year_genre = pd.merge(df_art_song_year, df_art_genre, on=\"artist_id\")\n",
    "\n",
    "df_song_year_genre = df_art_song_year_genre.drop(df_art_song_year_genre.columns[:2], axis=1)\n",
    "print (df_song_year_genre.shape)\n",
    "df_song_year_genre.head()"
   ]
  },
  {
   "cell_type": "code",
   "execution_count": 41,
   "metadata": {
    "collapsed": false
   },
   "outputs": [
    {
     "data": {
      "text/html": [
       "<div>\n",
       "<table border=\"1\" class=\"dataframe\">\n",
       "  <thead>\n",
       "    <tr style=\"text-align: right;\">\n",
       "      <th></th>\n",
       "      <th>year</th>\n",
       "      <th>tracks</th>\n",
       "      <th>genre</th>\n",
       "    </tr>\n",
       "  </thead>\n",
       "  <tbody>\n",
       "    <tr>\n",
       "      <th>7994</th>\n",
       "      <td>2006</td>\n",
       "      <td>8</td>\n",
       "      <td>soul and reggae</td>\n",
       "    </tr>\n",
       "    <tr>\n",
       "      <th>3982</th>\n",
       "      <td>1992</td>\n",
       "      <td>5</td>\n",
       "      <td>usa</td>\n",
       "    </tr>\n",
       "    <tr>\n",
       "      <th>3976</th>\n",
       "      <td>1992</td>\n",
       "      <td>5</td>\n",
       "      <td>grunge</td>\n",
       "    </tr>\n",
       "    <tr>\n",
       "      <th>6925</th>\n",
       "      <td>2002</td>\n",
       "      <td>5</td>\n",
       "      <td>rock and indie</td>\n",
       "    </tr>\n",
       "    <tr>\n",
       "      <th>3984</th>\n",
       "      <td>1992</td>\n",
       "      <td>5</td>\n",
       "      <td>american</td>\n",
       "    </tr>\n",
       "  </tbody>\n",
       "</table>\n",
       "</div>"
      ],
      "text/plain": [
       "      year  tracks            genre\n",
       "7994  2006       8  soul and reggae\n",
       "3982  1992       5              usa\n",
       "3976  1992       5           grunge\n",
       "6925  2002       5   rock and indie\n",
       "3984  1992       5         american"
      ]
     },
     "execution_count": 41,
     "metadata": {},
     "output_type": "execute_result"
    }
   ],
   "source": [
    "df_song_year_genre.sort_values([\"tracks\"], ascending=False).head()"
   ]
  },
  {
   "cell_type": "markdown",
   "metadata": {},
   "source": [
    "mb has less unique tags."
   ]
  },
  {
   "cell_type": "markdown",
   "metadata": {},
   "source": [
    "# Try to iterate over all songs"
   ]
  },
  {
   "cell_type": "markdown",
   "metadata": {},
   "source": [
    "For the moment we try some methods on the local set we have, then it'll be run on cluster, but to test it is much easier locally on the subset"
   ]
  },
  {
   "cell_type": "code",
   "execution_count": 42,
   "metadata": {
    "collapsed": true
   },
   "outputs": [],
   "source": [
    "import os\n",
    "import glob\n",
    "def count_all_files(basedir,ext='.h5') :\n",
    "    cnt = 0\n",
    "    for root, dirs, files in os.walk(basedir):\n",
    "        files = glob.glob(os.path.join(root,'*'+ext))\n",
    "        cnt += len(files)\n",
    "    return cnt"
   ]
  },
  {
   "cell_type": "code",
   "execution_count": 43,
   "metadata": {
    "collapsed": false
   },
   "outputs": [
    {
     "data": {
      "text/plain": [
       "10000"
      ]
     },
     "execution_count": 43,
     "metadata": {},
     "output_type": "execute_result"
    }
   ],
   "source": [
    "local_path = 'C:/Users/Max-Pc/Downloads/millionsongsubset_full/MillionSongSubset/data'\n",
    "count_all_files(local_path)"
   ]
  },
  {
   "cell_type": "code",
   "execution_count": 44,
   "metadata": {
    "collapsed": false
   },
   "outputs": [],
   "source": [
    "def get_all_titles(basedir,ext='.h5') :\n",
    "    titles = []\n",
    "    iteration = 0\n",
    "    for root, dirs, files in os.walk(basedir):\n",
    "        files = glob.glob(os.path.join(root,'*'+ext))\n",
    "        for f in files:\n",
    "            h5 = hdf5_getters.open_h5_file_read(f)\n",
    "            titles.append( hdf5_getters.get_title(h5))\n",
    "            h5.close()\n",
    "            iteration+=1\n",
    "            if(iteration%1000== 0):\n",
    "                print(iteration)\n",
    "    return titles"
   ]
  },
  {
   "cell_type": "code",
   "execution_count": 45,
   "metadata": {
    "collapsed": true
   },
   "outputs": [],
   "source": [
    "def get_all_interesting_data(basedir,ext='.h5') :\n",
    "    datas = []\n",
    "    iteration = 0\n",
    "    for root, dirs, files in os.walk(basedir):\n",
    "        files = glob.glob(os.path.join(root,'*'+ext))\n",
    "        for f in files:\n",
    "            oneSongData = []\n",
    "            h5 = hdf5_getters.open_h5_file_read(f)\n",
    "            oneSongData.append( hdf5_getters.get_artist_id(h5))\n",
    "            oneSongData.append(hdf5_getters.get_artist_name(h5))\n",
    "            oneSongData.append(hdf5_getters.get_year(h5))\n",
    "            oneSongData.append(hdf5_getters.get_danceability(h5)) #always zero\n",
    "            oneSongData.append(hdf5_getters.get_duration(h5))\n",
    "            oneSongData.append(hdf5_getters.get_song_hotttnesss(h5))\n",
    "            oneSongData.append(hdf5_getters.get_title)\n",
    "            oneSongData.append(hdf5_getters.get_tempo(h5))\n",
    "            oneSongData.append(hdf5_getters.get_time_signature(h5))\n",
    "            oneSongData.append(hdf5_getters.get_time_signature_confidence(h5))\n",
    "            oneSongData.append(hdf5_getters.get_artist_mbtags(h5))\n",
    "            oneSongData.append(hdf5_getters.get_artist_terms(h5))\n",
    "            oneSongData.append(hdf5_getters.get_artist_location(h5))\n",
    "            oneSongData.append(hdf5_getters.get_artist_latitude(h5))\n",
    "            oneSongData.append(hdf5_getters.get_artist_longitude(h5))\n",
    "            h5.close()\n",
    "            iteration+=1\n",
    "            if(iteration%1000== 0):\n",
    "                print(iteration)\n",
    "            datas.append(oneSongData)\n",
    "    return datas"
   ]
  },
  {
   "cell_type": "code",
   "execution_count": 46,
   "metadata": {
    "collapsed": false
   },
   "outputs": [
    {
     "name": "stdout",
     "output_type": "stream",
     "text": [
      "1000\n",
      "2000\n",
      "3000\n",
      "4000\n",
      "5000\n",
      "6000\n",
      "7000\n",
      "8000\n",
      "9000\n",
      "10000\n"
     ]
    }
   ],
   "source": [
    "datas = get_all_interesting_data(local_path)"
   ]
  },
  {
   "cell_type": "code",
   "execution_count": 47,
   "metadata": {
    "collapsed": false
   },
   "outputs": [],
   "source": [
    "\n",
    "df = pd.DataFrame(datas,columns=['ArtistID','ArtistName','SongYear','SongDanceability','Duration','SongHotness','SongTitle','SongTempo','SongTimeSignature','SongTimeSignatureConfidence','ArtistMbtags','ArtistTerms','ArtistLocation','ArtistLatitude','ArtistLongitude'])"
   ]
  },
  {
   "cell_type": "code",
   "execution_count": 57,
   "metadata": {
    "collapsed": false
   },
   "outputs": [
    {
     "name": "stderr",
     "output_type": "stream",
     "text": [
      "C:\\Users\\Max-Pc\\Anaconda3\\lib\\site-packages\\numpy\\lib\\function_base.py:3834: RuntimeWarning: Invalid value encountered in percentile\n",
      "  RuntimeWarning)\n"
     ]
    },
    {
     "data": {
      "text/html": [
       "<div>\n",
       "<table border=\"1\" class=\"dataframe\">\n",
       "  <thead>\n",
       "    <tr style=\"text-align: right;\">\n",
       "      <th></th>\n",
       "      <th>SongYear</th>\n",
       "      <th>SongDanceability</th>\n",
       "      <th>Duration</th>\n",
       "      <th>SongHotness</th>\n",
       "      <th>SongTempo</th>\n",
       "      <th>SongTimeSignature</th>\n",
       "      <th>SongTimeSignatureConfidence</th>\n",
       "      <th>ArtistLatitude</th>\n",
       "      <th>ArtistLongitude</th>\n",
       "    </tr>\n",
       "  </thead>\n",
       "  <tbody>\n",
       "    <tr>\n",
       "      <th>count</th>\n",
       "      <td>4680.000000</td>\n",
       "      <td>4680.0</td>\n",
       "      <td>4680.000000</td>\n",
       "      <td>3064.000000</td>\n",
       "      <td>4680.000000</td>\n",
       "      <td>4680.000000</td>\n",
       "      <td>4680.000000</td>\n",
       "      <td>1825.000000</td>\n",
       "      <td>1825.000000</td>\n",
       "    </tr>\n",
       "    <tr>\n",
       "      <th>mean</th>\n",
       "      <td>1997.232051</td>\n",
       "      <td>0.0</td>\n",
       "      <td>238.781146</td>\n",
       "      <td>0.444377</td>\n",
       "      <td>125.163716</td>\n",
       "      <td>3.586111</td>\n",
       "      <td>0.510216</td>\n",
       "      <td>37.501760</td>\n",
       "      <td>-61.772744</td>\n",
       "    </tr>\n",
       "    <tr>\n",
       "      <th>std</th>\n",
       "      <td>11.686691</td>\n",
       "      <td>0.0</td>\n",
       "      <td>101.345438</td>\n",
       "      <td>0.222470</td>\n",
       "      <td>35.272251</td>\n",
       "      <td>1.240247</td>\n",
       "      <td>0.375063</td>\n",
       "      <td>16.273911</td>\n",
       "      <td>51.525675</td>\n",
       "    </tr>\n",
       "    <tr>\n",
       "      <th>min</th>\n",
       "      <td>1926.000000</td>\n",
       "      <td>0.0</td>\n",
       "      <td>1.044440</td>\n",
       "      <td>0.000000</td>\n",
       "      <td>0.000000</td>\n",
       "      <td>0.000000</td>\n",
       "      <td>0.000000</td>\n",
       "      <td>-41.280540</td>\n",
       "      <td>-155.434140</td>\n",
       "    </tr>\n",
       "    <tr>\n",
       "      <th>25%</th>\n",
       "      <td>1993.000000</td>\n",
       "      <td>0.0</td>\n",
       "      <td>181.152200</td>\n",
       "      <td>NaN</td>\n",
       "      <td>98.698500</td>\n",
       "      <td>3.000000</td>\n",
       "      <td>0.089000</td>\n",
       "      <td>NaN</td>\n",
       "      <td>NaN</td>\n",
       "    </tr>\n",
       "    <tr>\n",
       "      <th>50%</th>\n",
       "      <td>2001.000000</td>\n",
       "      <td>0.0</td>\n",
       "      <td>227.382400</td>\n",
       "      <td>NaN</td>\n",
       "      <td>122.226500</td>\n",
       "      <td>4.000000</td>\n",
       "      <td>0.553000</td>\n",
       "      <td>NaN</td>\n",
       "      <td>NaN</td>\n",
       "    </tr>\n",
       "    <tr>\n",
       "      <th>75%</th>\n",
       "      <td>2006.000000</td>\n",
       "      <td>0.0</td>\n",
       "      <td>278.406080</td>\n",
       "      <td>NaN</td>\n",
       "      <td>146.572000</td>\n",
       "      <td>4.000000</td>\n",
       "      <td>0.868000</td>\n",
       "      <td>NaN</td>\n",
       "      <td>NaN</td>\n",
       "    </tr>\n",
       "    <tr>\n",
       "      <th>max</th>\n",
       "      <td>2010.000000</td>\n",
       "      <td>0.0</td>\n",
       "      <td>1598.197100</td>\n",
       "      <td>1.000000</td>\n",
       "      <td>258.677000</td>\n",
       "      <td>7.000000</td>\n",
       "      <td>1.000000</td>\n",
       "      <td>69.651020</td>\n",
       "      <td>174.767140</td>\n",
       "    </tr>\n",
       "  </tbody>\n",
       "</table>\n",
       "</div>"
      ],
      "text/plain": [
       "          SongYear  SongDanceability     Duration  SongHotness    SongTempo  \\\n",
       "count  4680.000000            4680.0  4680.000000  3064.000000  4680.000000   \n",
       "mean   1997.232051               0.0   238.781146     0.444377   125.163716   \n",
       "std      11.686691               0.0   101.345438     0.222470    35.272251   \n",
       "min    1926.000000               0.0     1.044440     0.000000     0.000000   \n",
       "25%    1993.000000               0.0   181.152200          NaN    98.698500   \n",
       "50%    2001.000000               0.0   227.382400          NaN   122.226500   \n",
       "75%    2006.000000               0.0   278.406080          NaN   146.572000   \n",
       "max    2010.000000               0.0  1598.197100     1.000000   258.677000   \n",
       "\n",
       "       SongTimeSignature  SongTimeSignatureConfidence  ArtistLatitude  \\\n",
       "count        4680.000000                  4680.000000     1825.000000   \n",
       "mean            3.586111                     0.510216       37.501760   \n",
       "std             1.240247                     0.375063       16.273911   \n",
       "min             0.000000                     0.000000      -41.280540   \n",
       "25%             3.000000                     0.089000             NaN   \n",
       "50%             4.000000                     0.553000             NaN   \n",
       "75%             4.000000                     0.868000             NaN   \n",
       "max             7.000000                     1.000000       69.651020   \n",
       "\n",
       "       ArtistLongitude  \n",
       "count      1825.000000  \n",
       "mean        -61.772744  \n",
       "std          51.525675  \n",
       "min        -155.434140  \n",
       "25%                NaN  \n",
       "50%                NaN  \n",
       "75%                NaN  \n",
       "max         174.767140  "
      ]
     },
     "execution_count": 57,
     "metadata": {},
     "output_type": "execute_result"
    }
   ],
   "source": [
    "df = df[df['SongYear']>0]\n",
    "df.describe()"
   ]
  },
  {
   "cell_type": "markdown",
   "metadata": {},
   "source": [
    "## Observation about DATAS\n",
    "We drop everything with no date ( or date =0), we actually see that there is no song danceability here for the substet ( double check with full dataset) \n",
    "For the duration, there is a song with duration = 1s , maybe take only ones with 60s and more, we look at song with more than  minutes, and ones with less than minutes, we consider dropping them.\n",
    "\n",
    "For songHotness plot and should keep NaN for the moment, or at leasdt put them at 0\n",
    "\n",
    "For Tempo, some really high , really few at 0, look at this a little more maybe\n",
    "\n",
    "For Songsig , discrete number of beats by bar, the confidence is also plotted , lot of 0 and 1 but same depends on the question we ask ourselves.\n",
    "\n",
    "For the tags, mbtags are not that specifics and lot are empty, while echonest terms are really specifics , we have found a hierachy for genre from here : http://musicmap.info/master-genrelist.json\n",
    "Look really nice and can group in more categorical genre.\n",
    "\n",
    "Popularity on spotify can be fetched ( between 0-100), number not limited, just get a  429 code return and need to wait a dynamically assigned time. We can also try to fetch all the ID's in 1 request.\n"
   ]
  },
  {
   "cell_type": "code",
   "execution_count": 72,
   "metadata": {
    "collapsed": false
   },
   "outputs": [
    {
     "name": "stdout",
     "output_type": "stream",
     "text": [
      "(35, 15)\n",
      "(73, 15)\n"
     ]
    },
    {
     "data": {
      "image/png": "[encoded data removed]",
      "text/plain": [
       "<matplotlib.figure.Figure at 0x1b717919898>"
      ]
     },
     "metadata": {},
     "output_type": "display_data"
    }
   ],
   "source": [
    "df.Duration.plot(kind='hist',bins=50)\n",
    "print(df[df['Duration']>600].shape)\n",
    "print(df[df['Duration']<60].shape)"
   ]
  },
  {
   "cell_type": "code",
   "execution_count": 73,
   "metadata": {
    "collapsed": false
   },
   "outputs": [
    {
     "data": {
      "text/plain": [
       "<matplotlib.axes._subplots.AxesSubplot at 0x1b715c46e48>"
      ]
     },
     "execution_count": 73,
     "metadata": {},
     "output_type": "execute_result"
    },
    {
     "data": {
      "image/png": "[encoded data removed]",
      "text/plain": [
       "<matplotlib.figure.Figure at 0x1b7178b8d68>"
      ]
     },
     "metadata": {},
     "output_type": "display_data"
    }
   ],
   "source": [
    "df.SongHotness.plot(kind='hist')"
   ]
  },
  {
   "cell_type": "code",
   "execution_count": 74,
   "metadata": {
    "collapsed": false
   },
   "outputs": [
    {
     "data": {
      "text/plain": [
       "<matplotlib.axes._subplots.AxesSubplot at 0x1b717795400>"
      ]
     },
     "execution_count": 74,
     "metadata": {},
     "output_type": "execute_result"
    },
    {
     "data": {
      "image/png": "[encoded data removed]",
      "text/plain": [
       "<matplotlib.figure.Figure at 0x1b717964438>"
      ]
     },
     "metadata": {},
     "output_type": "display_data"
    }
   ],
   "source": [
    "df.SongTempo.plot(kind='hist')"
   ]
  },
  {
   "cell_type": "code",
   "execution_count": 75,
   "metadata": {
    "collapsed": false
   },
   "outputs": [
    {
     "data": {
      "text/plain": [
       "<matplotlib.axes._subplots.AxesSubplot at 0x1b717596160>"
      ]
     },
     "execution_count": 75,
     "metadata": {},
     "output_type": "execute_result"
    },
    {
     "data": {
      "image/png": "[encoded data removed]",
      "text/plain": [
       "<matplotlib.figure.Figure at 0x1b717648c18>"
      ]
     },
     "metadata": {},
     "output_type": "display_data"
    }
   ],
   "source": [
    "df.SongTimeSignature.plot(kind='hist')"
   ]
  },
  {
   "cell_type": "code",
   "execution_count": 76,
   "metadata": {
    "collapsed": false
   },
   "outputs": [
    {
     "data": {
      "text/plain": [
       "<matplotlib.axes._subplots.AxesSubplot at 0x1b717885d30>"
      ]
     },
     "execution_count": 76,
     "metadata": {},
     "output_type": "execute_result"
    },
    {
     "data": {
      "image/png": "[encoded data removed]",
      "text/plain": [
       "<matplotlib.figure.Figure at 0x1b717899390>"
      ]
     },
     "metadata": {},
     "output_type": "display_data"
    }
   ],
   "source": [
    "df.SongTimeSignatureConfidence.plot(kind='hist')"
   ]
  },
  {
   "cell_type": "code",
   "execution_count": 81,
   "metadata": {
    "collapsed": false
   },
   "outputs": [
    {
     "data": {
      "text/plain": [
       "1       [b'blue-eyed soul', b'pop rock', b'blues-rock'...\n",
       "3       [b'pop rock', b'new wave', b'dance rock', b'ro...\n",
       "4       [b'pop punk', b'ska punk', b'breakcore', b'alt...\n",
       "8       [b'new wave', b'progressive rock', b'space roc...\n",
       "14      [b'quiet storm', b'soft rock', b'pop', b'urban...\n",
       "15      [b'country rock', b'heartland rock', b'pop roc...\n",
       "18      [b'hard rock', b'heavy metal', b'blues-rock', ...\n",
       "23      [b'math-core', b'grindcore', b'hardcore punk',...\n",
       "24      [b'pop rock', b'soft rock', b'blues-rock', b'd...\n",
       "27      [b'filk', b'comedy', b'spoken word', b'country...\n",
       "28      [b'latin jazz', b'jazz funk', b'boogaloo', b's...\n",
       "29      [b'jump blues', b'east coast blues', b'piano b...\n",
       "30      [b'soul jazz', b'future jazz', b'smooth jazz',...\n",
       "32      [b'doo-wop', b'ballad', b'pop rock', b'rock st...\n",
       "33      [b'classic country', b'motown', b'oldies', b'r...\n",
       "35      [b'charanga', b'salsa', b'latin jazz', b'rumba...\n",
       "40      [b'gothic metal', b'deathrock', b'horror punk'...\n",
       "41      [b'ska punk', b'post-grunge', b'skacore', b'sk...\n",
       "44      [b'modern rock', b'singer-songwriter', b'folk'...\n",
       "45      [b'delta blues', b'blues-rock', b'electric blu...\n",
       "46      [b'texas blues', b'blues', b'blues-rock', b'mo...\n",
       "47      [b'blues', b'blues-rock', b'motown', b'chicago...\n",
       "48      [b'trip hop', b'indietronica', b'electro', b'n...\n",
       "49      [b'hardcore techno', b'digital hardcore', b'br...\n",
       "50      [b'glam rock', b'hard rock', b'protopunk', b\"r...\n",
       "51      [b'brazilian jazz', b'latin jazz', b'hard bop'...\n",
       "52      [b'gangster rap', b'g funk', b'hip hop', b'eas...\n",
       "53      [b'rock', b'punk', b'los angeles', b'grunge', ...\n",
       "55      [b'soft rock', b'blues-rock', b'pop rock', b'c...\n",
       "56      [b'easy listening', b'jazz funk', b'space age ...\n",
       "                              ...                        \n",
       "9918    [b'latin jazz', b'hard trance', b'free jazz', ...\n",
       "9921    [b'post-grunge', b'jungle music', b'modern roc...\n",
       "9923    [b'blues-rock', b'british blues', b'slide', b'...\n",
       "9929    [b'flamenco', b'gaita', b'future jazz', b'celt...\n",
       "9937    [b'hip hop', b'rap', b'soul', b'east coast rap...\n",
       "9945    [b'instrumental pop', b'easy listening', b'cou...\n",
       "9948    [b'rock', b'alternative', b'rave', b'disco', b...\n",
       "9950    [b'los angeles', b'chill-out', b'broken beat',...\n",
       "9955    [b'soul jazz', b'disco', b'smooth jazz', b'chi...\n",
       "9956    [b'heavy metal', b'hard rock', b'hair metal', ...\n",
       "9960    [b'ccm', b'gospel', b'contemporary christian',...\n",
       "9963    [b'power pop', b\"rock 'n roll\", b'modern rock'...\n",
       "9965    [b'quiet storm', b'jazz', b'rock', b'soul', b'...\n",
       "9966    [b'post-grunge', b'pop rock', b'jungle music',...\n",
       "9967    [b'ccm', b'christian rock', b'christian hip ho...\n",
       "9968    [b'soul jazz', b'blues-rock', b'blues', b'doo-...\n",
       "9970    [b'indie rock', b'rock', b'alternative', b'ame...\n",
       "9974    [b'dance pop', b'rock', b'urban', b'adult cont...\n",
       "9978    [b'experimental pop', b'alternative hip hop', ...\n",
       "9981    [b'pop punk', b'emo', b'rock', b'punk', b'hard...\n",
       "9982    [b'lullaby', b'tango', b'latin', b'spanish', b...\n",
       "9983    [b'female vocalist', b'contemporary country', ...\n",
       "9984    [b'alternative', b'indie', b'gothic rock', b'g...\n",
       "9988    [b'doom metal', b'post rock', b'sludge metal',...\n",
       "9989    [b'post-hardcore', b'melodic metalcore', b'doo...\n",
       "9991    [b'celtic', b'future jazz', b'downtempo', b'ea...\n",
       "9994    [b'texas blues', b'country blues', b'delta blu...\n",
       "9995    [b'sympho black metal', b'black metal', b'heav...\n",
       "9996    [b'ballad', b'disco', b'northern soul', b'chan...\n",
       "9999    [b'christian rock', b'christian alternative ro...\n",
       "Name: ArtistTerms, dtype: object"
      ]
     },
     "execution_count": 81,
     "metadata": {},
     "output_type": "execute_result"
    }
   ],
   "source": [
    "df.ArtistTerms"
   ]
  },
  {
   "cell_type": "code",
   "execution_count": 93,
   "metadata": {
    "collapsed": false
   },
   "outputs": [],
   "source": [
    "with urllib.request.urlopen('http://musicmap.info/master-genrelist.json') as url:\n",
    "    data = json.loads(url.read().decode())"
   ]
  },
  {
   "cell_type": "code",
   "execution_count": null,
   "metadata": {
    "collapsed": true
   },
   "outputs": [],
   "source": []
  }
 ],
 "metadata": {
  "anaconda-cloud": {},
  "kernelspec": {
   "display_name": "Python [Root]",
   "language": "python",
   "name": "Python [Root]"
  },
  "language_info": {
   "codemirror_mode": {
    "name": "ipython",
    "version": 3
   },
   "file_extension": ".py",
   "mimetype": "text/x-python",
   "name": "python",
   "nbconvert_exporter": "python",
   "pygments_lexer": "ipython3",
   "version": "3.5.2"
  }
 },
 "nbformat": 4,
 "nbformat_minor": 1
}
